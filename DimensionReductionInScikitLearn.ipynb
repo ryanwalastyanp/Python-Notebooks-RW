{
 "cells": [
  {
   "cell_type": "markdown",
   "metadata": {},
   "source": [
    "### Set up the environment"
   ]
  },
  {
   "cell_type": "code",
   "execution_count": 94,
   "metadata": {
    "collapsed": true
   },
   "outputs": [],
   "source": [
    "import numpy as np, pandas as pd, seaborn as sns, matplotlib.pyplot as plt\n",
    "\n",
    "from sklearn.decomposition import PCA, FastICA, FactorAnalysis, NMF\n",
    "from sklearn.preprocessing import StandardScaler\n",
    "\n",
    "\n",
    "plt.style.use('ggplot')\n",
    "%matplotlib inline\n",
    "pd.set_option('display.float_format', lambda x: '%.2f' % x)\n",
    "np.random.seed(123)"
   ]
  },
  {
   "cell_type": "markdown",
   "metadata": {},
   "source": [
    "### Generate some artificial data\n",
    "\n",
    "Here we are creating our own viewing data. This is a great way to understand the dimension reduction process because when we generate the data we are starting with the *taste* dimensions that we will be trying to recover. In effect, we know the answer, which isn't going to be true in real life applications, but which is useful when we want to understand how things work and how well a dimension reduction process is working. First we create the viewers.,"
   ]
  },
  {
   "cell_type": "code",
   "execution_count": 95,
   "metadata": {},
   "outputs": [],
   "source": [
    "num_viewers = 10000\n",
    "num_films = 10\n",
    "\n",
    "action = np.random.beta(1,1,num_viewers) # uniform\n",
    "sci_fi = np.random.beta(0.1, 0.1,num_viewers)  # marmite\n",
    "period_drama = np.random.beta(2, 2,num_viewers) # no strong opinion"
   ]
  },
  {
   "cell_type": "markdown",
   "metadata": {},
   "source": [
    "And next the film titles"
   ]
  },
  {
   "cell_type": "code",
   "execution_count": 96,
   "metadata": {},
   "outputs": [
    {
     "name": "stdout",
     "output_type": "stream",
     "text": [
      "['cosmic zombie attack on Mars', 'blood thirsty zombie invasion IV', 'cosmic zombie from outer space IV', 'evil space zebra from outer space III', 'evil space zebra attack on Mars IV', 'blood thirsty droid attack on Mars', 'blood thirsty zombie invasion V', 'evil zombie invasion III', 'evil zombie from outer space', 'cosmic zombie invasion V', 'indolence and ecstacy III', 'luxury over paradise III', 'indolence over ecstacy', 'luxury in prejudice II', 'indolence and prejudice III', 'obstinacy in ecstacy II', 'indolence over ecstacy', 'pride and paradise II', 'luxury and prejudice IV', 'luxury in paradise', 'ultimate cop mission II', 'ultimate weapon death wish', 'unstoppable tough guy mission V', 'bad cop death wish III', 'unstoppable weapon mission III', 'fatal weapon mission', 'fatal weapon mission II', 'bad weapon in the line of fire II', 'bad weapon in the line of fire', 'unstoppable weapon in the line of fire']\n"
     ]
    }
   ],
   "source": [
    "sci_fi_name_1= [\"evil\", \"metalic\", \"cosmic\", \"blood thirsty\"]\n",
    "sci_fi_name_2= [\" droid\", \" zombie\", \" space zebra\"]\n",
    "sci_fi_name_3= [\" from outer space\", \" invasion\", \" attack on Mars\"]\n",
    "action_name_1= [\"ultimate\", \"bad\", \"fatal\", \"unstoppable\"]\n",
    "action_name_2= [\" weapon\", \" cop\", \" tough guy\"]\n",
    "action_name_3= [\" in the line of fire\", \" death wish\", \" mission\"]\n",
    "period_drama_name_1= [\"pride\", \"obstinacy\", \"indolence\", \"luxury\"]\n",
    "period_drama_name_2= [\" and\", \" in\", \" over\"]\n",
    "period_drama_name_3= [\" prejudice\", \" paradise\", \" ecstacy\"]\n",
    "sequel = [\"\", \" V\", \" II\", \" III\", \" IV\"]\n",
    "\n",
    "sci_fi_films = [np.random.choice(sci_fi_name_1) + np.random.choice(sci_fi_name_2) \n",
    "                + np.random.choice(sci_fi_name_3) + np.random.choice(sequel) for x in range(num_films)]\n",
    "period_drama_films = [np.random.choice(period_drama_name_1) + np.random.choice(period_drama_name_2) \n",
    "                      + np.random.choice(period_drama_name_3) + np.random.choice(sequel) for x in range(num_films)]\n",
    "action_films = [np.random.choice(action_name_1) + np.random.choice(action_name_2) + np.random.choice(action_name_3) \n",
    "                + np.random.choice(sequel) for x in range(num_films)]\n",
    "\n",
    "print(sci_fi_films + period_drama_films + action_films)"
   ]
  },
  {
   "cell_type": "markdown",
   "metadata": {},
   "source": [
    "We randomly assign a *quality* to each film."
   ]
  },
  {
   "cell_type": "code",
   "execution_count": 97,
   "metadata": {},
   "outputs": [],
   "source": [
    "sci_fi_rep = np.random.uniform(0, 1, num_films)\n",
    "period_drama_rep = np.random.uniform(0, 1, num_films)\n",
    "action_rep = np.random.uniform(0, 1, num_films)"
   ]
  },
  {
   "cell_type": "markdown",
   "metadata": {},
   "source": [
    "Then we use the binomial distribution to decide whether the viewer watched the film (depending of their taste and the quality of the film)"
   ]
  },
  {
   "cell_type": "code",
   "execution_count": 98,
   "metadata": {},
   "outputs": [],
   "source": [
    "action_viewing = np.transpose(np.array([[np.asscalar(np.random.binomial(1,x*y,1)) for x in action] for y in action_rep]))\n",
    "period_drama_viewing = np.transpose(np.array([[np.asscalar(np.random.binomial(1,x*y,1)) for x in period_drama] for y in period_drama_rep]))\n",
    "sci_fi_viewing = np.transpose(np.array([[np.asscalar(np.random.binomial(1,x*y,1)) for x in sci_fi] for y in sci_fi_rep]))\n",
    "viewing = np.concatenate((action_viewing, period_drama_viewing, sci_fi_viewing), axis = 1)"
   ]
  },
  {
   "cell_type": "markdown",
   "metadata": {},
   "source": [
    "And the poisson distribution to determine the minutes watched if they did see the film."
   ]
  },
  {
   "cell_type": "code",
   "execution_count": 99,
   "metadata": {},
   "outputs": [],
   "source": [
    "action_viewing_mins = np.array([np.random.poisson(x*50,num_films).tolist() for x in action])\n",
    "period_drama_viewing_mins = np.array([np.random.poisson(x*50,num_films).tolist() for x in period_drama])\n",
    "sci_fi_viewing_mins = np.array([np.random.poisson(x*50,num_films).tolist() for x in sci_fi])\n",
    "viewing_mins = np.concatenate((action_viewing_mins, period_drama_viewing_mins, sci_fi_viewing_mins), axis = 1)\n",
    "viewing = np.multiply(viewing, viewing_mins)"
   ]
  },
  {
   "cell_type": "markdown",
   "metadata": {},
   "source": [
    "We put the results together in a dataframe for inspection."
   ]
  },
  {
   "cell_type": "code",
   "execution_count": 100,
   "metadata": {},
   "outputs": [
    {
     "data": {
      "text/html": [
       "<div>\n",
       "<table border=\"1\" class=\"dataframe\">\n",
       "  <thead>\n",
       "    <tr style=\"text-align: right;\">\n",
       "      <th></th>\n",
       "      <th>cosmic zombie attack on Mars</th>\n",
       "      <th>blood thirsty zombie invasion IV</th>\n",
       "      <th>cosmic zombie from outer space IV</th>\n",
       "      <th>evil space zebra from outer space III</th>\n",
       "      <th>evil space zebra attack on Mars IV</th>\n",
       "      <th>blood thirsty droid attack on Mars</th>\n",
       "      <th>blood thirsty zombie invasion V</th>\n",
       "      <th>evil zombie invasion III</th>\n",
       "      <th>evil zombie from outer space</th>\n",
       "      <th>cosmic zombie invasion V</th>\n",
       "      <th>...</th>\n",
       "      <th>indolence and ecstacy III</th>\n",
       "      <th>luxury over paradise III</th>\n",
       "      <th>indolence over ecstacy</th>\n",
       "      <th>luxury in prejudice II</th>\n",
       "      <th>indolence and prejudice III</th>\n",
       "      <th>obstinacy in ecstacy II</th>\n",
       "      <th>indolence over ecstacy</th>\n",
       "      <th>pride and paradise II</th>\n",
       "      <th>luxury and prejudice IV</th>\n",
       "      <th>luxury in paradise</th>\n",
       "    </tr>\n",
       "  </thead>\n",
       "  <tbody>\n",
       "    <tr>\n",
       "      <th>0</th>\n",
       "      <td>0</td>\n",
       "      <td>0</td>\n",
       "      <td>0</td>\n",
       "      <td>0</td>\n",
       "      <td>0</td>\n",
       "      <td>0</td>\n",
       "      <td>0</td>\n",
       "      <td>0</td>\n",
       "      <td>0</td>\n",
       "      <td>0</td>\n",
       "      <td>...</td>\n",
       "      <td>0</td>\n",
       "      <td>0</td>\n",
       "      <td>0</td>\n",
       "      <td>0</td>\n",
       "      <td>0</td>\n",
       "      <td>0</td>\n",
       "      <td>0</td>\n",
       "      <td>0</td>\n",
       "      <td>0</td>\n",
       "      <td>0</td>\n",
       "    </tr>\n",
       "    <tr>\n",
       "      <th>1</th>\n",
       "      <td>0</td>\n",
       "      <td>0</td>\n",
       "      <td>0</td>\n",
       "      <td>0</td>\n",
       "      <td>0</td>\n",
       "      <td>0</td>\n",
       "      <td>0</td>\n",
       "      <td>0</td>\n",
       "      <td>0</td>\n",
       "      <td>0</td>\n",
       "      <td>...</td>\n",
       "      <td>0</td>\n",
       "      <td>0</td>\n",
       "      <td>0</td>\n",
       "      <td>0</td>\n",
       "      <td>0</td>\n",
       "      <td>0</td>\n",
       "      <td>0</td>\n",
       "      <td>0</td>\n",
       "      <td>0</td>\n",
       "      <td>0</td>\n",
       "    </tr>\n",
       "    <tr>\n",
       "      <th>2</th>\n",
       "      <td>0</td>\n",
       "      <td>0</td>\n",
       "      <td>0</td>\n",
       "      <td>0</td>\n",
       "      <td>0</td>\n",
       "      <td>0</td>\n",
       "      <td>0</td>\n",
       "      <td>0</td>\n",
       "      <td>0</td>\n",
       "      <td>0</td>\n",
       "      <td>...</td>\n",
       "      <td>0</td>\n",
       "      <td>0</td>\n",
       "      <td>24</td>\n",
       "      <td>0</td>\n",
       "      <td>23</td>\n",
       "      <td>0</td>\n",
       "      <td>36</td>\n",
       "      <td>0</td>\n",
       "      <td>0</td>\n",
       "      <td>0</td>\n",
       "    </tr>\n",
       "    <tr>\n",
       "      <th>3</th>\n",
       "      <td>0</td>\n",
       "      <td>0</td>\n",
       "      <td>0</td>\n",
       "      <td>53</td>\n",
       "      <td>51</td>\n",
       "      <td>0</td>\n",
       "      <td>0</td>\n",
       "      <td>0</td>\n",
       "      <td>0</td>\n",
       "      <td>0</td>\n",
       "      <td>...</td>\n",
       "      <td>0</td>\n",
       "      <td>0</td>\n",
       "      <td>0</td>\n",
       "      <td>0</td>\n",
       "      <td>0</td>\n",
       "      <td>0</td>\n",
       "      <td>0</td>\n",
       "      <td>0</td>\n",
       "      <td>0</td>\n",
       "      <td>0</td>\n",
       "    </tr>\n",
       "    <tr>\n",
       "      <th>4</th>\n",
       "      <td>0</td>\n",
       "      <td>0</td>\n",
       "      <td>0</td>\n",
       "      <td>26</td>\n",
       "      <td>22</td>\n",
       "      <td>0</td>\n",
       "      <td>0</td>\n",
       "      <td>0</td>\n",
       "      <td>0</td>\n",
       "      <td>0</td>\n",
       "      <td>...</td>\n",
       "      <td>30</td>\n",
       "      <td>47</td>\n",
       "      <td>0</td>\n",
       "      <td>0</td>\n",
       "      <td>0</td>\n",
       "      <td>37</td>\n",
       "      <td>0</td>\n",
       "      <td>0</td>\n",
       "      <td>36</td>\n",
       "      <td>0</td>\n",
       "    </tr>\n",
       "  </tbody>\n",
       "</table>\n",
       "<p>5 rows × 30 columns</p>\n",
       "</div>"
      ],
      "text/plain": [
       "   cosmic zombie attack on Mars  blood thirsty zombie invasion IV  \\\n",
       "0                             0                                 0   \n",
       "1                             0                                 0   \n",
       "2                             0                                 0   \n",
       "3                             0                                 0   \n",
       "4                             0                                 0   \n",
       "\n",
       "   cosmic zombie from outer space IV  evil space zebra from outer space III  \\\n",
       "0                                  0                                      0   \n",
       "1                                  0                                      0   \n",
       "2                                  0                                      0   \n",
       "3                                  0                                     53   \n",
       "4                                  0                                     26   \n",
       "\n",
       "   evil space zebra attack on Mars IV  blood thirsty droid attack on Mars  \\\n",
       "0                                   0                                   0   \n",
       "1                                   0                                   0   \n",
       "2                                   0                                   0   \n",
       "3                                  51                                   0   \n",
       "4                                  22                                   0   \n",
       "\n",
       "   blood thirsty zombie invasion V  evil zombie invasion III  \\\n",
       "0                                0                         0   \n",
       "1                                0                         0   \n",
       "2                                0                         0   \n",
       "3                                0                         0   \n",
       "4                                0                         0   \n",
       "\n",
       "   evil zombie from outer space  cosmic zombie invasion V         ...          \\\n",
       "0                             0                         0         ...           \n",
       "1                             0                         0         ...           \n",
       "2                             0                         0         ...           \n",
       "3                             0                         0         ...           \n",
       "4                             0                         0         ...           \n",
       "\n",
       "   indolence and ecstacy III  luxury over paradise III  \\\n",
       "0                          0                         0   \n",
       "1                          0                         0   \n",
       "2                          0                         0   \n",
       "3                          0                         0   \n",
       "4                         30                        47   \n",
       "\n",
       "   indolence over ecstacy  luxury in prejudice II  \\\n",
       "0                       0                       0   \n",
       "1                       0                       0   \n",
       "2                      24                       0   \n",
       "3                       0                       0   \n",
       "4                       0                       0   \n",
       "\n",
       "   indolence and prejudice III  obstinacy in ecstacy II  \\\n",
       "0                            0                        0   \n",
       "1                            0                        0   \n",
       "2                           23                        0   \n",
       "3                            0                        0   \n",
       "4                            0                       37   \n",
       "\n",
       "   indolence over ecstacy  pride and paradise II  luxury and prejudice IV  \\\n",
       "0                       0                      0                        0   \n",
       "1                       0                      0                        0   \n",
       "2                      36                      0                        0   \n",
       "3                       0                      0                        0   \n",
       "4                       0                      0                       36   \n",
       "\n",
       "   luxury in paradise  \n",
       "0                   0  \n",
       "1                   0  \n",
       "2                   0  \n",
       "3                   0  \n",
       "4                   0  \n",
       "\n",
       "[5 rows x 30 columns]"
      ]
     },
     "execution_count": 100,
     "metadata": {},
     "output_type": "execute_result"
    }
   ],
   "source": [
    "viewing_df = pd.DataFrame(viewing)\n",
    "viewing_df.columns = sci_fi_films + action_films + period_drama_films\n",
    "viewing_df.head()"
   ]
  },
  {
   "cell_type": "markdown",
   "metadata": {},
   "source": [
    "### Principal Component Analysis\n",
    "\n",
    "I'll take you through the theory on the whiteboard. This is how it is done in scikit-learn. First we scale the data (important since PCA works by maximising variance)."
   ]
  },
  {
   "cell_type": "code",
   "execution_count": 101,
   "metadata": {},
   "outputs": [],
   "source": [
    "scaler = StandardScaler()\n",
    "viewing_scaled = scaler.fit_transform(viewing)"
   ]
  },
  {
   "cell_type": "markdown",
   "metadata": {},
   "source": [
    "Next we set up and apply the principal component transfromation."
   ]
  },
  {
   "cell_type": "code",
   "execution_count": 102,
   "metadata": {
    "collapsed": true
   },
   "outputs": [],
   "source": [
    "pca = PCA()\n",
    "viewing_reduced = pca.fit_transform(viewing_scaled)"
   ]
  },
  {
   "cell_type": "markdown",
   "metadata": {},
   "source": [
    "Then we plot the explained variance against the number of components."
   ]
  },
  {
   "cell_type": "code",
   "execution_count": 103,
   "metadata": {},
   "outputs": [
    {
     "data": {
      "image/png": "[encoded data removed]",
      "text/plain": [
       "<matplotlib.figure.Figure at 0x11bd37950>"
      ]
     },
     "metadata": {},
     "output_type": "display_data"
    }
   ],
   "source": [
    "fig, ax = plt.subplots(figsize=(9,6))\n",
    "\n",
    "ax.plot(pca.explained_variance_ratio_.cumsum())\n",
    "ax.set_xlabel('n_components')\n",
    "ax.set_ylabel('explained_variance_ratio');"
   ]
  },
  {
   "cell_type": "markdown",
   "metadata": {},
   "source": [
    "A lot of the variance is caused by the quality of the film (and by noise) so the first 3 components only explain about 30% of the variance. Next we inspect and interpret the loadings."
   ]
  },
  {
   "cell_type": "code",
   "execution_count": 104,
   "metadata": {},
   "outputs": [
    {
     "data": {
      "text/html": [
       "<div>\n",
       "<table border=\"1\" class=\"dataframe\">\n",
       "  <thead>\n",
       "    <tr style=\"text-align: right;\">\n",
       "      <th></th>\n",
       "      <th>1</th>\n",
       "      <th>2</th>\n",
       "      <th>3</th>\n",
       "      <th>4</th>\n",
       "      <th>5</th>\n",
       "    </tr>\n",
       "  </thead>\n",
       "  <tbody>\n",
       "    <tr>\n",
       "      <th>ultimate cop mission II</th>\n",
       "      <td>-0.00</td>\n",
       "      <td>0.00</td>\n",
       "      <td>0.58</td>\n",
       "      <td>0.04</td>\n",
       "      <td>-0.07</td>\n",
       "    </tr>\n",
       "    <tr>\n",
       "      <th>ultimate weapon death wish</th>\n",
       "      <td>0.00</td>\n",
       "      <td>0.02</td>\n",
       "      <td>0.38</td>\n",
       "      <td>-0.16</td>\n",
       "      <td>0.05</td>\n",
       "    </tr>\n",
       "    <tr>\n",
       "      <th>unstoppable tough guy mission V</th>\n",
       "      <td>0.01</td>\n",
       "      <td>-0.01</td>\n",
       "      <td>0.34</td>\n",
       "      <td>0.12</td>\n",
       "      <td>0.29</td>\n",
       "    </tr>\n",
       "    <tr>\n",
       "      <th>bad cop death wish III</th>\n",
       "      <td>-0.01</td>\n",
       "      <td>0.02</td>\n",
       "      <td>0.59</td>\n",
       "      <td>0.02</td>\n",
       "      <td>-0.01</td>\n",
       "    </tr>\n",
       "    <tr>\n",
       "      <th>unstoppable weapon mission III</th>\n",
       "      <td>-0.01</td>\n",
       "      <td>0.01</td>\n",
       "      <td>0.44</td>\n",
       "      <td>0.05</td>\n",
       "      <td>-0.07</td>\n",
       "    </tr>\n",
       "    <tr>\n",
       "      <th>fatal weapon mission</th>\n",
       "      <td>0.00</td>\n",
       "      <td>-0.03</td>\n",
       "      <td>0.23</td>\n",
       "      <td>0.23</td>\n",
       "      <td>-0.07</td>\n",
       "    </tr>\n",
       "    <tr>\n",
       "      <th>fatal weapon mission II</th>\n",
       "      <td>-0.01</td>\n",
       "      <td>-0.01</td>\n",
       "      <td>0.39</td>\n",
       "      <td>-0.07</td>\n",
       "      <td>-0.11</td>\n",
       "    </tr>\n",
       "    <tr>\n",
       "      <th>bad weapon in the line of fire II</th>\n",
       "      <td>0.00</td>\n",
       "      <td>-0.00</td>\n",
       "      <td>0.22</td>\n",
       "      <td>-0.62</td>\n",
       "      <td>-0.23</td>\n",
       "    </tr>\n",
       "    <tr>\n",
       "      <th>bad weapon in the line of fire</th>\n",
       "      <td>-0.02</td>\n",
       "      <td>0.02</td>\n",
       "      <td>0.57</td>\n",
       "      <td>0.02</td>\n",
       "      <td>0.05</td>\n",
       "    </tr>\n",
       "    <tr>\n",
       "      <th>unstoppable weapon in the line of fire</th>\n",
       "      <td>-0.00</td>\n",
       "      <td>0.02</td>\n",
       "      <td>0.12</td>\n",
       "      <td>0.60</td>\n",
       "      <td>0.10</td>\n",
       "    </tr>\n",
       "    <tr>\n",
       "      <th>indolence and ecstacy III</th>\n",
       "      <td>-0.02</td>\n",
       "      <td>0.33</td>\n",
       "      <td>0.01</td>\n",
       "      <td>-0.04</td>\n",
       "      <td>-0.36</td>\n",
       "    </tr>\n",
       "    <tr>\n",
       "      <th>luxury over paradise III</th>\n",
       "      <td>0.01</td>\n",
       "      <td>0.29</td>\n",
       "      <td>-0.02</td>\n",
       "      <td>-0.04</td>\n",
       "      <td>-0.48</td>\n",
       "    </tr>\n",
       "    <tr>\n",
       "      <th>indolence over ecstacy</th>\n",
       "      <td>-0.02</td>\n",
       "      <td>0.72</td>\n",
       "      <td>0.02</td>\n",
       "      <td>-0.00</td>\n",
       "      <td>0.02</td>\n",
       "    </tr>\n",
       "    <tr>\n",
       "      <th>luxury in prejudice II</th>\n",
       "      <td>-0.02</td>\n",
       "      <td>0.42</td>\n",
       "      <td>0.00</td>\n",
       "      <td>0.18</td>\n",
       "      <td>-0.03</td>\n",
       "    </tr>\n",
       "    <tr>\n",
       "      <th>indolence and prejudice III</th>\n",
       "      <td>0.00</td>\n",
       "      <td>0.57</td>\n",
       "      <td>-0.00</td>\n",
       "      <td>-0.03</td>\n",
       "      <td>0.02</td>\n",
       "    </tr>\n",
       "    <tr>\n",
       "      <th>obstinacy in ecstacy II</th>\n",
       "      <td>-0.03</td>\n",
       "      <td>0.59</td>\n",
       "      <td>-0.02</td>\n",
       "      <td>-0.04</td>\n",
       "      <td>0.02</td>\n",
       "    </tr>\n",
       "    <tr>\n",
       "      <th>indolence over ecstacy</th>\n",
       "      <td>0.00</td>\n",
       "      <td>0.40</td>\n",
       "      <td>-0.02</td>\n",
       "      <td>-0.11</td>\n",
       "      <td>0.17</td>\n",
       "    </tr>\n",
       "    <tr>\n",
       "      <th>pride and paradise II</th>\n",
       "      <td>-0.03</td>\n",
       "      <td>0.61</td>\n",
       "      <td>0.01</td>\n",
       "      <td>0.05</td>\n",
       "      <td>0.08</td>\n",
       "    </tr>\n",
       "    <tr>\n",
       "      <th>luxury and prejudice IV</th>\n",
       "      <td>-0.01</td>\n",
       "      <td>0.30</td>\n",
       "      <td>0.00</td>\n",
       "      <td>0.00</td>\n",
       "      <td>0.27</td>\n",
       "    </tr>\n",
       "    <tr>\n",
       "      <th>luxury in paradise</th>\n",
       "      <td>-0.01</td>\n",
       "      <td>0.42</td>\n",
       "      <td>-0.01</td>\n",
       "      <td>-0.01</td>\n",
       "      <td>0.11</td>\n",
       "    </tr>\n",
       "    <tr>\n",
       "      <th>cosmic zombie attack on Mars</th>\n",
       "      <td>0.91</td>\n",
       "      <td>0.02</td>\n",
       "      <td>0.01</td>\n",
       "      <td>0.01</td>\n",
       "      <td>-0.01</td>\n",
       "    </tr>\n",
       "    <tr>\n",
       "      <th>blood thirsty zombie invasion IV</th>\n",
       "      <td>0.79</td>\n",
       "      <td>0.01</td>\n",
       "      <td>0.01</td>\n",
       "      <td>0.02</td>\n",
       "      <td>-0.01</td>\n",
       "    </tr>\n",
       "    <tr>\n",
       "      <th>cosmic zombie from outer space IV</th>\n",
       "      <td>0.80</td>\n",
       "      <td>0.01</td>\n",
       "      <td>0.00</td>\n",
       "      <td>0.01</td>\n",
       "      <td>-0.02</td>\n",
       "    </tr>\n",
       "    <tr>\n",
       "      <th>evil space zebra from outer space III</th>\n",
       "      <td>0.52</td>\n",
       "      <td>-0.00</td>\n",
       "      <td>-0.00</td>\n",
       "      <td>0.03</td>\n",
       "      <td>-0.09</td>\n",
       "    </tr>\n",
       "    <tr>\n",
       "      <th>evil space zebra attack on Mars IV</th>\n",
       "      <td>0.60</td>\n",
       "      <td>0.01</td>\n",
       "      <td>-0.00</td>\n",
       "      <td>0.03</td>\n",
       "      <td>0.03</td>\n",
       "    </tr>\n",
       "    <tr>\n",
       "      <th>blood thirsty droid attack on Mars</th>\n",
       "      <td>0.90</td>\n",
       "      <td>0.01</td>\n",
       "      <td>-0.00</td>\n",
       "      <td>0.02</td>\n",
       "      <td>-0.00</td>\n",
       "    </tr>\n",
       "    <tr>\n",
       "      <th>blood thirsty zombie invasion V</th>\n",
       "      <td>0.67</td>\n",
       "      <td>0.02</td>\n",
       "      <td>0.01</td>\n",
       "      <td>-0.01</td>\n",
       "      <td>-0.01</td>\n",
       "    </tr>\n",
       "    <tr>\n",
       "      <th>evil zombie invasion III</th>\n",
       "      <td>0.17</td>\n",
       "      <td>-0.03</td>\n",
       "      <td>0.04</td>\n",
       "      <td>-0.37</td>\n",
       "      <td>0.59</td>\n",
       "    </tr>\n",
       "    <tr>\n",
       "      <th>evil zombie from outer space</th>\n",
       "      <td>0.88</td>\n",
       "      <td>0.01</td>\n",
       "      <td>0.00</td>\n",
       "      <td>0.01</td>\n",
       "      <td>-0.01</td>\n",
       "    </tr>\n",
       "    <tr>\n",
       "      <th>cosmic zombie invasion V</th>\n",
       "      <td>0.76</td>\n",
       "      <td>0.01</td>\n",
       "      <td>0.00</td>\n",
       "      <td>-0.01</td>\n",
       "      <td>-0.02</td>\n",
       "    </tr>\n",
       "  </tbody>\n",
       "</table>\n",
       "</div>"
      ],
      "text/plain": [
       "                                           1     2     3     4     5\n",
       "ultimate cop mission II                -0.00  0.00  0.58  0.04 -0.07\n",
       "ultimate weapon death wish              0.00  0.02  0.38 -0.16  0.05\n",
       "unstoppable tough guy mission V         0.01 -0.01  0.34  0.12  0.29\n",
       "bad cop death wish III                 -0.01  0.02  0.59  0.02 -0.01\n",
       "unstoppable weapon mission III         -0.01  0.01  0.44  0.05 -0.07\n",
       "fatal weapon mission                    0.00 -0.03  0.23  0.23 -0.07\n",
       "fatal weapon mission II                -0.01 -0.01  0.39 -0.07 -0.11\n",
       "bad weapon in the line of fire II       0.00 -0.00  0.22 -0.62 -0.23\n",
       "bad weapon in the line of fire         -0.02  0.02  0.57  0.02  0.05\n",
       "unstoppable weapon in the line of fire -0.00  0.02  0.12  0.60  0.10\n",
       "indolence and ecstacy III              -0.02  0.33  0.01 -0.04 -0.36\n",
       "luxury over paradise III                0.01  0.29 -0.02 -0.04 -0.48\n",
       "indolence over ecstacy                 -0.02  0.72  0.02 -0.00  0.02\n",
       "luxury in prejudice II                 -0.02  0.42  0.00  0.18 -0.03\n",
       "indolence and prejudice III             0.00  0.57 -0.00 -0.03  0.02\n",
       "obstinacy in ecstacy II                -0.03  0.59 -0.02 -0.04  0.02\n",
       "indolence over ecstacy                  0.00  0.40 -0.02 -0.11  0.17\n",
       "pride and paradise II                  -0.03  0.61  0.01  0.05  0.08\n",
       "luxury and prejudice IV                -0.01  0.30  0.00  0.00  0.27\n",
       "luxury in paradise                     -0.01  0.42 -0.01 -0.01  0.11\n",
       "cosmic zombie attack on Mars            0.91  0.02  0.01  0.01 -0.01\n",
       "blood thirsty zombie invasion IV        0.79  0.01  0.01  0.02 -0.01\n",
       "cosmic zombie from outer space IV       0.80  0.01  0.00  0.01 -0.02\n",
       "evil space zebra from outer space III   0.52 -0.00 -0.00  0.03 -0.09\n",
       "evil space zebra attack on Mars IV      0.60  0.01 -0.00  0.03  0.03\n",
       "blood thirsty droid attack on Mars      0.90  0.01 -0.00  0.02 -0.00\n",
       "blood thirsty zombie invasion V         0.67  0.02  0.01 -0.01 -0.01\n",
       "evil zombie invasion III                0.17 -0.03  0.04 -0.37  0.59\n",
       "evil zombie from outer space            0.88  0.01  0.00  0.01 -0.01\n",
       "cosmic zombie invasion V                0.76  0.01  0.00 -0.01 -0.02"
      ]
     },
     "execution_count": 104,
     "metadata": {},
     "output_type": "execute_result"
    }
   ],
   "source": [
    "loadings_array = pca.components_.T * np.sqrt(pca.explained_variance_)\n",
    "loadings = pd.DataFrame(loadings_array.T)\n",
    "loadings.columns = action_films + period_drama_films + sci_fi_films\n",
    "loadings.index = loadings.index+1\n",
    "loadings.head().transpose()"
   ]
  },
  {
   "cell_type": "markdown",
   "metadata": {},
   "source": [
    "It is useful to do this with a heatmap"
   ]
  },
  {
   "cell_type": "code",
   "execution_count": 105,
   "metadata": {},
   "outputs": [
    {
     "data": {
      "image/png": "[encoded data removed]",
      "text/plain": [
       "<matplotlib.figure.Figure at 0x11bd374d0>"
      ]
     },
     "metadata": {},
     "output_type": "display_data"
    }
   ],
   "source": [
    "fig, ax = plt.subplots(figsize=(10,20))\n",
    "#sns.heatmap(loadings.T, mask=(loadings.T < 0.5) & (loadings.T > -0.5), annot=True)\n",
    "sns.heatmap(loadings.T, )\n",
    "ax.set_xlabel('component');"
   ]
  },
  {
   "cell_type": "markdown",
   "metadata": {},
   "source": [
    "The great thing about having generated our own data, is that we know the answers and can assess how well PCA has done at recovering them."
   ]
  },
  {
   "cell_type": "code",
   "execution_count": 125,
   "metadata": {},
   "outputs": [
    {
     "name": "stdout",
     "output_type": "stream",
     "text": [
      "Correlation of first PC with sci-fi is %s \n",
      "0.951063381275\n",
      "Correlation of second PC with period drama\n",
      "0.802617173305\n",
      "Correlation of third PC with action\n",
      "0.682325565314\n"
     ]
    }
   ],
   "source": [
    "viewing_reduced_df = pd.DataFrame(viewing_reduced)\n",
    "col_names = [\"pc_\" + str(x+1) for x in range(30)]\n",
    "viewing_reduced_df.columns = col_names\n",
    "print(\"Correlation of first PC with sci-fi is %s \")\n",
    "print (viewing_reduced_df.pc_1.corr(pd.Series(sci_fi)))\n",
    "print(\"Correlation of second PC with period drama\")\n",
    "print (viewing_reduced_df.pc_2.corr(pd.Series(period_drama)))\n",
    "print(\"Correlation of third PC with action\")\n",
    "print (viewing_reduced_df.pc_3.corr(pd.Series(action)))"
   ]
  },
  {
   "cell_type": "markdown",
   "metadata": {},
   "source": [
    "Not too bad. Let's now compare some of the other dimension reduction techniques on offer in scikit-learn."
   ]
  },
  {
   "cell_type": "markdown",
   "metadata": {},
   "source": [
    "### Factor Analysis\n",
    "\n",
    "Models the correlation between observed variables by positing the existence of some latent (hidden) variables that explain the correlation. The classic example is IQ, in which correlation in observable test results is explained by intelligence, which of course is not directly measurable.\n",
    "\n",
    "**When to use it**\n",
    "When there is good reason to suppose latent causes exist (as opposed to just wanting to reduce the number of dimensions)\n",
    "\n",
    "**Strengths**\n",
    "Provides a proper statistical model that accounts for such things as noise.\n",
    "\n",
    "**Weaknesses**\n",
    "Need to specify the number of factors"
   ]
  },
  {
   "cell_type": "code",
   "execution_count": 143,
   "metadata": {},
   "outputs": [
    {
     "name": "stdout",
     "output_type": "stream",
     "text": [
      "Correlation of first PC with sci-fi is %s \n",
      "0.959182967619\n",
      "Correlation of second PC with period drama\n",
      "0.809689086763\n",
      "Correlation of third PC with action\n",
      "0.686609374704\n"
     ]
    }
   ],
   "source": [
    "fa = FactorAnalysis()\n",
    "viewing_reduced_fa = fa.fit_transform(viewing_scaled)\n",
    "fa_df = pd.DataFrame(viewing_reduced_fa)\n",
    "print(\"Correlation of first factor with sci-fi is %s \")\n",
    "print (fa_df[0].corr(pd.Series(sci_fi)))\n",
    "print(\"Correlation of second factor with period drama\")\n",
    "print (fa_df[1].corr(pd.Series(period_drama)))\n",
    "print(\"Correlation of third factor with action\")\n",
    "print (fa_df[2].corr(pd.Series(action)))\n"
   ]
  },
  {
   "cell_type": "code",
   "execution_count": null,
   "metadata": {
    "collapsed": true
   },
   "outputs": [],
   "source": [
    "Very similar results"
   ]
  },
  {
   "cell_type": "markdown",
   "metadata": {},
   "source": [
    "### Non-negative matrix factorisation\n",
    "\n",
    "In the context of text analysis this refers to a matrix factorisation that decomposes a document-term matrix into a document-feature * feature-document matrix. This allows us to reduce a large set of terms to a set of features or topics. We can then cluster the documents in a feature space.\n",
    "\n",
    "**When to use it**\n",
    "As an alternative to LDA for extracting topics from documents.\n",
    "\n",
    "But since we are dealing with non negative counts it might work well for us."
   ]
  },
  {
   "cell_type": "code",
   "execution_count": 147,
   "metadata": {},
   "outputs": [
    {
     "name": "stdout",
     "output_type": "stream",
     "text": [
      "Correlation of first factor with sci-fi is %s \n",
      "0.761116871366\n",
      "Correlation of second factor with period drama\n",
      "0.658325090056\n",
      "Correlation of third factor with action\n",
      "0.428334308489\n"
     ]
    }
   ],
   "source": [
    "nmf = NMF()\n",
    "viewing_reduced_nmf = nmf.fit_transform(viewing) #Not scaled!\n",
    "nmf_df = pd.DataFrame(viewing_reduced_nmf)\n",
    "\n",
    "print(\"Correlation of first factor with sci-fi is %s \")\n",
    "print (nmf_df[0].corr(pd.Series(sci_fi)))\n",
    "print(\"Correlation of second factor with period drama\")\n",
    "print (nmf_df[1].corr(pd.Series(period_drama)))\n",
    "print(\"Correlation of third factor with action\")\n",
    "print (nmf_df[2].corr(pd.Series(action)))\n"
   ]
  },
  {
   "cell_type": "markdown",
   "metadata": {},
   "source": [
    "It's ok but not as successful as the previous two methods"
   ]
  },
  {
   "cell_type": "markdown",
   "metadata": {},
   "source": [
    "### Independent component analysis\n",
    "\n",
    "Each variable in a multivariate dataset is taken to be a linear combination of some latent variables. ICA then tries to recover the original variables.\n",
    "\n",
    "Imagine four microphones in a room picking up a conversation between four people. ICA will recover each separate voice. \n",
    "\n",
    "**When to use it**\n",
    "When you want to separate out signals than have been mixed together (compare to PCA which is more used for reducing the number of dimensions.\n",
    "\n",
    "Therefore we wouldn't expect it to work well here. Let's try it anyway. (Forgive the code!)"
   ]
  },
  {
   "cell_type": "code",
   "execution_count": 142,
   "metadata": {},
   "outputs": [
    {
     "data": {
      "text/html": [
       "<div>\n",
       "<table border=\"1\" class=\"dataframe\">\n",
       "  <thead>\n",
       "    <tr style=\"text-align: right;\">\n",
       "      <th></th>\n",
       "      <th>0</th>\n",
       "      <th>1</th>\n",
       "      <th>2</th>\n",
       "      <th>3</th>\n",
       "      <th>4</th>\n",
       "      <th>5</th>\n",
       "    </tr>\n",
       "  </thead>\n",
       "  <tbody>\n",
       "    <tr>\n",
       "      <th>0</th>\n",
       "      <td>1.00</td>\n",
       "      <td>-0.00</td>\n",
       "      <td>0.01</td>\n",
       "      <td>-0.00</td>\n",
       "      <td>0.00</td>\n",
       "      <td>-0.01</td>\n",
       "    </tr>\n",
       "    <tr>\n",
       "      <th>1</th>\n",
       "      <td>-0.00</td>\n",
       "      <td>1.00</td>\n",
       "      <td>0.00</td>\n",
       "      <td>-0.00</td>\n",
       "      <td>-0.36</td>\n",
       "      <td>0.00</td>\n",
       "    </tr>\n",
       "    <tr>\n",
       "      <th>2</th>\n",
       "      <td>0.01</td>\n",
       "      <td>0.00</td>\n",
       "      <td>1.00</td>\n",
       "      <td>-0.00</td>\n",
       "      <td>0.00</td>\n",
       "      <td>-0.95</td>\n",
       "    </tr>\n",
       "    <tr>\n",
       "      <th>3</th>\n",
       "      <td>-0.00</td>\n",
       "      <td>-0.00</td>\n",
       "      <td>-0.00</td>\n",
       "      <td>1.00</td>\n",
       "      <td>0.23</td>\n",
       "      <td>-0.00</td>\n",
       "    </tr>\n",
       "    <tr>\n",
       "      <th>4</th>\n",
       "      <td>0.00</td>\n",
       "      <td>-0.36</td>\n",
       "      <td>0.00</td>\n",
       "      <td>0.23</td>\n",
       "      <td>1.00</td>\n",
       "      <td>-0.01</td>\n",
       "    </tr>\n",
       "    <tr>\n",
       "      <th>5</th>\n",
       "      <td>-0.01</td>\n",
       "      <td>0.00</td>\n",
       "      <td>-0.95</td>\n",
       "      <td>-0.00</td>\n",
       "      <td>-0.01</td>\n",
       "      <td>1.00</td>\n",
       "    </tr>\n",
       "  </tbody>\n",
       "</table>\n",
       "</div>"
      ],
      "text/plain": [
       "      0     1     2     3     4     5\n",
       "0  1.00 -0.00  0.01 -0.00  0.00 -0.01\n",
       "1 -0.00  1.00  0.00 -0.00 -0.36  0.00\n",
       "2  0.01  0.00  1.00 -0.00  0.00 -0.95\n",
       "3 -0.00 -0.00 -0.00  1.00  0.23 -0.00\n",
       "4  0.00 -0.36  0.00  0.23  1.00 -0.01\n",
       "5 -0.01  0.00 -0.95 -0.00 -0.01  1.00"
      ]
     },
     "execution_count": 142,
     "metadata": {},
     "output_type": "execute_result"
    }
   ],
   "source": [
    "ica = FastICA()\n",
    "viewing_reduced_ica = ica.fit_transform(viewing_scaled)\n",
    "ica_df = pd.DataFrame(viewing_reduced_ica)\n",
    "\n",
    "cor_df = np.array(pd.DataFrame({\"sci-fi\": sci_fi, \"period_drama\": period_drama, \"action\": action, \"ic_1\": ica_df[0], \n",
    "              \"ic_2\": ica_df[1] , \"ic_3\": ica_df[2] }).T)\n",
    "pd.DataFrame(np.corrcoef(cor_df))"
   ]
  },
  {
   "cell_type": "markdown",
   "metadata": {},
   "source": [
    "As expected a complete fail!"
   ]
  },
  {
   "cell_type": "code",
   "execution_count": null,
   "metadata": {
    "collapsed": true
   },
   "outputs": [],
   "source": []
  }
 ],
 "metadata": {
  "anaconda-cloud": {},
  "kernelspec": {
   "display_name": "Python 3",
   "language": "python",
   "name": "python3"
  },
  "language_info": {
   "codemirror_mode": {
    "name": "ipython",
    "version": 3
   },
   "file_extension": ".py",
   "mimetype": "text/x-python",
   "name": "python",
   "nbconvert_exporter": "python",
   "pygments_lexer": "ipython3",
   "version": "3.6.3"
  }
 },
 "nbformat": 4,
 "nbformat_minor": 1
}
