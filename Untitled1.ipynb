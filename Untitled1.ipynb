{
 "cells": [
  {
   "cell_type": "code",
   "execution_count": 1,
   "metadata": {},
   "outputs": [],
   "source": [
    "import numpy as np\n",
    "import scipy as sp"
   ]
  },
  {
   "cell_type": "code",
   "execution_count": 2,
   "metadata": {},
   "outputs": [
    {
     "data": {
      "text/plain": [
       "array([ 383.01991343, -160.0709513 ,   30.91613868, -102.72332192,\n",
       "        162.27754451,  209.29173683,   -7.00177729,  573.69328814,\n",
       "         81.1419023 ,  634.39337627,  324.40698057,  201.31125041,\n",
       "        284.81966866,   75.6884319 , -127.57225181,   11.55167511,\n",
       "        343.40953223,  598.33735522, -243.49563154,   -1.80934345,\n",
       "        172.98617441,  510.21887606,  116.63384509,   -0.87009765,\n",
       "        714.289019  ,  -82.81945111,  -62.8742713 ,  365.94188317,\n",
       "         -9.15150623,  521.97953159,  -54.34585712, -157.72449613,\n",
       "        428.14403691,  369.56783581,  381.92213931,  613.22162424,\n",
       "        295.067655  ])"
      ]
     },
     "execution_count": 2,
     "metadata": {},
     "output_type": "execute_result"
    }
   ],
   "source": [
    "mu, sigma = 245, 345\n",
    "np.random.normal(mu, sigma, 37)"
   ]
  },
  {
   "cell_type": "code",
   "execution_count": null,
   "metadata": {},
   "outputs": [],
   "source": []
  }
 ],
 "metadata": {
  "kernelspec": {
   "display_name": "Python 3",
   "language": "python",
   "name": "python3"
  },
  "language_info": {
   "codemirror_mode": {
    "name": "ipython",
    "version": 3
   },
   "file_extension": ".py",
   "mimetype": "text/x-python",
   "name": "python",
   "nbconvert_exporter": "python",
   "pygments_lexer": "ipython3",
   "version": "3.7.0"
  }
 },
 "nbformat": 4,
 "nbformat_minor": 2
}
