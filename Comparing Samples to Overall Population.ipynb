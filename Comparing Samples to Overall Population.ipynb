{
 "cells": [
  {
   "cell_type": "code",
   "execution_count": 1,
   "metadata": {},
   "outputs": [],
   "source": [
    "import pandas as pd\n",
    "import numpy as np\n",
    "import scipy as sp"
   ]
  },
  {
   "cell_type": "code",
   "execution_count": 2,
   "metadata": {},
   "outputs": [
    {
     "data": {
      "text/html": [
       "<div>\n",
       "<style>\n",
       "    .dataframe thead tr:only-child th {\n",
       "        text-align: right;\n",
       "    }\n",
       "\n",
       "    .dataframe thead th {\n",
       "        text-align: left;\n",
       "    }\n",
       "\n",
       "    .dataframe tbody tr th {\n",
       "        vertical-align: top;\n",
       "    }\n",
       "</style>\n",
       "<table border=\"1\" class=\"dataframe\">\n",
       "  <thead>\n",
       "    <tr style=\"text-align: right;\">\n",
       "      <th></th>\n",
       "      <th>viewer_id</th>\n",
       "      <th>gender</th>\n",
       "      <th>age</th>\n",
       "      <th>barb</th>\n",
       "      <th>requests</th>\n",
       "      <th>hours</th>\n",
       "    </tr>\n",
       "  </thead>\n",
       "  <tbody>\n",
       "    <tr>\n",
       "      <th>0</th>\n",
       "      <td>1418f62e-30e1-44ed-858c-3d9afde68c34</td>\n",
       "      <td>M</td>\n",
       "      <td>28.0</td>\n",
       "      <td>a3.ad.m3.me</td>\n",
       "      <td>2</td>\n",
       "      <td>0.376269</td>\n",
       "    </tr>\n",
       "    <tr>\n",
       "      <th>1</th>\n",
       "      <td>22dd5aa1-8bb1-49e1-8d0c-92acb47e4ad7</td>\n",
       "      <td>M</td>\n",
       "      <td>NaN</td>\n",
       "      <td>a3.ad.axa.m3.me</td>\n",
       "      <td>1</td>\n",
       "      <td>0.344018</td>\n",
       "    </tr>\n",
       "    <tr>\n",
       "      <th>2</th>\n",
       "      <td>49b43722-e41e-4b61-a132-c479068a17da</td>\n",
       "      <td>F</td>\n",
       "      <td>21.0</td>\n",
       "      <td>a2.a3.ad.axa.w3.wo</td>\n",
       "      <td>26</td>\n",
       "      <td>7.839971</td>\n",
       "    </tr>\n",
       "    <tr>\n",
       "      <th>3</th>\n",
       "      <td>a56a5f29-86ff-45db-be35-88fc6a27e435</td>\n",
       "      <td>F</td>\n",
       "      <td>NaN</td>\n",
       "      <td>a2.a3.aa.ad.hc.w3.wa.wo</td>\n",
       "      <td>17</td>\n",
       "      <td>4.899691</td>\n",
       "    </tr>\n",
       "    <tr>\n",
       "      <th>4</th>\n",
       "      <td>c3b699b5-b267-4970-8ee2-5796263a029f</td>\n",
       "      <td>F</td>\n",
       "      <td>22.0</td>\n",
       "      <td>a2.a3.ad.axa.h5.hc.hw.w3.wo</td>\n",
       "      <td>49</td>\n",
       "      <td>14.719905</td>\n",
       "    </tr>\n",
       "  </tbody>\n",
       "</table>\n",
       "</div>"
      ],
      "text/plain": [
       "                              viewer_id gender   age  \\\n",
       "0  1418f62e-30e1-44ed-858c-3d9afde68c34      M  28.0   \n",
       "1  22dd5aa1-8bb1-49e1-8d0c-92acb47e4ad7      M   NaN   \n",
       "2  49b43722-e41e-4b61-a132-c479068a17da      F  21.0   \n",
       "3  a56a5f29-86ff-45db-be35-88fc6a27e435      F   NaN   \n",
       "4  c3b699b5-b267-4970-8ee2-5796263a029f      F  22.0   \n",
       "\n",
       "                          barb  requests      hours  \n",
       "0                  a3.ad.m3.me         2   0.376269  \n",
       "1              a3.ad.axa.m3.me         1   0.344018  \n",
       "2           a2.a3.ad.axa.w3.wo        26   7.839971  \n",
       "3      a2.a3.aa.ad.hc.w3.wa.wo        17   4.899691  \n",
       "4  a2.a3.ad.axa.h5.hc.hw.w3.wo        49  14.719905  "
      ]
     },
     "execution_count": 2,
     "metadata": {},
     "output_type": "execute_result"
    }
   ],
   "source": [
    "comedy = pd.read_csv('2018 July Comedy Viewers.csv')\n",
    "comedy.head()"
   ]
  },
  {
   "cell_type": "code",
   "execution_count": 8,
   "metadata": {},
   "outputs": [
    {
     "data": {
      "text/html": [
       "<div>\n",
       "<style>\n",
       "    .dataframe thead tr:only-child th {\n",
       "        text-align: right;\n",
       "    }\n",
       "\n",
       "    .dataframe thead th {\n",
       "        text-align: left;\n",
       "    }\n",
       "\n",
       "    .dataframe tbody tr th {\n",
       "        vertical-align: top;\n",
       "    }\n",
       "</style>\n",
       "<table border=\"1\" class=\"dataframe\">\n",
       "  <thead>\n",
       "    <tr style=\"text-align: right;\">\n",
       "      <th></th>\n",
       "      <th>viewer_id</th>\n",
       "      <th>gender</th>\n",
       "      <th>age</th>\n",
       "      <th>barb</th>\n",
       "      <th>requests</th>\n",
       "      <th>hours</th>\n",
       "    </tr>\n",
       "  </thead>\n",
       "  <tbody>\n",
       "    <tr>\n",
       "      <th>551165</th>\n",
       "      <td>bb652abe-42a5-4cc3-aba2-b1f933cea0e9</td>\n",
       "      <td>F</td>\n",
       "      <td>29.0</td>\n",
       "      <td>a3.ad.w3.wo</td>\n",
       "      <td>4</td>\n",
       "      <td>1.342792</td>\n",
       "    </tr>\n",
       "    <tr>\n",
       "      <th>275520</th>\n",
       "      <td>f4ecdcba-38b2-459b-abc4-aa63c73bb49f</td>\n",
       "      <td>F</td>\n",
       "      <td>24.0</td>\n",
       "      <td>a2.a3.ad.w3.wo</td>\n",
       "      <td>11</td>\n",
       "      <td>3.105696</td>\n",
       "    </tr>\n",
       "    <tr>\n",
       "      <th>257240</th>\n",
       "      <td>08a52dcc-5cc9-4494-806e-14a16d8e085e</td>\n",
       "      <td>F</td>\n",
       "      <td>23.0</td>\n",
       "      <td>a2.a3.ad.w3.wo</td>\n",
       "      <td>46</td>\n",
       "      <td>13.095886</td>\n",
       "    </tr>\n",
       "    <tr>\n",
       "      <th>267496</th>\n",
       "      <td>d47593fd-33b2-4085-a736-d80efbeb4b40</td>\n",
       "      <td>F</td>\n",
       "      <td>33.0</td>\n",
       "      <td>a3.ad.axa.hc.w3.wo</td>\n",
       "      <td>4</td>\n",
       "      <td>0.928149</td>\n",
       "    </tr>\n",
       "    <tr>\n",
       "      <th>652862</th>\n",
       "      <td>f130aecb-21ff-448c-87c3-8296f808172a</td>\n",
       "      <td>F</td>\n",
       "      <td>31.0</td>\n",
       "      <td>a3.ad.axa.hc.w3.wo</td>\n",
       "      <td>2</td>\n",
       "      <td>0.343384</td>\n",
       "    </tr>\n",
       "  </tbody>\n",
       "</table>\n",
       "</div>"
      ],
      "text/plain": [
       "                                   viewer_id gender   age                barb  \\\n",
       "551165  bb652abe-42a5-4cc3-aba2-b1f933cea0e9      F  29.0         a3.ad.w3.wo   \n",
       "275520  f4ecdcba-38b2-459b-abc4-aa63c73bb49f      F  24.0      a2.a3.ad.w3.wo   \n",
       "257240  08a52dcc-5cc9-4494-806e-14a16d8e085e      F  23.0      a2.a3.ad.w3.wo   \n",
       "267496  d47593fd-33b2-4085-a736-d80efbeb4b40      F  33.0  a3.ad.axa.hc.w3.wo   \n",
       "652862  f130aecb-21ff-448c-87c3-8296f808172a      F  31.0  a3.ad.axa.hc.w3.wo   \n",
       "\n",
       "        requests      hours  \n",
       "551165         4   1.342792  \n",
       "275520        11   3.105696  \n",
       "257240        46  13.095886  \n",
       "267496         4   0.928149  \n",
       "652862         2   0.343384  "
      ]
     },
     "execution_count": 8,
     "metadata": {},
     "output_type": "execute_result"
    }
   ],
   "source": [
    "sample = comedy.sample(frac=0.01)\n",
    "sample.head()"
   ]
  },
  {
   "cell_type": "markdown",
   "metadata": {},
   "source": [
    "Import ttest_ind and ttest_rel in order to conduct t-tests between the two sets, ttest_ind for independent samples or for Welch's test using the equal_var=False, ttest_rel for related samples"
   ]
  },
  {
   "cell_type": "code",
   "execution_count": 14,
   "metadata": {},
   "outputs": [
    {
     "data": {
      "text/plain": [
       "Ttest_indResult(statistic=0.2949116320948883, pvalue=0.76807092981933689)"
      ]
     },
     "execution_count": 14,
     "metadata": {},
     "output_type": "execute_result"
    }
   ],
   "source": [
    "from scipy.stats import ttest_ind\n",
    "from scipy.stats import ttest_rel\n",
    "ttest_ind(comedy['requests'], sample['requests'], axis=0, equal_var=False)"
   ]
  },
  {
   "cell_type": "code",
   "execution_count": 15,
   "metadata": {},
   "outputs": [
    {
     "data": {
      "text/plain": [
       "Ttest_indResult(statistic=0.37347976514522674, pvalue=0.7088037355966752)"
      ]
     },
     "execution_count": 15,
     "metadata": {},
     "output_type": "execute_result"
    }
   ],
   "source": [
    "ttest_ind(comedy['hours'], sample['hours'], axis=0, equal_var=False)"
   ]
  },
  {
   "cell_type": "code",
   "execution_count": 19,
   "metadata": {},
   "outputs": [
    {
     "data": {
      "text/plain": [
       "Ttest_indResult(statistic=3.5144161341648918, pvalue=0.00044341277649817865)"
      ]
     },
     "execution_count": 19,
     "metadata": {},
     "output_type": "execute_result"
    }
   ],
   "source": [
    "comedy = comedy.dropna(axis=0)\n",
    "sample = sample.dropna(axis=0)\n",
    "ttest_ind(comedy['age'], sample['age'], axis=0, equal_var=False)"
   ]
  },
  {
   "cell_type": "code",
   "execution_count": 17,
   "metadata": {},
   "outputs": [
    {
     "data": {
      "text/plain": [
       "31.971460459183675"
      ]
     },
     "execution_count": 17,
     "metadata": {},
     "output_type": "execute_result"
    }
   ],
   "source": [
    "sample['age'].mean()"
   ]
  },
  {
   "cell_type": "code",
   "execution_count": 18,
   "metadata": {},
   "outputs": [
    {
     "data": {
      "text/plain": [
       "32.62487942000424"
      ]
     },
     "execution_count": 18,
     "metadata": {},
     "output_type": "execute_result"
    }
   ],
   "source": [
    "comedy['age'].mean()"
   ]
  },
  {
   "cell_type": "code",
   "execution_count": 20,
   "metadata": {},
   "outputs": [
    {
     "data": {
      "text/plain": [
       "MannwhitneyuResult(statistic=1961937515.0, pvalue=0.36710352255548451)"
      ]
     },
     "execution_count": 20,
     "metadata": {},
     "output_type": "execute_result"
    }
   ],
   "source": [
    "from scipy.stats import mannwhitneyu\n",
    "mannwhitneyu(comedy['age'], sample['age'])"
   ]
  },
  {
   "cell_type": "code",
   "execution_count": null,
   "metadata": {},
   "outputs": [],
   "source": []
  }
 ],
 "metadata": {
  "kernelspec": {
   "display_name": "Python 3",
   "language": "python",
   "name": "python3"
  },
  "language_info": {
   "codemirror_mode": {
    "name": "ipython",
    "version": 3
   },
   "file_extension": ".py",
   "mimetype": "text/x-python",
   "name": "python",
   "nbconvert_exporter": "python",
   "pygments_lexer": "ipython3",
   "version": "3.6.3"
  }
 },
 "nbformat": 4,
 "nbformat_minor": 2
}
