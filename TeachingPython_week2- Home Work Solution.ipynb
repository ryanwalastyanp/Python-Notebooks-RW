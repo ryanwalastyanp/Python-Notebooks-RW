{
 "cells": [
  {
   "cell_type": "markdown",
   "metadata": {},
   "source": [
    "# Week 2 - Python Data Types and Structures"
   ]
  },
  {
   "cell_type": "markdown",
   "metadata": {},
   "source": [
    "### Home Work - Solution"
   ]
  },
  {
   "cell_type": "markdown",
   "metadata": {},
   "source": [
    "Write a method that will accept a string and return a dictionary with each character of a string being keys and values set to how many times a character appears in the string (exclude spaced). Preferabbly, implement a brute-force approach."
   ]
  },
  {
   "cell_type": "code",
   "execution_count": 5,
   "metadata": {},
   "outputs": [],
   "source": [
    "## Looping through a string...\n",
    "\n",
    "##### Solution 1 - Using Defaultdict\n",
    "from collections import defaultdict\n",
    "\n",
    "def makedict(s):\n",
    "    retval = defaultdict(int)\n",
    "    \n",
    "    for c in s.replace(' ', ''):\n",
    "        retval[c]=retval[c]+1\n",
    "        \n",
    "    return retval    "
   ]
  },
  {
   "cell_type": "code",
   "execution_count": 6,
   "metadata": {},
   "outputs": [],
   "source": [
    "s=\"This is a sentence\""
   ]
  },
  {
   "cell_type": "code",
   "execution_count": 7,
   "metadata": {},
   "outputs": [
    {
     "data": {
      "text/plain": [
       "defaultdict(int,\n",
       "            {'T': 1,\n",
       "             'h': 1,\n",
       "             'i': 2,\n",
       "             's': 3,\n",
       "             'a': 1,\n",
       "             'e': 3,\n",
       "             'n': 2,\n",
       "             't': 1,\n",
       "             'c': 1})"
      ]
     },
     "execution_count": 7,
     "metadata": {},
     "output_type": "execute_result"
    }
   ],
   "source": [
    "makedict(s)"
   ]
  },
  {
   "cell_type": "code",
   "execution_count": 11,
   "metadata": {},
   "outputs": [],
   "source": [
    "##### Solution 2 - Not Using Defaultdict"
   ]
  },
  {
   "cell_type": "code",
   "execution_count": 15,
   "metadata": {},
   "outputs": [],
   "source": [
    "def makedict2(s):\n",
    "    \n",
    "    copy_s = s.replace(' ', '')\n",
    "    retval = dict.fromkeys(copy_s, 0)\n",
    "    for c in copy_s:\n",
    "        retval[c]=retval[c]+1\n",
    "    \n",
    "    return retval"
   ]
  },
  {
   "cell_type": "code",
   "execution_count": 16,
   "metadata": {},
   "outputs": [
    {
     "data": {
      "text/plain": [
       "{'T': 1, 'h': 1, 'i': 2, 's': 3, 'a': 1, 'e': 3, 'n': 2, 't': 1, 'c': 1}"
      ]
     },
     "execution_count": 16,
     "metadata": {},
     "output_type": "execute_result"
    }
   ],
   "source": [
    "makedict2(s)"
   ]
  },
  {
   "cell_type": "code",
   "execution_count": 17,
   "metadata": {},
   "outputs": [],
   "source": [
    "### Solution 3 - using collections"
   ]
  },
  {
   "cell_type": "code",
   "execution_count": 22,
   "metadata": {},
   "outputs": [],
   "source": [
    "from collections import Counter\n",
    "\n",
    "def makedict3(s):\n",
    "    \n",
    "    c = Counter(s.replace(' ', ''))\n",
    "    return c"
   ]
  },
  {
   "cell_type": "code",
   "execution_count": 23,
   "metadata": {},
   "outputs": [
    {
     "data": {
      "text/plain": [
       "Counter({'T': 1,\n",
       "         'h': 1,\n",
       "         'i': 2,\n",
       "         's': 3,\n",
       "         'a': 1,\n",
       "         'e': 3,\n",
       "         'n': 2,\n",
       "         't': 1,\n",
       "         'c': 1})"
      ]
     },
     "execution_count": 23,
     "metadata": {},
     "output_type": "execute_result"
    }
   ],
   "source": [
    "makedict3(s)"
   ]
  },
  {
   "cell_type": "code",
   "execution_count": null,
   "metadata": {},
   "outputs": [],
   "source": []
  }
 ],
 "metadata": {
  "kernelspec": {
   "display_name": "Python 3",
   "language": "python",
   "name": "python3"
  },
  "language_info": {
   "codemirror_mode": {
    "name": "ipython",
    "version": 3
   },
   "file_extension": ".py",
   "mimetype": "text/x-python",
   "name": "python",
   "nbconvert_exporter": "python",
   "pygments_lexer": "ipython3",
   "version": "3.6.5"
  }
 },
 "nbformat": 4,
 "nbformat_minor": 2
}
