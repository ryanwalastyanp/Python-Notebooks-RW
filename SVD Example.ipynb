{
 "cells": [
  {
   "cell_type": "markdown",
   "metadata": {},
   "source": [
    "# SVD Example"
   ]
  },
  {
   "cell_type": "code",
   "execution_count": 2,
   "metadata": {},
   "outputs": [
    {
     "name": "stdout",
     "output_type": "stream",
     "text": [
      "--- FULL ---\n",
      "U:\n",
      " [[-0.138  0.024 -0.011 -0.56   0.376  0.7    0.188]\n",
      " [-0.413  0.071 -0.032 -0.206 -0.756  0.258 -0.378]\n",
      " [-0.55   0.094 -0.043  0.725  0.185  0.344  0.092]\n",
      " [-0.688  0.118 -0.054 -0.344  0.231 -0.57   0.115]\n",
      " [-0.153 -0.591  0.654 -0.     0.2    0.    -0.4  ]\n",
      " [-0.072 -0.731 -0.678  0.     0.     0.     0.   ]\n",
      " [-0.076 -0.296  0.327 -0.    -0.4    0.     0.8  ]]\n",
      "s:\n",
      " [ 12.481   9.509   1.346   0.      0.   ]\n",
      "VT:\n",
      " [[-0.562 -0.593 -0.562 -0.09  -0.09 ]\n",
      " [ 0.127 -0.029  0.127 -0.695 -0.695]\n",
      " [-0.41   0.805 -0.41  -0.091 -0.091]\n",
      " [ 0.707 -0.    -0.707 -0.     0.   ]\n",
      " [ 0.    -0.     0.    -0.707  0.707]]\n",
      "--- REDUCED ---\n",
      "U:\n",
      " [[-0.138  0.024 -0.011 -0.56   0.376]\n",
      " [-0.413  0.071 -0.032 -0.206 -0.756]\n",
      " [-0.55   0.094 -0.043  0.725  0.185]\n",
      " [-0.688  0.118 -0.054 -0.344  0.231]\n",
      " [-0.153 -0.591  0.654 -0.     0.2  ]\n",
      " [-0.072 -0.731 -0.678  0.     0.   ]\n",
      " [-0.076 -0.296  0.327 -0.    -0.4  ]]\n",
      "s:\n",
      " [ 12.481   9.509   1.346   0.      0.   ]\n",
      "VT:\n",
      " [[-0.562 -0.593 -0.562 -0.09  -0.09 ]\n",
      " [ 0.127 -0.029  0.127 -0.695 -0.695]\n",
      " [-0.41   0.805 -0.41  -0.091 -0.091]\n",
      " [ 0.707 -0.    -0.707 -0.     0.   ]\n",
      " [ 0.    -0.     0.    -0.707  0.707]]\n"
     ]
    }
   ],
   "source": [
    "# Singular Value Decomposition Example\n",
    "\n",
    "import numpy as np\n",
    "\n",
    "# example taken from Video Tutorials - All in One\n",
    "# https://www.youtube.com/watch?v=P5mlg91as1c\n",
    "a = np.array([[1, 1, 1, 0, 0],\n",
    "              [3, 3, 3, 0, 0],\n",
    "              [4, 4, 4, 0, 0],\n",
    "              [5, 5, 5, 0, 0],\n",
    "              [0, 2, 0, 4, 4],\n",
    "              [0, 0, 0, 5, 5],\n",
    "              [0, 1, 0, 2, 2]])\n",
    "\n",
    "# set numpy printing options\n",
    "np.set_printoptions(suppress=True)\n",
    "np.set_printoptions(precision=3)\n",
    "\n",
    "# Full SVD is taught more often. Here is a good explination of the different\n",
    "# http://www.cs.cornell.edu/Courses/cs322/2008sp/stuff/TrefethenBau_Lec4_SVD.pdf\n",
    "print (\"--- FULL ---\")\n",
    "U, s, VT = np.linalg.svd(a, full_matrices=True)\n",
    "\n",
    "print (\"U:\\n {}\".format(U))\n",
    "print (\"s:\\n {}\".format(s))\n",
    "print (\"VT:\\n {}\".format(VT))\n",
    "\n",
    "# the reduced or trucated SVD operation can save time by ignoring all the\n",
    "# extremly small or exactly zero values. A good blog post explaing the benefits\n",
    "# can be found here:\n",
    "# http://blog.explainmydata.com/2016/01/how-much-faster-is-truncated-svd.html\n",
    "print (\"--- REDUCED ---\")\n",
    "\n",
    "U, s, VT = np.linalg.svd(a, full_matrices=False)\n",
    "\n",
    "print (\"U:\\n {}\".format(U))\n",
    "print (\"s:\\n {}\".format(s))\n",
    "print (\"VT:\\n {}\".format(VT))"
   ]
  },
  {
   "cell_type": "code",
   "execution_count": 3,
   "metadata": {},
   "outputs": [
    {
     "ename": "ValueError",
     "evalue": "operands could not be broadcast together with shapes (7,5) (5,5) ",
     "output_type": "error",
     "traceback": [
      "\u001b[1;31m---------------------------------------------------------------------------\u001b[0m",
      "\u001b[1;31mValueError\u001b[0m                                Traceback (most recent call last)",
      "\u001b[1;32m<ipython-input-3-70164bf3f08a>\u001b[0m in \u001b[0;36m<module>\u001b[1;34m()\u001b[0m\n\u001b[1;32m----> 1\u001b[1;33m \u001b[0mU\u001b[0m\u001b[1;33m*\u001b[0m\u001b[0ms\u001b[0m\u001b[1;33m*\u001b[0m\u001b[0mVT\u001b[0m\u001b[1;33m\u001b[0m\u001b[0m\n\u001b[0m",
      "\u001b[1;31mValueError\u001b[0m: operands could not be broadcast together with shapes (7,5) (5,5) "
     ]
    }
   ],
   "source": [
    "U*s*VT"
   ]
  },
  {
   "cell_type": "code",
   "execution_count": 4,
   "metadata": {},
   "outputs": [
    {
     "data": {
      "text/plain": [
       "array([[-7.018, -5.637, -0.757, -0.   , -0.   ],\n",
       "       [ 1.581, -0.274,  0.17 , -0.   , -0.   ],\n",
       "       [-5.113,  7.652, -0.551, -0.   , -0.   ],\n",
       "       [ 8.825, -0.   , -0.951, -0.   ,  0.   ],\n",
       "       [ 0.   , -0.   ,  0.   , -0.   ,  0.   ]])"
      ]
     },
     "execution_count": 4,
     "metadata": {},
     "output_type": "execute_result"
    }
   ],
   "source": [
    "s*VT"
   ]
  },
  {
   "cell_type": "code",
   "execution_count": 6,
   "metadata": {},
   "outputs": [
    {
     "ename": "ValueError",
     "evalue": "operands could not be broadcast together with shapes (5,5) (7,5) ",
     "output_type": "error",
     "traceback": [
      "\u001b[1;31m---------------------------------------------------------------------------\u001b[0m",
      "\u001b[1;31mValueError\u001b[0m                                Traceback (most recent call last)",
      "\u001b[1;32m<ipython-input-6-74e45fff51b9>\u001b[0m in \u001b[0;36m<module>\u001b[1;34m()\u001b[0m\n\u001b[0;32m      1\u001b[0m \u001b[0mR\u001b[0m\u001b[1;33m=\u001b[0m\u001b[0ms\u001b[0m\u001b[1;33m*\u001b[0m\u001b[0mVT\u001b[0m\u001b[1;33m\u001b[0m\u001b[0m\n\u001b[1;32m----> 2\u001b[1;33m \u001b[0mR\u001b[0m\u001b[1;33m*\u001b[0m\u001b[0mU\u001b[0m\u001b[1;33m\u001b[0m\u001b[0m\n\u001b[0m",
      "\u001b[1;31mValueError\u001b[0m: operands could not be broadcast together with shapes (5,5) (7,5) "
     ]
    }
   ],
   "source": [
    "R=s*VT\n",
    "R*U"
   ]
  },
  {
   "cell_type": "code",
   "execution_count": null,
   "metadata": {
    "collapsed": true
   },
   "outputs": [],
   "source": []
  }
 ],
 "metadata": {
  "kernelspec": {
   "display_name": "Python 3",
   "language": "python",
   "name": "python3"
  },
  "language_info": {
   "codemirror_mode": {
    "name": "ipython",
    "version": 3
   },
   "file_extension": ".py",
   "mimetype": "text/x-python",
   "name": "python",
   "nbconvert_exporter": "python",
   "pygments_lexer": "ipython3",
   "version": "3.6.3"
  }
 },
 "nbformat": 4,
 "nbformat_minor": 2
}
