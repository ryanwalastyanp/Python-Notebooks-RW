{
 "cells": [
  {
   "cell_type": "markdown",
   "metadata": {},
   "source": [
    "# Deriving the formula for sample size in the case of the difference between two sample means\n",
    "\n",
    "\n",
    "1. By the Central Limit Theorem, when $n$ is large the sample mean $\\bar{X}$ is distributed as $N(\\mu, \\frac{\\sigma^2)}{n}$, with $\\mu$ as the population mean.\n",
    "2. By the properties of normal distributions (i.e. variances are summed) the distribution of $D$, the difference between two sample means is $N(\\mu_1 - \\mu_2, \\frac{\\sigma_1^2}{n_1} + \\frac{\\sigma_2^2}{n_2})$\n",
    "3. If we assume equally sized samples from populations with identical variance then this reduces to $N(\\mu_1 - \\mu_2, \\frac{2 \\sigma^2}{n})$\n",
    "4. Let $\\phi$ be the inverse cumulative distribution function of a standardised normal distribution. Then the inverse cdf for D for a given probability $x$ is $\\phi(x) \\frac{\\sqrt{2} \\sigma}{\\sqrt{n}}$\n",
    "\n",
    "To derive the formula for sample size we need to find a way of relating power, samples size, minimum detectable difference and the variance of the population. We do this as follows.\n",
    "\n",
    "1. If $\\alpha$ is the probability of a type I error then (assuming a two tailed test) the upper cut off point for the right tail rejection region is $ u = \\phi(1-\\frac{\\alpha}{2}) \\frac{\\sqrt{2} \\sigma}{\\sqrt{n}}$\n",
    "2. Assume we were carrying out a test of the null hypothesis that the difference between the two population means is zero and assume that in actual fact that the difference is equal to the minimum difference $m$ and assume this difference is positive (there is an equivalent deriviation if it is negative.). Then the upper cut off point $u$ is equivalent to $\\phi(1-\\rho) \\frac{\\sqrt{2} \\sigma}{\\sqrt{n}} + m$ where $\\rho$ is the power of the test.\n",
    "3. Now we can create the following equality and solve it (using the fact that $\\phi(1-\\rho) = -\\phi(\\rho)$)\n",
    "\n",
    "$$ \\phi(1-\\frac{\\alpha}{2}) \\frac{\\sqrt{2} \\sigma}{\\sqrt{n}} = \\phi(1-\\rho) \\frac{\\sqrt{2} \\sigma}{\\sqrt{n}} + m $$\n",
    "$$ \\phi(1-\\frac{\\alpha}{2}) \\frac{\\sqrt{2} \\sigma}{\\sqrt{n}} - \\phi(1-\\rho) \\frac{\\sqrt{2} \\sigma}{\\sqrt{n}} =  m $$\n",
    "$$ \\phi(1-\\frac{\\alpha}{2}) \\frac{\\sqrt{2} \\sigma}{\\sqrt{n}} + \\phi(\\rho) \\frac{\\sqrt{2} \\sigma}{\\sqrt{n}} =  m $$\n",
    "$$ \\frac{\\sqrt{2} \\sigma}{\\sqrt{n}}(\\phi(1-\\frac{\\alpha}{2})  + \\phi(\\rho)) =  m $$\n",
    "$$ \\frac{\\sqrt{2} \\sigma}{m}(\\phi(1-\\frac{\\alpha}{2})  + \\phi(\\rho)) =  \\sqrt{n} $$\n",
    "$$ n = \\frac{2 \\sigma^2}{m^2}(\\phi(1-\\frac{\\alpha}{2})  + \\phi(\\rho))^2  $$"
   ]
  },
  {
   "cell_type": "markdown",
   "metadata": {},
   "source": [
    "Now as I am paranoid I will check this using Monte Carlo simulation\n",
    "\n",
    "## Monte Carlo Simulation to double check the sample size formula for the difference between two means\n",
    "\n",
    "First let's calculate the sample size for some values."
   ]
  },
  {
   "cell_type": "code",
   "execution_count": 5,
   "metadata": {},
   "outputs": [
    {
     "name": "stdout",
     "output_type": "stream",
     "text": [
      "114529930\n"
     ]
    }
   ],
   "source": [
    "import numpy as np, math\n",
    "from scipy import stats\n",
    "from scipy.stats import norm\n",
    "\n",
    "alpha = 0.05\n",
    "power = 0.8\n",
    "st_dev = 270.11\n",
    "min_effect  = 0.1\n",
    "\n",
    "#Get the inverse cdfs\n",
    "z_alpha = stats.norm.ppf(1-alpha/2)\n",
    "z_beta = stats.norm.ppf(power)\n",
    "\n",
    "\n",
    "sample_size = int(round((z_alpha + z_beta)**2 * 2*st_dev**2 / min_effect**2))\n",
    "\n",
    "print(sample_size)"
   ]
  },
  {
   "cell_type": "markdown",
   "metadata": {},
   "source": [
    "Now we simulate how many type I and type II errors we would get with this sample size."
   ]
  },
  {
   "cell_type": "code",
   "execution_count": 16,
   "metadata": {},
   "outputs": [],
   "source": [
    "mu_1 = 0\n",
    "mu_2 = mu_1 + min_effect\n",
    "\n",
    "type_1_errors = 0\n",
    "type_2_errors = 0\n",
    "upper_rejection_region = norm.ppf(1-alpha/2)*math.sqrt(2)*st_dev/math.sqrt(sample_size)\n",
    "lower_rejection_region = norm.ppf(alpha/2)*math.sqrt(2)*st_dev/math.sqrt(sample_size)\n",
    "\n",
    "for i in range(10000):\n",
    "    \n",
    "    #Simulate the difference if the minimum difference was in effect\n",
    "    \n",
    "    population_1 = np.random.normal(loc=mu_1, scale = st_dev, size = sample_size)\n",
    "    population_2 = np.random.normal(loc=mu_2, scale = st_dev, size = sample_size)\n",
    "    \n",
    "    sample_mean_1 = np.mean(population_1)\n",
    "    sample_mean_2 = np.mean(population_2)\n",
    "    \n",
    "    diff_between_means = sample_mean_1 - sample_mean_2\n",
    "    \n",
    "    #Now if the difference comes between the lower and upper cut offs the test will be such that\n",
    "    #null hypothesis is NOT rejected, despite the existence of a difference and we will get a type II error\n",
    "    if diff_between_means < upper_rejection_region and diff_between_means > lower_rejection_region:\n",
    "        type_2_errors = type_2_errors + 1\n",
    "        \n",
    "    \n",
    "    #Simulate the difference if the null hypothesis was true\n",
    "    \n",
    "    population_1 = np.random.normal(loc=mu_1, scale = st_dev, size = sample_size)\n",
    "    population_2 = np.random.normal(loc=mu_1, scale = st_dev, size = sample_size)\n",
    "    \n",
    "    sample_mean_1 = np.mean(population_1)\n",
    "    sample_mean_2 = np.mean(population_2)\n",
    "    \n",
    "    diff_between_means = sample_mean_1 - sample_mean_2\n",
    "    \n",
    "    #Now if the difference falls in the rejection region the null hypothesis would be rejected, despite the fact\n",
    "    #that it is true and we get a Type I error\n",
    "    if diff_between_means > upper_rejection_region or diff_between_means < lower_rejection_region:\n",
    "        type_1_errors = type_1_errors + 1 "
   ]
  },
  {
   "cell_type": "code",
   "execution_count": 17,
   "metadata": {},
   "outputs": [
    {
     "name": "stdout",
     "output_type": "stream",
     "text": [
      "Type I errors: 0.1049\n",
      "Type II errors: 0.0477\n"
     ]
    }
   ],
   "source": [
    "print(\"Type I errors: %s\" % (type_1_errors/10000))\n",
    "print(\"Type II errors: %s\" % (type_2_errors/10000))"
   ]
  },
  {
   "cell_type": "markdown",
   "metadata": {},
   "source": [
    "Now experiment with the inputs"
   ]
  }
 ],
 "metadata": {
  "kernelspec": {
   "display_name": "Python 3",
   "language": "python",
   "name": "python3"
  },
  "language_info": {
   "codemirror_mode": {
    "name": "ipython",
    "version": 3
   },
   "file_extension": ".py",
   "mimetype": "text/x-python",
   "name": "python",
   "nbconvert_exporter": "python",
   "pygments_lexer": "ipython3",
   "version": "3.7.0"
  },
  "latex_envs": {
   "LaTeX_envs_menu_present": true,
   "autoclose": false,
   "autocomplete": true,
   "bibliofile": "biblio.bib",
   "cite_by": "apalike",
   "current_citInitial": 1,
   "eqLabelWithNumbers": true,
   "eqNumInitial": 1,
   "hotkeys": {
    "equation": "Ctrl-E",
    "itemize": "Ctrl-I"
   },
   "labels_anchors": false,
   "latex_user_defs": false,
   "report_style_numbering": false,
   "user_envs_cfg": false
  },
  "varInspector": {
   "cols": {
    "lenName": 16,
    "lenType": 16,
    "lenVar": 40
   },
   "kernels_config": {
    "python": {
     "delete_cmd_postfix": "",
     "delete_cmd_prefix": "del ",
     "library": "var_list.py",
     "varRefreshCmd": "print(var_dic_list())"
    },
    "r": {
     "delete_cmd_postfix": ") ",
     "delete_cmd_prefix": "rm(",
     "library": "var_list.r",
     "varRefreshCmd": "cat(var_dic_list()) "
    }
   },
   "types_to_exclude": [
    "module",
    "function",
    "builtin_function_or_method",
    "instance",
    "_Feature"
   ],
   "window_display": false
  }
 },
 "nbformat": 4,
 "nbformat_minor": 2
}
