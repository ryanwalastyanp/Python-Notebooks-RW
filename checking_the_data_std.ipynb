{
 "cells": [
  {
   "cell_type": "markdown",
   "metadata": {},
   "source": [
    "## Checking the data\n",
    "\n",
    "One of the worst things that can happen in any analysis project is finding that weeks of work are wasted and all the conclusions drawn are false because there was a problem with the data set. For example it was loaded in incorrectly or the client made a mistake when putting the data together. Running through the checks described below can save you a lot of effort.\n",
    "\n",
    "As you proceed in your analysis it is also very useful to have a set of summary statistics against which to sense check the numbers. For example, if you are analysing customer data, then you should always keep in mind, as a benchmark, the total number of unique customers in the data set.\n",
    "\n",
    "It helps to run through all the things that can go wrong!\n",
    "\n",
    "Looking first at issues that might occur when loading the data\n",
    "\n",
    "1. It might be that the data is incomplete because not all of the rows were loaded\n",
    "\n",
    "2. Or it could be that some of the fields were given the wrong data type (e.g. a number is loaded as a text string)\n",
    "\n",
    "3. Or perhaps the software didn’t understand some of the values and replaced them with NAs\n",
    "\n",
    "And then there are problems that might have occurred at the source of the data\n",
    "\n",
    "1. There might have been data entry or processing errors that resulted in wrong or missing values in some of the fields.\n",
    "\n",
    "2. Some of the rows in the data might have been accidentally duplicated (this happens sometimes when querying database tables)\n",
    "\n",
    "We will address each of these concerns.\n",
    "\n",
    "Let's begin by loading each of the csvs in again."
   ]
  },
  {
   "cell_type": "code",
   "execution_count": null,
   "metadata": {},
   "outputs": [],
   "source": [
    "import pandas as pd\n",
    "working_dir  = \"../data/\"\n",
    "\n",
    "household_size = pd.read_csv(working_dir + 'HouseholdSize.csv', encoding = 'ISO-8859-1')\n",
    "admin_regions = pd.read_csv(working_dir + 'AdminRegions.csv', encoding = 'ISO-8859-1')\n",
    "approximated_social_grade = pd.read_csv(working_dir + 'ApproximatedSocialGrade.csv', encoding = 'ISO-8859-1')\n",
    "country_of_birth = pd.read_csv(working_dir + 'CountryOfBirthDetailed.csv', encoding = 'ISO-8859-1')\n",
    "customer_data = pd.read_csv(working_dir + 'CustomerData.csv', encoding = 'ISO-8859-1')\n",
    "postcode_to_ward_code = pd.read_csv(working_dir + 'PostcodeToWardCode.csv', encoding = 'ISO-8859-1')\n",
    "household_lifestage = pd.read_csv(working_dir + 'HouseholdLifestage.csv', encoding = 'ISO-8859-1')"
   ]
  },
  {
   "cell_type": "markdown",
   "metadata": {},
   "source": [
    "First let's look at the shape of the household_size data frame, that is the number of rows and columns"
   ]
  },
  {
   "cell_type": "code",
   "execution_count": null,
   "metadata": {},
   "outputs": [],
   "source": [
    "household_size.shape"
   ]
  },
  {
   "cell_type": "markdown",
   "metadata": {},
   "source": [
    "This can be checked off against the original csv file to ensure that all the rows and columns have been loaded. Next let's once again inspect the data using the `head` function. Next let's once again inspect the data using the `head` function"
   ]
  },
  {
   "cell_type": "code",
   "execution_count": null,
   "metadata": {},
   "outputs": [],
   "source": [
    "household_size.head()"
   ]
  },
  {
   "cell_type": "markdown",
   "metadata": {},
   "source": [
    " There are clearly some issues. For example row three of `two_people_in_household` contains a text value. Let's investigate the data types given by pandas to the columns. "
   ]
  },
  {
   "cell_type": "code",
   "execution_count": null,
   "metadata": {},
   "outputs": [],
   "source": [
    "household_size.dtypes"
   ]
  },
  {
   "cell_type": "markdown",
   "metadata": {},
   "source": [
    "We can see that this column has been imported as text (object means text for pandas). This needs to be fixed."
   ]
  },
  {
   "cell_type": "code",
   "execution_count": null,
   "metadata": {},
   "outputs": [],
   "source": [
    "household_size.two_people_in_household = pd.to_numeric(household_size.two_people_in_household, errors='coerce')\n",
    "household_size.dtypes"
   ]
  },
  {
   "cell_type": "markdown",
   "metadata": {},
   "source": [
    "Now we need to deal with NAs. We can either omit any rows containing them or we can replace them with a value."
   ]
  },
  {
   "cell_type": "code",
   "execution_count": null,
   "metadata": {},
   "outputs": [],
   "source": [
    "household_size = household_size.dropna() #Drop them\n",
    "#household_size = household_size.fillna(0) #Or replace them\n",
    "household_size.shape"
   ]
  },
  {
   "cell_type": "markdown",
   "metadata": {},
   "source": [
    "Duplicates are also easily excluded."
   ]
  },
  {
   "cell_type": "code",
   "execution_count": null,
   "metadata": {},
   "outputs": [],
   "source": [
    "household_size = household_size.drop_duplicates()\n",
    "household_size.shape"
   ]
  },
  {
   "cell_type": "markdown",
   "metadata": {},
   "source": [
    "Finally we should check our sense check data for extreme values. This is done using the describe function."
   ]
  },
  {
   "cell_type": "code",
   "execution_count": null,
   "metadata": {},
   "outputs": [],
   "source": [
    "household_size.describe()"
   ]
  },
  {
   "cell_type": "markdown",
   "metadata": {},
   "source": [
    "By default the describe function only includes numeric variables. Use [the documentation](http://pandas.pydata.org/pandas-docs/stable/generated/pandas.DataFrame.describe.html) to work out how to include categorical variables.\n",
    "\n",
    "Finally we will use pickle to save our work."
   ]
  },
  {
   "cell_type": "code",
   "execution_count": null,
   "metadata": {},
   "outputs": [],
   "source": [
    "household_size.to_pickle(working_dir + 'HouseholdSize.p')"
   ]
  },
  {
   "cell_type": "markdown",
   "metadata": {},
   "source": [
    "Or we could just write it back as a csv"
   ]
  },
  {
   "cell_type": "code",
   "execution_count": null,
   "metadata": {},
   "outputs": [],
   "source": [
    "#household_size.to_csv(working_dir + 'HouseholdSize.csv')"
   ]
  },
  {
   "cell_type": "markdown",
   "metadata": {},
   "source": [
    "Repeat the exercise with the dataframe for approximated_social_grade."
   ]
  }
 ],
 "metadata": {
  "kernelspec": {
   "display_name": "Python 3",
   "language": "python",
   "name": "python3"
  },
  "language_info": {
   "codemirror_mode": {
    "name": "ipython",
    "version": 3
   },
   "file_extension": ".py",
   "mimetype": "text/x-python",
   "name": "python",
   "nbconvert_exporter": "python",
   "pygments_lexer": "ipython3",
   "version": "3.6.4"
  }
 },
 "nbformat": 4,
 "nbformat_minor": 2
}
