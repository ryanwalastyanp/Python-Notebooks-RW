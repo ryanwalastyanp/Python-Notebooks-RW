{
 "cells": [
  {
   "cell_type": "code",
   "execution_count": 4,
   "metadata": {},
   "outputs": [],
   "source": [
    "import pandas as pd\n",
    "import numpy as np"
   ]
  },
  {
   "cell_type": "markdown",
   "metadata": {},
   "source": [
    "# Quick Quiz"
   ]
  },
  {
   "cell_type": "markdown",
   "metadata": {},
   "source": [
    "1. What does enumerate() do?\n",
    "2. What does zip() do?\n",
    "3. What is the difference between the following two statements:\n",
    "\n",
    "        [i+11 for i in range(10)] \n",
    "\n",
    "and \n",
    "\n",
    "        (i+11 for i in range(10))\n",
    "\n",
    "4. Which of the following are immutable data types: list, tuple, frozenset, dict?\n",
    "\n",
    "5. What is the difference between the following two declarations?\n",
    "\n",
    "        d1 = defaultdict(int)\n",
    "\n",
    "and\n",
    "\n",
    "        d2 = dict()"
   ]
  },
  {
   "cell_type": "markdown",
   "metadata": {},
   "source": [
    "# Functions and Arguments"
   ]
  },
  {
   "cell_type": "markdown",
   "metadata": {},
   "source": [
    "Functions can accept <b>parameters</b>. In the function signature and body we are talking about <b>arguments</b>.\n",
    "\n",
    "The below is a function that accepts one parameter. We can pass a single parameter to it."
   ]
  },
  {
   "cell_type": "code",
   "execution_count": 2,
   "metadata": {},
   "outputs": [],
   "source": [
    "def func(a):\n",
    "    return a"
   ]
  },
  {
   "cell_type": "code",
   "execution_count": 3,
   "metadata": {},
   "outputs": [
    {
     "data": {
      "text/plain": [
       "'s'"
      ]
     },
     "execution_count": 3,
     "metadata": {},
     "output_type": "execute_result"
    }
   ],
   "source": [
    "func('s')"
   ]
  },
  {
   "cell_type": "markdown",
   "metadata": {},
   "source": [
    "The below is a function that accepts two paramaters, one of which is set to have a default value."
   ]
  },
  {
   "cell_type": "code",
   "execution_count": 7,
   "metadata": {},
   "outputs": [],
   "source": [
    "def func2(a, s=\"string\"):##default set to string, can call with 1 argument or can over-write it\n",
    "    if s == \"string\":\n",
    "        x = 1\n",
    "    else:\n",
    "        x = 0\n",
    "    \n",
    "    return x"
   ]
  },
  {
   "cell_type": "code",
   "execution_count": 8,
   "metadata": {},
   "outputs": [
    {
     "data": {
      "text/plain": [
       "1"
      ]
     },
     "execution_count": 8,
     "metadata": {},
     "output_type": "execute_result"
    }
   ],
   "source": [
    "func2(1)    # note that I can skip passing the 2nd paramater if I accept the default"
   ]
  },
  {
   "cell_type": "code",
   "execution_count": 9,
   "metadata": {},
   "outputs": [
    {
     "data": {
      "text/plain": [
       "0"
      ]
     },
     "execution_count": 9,
     "metadata": {},
     "output_type": "execute_result"
    }
   ],
   "source": [
    "func2(1, \"more\")"
   ]
  },
  {
   "cell_type": "markdown",
   "metadata": {},
   "source": [
    "#### It is important to note that the default argument will be evaluated only once, which matters for mutable objects!"
   ]
  },
  {
   "cell_type": "code",
   "execution_count": 17,
   "metadata": {},
   "outputs": [],
   "source": [
    "# This matters for when we over-write the default argument\n",
    "\n",
    "def overwrite_default(S=''): ##strings are immutable\n",
    "    S = S+'.'\n",
    "    \n",
    "    return S"
   ]
  },
  {
   "cell_type": "code",
   "execution_count": 18,
   "metadata": {},
   "outputs": [
    {
     "name": "stdout",
     "output_type": "stream",
     "text": [
      ".\n",
      ".\n"
     ]
    }
   ],
   "source": [
    "print(overwrite_default())\n",
    "print(overwrite_default()) ##only appends the dot once, doesn't remember the changed strings"
   ]
  },
  {
   "cell_type": "code",
   "execution_count": 19,
   "metadata": {},
   "outputs": [],
   "source": [
    "def overwrite_default(S=[]): ##lists are mutable so remembers the modified string\n",
    "    S.append('.')\n",
    "    \n",
    "    return S"
   ]
  },
  {
   "cell_type": "code",
   "execution_count": 20,
   "metadata": {},
   "outputs": [
    {
     "name": "stdout",
     "output_type": "stream",
     "text": [
      "['.']\n",
      "['.', '.']\n"
     ]
    }
   ],
   "source": [
    "print(overwrite_default())\n",
    "print(overwrite_default()) ##don't overwite parameters, make copies of them"
   ]
  },
  {
   "cell_type": "markdown",
   "metadata": {},
   "source": [
    "### Python allows to work with keyword arguments like this:"
   ]
  },
  {
   "cell_type": "markdown",
   "metadata": {},
   "source": [
    "num is a positional argument\n",
    "color and size are keyword arguments (and their order is not important)"
   ]
  },
  {
   "cell_type": "code",
   "execution_count": 22,
   "metadata": {},
   "outputs": [],
   "source": [
    "def order_shirt(num, color='blue', size='M'):\n",
    "    print (\"You are ordering {0} shirt/s of color {1} and size {2}\".format(num, color, size))"
   ]
  },
  {
   "cell_type": "code",
   "execution_count": 23,
   "metadata": {},
   "outputs": [
    {
     "name": "stdout",
     "output_type": "stream",
     "text": [
      "You are ordering 1 shirt/s of color blue and size M\n"
     ]
    }
   ],
   "source": [
    "order_shirt(1)"
   ]
  },
  {
   "cell_type": "code",
   "execution_count": 25,
   "metadata": {},
   "outputs": [
    {
     "name": "stdout",
     "output_type": "stream",
     "text": [
      "You are ordering 10 shirt/s of color white and size M\n"
     ]
    }
   ],
   "source": [
    "order_shirt(10, color=\"white\")"
   ]
  },
  {
   "cell_type": "code",
   "execution_count": 26,
   "metadata": {},
   "outputs": [
    {
     "name": "stdout",
     "output_type": "stream",
     "text": [
      "You are ordering 10 shirt/s of color blue and size L\n"
     ]
    }
   ],
   "source": [
    "order_shirt(10, size=\"L\")"
   ]
  },
  {
   "cell_type": "code",
   "execution_count": 27,
   "metadata": {},
   "outputs": [
    {
     "name": "stdout",
     "output_type": "stream",
     "text": [
      "You are ordering 20 shirt/s of color black and size S\n"
     ]
    }
   ],
   "source": [
    "order_shirt(20, size='S', color='black')   # Note that order is not important"
   ]
  },
  {
   "cell_type": "markdown",
   "metadata": {},
   "source": [
    "### It is possible to collect argumets with * and ** for keyword arguments"
   ]
  },
  {
   "cell_type": "markdown",
   "metadata": {},
   "source": [
    "For example, my function can accept several parameters, and it can vary. The * does the unpacking."
   ]
  },
  {
   "cell_type": "code",
   "execution_count": 32,
   "metadata": {},
   "outputs": [],
   "source": [
    "def varied_arguments(*args):\n",
    "    \n",
    "    i = sum([1 for arg in args])\n",
    "    \n",
    "    return i"
   ]
  },
  {
   "cell_type": "code",
   "execution_count": 34,
   "metadata": {},
   "outputs": [
    {
     "name": "stdout",
     "output_type": "stream",
     "text": [
      "3\n",
      "1\n"
     ]
    }
   ],
   "source": [
    "print (varied_arguments(1,2,3))\n",
    "print (varied_arguments('one'))"
   ]
  },
  {
   "cell_type": "markdown",
   "metadata": {},
   "source": [
    "When combining positional, argument and key-word arguments with unpacking, it is important to follow order:"
   ]
  },
  {
   "cell_type": "code",
   "execution_count": 36,
   "metadata": {},
   "outputs": [],
   "source": [
    "def mix_arguments(pos, *args, **kwargs):\n",
    "    \n",
    "    i = sum([1 for arg in args])\n",
    "    j = sum([1 for kwarg in kwargs])\n",
    "    \n",
    "    return 1+i+j"
   ]
  },
  {
   "cell_type": "code",
   "execution_count": 37,
   "metadata": {},
   "outputs": [
    {
     "name": "stdout",
     "output_type": "stream",
     "text": [
      "6\n"
     ]
    }
   ],
   "source": [
    "print (mix_arguments('pos1', 1,2,4, key='k1', key2='k2'))"
   ]
  },
  {
   "cell_type": "code",
   "execution_count": 38,
   "metadata": {},
   "outputs": [
    {
     "name": "stdout",
     "output_type": "stream",
     "text": [
      "3\n"
     ]
    }
   ],
   "source": [
    "print (mix_arguments('pos1', key='k1', key2='k2'))"
   ]
  },
  {
   "cell_type": "code",
   "execution_count": 40,
   "metadata": {},
   "outputs": [],
   "source": [
    "# but this will result in an error - why?\n",
    "print (mix_arguments(1,2,4, key='k1', key2='k2', 'pos'))"
   ]
  },
  {
   "cell_type": "markdown",
   "metadata": {},
   "source": [
    "# Lambdas"
   ]
  },
  {
   "cell_type": "markdown",
   "metadata": {},
   "source": [
    "In Python, lambdas are anonimous functions. That is, these are functions without names and are defined, essentially, 'in-line'."
   ]
  },
  {
   "cell_type": "code",
   "execution_count": 1,
   "metadata": {},
   "outputs": [],
   "source": [
    "# example: use when the function is too simple to code fully\n",
    "\n",
    "def add_two_numbers(x,y):\n",
    "    return x+y\n",
    "\n",
    "add_two_numbers_lambda = lambda x, y: x+y #takes in x,y returns x+y, replicates the function above, no gain in speed, try not to use"
   ]
  },
  {
   "cell_type": "code",
   "execution_count": 2,
   "metadata": {},
   "outputs": [
    {
     "data": {
      "text/plain": [
       "10"
      ]
     },
     "execution_count": 2,
     "metadata": {},
     "output_type": "execute_result"
    }
   ],
   "source": [
    "add_two_numbers(5,5)"
   ]
  },
  {
   "cell_type": "code",
   "execution_count": 3,
   "metadata": {},
   "outputs": [
    {
     "data": {
      "text/plain": [
       "10"
      ]
     },
     "execution_count": 3,
     "metadata": {},
     "output_type": "execute_result"
    }
   ],
   "source": [
    "add_two_numbers_lambda(5,5)"
   ]
  },
  {
   "cell_type": "markdown",
   "metadata": {},
   "source": [
    "What we have done above is simply used lambda to define an anonimous function that adds two numbers.\n",
    "However, this is not very useful."
   ]
  },
  {
   "cell_type": "markdown",
   "metadata": {},
   "source": [
    "The best place to use lambdas is in maps, filters and apply-es."
   ]
  },
  {
   "cell_type": "markdown",
   "metadata": {},
   "source": [
    "Let's look at the map example. For example, we have a list of values, which we need to take sqrt if value is positive and square if it is negative."
   ]
  },
  {
   "cell_type": "markdown",
   "metadata": {},
   "source": [
    "This task can be easily accomplished with a method or a lambda, because it would have otherwise resulted in a short method and we don't plan on calling it again - just use lambdas."
   ]
  },
  {
   "cell_type": "code",
   "execution_count": 12,
   "metadata": {},
   "outputs": [],
   "source": [
    " l = np.random.randint(-10,10,10)"
   ]
  },
  {
   "cell_type": "code",
   "execution_count": 15,
   "metadata": {},
   "outputs": [
    {
     "data": {
      "text/plain": [
       "[2.23606797749979,\n",
       " 1.7320508075688772,\n",
       " 1.7320508075688772,\n",
       " 1,\n",
       " 2.23606797749979,\n",
       " 1.4142135623730951,\n",
       " 16,\n",
       " 3.0,\n",
       " 1.0,\n",
       " 81]"
      ]
     },
     "execution_count": 15,
     "metadata": {},
     "output_type": "execute_result"
    }
   ],
   "source": [
    "list(map(lambda x: np.sqrt(x) if x >0 else x*x, l)) #no variable assignment, can't be recalled as not stored"
   ]
  },
  {
   "cell_type": "markdown",
   "metadata": {},
   "source": [
    "So, if disect the above line of code we have:\n",
    "\n",
    "1. map (func, operate_on)\n",
    "\n",
    "2. operate_on is a list of 10 random integers\n",
    "\n",
    "3. func is a lambda function, that accepts one argument and returns srt() of it, if it is greater than zero, or it returns its square otherwise"
   ]
  },
  {
   "cell_type": "code",
   "execution_count": 20,
   "metadata": {},
   "outputs": [
    {
     "data": {
      "text/plain": [
       "'a SENTeNCe'"
      ]
     },
     "execution_count": 20,
     "metadata": {},
     "output_type": "execute_result"
    }
   ],
   "source": [
    "# Let's write a map that converts each letter to its opposite case\n",
    "\n",
    "''.join(list(map(lambda s: s.upper() if s.islower() else s.lower(), \"A sentEncE\")))"
   ]
  },
  {
   "cell_type": "code",
   "execution_count": 21,
   "metadata": {},
   "outputs": [],
   "source": [
    "# Let's write a map that converts a list of values to three groups of values\n",
    "# if value is less than 1, convert to 'small', if between 1 and 5, convert to 'med', else convert to 'large'"
   ]
  },
  {
   "cell_type": "code",
   "execution_count": 24,
   "metadata": {},
   "outputs": [],
   "source": [
    " l = np.random.randint(-20,20,100)"
   ]
  },
  {
   "cell_type": "code",
   "execution_count": 25,
   "metadata": {},
   "outputs": [
    {
     "data": {
      "text/plain": [
       "array([  2,   2,   8,  -9,  10,   0,   3,  -2, -13, -11,   1, -11,  -5,\n",
       "        18, -16, -11, -16,  -9,   0, -20,  17,   3,   1,  14,   0,  11,\n",
       "        15,  19,  12, -14,  -3, -12,  16, -17,  11, -16,  -6, -18,  -6,\n",
       "       -15, -11,   2,  15,  17,  14,   4, -10,  -8,   1, -12,   6, -11,\n",
       "        16,   8,   1,   8,  -7,   4, -20, -18,  -8, -11, -12,   6, -20,\n",
       "        -5, -18,  15,   3,  -7,   2, -17, -14,  14,  19,   7, -14,  12,\n",
       "       -19, -18, -11,   9,  -3,  -2,  -7,  -4,  13,  11, -16, -11,  12,\n",
       "        15,  -1,  -6,  13,  19,  -4,   9,  18, -13])"
      ]
     },
     "execution_count": 25,
     "metadata": {},
     "output_type": "execute_result"
    }
   ],
   "source": [
    "l"
   ]
  },
  {
   "cell_type": "code",
   "execution_count": 27,
   "metadata": {},
   "outputs": [
    {
     "data": {
      "text/plain": [
       "['med',\n",
       " 'med',\n",
       " 'large',\n",
       " 'small',\n",
       " 'large',\n",
       " 'small',\n",
       " 'med',\n",
       " 'small',\n",
       " 'small',\n",
       " 'small',\n",
       " 'med',\n",
       " 'small',\n",
       " 'small',\n",
       " 'large',\n",
       " 'small',\n",
       " 'small',\n",
       " 'small',\n",
       " 'small',\n",
       " 'small',\n",
       " 'small',\n",
       " 'large',\n",
       " 'med',\n",
       " 'med',\n",
       " 'large',\n",
       " 'small',\n",
       " 'large',\n",
       " 'large',\n",
       " 'large',\n",
       " 'large',\n",
       " 'small',\n",
       " 'small',\n",
       " 'small',\n",
       " 'large',\n",
       " 'small',\n",
       " 'large',\n",
       " 'small',\n",
       " 'small',\n",
       " 'small',\n",
       " 'small',\n",
       " 'small',\n",
       " 'small',\n",
       " 'med',\n",
       " 'large',\n",
       " 'large',\n",
       " 'large',\n",
       " 'med',\n",
       " 'small',\n",
       " 'small',\n",
       " 'med',\n",
       " 'small',\n",
       " 'large',\n",
       " 'small',\n",
       " 'large',\n",
       " 'large',\n",
       " 'med',\n",
       " 'large',\n",
       " 'small',\n",
       " 'med',\n",
       " 'small',\n",
       " 'small',\n",
       " 'small',\n",
       " 'small',\n",
       " 'small',\n",
       " 'large',\n",
       " 'small',\n",
       " 'small',\n",
       " 'small',\n",
       " 'large',\n",
       " 'med',\n",
       " 'small',\n",
       " 'med',\n",
       " 'small',\n",
       " 'small',\n",
       " 'large',\n",
       " 'large',\n",
       " 'large',\n",
       " 'small',\n",
       " 'large',\n",
       " 'small',\n",
       " 'small',\n",
       " 'small',\n",
       " 'large',\n",
       " 'small',\n",
       " 'small',\n",
       " 'small',\n",
       " 'small',\n",
       " 'large',\n",
       " 'large',\n",
       " 'small',\n",
       " 'small',\n",
       " 'large',\n",
       " 'large',\n",
       " 'small',\n",
       " 'small',\n",
       " 'large',\n",
       " 'large',\n",
       " 'small',\n",
       " 'large',\n",
       " 'large',\n",
       " 'small']"
      ]
     },
     "execution_count": 27,
     "metadata": {},
     "output_type": "execute_result"
    }
   ],
   "source": [
    "list(map(lambda x: 'small' if x<1 else ('large' if x > 5 else 'med'), l))"
   ]
  },
  {
   "cell_type": "markdown",
   "metadata": {},
   "source": [
    "# Collections"
   ]
  },
  {
   "cell_type": "markdown",
   "metadata": {},
   "source": [
    "Collections module is a very useful module for super-fast built-in container objects. We have already used defaultdict from collections. Take a look at the full module on-line: https://docs.python.org/2/library/collections.html\n"
   ]
  },
  {
   "cell_type": "markdown",
   "metadata": {},
   "source": [
    "We will look at Counters, which is a very usefull library."
   ]
  },
  {
   "cell_type": "code",
   "execution_count": 28,
   "metadata": {},
   "outputs": [],
   "source": [
    "from collections import Counter"
   ]
  },
  {
   "cell_type": "markdown",
   "metadata": {},
   "source": [
    "#### Counting characters in a string:"
   ]
  },
  {
   "cell_type": "code",
   "execution_count": 29,
   "metadata": {},
   "outputs": [],
   "source": [
    "char_count = Counter(\"Count my characters\")"
   ]
  },
  {
   "cell_type": "code",
   "execution_count": 30,
   "metadata": {},
   "outputs": [
    {
     "data": {
      "text/plain": [
       "Counter({'C': 1,\n",
       "         'o': 1,\n",
       "         'u': 1,\n",
       "         'n': 1,\n",
       "         't': 2,\n",
       "         ' ': 2,\n",
       "         'm': 1,\n",
       "         'y': 1,\n",
       "         'c': 2,\n",
       "         'h': 1,\n",
       "         'a': 2,\n",
       "         'r': 2,\n",
       "         'e': 1,\n",
       "         's': 1})"
      ]
     },
     "execution_count": 30,
     "metadata": {},
     "output_type": "execute_result"
    }
   ],
   "source": [
    "char_count"
   ]
  },
  {
   "cell_type": "markdown",
   "metadata": {},
   "source": [
    "#### Count unique elements in a list"
   ]
  },
  {
   "cell_type": "code",
   "execution_count": 33,
   "metadata": {},
   "outputs": [],
   "source": [
    "list_count = Counter([\"one\", \"two\", \"two\", \"five\", \"three\", \"five\"])"
   ]
  },
  {
   "cell_type": "code",
   "execution_count": 34,
   "metadata": {},
   "outputs": [
    {
     "data": {
      "text/plain": [
       "Counter({'one': 1, 'two': 2, 'five': 2, 'three': 1})"
      ]
     },
     "execution_count": 34,
     "metadata": {},
     "output_type": "execute_result"
    }
   ],
   "source": [
    "list_count"
   ]
  },
  {
   "cell_type": "code",
   "execution_count": 41,
   "metadata": {},
   "outputs": [
    {
     "data": {
      "text/plain": [
       "[('two', 2)]"
      ]
     },
     "execution_count": 41,
     "metadata": {},
     "output_type": "execute_result"
    }
   ],
   "source": [
    "#I can ask for the most common element in a counter\n",
    "list_count.most_common(1)"
   ]
  },
  {
   "cell_type": "markdown",
   "metadata": {},
   "source": [
    "#### Count words in a sentence"
   ]
  },
  {
   "cell_type": "code",
   "execution_count": 44,
   "metadata": {},
   "outputs": [],
   "source": [
    "word_sent_count = Counter(\"A word once, a word once more, and finally another word\".split(\" \"))"
   ]
  },
  {
   "cell_type": "code",
   "execution_count": 45,
   "metadata": {},
   "outputs": [
    {
     "data": {
      "text/plain": [
       "Counter({'A': 1,\n",
       "         'word': 3,\n",
       "         'once,': 1,\n",
       "         'a': 1,\n",
       "         'once': 1,\n",
       "         'more,': 1,\n",
       "         'and': 1,\n",
       "         'finally': 1,\n",
       "         'another': 1})"
      ]
     },
     "execution_count": 45,
     "metadata": {},
     "output_type": "execute_result"
    }
   ],
   "source": [
    "word_sent_count"
   ]
  },
  {
   "cell_type": "markdown",
   "metadata": {},
   "source": [
    "# Home Work"
   ]
  },
  {
   "cell_type": "markdown",
   "metadata": {},
   "source": [
    "\n",
    "Write a function that accepts a sentence, and returns either count of words in that sentence or count of characters.\n",
    "It should default to count of words. If counting characters, then, allow to count punctuation in the sentence as well. But default to not counting punctuation.\n",
    "\n",
    "The function signature should be like this:\n"
   ]
  },
  {
   "cell_type": "code",
   "execution_count": 9,
   "metadata": {},
   "outputs": [],
   "source": [
    "from string import punctuation\n",
    "from collections import Counter\n",
    "\n",
    "def custom_counter(sentence, as_words=True, punc=False):\n",
    "    count = 0\n",
    "    no_punc = ''.join(c for c in sentence if c not in punctuation)\n",
    "    if punc:\n",
    "        sentence = no_punc + ' '.join(c for c in sentence if c in punctuation)\n",
    "    else:\n",
    "        sentence = no_punc\n",
    "    \n",
    "    if as_words:\n",
    "        count = Counter(sentence.split(\" \"))\n",
    "    else:\n",
    "        count = Counter(sentence)\n",
    "    \n",
    "    return count"
   ]
  },
  {
   "cell_type": "markdown",
   "metadata": {},
   "source": [
    "Test your function on the following sentence:\n",
    "\"If You Are Jumping Up and Down in Muddy Puddles, You Must Wear Boots! George, You have Done it All Wrong! I Do Not Snort! I am Peppa Pig!\""
   ]
  },
  {
   "cell_type": "markdown",
   "metadata": {},
   "source": [
    "Test your function with last two parameters taking variable values."
   ]
  },
  {
   "cell_type": "code",
   "execution_count": 11,
   "metadata": {},
   "outputs": [],
   "source": [
    "test_sentence = \"If You Are Jumping Up and Down in Muddy Puddles, You Must Wear Boots! George, You have Done it All Wrong! I Do Not Snort! I am Peppa Pig!\""
   ]
  },
  {
   "cell_type": "code",
   "execution_count": 12,
   "metadata": {},
   "outputs": [
    {
     "data": {
      "text/plain": [
       "Counter({'!': 4,\n",
       "         ',': 1,\n",
       "         'All': 1,\n",
       "         'Are': 1,\n",
       "         'Boots': 1,\n",
       "         'Do': 1,\n",
       "         'Done': 1,\n",
       "         'Down': 1,\n",
       "         'George': 1,\n",
       "         'I': 2,\n",
       "         'If': 1,\n",
       "         'Jumping': 1,\n",
       "         'Muddy': 1,\n",
       "         'Must': 1,\n",
       "         'Not': 1,\n",
       "         'Peppa': 1,\n",
       "         'Pig,': 1,\n",
       "         'Puddles': 1,\n",
       "         'Snort': 1,\n",
       "         'Up': 1,\n",
       "         'Wear': 1,\n",
       "         'Wrong': 1,\n",
       "         'You': 3,\n",
       "         'am': 1,\n",
       "         'and': 1,\n",
       "         'have': 1,\n",
       "         'in': 1,\n",
       "         'it': 1})"
      ]
     },
     "execution_count": 12,
     "metadata": {},
     "output_type": "execute_result"
    }
   ],
   "source": [
    "custom_counter(test_sentence, as_words=True, punc=True)"
   ]
  },
  {
   "cell_type": "code",
   "execution_count": 13,
   "metadata": {},
   "outputs": [
    {
     "data": {
      "text/plain": [
       "Counter({'All': 1,\n",
       "         'Are': 1,\n",
       "         'Boots': 1,\n",
       "         'Do': 1,\n",
       "         'Done': 1,\n",
       "         'Down': 1,\n",
       "         'George': 1,\n",
       "         'I': 2,\n",
       "         'If': 1,\n",
       "         'Jumping': 1,\n",
       "         'Muddy': 1,\n",
       "         'Must': 1,\n",
       "         'Not': 1,\n",
       "         'Peppa': 1,\n",
       "         'Pig': 1,\n",
       "         'Puddles': 1,\n",
       "         'Snort': 1,\n",
       "         'Up': 1,\n",
       "         'Wear': 1,\n",
       "         'Wrong': 1,\n",
       "         'You': 3,\n",
       "         'am': 1,\n",
       "         'and': 1,\n",
       "         'have': 1,\n",
       "         'in': 1,\n",
       "         'it': 1})"
      ]
     },
     "execution_count": 13,
     "metadata": {},
     "output_type": "execute_result"
    }
   ],
   "source": [
    "custom_counter(test_sentence, as_words=True, punc=False)"
   ]
  },
  {
   "cell_type": "code",
   "execution_count": 14,
   "metadata": {},
   "outputs": [
    {
     "data": {
      "text/plain": [
       "Counter({' ': 28,\n",
       "         'A': 2,\n",
       "         'B': 1,\n",
       "         'D': 3,\n",
       "         'G': 1,\n",
       "         'I': 3,\n",
       "         'J': 1,\n",
       "         'M': 2,\n",
       "         'N': 1,\n",
       "         'P': 3,\n",
       "         'S': 1,\n",
       "         'U': 1,\n",
       "         'W': 2,\n",
       "         'Y': 3,\n",
       "         'a': 5,\n",
       "         'd': 5,\n",
       "         'e': 8,\n",
       "         'f': 1,\n",
       "         'g': 4,\n",
       "         'h': 1,\n",
       "         'i': 4,\n",
       "         'l': 3,\n",
       "         'm': 2,\n",
       "         'n': 7,\n",
       "         'o': 12,\n",
       "         'p': 4,\n",
       "         'r': 5,\n",
       "         's': 3,\n",
       "         't': 5,\n",
       "         'u': 7,\n",
       "         'v': 1,\n",
       "         'w': 1,\n",
       "         'y': 1})"
      ]
     },
     "execution_count": 14,
     "metadata": {},
     "output_type": "execute_result"
    }
   ],
   "source": [
    "custom_counter(test_sentence, as_words=False, punc=False)"
   ]
  },
  {
   "cell_type": "code",
   "execution_count": 15,
   "metadata": {},
   "outputs": [
    {
     "data": {
      "text/plain": [
       "Counter({' ': 33,\n",
       "         '!': 4,\n",
       "         ',': 2,\n",
       "         'A': 2,\n",
       "         'B': 1,\n",
       "         'D': 3,\n",
       "         'G': 1,\n",
       "         'I': 3,\n",
       "         'J': 1,\n",
       "         'M': 2,\n",
       "         'N': 1,\n",
       "         'P': 3,\n",
       "         'S': 1,\n",
       "         'U': 1,\n",
       "         'W': 2,\n",
       "         'Y': 3,\n",
       "         'a': 5,\n",
       "         'd': 5,\n",
       "         'e': 8,\n",
       "         'f': 1,\n",
       "         'g': 4,\n",
       "         'h': 1,\n",
       "         'i': 4,\n",
       "         'l': 3,\n",
       "         'm': 2,\n",
       "         'n': 7,\n",
       "         'o': 12,\n",
       "         'p': 4,\n",
       "         'r': 5,\n",
       "         's': 3,\n",
       "         't': 5,\n",
       "         'u': 7,\n",
       "         'v': 1,\n",
       "         'w': 1,\n",
       "         'y': 1})"
      ]
     },
     "execution_count": 15,
     "metadata": {},
     "output_type": "execute_result"
    }
   ],
   "source": [
    "custom_counter(test_sentence, as_words=False, punc=True)"
   ]
  },
  {
   "cell_type": "code",
   "execution_count": null,
   "metadata": {},
   "outputs": [],
   "source": []
  }
 ],
 "metadata": {
  "kernelspec": {
   "display_name": "Python 3",
   "language": "python",
   "name": "python3"
  },
  "language_info": {
   "codemirror_mode": {
    "name": "ipython",
    "version": 3
   },
   "file_extension": ".py",
   "mimetype": "text/x-python",
   "name": "python",
   "nbconvert_exporter": "python",
   "pygments_lexer": "ipython3",
   "version": "3.6.3"
  }
 },
 "nbformat": 4,
 "nbformat_minor": 2
}
