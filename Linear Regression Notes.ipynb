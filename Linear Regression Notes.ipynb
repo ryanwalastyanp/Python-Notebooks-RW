{
 "cells": [
  {
   "cell_type": "code",
   "execution_count": null,
   "metadata": {},
   "outputs": [],
   "source": [
    "from sklearn.model_selection import train_test_split\n",
    "X_train, X_test, y_train, y_test = train_test_split(X, y, test_size=0.2, random_state=100)\n",
    "\n",
    "from sklearn.linear_model import LinearRegression\n",
    "lin_res = LinearRegression()\n",
    "lin_res.fit(X_train,y_train)\n",
    "\n",
    "from sklearn.metrics import mean_squared_error\n",
    "from sklearn.metrics import r2_score\n",
    " \n",
    "model_y_pred = lin_res.predict(X_test)\n",
    "\n",
    "print(mean_squared_error(y_test, model_y_pred))\n",
    "print(np.sqrt(mean_squared_error(y_test, model_y_pred)))\n",
    "print(r2_score(y_test, model_y_pred))"
   ]
  }
 ],
 "metadata": {
  "kernelspec": {
   "display_name": "Python 3",
   "language": "python",
   "name": "python3"
  },
  "language_info": {
   "codemirror_mode": {
    "name": "ipython",
    "version": 3
   },
   "file_extension": ".py",
   "mimetype": "text/x-python",
   "name": "python",
   "nbconvert_exporter": "python",
   "pygments_lexer": "ipython3",
   "version": "3.7.0"
  }
 },
 "nbformat": 4,
 "nbformat_minor": 2
}
