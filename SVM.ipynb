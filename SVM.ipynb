{
 "cells": [
  {
   "cell_type": "code",
   "execution_count": 1,
   "metadata": {},
   "outputs": [],
   "source": [
    "import pandas as pd\n",
    "import numpy as np\n",
    "import matplotlib.pyplot as plt\n",
    "from sklearn import svm, datasets\n",
    "%matplotlib inline"
   ]
  },
  {
   "cell_type": "code",
   "execution_count": 2,
   "metadata": {},
   "outputs": [],
   "source": [
    "iris = datasets.load_iris()\n",
    "X = iris.data[:, :2] # we only take the first two features.\n",
    "y = iris.target"
   ]
  },
  {
   "cell_type": "code",
   "execution_count": 3,
   "metadata": {},
   "outputs": [],
   "source": [
    "# Plot resulting Support Vector boundaries with original data\n",
    "# Create fake input data for prediction that we will use for plotting, create a mesh to plot in\n",
    "x_min, x_max = X[:, 0].min() - 1, X[:, 0].max() + 1\n",
    "y_min, y_max = X[:, 1].min() - 1, X[:, 1].max() + 1\n",
    "h = (x_max / x_min)/100\n",
    "xx, yy = np.meshgrid(np.arange(x_min, x_max, h),\n",
    " np.arange(y_min, y_max, h))\n",
    "X_plot = np.c_[xx.ravel(), yy.ravel()]"
   ]
  },
  {
   "cell_type": "code",
   "execution_count": 13,
   "metadata": {},
   "outputs": [
    {
     "data": {
      "image/png": "[encoded data removed]",
      "text/plain": [
       "<matplotlib.figure.Figure at 0xc615278>"
      ]
     },
     "metadata": {},
     "output_type": "display_data"
    }
   ],
   "source": [
    "# Create the SVC model object\n",
    "C = 1.0 # SVM regularization parameter\n",
    "svc = svm.LinearSVC(C=C, multi_class='crammer_singer').fit(X, y)\n",
    "Z = svc.predict(X_plot)\n",
    "Z = Z.reshape(xx.shape)\n",
    "\n",
    "plt.figure(figsize=(15, 5))\n",
    "plt.subplot(121)\n",
    "plt.contourf(xx, yy, Z, cmap=plt.cm.tab10, alpha=0.3)\n",
    "plt.scatter(X[:, 0], X[:, 1], c=y, cmap=plt.cm.Set1)\n",
    "plt.xlabel('Sepal length')\n",
    "plt.ylabel('Sepal width')\n",
    "plt.xlim(xx.min(), xx.max())\n",
    "plt.title('SVC with linear kernel')\n",
    "\n",
    "# Create the SVC model object\n",
    "##C = 1.0 # SVM regularization parameter\n",
    "##svc = svm.LinearSVC(kernel='rbf', C=C, multi_class='crammer_singer').fit(X, y)\n",
    "\n",
    "##Z = svc.predict(X_plot)\n",
    "##Z = Z.reshape(xx.shape)\n",
    "\n",
    "##plt.subplot(122)\n",
    "##plt.contourf(xx, yy, Z, cmap=plt.cm.tab10, alpha=0.3)\n",
    "##plt.scatter(X[:, 0], X[:, 1], c=y, cmap=plt.cm.Set1)\n",
    "##plt.xlabel('Sepal length')\n",
    "##plt.ylabel('Sepal width')\n",
    "##plt.xlim(xx.min(), xx.max())\n",
    "##plt.title('SVC with RBF kernel')\n",
    "\n",
    "plt.show()"
   ]
  },
  {
   "cell_type": "code",
   "execution_count": 9,
   "metadata": {},
   "outputs": [
    {
     "name": "stdout",
     "output_type": "stream",
     "text": [
      "# Tuning hyper-parameters\n",
      "\n",
      "Best parameters set found on development set:\n",
      "\n",
      "{'C': 100, 'gamma': 0.01, 'kernel': 'rbf'}\n",
      "\n",
      "Grid scores on training set:\n",
      "\n",
      "0.652 (+/-0.112) for {'C': 1, 'gamma': 0.0001, 'kernel': 'rbf'}\n",
      "0.652 (+/-0.112) for {'C': 1, 'gamma': 0.001, 'kernel': 'rbf'}\n",
      "0.652 (+/-0.112) for {'C': 1, 'gamma': 0.01, 'kernel': 'rbf'}\n",
      "0.768 (+/-0.232) for {'C': 1, 'gamma': 0.1, 'kernel': 'rbf'}\n",
      "0.777 (+/-0.236) for {'C': 1, 'gamma': 0.2, 'kernel': 'rbf'}\n",
      "0.804 (+/-0.220) for {'C': 1, 'gamma': 0.5, 'kernel': 'rbf'}\n",
      "0.652 (+/-0.112) for {'C': 10, 'gamma': 0.0001, 'kernel': 'rbf'}\n",
      "0.652 (+/-0.112) for {'C': 10, 'gamma': 0.001, 'kernel': 'rbf'}\n",
      "0.786 (+/-0.205) for {'C': 10, 'gamma': 0.01, 'kernel': 'rbf'}\n",
      "0.795 (+/-0.233) for {'C': 10, 'gamma': 0.1, 'kernel': 'rbf'}\n",
      "0.786 (+/-0.220) for {'C': 10, 'gamma': 0.2, 'kernel': 'rbf'}\n",
      "0.804 (+/-0.220) for {'C': 10, 'gamma': 0.5, 'kernel': 'rbf'}\n",
      "0.652 (+/-0.112) for {'C': 100, 'gamma': 0.0001, 'kernel': 'rbf'}\n",
      "0.786 (+/-0.205) for {'C': 100, 'gamma': 0.001, 'kernel': 'rbf'}\n",
      "0.812 (+/-0.212) for {'C': 100, 'gamma': 0.01, 'kernel': 'rbf'}\n",
      "0.777 (+/-0.212) for {'C': 100, 'gamma': 0.1, 'kernel': 'rbf'}\n",
      "0.804 (+/-0.220) for {'C': 100, 'gamma': 0.2, 'kernel': 'rbf'}\n",
      "0.812 (+/-0.255) for {'C': 100, 'gamma': 0.5, 'kernel': 'rbf'}\n",
      "0.786 (+/-0.205) for {'C': 1000, 'gamma': 0.0001, 'kernel': 'rbf'}\n",
      "0.812 (+/-0.212) for {'C': 1000, 'gamma': 0.001, 'kernel': 'rbf'}\n",
      "0.786 (+/-0.220) for {'C': 1000, 'gamma': 0.01, 'kernel': 'rbf'}\n",
      "0.795 (+/-0.197) for {'C': 1000, 'gamma': 0.1, 'kernel': 'rbf'}\n",
      "0.786 (+/-0.205) for {'C': 1000, 'gamma': 0.2, 'kernel': 'rbf'}\n",
      "0.768 (+/-0.228) for {'C': 1000, 'gamma': 0.5, 'kernel': 'rbf'}\n",
      "0.786 (+/-0.237) for {'C': 1, 'kernel': 'linear'}\n",
      "0.812 (+/-0.212) for {'C': 10, 'kernel': 'linear'}\n",
      "0.795 (+/-0.207) for {'C': 100, 'kernel': 'linear'}\n",
      "0.795 (+/-0.207) for {'C': 1000, 'kernel': 'linear'}\n",
      "\n"
     ]
    }
   ],
   "source": [
    "from sklearn.model_selection import train_test_split\n",
    "from sklearn.model_selection import GridSearchCV\n",
    "from sklearn.metrics import classification_report\n",
    "from sklearn.utils import shuffle\n",
    "\n",
    "# shuffle the dataset\n",
    "X, y = shuffle(X, y, random_state=0)\n",
    "\n",
    "# Split the dataset in two equal parts\n",
    "X_train, X_test, y_train, y_test = train_test_split(X, y, test_size=0.25, random_state=0)\n",
    "\n",
    "# Set the parameters by cross-validation\n",
    "parameters = [{'kernel': ['rbf'], 'gamma': [1e-4, 1e-3, 0.01, 0.1, 0.2, 0.5], 'C': [1, 10, 100, 1000]},\n",
    "              {'kernel': ['linear'], 'C': [1, 10, 100, 1000]}]\n",
    "\n",
    "print(\"# Tuning hyper-parameters\")\n",
    "print()\n",
    "\n",
    "clf = GridSearchCV(svm.SVC(decision_function_shape='ovr'), parameters, cv=5)\n",
    "clf.fit(X_train, y_train)\n",
    "\n",
    "print(\"Best parameters set found on development set:\")\n",
    "print()\n",
    "print(clf.best_params_)\n",
    "print()\n",
    "print(\"Grid scores on training set:\")\n",
    "print()\n",
    "means = clf.cv_results_['mean_test_score']\n",
    "stds = clf.cv_results_['std_test_score']\n",
    "for mean, std, params in zip(means, stds, clf.cv_results_['params']):\n",
    "    print(\"%0.3f (+/-%0.03f) for %r\"\n",
    "          % (mean, std * 2, params))\n",
    "print()"
   ]
  },
  {
   "cell_type": "code",
   "execution_count": 10,
   "metadata": {},
   "outputs": [
    {
     "name": "stdout",
     "output_type": "stream",
     "text": [
      "Detailed classification report:\n",
      "\n",
      "The model is trained on the full development set.\n",
      "The scores are computed on the full evaluation set.\n",
      "\n",
      "             precision    recall  f1-score   support\n",
      "\n",
      "          0       1.00      1.00      1.00        11\n",
      "          1       0.60      0.82      0.69        11\n",
      "          2       0.83      0.62      0.71        16\n",
      "\n",
      "avg / total       0.81      0.79      0.79        38\n",
      "\n",
      "\n"
     ]
    }
   ],
   "source": [
    "print(\"Detailed classification report:\")\n",
    "print()\n",
    "print(\"The model is trained on the full development set.\")\n",
    "print(\"The scores are computed on the full evaluation set.\")\n",
    "print()\n",
    "y_true, y_pred = y_test, clf.predict(X_test)\n",
    "print(classification_report(y_true, y_pred))\n",
    "print()"
   ]
  },
  {
   "cell_type": "code",
   "execution_count": null,
   "metadata": {},
   "outputs": [],
   "source": []
  }
 ],
 "metadata": {
  "kernelspec": {
   "display_name": "Python 3",
   "language": "python",
   "name": "python3"
  },
  "language_info": {
   "codemirror_mode": {
    "name": "ipython",
    "version": 3
   },
   "file_extension": ".py",
   "mimetype": "text/x-python",
   "name": "python",
   "nbconvert_exporter": "python",
   "pygments_lexer": "ipython3",
   "version": "3.6.3"
  }
 },
 "nbformat": 4,
 "nbformat_minor": 2
}
