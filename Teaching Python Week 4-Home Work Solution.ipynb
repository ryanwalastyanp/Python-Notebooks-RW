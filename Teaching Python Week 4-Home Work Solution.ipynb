{
 "cells": [
  {
   "cell_type": "code",
   "execution_count": 1,
   "metadata": {},
   "outputs": [],
   "source": [
    "import pandas as pd\n",
    "import numpy as np\n",
    "from collections import Counter"
   ]
  },
  {
   "cell_type": "markdown",
   "metadata": {},
   "source": [
    "# Home Work"
   ]
  },
  {
   "cell_type": "markdown",
   "metadata": {},
   "source": [
    "\n",
    "Write a function that accepts a sentence, and returns either count of words in that sentence or count of characters.\n",
    "It should default to count of words. If counting characters, then, allow to count punctuation in the sentence as well. But default to not counting punctuation.\n",
    "\n",
    "The function signature should be like this:\n"
   ]
  },
  {
   "cell_type": "code",
   "execution_count": null,
   "metadata": {},
   "outputs": [],
   "source": [
    "def custom_counter(sentence, as_words=True, punc=False):"
   ]
  },
  {
   "cell_type": "markdown",
   "metadata": {},
   "source": [
    "Test your function on the following sentence:\n",
    "\"If You Are Jumping Up and Down in Muddy Puddles, You Must Wear Boots! George, You have Done it All Wrong! I Do Not Snort! I am Peppa Pig!\""
   ]
  },
  {
   "cell_type": "markdown",
   "metadata": {},
   "source": [
    "Test your function with last two parameters taking variable values."
   ]
  },
  {
   "cell_type": "code",
   "execution_count": 59,
   "metadata": {},
   "outputs": [],
   "source": [
    "from string import punctuation\n",
    "\n",
    "def custom_counter(sentence, as_words=True, punc=False):\n",
    "    \n",
    "    ret_val = 0\n",
    "    \n",
    "    sentence_mod = ''.join(c for c in sentence if c not in punctuation)\n",
    "    if punc:\n",
    "        # we may need to separate-out punctuation for when counting words and punctuation\n",
    "        sentence = sentence_mod + ' '.join(c for c in sentence if c in punctuation)\n",
    "    else:\n",
    "        sentence = sentence_mod\n",
    "    \n",
    "    if as_words:\n",
    "        ret_val = Counter(sentence.split(\" \"))\n",
    "    else:\n",
    "        ret_val = Counter(sentence)\n",
    "        \n",
    "    return ret_val"
   ]
  },
  {
   "cell_type": "code",
   "execution_count": 34,
   "metadata": {},
   "outputs": [],
   "source": [
    "test_sentence = \"If You Are Jumping Up and Down in Muddy Puddles, You Must Wear Boots! George, You have Done it All Wrong! I Do Not Snort! I am Peppa Pig!\""
   ]
  },
  {
   "cell_type": "code",
   "execution_count": 60,
   "metadata": {},
   "outputs": [
    {
     "data": {
      "text/plain": [
       "Counter({'If': 1,\n",
       "         'You': 3,\n",
       "         'Are': 1,\n",
       "         'Jumping': 1,\n",
       "         'Up': 1,\n",
       "         'and': 1,\n",
       "         'Down': 1,\n",
       "         'in': 1,\n",
       "         'Muddy': 1,\n",
       "         'Puddles': 1,\n",
       "         'Must': 1,\n",
       "         'Wear': 1,\n",
       "         'Boots': 1,\n",
       "         'George': 1,\n",
       "         'have': 1,\n",
       "         'Done': 1,\n",
       "         'it': 1,\n",
       "         'All': 1,\n",
       "         'Wrong': 1,\n",
       "         'I': 2,\n",
       "         'Do': 1,\n",
       "         'Not': 1,\n",
       "         'Snort': 1,\n",
       "         'am': 1,\n",
       "         'Peppa': 1,\n",
       "         'Pig,': 1,\n",
       "         '!': 4,\n",
       "         ',': 1})"
      ]
     },
     "execution_count": 60,
     "metadata": {},
     "output_type": "execute_result"
    }
   ],
   "source": [
    "custom_counter(test_sentence, as_words=True, punc=True)"
   ]
  },
  {
   "cell_type": "code",
   "execution_count": 62,
   "metadata": {},
   "outputs": [
    {
     "data": {
      "text/plain": [
       "Counter({'If': 1,\n",
       "         'You': 3,\n",
       "         'Are': 1,\n",
       "         'Jumping': 1,\n",
       "         'Up': 1,\n",
       "         'and': 1,\n",
       "         'Down': 1,\n",
       "         'in': 1,\n",
       "         'Muddy': 1,\n",
       "         'Puddles': 1,\n",
       "         'Must': 1,\n",
       "         'Wear': 1,\n",
       "         'Boots': 1,\n",
       "         'George': 1,\n",
       "         'have': 1,\n",
       "         'Done': 1,\n",
       "         'it': 1,\n",
       "         'All': 1,\n",
       "         'Wrong': 1,\n",
       "         'I': 2,\n",
       "         'Do': 1,\n",
       "         'Not': 1,\n",
       "         'Snort': 1,\n",
       "         'am': 1,\n",
       "         'Peppa': 1,\n",
       "         'Pig': 1})"
      ]
     },
     "execution_count": 62,
     "metadata": {},
     "output_type": "execute_result"
    }
   ],
   "source": [
    "custom_counter(test_sentence, as_words=True, punc=False)"
   ]
  },
  {
   "cell_type": "code",
   "execution_count": 57,
   "metadata": {},
   "outputs": [
    {
     "data": {
      "text/plain": [
       "Counter({'I': 3,\n",
       "         'f': 1,\n",
       "         ' ': 28,\n",
       "         'Y': 3,\n",
       "         'o': 12,\n",
       "         'u': 7,\n",
       "         'A': 2,\n",
       "         'r': 5,\n",
       "         'e': 8,\n",
       "         'J': 1,\n",
       "         'm': 2,\n",
       "         'p': 4,\n",
       "         'i': 4,\n",
       "         'n': 7,\n",
       "         'g': 4,\n",
       "         'U': 1,\n",
       "         'a': 5,\n",
       "         'd': 5,\n",
       "         'D': 3,\n",
       "         'w': 1,\n",
       "         'M': 2,\n",
       "         'y': 1,\n",
       "         'P': 3,\n",
       "         'l': 3,\n",
       "         's': 3,\n",
       "         't': 5,\n",
       "         'W': 2,\n",
       "         'B': 1,\n",
       "         'G': 1,\n",
       "         'h': 1,\n",
       "         'v': 1,\n",
       "         'N': 1,\n",
       "         'S': 1})"
      ]
     },
     "execution_count": 57,
     "metadata": {},
     "output_type": "execute_result"
    }
   ],
   "source": [
    "custom_counter(test_sentence, as_words=False, punc=False)"
   ]
  },
  {
   "cell_type": "code",
   "execution_count": 58,
   "metadata": {},
   "outputs": [
    {
     "data": {
      "text/plain": [
       "Counter({'If': 1,\n",
       "         'You': 3,\n",
       "         'Are': 1,\n",
       "         'Jumping': 1,\n",
       "         'Up': 1,\n",
       "         'and': 1,\n",
       "         'Down': 1,\n",
       "         'in': 1,\n",
       "         'Muddy': 1,\n",
       "         'Puddles': 1,\n",
       "         'Must': 1,\n",
       "         'Wear': 1,\n",
       "         'Boots': 1,\n",
       "         'George': 1,\n",
       "         'have': 1,\n",
       "         'Done': 1,\n",
       "         'it': 1,\n",
       "         'All': 1,\n",
       "         'Wrong': 1,\n",
       "         'I': 2,\n",
       "         'Do': 1,\n",
       "         'Not': 1,\n",
       "         'Snort': 1,\n",
       "         'am': 1,\n",
       "         'Peppa': 1,\n",
       "         'Pig,': 1,\n",
       "         '!': 4,\n",
       "         ',': 1})"
      ]
     },
     "execution_count": 58,
     "metadata": {},
     "output_type": "execute_result"
    }
   ],
   "source": [
    "custom_counter(test_sentence, as_words=True, punc=True)"
   ]
  },
  {
   "cell_type": "code",
   "execution_count": null,
   "metadata": {},
   "outputs": [],
   "source": []
  }
 ],
 "metadata": {
  "kernelspec": {
   "display_name": "Python 3",
   "language": "python",
   "name": "python3"
  },
  "language_info": {
   "codemirror_mode": {
    "name": "ipython",
    "version": 3
   },
   "file_extension": ".py",
   "mimetype": "text/x-python",
   "name": "python",
   "nbconvert_exporter": "python",
   "pygments_lexer": "ipython3",
   "version": "3.6.3"
  }
 },
 "nbformat": 4,
 "nbformat_minor": 2
}
