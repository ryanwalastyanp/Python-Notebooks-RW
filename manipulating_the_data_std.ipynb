{
 "cells": [
  {
   "cell_type": "markdown",
   "metadata": {},
   "source": [
    "# Manipulating the data\n",
    "\n",
    "As people are most familar with the SQL syntax we will begin by explaining how familar SQL operations can be done in pandas. Then we we'll move onto things that SQL can't do (or can't do easily!)\n",
    "\n",
    "### SQL equivalents"
   ]
  },
  {
   "cell_type": "markdown",
   "metadata": {},
   "source": [
    "First let's load in the library and the data"
   ]
  },
  {
   "cell_type": "code",
   "execution_count": null,
   "metadata": {},
   "outputs": [],
   "source": [
    "import pandas as pd\n",
    "working_dir  = \"../data/\"\n",
    "\n",
    "household_size = pd.read_csv(working_dir + 'HouseholdSize.csv', encoding = 'ISO-8859-1')\n",
    "admin_regions = pd.read_csv(working_dir + 'AdminRegions.csv', encoding = 'ISO-8859-1')\n",
    "approximated_social_grade = pd.read_csv(working_dir + 'ApproximatedSocialGrade.csv', encoding = 'ISO-8859-1')\n",
    "country_of_birth = pd.read_csv(working_dir + 'CountryOfBirthDetailed.csv', encoding = 'ISO-8859-1')\n",
    "customer_data = pd.read_csv(working_dir + 'CustomerData.csv', encoding = 'ISO-8859-1')\n",
    "postcode_to_ward_code = pd.read_csv(working_dir + 'PostcodeToWardCode.csv', encoding = 'ISO-8859-1')\n",
    "household_lifestage = pd.read_csv(working_dir + 'HouseholdLifestage.csv', encoding = 'ISO-8859-1')"
   ]
  },
  {
   "cell_type": "markdown",
   "metadata": {},
   "source": [
    "### Selects\n",
    "\n",
    "Selecting in pandas can be done using a list of column names inside square brackets"
   ]
  },
  {
   "cell_type": "code",
   "execution_count": null,
   "metadata": {},
   "outputs": [],
   "source": [
    "admin_stage = admin_regions[[\"ward_code\", \"ward_name\", \n",
    "            \"local_authority_name\", \"region_name\", \"country_name\"]]\n",
    "admin_stage.head()"
   ]
  },
  {
   "cell_type": "markdown",
   "metadata": {},
   "source": [
    "It can also be done using `loc` but note that we need to put a colon in for the first argument. More about `loc` below."
   ]
  },
  {
   "cell_type": "code",
   "execution_count": null,
   "metadata": {},
   "outputs": [],
   "source": [
    "admin_stage = admin_regions.loc[:, [\"ward_code\", \"ward_name\", \n",
    "            \"local_authority_name\", \"region_name\", \"country_name\"]]"
   ]
  },
  {
   "cell_type": "markdown",
   "metadata": {},
   "source": [
    "Pandas also has a nice feature where you can specify a range of columns using the names of the first and last column"
   ]
  },
  {
   "cell_type": "code",
   "execution_count": null,
   "metadata": {},
   "outputs": [],
   "source": [
    "approximated_social_grade_stage = approximated_social_grade.loc[:,\n",
    "       \"geography_code\":\"c2_skilled_manual_occupations\"]\n",
    "approximated_social_grade_stage.head()"
   ]
  },
  {
   "cell_type": "markdown",
   "metadata": {},
   "source": [
    "### Where\n",
    "\n",
    "Filtering can be done in pandas by placing a logical statment inside square brackets."
   ]
  },
  {
   "cell_type": "code",
   "execution_count": null,
   "metadata": {},
   "outputs": [],
   "source": [
    "england_data = admin_stage[admin_stage['country_name'] == \"England\"]\n",
    "england_data.head()"
   ]
  },
  {
   "cell_type": "markdown",
   "metadata": {},
   "source": [
    "As with the selects we can also use `loc`."
   ]
  },
  {
   "cell_type": "code",
   "execution_count": null,
   "metadata": {},
   "outputs": [],
   "source": [
    "england_data = admin_stage.loc[admin_stage['country_name'] == \"England\",:]"
   ]
  },
  {
   "cell_type": "markdown",
   "metadata": {},
   "source": [
    "As you've probably guessed the real advantage of `loc` is that we can combine the select and filtering operations."
   ]
  },
  {
   "cell_type": "code",
   "execution_count": null,
   "metadata": {},
   "outputs": [],
   "source": [
    "england_data = admin_stage.loc[admin_stage['country_name'] == \"England\",[\"local_authority_name\", \"region_name\"]]\n",
    "england_data.head()"
   ]
  },
  {
   "cell_type": "markdown",
   "metadata": {},
   "source": [
    "### Order by\n",
    "\n",
    "Here we simply use the `sort_values` method."
   ]
  },
  {
   "cell_type": "code",
   "execution_count": null,
   "metadata": {},
   "outputs": [],
   "source": [
    "england_sorted = england_data.sort_values(by=['region_name', 'local_authority_name'])\n",
    "england_sorted.head()"
   ]
  },
  {
   "cell_type": "markdown",
   "metadata": {},
   "source": [
    "Note how we can *chain* these methods to do many jobs in one go."
   ]
  },
  {
   "cell_type": "code",
   "execution_count": null,
   "metadata": {},
   "outputs": [],
   "source": [
    "england_sorted = admin_stage.loc[admin_stage['country_name'] == \"England\",[\"local_authority_name\", \"region_name\"]].sort_values(by=['region_name', 'local_authority_name'])\n",
    "england_sorted.head()"
   ]
  },
  {
   "cell_type": "markdown",
   "metadata": {},
   "source": [
    "### Joins\n",
    "\n",
    "The `merge` function covers the full range of SQL joins."
   ]
  },
  {
   "cell_type": "code",
   "execution_count": null,
   "metadata": {},
   "outputs": [],
   "source": [
    "customer_add_ward_code = pd.merge(customer_data, \n",
    "       postcode_to_ward_code, how=\"inner\", on = \"postcode\")\n",
    "customer_add_ward_code.head()"
   ]
  },
  {
   "cell_type": "markdown",
   "metadata": {},
   "source": [
    "Note we need to drop some columns which is easily done."
   ]
  },
  {
   "cell_type": "code",
   "execution_count": null,
   "metadata": {},
   "outputs": [],
   "source": [
    "customer_add_ward_code = customer_add_ward_code.drop(columns=['Unnamed: 0_x', 'Unnamed: 0_y'])\n",
    "customer_add_ward_code.head()"
   ]
  },
  {
   "cell_type": "markdown",
   "metadata": {},
   "source": [
    "### Group by\n",
    "\n",
    "Grouping and summarising is a little different. Pandas uses a concept called **hierarchical indexing**. This is worth looking up as it is the source of a lot of confusion if you are coming at pandas from R or SQL. For now we should note that instead of using separate columns to describe the values in a summary table, it gives them something akin to row and column labels. This makes some things very easy but if you were expecting, and need, columns not labels then it can be inconvenient. Fortunately there is a parameter (`as_index=False`) which will give us the output we want. \n",
    "  \n",
    "Compare output with and without the `as_index=False` setting.\n",
    "  \n",
    "With:"
   ]
  },
  {
   "cell_type": "code",
   "execution_count": null,
   "metadata": {},
   "outputs": [],
   "source": [
    "sum_table = customer_add_ward_code.loc[:,[\"age\", \"one_day_hours\", \n",
    "                \"seven_day_hours\"]].groupby('age', as_index=False).sum()\n",
    "sum_table.head()"
   ]
  },
  {
   "cell_type": "markdown",
   "metadata": {},
   "source": [
    "And without:"
   ]
  },
  {
   "cell_type": "code",
   "execution_count": null,
   "metadata": {},
   "outputs": [],
   "source": [
    "sum_table = customer_add_ward_code.loc[:,[\"age\", \"one_day_hours\", \n",
    "                \"seven_day_hours\"]].groupby('age').sum()\n",
    "sum_table.head()"
   ]
  },
  {
   "cell_type": "markdown",
   "metadata": {},
   "source": [
    "### Creating new variables\n",
    "\n",
    "To do this we use the `assign` method. For example here we create an age gender interaction variable."
   ]
  },
  {
   "cell_type": "code",
   "execution_count": null,
   "metadata": {},
   "outputs": [],
   "source": [
    "customer_add_ward_code = customer_add_ward_code.assign(age_gender = customer_add_ward_code.age * customer_add_ward_code.gender)\n",
    "customer_add_ward_code.head()"
   ]
  },
  {
   "cell_type": "markdown",
   "metadata": {},
   "source": [
    "### Renaming variables\n",
    "\n",
    "This is straightforward."
   ]
  },
  {
   "cell_type": "code",
   "execution_count": null,
   "metadata": {},
   "outputs": [],
   "source": [
    "customer_add_ward_code = customer_add_ward_code.rename(columns={'affluent': 'affluence'})\n",
    "customer_add_ward_code.head()"
   ]
  },
  {
   "cell_type": "markdown",
   "metadata": {},
   "source": [
    "## Your task\n",
    "\n",
    "Now you have everything you need to augment the customer data with the census data. You will need to \n",
    "\n",
    "1. Take each census table and select some useful columns, if necessary renaming them as something more usable\n",
    "2. Create within these tables some new penetration variables (for example if we are working on the *approximated_social_grade* table we could create a variable called `pct_c1_supervisory`)\n",
    "3. Join this new data to `customer_add_ward_code` using the `ward_code` (it's called `geography_code` on many of the tables)\n",
    "4. Make sure you also attach the useful geographical information in the `admin_regions` table.\n",
    "\n",
    "When this is complete, repeat with your own viewing data!\n"
   ]
  }
 ],
 "metadata": {
  "kernelspec": {
   "display_name": "Python 3",
   "language": "python",
   "name": "python3"
  },
  "language_info": {
   "codemirror_mode": {
    "name": "ipython",
    "version": 3
   },
   "file_extension": ".py",
   "mimetype": "text/x-python",
   "name": "python",
   "nbconvert_exporter": "python",
   "pygments_lexer": "ipython3",
   "version": "3.6.4"
  }
 },
 "nbformat": 4,
 "nbformat_minor": 2
}
