{
 "cells": [
  {
   "cell_type": "code",
   "execution_count": 12,
   "metadata": {},
   "outputs": [
    {
     "name": "stdout",
     "output_type": "stream",
     "text": [
      "[ 0.  1.]\n"
     ]
    }
   ],
   "source": [
    "from scipy.sparse import rand\n",
    "import numpy as np\n",
    "\n",
    "x = rand(1000, 10, density=0.2, format='csr')\n",
    "x.data[:] = 1\n",
    "\n",
    "print(np.unique(x.todense().flat))"
   ]
  },
  {
   "cell_type": "code",
   "execution_count": 13,
   "metadata": {},
   "outputs": [
    {
     "data": {
      "text/plain": [
       "<1000x10 sparse matrix of type '<class 'numpy.float64'>'\n",
       "\twith 2000 stored elements in Compressed Sparse Row format>"
      ]
     },
     "execution_count": 13,
     "metadata": {},
     "output_type": "execute_result"
    }
   ],
   "source": [
    "x"
   ]
  },
  {
   "cell_type": "code",
   "execution_count": 28,
   "metadata": {},
   "outputs": [
    {
     "name": "stdout",
     "output_type": "stream",
     "text": [
      "(1000, 6)\n",
      "(6, 6)\n",
      "(6, 10)\n"
     ]
    }
   ],
   "source": [
    "import scipy as sp\n",
    "from scipy.sparse.linalg import svds\n",
    "from scipy import sparse\n",
    "\n",
    "# svd for x\n",
    "U,s,V = svds(x)\n",
    "\n",
    "S = np.zeros((6,6)) # how to code this without knowing the size of S beforehand\n",
    "S[:6,:6]= np.diag(s) # fill diagonals\n",
    "S = np.asmatrix(S) # convert from array to matrix\n",
    "\n",
    "print(U.shape)\n",
    "print(S.shape)\n",
    "print(V.shape) # print shapes "
   ]
  },
  {
   "cell_type": "code",
   "execution_count": 30,
   "metadata": {},
   "outputs": [],
   "source": [
    "X_pred = np.dot(U,(np.dot(S,V)))"
   ]
  },
  {
   "cell_type": "code",
   "execution_count": 33,
   "metadata": {},
   "outputs": [
    {
     "data": {
      "text/plain": [
       "matrix([[ 0.27181131,  0.05743397,  0.12346873, -0.21432302, -0.01560256,\n",
       "          0.13583864, -0.14727061,  0.23143331,  0.12732163,  0.53853161]])"
      ]
     },
     "execution_count": 33,
     "metadata": {},
     "output_type": "execute_result"
    }
   ],
   "source": [
    "X_pred[997]"
   ]
  },
  {
   "cell_type": "code",
   "execution_count": null,
   "metadata": {
    "collapsed": true
   },
   "outputs": [],
   "source": []
  }
 ],
 "metadata": {
  "kernelspec": {
   "display_name": "Python 3",
   "language": "python",
   "name": "python3"
  },
  "language_info": {
   "codemirror_mode": {
    "name": "ipython",
    "version": 3
   },
   "file_extension": ".py",
   "mimetype": "text/x-python",
   "name": "python",
   "nbconvert_exporter": "python",
   "pygments_lexer": "ipython3",
   "version": "3.6.3"
  }
 },
 "nbformat": 4,
 "nbformat_minor": 2
}
