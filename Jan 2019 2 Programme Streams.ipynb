{
 "cells": [
  {
   "cell_type": "markdown",
   "metadata": {},
   "source": [
    "# Create a Matrix Representation of Genres Watched in 2 Programme Streams in January 2019"
   ]
  },
  {
   "cell_type": "markdown",
   "metadata": {},
   "source": [
    "Load in Necessary Packages"
   ]
  },
  {
   "cell_type": "code",
   "execution_count": 50,
   "metadata": {},
   "outputs": [],
   "source": [
    "import pandas as pd\n",
    "import numpy as np"
   ]
  },
  {
   "cell_type": "markdown",
   "metadata": {},
   "source": [
    "Connect to SVV and Query the table"
   ]
  },
  {
   "cell_type": "code",
   "execution_count": 51,
   "metadata": {},
   "outputs": [],
   "source": [
    "import psycopg2\n",
    "\n",
    "def get_svv_connection():\n",
    "    con=psycopg2.connect(dbname = 'svv', host ='svv-rs-prod-bi.cjddijbnvfpr.eu-west-1.redshift.amazonaws.com', \\\n",
    "                         port = 5439, user = 'ryanw', password = 'hT6Y3TeZZUFdvLj')\n",
    "    \n",
    "    return con"
   ]
  },
  {
   "cell_type": "code",
   "execution_count": 52,
   "metadata": {},
   "outputs": [],
   "source": [
    "query_data = \"SELECT * FROM sandbox.rw_jan_19_2_programme_streams\"\n",
    "\n",
    "df_streams = pd.DataFrame()\n",
    "\n",
    "try: \n",
    "    con = get_svv_connection()\n",
    "\n",
    "    cur = con.cursor()\n",
    "    cur.execute(query_data)\n",
    "\n",
    "    colnames = [desc[0] for desc in cur.description]\n",
    "    df_streams = pd.DataFrame(cur.fetchall(), columns = colnames)\n",
    "    \n",
    "except Exception as inst:\n",
    "    print(inst)\n",
    "finally:\n",
    "    cur.close()\n",
    "    con.close()"
   ]
  },
  {
   "cell_type": "code",
   "execution_count": 53,
   "metadata": {},
   "outputs": [
    {
     "data": {
      "text/html": [
       "<div>\n",
       "<style scoped>\n",
       "    .dataframe tbody tr th:only-of-type {\n",
       "        vertical-align: middle;\n",
       "    }\n",
       "\n",
       "    .dataframe tbody tr th {\n",
       "        vertical-align: top;\n",
       "    }\n",
       "\n",
       "    .dataframe thead th {\n",
       "        text-align: right;\n",
       "    }\n",
       "</style>\n",
       "<table border=\"1\" class=\"dataframe\">\n",
       "  <thead>\n",
       "    <tr style=\"text-align: right;\">\n",
       "      <th></th>\n",
       "      <th>visit_id</th>\n",
       "      <th>genre_id</th>\n",
       "      <th>min_rank</th>\n",
       "      <th>new_rank</th>\n",
       "    </tr>\n",
       "  </thead>\n",
       "  <tbody>\n",
       "    <tr>\n",
       "      <th>0</th>\n",
       "      <td>00005ea6-012e-437a-a85f-0a088aa0e49c-154880193...</td>\n",
       "      <td>DRAMA</td>\n",
       "      <td>3</td>\n",
       "      <td>2</td>\n",
       "    </tr>\n",
       "    <tr>\n",
       "      <th>1</th>\n",
       "      <td>00007725-ea35-40a2-b10e-2db1d1f9eea2-154766872...</td>\n",
       "      <td>DRAMA</td>\n",
       "      <td>2</td>\n",
       "      <td>2</td>\n",
       "    </tr>\n",
       "    <tr>\n",
       "      <th>2</th>\n",
       "      <td>0000c367-a825-4794-b7a8-4299d21687e7-154774964...</td>\n",
       "      <td>DRAMA</td>\n",
       "      <td>1</td>\n",
       "      <td>1</td>\n",
       "    </tr>\n",
       "    <tr>\n",
       "      <th>3</th>\n",
       "      <td>0000df74-460c-4be0-bdcf-36ca773aaed7-154721454...</td>\n",
       "      <td>FACTUAL</td>\n",
       "      <td>3</td>\n",
       "      <td>2</td>\n",
       "    </tr>\n",
       "    <tr>\n",
       "      <th>4</th>\n",
       "      <td>0000df74-460c-4be0-bdcf-36ca773aaed7-154776043...</td>\n",
       "      <td>ENT</td>\n",
       "      <td>2</td>\n",
       "      <td>2</td>\n",
       "    </tr>\n",
       "  </tbody>\n",
       "</table>\n",
       "</div>"
      ],
      "text/plain": [
       "                                            visit_id genre_id  min_rank  \\\n",
       "0  00005ea6-012e-437a-a85f-0a088aa0e49c-154880193...    DRAMA         3   \n",
       "1  00007725-ea35-40a2-b10e-2db1d1f9eea2-154766872...    DRAMA         2   \n",
       "2  0000c367-a825-4794-b7a8-4299d21687e7-154774964...    DRAMA         1   \n",
       "3  0000df74-460c-4be0-bdcf-36ca773aaed7-154721454...  FACTUAL         3   \n",
       "4  0000df74-460c-4be0-bdcf-36ca773aaed7-154776043...      ENT         2   \n",
       "\n",
       "   new_rank  \n",
       "0         2  \n",
       "1         2  \n",
       "2         1  \n",
       "3         2  \n",
       "4         2  "
      ]
     },
     "execution_count": 53,
     "metadata": {},
     "output_type": "execute_result"
    }
   ],
   "source": [
    "df_streams.head()"
   ]
  },
  {
   "cell_type": "markdown",
   "metadata": {},
   "source": [
    "Get rid of the unnecessary column"
   ]
  },
  {
   "cell_type": "code",
   "execution_count": 54,
   "metadata": {},
   "outputs": [],
   "source": [
    "df_streams = df_streams.drop(\"min_rank\", axis = 1)"
   ]
  },
  {
   "cell_type": "code",
   "execution_count": 55,
   "metadata": {},
   "outputs": [
    {
     "data": {
      "text/html": [
       "<div>\n",
       "<style scoped>\n",
       "    .dataframe tbody tr th:only-of-type {\n",
       "        vertical-align: middle;\n",
       "    }\n",
       "\n",
       "    .dataframe tbody tr th {\n",
       "        vertical-align: top;\n",
       "    }\n",
       "\n",
       "    .dataframe thead th {\n",
       "        text-align: right;\n",
       "    }\n",
       "</style>\n",
       "<table border=\"1\" class=\"dataframe\">\n",
       "  <thead>\n",
       "    <tr style=\"text-align: right;\">\n",
       "      <th></th>\n",
       "      <th>visit_id</th>\n",
       "      <th>genre_id</th>\n",
       "      <th>new_rank</th>\n",
       "    </tr>\n",
       "  </thead>\n",
       "  <tbody>\n",
       "    <tr>\n",
       "      <th>0</th>\n",
       "      <td>00005ea6-012e-437a-a85f-0a088aa0e49c-154880193...</td>\n",
       "      <td>DRAMA</td>\n",
       "      <td>2</td>\n",
       "    </tr>\n",
       "    <tr>\n",
       "      <th>1</th>\n",
       "      <td>00007725-ea35-40a2-b10e-2db1d1f9eea2-154766872...</td>\n",
       "      <td>DRAMA</td>\n",
       "      <td>2</td>\n",
       "    </tr>\n",
       "    <tr>\n",
       "      <th>2</th>\n",
       "      <td>0000c367-a825-4794-b7a8-4299d21687e7-154774964...</td>\n",
       "      <td>DRAMA</td>\n",
       "      <td>1</td>\n",
       "    </tr>\n",
       "    <tr>\n",
       "      <th>3</th>\n",
       "      <td>0000df74-460c-4be0-bdcf-36ca773aaed7-154721454...</td>\n",
       "      <td>FACTUAL</td>\n",
       "      <td>2</td>\n",
       "    </tr>\n",
       "    <tr>\n",
       "      <th>4</th>\n",
       "      <td>0000df74-460c-4be0-bdcf-36ca773aaed7-154776043...</td>\n",
       "      <td>ENT</td>\n",
       "      <td>2</td>\n",
       "    </tr>\n",
       "  </tbody>\n",
       "</table>\n",
       "</div>"
      ],
      "text/plain": [
       "                                            visit_id genre_id  new_rank\n",
       "0  00005ea6-012e-437a-a85f-0a088aa0e49c-154880193...    DRAMA         2\n",
       "1  00007725-ea35-40a2-b10e-2db1d1f9eea2-154766872...    DRAMA         2\n",
       "2  0000c367-a825-4794-b7a8-4299d21687e7-154774964...    DRAMA         1\n",
       "3  0000df74-460c-4be0-bdcf-36ca773aaed7-154721454...  FACTUAL         2\n",
       "4  0000df74-460c-4be0-bdcf-36ca773aaed7-154776043...      ENT         2"
      ]
     },
     "execution_count": 55,
     "metadata": {},
     "output_type": "execute_result"
    }
   ],
   "source": [
    "df_streams.head()"
   ]
  },
  {
   "cell_type": "markdown",
   "metadata": {},
   "source": [
    "Filter out the rows where new_rank = 1 to get a table containing the first programme for each visit_id"
   ]
  },
  {
   "cell_type": "code",
   "execution_count": 56,
   "metadata": {},
   "outputs": [
    {
     "data": {
      "text/html": [
       "<div>\n",
       "<style scoped>\n",
       "    .dataframe tbody tr th:only-of-type {\n",
       "        vertical-align: middle;\n",
       "    }\n",
       "\n",
       "    .dataframe tbody tr th {\n",
       "        vertical-align: top;\n",
       "    }\n",
       "\n",
       "    .dataframe thead th {\n",
       "        text-align: right;\n",
       "    }\n",
       "</style>\n",
       "<table border=\"1\" class=\"dataframe\">\n",
       "  <thead>\n",
       "    <tr style=\"text-align: right;\">\n",
       "      <th></th>\n",
       "      <th>visit_id</th>\n",
       "      <th>genre_id</th>\n",
       "      <th>new_rank</th>\n",
       "    </tr>\n",
       "  </thead>\n",
       "  <tbody>\n",
       "    <tr>\n",
       "      <th>2</th>\n",
       "      <td>0000c367-a825-4794-b7a8-4299d21687e7-154774964...</td>\n",
       "      <td>DRAMA</td>\n",
       "      <td>1</td>\n",
       "    </tr>\n",
       "    <tr>\n",
       "      <th>6</th>\n",
       "      <td>00012372-f830-5b52-8bc1-18d0a90f90d6-154774472...</td>\n",
       "      <td>DRAMA</td>\n",
       "      <td>1</td>\n",
       "    </tr>\n",
       "    <tr>\n",
       "      <th>9</th>\n",
       "      <td>0001cbc4-18c4-4cbd-97ce-f54921766e79-154688650...</td>\n",
       "      <td>ENT</td>\n",
       "      <td>1</td>\n",
       "    </tr>\n",
       "    <tr>\n",
       "      <th>10</th>\n",
       "      <td>0001cbc4-18c4-4cbd-97ce-f54921766e79-154739426...</td>\n",
       "      <td>ENT</td>\n",
       "      <td>1</td>\n",
       "    </tr>\n",
       "    <tr>\n",
       "      <th>16</th>\n",
       "      <td>000386b3-455c-40b8-8f51-179b803f8eab-154833696...</td>\n",
       "      <td>DRAMA</td>\n",
       "      <td>1</td>\n",
       "    </tr>\n",
       "  </tbody>\n",
       "</table>\n",
       "</div>"
      ],
      "text/plain": [
       "                                             visit_id genre_id  new_rank\n",
       "2   0000c367-a825-4794-b7a8-4299d21687e7-154774964...    DRAMA         1\n",
       "6   00012372-f830-5b52-8bc1-18d0a90f90d6-154774472...    DRAMA         1\n",
       "9   0001cbc4-18c4-4cbd-97ce-f54921766e79-154688650...      ENT         1\n",
       "10  0001cbc4-18c4-4cbd-97ce-f54921766e79-154739426...      ENT         1\n",
       "16  000386b3-455c-40b8-8f51-179b803f8eab-154833696...    DRAMA         1"
      ]
     },
     "execution_count": 56,
     "metadata": {},
     "output_type": "execute_result"
    }
   ],
   "source": [
    "df_genre_1 = df_streams[df_streams.new_rank == 1]\n",
    "df_genre_1.head()"
   ]
  },
  {
   "cell_type": "code",
   "execution_count": 57,
   "metadata": {},
   "outputs": [
    {
     "data": {
      "text/plain": [
       "4129837"
      ]
     },
     "execution_count": 57,
     "metadata": {},
     "output_type": "execute_result"
    }
   ],
   "source": [
    "df_genre_1['visit_id'].nunique()"
   ]
  },
  {
   "cell_type": "markdown",
   "metadata": {},
   "source": [
    "Do the same for new_rank = 2 and check that they are the same size."
   ]
  },
  {
   "cell_type": "code",
   "execution_count": 58,
   "metadata": {},
   "outputs": [
    {
     "data": {
      "text/plain": [
       "4129837"
      ]
     },
     "execution_count": 58,
     "metadata": {},
     "output_type": "execute_result"
    }
   ],
   "source": [
    "df_genre_2 = df_streams[df_streams.new_rank == 2]\n",
    "df_genre_2['visit_id'].nunique()"
   ]
  },
  {
   "cell_type": "markdown",
   "metadata": {},
   "source": [
    "Join the two tables together on visit_id"
   ]
  },
  {
   "cell_type": "code",
   "execution_count": 59,
   "metadata": {},
   "outputs": [
    {
     "data": {
      "text/html": [
       "<div>\n",
       "<style scoped>\n",
       "    .dataframe tbody tr th:only-of-type {\n",
       "        vertical-align: middle;\n",
       "    }\n",
       "\n",
       "    .dataframe tbody tr th {\n",
       "        vertical-align: top;\n",
       "    }\n",
       "\n",
       "    .dataframe thead th {\n",
       "        text-align: right;\n",
       "    }\n",
       "</style>\n",
       "<table border=\"1\" class=\"dataframe\">\n",
       "  <thead>\n",
       "    <tr style=\"text-align: right;\">\n",
       "      <th></th>\n",
       "      <th>visit_id</th>\n",
       "      <th>genre_id_x</th>\n",
       "      <th>new_rank_x</th>\n",
       "      <th>genre_id_y</th>\n",
       "      <th>new_rank_y</th>\n",
       "    </tr>\n",
       "  </thead>\n",
       "  <tbody>\n",
       "    <tr>\n",
       "      <th>0</th>\n",
       "      <td>0000c367-a825-4794-b7a8-4299d21687e7-154774964...</td>\n",
       "      <td>DRAMA</td>\n",
       "      <td>1</td>\n",
       "      <td>DRAMA</td>\n",
       "      <td>2</td>\n",
       "    </tr>\n",
       "    <tr>\n",
       "      <th>1</th>\n",
       "      <td>00012372-f830-5b52-8bc1-18d0a90f90d6-154774472...</td>\n",
       "      <td>DRAMA</td>\n",
       "      <td>1</td>\n",
       "      <td>DRAMA</td>\n",
       "      <td>2</td>\n",
       "    </tr>\n",
       "    <tr>\n",
       "      <th>2</th>\n",
       "      <td>0001cbc4-18c4-4cbd-97ce-f54921766e79-154688650...</td>\n",
       "      <td>ENT</td>\n",
       "      <td>1</td>\n",
       "      <td>ENT</td>\n",
       "      <td>2</td>\n",
       "    </tr>\n",
       "    <tr>\n",
       "      <th>3</th>\n",
       "      <td>0001cbc4-18c4-4cbd-97ce-f54921766e79-154739426...</td>\n",
       "      <td>ENT</td>\n",
       "      <td>1</td>\n",
       "      <td>DRAMA</td>\n",
       "      <td>2</td>\n",
       "    </tr>\n",
       "    <tr>\n",
       "      <th>4</th>\n",
       "      <td>000386b3-455c-40b8-8f51-179b803f8eab-154833696...</td>\n",
       "      <td>DRAMA</td>\n",
       "      <td>1</td>\n",
       "      <td>DRAMA</td>\n",
       "      <td>2</td>\n",
       "    </tr>\n",
       "  </tbody>\n",
       "</table>\n",
       "</div>"
      ],
      "text/plain": [
       "                                            visit_id genre_id_x  new_rank_x  \\\n",
       "0  0000c367-a825-4794-b7a8-4299d21687e7-154774964...      DRAMA           1   \n",
       "1  00012372-f830-5b52-8bc1-18d0a90f90d6-154774472...      DRAMA           1   \n",
       "2  0001cbc4-18c4-4cbd-97ce-f54921766e79-154688650...        ENT           1   \n",
       "3  0001cbc4-18c4-4cbd-97ce-f54921766e79-154739426...        ENT           1   \n",
       "4  000386b3-455c-40b8-8f51-179b803f8eab-154833696...      DRAMA           1   \n",
       "\n",
       "  genre_id_y  new_rank_y  \n",
       "0      DRAMA           2  \n",
       "1      DRAMA           2  \n",
       "2        ENT           2  \n",
       "3      DRAMA           2  \n",
       "4      DRAMA           2  "
      ]
     },
     "execution_count": 59,
     "metadata": {},
     "output_type": "execute_result"
    }
   ],
   "source": [
    "df_merged = df_genre_1.merge(df_genre_2, on = 'visit_id')\n",
    "df_merged.head()"
   ]
  },
  {
   "cell_type": "markdown",
   "metadata": {},
   "source": [
    "Get rid of the unnecessary columns, group by genre_id_x and genre_id_y and then count the number of visit_ids"
   ]
  },
  {
   "cell_type": "code",
   "execution_count": 60,
   "metadata": {},
   "outputs": [],
   "source": [
    "df_pivot = df_merged[['genre_id_x','genre_id_y', 'visit_id']].groupby(['genre_id_x','genre_id_y']).count()"
   ]
  },
  {
   "cell_type": "code",
   "execution_count": 61,
   "metadata": {},
   "outputs": [
    {
     "data": {
      "text/html": [
       "<div>\n",
       "<style scoped>\n",
       "    .dataframe tbody tr th:only-of-type {\n",
       "        vertical-align: middle;\n",
       "    }\n",
       "\n",
       "    .dataframe tbody tr th {\n",
       "        vertical-align: top;\n",
       "    }\n",
       "\n",
       "    .dataframe thead th {\n",
       "        text-align: right;\n",
       "    }\n",
       "</style>\n",
       "<table border=\"1\" class=\"dataframe\">\n",
       "  <thead>\n",
       "    <tr style=\"text-align: right;\">\n",
       "      <th></th>\n",
       "      <th></th>\n",
       "      <th>visit_id</th>\n",
       "    </tr>\n",
       "    <tr>\n",
       "      <th>genre_id_x</th>\n",
       "      <th>genre_id_y</th>\n",
       "      <th></th>\n",
       "    </tr>\n",
       "  </thead>\n",
       "  <tbody>\n",
       "    <tr>\n",
       "      <th rowspan=\"5\" valign=\"top\">CHILDREN</th>\n",
       "      <th>CHILDREN</th>\n",
       "      <td>53673</td>\n",
       "    </tr>\n",
       "    <tr>\n",
       "      <th>COMEDY</th>\n",
       "      <td>4657</td>\n",
       "    </tr>\n",
       "    <tr>\n",
       "      <th>DRAMA</th>\n",
       "      <td>6725</td>\n",
       "    </tr>\n",
       "    <tr>\n",
       "      <th>ENT</th>\n",
       "      <td>9131</td>\n",
       "    </tr>\n",
       "    <tr>\n",
       "      <th>FACTUAL</th>\n",
       "      <td>1130</td>\n",
       "    </tr>\n",
       "  </tbody>\n",
       "</table>\n",
       "</div>"
      ],
      "text/plain": [
       "                       visit_id\n",
       "genre_id_x genre_id_y          \n",
       "CHILDREN   CHILDREN       53673\n",
       "           COMEDY          4657\n",
       "           DRAMA           6725\n",
       "           ENT             9131\n",
       "           FACTUAL         1130"
      ]
     },
     "execution_count": 61,
     "metadata": {},
     "output_type": "execute_result"
    }
   ],
   "source": [
    "df_pivot.head()"
   ]
  },
  {
   "cell_type": "code",
   "execution_count": 62,
   "metadata": {},
   "outputs": [],
   "source": [
    "df_pivot = df_pivot.reset_index()"
   ]
  },
  {
   "cell_type": "code",
   "execution_count": 63,
   "metadata": {},
   "outputs": [
    {
     "data": {
      "text/html": [
       "<div>\n",
       "<style scoped>\n",
       "    .dataframe tbody tr th:only-of-type {\n",
       "        vertical-align: middle;\n",
       "    }\n",
       "\n",
       "    .dataframe tbody tr th {\n",
       "        vertical-align: top;\n",
       "    }\n",
       "\n",
       "    .dataframe thead th {\n",
       "        text-align: right;\n",
       "    }\n",
       "</style>\n",
       "<table border=\"1\" class=\"dataframe\">\n",
       "  <thead>\n",
       "    <tr style=\"text-align: right;\">\n",
       "      <th></th>\n",
       "      <th>genre_id_x</th>\n",
       "      <th>genre_id_y</th>\n",
       "      <th>visit_id</th>\n",
       "    </tr>\n",
       "  </thead>\n",
       "  <tbody>\n",
       "    <tr>\n",
       "      <th>0</th>\n",
       "      <td>CHILDREN</td>\n",
       "      <td>CHILDREN</td>\n",
       "      <td>53673</td>\n",
       "    </tr>\n",
       "    <tr>\n",
       "      <th>1</th>\n",
       "      <td>CHILDREN</td>\n",
       "      <td>COMEDY</td>\n",
       "      <td>4657</td>\n",
       "    </tr>\n",
       "    <tr>\n",
       "      <th>2</th>\n",
       "      <td>CHILDREN</td>\n",
       "      <td>DRAMA</td>\n",
       "      <td>6725</td>\n",
       "    </tr>\n",
       "    <tr>\n",
       "      <th>3</th>\n",
       "      <td>CHILDREN</td>\n",
       "      <td>ENT</td>\n",
       "      <td>9131</td>\n",
       "    </tr>\n",
       "    <tr>\n",
       "      <th>4</th>\n",
       "      <td>CHILDREN</td>\n",
       "      <td>FACTUAL</td>\n",
       "      <td>1130</td>\n",
       "    </tr>\n",
       "  </tbody>\n",
       "</table>\n",
       "</div>"
      ],
      "text/plain": [
       "  genre_id_x genre_id_y  visit_id\n",
       "0   CHILDREN   CHILDREN     53673\n",
       "1   CHILDREN     COMEDY      4657\n",
       "2   CHILDREN      DRAMA      6725\n",
       "3   CHILDREN        ENT      9131\n",
       "4   CHILDREN    FACTUAL      1130"
      ]
     },
     "execution_count": 63,
     "metadata": {},
     "output_type": "execute_result"
    }
   ],
   "source": [
    "df_pivot.head()"
   ]
  },
  {
   "cell_type": "markdown",
   "metadata": {},
   "source": [
    "Pivot the df_pivot dataframe to convert into the required Matrix form"
   ]
  },
  {
   "cell_type": "code",
   "execution_count": 64,
   "metadata": {},
   "outputs": [
    {
     "data": {
      "text/html": [
       "<div>\n",
       "<style scoped>\n",
       "    .dataframe tbody tr th:only-of-type {\n",
       "        vertical-align: middle;\n",
       "    }\n",
       "\n",
       "    .dataframe tbody tr th {\n",
       "        vertical-align: top;\n",
       "    }\n",
       "\n",
       "    .dataframe thead tr th {\n",
       "        text-align: left;\n",
       "    }\n",
       "\n",
       "    .dataframe thead tr:last-of-type th {\n",
       "        text-align: right;\n",
       "    }\n",
       "</style>\n",
       "<table border=\"1\" class=\"dataframe\">\n",
       "  <thead>\n",
       "    <tr>\n",
       "      <th></th>\n",
       "      <th colspan=\"10\" halign=\"left\">visit_id</th>\n",
       "    </tr>\n",
       "    <tr>\n",
       "      <th>genre_id_y</th>\n",
       "      <th>CHILDREN</th>\n",
       "      <th>COMEDY</th>\n",
       "      <th>DRAMA</th>\n",
       "      <th>ENT</th>\n",
       "      <th>FACTUAL</th>\n",
       "      <th>FILM</th>\n",
       "      <th>LIFESTYLE</th>\n",
       "      <th>NEWS</th>\n",
       "      <th>RELIGION</th>\n",
       "      <th>SPORT</th>\n",
       "    </tr>\n",
       "    <tr>\n",
       "      <th>genre_id_x</th>\n",
       "      <th></th>\n",
       "      <th></th>\n",
       "      <th></th>\n",
       "      <th></th>\n",
       "      <th></th>\n",
       "      <th></th>\n",
       "      <th></th>\n",
       "      <th></th>\n",
       "      <th></th>\n",
       "      <th></th>\n",
       "    </tr>\n",
       "  </thead>\n",
       "  <tbody>\n",
       "    <tr>\n",
       "      <th>CHILDREN</th>\n",
       "      <td>53673.0</td>\n",
       "      <td>4657.0</td>\n",
       "      <td>6725.0</td>\n",
       "      <td>9131.0</td>\n",
       "      <td>1130.0</td>\n",
       "      <td>3053.0</td>\n",
       "      <td>290.0</td>\n",
       "      <td>170.0</td>\n",
       "      <td>1.0</td>\n",
       "      <td>142.0</td>\n",
       "    </tr>\n",
       "    <tr>\n",
       "      <th>COMEDY</th>\n",
       "      <td>5461.0</td>\n",
       "      <td>179604.0</td>\n",
       "      <td>26077.0</td>\n",
       "      <td>37782.0</td>\n",
       "      <td>5622.0</td>\n",
       "      <td>1431.0</td>\n",
       "      <td>561.0</td>\n",
       "      <td>519.0</td>\n",
       "      <td>10.0</td>\n",
       "      <td>493.0</td>\n",
       "    </tr>\n",
       "    <tr>\n",
       "      <th>DRAMA</th>\n",
       "      <td>6709.0</td>\n",
       "      <td>63346.0</td>\n",
       "      <td>1985077.0</td>\n",
       "      <td>451188.0</td>\n",
       "      <td>77455.0</td>\n",
       "      <td>11278.0</td>\n",
       "      <td>5673.0</td>\n",
       "      <td>7979.0</td>\n",
       "      <td>103.0</td>\n",
       "      <td>1818.0</td>\n",
       "    </tr>\n",
       "    <tr>\n",
       "      <th>ENT</th>\n",
       "      <td>10566.0</td>\n",
       "      <td>63885.0</td>\n",
       "      <td>291921.0</td>\n",
       "      <td>527069.0</td>\n",
       "      <td>61269.0</td>\n",
       "      <td>6424.0</td>\n",
       "      <td>9490.0</td>\n",
       "      <td>7549.0</td>\n",
       "      <td>109.0</td>\n",
       "      <td>2302.0</td>\n",
       "    </tr>\n",
       "    <tr>\n",
       "      <th>FACTUAL</th>\n",
       "      <td>976.0</td>\n",
       "      <td>7499.0</td>\n",
       "      <td>39196.0</td>\n",
       "      <td>49838.0</td>\n",
       "      <td>30545.0</td>\n",
       "      <td>1309.0</td>\n",
       "      <td>2014.0</td>\n",
       "      <td>1193.0</td>\n",
       "      <td>69.0</td>\n",
       "      <td>743.0</td>\n",
       "    </tr>\n",
       "    <tr>\n",
       "      <th>FILM</th>\n",
       "      <td>2389.0</td>\n",
       "      <td>1138.0</td>\n",
       "      <td>6358.0</td>\n",
       "      <td>4630.0</td>\n",
       "      <td>1227.0</td>\n",
       "      <td>5098.0</td>\n",
       "      <td>108.0</td>\n",
       "      <td>110.0</td>\n",
       "      <td>13.0</td>\n",
       "      <td>85.0</td>\n",
       "    </tr>\n",
       "    <tr>\n",
       "      <th>LIFESTYLE</th>\n",
       "      <td>178.0</td>\n",
       "      <td>606.0</td>\n",
       "      <td>3568.0</td>\n",
       "      <td>7161.0</td>\n",
       "      <td>1885.0</td>\n",
       "      <td>94.0</td>\n",
       "      <td>1526.0</td>\n",
       "      <td>178.0</td>\n",
       "      <td>5.0</td>\n",
       "      <td>85.0</td>\n",
       "    </tr>\n",
       "    <tr>\n",
       "      <th>NEWS</th>\n",
       "      <td>227.0</td>\n",
       "      <td>883.0</td>\n",
       "      <td>6420.0</td>\n",
       "      <td>10860.0</td>\n",
       "      <td>2341.0</td>\n",
       "      <td>160.0</td>\n",
       "      <td>306.0</td>\n",
       "      <td>3712.0</td>\n",
       "      <td>9.0</td>\n",
       "      <td>107.0</td>\n",
       "    </tr>\n",
       "    <tr>\n",
       "      <th>RELIGION</th>\n",
       "      <td>NaN</td>\n",
       "      <td>5.0</td>\n",
       "      <td>60.0</td>\n",
       "      <td>75.0</td>\n",
       "      <td>49.0</td>\n",
       "      <td>17.0</td>\n",
       "      <td>6.0</td>\n",
       "      <td>4.0</td>\n",
       "      <td>NaN</td>\n",
       "      <td>2.0</td>\n",
       "    </tr>\n",
       "    <tr>\n",
       "      <th>SPORT</th>\n",
       "      <td>149.0</td>\n",
       "      <td>568.0</td>\n",
       "      <td>1362.0</td>\n",
       "      <td>1771.0</td>\n",
       "      <td>609.0</td>\n",
       "      <td>75.0</td>\n",
       "      <td>82.0</td>\n",
       "      <td>86.0</td>\n",
       "      <td>NaN</td>\n",
       "      <td>2326.0</td>\n",
       "    </tr>\n",
       "  </tbody>\n",
       "</table>\n",
       "</div>"
      ],
      "text/plain": [
       "           visit_id                                                   \\\n",
       "genre_id_y CHILDREN    COMEDY      DRAMA       ENT  FACTUAL     FILM   \n",
       "genre_id_x                                                             \n",
       "CHILDREN    53673.0    4657.0     6725.0    9131.0   1130.0   3053.0   \n",
       "COMEDY       5461.0  179604.0    26077.0   37782.0   5622.0   1431.0   \n",
       "DRAMA        6709.0   63346.0  1985077.0  451188.0  77455.0  11278.0   \n",
       "ENT         10566.0   63885.0   291921.0  527069.0  61269.0   6424.0   \n",
       "FACTUAL       976.0    7499.0    39196.0   49838.0  30545.0   1309.0   \n",
       "FILM         2389.0    1138.0     6358.0    4630.0   1227.0   5098.0   \n",
       "LIFESTYLE     178.0     606.0     3568.0    7161.0   1885.0     94.0   \n",
       "NEWS          227.0     883.0     6420.0   10860.0   2341.0    160.0   \n",
       "RELIGION        NaN       5.0       60.0      75.0     49.0     17.0   \n",
       "SPORT         149.0     568.0     1362.0    1771.0    609.0     75.0   \n",
       "\n",
       "                                               \n",
       "genre_id_y LIFESTYLE    NEWS RELIGION   SPORT  \n",
       "genre_id_x                                     \n",
       "CHILDREN       290.0   170.0      1.0   142.0  \n",
       "COMEDY         561.0   519.0     10.0   493.0  \n",
       "DRAMA         5673.0  7979.0    103.0  1818.0  \n",
       "ENT           9490.0  7549.0    109.0  2302.0  \n",
       "FACTUAL       2014.0  1193.0     69.0   743.0  \n",
       "FILM           108.0   110.0     13.0    85.0  \n",
       "LIFESTYLE     1526.0   178.0      5.0    85.0  \n",
       "NEWS           306.0  3712.0      9.0   107.0  \n",
       "RELIGION         6.0     4.0      NaN     2.0  \n",
       "SPORT           82.0    86.0      NaN  2326.0  "
      ]
     },
     "execution_count": 64,
     "metadata": {},
     "output_type": "execute_result"
    }
   ],
   "source": [
    "df_pivot.pivot(index = 'genre_id_x', columns = 'genre_id_y')"
   ]
  },
  {
   "cell_type": "markdown",
   "metadata": {},
   "source": [
    "genre_id_x is a label denoting the genre of first programme in the session with genre_id_y denoting the genre of the second programme."
   ]
  },
  {
   "cell_type": "markdown",
   "metadata": {},
   "source": [
    "check how long a session lasts - 4 hours\n",
    "run for 6 months (1 year if this runs fine) - crashed computer\n",
    "programme level (top 10 for that time period)"
   ]
  }
 ],
 "metadata": {
  "kernelspec": {
   "display_name": "Python 3",
   "language": "python",
   "name": "python3"
  },
  "language_info": {
   "codemirror_mode": {
    "name": "ipython",
    "version": 3
   },
   "file_extension": ".py",
   "mimetype": "text/x-python",
   "name": "python",
   "nbconvert_exporter": "python",
   "pygments_lexer": "ipython3",
   "version": "3.7.0"
  }
 },
 "nbformat": 4,
 "nbformat_minor": 2
}
