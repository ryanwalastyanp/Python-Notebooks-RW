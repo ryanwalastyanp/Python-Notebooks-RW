{
 "cells": [
  {
   "cell_type": "markdown",
   "metadata": {},
   "source": [
    "# Class Methods"
   ]
  },
  {
   "cell_type": "markdown",
   "metadata": {},
   "source": [
    "In previous week we learnt how to create classes in Python.\n",
    "Again, a class is an object, which is a logical collection of other objects and behaviours.\n",
    "\n",
    "Behaviours are defined via methods. \n",
    "Methods of a class can be:\n",
    "\n",
    "--Instance methods\n",
    "\n",
    "--Class methods\n",
    "\n",
    "--Static methods\n",
    "\n"
   ]
  },
  {
   "cell_type": "markdown",
   "metadata": {},
   "source": [
    "### Instance Methods"
   ]
  },
  {
   "cell_type": "markdown",
   "metadata": {},
   "source": [
    "We have already seen these and how these are defined. The most important feature of instance methods is that these take <i>self</i> as the first argument. Also, we do not explicitly specify that we wish to declare an instance method."
   ]
  },
  {
   "cell_type": "code",
   "execution_count": 1,
   "metadata": {},
   "outputs": [],
   "source": [
    "class Candy_Counter(object): ##self being the first parameter implies it is an instance method\n",
    "    \n",
    "    def __init__(self, candy_count, candy_flavour):\n",
    "        self.candy_count = candy_count ##instance variable\n",
    "        self.candy_flavour = candy_flavour\n",
    "    \n",
    "    def add_candy(self, num):\n",
    "        self.candy_count=self.candy_count+num\n",
    "    \n",
    "    def __repr__(self): ##print the instance\n",
    "        return (\"We have %d candies of %s flavour\" % (self.candy_count, self.candy_flavour))"
   ]
  },
  {
   "cell_type": "code",
   "execution_count": 2,
   "metadata": {},
   "outputs": [],
   "source": [
    "cc = Candy_Counter(1,'chocolate')"
   ]
  },
  {
   "cell_type": "code",
   "execution_count": 3,
   "metadata": {},
   "outputs": [
    {
     "name": "stdout",
     "output_type": "stream",
     "text": [
      "We have 1 candies of chocolate flavour\n"
     ]
    }
   ],
   "source": [
    "print(cc)"
   ]
  },
  {
   "cell_type": "code",
   "execution_count": 4,
   "metadata": {},
   "outputs": [],
   "source": [
    "cc.add_candy(2)"
   ]
  },
  {
   "cell_type": "code",
   "execution_count": 5,
   "metadata": {},
   "outputs": [
    {
     "name": "stdout",
     "output_type": "stream",
     "text": [
      "We have 3 candies of chocolate flavour\n"
     ]
    }
   ],
   "source": [
    "print(cc) ##every instance contains its own copy"
   ]
  },
  {
   "cell_type": "code",
   "execution_count": 6,
   "metadata": {},
   "outputs": [],
   "source": [
    "cc2 = Candy_Counter(2, \"vanilla\")"
   ]
  },
  {
   "cell_type": "code",
   "execution_count": 7,
   "metadata": {},
   "outputs": [
    {
     "name": "stdout",
     "output_type": "stream",
     "text": [
      "We have 2 candies of vanilla flavour\n"
     ]
    }
   ],
   "source": [
    "print(cc2)"
   ]
  },
  {
   "cell_type": "code",
   "execution_count": 8,
   "metadata": {},
   "outputs": [],
   "source": [
    "cc2.add_candy(3)"
   ]
  },
  {
   "cell_type": "code",
   "execution_count": 9,
   "metadata": {},
   "outputs": [
    {
     "name": "stdout",
     "output_type": "stream",
     "text": [
      "We have 3 candies of chocolate flavour\n"
     ]
    }
   ],
   "source": [
    "print(cc)"
   ]
  },
  {
   "cell_type": "code",
   "execution_count": 10,
   "metadata": {},
   "outputs": [
    {
     "name": "stdout",
     "output_type": "stream",
     "text": [
      "We have 5 candies of vanilla flavour\n"
     ]
    }
   ],
   "source": [
    "print(cc2)"
   ]
  },
  {
   "cell_type": "markdown",
   "metadata": {},
   "source": [
    "As we can see, each instance of Candy_Counter has its own add_candy() method operating on its own candy_count."
   ]
  },
  {
   "cell_type": "markdown",
   "metadata": {},
   "source": [
    "### Class Methods"
   ]
  },
  {
   "cell_type": "markdown",
   "metadata": {},
   "source": [
    "Unlike instance methods, class methods can operate on class variables."
   ]
  },
  {
   "cell_type": "markdown",
   "metadata": {},
   "source": [
    "Class methods are defined using @classmethod attribute and, instead of self, they are passed the reference to the single class."
   ]
  },
  {
   "cell_type": "code",
   "execution_count": 11,
   "metadata": {},
   "outputs": [],
   "source": [
    "class Candy_Counter(object):\n",
    "    \n",
    "    made_in = 'UK' ##class variable, no self parameter\n",
    "    \n",
    "    def __init__(self, candy_count, candy_flavour):\n",
    "        self.candy_count = candy_count\n",
    "        self.candy_flavour = candy_flavour\n",
    "    \n",
    "    def add_candy(self, num):\n",
    "        self.candy_count=self.candy_count+num\n",
    "    \n",
    "    @classmethod                           ##This is a class method attribute does not belong to the instance\n",
    "    def update_maker(cls, maker):          ##cls in place of self\n",
    "        cls.made_in = maker\n",
    "    \n",
    "    def __repr__(self):\n",
    "        return (\"We have %d candies of %s flavour made in %s\" % (self.candy_count, self.candy_flavour,\n",
    "                                                                 self.made_in))\n",
    "   #def test(self, maker):\n",
    "   #    self.made_in=maker\n",
    "    \n",
    "##use class when you want all instances to have the same variable"
   ]
  },
  {
   "cell_type": "code",
   "execution_count": 12,
   "metadata": {},
   "outputs": [],
   "source": [
    "cc3 = Candy_Counter(3, \"strawberry\")"
   ]
  },
  {
   "cell_type": "code",
   "execution_count": 13,
   "metadata": {},
   "outputs": [
    {
     "name": "stdout",
     "output_type": "stream",
     "text": [
      "We have 3 candies of strawberry flavour made in UK\n"
     ]
    }
   ],
   "source": [
    "print(cc3)"
   ]
  },
  {
   "cell_type": "code",
   "execution_count": 14,
   "metadata": {},
   "outputs": [
    {
     "name": "stdout",
     "output_type": "stream",
     "text": [
      "We have 1 candies of vanilla flavour made in Germany\n",
      "We have 3 candies of strawberry flavour made in Germany\n"
     ]
    }
   ],
   "source": [
    "cc4 = Candy_Counter(1, \"vanilla\")\n",
    "cc4.update_maker(\"Germany\")\n",
    "\n",
    "print(cc4)\n",
    "print(cc3)"
   ]
  },
  {
   "cell_type": "code",
   "execution_count": 15,
   "metadata": {},
   "outputs": [],
   "source": [
    "#cc3.test(\"China\")\n",
    "#print(cc3)\n",
    "#print(cc4)"
   ]
  },
  {
   "cell_type": "code",
   "execution_count": 16,
   "metadata": {},
   "outputs": [
    {
     "name": "stdout",
     "output_type": "stream",
     "text": [
      "{'candy_count': 3, 'candy_flavour': 'strawberry'}\n"
     ]
    }
   ],
   "source": [
    "print(cc3.__dict__)"
   ]
  },
  {
   "cell_type": "code",
   "execution_count": 17,
   "metadata": {},
   "outputs": [
    {
     "name": "stdout",
     "output_type": "stream",
     "text": [
      "{'candy_count': 1, 'candy_flavour': 'vanilla'}\n"
     ]
    }
   ],
   "source": [
    "print(cc4.__dict__)"
   ]
  },
  {
   "cell_type": "markdown",
   "metadata": {},
   "source": [
    "### Static Methods"
   ]
  },
  {
   "cell_type": "markdown",
   "metadata": {},
   "source": [
    "Static methods are not meant to operate on class variables at all and are more like utility and helper methods.\n",
    "\n",
    "Static methods are useful when you need a method that cannot modify any of the class variables, however, you still need it to belong to the class scope only."
   ]
  },
  {
   "cell_type": "code",
   "execution_count": 18,
   "metadata": {},
   "outputs": [],
   "source": [
    "import datetime\n",
    "\n",
    "class Candy_Counter(object):\n",
    "    \n",
    "    made_in = 'UK'\n",
    "    \n",
    "    def __init__(self, candy_count, candy_flavour):\n",
    "        self.candy_count = candy_count\n",
    "        self.candy_flavour = candy_flavour\n",
    "    \n",
    "    def add_candy(self, num):\n",
    "        self.candy_count=self.candy_count+num\n",
    "        Candy_Counter.log_update()\n",
    "    \n",
    "    @classmethod                           # This is a class method attribute\n",
    "    def update_maker(cls, maker):\n",
    "        cls.made_in = maker\n",
    "    \n",
    "    def __repr__(self):\n",
    "        return (\"We have %d candies of %s flavour made in %s\" % (self.candy_count, self.candy_flavour, \n",
    "                                                                 self.made_in))\n",
    "    @staticmethod                       # This is a static method attribute, can't operate on any class variable\n",
    "    def log_update():\n",
    "        with open(\"logger.txt\", mode = 'a') as f:\n",
    "            print(\"Updated candy_counter class candy count at %s\"%(datetime.datetime.utcnow()), file=f)\n",
    "            ##logs when the function has been updated"
   ]
  },
  {
   "cell_type": "code",
   "execution_count": 19,
   "metadata": {},
   "outputs": [],
   "source": [
    "cc5 = Candy_Counter(3, \"lemon\")"
   ]
  },
  {
   "cell_type": "code",
   "execution_count": 20,
   "metadata": {},
   "outputs": [],
   "source": [
    "cc5.add_candy(3)"
   ]
  },
  {
   "cell_type": "markdown",
   "metadata": {},
   "source": [
    "### Context Management"
   ]
  },
  {
   "cell_type": "markdown",
   "metadata": {},
   "source": [
    "Context management means a part of the code that automatically allocates and deletes a certain resource within a specific scope only.\n",
    "\n",
    "In Python this is achieved using <i>with</i>"
   ]
  },
  {
   "cell_type": "markdown",
   "metadata": {},
   "source": [
    "You have already seen that I opened a logging file but did not close it. This is because I am using the context manager and <i>f</i>, which is the instance of filehandle class which implements <i>__enter__</i> and <i>__exit__</i> methods."
   ]
  },
  {
   "cell_type": "markdown",
   "metadata": {},
   "source": [
    "What takes place in the these private instance methods (WHAT DOES IT MEAN?) is that __enter__  creates a file handle to the logger.txt object and __exit__ closes that file."
   ]
  },
  {
   "cell_type": "markdown",
   "metadata": {},
   "source": [
    "Take a look at the <i>_pyio.py</i> file and see how __enter__ and __exit__ are used in a native Python module.\n",
    "\n",
    "You should be able to find the file in: C:\\Users\\4X4\\AppData\\Local\\Continuum\\anaconda3\\"
   ]
  },
  {
   "cell_type": "markdown",
   "metadata": {},
   "source": [
    "### Home Work"
   ]
  },
  {
   "cell_type": "markdown",
   "metadata": {},
   "source": [
    "1. Can you think of how you would modify the class you created in HW 6 to use context management?"
   ]
  },
  {
   "cell_type": "code",
   "execution_count": null,
   "metadata": {},
   "outputs": [],
   "source": [
    "enter method, create connection def __enter__(self): open connection\n",
    "exit method, close the connection def__exit__(self): close connection"
   ]
  },
  {
   "cell_type": "code",
   "execution_count": null,
   "metadata": {},
   "outputs": [],
   "source": [
    "class SVVConnection(object):\n",
    "    \n",
    "    def __enter__(self):\n",
    "        self.Connection = svv.get_svv_connection()\n",
    "        self.my_cursor = self.Connection.cursor()\n",
    "        return self\n",
    "    \n",
    "    def __exit__(self, exc_type, exc_value, tb):\n",
    "        self.my_cursor.close()\n",
    "        self.Connection.close()\n",
    "        \n",
    "    def executeQuery(self, query):\n",
    "        if self.my_cursor is None:\n",
    "            print('The Cursor is not Open. Call getCursor First')\n",
    "            return\n",
    "        \n",
    "        try:\n",
    "            self.my_cursor.execute(query)\n",
    "        except Exception as e:\n",
    "            print(e)\n",
    "            \n",
    "    def getBatchedResults(self, batch_size=1):\n",
    "        results = 0\n",
    "        try:\n",
    "            while results != []:\n",
    "                results = self.my_cursor.fetchmany(batch_size)\n",
    "                yield results\n",
    "                \n",
    "        except Exception as e:\n",
    "            print(e)"
   ]
  },
  {
   "cell_type": "code",
   "execution_count": null,
   "metadata": {},
   "outputs": [],
   "source": [
    "with SVVConnection() as my_connection:    \n",
    "    query = \"Select Top 10 * from core.schedule;\"\n",
    "    \n",
    "    my_connection.executeQuery(query)\n",
    "    my_results = my_connection.getBatchQueryResults(10)\n",
    "    print (next(my_results))\n",
    "    print (next(my_results))\n",
    "    print (next(my_results))"
   ]
  }
 ],
 "metadata": {
  "kernelspec": {
   "display_name": "Python 3",
   "language": "python",
   "name": "python3"
  },
  "language_info": {
   "codemirror_mode": {
    "name": "ipython",
    "version": 3
   },
   "file_extension": ".py",
   "mimetype": "text/x-python",
   "name": "python",
   "nbconvert_exporter": "python",
   "pygments_lexer": "ipython3",
   "version": "3.6.3"
  }
 },
 "nbformat": 4,
 "nbformat_minor": 2
}
