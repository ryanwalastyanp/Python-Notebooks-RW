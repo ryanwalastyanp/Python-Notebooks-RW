{
 "cells": [
  {
   "cell_type": "markdown",
   "metadata": {},
   "source": [
    "# Survival analysis: the theory\n",
    "\n",
    "\n",
    "----\n",
    "\n",
    "\n",
    "Some slides\n",
    "\n",
    "![](survival/S1.jpg)\n",
    "\n",
    "![](survival/S2.jpg)\n",
    "\n",
    "![](survival/S3.jpg)\n",
    "\n",
    "![](survival/S4.jpg)\n",
    "\n",
    "![](survival/S5.jpg)\n",
    "\n",
    "Note: the example is incorrect. It should read $ S_3 = P(X > 105) = 1 \\times \\frac{4}{5} \\times 1 $  \n",
    "\n",
    "![](survival/S6.jpg)\n",
    "\n"
   ]
  },
  {
   "cell_type": "markdown",
   "metadata": {},
   "source": [
    "# A survival analysis example\n",
    "\n",
    "We will simulate some data on the tenure of subscribers to a digital content platform and then use survival analysis to investigate the effect of the parameters\n"
   ]
  },
  {
   "cell_type": "markdown",
   "metadata": {},
   "source": [
    "### Set up environment"
   ]
  },
  {
   "cell_type": "code",
   "execution_count": 1,
   "metadata": {},
   "outputs": [],
   "source": [
    "%matplotlib inline \n",
    "from lifelines import KaplanMeierFitter\n",
    "import numpy as np, seaborn as sns, pandas as pd, matplotlib.pyplot as plt\n",
    "import random\n",
    "random.seed(1234)"
   ]
  },
  {
   "cell_type": "markdown",
   "metadata": {},
   "source": [
    "### Simulate some survival data for customer subscriptions"
   ]
  },
  {
   "cell_type": "code",
   "execution_count": 2,
   "metadata": {},
   "outputs": [
    {
     "data": {
      "text/html": [
       "<div>\n",
       "<style scoped>\n",
       "    .dataframe tbody tr th:only-of-type {\n",
       "        vertical-align: middle;\n",
       "    }\n",
       "\n",
       "    .dataframe tbody tr th {\n",
       "        vertical-align: top;\n",
       "    }\n",
       "\n",
       "    .dataframe thead th {\n",
       "        text-align: right;\n",
       "    }\n",
       "</style>\n",
       "<table border=\"1\" class=\"dataframe\">\n",
       "  <thead>\n",
       "    <tr style=\"text-align: right;\">\n",
       "      <th></th>\n",
       "      <th>age</th>\n",
       "      <th>gender</th>\n",
       "      <th>income</th>\n",
       "      <th>drama_segment</th>\n",
       "      <th>weeks</th>\n",
       "      <th>cancelled</th>\n",
       "    </tr>\n",
       "  </thead>\n",
       "  <tbody>\n",
       "    <tr>\n",
       "      <th>0</th>\n",
       "      <td>24.186523</td>\n",
       "      <td>0</td>\n",
       "      <td>24943</td>\n",
       "      <td>1</td>\n",
       "      <td>14.954186</td>\n",
       "      <td>1</td>\n",
       "    </tr>\n",
       "    <tr>\n",
       "      <th>1</th>\n",
       "      <td>53.848356</td>\n",
       "      <td>1</td>\n",
       "      <td>25078</td>\n",
       "      <td>0</td>\n",
       "      <td>10.645932</td>\n",
       "      <td>1</td>\n",
       "    </tr>\n",
       "    <tr>\n",
       "      <th>2</th>\n",
       "      <td>46.735033</td>\n",
       "      <td>0</td>\n",
       "      <td>25297</td>\n",
       "      <td>0</td>\n",
       "      <td>4.561348</td>\n",
       "      <td>1</td>\n",
       "    </tr>\n",
       "    <tr>\n",
       "      <th>3</th>\n",
       "      <td>33.815535</td>\n",
       "      <td>1</td>\n",
       "      <td>25042</td>\n",
       "      <td>1</td>\n",
       "      <td>31.446585</td>\n",
       "      <td>1</td>\n",
       "    </tr>\n",
       "    <tr>\n",
       "      <th>4</th>\n",
       "      <td>24.218636</td>\n",
       "      <td>1</td>\n",
       "      <td>25166</td>\n",
       "      <td>0</td>\n",
       "      <td>11.263172</td>\n",
       "      <td>0</td>\n",
       "    </tr>\n",
       "  </tbody>\n",
       "</table>\n",
       "</div>"
      ],
      "text/plain": [
       "         age  gender  income  drama_segment      weeks  cancelled\n",
       "0  24.186523       0   24943              1  14.954186          1\n",
       "1  53.848356       1   25078              0  10.645932          1\n",
       "2  46.735033       0   25297              0   4.561348          1\n",
       "3  33.815535       1   25042              1  31.446585          1\n",
       "4  24.218636       1   25166              0  11.263172          0"
      ]
     },
     "execution_count": 2,
     "metadata": {},
     "output_type": "execute_result"
    }
   ],
   "source": [
    "n_subscribers = 10000\n",
    "age = np.random.normal(35, 8, n_subscribers)\n",
    "gender = np.random.binomial(1, 0.46, n_subscribers)\n",
    "income = np.random.poisson(25000, n_subscribers)\n",
    "drama_segment = np.random.binomial(1, 0.22, n_subscribers)\n",
    "exp_scale = 0.04*age + 4*gender + 0.0002*income + 6*drama_segment\n",
    "weeks = [np.random.exponential(scale=x, size=1)[0] for x in exp_scale]\n",
    "cancelled = np.random.binomial(1, 0.8, n_subscribers)\n",
    "\n",
    "subscribers_df = pd.DataFrame({\n",
    "    \"age\": age,\n",
    "    \"gender\": gender,\n",
    "    \"income\": income,\n",
    "    \"drama_segment\": drama_segment,\n",
    "    \"weeks\": weeks,\n",
    "    \"cancelled\": cancelled\n",
    "})\n",
    "\n",
    "subscribers_df.head()"
   ]
  },
  {
   "cell_type": "markdown",
   "metadata": {},
   "source": [
    "A quick look at the distribution of weeks"
   ]
  },
  {
   "cell_type": "code",
   "execution_count": 3,
   "metadata": {},
   "outputs": [
    {
     "name": "stderr",
     "output_type": "stream",
     "text": [
      "C:\\Users\\ryanwala\\AppData\\Local\\Continuum\\anaconda3\\lib\\site-packages\\scipy\\stats\\stats.py:1713: FutureWarning: Using a non-tuple sequence for multidimensional indexing is deprecated; use `arr[tuple(seq)]` instead of `arr[seq]`. In the future this will be interpreted as an array index, `arr[np.array(seq)]`, which will result either in an error or a different result.\n",
      "  return np.add.reduce(sorted[indexer] * weights, axis=axis) / sumval\n"
     ]
    },
    {
     "data": {
      "image/png": "[encoded data removed]",
      "text/plain": [
       "<Figure size 432x288 with 1 Axes>"
      ]
     },
     "metadata": {
      "needs_background": "light"
     },
     "output_type": "display_data"
    }
   ],
   "source": [
    "_ = sns.distplot(subscribers_df.weeks)"
   ]
  },
  {
   "cell_type": "markdown",
   "metadata": {},
   "source": [
    "### A Kaplan-Meier curve for all subscribers"
   ]
  },
  {
   "cell_type": "code",
   "execution_count": 4,
   "metadata": {},
   "outputs": [
    {
     "data": {
      "image/png": "[encoded data removed]",
      "text/plain": [
       "<Figure size 432x288 with 1 Axes>"
      ]
     },
     "metadata": {
      "needs_background": "light"
     },
     "output_type": "display_data"
    }
   ],
   "source": [
    "from lifelines import KaplanMeierFitter\n",
    "kmf = KaplanMeierFitter()\n",
    "t = subscribers_df.weeks\n",
    "e = subscribers_df.cancelled\n",
    "kmf.fit(t, e)\n",
    "_ = kmf.plot()"
   ]
  },
  {
   "cell_type": "markdown",
   "metadata": {},
   "source": [
    "By itself this is not particularly interesting. It is more so when we compare groups.\n",
    "\n",
    "### Kaplan-Meier curves by group"
   ]
  },
  {
   "cell_type": "code",
   "execution_count": 5,
   "metadata": {},
   "outputs": [
    {
     "data": {
      "image/png": "[encoded data removed]",
      "text/plain": [
       "<Figure size 432x288 with 1 Axes>"
      ]
     },
     "metadata": {
      "needs_background": "light"
     },
     "output_type": "display_data"
    }
   ],
   "source": [
    "gender_ind = (subscribers_df.gender == 1)\n",
    "seg_ind = (subscribers_df.drama_segment == 1)\n",
    "\n",
    "kmf.fit(t[~gender_ind], e[~gender_ind], label='Male')\n",
    "ax = kmf.plot()\n",
    "\n",
    "kmf.fit(t[gender_ind], e[gender_ind], label='Female')\n",
    "ax = kmf.plot(ax=ax)\n",
    "\n",
    "kmf.fit(t[~seg_ind], e[~seg_ind], label='Not a drama viewer')\n",
    "ax = kmf.plot(ax=ax)\n",
    "\n",
    "kmf.fit(t[seg_ind], e[seg_ind], label='Drama viewer')\n",
    "ax = kmf.plot(ax=ax)"
   ]
  },
  {
   "cell_type": "markdown",
   "metadata": {},
   "source": [
    "We can run a log rank tests to that differences between groups are statistically significant."
   ]
  },
  {
   "cell_type": "code",
   "execution_count": 6,
   "metadata": {},
   "outputs": [
    {
     "name": "stdout",
     "output_type": "stream",
     "text": [
      "\n",
      "t_0=-1, alpha=0.99, null_distribution=chi squared, df=1\n",
      "\n",
      "test_statistic      p     \n",
      "      299.0452 0.0000  ***\n",
      "---\n",
      "Signif. codes:  0 '***' 0.001 '**' 0.01 '*' 0.05 '.' 0.1 ' ' 1 \n"
     ]
    }
   ],
   "source": [
    "from lifelines.statistics import logrank_test\n",
    "\n",
    "test_results = logrank_test(t[gender_ind], t[~gender_ind], e[gender_ind], e[~gender_ind], alpha=.99)\n",
    "\n",
    "test_results.print_summary()"
   ]
  },
  {
   "cell_type": "code",
   "execution_count": 11,
   "metadata": {},
   "outputs": [
    {
     "name": "stdout",
     "output_type": "stream",
     "text": [
      "\n",
      "t_0=-1, alpha=0.99, null_distribution=chi squared, df=1\n",
      "\n",
      "test_statistic      p     \n",
      "      386.1972 0.0000  ***\n",
      "---\n",
      "Signif. codes:  0 '***' 0.001 '**' 0.01 '*' 0.05 '.' 0.1 ' ' 1 \n"
     ]
    }
   ],
   "source": [
    "test_results_d = logrank_test(t[seg_ind], t[~seg_ind], e[seg_ind], e[~seg_ind], alpha = 0.99)\n",
    "test_results_d.print_summary()"
   ]
  },
  {
   "cell_type": "code",
   "execution_count": 13,
   "metadata": {},
   "outputs": [
    {
     "name": "stdout",
     "output_type": "stream",
     "text": [
      "\n",
      "t_0=-1, alpha=0.99, null_distribution=chi squared, df=1\n",
      "\n",
      "test_statistic      p    \n",
      "        9.1228 0.0025  **\n",
      "---\n",
      "Signif. codes:  0 '***' 0.001 '**' 0.01 '*' 0.05 '.' 0.1 ' ' 1 \n"
     ]
    }
   ],
   "source": [
    "test_results_md = logrank_test(t[~gender_ind], t[~seg_ind], e[~gender_ind], e[~seg_ind], alpha = 0.99)\n",
    "test_results_md.print_summary()"
   ]
  },
  {
   "cell_type": "code",
   "execution_count": 14,
   "metadata": {},
   "outputs": [
    {
     "name": "stdout",
     "output_type": "stream",
     "text": [
      "\n",
      "t_0=-1, alpha=0.99, null_distribution=chi squared, df=1\n",
      "\n",
      "test_statistic      p     \n",
      "       47.1586 0.0000  ***\n",
      "---\n",
      "Signif. codes:  0 '***' 0.001 '**' 0.01 '*' 0.05 '.' 0.1 ' ' 1 \n"
     ]
    }
   ],
   "source": [
    "test_results_fd = logrank_test(t[gender_ind], t[seg_ind], e[seg_ind], e[gender_ind], alpha = 0.99)\n",
    "test_results_fd.print_summary()"
   ]
  },
  {
   "cell_type": "code",
   "execution_count": 15,
   "metadata": {},
   "outputs": [
    {
     "name": "stdout",
     "output_type": "stream",
     "text": [
      "\n",
      "t_0=-1, alpha=0.99, null_distribution=chi squared, df=1\n",
      "\n",
      "test_statistic      p     \n",
      "      413.1557 0.0000  ***\n",
      "---\n",
      "Signif. codes:  0 '***' 0.001 '**' 0.01 '*' 0.05 '.' 0.1 ' ' 1 \n"
     ]
    }
   ],
   "source": [
    "test_results_md2 = logrank_test(t[~gender_ind], t[seg_ind], e[~gender_ind], e[seg_ind], alpha = 0.99)\n",
    "test_results_md2.print_summary()"
   ]
  },
  {
   "cell_type": "code",
   "execution_count": 16,
   "metadata": {},
   "outputs": [
    {
     "name": "stdout",
     "output_type": "stream",
     "text": [
      "\n",
      "t_0=-1, alpha=0.99, null_distribution=chi squared, df=1\n",
      "\n",
      "test_statistic      p     \n",
      "      259.0092 0.0000  ***\n",
      "---\n",
      "Signif. codes:  0 '***' 0.001 '**' 0.01 '*' 0.05 '.' 0.1 ' ' 1 \n"
     ]
    }
   ],
   "source": [
    "test_results_fd2 = logrank_test(t[gender_ind], t[~seg_ind], e[gender_ind], e[~seg_ind], alpha = 0.99)\n",
    "test_results_fd2.print_summary()"
   ]
  },
  {
   "cell_type": "markdown",
   "metadata": {},
   "source": [
    "The null hypothesis was no difference. The p-value we obtained was extremely improbable under the null hypothesis."
   ]
  },
  {
   "cell_type": "markdown",
   "metadata": {},
   "source": [
    "### A proportional hazards model\n",
    "\n",
    "The Kaplan-Meier curves allow us to compare the survival of different groups but so far we have not been able to understand the impact of the continuous variables age and income on the survival curves. For this we need the proportional hazards model."
   ]
  },
  {
   "cell_type": "code",
   "execution_count": 7,
   "metadata": {},
   "outputs": [
    {
     "name": "stdout",
     "output_type": "stream",
     "text": [
      "n=10000, number of events=7976\n",
      "\n",
      "                 coef  exp(coef)  se(coef)        z      p  lower 0.95  upper 0.95     \n",
      "age           -0.0033     0.9967    0.0014  -2.3546 0.0185     -0.0060     -0.0006    *\n",
      "gender        -0.4452     0.6407    0.0230 -19.3989 0.0000     -0.4902     -0.4002  ***\n",
      "income        -0.0001     0.9999    0.0001  -0.9888 0.3228     -0.0002      0.0001     \n",
      "drama_segment -0.5944     0.5519    0.0281 -21.1608 0.0000     -0.6495     -0.5394  ***\n",
      "---\n",
      "Signif. codes:  0 '***' 0.001 '**' 0.01 '*' 0.05 '.' 0.1 ' ' 1 \n",
      "\n",
      "Concordance = 0.590\n",
      "Likelihood ratio test = 795.812 on 4 df, p=0.00000\n"
     ]
    }
   ],
   "source": [
    "from lifelines import CoxPHFitter\n",
    "\n",
    "# Using Cox Proportional Hazards model\n",
    "cph = CoxPHFitter()\n",
    "cph.fit(subscribers_df, 'weeks', event_col='cancelled')\n",
    "cph.print_summary()"
   ]
  },
  {
   "cell_type": "markdown",
   "metadata": {},
   "source": [
    "But how good is the model?\n",
    "\n",
    "Looking at the p-values of the coefficients only the income variable is not significant.\n",
    "\n",
    "Another thing we can look at is the concordance index. This is explained in the lifelines documentation as follows: \n",
    "\n",
    "> If censorship is present, it’s not appropriate to use a loss function like mean-squared-error or mean-absolute-loss. Instead, one measure is the concordance-index, also known as the c-index. This measure evaluates the accuracy of the ordering of predicted time. It is infact a generalization of AUC, another common loss function, and is interpreted similarly:\n",
    "\n",
    "> 0.5 is the expected result from random predictions,\n",
    "1.0 is perfect concordance and,\n",
    "0.0 is perfect anti-concordance (multiply predictions with -1 to get 1.0)\n",
    "\n",
    "So our model is not wonderful but better than random.\n",
    "\n",
    "\n",
    "### Making predictions\n",
    "\n",
    "We can now use our model to make predictions about the probability that individuals will last for specific amounts of time."
   ]
  },
  {
   "cell_type": "code",
   "execution_count": 8,
   "metadata": {},
   "outputs": [
    {
     "data": {
      "text/html": [
       "<div>\n",
       "<style scoped>\n",
       "    .dataframe tbody tr th:only-of-type {\n",
       "        vertical-align: middle;\n",
       "    }\n",
       "\n",
       "    .dataframe tbody tr th {\n",
       "        vertical-align: top;\n",
       "    }\n",
       "\n",
       "    .dataframe thead th {\n",
       "        text-align: right;\n",
       "    }\n",
       "</style>\n",
       "<table border=\"1\" class=\"dataframe\">\n",
       "  <thead>\n",
       "    <tr style=\"text-align: right;\">\n",
       "      <th></th>\n",
       "      <th>0</th>\n",
       "      <th>1</th>\n",
       "      <th>2</th>\n",
       "      <th>3</th>\n",
       "      <th>4</th>\n",
       "    </tr>\n",
       "  </thead>\n",
       "  <tbody>\n",
       "    <tr>\n",
       "      <th>10.0</th>\n",
       "      <td>0.495752</td>\n",
       "      <td>0.480972</td>\n",
       "      <td>0.316130</td>\n",
       "      <td>0.648867</td>\n",
       "      <td>0.448518</td>\n",
       "    </tr>\n",
       "    <tr>\n",
       "      <th>50.0</th>\n",
       "      <td>0.028400</td>\n",
       "      <td>0.024356</td>\n",
       "      <td>0.002895</td>\n",
       "      <td>0.111327</td>\n",
       "      <td>0.017085</td>\n",
       "    </tr>\n",
       "    <tr>\n",
       "      <th>100.0</th>\n",
       "      <td>0.000311</td>\n",
       "      <td>0.000220</td>\n",
       "      <td>0.000002</td>\n",
       "      <td>0.006893</td>\n",
       "      <td>0.000098</td>\n",
       "    </tr>\n",
       "  </tbody>\n",
       "</table>\n",
       "</div>"
      ],
      "text/plain": [
       "              0         1         2         3         4\n",
       "10.0   0.495752  0.480972  0.316130  0.648867  0.448518\n",
       "50.0   0.028400  0.024356  0.002895  0.111327  0.017085\n",
       "100.0  0.000311  0.000220  0.000002  0.006893  0.000098"
      ]
     },
     "execution_count": 8,
     "metadata": {},
     "output_type": "execute_result"
    }
   ],
   "source": [
    "cph.predict_survival_function(subscribers_df.head(), times=[10., 50., 100.])"
   ]
  },
  {
   "cell_type": "markdown",
   "metadata": {
    "collapsed": true
   },
   "source": [
    "### Understanding the contributions of the explanatory variables\n",
    "\n",
    "Lifelines provides a very useful way to understand how an explanatory variable affects the baseline survival."
   ]
  },
  {
   "cell_type": "code",
   "execution_count": 9,
   "metadata": {},
   "outputs": [
    {
     "data": {
      "image/png": "[encoded data removed]",
      "text/plain": [
       "<Figure size 432x288 with 1 Axes>"
      ]
     },
     "metadata": {
      "needs_background": "light"
     },
     "output_type": "display_data"
    }
   ],
   "source": [
    "_ = cph.plot_covariate_groups('age', [20, 40, 60, 80])"
   ]
  }
 ],
 "metadata": {
  "kernelspec": {
   "display_name": "Python 3",
   "language": "python",
   "name": "python3"
  },
  "language_info": {
   "codemirror_mode": {
    "name": "ipython",
    "version": 3
   },
   "file_extension": ".py",
   "mimetype": "text/x-python",
   "name": "python",
   "nbconvert_exporter": "python",
   "pygments_lexer": "ipython3",
   "version": "3.7.0"
  },
  "varInspector": {
   "cols": {
    "lenName": 16,
    "lenType": 16,
    "lenVar": 40
   },
   "kernels_config": {
    "python": {
     "delete_cmd_postfix": "",
     "delete_cmd_prefix": "del ",
     "library": "var_list.py",
     "varRefreshCmd": "print(var_dic_list())"
    },
    "r": {
     "delete_cmd_postfix": ") ",
     "delete_cmd_prefix": "rm(",
     "library": "var_list.r",
     "varRefreshCmd": "cat(var_dic_list()) "
    }
   },
   "types_to_exclude": [
    "module",
    "function",
    "builtin_function_or_method",
    "instance",
    "_Feature"
   ],
   "window_display": false
  }
 },
 "nbformat": 4,
 "nbformat_minor": 2
}
