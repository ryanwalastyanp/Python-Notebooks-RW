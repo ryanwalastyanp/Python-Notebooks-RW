{
 "cells": [
  {
   "cell_type": "markdown",
   "metadata": {},
   "source": [
    "# Set-Up Environment"
   ]
  },
  {
   "cell_type": "code",
   "execution_count": 63,
   "metadata": {
    "collapsed": true
   },
   "outputs": [],
   "source": [
    "import pandas as pd\n",
    "import seaborn as sns\n",
    "import sklearn as skl\n",
    "import numpy as np\n",
    "import matplotlib as mpl"
   ]
  },
  {
   "cell_type": "markdown",
   "metadata": {},
   "source": [
    "# Load in the Dataset"
   ]
  },
  {
   "cell_type": "code",
   "execution_count": 64,
   "metadata": {},
   "outputs": [
    {
     "name": "stdout",
     "output_type": "stream",
     "text": [
      "(44027, 27)\n"
     ]
    },
    {
     "data": {
      "text/html": [
       "<div>\n",
       "<style>\n",
       "    .dataframe thead tr:only-child th {\n",
       "        text-align: right;\n",
       "    }\n",
       "\n",
       "    .dataframe thead th {\n",
       "        text-align: left;\n",
       "    }\n",
       "\n",
       "    .dataframe tbody tr th {\n",
       "        vertical-align: top;\n",
       "    }\n",
       "</style>\n",
       "<table border=\"1\" class=\"dataframe\">\n",
       "  <thead>\n",
       "    <tr style=\"text-align: right;\">\n",
       "      <th></th>\n",
       "      <th>ID</th>\n",
       "      <th>churn</th>\n",
       "      <th>one_day_hours</th>\n",
       "      <th>one_day_dau</th>\n",
       "      <th>one_day_boi</th>\n",
       "      <th>seven_day_hours</th>\n",
       "      <th>seven_day_dau</th>\n",
       "      <th>seven_day_boi</th>\n",
       "      <th>thirty_day_hours</th>\n",
       "      <th>thirty_day_dau</th>\n",
       "      <th>...</th>\n",
       "      <th>housewife</th>\n",
       "      <th>hub_plus_tenure2</th>\n",
       "      <th>tenure_registration</th>\n",
       "      <th>indicia_group</th>\n",
       "      <th>onedayhours^2</th>\n",
       "      <th>sevendayhours^2</th>\n",
       "      <th>thirtydayhours^2</th>\n",
       "      <th>hoursmostpop^2</th>\n",
       "      <th>hubplus^2</th>\n",
       "      <th>tenure^2</th>\n",
       "    </tr>\n",
       "  </thead>\n",
       "  <tbody>\n",
       "    <tr>\n",
       "      <th>0</th>\n",
       "      <td>000061da-2686-4954-9ed4-29fa8a767d39</td>\n",
       "      <td>0</td>\n",
       "      <td>4.963265</td>\n",
       "      <td>2</td>\n",
       "      <td>4</td>\n",
       "      <td>9.388741</td>\n",
       "      <td>8</td>\n",
       "      <td>4</td>\n",
       "      <td>25.979758</td>\n",
       "      <td>18</td>\n",
       "      <td>...</td>\n",
       "      <td>0</td>\n",
       "      <td>11</td>\n",
       "      <td>21.0</td>\n",
       "      <td>162.0</td>\n",
       "      <td>24.633999</td>\n",
       "      <td>88.148449</td>\n",
       "      <td>674.947814</td>\n",
       "      <td>3.154298</td>\n",
       "      <td>121</td>\n",
       "      <td>441</td>\n",
       "    </tr>\n",
       "    <tr>\n",
       "      <th>1</th>\n",
       "      <td>0002995a-c233-4bd0-9ac3-322c561774a8</td>\n",
       "      <td>0</td>\n",
       "      <td>0.960000</td>\n",
       "      <td>1</td>\n",
       "      <td>1</td>\n",
       "      <td>1.766035</td>\n",
       "      <td>2</td>\n",
       "      <td>1</td>\n",
       "      <td>6.074976</td>\n",
       "      <td>5</td>\n",
       "      <td>...</td>\n",
       "      <td>0</td>\n",
       "      <td>1</td>\n",
       "      <td>43.0</td>\n",
       "      <td>199.0</td>\n",
       "      <td>0.921600</td>\n",
       "      <td>3.118879</td>\n",
       "      <td>36.905335</td>\n",
       "      <td>0.921600</td>\n",
       "      <td>1</td>\n",
       "      <td>1849</td>\n",
       "    </tr>\n",
       "    <tr>\n",
       "      <th>2</th>\n",
       "      <td>0004a2f0-90c6-43c5-84f5-804eab277e22</td>\n",
       "      <td>0</td>\n",
       "      <td>2.570976</td>\n",
       "      <td>2</td>\n",
       "      <td>4</td>\n",
       "      <td>6.826960</td>\n",
       "      <td>5</td>\n",
       "      <td>7</td>\n",
       "      <td>17.651861</td>\n",
       "      <td>16</td>\n",
       "      <td>...</td>\n",
       "      <td>0</td>\n",
       "      <td>9</td>\n",
       "      <td>21.0</td>\n",
       "      <td>146.0</td>\n",
       "      <td>6.609917</td>\n",
       "      <td>46.607387</td>\n",
       "      <td>311.588201</td>\n",
       "      <td>2.158252</td>\n",
       "      <td>81</td>\n",
       "      <td>441</td>\n",
       "    </tr>\n",
       "    <tr>\n",
       "      <th>3</th>\n",
       "      <td>0004c529-c2ae-4d47-bfde-eac95dc5b1e2</td>\n",
       "      <td>0</td>\n",
       "      <td>3.985561</td>\n",
       "      <td>2</td>\n",
       "      <td>1</td>\n",
       "      <td>3.985561</td>\n",
       "      <td>2</td>\n",
       "      <td>1</td>\n",
       "      <td>8.986164</td>\n",
       "      <td>6</td>\n",
       "      <td>...</td>\n",
       "      <td>0</td>\n",
       "      <td>1</td>\n",
       "      <td>23.0</td>\n",
       "      <td>103.0</td>\n",
       "      <td>15.884695</td>\n",
       "      <td>15.884695</td>\n",
       "      <td>80.751151</td>\n",
       "      <td>15.884695</td>\n",
       "      <td>1</td>\n",
       "      <td>529</td>\n",
       "    </tr>\n",
       "    <tr>\n",
       "      <th>4</th>\n",
       "      <td>0005c576-287b-4117-be33-72cebac974ea</td>\n",
       "      <td>1</td>\n",
       "      <td>0.347850</td>\n",
       "      <td>1</td>\n",
       "      <td>2</td>\n",
       "      <td>1.018686</td>\n",
       "      <td>2</td>\n",
       "      <td>3</td>\n",
       "      <td>7.029297</td>\n",
       "      <td>8</td>\n",
       "      <td>...</td>\n",
       "      <td>0</td>\n",
       "      <td>20</td>\n",
       "      <td>0.0</td>\n",
       "      <td>111.0</td>\n",
       "      <td>0.120999</td>\n",
       "      <td>1.037721</td>\n",
       "      <td>49.411012</td>\n",
       "      <td>0.107636</td>\n",
       "      <td>400</td>\n",
       "      <td>0</td>\n",
       "    </tr>\n",
       "  </tbody>\n",
       "</table>\n",
       "<p>5 rows × 27 columns</p>\n",
       "</div>"
      ],
      "text/plain": [
       "                                     ID  churn  one_day_hours  one_day_dau  \\\n",
       "0  000061da-2686-4954-9ed4-29fa8a767d39      0       4.963265            2   \n",
       "1  0002995a-c233-4bd0-9ac3-322c561774a8      0       0.960000            1   \n",
       "2  0004a2f0-90c6-43c5-84f5-804eab277e22      0       2.570976            2   \n",
       "3  0004c529-c2ae-4d47-bfde-eac95dc5b1e2      0       3.985561            2   \n",
       "4  0005c576-287b-4117-be33-72cebac974ea      1       0.347850            1   \n",
       "\n",
       "   one_day_boi  seven_day_hours  seven_day_dau  seven_day_boi  \\\n",
       "0            4         9.388741              8              4   \n",
       "1            1         1.766035              2              1   \n",
       "2            4         6.826960              5              7   \n",
       "3            1         3.985561              2              1   \n",
       "4            2         1.018686              2              3   \n",
       "\n",
       "   thirty_day_hours  thirty_day_dau    ...     housewife hub_plus_tenure2  \\\n",
       "0         25.979758              18    ...             0               11   \n",
       "1          6.074976               5    ...             0                1   \n",
       "2         17.651861              16    ...             0                9   \n",
       "3          8.986164               6    ...             0                1   \n",
       "4          7.029297               8    ...             0               20   \n",
       "\n",
       "  tenure_registration  indicia_group  onedayhours^2  sevendayhours^2  \\\n",
       "0                21.0          162.0      24.633999        88.148449   \n",
       "1                43.0          199.0       0.921600         3.118879   \n",
       "2                21.0          146.0       6.609917        46.607387   \n",
       "3                23.0          103.0      15.884695        15.884695   \n",
       "4                 0.0          111.0       0.120999         1.037721   \n",
       "\n",
       "   thirtydayhours^2  hoursmostpop^2  hubplus^2  tenure^2  \n",
       "0        674.947814        3.154298        121       441  \n",
       "1         36.905335        0.921600          1      1849  \n",
       "2        311.588201        2.158252         81       441  \n",
       "3         80.751151       15.884695          1       529  \n",
       "4         49.411012        0.107636        400         0  \n",
       "\n",
       "[5 rows x 27 columns]"
      ]
     },
     "execution_count": 64,
     "metadata": {},
     "output_type": "execute_result"
    }
   ],
   "source": [
    "data = pd.read_csv('Churn Model Data.csv')\n",
    "print(data.shape)\n",
    "data.head()"
   ]
  },
  {
   "cell_type": "markdown",
   "metadata": {},
   "source": [
    "# Split the Data into a Train and Test Set"
   ]
  },
  {
   "cell_type": "code",
   "execution_count": 65,
   "metadata": {
    "collapsed": true
   },
   "outputs": [],
   "source": [
    "from sklearn.model_selection import train_test_split\n",
    "X_train, X_test, y_train, y_test = train_test_split(data.loc[:,data.columns.difference(['ID', 'churn','First_genre_id','First_programme_title'])], data['churn'], test_size=0.2, random_state=42)"
   ]
  },
  {
   "cell_type": "code",
   "execution_count": 66,
   "metadata": {},
   "outputs": [
    {
     "data": {
      "text/html": [
       "<div>\n",
       "<style>\n",
       "    .dataframe thead tr:only-child th {\n",
       "        text-align: right;\n",
       "    }\n",
       "\n",
       "    .dataframe thead th {\n",
       "        text-align: left;\n",
       "    }\n",
       "\n",
       "    .dataframe tbody tr th {\n",
       "        vertical-align: top;\n",
       "    }\n",
       "</style>\n",
       "<table border=\"1\" class=\"dataframe\">\n",
       "  <thead>\n",
       "    <tr style=\"text-align: right;\">\n",
       "      <th></th>\n",
       "      <th>16-34</th>\n",
       "      <th>affluent</th>\n",
       "      <th>female</th>\n",
       "      <th>hours_most_pop_show</th>\n",
       "      <th>hoursmostpop^2</th>\n",
       "      <th>housewife</th>\n",
       "      <th>hub_plus_tenure2</th>\n",
       "      <th>hubplus^2</th>\n",
       "      <th>indicia_group</th>\n",
       "      <th>one_day_boi</th>\n",
       "      <th>...</th>\n",
       "      <th>seven_day_boi</th>\n",
       "      <th>seven_day_dau</th>\n",
       "      <th>seven_day_hours</th>\n",
       "      <th>sevendayhours^2</th>\n",
       "      <th>tenure^2</th>\n",
       "      <th>tenure_registration</th>\n",
       "      <th>thirty_day_boi</th>\n",
       "      <th>thirty_day_dau</th>\n",
       "      <th>thirty_day_hours</th>\n",
       "      <th>thirtydayhours^2</th>\n",
       "    </tr>\n",
       "  </thead>\n",
       "  <tbody>\n",
       "    <tr>\n",
       "      <th>35405</th>\n",
       "      <td>0</td>\n",
       "      <td>0</td>\n",
       "      <td>1</td>\n",
       "      <td>0.213278</td>\n",
       "      <td>0.045487</td>\n",
       "      <td>1</td>\n",
       "      <td>1</td>\n",
       "      <td>1</td>\n",
       "      <td>175.0</td>\n",
       "      <td>1</td>\n",
       "      <td>...</td>\n",
       "      <td>1</td>\n",
       "      <td>3</td>\n",
       "      <td>1.461611</td>\n",
       "      <td>2.136306</td>\n",
       "      <td>1</td>\n",
       "      <td>1.0</td>\n",
       "      <td>2</td>\n",
       "      <td>4</td>\n",
       "      <td>1.553952</td>\n",
       "      <td>2.414766</td>\n",
       "    </tr>\n",
       "    <tr>\n",
       "      <th>32421</th>\n",
       "      <td>1</td>\n",
       "      <td>1</td>\n",
       "      <td>1</td>\n",
       "      <td>1.019802</td>\n",
       "      <td>1.039996</td>\n",
       "      <td>1</td>\n",
       "      <td>1</td>\n",
       "      <td>1</td>\n",
       "      <td>112.0</td>\n",
       "      <td>1</td>\n",
       "      <td>...</td>\n",
       "      <td>1</td>\n",
       "      <td>1</td>\n",
       "      <td>1.019802</td>\n",
       "      <td>1.039996</td>\n",
       "      <td>0</td>\n",
       "      <td>0.0</td>\n",
       "      <td>3</td>\n",
       "      <td>5</td>\n",
       "      <td>1.495352</td>\n",
       "      <td>2.236079</td>\n",
       "    </tr>\n",
       "    <tr>\n",
       "      <th>8600</th>\n",
       "      <td>0</td>\n",
       "      <td>0</td>\n",
       "      <td>1</td>\n",
       "      <td>1.098051</td>\n",
       "      <td>1.205716</td>\n",
       "      <td>0</td>\n",
       "      <td>11</td>\n",
       "      <td>121</td>\n",
       "      <td>117.0</td>\n",
       "      <td>5</td>\n",
       "      <td>...</td>\n",
       "      <td>6</td>\n",
       "      <td>8</td>\n",
       "      <td>10.085179</td>\n",
       "      <td>101.710828</td>\n",
       "      <td>441</td>\n",
       "      <td>21.0</td>\n",
       "      <td>11</td>\n",
       "      <td>29</td>\n",
       "      <td>38.925627</td>\n",
       "      <td>1515.204411</td>\n",
       "    </tr>\n",
       "    <tr>\n",
       "      <th>10016</th>\n",
       "      <td>1</td>\n",
       "      <td>0</td>\n",
       "      <td>1</td>\n",
       "      <td>0.794797</td>\n",
       "      <td>0.631703</td>\n",
       "      <td>0</td>\n",
       "      <td>4</td>\n",
       "      <td>16</td>\n",
       "      <td>150.0</td>\n",
       "      <td>2</td>\n",
       "      <td>...</td>\n",
       "      <td>2</td>\n",
       "      <td>1</td>\n",
       "      <td>0.798408</td>\n",
       "      <td>0.637456</td>\n",
       "      <td>0</td>\n",
       "      <td>0.0</td>\n",
       "      <td>3</td>\n",
       "      <td>4</td>\n",
       "      <td>3.101909</td>\n",
       "      <td>9.621837</td>\n",
       "    </tr>\n",
       "    <tr>\n",
       "      <th>39510</th>\n",
       "      <td>0</td>\n",
       "      <td>0</td>\n",
       "      <td>1</td>\n",
       "      <td>0.671193</td>\n",
       "      <td>0.450500</td>\n",
       "      <td>0</td>\n",
       "      <td>25</td>\n",
       "      <td>625</td>\n",
       "      <td>191.0</td>\n",
       "      <td>2</td>\n",
       "      <td>...</td>\n",
       "      <td>2</td>\n",
       "      <td>1</td>\n",
       "      <td>0.673158</td>\n",
       "      <td>0.453141</td>\n",
       "      <td>0</td>\n",
       "      <td>0.0</td>\n",
       "      <td>2</td>\n",
       "      <td>3</td>\n",
       "      <td>4.385922</td>\n",
       "      <td>19.236309</td>\n",
       "    </tr>\n",
       "  </tbody>\n",
       "</table>\n",
       "<p>5 rows × 23 columns</p>\n",
       "</div>"
      ],
      "text/plain": [
       "       16-34  affluent  female  hours_most_pop_show  hoursmostpop^2  \\\n",
       "35405      0         0       1             0.213278        0.045487   \n",
       "32421      1         1       1             1.019802        1.039996   \n",
       "8600       0         0       1             1.098051        1.205716   \n",
       "10016      1         0       1             0.794797        0.631703   \n",
       "39510      0         0       1             0.671193        0.450500   \n",
       "\n",
       "       housewife  hub_plus_tenure2  hubplus^2  indicia_group  one_day_boi  \\\n",
       "35405          1                 1          1          175.0            1   \n",
       "32421          1                 1          1          112.0            1   \n",
       "8600           0                11        121          117.0            5   \n",
       "10016          0                 4         16          150.0            2   \n",
       "39510          0                25        625          191.0            2   \n",
       "\n",
       "             ...         seven_day_boi  seven_day_dau  seven_day_hours  \\\n",
       "35405        ...                     1              3         1.461611   \n",
       "32421        ...                     1              1         1.019802   \n",
       "8600         ...                     6              8        10.085179   \n",
       "10016        ...                     2              1         0.798408   \n",
       "39510        ...                     2              1         0.673158   \n",
       "\n",
       "       sevendayhours^2  tenure^2  tenure_registration  thirty_day_boi  \\\n",
       "35405         2.136306         1                  1.0               2   \n",
       "32421         1.039996         0                  0.0               3   \n",
       "8600        101.710828       441                 21.0              11   \n",
       "10016         0.637456         0                  0.0               3   \n",
       "39510         0.453141         0                  0.0               2   \n",
       "\n",
       "       thirty_day_dau  thirty_day_hours  thirtydayhours^2  \n",
       "35405               4          1.553952          2.414766  \n",
       "32421               5          1.495352          2.236079  \n",
       "8600               29         38.925627       1515.204411  \n",
       "10016               4          3.101909          9.621837  \n",
       "39510               3          4.385922         19.236309  \n",
       "\n",
       "[5 rows x 23 columns]"
      ]
     },
     "execution_count": 66,
     "metadata": {},
     "output_type": "execute_result"
    }
   ],
   "source": [
    "## make sure that the training set does not include the ID and churn columns\n",
    "X_train.head()"
   ]
  },
  {
   "cell_type": "markdown",
   "metadata": {},
   "source": [
    "# Make sure that the data is in the right format"
   ]
  },
  {
   "cell_type": "code",
   "execution_count": 67,
   "metadata": {
    "collapsed": true
   },
   "outputs": [],
   "source": [
    "X_train = X_train.apply(pd.to_numeric)\n",
    "X_test = X_test.apply(pd.to_numeric)\n",
    "y_train = y_train.apply(pd.to_numeric)\n",
    "y_test = y_test.apply(pd.to_numeric)"
   ]
  },
  {
   "cell_type": "markdown",
   "metadata": {},
   "source": [
    "# Use Feature Union, Pipeline and GridSearch to find the best Model"
   ]
  },
  {
   "cell_type": "code",
   "execution_count": 68,
   "metadata": {},
   "outputs": [
    {
     "data": {
      "text/plain": [
       "['mean_fit_time',\n",
       " 'mean_score_time',\n",
       " 'mean_test_score',\n",
       " 'mean_train_score',\n",
       " 'param_feature_union__pca__n_components',\n",
       " 'param_feature_union__select_best__k',\n",
       " 'params',\n",
       " 'rank_test_score',\n",
       " 'split0_test_score',\n",
       " 'split0_train_score',\n",
       " 'split1_test_score',\n",
       " 'split1_train_score',\n",
       " 'split2_test_score',\n",
       " 'split2_train_score',\n",
       " 'std_fit_time',\n",
       " 'std_score_time',\n",
       " 'std_test_score',\n",
       " 'std_train_score']"
      ]
     },
     "execution_count": 68,
     "metadata": {},
     "output_type": "execute_result"
    }
   ],
   "source": [
    "# Create a pipeline that extracts features from the data then creates a model\n",
    "from pandas import read_csv\n",
    "from sklearn.model_selection import KFold\n",
    "from sklearn.model_selection import cross_val_score\n",
    "from sklearn.pipeline import Pipeline\n",
    "from sklearn.pipeline import FeatureUnion\n",
    "from sklearn.linear_model import LogisticRegression\n",
    "from sklearn.decomposition import PCA\n",
    "from sklearn.feature_selection import SelectKBest\n",
    "from sklearn.model_selection import GridSearchCV\n",
    "\n",
    "X = X_train.iloc[:,0:8]\n",
    "Y = y_train\n",
    "\n",
    "# create feature union\n",
    "features = []\n",
    "features.append(('pca', PCA(n_components=8))) #calculate x principal components\n",
    "features.append(('select_best', SelectKBest(k='all'))) #find the best y principal components\n",
    "feature_union = FeatureUnion(features)\n",
    "\n",
    "# create pipeline\n",
    "estimators = []\n",
    "estimators.append(('feature_union', feature_union))\n",
    "estimators.append(('logistic', LogisticRegression())) #add a logistic regression model to the pipeline\n",
    "model = Pipeline(estimators)\n",
    "\n",
    "# set up gridsearch to find the best parameter values specified in the ranges below\n",
    "parameters = {'feature_union__pca__n_components':[2, 8], 'feature_union__select_best__k':[2, 8]}\n",
    "clf = GridSearchCV(model, parameters)\n",
    "model2 = clf.fit(X, Y)\n",
    "\n",
    "sorted(clf.cv_results_.keys())"
   ]
  },
  {
   "cell_type": "code",
   "execution_count": 69,
   "metadata": {
    "collapsed": true
   },
   "outputs": [],
   "source": [
    "## error messages - with genre and programme included: cannot convert string to float\n",
    "##                  after genre and programme removed: input contains NaN, infinity or value too large for float64\n",
    "##                  putting in a few columns at a time works but the predicted vector is all 0."
   ]
  },
  {
   "cell_type": "markdown",
   "metadata": {},
   "source": [
    "# Use accuracy_score to calculate the model accuracy"
   ]
  },
  {
   "cell_type": "code",
   "execution_count": 70,
   "metadata": {},
   "outputs": [
    {
     "name": "stdout",
     "output_type": "stream",
     "text": [
      "0.678060413355\n"
     ]
    }
   ],
   "source": [
    "from sklearn.metrics import accuracy_score\n",
    "acc = accuracy_score(y_test, model2.predict(X_test.iloc[:,0:8]))\n",
    "print(acc)"
   ]
  },
  {
   "cell_type": "code",
   "execution_count": 71,
   "metadata": {},
   "outputs": [
    {
     "data": {
      "text/plain": [
       "array([0, 0, 0, ..., 0, 0, 0], dtype=int64)"
      ]
     },
     "execution_count": 71,
     "metadata": {},
     "output_type": "execute_result"
    }
   ],
   "source": [
    "model2.predict(X_test.iloc[:,0:8])"
   ]
  },
  {
   "cell_type": "code",
   "execution_count": 72,
   "metadata": {},
   "outputs": [
    {
     "data": {
      "text/plain": [
       "0"
      ]
     },
     "execution_count": 72,
     "metadata": {},
     "output_type": "execute_result"
    }
   ],
   "source": [
    "np.count_nonzero(model2.predict(X_test.iloc[:,0:8]))"
   ]
  },
  {
   "cell_type": "code",
   "execution_count": null,
   "metadata": {
    "collapsed": true
   },
   "outputs": [],
   "source": []
  }
 ],
 "metadata": {
  "kernelspec": {
   "display_name": "Python 3",
   "language": "python",
   "name": "python3"
  },
  "language_info": {
   "codemirror_mode": {
    "name": "ipython",
    "version": 3
   },
   "file_extension": ".py",
   "mimetype": "text/x-python",
   "name": "python",
   "nbconvert_exporter": "python",
   "pygments_lexer": "ipython3",
   "version": "3.6.3"
  }
 },
 "nbformat": 4,
 "nbformat_minor": 2
}
