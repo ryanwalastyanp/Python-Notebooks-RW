{
 "cells": [
  {
   "cell_type": "code",
   "execution_count": 7,
   "metadata": {},
   "outputs": [
    {
     "name": "stdout",
     "output_type": "stream",
     "text": [
      "Average wounds: 1.2962962962962943\n"
     ]
    }
   ],
   "source": [
    "from warhammer_stats import Attack, Weapon, Target, PMFCollection\n",
    "from warhammer_stats.modifiers import ModifierCollection, ReRollOnes\n",
    "\n",
    "# Define a re-roll ones weapon modifier\n",
    "weapon_mods = ModifierCollection(hit_mods = [ReRollOnes()])\n",
    "\n",
    "# Define the weapon. In this case it is a clasic boltgun hitting on a 4+\n",
    "weapon = Weapon(\n",
    "    bs = 3,\n",
    "    shots = PMFCollection.static(10),\n",
    "    strength = 4,\n",
    "    ap = 0,\n",
    "    damage = PMFCollection.static(1),\n",
    "    modifiers = weapon_mods\n",
    ")\n",
    "\n",
    "# Define the target. In this case it is a space marine\n",
    "target = Target(\n",
    "    toughness = 4,\n",
    "    save = 3,\n",
    "    invuln = 7,\n",
    "    fnp = 7,\n",
    "    wounds = 2\n",
    ")\n",
    "\n",
    "# Create an attack\n",
    "attack = Attack(weapon, target)\n",
    "\n",
    "# Run the calculation\n",
    "result = attack.run()\n",
    "\n",
    "# print the mean of the damage distribution\n",
    "print(f'Average wounds: {result.damage_dist.mean()}')"
   ]
  },
  {
   "cell_type": "code",
   "execution_count": null,
   "metadata": {},
   "outputs": [],
   "source": []
  }
 ],
 "metadata": {
  "kernelspec": {
   "display_name": "Python 3",
   "language": "python",
   "name": "python3"
  },
  "language_info": {
   "codemirror_mode": {
    "name": "ipython",
    "version": 3
   },
   "file_extension": ".py",
   "mimetype": "text/x-python",
   "name": "python",
   "nbconvert_exporter": "python",
   "pygments_lexer": "ipython3",
   "version": "3.7.0"
  }
 },
 "nbformat": 4,
 "nbformat_minor": 2
}
