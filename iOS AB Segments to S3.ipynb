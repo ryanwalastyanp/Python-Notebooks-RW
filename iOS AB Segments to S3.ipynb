{
 "cells": [
  {
   "cell_type": "code",
   "execution_count": 1,
   "metadata": {},
   "outputs": [],
   "source": [
    "import pandas as pd"
   ]
  },
  {
   "cell_type": "code",
   "execution_count": 8,
   "metadata": {},
   "outputs": [
    {
     "data": {
      "text/html": [
       "<div>\n",
       "<style scoped>\n",
       "    .dataframe tbody tr th:only-of-type {\n",
       "        vertical-align: middle;\n",
       "    }\n",
       "\n",
       "    .dataframe tbody tr th {\n",
       "        vertical-align: top;\n",
       "    }\n",
       "\n",
       "    .dataframe thead th {\n",
       "        text-align: right;\n",
       "    }\n",
       "</style>\n",
       "<table border=\"1\" class=\"dataframe\">\n",
       "  <thead>\n",
       "    <tr style=\"text-align: right;\">\n",
       "      <th></th>\n",
       "      <th>registered_user_id</th>\n",
       "      <th>segment_variant</th>\n",
       "      <th>list_item_listing_id</th>\n",
       "      <th>click_content</th>\n",
       "      <th>consumption</th>\n",
       "    </tr>\n",
       "  </thead>\n",
       "  <tbody>\n",
       "    <tr>\n",
       "      <th>0</th>\n",
       "      <td>4a2032da-9401-4ca3-b1f9-69819276c5ac</td>\n",
       "      <td>Recs</td>\n",
       "      <td>homepage_lastwatched</td>\n",
       "      <td>2/7172/0029#001</td>\n",
       "      <td>0.001618</td>\n",
       "    </tr>\n",
       "    <tr>\n",
       "      <th>1</th>\n",
       "      <td>4a2032da-9401-4ca3-b1f9-69819276c5ac</td>\n",
       "      <td>Recs</td>\n",
       "      <td>homepage_promoted</td>\n",
       "      <td>2/7172/0029#001</td>\n",
       "      <td>0.469576</td>\n",
       "    </tr>\n",
       "    <tr>\n",
       "      <th>2</th>\n",
       "      <td>4a2032da-9401-4ca3-b1f9-69819276c5ac</td>\n",
       "      <td>Recs</td>\n",
       "      <td>homepage_promoted</td>\n",
       "      <td>2/7172/0038#001</td>\n",
       "      <td>0.748215</td>\n",
       "    </tr>\n",
       "    <tr>\n",
       "      <th>3</th>\n",
       "      <td>4a2032da-9401-4ca3-b1f9-69819276c5ac</td>\n",
       "      <td>Recs</td>\n",
       "      <td>homepage_entertainment</td>\n",
       "      <td>2/7172/0033#001</td>\n",
       "      <td>0.831861</td>\n",
       "    </tr>\n",
       "    <tr>\n",
       "      <th>4</th>\n",
       "      <td>4a20337f-cc17-43b4-a210-beb469eb0220</td>\n",
       "      <td>Recs</td>\n",
       "      <td>homepage_promoted</td>\n",
       "      <td>2/7172/0033#001</td>\n",
       "      <td>0.834796</td>\n",
       "    </tr>\n",
       "  </tbody>\n",
       "</table>\n",
       "</div>"
      ],
      "text/plain": [
       "                     registered_user_id segment_variant  \\\n",
       "0  4a2032da-9401-4ca3-b1f9-69819276c5ac            Recs   \n",
       "1  4a2032da-9401-4ca3-b1f9-69819276c5ac            Recs   \n",
       "2  4a2032da-9401-4ca3-b1f9-69819276c5ac            Recs   \n",
       "3  4a2032da-9401-4ca3-b1f9-69819276c5ac            Recs   \n",
       "4  4a20337f-cc17-43b4-a210-beb469eb0220            Recs   \n",
       "\n",
       "     list_item_listing_id    click_content  consumption  \n",
       "0    homepage_lastwatched  2/7172/0029#001     0.001618  \n",
       "1       homepage_promoted  2/7172/0029#001     0.469576  \n",
       "2       homepage_promoted  2/7172/0038#001     0.748215  \n",
       "3  homepage_entertainment  2/7172/0033#001     0.831861  \n",
       "4       homepage_promoted  2/7172/0033#001     0.834796  "
      ]
     },
     "execution_count": 8,
     "metadata": {},
     "output_type": "execute_result"
    }
   ],
   "source": [
    "df = pd.read_csv('ios_recs_a_b_test_homepage_produciton.csv')\n",
    "df.head()"
   ]
  },
  {
   "cell_type": "code",
   "execution_count": 9,
   "metadata": {},
   "outputs": [
    {
     "data": {
      "text/html": [
       "<div>\n",
       "<style scoped>\n",
       "    .dataframe tbody tr th:only-of-type {\n",
       "        vertical-align: middle;\n",
       "    }\n",
       "\n",
       "    .dataframe tbody tr th {\n",
       "        vertical-align: top;\n",
       "    }\n",
       "\n",
       "    .dataframe thead th {\n",
       "        text-align: right;\n",
       "    }\n",
       "</style>\n",
       "<table border=\"1\" class=\"dataframe\">\n",
       "  <thead>\n",
       "    <tr style=\"text-align: right;\">\n",
       "      <th></th>\n",
       "      <th>segment_variant</th>\n",
       "      <th>list_item_listing_id</th>\n",
       "      <th>click_content</th>\n",
       "      <th>consumption</th>\n",
       "    </tr>\n",
       "    <tr>\n",
       "      <th>registered_user_id</th>\n",
       "      <th></th>\n",
       "      <th></th>\n",
       "      <th></th>\n",
       "      <th></th>\n",
       "    </tr>\n",
       "  </thead>\n",
       "  <tbody>\n",
       "    <tr>\n",
       "      <th>4a2032da-9401-4ca3-b1f9-69819276c5ac</th>\n",
       "      <td>Recs</td>\n",
       "      <td>homepage_lastwatched</td>\n",
       "      <td>2/7172/0029#001</td>\n",
       "      <td>0.001618</td>\n",
       "    </tr>\n",
       "    <tr>\n",
       "      <th>4a2032da-9401-4ca3-b1f9-69819276c5ac</th>\n",
       "      <td>Recs</td>\n",
       "      <td>homepage_promoted</td>\n",
       "      <td>2/7172/0029#001</td>\n",
       "      <td>0.469576</td>\n",
       "    </tr>\n",
       "    <tr>\n",
       "      <th>4a2032da-9401-4ca3-b1f9-69819276c5ac</th>\n",
       "      <td>Recs</td>\n",
       "      <td>homepage_promoted</td>\n",
       "      <td>2/7172/0038#001</td>\n",
       "      <td>0.748215</td>\n",
       "    </tr>\n",
       "    <tr>\n",
       "      <th>4a2032da-9401-4ca3-b1f9-69819276c5ac</th>\n",
       "      <td>Recs</td>\n",
       "      <td>homepage_entertainment</td>\n",
       "      <td>2/7172/0033#001</td>\n",
       "      <td>0.831861</td>\n",
       "    </tr>\n",
       "    <tr>\n",
       "      <th>4a20337f-cc17-43b4-a210-beb469eb0220</th>\n",
       "      <td>Recs</td>\n",
       "      <td>homepage_promoted</td>\n",
       "      <td>2/7172/0033#001</td>\n",
       "      <td>0.834796</td>\n",
       "    </tr>\n",
       "  </tbody>\n",
       "</table>\n",
       "</div>"
      ],
      "text/plain": [
       "                                     segment_variant    list_item_listing_id  \\\n",
       "registered_user_id                                                             \n",
       "4a2032da-9401-4ca3-b1f9-69819276c5ac            Recs    homepage_lastwatched   \n",
       "4a2032da-9401-4ca3-b1f9-69819276c5ac            Recs       homepage_promoted   \n",
       "4a2032da-9401-4ca3-b1f9-69819276c5ac            Recs       homepage_promoted   \n",
       "4a2032da-9401-4ca3-b1f9-69819276c5ac            Recs  homepage_entertainment   \n",
       "4a20337f-cc17-43b4-a210-beb469eb0220            Recs       homepage_promoted   \n",
       "\n",
       "                                        click_content  consumption  \n",
       "registered_user_id                                                  \n",
       "4a2032da-9401-4ca3-b1f9-69819276c5ac  2/7172/0029#001     0.001618  \n",
       "4a2032da-9401-4ca3-b1f9-69819276c5ac  2/7172/0029#001     0.469576  \n",
       "4a2032da-9401-4ca3-b1f9-69819276c5ac  2/7172/0038#001     0.748215  \n",
       "4a2032da-9401-4ca3-b1f9-69819276c5ac  2/7172/0033#001     0.831861  \n",
       "4a20337f-cc17-43b4-a210-beb469eb0220  2/7172/0033#001     0.834796  "
      ]
     },
     "execution_count": 9,
     "metadata": {},
     "output_type": "execute_result"
    }
   ],
   "source": [
    "df = df.set_index('registered_user_id')\n",
    "df.head()"
   ]
  },
  {
   "cell_type": "code",
   "execution_count": 5,
   "metadata": {},
   "outputs": [],
   "source": [
    "svv_credentials = open('svv_creds.json.txt').read()\n",
    "import json\n",
    "svv_creds = json.loads(svv_credentials)"
   ]
  },
  {
   "cell_type": "code",
   "execution_count": 6,
   "metadata": {},
   "outputs": [],
   "source": [
    "s3_credentials = open('creds.json').read()\n",
    "s3_creds = json.loads(s3_credentials)"
   ]
  },
  {
   "cell_type": "code",
   "execution_count": 10,
   "metadata": {},
   "outputs": [
    {
     "name": "stdout",
     "output_type": "stream",
     "text": [
      "Successfully uploaded data to S3 bucket!\n"
     ]
    }
   ],
   "source": [
    "import boto3\n",
    "from io import StringIO\n",
    "\n",
    "def df_to_s3(df, bucket, key, s3_access_key, s3_secret_key):\n",
    "    session = boto3.Session(aws_access_key_id = s3_access_key, aws_secret_access_key = s3_secret_key)\n",
    "    s3 = session.resource('s3')\n",
    "    csv_buffer = StringIO()\n",
    "    df.to_csv(csv_buffer)\n",
    "    s3.Object(bucket, key).put(ServerSideEncryption = 'AES256', Body = csv_buffer.getvalue()[1:])\n",
    "    return print('Successfully uploaded data to S3 bucket!')\n",
    "\n",
    "if __name__ == '__main__':\n",
    "    file = ''\n",
    "    bucket_name = 'svv-s3-dev-scratch'\n",
    "    s3_access_key = s3_creds['access_key']\n",
    "    s3_secret_key = s3_creds['secret_key']\n",
    "    hub_segmentation_key = 'ios_recs_a_b_test_homepage_produciton.csv'\n",
    "    \n",
    "    df_to_s3(df, bucket_name, hub_segmentation_key, s3_access_key, s3_secret_key)"
   ]
  },
  {
   "cell_type": "code",
   "execution_count": null,
   "metadata": {},
   "outputs": [],
   "source": []
  }
 ],
 "metadata": {
  "kernelspec": {
   "display_name": "Python 3",
   "language": "python",
   "name": "python3"
  },
  "language_info": {
   "codemirror_mode": {
    "name": "ipython",
    "version": 3
   },
   "file_extension": ".py",
   "mimetype": "text/x-python",
   "name": "python",
   "nbconvert_exporter": "python",
   "pygments_lexer": "ipython3",
   "version": "3.7.0"
  }
 },
 "nbformat": 4,
 "nbformat_minor": 2
}
