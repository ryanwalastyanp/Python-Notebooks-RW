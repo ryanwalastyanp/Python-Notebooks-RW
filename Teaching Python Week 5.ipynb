{
 "cells": [
  {
   "cell_type": "markdown",
   "metadata": {},
   "source": [
    "This week we will look at generator functions and exceptions handling.\n",
    "Most of the material covered here is based on Chapter 14 in Fluent Python by L. Ramalho.\n",
    "\n",
    "There are several terms we have encountered in the past, and we need to make sure we are clear on their meaning.\n",
    "\n",
    "In pure programming terms, the following holds:\n",
    "\n",
    "<b>Iterator</b> is a an object that support iterating over a sequence of objects (i.e. an iterable). The simplest way to think about it, is that an iterator allows us to call 'next' on an sequency of objects. That means that iterators implement \\__next__ methods which enables doing this -> ...[i]\n",
    "\n",
    "<b>Iterable</b> is an object that implements \\__iter__ and/or \\__getitem__.\n",
    "   Iterables return iterators when \\__iter__ is called on them. Note that an iterable does not implement \\__next__. It simply    returns an iterator that does. \n",
    "\n",
    "<b>Generator</b> in Python is an object that gets produced by a generator function or a generator expression. We have already seen generator expressions in Week 3. Also, Python generators are the 'pythonic' way to create iterators (this is because the Iterator pattern is not idiomatic to Python (i.e. not 'pythonic').\n",
    "\n",
    "An aside note: what happens when you call a function from another function? How does Python know where to return? \n",
    "Before branching off to another function, Python saves the pointer to the current program execution state. This state is 'loaded' in the stack - the space in computer memory that keep track of what is 'going on'.\n",
    "\n",
    "<b>Generator expression</b> are short (lambda-like) statements that return generator.\n",
    "\n",
    "\n",
    "<b>Generator Function</b> are explicit function (explicit because they use <i>yield</i> keyword).\n",
    "\n",
    "Thus, both, generator expressions and generator functions can produce generators."
   ]
  },
  {
   "cell_type": "code",
   "execution_count": null,
   "metadata": {},
   "outputs": [],
   "source": [
    "#iterable superset of iterator, iterator subset of iterable\n",
    "#iterators can be implemented as generator functions"
   ]
  },
  {
   "cell_type": "code",
   "execution_count": 1,
   "metadata": {},
   "outputs": [],
   "source": [
    "import pandas as pd\n",
    "import numpy as np"
   ]
  },
  {
   "cell_type": "markdown",
   "metadata": {},
   "source": [
    "## In Week 3 We Saw This:"
   ]
  },
  {
   "cell_type": "code",
   "execution_count": 2,
   "metadata": {},
   "outputs": [],
   "source": [
    "n = 10\n",
    "genExpr = (i for i in range(1,10,1))   # generator expression that returns a generator"
   ]
  },
  {
   "cell_type": "code",
   "execution_count": 3,
   "metadata": {},
   "outputs": [
    {
     "name": "stdout",
     "output_type": "stream",
     "text": [
      "1\n",
      "2\n",
      "3\n",
      "4\n",
      "5\n"
     ]
    }
   ],
   "source": [
    "print (next(genExpr)) #implements __next__\n",
    "print (next(genExpr))\n",
    "print (next(genExpr))\n",
    "print (next(genExpr))\n",
    "print (next(genExpr))"
   ]
  },
  {
   "cell_type": "code",
   "execution_count": 4,
   "metadata": {},
   "outputs": [
    {
     "data": {
      "text/plain": [
       "generator"
      ]
     },
     "execution_count": 4,
     "metadata": {},
     "output_type": "execute_result"
    }
   ],
   "source": [
    "type(genExpr)"
   ]
  },
  {
   "cell_type": "code",
   "execution_count": null,
   "metadata": {},
   "outputs": [],
   "source": [
    "import collections as col\n",
    "isinstance(genExpr, col.Iterable)"
   ]
  },
  {
   "cell_type": "markdown",
   "metadata": {},
   "source": [
    "## We can Implement the Same Functionality with a Generator Function"
   ]
  },
  {
   "cell_type": "code",
   "execution_count": 5,
   "metadata": {},
   "outputs": [],
   "source": [
    "def genFunc(n):\n",
    "    \n",
    "    for i in range(1,n,1):\n",
    "        yield i #return returns for good, yield saves the programme state, knows where i is in the range of 1 to n, \n",
    "                #need to call the whole code again with return"
   ]
  },
  {
   "cell_type": "code",
   "execution_count": 6,
   "metadata": {},
   "outputs": [],
   "source": [
    "x = genFunc(10)"
   ]
  },
  {
   "cell_type": "code",
   "execution_count": 7,
   "metadata": {},
   "outputs": [
    {
     "data": {
      "text/plain": [
       "generator"
      ]
     },
     "execution_count": 7,
     "metadata": {},
     "output_type": "execute_result"
    }
   ],
   "source": [
    "type (x)"
   ]
  },
  {
   "cell_type": "code",
   "execution_count": 8,
   "metadata": {},
   "outputs": [
    {
     "name": "stdout",
     "output_type": "stream",
     "text": [
      "1\n",
      "2\n",
      "3\n",
      "4\n",
      "5\n"
     ]
    }
   ],
   "source": [
    "print (next(x))\n",
    "print (next(x))\n",
    "print (next(x))\n",
    "print (next(x))\n",
    "print (next(x))"
   ]
  },
  {
   "cell_type": "markdown",
   "metadata": {},
   "source": [
    "## Let's look at a Few More Examples"
   ]
  },
  {
   "cell_type": "markdown",
   "metadata": {},
   "source": [
    "### Example 1: Fibonacci Series"
   ]
  },
  {
   "cell_type": "code",
   "execution_count": 9,
   "metadata": {},
   "outputs": [],
   "source": [
    "# implemented recursively\n",
    "\n",
    "def Fibo_recursive(n):\n",
    "    \n",
    "    if n == 0 or n==1:\n",
    "        return n\n",
    "    else:\n",
    "        return Fibo_recursive(n-1)+Fibo_recursive(n-2) #memory intensive, stack can crash computer"
   ]
  },
  {
   "cell_type": "code",
   "execution_count": 10,
   "metadata": {},
   "outputs": [],
   "source": [
    "n = 10\n",
    "fib_rec = list(map(Fibo_recursive, range(1,n)))"
   ]
  },
  {
   "cell_type": "code",
   "execution_count": 11,
   "metadata": {},
   "outputs": [
    {
     "data": {
      "text/plain": [
       "[1, 1, 2, 3, 5, 8, 13, 21, 34]"
      ]
     },
     "execution_count": 11,
     "metadata": {},
     "output_type": "execute_result"
    }
   ],
   "source": [
    "fib_rec"
   ]
  },
  {
   "cell_type": "code",
   "execution_count": 54,
   "metadata": {},
   "outputs": [],
   "source": [
    "# implemented as a generator function"
   ]
  },
  {
   "cell_type": "code",
   "execution_count": 12,
   "metadata": {},
   "outputs": [],
   "source": [
    "def Fibo_generator(n):\n",
    "    \n",
    "    a, b = 0,1\n",
    "    \n",
    "    for i in range(n):\n",
    "        yield a\n",
    "        a, b = b, a+b #go from smallest to largest the recursive after reahced max value\n",
    "                      #a becomes b, b becomes a+b\n",
    "                      #first yield saves the 0 and then updates a and b, yield makes it a generator"
   ]
  },
  {
   "cell_type": "code",
   "execution_count": 13,
   "metadata": {},
   "outputs": [],
   "source": [
    "x = Fibo_generator(10)"
   ]
  },
  {
   "cell_type": "code",
   "execution_count": 14,
   "metadata": {},
   "outputs": [],
   "source": [
    "fib_gen = [i for i in Fibo_generator(n)] #list comprehension ensures that it returns all stages of the yield"
   ]
  },
  {
   "cell_type": "code",
   "execution_count": 15,
   "metadata": {},
   "outputs": [
    {
     "data": {
      "text/plain": [
       "[0, 1, 1, 2, 3, 5, 8, 13, 21, 34]"
      ]
     },
     "execution_count": 15,
     "metadata": {},
     "output_type": "execute_result"
    }
   ],
   "source": [
    "fib_gen"
   ]
  },
  {
   "cell_type": "markdown",
   "metadata": {},
   "source": [
    "At this stage you should recognize several advantages of the generator function over the recursive approach:\n",
    "\n",
    "(1) It saves memory\n",
    "\n",
    "(2) It is easier to read"
   ]
  },
  {
   "cell_type": "markdown",
   "metadata": {},
   "source": [
    "#### What are the similarities in the execution of these two implementations of Fibo?"
   ]
  },
  {
   "cell_type": "markdown",
   "metadata": {},
   "source": [
    "Very informally, it is saving of the state of program execution.\n",
    "Let's look at how yield works:"
   ]
  },
  {
   "cell_type": "code",
   "execution_count": 16,
   "metadata": {},
   "outputs": [],
   "source": [
    "def yield_next_i(i):\n",
    "    \n",
    "    j = i+1\n",
    "    yield j    # line 1\n",
    "    j = j+1   \n",
    "    yield j    # line 2\n",
    "    j = j+1\n",
    "    yield j    # line 3"
   ]
  },
  {
   "cell_type": "code",
   "execution_count": 17,
   "metadata": {},
   "outputs": [],
   "source": [
    "yielder = yield_next_i(100)"
   ]
  },
  {
   "cell_type": "code",
   "execution_count": 18,
   "metadata": {},
   "outputs": [
    {
     "name": "stdout",
     "output_type": "stream",
     "text": [
      "101\n"
     ]
    }
   ],
   "source": [
    "print (next(yielder))   # the programme state is saved just after line 1"
   ]
  },
  {
   "cell_type": "code",
   "execution_count": 19,
   "metadata": {},
   "outputs": [
    {
     "name": "stdout",
     "output_type": "stream",
     "text": [
      "102\n"
     ]
    }
   ],
   "source": [
    "print (next(yielder))   # the programme state moves to the 2nd j increment and yield the next j, after saving the state \n",
    "                        # just after line 2"
   ]
  },
  {
   "cell_type": "code",
   "execution_count": 20,
   "metadata": {},
   "outputs": [
    {
     "name": "stdout",
     "output_type": "stream",
     "text": [
      "103\n"
     ]
    }
   ],
   "source": [
    "print (next(yielder))   # generator is exhasted"
   ]
  },
  {
   "cell_type": "code",
   "execution_count": 21,
   "metadata": {},
   "outputs": [
    {
     "ename": "StopIteration",
     "evalue": "",
     "output_type": "error",
     "traceback": [
      "\u001b[1;31m---------------------------------------------------------------------------\u001b[0m",
      "\u001b[1;31mStopIteration\u001b[0m                             Traceback (most recent call last)",
      "\u001b[1;32m<ipython-input-21-6e317acca04d>\u001b[0m in \u001b[0;36m<module>\u001b[1;34m()\u001b[0m\n\u001b[1;32m----> 1\u001b[1;33m \u001b[0mprint\u001b[0m \u001b[1;33m(\u001b[0m\u001b[0mnext\u001b[0m\u001b[1;33m(\u001b[0m\u001b[0myielder\u001b[0m\u001b[1;33m)\u001b[0m\u001b[1;33m)\u001b[0m\u001b[1;33m\u001b[0m\u001b[0m\n\u001b[0m",
      "\u001b[1;31mStopIteration\u001b[0m: "
     ]
    }
   ],
   "source": [
    "print (next(yielder)) #use yield for very large n in your iterable"
   ]
  },
  {
   "cell_type": "markdown",
   "metadata": {},
   "source": [
    "### Example 2: Parsing Sentence One Word at a Time:"
   ]
  },
  {
   "cell_type": "code",
   "execution_count": 22,
   "metadata": {},
   "outputs": [],
   "source": [
    "def sentence_parser(sentence):\n",
    "    ''' Parsers a string a returns one word at a time\n",
    "    '''\n",
    "    \n",
    "    for word in sentence.split(\" \"):\n",
    "        yield word"
   ]
  },
  {
   "cell_type": "code",
   "execution_count": 23,
   "metadata": {},
   "outputs": [],
   "source": [
    "sentence = \"Generators are everywhere in Python. They make our lives so much simpler!\""
   ]
  },
  {
   "cell_type": "code",
   "execution_count": 24,
   "metadata": {},
   "outputs": [],
   "source": [
    "my_parser = sentence_parser(sentence)"
   ]
  },
  {
   "cell_type": "code",
   "execution_count": 25,
   "metadata": {},
   "outputs": [
    {
     "name": "stdout",
     "output_type": "stream",
     "text": [
      "Generators\n",
      "are\n",
      "everywhere\n",
      "in\n"
     ]
    }
   ],
   "source": [
    "print (next(my_parser))\n",
    "print (next(my_parser))\n",
    "print (next(my_parser))\n",
    "print (next(my_parser))"
   ]
  },
  {
   "cell_type": "code",
   "execution_count": 26,
   "metadata": {},
   "outputs": [],
   "source": [
    "# I can also capture the whole thing by using a list comprehension"
   ]
  },
  {
   "cell_type": "code",
   "execution_count": 27,
   "metadata": {},
   "outputs": [
    {
     "name": "stdout",
     "output_type": "stream",
     "text": [
      "['Generators', 'are', 'everywhere', 'in', 'Python.', 'They', 'make', 'our', 'lives', 'so', 'much', 'simpler!']\n"
     ]
    }
   ],
   "source": [
    "print ([word for word in sentence_parser(sentence)])"
   ]
  },
  {
   "cell_type": "markdown",
   "metadata": {},
   "source": [
    "### Connecting to svv, querying a table and looping through the results a batch at a time"
   ]
  },
  {
   "cell_type": "code",
   "execution_count": 28,
   "metadata": {},
   "outputs": [],
   "source": [
    "# my svv implements psycopg2.connect and returns the connection, models trained on a batch\n",
    "import svv_connector as svv\n",
    "\n",
    "def get_svv_results(query, batch_size):\n",
    "    ''' Connects to svv, executes a query and provides results back one batch_size at a time\n",
    "    '''\n",
    "    \n",
    "    \n",
    "    try: \n",
    "        con = svv.get_svv_connection() #will run the whole query if no exception\n",
    "\n",
    "        cur = con.cursor()\n",
    "        cur.execute(query)\n",
    "        \n",
    "        res = 0\n",
    "        while res != []: #finish exhaustion of the generator\n",
    "            res = cur.fetchmany(batch_size) #doesn't bring the whole query into memory but still runs the whole query in Redshift\n",
    "            yield res #updates function state\n",
    "    \n",
    "    except Exception as inst:\n",
    "        print(inst) #print the exception, wrong query, bad connection, bad logic in the function\n",
    "    finally:\n",
    "        cur.close()\n",
    "        con.close()"
   ]
  },
  {
   "cell_type": "code",
   "execution_count": 29,
   "metadata": {},
   "outputs": [],
   "source": [
    "query = \"Select Top 1000 * from sandbox.viewers_summary_hc_2018c_es;\""
   ]
  },
  {
   "cell_type": "code",
   "execution_count": 30,
   "metadata": {},
   "outputs": [],
   "source": [
    "my_results = get_svv_results(query, 100)"
   ]
  },
  {
   "cell_type": "code",
   "execution_count": 31,
   "metadata": {},
   "outputs": [
    {
     "name": "stdout",
     "output_type": "stream",
     "text": [
      "[('9a9215e2-8c1a-4e82-9789-65c18bde3ad9', 'F', 43, 'ad.axa.h5.hw.wo', 'CM0 8', 'SOUTHMINSTER', 1, 'Active', '3', '10', '07', '0', '0', '11', '3', '11', '2', '1', '0', '4', 47700, 'H', '3', 0, 0, 0, 0, '[{\"id\":\"LONG-RUNNING DRAMA\",\"ranking\":\"1\"}]', Decimal('89483.8000000000'), Decimal('86638.4110000000'), Decimal('0.5080'), 'CM0_8', 'CM0_8', 'Suburbanites', 'Semi-detached suburbia', 'White suburban communities', 0), ('bc345304-d35c-4dbf-b0d6-8134d38be8f2', 'F', 67, 'ad.axa.hw.wo', 'KY16 0', 'ST. ANDREWS', 0, 'Active', '5', '05', '05', '1', '0', '05', '5', '13', '5', '1', '0', '3', 31900, 'G', '1', 0, 0, 0, 0, '[{\"id\":\"CHAT AND MAGAZINE\",\"ranking\":\"1\"},{\"id\":\"CELEBRITIES\",\"ranking\":\"2\"}]', Decimal('560.2320000000'), Decimal('461579.7670000000'), Decimal('0.0012'), 'KY16_0', 'KY16_0', 'Rural residents', 'Rural tenants', 'Rural white-collar workers', 0), ('685d57bd-1acc-4b61-ac2f-5d22c45570fa', 'M', 50, 'ad.me', 'SK7 3', 'STOCKPORT', 1, 'Active', '3', '01', '04', '1', '0', '11', '2', '10', '3', '0', '0', '4', 44400, 'G', '5', 0, 0, 0, 0, '[{\"id\":\"CRIME AND THRILLERS\",\"ranking\":\"1\"}]', None, Decimal('327399.1760000000'), Decimal('0.0000'), 'SK7_3', 'SK7_3', 'Suburbanites', 'Suburban achievers', 'Indian tech achievers', 0), ('8ff0ed37-85fa-4d17-b4e4-5dff3d973642', 'M', 53, 'aa.ad.ma.me', 'SO51 0', 'ROMSEY', 128, 'Inactive', '4', '08', '00', '1', '0', '11', '5', '09', '4', '0', '1', '9', 172100, 'F', '8', 0, 0, 0, 0, '[{\"id\":\"CRIME AND THRILLERS\",\"ranking\":\"1\"}]', None, Decimal('5517.0000000000'), Decimal('0.0000'), 'SO51_0', 'SO51_0', 'Rural residents', 'Rural tenants', 'Rural white-collar workers', 0), ('31a1bc9b-479d-42ec-aef3-11eabc5964bd', 'M', 29, 'a3.ad.axa.hc.m3.me', 'OL10 3', 'HEYWOOD', 22, 'Active', '1', '06', '03', '1', '1', '07', '3', '03', '1', '0', '0', '1', 15600, 'E', '1', 0, 0, 0, 0, '[{\"id\":\"LONG-RUNNING DRAMA\",\"ranking\":\"1\"}]', Decimal('11514.4050000000'), Decimal('30463.6140000000'), Decimal('0.2742'), 'OL10_3', 'OL10_3', 'Hard-pressed living', 'Migration and churn', 'Young hard-pressed families', 1), ('e41da861-3aef-4862-8e91-b570fb719240', 'F', 79, 'aa.ad.ha.hw.wa.wo', 'DY7 6', 'STOURBRIDGE', 103, 'Active', '5', '11', '08', '1', '0', '11', '5', '14', '5', '1', '0', '4', 49700, 'M', '2', 0, 0, 0, 0, '[{\"id\":\"SOCIAL DRAMA\",\"ranking\":\"1\"}]', None, Decimal('2898.5490000000'), Decimal('0.0000'), 'DY7_6', 'DY7_6', 'Rural residents', 'Ageing rural dwellers', 'Detached rural retirement', 0), ('0c3e580c-d6dd-48f7-af4e-2c98c5731680', 'F', 41, 'ad.axa.hc.wo', 'SW16 2', 'LONDON', 21, 'Active', '2', '10', '08', '0', '1', '11', '2', '08', '2', '1', '0', '5', 57700, 'C', '4', 0, 0, 0, 0, '[{\"id\":\"DATING SHOWS\",\"ranking\":\"1\"},{\"id\":\"FACTUAL ENTERTAINMENT\",\"ranking\":\"2\"}]', None, Decimal('4986.4560000000'), Decimal('0.0000'), 'SW16_2', 'SW16_2', 'Ethnicity central', 'Aspirational techies', 'Established tech workers', 1), ('18f19cc4-0b3c-45cc-be74-8c52e39a271c', 'M', 64, 'ad.axa.me', 'TR5 0', 'ST. AGNES', 1, 'Active', '4', '08', '00', '1', '0', '11', '2', '09', '4', '0', '1', '3', 31800, 'K', '3', 0, 0, 0, 0, '[{\"id\":\"CRIME AND THRILLERS\",\"ranking\":\"1\"}]', Decimal('19078.0560000000'), Decimal('140436.7100000000'), Decimal('0.1196'), 'TR5_0', 'TR5_0', 'Rural residents', 'Rural tenants', 'Rural white-collar workers', 0), ('a32236a5-ed95-4bc2-a1f9-55f1bbbb135e', 'M', 26, 'a3.ad.axa.h5.hw.m3.me', 'LS1 4', 'LEEDS', 27, 'Active', '0', '00', '04', '1', '0', '00', '1', '01', '0', '0', '0', '6', 66500, 'B', '7', 0, 0, 0, 0, '[{\"id\":\"DATING SHOWS\",\"ranking\":\"1\"},{\"id\":\"FACTUAL ENTERTAINMENT\",\"ranking\":\"2\"}]', None, Decimal('21192.0300000000'), Decimal('0.0000'), 'LS1_4', 'LS1_4', 'Cosmopolitans', 'Inner city students', 'Multicultural student neighbourhood', 0), ('f32d27fb-166c-4538-bfc1-0c0cdd0141c6', 'M', 28, 'a3.ad.axa.hc.m3.me', 'SO23 0', 'WINCHESTER', 114, 'Active', '4', '08', '02', '0', '1', '11', '2', '09', '1', '0', '0', '2', 26000, 'L', '2', 0, 0, 0, 0, '[{\"id\":\"LONG-RUNNING DRAMA\",\"ranking\":\"1\"}]', None, Decimal('1976.1340000000'), Decimal('0.0000'), 'SO23_0', 'SO23_0', 'Urbanites', 'Urban professionals and families', 'Families in terraces and flats', 1), ('7a2f4942-9815-4a72-9f89-94e5a921ce94', 'M', 44, 'aa.ad.hc.ma.me', 'BB2 2', 'BLACKBURN', 4, 'Active', '2', '01', '04', '1', '1', '06', '2', '07', '2', '0', '0', '1', 19500, 'E', '2', 0, 0, 0, 0, '[{\"id\":\"CRIME DOCUMENTARY\",\"ranking\":\"1\"},{\"id\":\"DOCUMENTARY\",\"ranking\":\"2\"}]', None, Decimal('8394.1790000000'), Decimal('0.0000'), 'BB2_2', 'BB2_2', 'Multicultural metropolitans', 'Rented family living', 'Social renting young families', 1), ('0258fdf1-da30-48a4-8d20-5b759a189594', 'F', 44, 'ad.axa.wo', 'TS8 9', 'MIDDLESBROUGH', 77, 'Active', '2', '04', '05', '1', '0', '04', '3', '07', '2', '1', '0', '2', 21100, 'J', '3', 0, 0, 0, 0, '[{\"id\":\"CRIME AND THRILLERS\",\"ranking\":\"1\"}]', Decimal('3557.2950000000'), Decimal('50237.4050000000'), Decimal('0.0661'), 'TS8_9', 'TS8_9', 'Hard-pressed living', 'Migration and churn', 'Young hard-pressed families', 0), ('61785474-5fbd-4eb6-ad56-f1a6399f8460', 'F', 42, 'ad.axa.hc.wo', 'DY5 1', 'BRIERLEY HILL', 1, 'Active', '5', '11', '07', '0', '1', '11', '3', '14', '2', '1', '0', '2', 28600, 'D', '3', 0, 0, 0, 0, '[{\"id\":\"CRIME AND THRILLERS\",\"ranking\":\"1\"}]', Decimal('7985.2640000000'), Decimal('58113.0310000000'), Decimal('0.1208'), 'DY5_1', 'DY5_1', 'Multicultural metropolitans', 'Rented family living', 'Social renting young families', 1), ('8afd1310-e3ad-4c6b-b8d9-e9cabf59cb20', 'F', 30, 'a3.ad.axa.w3.wo', 'BT63 5', 'CRAIGAVON', 99, 'Inactive', '5', '08', '01', '0', '0', '11', '3', '12', '1', '1', '0', '2', 26900, 'I', '2', 0, 0, 0, 0, '[{\"id\":\"LONG-RUNNING DRAMA\",\"ranking\":\"1\"}]', None, Decimal('707.3760000000'), Decimal('0.0000'), 'BT63_5', 'BT63_5', 'Rural residents', 'Rural tenants', 'Rural white-collar workers', 0), ('58a3999b-7005-49fd-b5ff-907021084a3b', 'M', 28, 'a3.aa.ad.hc.m3.ma.me', 'G31 4', 'GLASGOW', 1, 'Active', '5', '08', '01', '0', '1', '11', '3', '12', '0', '0', '0', '4', 40900, 'E', '0', 0, 0, 0, 0, '[{\"id\":\"DATING SHOWS\",\"ranking\":\"1\"},{\"id\":\"FACTUAL ENTERTAINMENT\",\"ranking\":\"2\"}]', None, Decimal('19416.9790000000'), Decimal('0.0000'), 'G31_4', 'G31_4', 'Constrained city dwellers', 'Constrained flat dwellers', 'Eastern European communities', 1), ('394c1b2c-cd41-48cc-bc6a-5ebff69e7478', 'M', 72, 'aa.ad.ma.me', 'SG19 3', 'SANDY', 42, 'Active', '5', '08', '00', '1', '0', '11', '4', '12', '5', '0', '1', '3', 33300, 'M', '3', 0, 0, 0, 0, '[{\"id\":\"CRIME AND THRILLERS\",\"ranking\":\"1\"}]', None, Decimal('9879.5510000000'), Decimal('0.0000'), 'SG19_3', 'SG19_3', 'Rural residents', 'Rural tenants', 'Rural white-collar workers', 0), ('f78e35ba-6f8e-4c1b-9ff4-b98bb62130f1', 'F', 35, 'a3.ad.axa.w3.wo', 'SW17 8', 'LONDON', 99, 'Inactive', '4', '08', '02', '1', '0', '02', '3', '09', '1', '1', '1', '7', 77100, 'B', '7', 0, 0, 0, 0, '[{\"id\":\"REAL LIVES\",\"ranking\":\"1\"}]', None, Decimal('2259.4800000000'), Decimal('0.0000'), 'SW17_8', 'SW17_8', 'Multicultural metropolitans', 'Challenged Asian terraces', 'Asian terraces and flats', 0), ('f7b809fc-3b4a-4a0c-8a81-ccd3dd99b24d', 'F', 59, 'aa.ad.ha.hw.wa.wo', 'BA2 4', 'BATH', 16, 'Active', '4', '08', '02', '1', '0', '11', '1', '09', '4', '1', '1', '7', 92300, 'F', '3', 0, 0, 0, 0, '[{\"id\":\"CRIME AND THRILLERS\",\"ranking\":\"1\"}]', None, Decimal('24930.7710000000'), Decimal('0.0000'), 'BA2_4', 'BA2_4', 'Cosmopolitans', 'Students around campus', 'Students and professionals', 0), ('64dfd3c9-6725-4d66-bc0e-2477e824b0b8', 'M', 59, 'aa.ad.ma.me', 'YO61 2', 'YORK', 32, 'Active', '4', '08', '01', '1', '0', '11', '5', '09', '4', '0', '1', '8', 131600, 'F', '8', 0, 0, 0, 0, '[{\"id\":\"LONG-RUNNING DRAMA\",\"ranking\":\"1\"}]', Decimal('2857.5030000000'), Decimal('51725.1460000000'), Decimal('0.0523'), 'YO61_2', 'YO61_2', 'Rural residents', 'Rural tenants', 'Rural white-collar workers', 0), ('d312238b-c8d7-4c73-8de7-8c94452e4cef', 'M', 53, 'aa.ad.ma.me', 'BN1 6', 'Brighton', 21, 'Active', '5', '11', '06', '0', '0', '11', '4', '14', '5', '0', '0', '7', 84900, 'G', '5', 0, 0, 0, 0, '[{\"id\":\"LONG-RUNNING DRAMA\",\"ranking\":\"1\"}]', None, Decimal('2688.5950000000'), Decimal('0.0000'), 'BN1_6', 'BN1_6', 'Urbanites', 'Urban professionals and families', 'Families in terraces and flats', 0), ('d75dc0b5-b32c-4182-bbb9-0ad97fb3d226', 'F', None, 'ad.wo', 'L24 5', 'LIVERPOOL', 3, 'Active', '5', '08', '01', '1', '0', '04', '5', '12', '2', '1', '1', '6', 67600, 'F', '3', 13, 59, 0, 0, '[{\"id\":\"US COMEDY\",\"ranking\":\"1\"},{\"id\":\"ADULT ANIMATION\",\"ranking\":\"2\"}]', Decimal('5554.3960000000'), Decimal('61078.4480000000'), Decimal('0.0833'), 'L24_5', 'L24_5', 'Suburbanites', 'Semi-detached suburbia', 'Semi-detached ageing', 0), ('2a856298-4055-4a99-902c-e75814ffbfff', 'M', 24, 'a2.a3.ad.axa.m3.me', 'SK9 7', 'ALDERLEY EDGE', 23, 'Active', '1', '06', '00', '1', '0', '09', '5', '03', '0', '0', '1', '9', 167700, 'F', '9', 0, 0, 0, 0, '[{\"id\":\"FACTUAL ENTERTAINMENT\",\"ranking\":\"1\"},{\"id\":\"REAL LIVES\",\"ranking\":\"2\"}]', Decimal('18426.0860000000'), Decimal('66634.1320000000'), Decimal('0.2166'), 'SK9_7', 'SK9_7', 'Urbanites', 'Ageing urban living', 'Delayed retirement', 0), ('80fe2b6c-dd07-4eb4-9bf1-56a1653f6891', 'M', 45, 'ad.axa.hc.me', 'LE18 1', 'WIGSTON', 24, 'Active', '2', '07', '03', '1', '1', '07', '3', '06', '2', '0', '0', '4', 46700, 'C', '3', 0, 0, 0, 0, '[{\"id\":\"DATING SHOWS\",\"ranking\":\"1\"},{\"id\":\"FACTUAL ENTERTAINMENT\",\"ranking\":\"2\"}]', Decimal('3741.3330000000'), Decimal('27675.4110000000'), Decimal('0.1190'), 'LE18_1', 'LE18_1', 'Suburbanites', 'Semi-detached suburbia', 'Multi-ethnic suburbia', 1), ('44d85060-67a5-4936-9db6-1e5a4fbd2876', 'M', 71, 'ad.me', 'TQ1 3', 'TORQUAY', 65, 'Active', '5', '08', '00', '1', '0', '01', '2', '12', '5', '0', '1', '2', 21800, 'O', '3', 0, 0, 0, 0, '[{\"id\":\"FOOTBALL\",\"ranking\":\"1\"}]', None, Decimal('204.3600000000'), Decimal('0.0000'), 'TQ1_3', 'TQ1_3', 'Urbanites', 'Ageing urban living', 'Communal retirement', 0), ('7eed89a1-b20f-422d-8f7c-19d6e38abbe2', 'F', 64, 'ad.axa.wo', 'BB18 5', 'BARNOLDSWICK', 92, 'Active', '5', '08', '00', '1', '0', '11', '3', '12', '4', '1', '1', '2', 22700, 'L', '0', 0, 0, 0, 0, '[{\"id\":\"TALENT SHOWS\",\"ranking\":\"1\"},{\"id\":\"VARIETY\",\"ranking\":\"2\"},{\"id\":\"FAMILY ENTERTAINMENT\",\"ranking\":\"3\"}]', None, Decimal('348.8510000000'), Decimal('0.0000'), 'BB18_5', 'BB18_5', 'Urbanites', 'Urban professionals and families', 'White professionals', 0), ('d599429c-de2e-465d-84bf-2b8e00e98fc7', 'M', 60, 'ad.me', 'SP1 3', 'SALISBURY', 111, 'Inactive', '4', '02', '04', '1', '0', '04', '1', '10', '4', '0', '0', '1', 18800, 'J', '2', 0, 0, 0, 0, '[{\"id\":\"MUSIC PROGRAMMES\",\"ranking\":\"1\"},{\"id\":\"CELEBRITY\",\"ranking\":\"2\"}]', None, Decimal('4258.3600000000'), Decimal('0.0000'), 'SP1_3', 'SP1_3', 'Hard-pressed living', 'Hard pressed ageing workers', 'Ageing industrious workers', 0), ('d79c6df2-b279-443e-8409-276c579953ce', 'M', 67, 'aa.ad.ma.me', 'GL54 3', 'CHELTENHAM', 224, 'Inactive', '5', '08', '03', '1', '0', '11', '3', '12', '5', '0', '0', '5', 50400, 'F', '4', 0, 0, 0, 0, '[{\"id\":\"CRIME AND THRILLERS\",\"ranking\":\"1\"}]', Decimal('8250.3140000000'), Decimal('5895.0000000000'), Decimal('0.5832'), 'GL54_3', 'GL54_3', 'Rural residents', 'Rural tenants', 'Rural white-collar workers', 0), ('9b1e53f7-4b0e-4cb8-9a98-aa4eb931728b', 'F', 57, 'ad.axa.hw.wo', 'OX26 4', 'BICESTER', 103, 'Active', '4', '08', '00', '1', '0', '11', '4', '09', '4', '1', '1', '6', 61700, 'K', '3', 0, 0, 0, 0, '[{\"id\":\"FACTUAL ENTERTAINMENT\",\"ranking\":\"1\"},{\"id\":\"REAL LIVES\",\"ranking\":\"2\"}]', Decimal('7925.8830000000'), Decimal('5822.8890000000'), Decimal('0.5764'), 'OX26_4', 'OX26_4', 'Suburbanites', 'Semi-detached suburbia', 'White suburban communities', 0), ('31c616a9-9b65-493c-a3e0-3a2772c66959', 'M', 78, 'ad.axa.me', 'SN1 4', 'SWINDON', 12, 'Active', '5', '08', '00', '1', '0', '11', '3', '12', '5', '0', '1', '2', 24200, 'N', '2', 0, 0, 0, 0, '[{\"id\":\"QUIZ AND GAME SHOWS\",\"ranking\":\"1\"}]', Decimal('1431.0310000000'), Decimal('118.0960000000'), Decimal('0.9237'), 'SN1_4', 'SN1_4', 'Urbanites', 'Urban professionals and families', 'Families in terraces and flats', 0), ('61724652-a8bd-495d-8790-3dec702b4b77', 'M', 62, 'ad.axa.hw.me', 'SN3 2', 'SWINDON', 120, 'Inactive', '4', '08', '01', '1', '0', '11', '3', '09', '4', '0', '1', '2', 28500, 'L', '2', 0, 0, 0, 0, '[{\"id\":\"SITUATION COMEDY\",\"ranking\":\"1\"}]', None, Decimal('6661.0000000000'), Decimal('0.0000'), 'SN3_2', 'SN3_2', 'Hard-pressed living', 'Migration and churn', 'Hard-pressed ethnic mix', 0), ('cfca4737-3e2e-4adf-a22b-17b831d6c2b4', 'M', 37, 'ad.axa.h5.hw.me', 'NE12 9', 'NEWCASTLE UPON TYNE', 71, 'Active', '2', '10', '08', '1', '0', '06', '1', '08', '2', '0', '0', '2', 26600, 'K', '3', 0, 0, 0, 0, '[{\"id\":\"MOTOR SPORT\",\"ranking\":\"1\"},{\"id\":\"SPORTS EVENT\",\"ranking\":\"2\"}]', Decimal('4035.3120000000'), Decimal('26513.7270000000'), Decimal('0.1320'), 'NE12_9', 'NE12_9', 'Urbanites', 'Ageing urban living', 'Self-sufficient retirement', 0), ('0c3e6c7d-5b18-4976-9a27-184c26ac4729', 'M', 41, 'ad.axa.hc.me', 'DY2 0', 'DUDLEY', 125, 'Active', '2', '10', '08', '1', '1', '11', '2', '08', '2', '0', '0', '3', 37100, 'D', '3', 0, 0, 0, 0, '[{\"id\":\"FACTUAL ENTERTAINMENT\",\"ranking\":\"1\"},{\"id\":\"CELEBRITIES\",\"ranking\":\"2\"}]', Decimal('2385.7850000000'), Decimal('24886.6100000000'), Decimal('0.0874'), 'DY2_0', 'DY2_0', 'Hard-pressed living', 'Migration and churn', 'Hard-pressed ethnic mix', 1), ('ac9f73bf-bc7b-4739-a2f9-6362f03fd70e', 'F', 42, 'aa.ad.wa.wo', 'SP2 8', 'SALISBURY', 6, 'Active', '4', '08', '02', '1', '0', '09', '5', '09', '2', '1', '1', '6', 62900, 'F', '3', 0, 0, 4, 0, '[{\"id\":\"CHAT AND MAGAZINE\",\"ranking\":\"1\"},{\"id\":\"CELEBRITIES\",\"ranking\":\"2\"}]', Decimal('22225.2330000000'), Decimal('344489.7030000000'), Decimal('0.0606'), 'SP2_8', 'SP2_8', 'Suburbanites', 'Suburban achievers', 'Ageing in suburbia', 0), ('8d2f1ae3-30bd-4f7a-94cf-20ef81b4a3e0', 'F', 48, 'aa.ad.hc.wa.wo', 'SL7 3', 'MARLOW', 92, 'Active', '3', '07', '00', '1', '1', '07', '2', '09', '3', '1', '1', '6', 69600, 'B', '7', 0, 0, 0, 0, '[{\"id\":\"TALENT SHOWS\",\"ranking\":\"1\"},{\"id\":\"FAMILY ENTERTAINMENT\",\"ranking\":\"2\"},{\"id\":\"MUSIC PROGRAMMES\",\"ranking\":\"3\"}]', Decimal('7986.3340000000'), Decimal('21454.6070000000'), Decimal('0.2712'), 'SL7_3', 'SL7_3', 'Urbanites', 'Ageing urban living', 'Self-sufficient retirement', 1), ('232adf6e-104b-47e3-8278-0f2640d9922a', 'M', 50, 'ad.axa.h5.hw.me', 'CM6 1', 'DUNMOW', 89, 'Active', '4', '08', '01', '1', '0', '11', '4', '09', '4', '0', '1', '8', 112500, 'F', '8', 0, 0, 0, 0, '[{\"id\":\"CRIME AND THRILLERS\",\"ranking\":\"1\"},{\"id\":\"MEDICAL\",\"ranking\":\"2\"}]', Decimal('5496.4090000000'), Decimal('2730.1410000000'), Decimal('0.6681'), 'CM6_1', 'CM6_1', 'Rural residents', 'Rural tenants', 'Rural white-collar workers', 0), ('d2401600-4026-4014-9484-acdba75b912e', 'M', 26, 'a3.ad.m3.me', 'RH4 1', 'BETCHWORTH', 87, 'Active', '5', '08', '02', '0', '0', '11', '3', '12', '1', '0', '0', '7', 73400, 'B', '8', 0, 0, 0, 0, '[{\"id\":\"SKETCH SHOWS\",\"ranking\":\"1\"},{\"id\":\"CELEBRITIES\",\"ranking\":\"2\"},{\"id\":\"CELEBRITY\",\"ranking\":\"3\"}]', None, Decimal('5935.1800000000'), Decimal('0.0000'), 'RH4_1', 'RH4_1', 'Urbanites', 'Urban professionals and families', 'Families in terraces and flats', 0), ('43fdeddf-2b65-4993-85b4-8994e7878ef9', 'F', 25, 'a2.a3.ad.axa.h5.hc.hw.w3.wo', 'DA16 1', 'WELLING', 9, 'Active', '2', '07', '02', '0', '1', '04', '4', '06', '0', '1', '0', '4', 48800, 'D', '3', 0, 0, 2, 0, '[{\"id\":\"DATING SHOWS\",\"ranking\":\"1\"},{\"id\":\"FACTUAL ENTERTAINMENT\",\"ranking\":\"2\"}]', Decimal('53196.0560000000'), Decimal('109986.8740000000'), Decimal('0.3259'), 'DA16_1', 'DA16_1', 'Suburbanites', 'Semi-detached suburbia', 'Multi-ethnic suburbia', 1), ('13a46529-4a5f-4428-ad3a-1ae822a0cbe0', 'F', 23, 'a2.a3.ad.axa.w3.wo', 'HP14 4', 'HIGH WYCOMBE', 45, 'Active', '3', '07', '01', '0', '0', '11', '5', '09', '0', '1', '0', '9', 175200, 'F', '6', 0, 0, 2, 0, '[{\"id\":\"PARENTING AND RELATIONSHIPS\",\"ranking\":\"1\"},{\"id\":\"CELEBRITIES\",\"ranking\":\"2\"},{\"id\":\"REAL LIVES\",\"ranking\":\"3\"}]', Decimal('4071.1600000000'), Decimal('2720.1610000000'), Decimal('0.5994'), 'HP14_4', 'HP14_4', 'Suburbanites', 'Suburban achievers', 'Ageing in suburbia', 0), ('4211c75d-8c1b-4708-9a87-8def08c49a71', 'M', 45, 'aa.ad.hc.ma.me', 'SW12 8', 'LONDON', 18, 'Active', '2', '07', '00', '1', '1', '08', '4', '06', '2', '0', '1', '9', 233900, 'F', '9', 0, 0, 0, 0, '[{\"id\":\"CYCLING\",\"ranking\":\"1\"},{\"id\":\"SPORTS EVENT\",\"ranking\":\"2\"}]', None, Decimal('33002.2940000000'), Decimal('0.0000'), 'SW12_8', 'SW12_8', 'Cosmopolitans', 'Aspiring and affluent', 'EU white-collar workers', 1), ('db12859c-b2e8-4cfd-bfbe-51b6a4252ca6', 'F', 49, 'ad.wo', 'TR26 2', 'ST. IVES', 43, 'Active', '3', '07', '02', '1', '0', '11', '3', '09', '3', '1', '1', '5', 56200, 'C', '2', 0, 0, 0, 0, '[{\"id\":\"DATING SHOWS\",\"ranking\":\"1\"},{\"id\":\"FACTUAL ENTERTAINMENT\",\"ranking\":\"2\"}]', Decimal('4844.6020000000'), Decimal('10896.9210000000'), Decimal('0.3077'), 'TR26_2', 'TR26_2', 'Urbanites', 'Ageing urban living', 'Communal retirement', 0), ('1f8ba6fb-74c1-4352-83ca-f998c5ba2e60', 'M', 47, 'ad.axa.me', 'LA4 6', 'MORECAMBE', 53, 'Active', '5', '08', '01', '0', '0', '11', '3', '12', '3', '0', '0', '2', 28800, 'K', '2', 38, 38, 0, 0, '[{\"id\":\"CHILDREN\\'S ANIMATION\",\"ranking\":\"1\"}]', None, Decimal('26426.0250000000'), Decimal('0.0000'), 'LA4_6', 'LA4_6', 'Suburbanites', 'Semi-detached suburbia', 'Older workers and retirement', 0), ('ba5c41dc-4cdc-401a-8feb-2b5d6ff269bb', 'M', 62, 'ad.axa.me', 'SR3 3', 'SUNDERLAND', 4, 'Active', '4', '08', '00', '1', '0', '11', '3', '09', '0', '0', '1', '0', 14200, 'H', '2', 0, 0, 0, 0, '[{\"id\":\"LONG-RUNNING DRAMA\",\"ranking\":\"1\"}]', Decimal('1338.4920000000'), Decimal('73846.3980000000'), Decimal('0.0178'), 'SR3_3', 'SR3_3', 'Hard-pressed living', 'Industrious communities', 'Industrious hardship', 0), ('b7eed592-6e62-41b5-8e08-799726df09fc', 'F', 36, 'aa.ad.hc.wa.wo', 'SW4 0', 'LONDON', 132, 'Active', '2', '04', '05', '1', '1', '05', '2', '07', '2', '1', '0', '8', 120400, 'B', '9', 0, 0, 0, 0, '[{\"id\":\"CRIME AND THRILLERS\",\"ranking\":\"1\"}]', None, Decimal('24721.2550000000'), Decimal('0.0000'), 'SW4_0', 'SW4_0', 'Cosmopolitans', 'Aspiring and affluent', 'EU white-collar workers', 1), ('78b5b2f9-b989-4ec8-8507-4027d2f1f314', 'M', 55, 'ad.axa.hc.me', 'ME12 1', 'SHEERNESS', 35, 'Active', '3', '07', '00', '1', '1', '06', '2', '09', '3', '0', '1', '1', 19300, 'E', '1', 0, 0, 0, 0, '[{\"id\":\"FACTUAL ENTERTAINMENT\",\"ranking\":\"1\"},{\"id\":\"REAL LIVES\",\"ranking\":\"2\"}]', Decimal('5976.1500000000'), Decimal('48706.2390000000'), Decimal('0.1092'), 'ME12_1', 'ME12_1', 'Constrained city dwellers', 'Challenged diversity', 'Transitional Eastern European neighbourhood', 1), ('d8e7a9d6-eae8-4f70-8230-f5633ef01f5c', 'M', 26, 'a3.ad.axa.hc.m3.me', 'L27 6', 'LIVERPOOL', 46, 'Active', '1', '06', '02', '0', '1', '11', '3', '03', '0', '0', '0', '2', 26500, 'E', '0', 0, 0, 0, 0, '[{\"id\":\"DATING SHOWS\",\"ranking\":\"1\"},{\"id\":\"FACTUAL ENTERTAINMENT\",\"ranking\":\"2\"}]', None, Decimal('2679.7250000000'), Decimal('0.0000'), 'L27_6', 'L27_6', 'Hard-pressed living', 'Migration and churn', 'Young hard-pressed families', 1), ('29e03fd8-b1ab-4fd4-9d27-5e200c2b4cdb', 'M', 49, 'ad.me', 'BT36 4', 'NEWTOWNABBEY', 14, 'Active', '3', '01', '04', '1', '0', '10', '3', '10', '3', '0', '0', '3', 36000, 'G', '4', 0, 0, 0, 0, '[{\"id\":\"CRIME AND THRILLERS\",\"ranking\":\"1\"}]', Decimal('112.4140000000'), None, Decimal('1.0000'), 'BT36_4', 'BT36_4', 'Urbanites', 'Urban professionals and families', 'White professionals', 0), ('60f6d6f4-707c-4324-b5e3-aac4f471aa18', 'F', 37, 'aa.ad.h5.ha.hc.hw.wa.wo', 'M16 0', 'MANCHESTER', 191, 'Inactive', '2', '07', '00', '1', '1', '11', '3', '06', '2', '1', '1', '5', 51500, 'C', '2', 0, 0, 0, 0, '[{\"id\":\"CRIME DOCUMENTARY\"}]', None, Decimal('2802.3920000000'), Decimal('0.0000'), 'M16_0', 'M16_0', 'Multicultural metropolitans', 'Asian traits', 'Achieving minorities', 1), ('5f436630-9a14-491c-84e7-c8742dcfc167', 'F', 39, 'aa.ad.hc.wa.wo', 'CF24 2', 'CARDIFF', 7, 'Active', '2', '07', '02', '1', '1', '10', '3', '06', '2', '1', '1', '5', 57100, 'C', '3', 0, 0, 0, 0, '[{\"id\":\"LONG-RUNNING DRAMA\",\"ranking\":\"1\"}]', Decimal('662.0080000000'), Decimal('73612.9630000000'), Decimal('0.0089'), 'CF24_2', 'CF24_2', 'Multicultural metropolitans', 'Rented family living', 'Private renting new arrivals', 1), ('576506ef-1b68-47d1-bba9-52a73e32f6a2', 'F', 20, 'a2.a3.ad.axa.hc.w3.wo', 'RH11 6', 'CRAWLEY', 70, 'Active', '3', '10', '08', '0', '1', '11', '3', '11', '0', '1', '0', '5', 50800, 'H', '2', 0, 0, 0, 0, '[{\"id\":\"LONG-RUNNING DRAMA\",\"ranking\":\"1\"}]', None, Decimal('3217.6270000000'), Decimal('0.0000'), 'RH11_6', 'RH11_6', 'Multicultural metropolitans', 'Rented family living', 'Social renting young families', 1), ('7ef37fcb-8997-4150-b051-a04b319107f7', 'F', 19, 'a2.a3.aa.ad.hc.w3.wa.wo', 'SS2 4', 'SOUTHEND-ON-SEA', 201, 'Inactive', '3', '07', '02', '1', '1', '11', '3', '09', '0', '1', '1', '5', 50900, 'H', '2', 0, 0, 0, 0, '[{\"id\":\"REAL LIVES\",\"ranking\":\"1\"}]', Decimal('661.3590000000'), None, Decimal('1.0000'), 'SS2_4', 'SS2_4', 'Urbanites', 'Urban professionals and families', 'Families in terraces and flats', 1), ('4e380223-fb98-49a5-af98-4072d7f07051', 'F', 34, 'a3.ad.w3.wo', 'N21 3', 'LONDON', 93, 'Inactive', '1', '03', '05', '1', '0', '05', '3', '04', '1', '1', '0', '8', 123100, 'B', '5', 0, 0, 1, 0, '[{\"id\":\"QUIZ AND GAME SHOWS\",\"ranking\":\"1\"},{\"id\":\"CELEBRITIES\",\"ranking\":\"2\"},{\"id\":\"ALTERNATIVE COMEDY\",\"ranking\":\"3\"}]', None, Decimal('3342.2350000000'), Decimal('0.0000'), 'N21_3', 'N21_3', 'Multicultural metropolitans', 'Asian traits', 'Inner city ethnic mix', 0), ('518bb412-258b-4719-980b-5080d4151f3d', 'F', 36, 'a3.aa.ad.h5.ha.hc.hw.w3.wa.wo', 'HP1 1', 'HEMEL HEMPSTEAD', 87, 'Active', '2', '07', '00', '1', '1', '08', '2', '06', '1', '1', '1', '7', 82600, 'B', '3', 0, 0, 0, 0, '[{\"id\":\"CURRENT AFFAIRS\",\"ranking\":\"1\"},{\"id\":\"NEWS\",\"ranking\":\"2\"}]', Decimal('1475.6950000000'), None, Decimal('1.0000'), 'HP1_1', 'HP1_1', 'Urbanites', 'Urban professionals and families', 'Multi-ethnic professionals with families', 1), ('d07c793a-c227-4c4b-89f2-fe7f2deab401', 'M', 73, 'ad.axa.hw.me', 'PL5 2', 'PLYMOUTH', 8, 'Active', '5', '02', '04', '1', '0', '11', '2', '13', '5', '0', '0', '0', 9900, 'N', '0', 0, 0, 0, 0, '[{\"id\":\"PERIOD AND HISTORICAL\",\"ranking\":\"1\"},{\"id\":\"FAMILY DRAMA\",\"ranking\":\"2\"}]', None, Decimal('17953.0000000000'), Decimal('0.0000'), 'PL5_2', 'PL5_2', 'Hard-pressed living', 'Hard pressed ageing workers', 'Renting hard-pressed workers', 0), ('99081505-a461-4678-a9f0-47429bbf28e5', 'F', 24, 'a2.a3.aa.ad.hc.w3.wa.wo', 'OL11 5', 'ROCHDALE', 136, 'Inactive', '2', '07', '02', '0', '1', '11', '4', '06', '0', '1', '0', '5', 54000, 'D', '1', 0, 0, 0, 0, '[{\"id\":\"FACTUAL ENTERTAINMENT\",\"ranking\":\"1\"},{\"id\":\"SCRIPTED FACTUAL\",\"ranking\":\"2\"},{\"id\":\"REAL LIVES\",\"ranking\":\"3\"}]', None, Decimal('3887.3220000000'), Decimal('0.0000'), 'OL11_5', 'OL11_5', 'Suburbanites', 'Suburban achievers', 'Indian tech achievers', 1), ('91e04978-f7ce-4a38-90ee-5a64437c318b', 'M', 63, 'aa.ad.ha.hw.ma.me', 'N19 4', 'LONDON', 1, 'Active', '4', '08', '01', '1', '0', '11', '4', '09', '2', '0', '1', '8', 123400, 'F', '8', 0, 0, 0, 0, '[{\"id\":\"CRIME AND THRILLERS\",\"ranking\":\"1\"}]', None, Decimal('9744.7400000000'), Decimal('0.0000'), 'N19_4', 'N19_4', 'Ethnicity central', 'Aspirational techies', 'New EU tech workers', 0), ('eecb1f01-b670-4552-b356-37cd19bd9f13', 'M', 62, 'ad.axa.hw.me', 'NE7 7', 'NEWCASTLE UPON TYNE', 10, 'Active', '4', '02', '04', '1', '0', '11', '3', '10', '4', '0', '0', '0', 13400, 'H', '1', 0, 0, 0, 0, '[{\"id\":\"LONG-RUNNING DRAMA\",\"ranking\":\"1\"}]', None, Decimal('1276.6440000000'), Decimal('0.0000'), 'NE7_7', 'NE7_7', 'Suburbanites', 'Semi-detached suburbia', 'Multi-ethnic suburbia', 0), ('c234ec6d-9fe6-4713-bdd4-6dfe62057b5e', 'M', 19, 'a2.a3.aa.ad.h5.ha.hw.m3.ma.me', 'OX29 8', 'WITNEY', 90, 'Active', '3', '07', '01', '0', '0', '11', '3', '09', '0', '0', '0', '7', 79000, 'B', '6', 0, 0, 0, 0, '[{\"id\":\"SITUATION COMEDY\",\"ranking\":\"1\"}]', Decimal('2658.7000000000'), Decimal('7105.0860000000'), Decimal('0.2723'), 'OX29_8', 'OX29_8', 'Rural residents', 'Rural tenants', 'Rural white-collar workers', 0), ('d32330e5-700d-42e3-8715-fa1665897187', 'F', 37, 'ad.axa.hc.wo', 'PE19 6', 'ST. NEOTS', 7, 'Active', '2', '07', '02', '1', '1', '11', '3', '06', '2', '1', '1', '5', 58000, 'C', '2', 0, 0, 0, 0, '[{\"id\":\"CRIME AND THRILLERS\",\"ranking\":\"1\"}]', Decimal('1207.0290000000'), Decimal('16217.6560000000'), Decimal('0.0692'), 'PE19_6', 'PE19_6', 'Rural residents', 'Rural tenants', 'Rural white-collar workers', 1), ('eb28ca3e-c5a4-422c-965d-86e92d87fd1a', 'M', 37, 'ad.axa.me', 'RG17 0', 'HUNGERFORD', 99, 'Inactive', '1', '00', '04', '1', '0', '09', '2', '04', '1', '0', '0', '7', 72500, 'G', '8', 0, 0, 0, 0, '[{\"id\":\"TALENT SHOWS\",\"ranking\":\"1\"},{\"id\":\"VARIETY\",\"ranking\":\"2\"},{\"id\":\"FAMILY ENTERTAINMENT\",\"ranking\":\"3\"}]', None, Decimal('6788.3040000000'), Decimal('0.0000'), 'RG17_0', 'RG17_0', 'Rural residents', 'Ageing rural dwellers', 'Rural employment and retirees', 0), ('ddad5133-bc26-4542-9773-0602cf36999c', 'M', 66, 'aa.ad.ha.hw.ma.me', 'KT8 9', 'EAST MOLESEY', 154, 'Active', '4', '08', '00', '1', '0', '11', '5', '09', '4', '0', '1', '8', 124900, 'F', '7', 0, 0, 0, 0, '[{\"id\":\"CRIME AND THRILLERS\",\"ranking\":\"1\"}]', None, Decimal('6747.1500000000'), Decimal('0.0000'), 'KT8_9', 'KT8_9', 'Urbanites', 'Ageing urban living', 'Delayed retirement', 0), ('603f02f0-b630-495d-841a-867ae0ed3a28', 'M', 43, 'aa.ad.hc.ma.me', 'SW1V 1', 'LONDON', 5, 'Active', '2', '07', '00', '1', '1', '11', '2', '06', '2', '0', '1', '8', 114500, 'B', '8', 7, 0, 1, 185, '[{\"id\":\"FACTUAL ENTERTAINMENT\",\"ranking\":\"1\"},{\"id\":\"REAL LIVES\",\"ranking\":\"2\"}]', Decimal('125946.8260000000'), Decimal('78940.7300000000'), Decimal('0.6147'), 'SW1V_1', 'SW1V_1', 'Cosmopolitans', 'Aspiring and affluent', 'Highly-qualified quaternary workers', 1), ('335772ef-62c1-4eb1-b2c0-79d282776df5', 'F', 35, 'a3.ad.axa.hc.w3.wo', 'TD14 5', 'EYEMOUTH', 59, 'Active', '4', '08', '02', '0', '1', '11', '3', '09', '1', '1', '0', '4', 47500, 'D', '2', 0, 0, 0, 0, '[{\"id\":\"LONG-RUNNING DRAMA\",\"ranking\":\"1\"}]', Decimal('30.0000000000'), Decimal('90.0000000000'), Decimal('0.2500'), 'TD14_5', 'TD14_5', 'Rural residents', 'Rural tenants', 'Ageing rural flat tenants', 1), ('acdf269d-2154-4f4f-8465-2b13ffe1b2d7', 'M', 49, 'ad.axa.hc.me', 'PL6 5', 'PLYMOUTH', 7, 'Active', '3', '07', '02', '0', '1', '11', '4', '09', '3', '0', '0', '5', 54500, 'D', '4', 0, 0, 0, 0, '[{\"id\":\"CRIME AND THRILLERS\",\"ranking\":\"1\"}]', Decimal('1158.8540000000'), Decimal('7036.6090000000'), Decimal('0.1414'), 'PL6_5', 'PL6_5', 'Suburbanites', 'Semi-detached suburbia', 'Semi-detached ageing', 1), ('d9478884-453c-46ea-82c3-baa34f1de2d0', 'F', None, 'a3.aa.ad.h5.ha.hw.w3.wa.wo', 'OX2 9', 'OXFORD', 3, 'Active', '5', '08', '02', '0', '0', '11', '5', '12', '1', '1', '0', '8', 125500, 'F', '8', 0, 0, 0, 0, '[{\"id\":\"LONG-RUNNING DRAMA\",\"ranking\":\"1\"}]', Decimal('46482.9320000000'), Decimal('149632.9840000000'), Decimal('0.2370'), 'OX2_9', 'OX2_9', 'Urbanites', 'Ageing urban living', 'Delayed retirement', 0), ('e2c5eed4-fba7-4b45-a878-92b306f757d8', 'M', 20, 'a2.a3.aa.ad.m3.ma.me', 'WF4 2', 'WAKEFIELD', 3, 'Active', '3', '07', '01', '0', '0', '07', '4', '09', '0', '0', '0', '7', 79900, 'B', '0', 0, 0, 0, 0, '[{\"id\":\"US COMEDY\",\"ranking\":\"1\"},{\"id\":\"ADULT ANIMATION\",\"ranking\":\"2\"}]', None, Decimal('8962.4400000000'), Decimal('0.0000'), 'WF4_2', 'WF4_2', 'Hard-pressed living', 'Industrious communities', 'Industrious transitions', 0), ('1de90363-b136-4469-933c-056b85ba7fc9', 'M', 49, 'aa.ad.hc.ma.me', 'SK11 9', 'MACCLESFIELD', 5, 'Active', '3', '07', '00', '1', '1', '11', '5', '09', '3', '0', '1', '9', 187400, 'F', '9', 0, 0, 0, 0, '[{\"id\":\"US COMEDY\",\"ranking\":\"1\"},{\"id\":\"ADULT ANIMATION\",\"ranking\":\"2\"}]', None, Decimal('10359.5620000000'), Decimal('0.0000'), 'SK11_9', 'SK11_9', 'Rural residents', 'Farming communities', 'Agricultural communities', 1), ('7bc5f183-073a-404b-a681-8baa39c96ccf', 'M', 62, 'aa.ad.ma.me', 'LE16 7', 'MARKET HARBOROUGH', 60, 'Active', '4', '02', '04', '1', '0', '11', '2', '10', '4', '0', '0', '1', 19900, 'H', '2', 0, 0, 0, 0, '[{\"id\":\"FOOTBALL\",\"ranking\":\"1\"}]', Decimal('13.2000000000'), None, Decimal('1.0000'), 'LE16_7', 'LE16_7', 'Rural residents', 'Rural tenants', 'Rural white-collar workers', 0), ('4a65d84c-1ebf-4d12-a1f1-5df093339ba5', 'M', 22, 'a2.a3.aa.ad.m3.ma.me', 'IP19 9', 'HALESWORTH', 12, 'Active', '4', '08', '01', '0', '0', '04', '4', '09', '0', '0', '0', '6', 65500, 'I', '1', 0, 0, 0, 0, '[{\"id\":\"CRIME AND THRILLERS\",\"ranking\":\"1\"}]', Decimal('19321.8350000000'), Decimal('97768.3640000000'), Decimal('0.1650'), 'IP19_9', 'IP19_9', 'Rural residents', 'Rural tenants', 'Ageing rural flat tenants', 0), ('0729e417-44dd-4f3b-9cd5-6d2dab8c341d', 'F', None, 'a3.aa.ad.hc.w3.wa.wo', 'CB9 8', 'HAVERHILL', 6, 'Active', '2', '07', '00', '1', '1', '11', '4', '06', '1', '1', '1', '3', 34100, 'E', '0', 0, 0, 0, 0, '[{\"id\":\"LONG-RUNNING DRAMA\",\"ranking\":\"1\"}]', Decimal('6601.9620000000'), Decimal('12744.2310000000'), Decimal('0.3412'), 'CB9_8', 'CB9_8', 'Hard-pressed living', 'Migration and churn', 'Hard-Pressed European Settlers', 1), ('6867f0dc-97bc-4cb1-adf4-4f1f06ab4c53', 'F', 34, 'a3.ad.axa.h5.hc.hw.w3.wo', 'BT48 8', 'LONDONDERRY[2]', 156, 'Inactive', '1', 'U', 'U', '1', '1', '03', '3', 'U', '1', '1', 'U', '2', 22900, 'E', '0', 0, 0, 0, 0, '[{\"id\":\"LONG-RUNNING DRAMA\",\"ranking\":\"1\"}]', None, Decimal('2807.9150000000'), Decimal('0.0000'), 'BT48_8', 'BT48_8', 'Hard-pressed living', 'Migration and churn', 'Young hard-pressed families', 1), ('f358fa90-c483-4c41-997f-b09594c11c82', 'M', 38, 'aa.ad.hc.ma.me', 'IV2 6', 'INVERNESS', 50, 'Active', '2', '07', '00', '1', '1', '09', '3', '06', '2', '0', '1', '6', 60700, 'B', '4', 4, 38, 8, 0, '[{\"id\":\"SCRIPTED FACTUAL\",\"ranking\":\"1\"},{\"id\":\"FACTUAL ENTERTAINMENT\",\"ranking\":\"2\"},{\"id\":\"REAL LIVES\",\"ranking\":\"3\"}]', Decimal('13462.6430000000'), Decimal('51919.1070000000'), Decimal('0.2059'), 'IV2_6', 'IV2_6', 'Rural residents', 'Farming communities', 'Rural workers and families', 1), ('bbf7c70e-b0b1-4089-a19b-3b528da8d2be', 'M', 44, 'aa.ad.hc.ma.me', 'SG6 4', 'HITCHIN', 161, 'Active', '2', '07', '00', '1', '1', '11', '3', '06', '2', '0', '1', '8', 119200, 'B', '8', 0, 0, 0, 0, '[{\"id\":\"RUGBY UNION\",\"ranking\":\"1\"},{\"id\":\"SPORTS EVENT\",\"ranking\":\"2\"}]', Decimal('1212.2230000000'), None, Decimal('1.0000'), 'SG6_4', 'SG6_4', 'Hard-pressed living', 'Migration and churn', 'Hard-pressed ethnic mix', 1), ('20f21973-057c-48c5-81c6-cdeb383ab0ad', 'M', 51, 'aa.ad.hc.ma.me', 'CM23 4', \"BISHOP'S STORTFORD\", 178, 'Inactive', '3', '10', '08', '1', '1', '11', '3', '11', '3', '0', '0', '7', 72300, 'C', '5', 0, 0, 0, 0, '[{\"id\":\"SOCIAL DRAMA\",\"ranking\":\"1\"}]', None, Decimal('4067.9920000000'), Decimal('0.0000'), 'CM23_4', 'CM23_4', 'Suburbanites', 'Suburban achievers', 'Comfortable suburbia', 1), ('e0a43251-2f04-47c5-82b9-b09b0bd714fa', 'F', 20, 'a2.a3.ad.axa.h5.hw.w3.wo', 'DE24 0', 'DERBY', 43, 'Active', '3', '07', '01', '0', '0', '11', '3', '09', '0', '1', '0', '4', 40700, 'I', '0', 0, 0, 0, 0, '[{\"id\":\"DATING SHOWS\",\"ranking\":\"1\"},{\"id\":\"FACTUAL ENTERTAINMENT\",\"ranking\":\"2\"}]', None, Decimal('11351.4480000000'), Decimal('0.0000'), 'DE24_0', 'DE24_0', 'Hard-pressed living', 'Migration and churn', 'Hard-pressed ethnic mix', 0), ('94b6a90e-af1e-4a9f-865e-73bccd01f9e1', 'M', 47, 'aa.ad.hc.ma.me', 'N21 3', 'LONDON', 44, 'Active', '3', '07', '03', '1', '1', '04', '3', '09', '3', '0', '0', '9', 165700, 'B', '9', 0, 0, 0, 0, '[{\"id\":\"FOOTBALL\",\"ranking\":\"1\"},{\"id\":\"SPORTS EVENT\",\"ranking\":\"2\"}]', None, Decimal('1676.0780000000'), Decimal('0.0000'), 'N21_3', 'N21_3', 'Multicultural metropolitans', 'Asian traits', 'Inner city ethnic mix', 1), ('e27cf2eb-b612-4400-9685-bf4d0d9359a5', 'M', 55, 'ad.axa.me', 'LS19 7', 'LEEDS', 11, 'Active', '3', '07', '02', '1', '0', '11', '3', '09', '3', '0', '1', '6', 60900, 'C', '4', 0, 0, 0, 0, '[{\"id\":\"CRIME AND THRILLERS\",\"ranking\":\"1\"}]', Decimal('16018.2300000000'), Decimal('56320.8260000000'), Decimal('0.2214'), 'LS19_7', 'LS19_7', 'Urbanites', 'Urban professionals and families', 'White professionals', 0), ('abebc058-964a-4009-8f49-251229a720f5', 'F', 53, 'ad.axa.h5.hw.wo', 'LS19 6', 'LEEDS', 18, 'Active', '3', '04', '05', '1', '0', '09', '5', '10', '3', '1', '0', '3', 33800, 'G', '4', 0, 0, 0, 0, '[{\"id\":\"SCRIPTED FACTUAL\",\"ranking\":\"1\"},{\"id\":\"FACTUAL ENTERTAINMENT\",\"ranking\":\"2\"},{\"id\":\"REAL LIVES\",\"ranking\":\"3\"}]', Decimal('4124.1860000000'), Decimal('56160.0080000000'), Decimal('0.0684'), 'LS19_6', 'LS19_6', 'Urbanites', 'Ageing urban living', 'Self-sufficient retirement', 0), ('335540a9-3803-41d0-9eec-4ad061c13a34', 'M', 74, 'ad.axa.me', 'PE15 0', 'MARCH', 23, 'Active', '5', '08', '00', '1', '0', '11', '4', '12', '5', '0', '1', '2', 23700, 'N', '2', 0, 0, 0, 0, '[{\"id\":\"FACTUAL ENTERTAINMENT\",\"ranking\":\"1\"},{\"id\":\"CELEBRITIES\",\"ranking\":\"2\"}]', Decimal('1588.6420000000'), Decimal('40444.0350000000'), Decimal('0.0377'), 'PE15_0', 'PE15_0', 'Rural residents', 'Rural tenants', 'Rural life', 0), ('260cf7db-ecea-4d8d-9cef-744241dc8db2', 'M', 49, 'ad.axa.h5.hw.me', 'BS32 4', 'BRISTOL', 24, 'Active', '4', '08', '00', '1', '0', '11', '4', '09', '3', '0', '1', '5', 57000, 'K', '4', 1, 0, 0, 0, '[{\"id\":\"TALENT SHOWS\",\"ranking\":\"1\"},{\"id\":\"CHILDREN\\'S ENTERTAINMENT\",\"ranking\":\"2\"},{\"id\":\"FAMILY ENTERTAINMENT\",\"ranking\":\"3\"}]', None, Decimal('4267.5550000000'), Decimal('0.0000'), 'BS32_4', 'BS32_4', 'Constrained city dwellers', 'Challenged diversity', 'Hampered aspiration', 0), ('04c34c6d-d625-45a4-a9c3-a88d157f79bc', 'M', 25, 'a2.a3.aa.ad.m3.ma.me', 'BN12 4', 'Worthing', 153, 'Inactive', '4', '08', '01', '0', '0', '11', '3', '09', '0', '0', '0', '3', 35800, 'I', '1', 0, 0, 0, 0, '[{\"id\":\"FACTUAL ENTERTAINMENT\",\"ranking\":\"1\"},{\"id\":\"REAL LIVES\",\"ranking\":\"2\"}]', Decimal('3586.3070000000'), Decimal('17627.5850000000'), Decimal('0.1690'), 'BN12_4', 'BN12_4', 'Suburbanites', 'Suburban achievers', 'Ageing in suburbia', 0), ('fe7fe365-e19a-4179-8f5e-49a749362533', 'M', 68, 'aa.ad.ma.me', 'SA15 1', 'LLANELLI', 6, 'Active', '5', '08', '00', '1', '0', '11', '3', '12', '5', '0', '1', '3', 31200, 'K', '1', 0, 0, 0, 0, '[{\"id\":\"LONG-RUNNING DRAMA\",\"ranking\":\"1\"}]', Decimal('84.2000000000'), Decimal('73.6210000000'), Decimal('0.5335'), 'SA15_1', 'SA15_1', 'Hard-pressed living', 'Challenged terraced workers', 'Deprived blue-collar terraces', 0), ('e7b59c46-3192-4260-b5ef-398019c6b3b0', 'F', 20, 'a2.a3.ad.w3.wo', 'ME15 9', 'MAIDSTONE', 0, 'Active', '0', '06', '02', '1', '0', '03', '3', '00', '0', '1', '1', '3', 36500, 'J', '2', 3, 0, 1, 0, '[{\"id\":\"FACTUAL ENTERTAINMENT\",\"ranking\":\"1\"},{\"id\":\"REAL LIVES\",\"ranking\":\"2\"}]', Decimal('223602.1510000000'), Decimal('236700.6690000000'), Decimal('0.4857'), 'ME15_9', 'ME15_9', 'Constrained city dwellers', 'Challenged diversity', 'Multi-ethnic hardship', 0), ('cb5f7b96-052d-4d1a-81b2-af9664ea0267', 'M', 70, 'ad.axa.hc.me', 'L18 9', 'LIVERPOOL', 21, 'Active', '5', '08', '01', '1', '1', '11', '3', '12', '5', '0', '1', '3', 31400, 'I', '3', 0, 0, 0, 0, '[{\"id\":\"LONG-RUNNING DRAMA\",\"ranking\":\"1\"}]', Decimal('506.8710000000'), Decimal('10018.4960000000'), Decimal('0.0481'), 'L18_9', 'L18_9', 'Urbanites', 'Ageing urban living', 'Delayed retirement', 1), ('7a905886-0054-43e3-aba4-60a2ef528c82', 'F', 32, 'a3.ad.axa.w3.wo', 'TQ2 6', 'TORQUAY', 79, 'Active', '4', '11', '07', '0', '0', '11', '3', '11', '1', '1', '0', '1', 17300, 'H', '2', 0, 0, 3, 0, '[{\"id\":\"CRIME AND THRILLERS\",\"ranking\":\"1\"}]', None, Decimal('114149.8000000000'), Decimal('0.0000'), 'TQ2_6', 'TQ2_6', 'Urbanites', 'Ageing urban living', 'Communal retirement', 0), ('f953726a-22dc-4201-b66c-d4171f6d58d1', 'F', 21, 'a2.a3.ad.w3.wo', 'CH44 6', 'WALLASEY', 115, 'Inactive', '3', '10', '07', '0', '0', '06', '3', '11', '0', '1', '0', '0', 3500, 'L', '0', 0, 0, 0, 0, '[{\"id\":\"LONG-RUNNING DRAMA\",\"ranking\":\"1\"}]', Decimal('2473.4330000000'), Decimal('22760.3830000000'), Decimal('0.0980'), 'CH44_6', 'CH44_6', 'Constrained city dwellers', 'White communities', 'Constrained young families', 0), ('7c4dbe37-0498-4ed8-9ebd-c9f62a861115', 'M', 39, 'ad.axa.me', 'BT21 0', 'DONAGHADEE', 48, 'Active', '5', '08', '02', '1', '0', '04', '3', '12', '2', '0', '1', '1', 17100, 'L', '1', 0, 0, 0, 0, '[{\"id\":\"FACTUAL ENTERTAINMENT\",\"ranking\":\"1\"},{\"id\":\"CELEBRITIES\",\"ranking\":\"2\"}]', None, Decimal('18546.8000000000'), Decimal('0.0000'), 'BT21_0', 'BT21_0', 'Constrained city dwellers', 'Challenged diversity', 'Hampered aspiration', 0), ('362fdc35-c18e-4dfe-8ed3-0f9ab9bf9832', 'M', 71, 'aa.ad.ma.me', 'SL0 9', 'IVER', 69, 'Active', '5', '02', '04', '1', '0', '11', '5', '13', '5', '0', '0', '5', 57100, 'M', '6', 0, 0, 0, 0, '[{\"id\":\"RUGBY UNION\",\"ranking\":\"1\"},{\"id\":\"SPORTS EVENT\",\"ranking\":\"2\"}]', Decimal('2771.7610000000'), Decimal('6674.3310000000'), Decimal('0.2934'), 'SL0_9', 'SL0_9', 'Urbanites', 'Urban professionals and families', 'Multi-ethnic professionals with families', 0), ('92c481dd-38de-42c6-9993-fa1ea6f27feb', 'M', 44, 'aa.ad.hc.ma.me', 'SW18 3', 'LONDON', 26, 'Active', '2', '07', '00', '1', '1', '10', '5', '06', '2', '0', '1', '9', 256800, 'F', '9', 0, 0, 0, 0, '[{\"id\":\"CYCLING\",\"ranking\":\"1\"},{\"id\":\"SPORTS EVENT\",\"ranking\":\"2\"}]', Decimal('34.8560000000'), None, Decimal('1.0000'), 'SW18_3', 'SW18_3', 'Cosmopolitans', 'Aspiring and affluent', 'EU white-collar workers', 1), ('0ce49adc-83b9-4f23-9775-1bf109a1e782', 'M', 55, 'ad.axa.me', 'WF10 1', 'CASTLEFORD', 112, 'Active', '3', '01', '04', '1', '0', '11', '2', '10', '3', '0', '0', '1', 15900, 'J', '2', 0, 0, 0, 0, '[{\"id\":\"FACTUAL ENTERTAINMENT\",\"ranking\":\"1\"},{\"id\":\"REAL LIVES\",\"ranking\":\"2\"}]', Decimal('41.2000000000'), None, Decimal('1.0000'), 'WF10_1', 'WF10_1', 'Hard-pressed living', 'Challenged terraced workers', 'Deprived blue-collar terraces', 0), ('32e55730-e7cd-47f0-b67c-33030eb0af37', 'M', 64, 'ad.axa.hw.me', 'DD4 7', 'DUNDEE', 71, 'Active', '4', '02', '04', '1', '0', '11', '3', '10', '4', '0', '0', '2', 24300, 'H', '3', 0, 0, 0, 0, '[{\"id\":\"DATING SHOWS\",\"ranking\":\"1\"},{\"id\":\"FACTUAL ENTERTAINMENT\",\"ranking\":\"2\"}]', None, Decimal('336.6870000000'), Decimal('0.0000'), 'DD4_7', 'DD4_7', 'Urbanites', 'Ageing urban living', 'Self-sufficient retirement', 0), ('95e40702-d84b-4c89-888d-dee0085a195a', 'M', 24, 'a2.a3.ad.axa.h5.hc.hw.m3.me', 'SG18 0', 'BIGGLESWADE', 169, 'Inactive', '3', '07', '01', '0', '1', '11', '3', '09', '0', '0', '0', '5', 52100, 'D', '2', 0, 0, 0, 0, '[{\"id\":\"QUIZ AND GAME SHOWS\",\"ranking\":\"1\"}]', None, Decimal('2611.9080000000'), Decimal('0.0000'), 'SG18_0', 'SG18_0', 'Urbanites', 'Urban professionals and families', 'Families in terraces and flats', 1), ('c1517976-f850-4cb3-a2cf-b0d9d2db7675', 'F', 20, 'a2.a3.ad.axa.h5.hc.hw.w3.wo', 'AB24 4', 'ABERDEEN', 18, 'Active', '3', '07', '02', '1', '1', '11', '3', '09', '0', '1', '1', '3', 33800, 'E', '1', 0, 0, 0, 0, '[{\"id\":\"DATING SHOWS\",\"ranking\":\"1\"},{\"id\":\"FACTUAL ENTERTAINMENT\",\"ranking\":\"2\"}]', Decimal('24262.8620000000'), Decimal('23158.1060000000'), Decimal('0.5116'), 'AB24_4', 'AB24_4', 'Constrained city dwellers', 'Constrained flat dwellers', 'Endeavouring flat dwellers', 1), ('39a9b667-7bfc-4239-ada4-684802a932b3', 'F', 20, 'a2.a3.aa.ad.h5.ha.hc.hw.w3.wa.wo', 'WR4 0', 'WORCESTER', 183, 'Inactive', '3', '07', '02', '0', '1', '11', '5', '09', '0', '1', '0', '6', 62900, 'C', '3', 0, 0, 0, 0, '[{\"id\":\"FACTUAL ENTERTAINMENT\",\"ranking\":\"1\"},{\"id\":\"REAL LIVES\",\"ranking\":\"2\"}]', None, Decimal('2700.0950000000'), Decimal('0.0000'), 'WR4_0', 'WR4_0', 'Urbanites', 'Urban professionals and families', 'White professionals', 1), ('1e7e9c6f-77b5-4cb8-8f0a-06457c8718ac', 'M', 36, 'ad.axa.me', 'B63 3', 'HALESOWEN', 93, 'Inactive', '2', '10', '06', '0', '0', '06', '3', '08', '1', '0', '0', '4', 49600, 'A', '4', 0, 0, 0, 0, '[{\"id\":\"SITUATION COMEDY\",\"ranking\":\"1\"}]', None, Decimal('20262.2230000000'), Decimal('0.0000'), 'B63_3', 'B63_3', 'Urbanites', 'Urban professionals and families', 'White professionals', 0), ('2ce0c5ec-93a5-4ab7-9753-cf85aae5052b', 'M', 71, 'aa.ad.ma.me', 'CV13 6', 'NUNEATON', 142, 'Active', '5', '08', '01', '1', '0', '11', '3', '12', '5', '0', '1', '3', 38500, 'K', '3', 0, 0, 0, 0, '[{\"id\":\"CRIME AND THRILLERS\",\"ranking\":\"1\"}]', Decimal('2678.0890000000'), Decimal('13153.3450000000'), Decimal('0.1691'), 'CV13_6', 'CV13_6', 'Rural residents', 'Farming communities', 'Established farming communities', 0), ('57f52e61-5885-4960-8879-5e2aa67ca10c', 'M', 59, 'ad.me', 'NN6 8', 'NORTHAMPTON', 12, 'Active', '4', '08', '00', '1', '0', '02', '3', '09', '4', '0', '1', '3', 37500, 'K', '3', 0, 0, 0, 0, '[{\"id\":\"LONG-RUNNING DRAMA\",\"ranking\":\"1\"}]', None, Decimal('1871.3370000000'), Decimal('0.0000'), 'NN6_8', 'NN6_8', 'Rural residents', 'Rural tenants', 'Rural white-collar workers', 0), ('70d582f5-172f-4684-b208-ba88cdae5de2', 'F', 35, 'a3.aa.ad.hc.w3.wa.wo', 'G68 0', 'GLASGOW', 34, 'Active', '1', '09', '07', '1', '1', '04', '5', '05', '1', '1', '0', '7', 84300, 'B', '8', 0, 0, 0, 0, '[{\"id\":\"DATING SHOWS\",\"ranking\":\"1\"},{\"id\":\"FACTUAL ENTERTAINMENT\",\"ranking\":\"2\"}]', Decimal('6767.8530000000'), Decimal('19301.2630000000'), Decimal('0.2596'), 'G68_0', 'G68_0', 'Suburbanites', 'Suburban achievers', 'Comfortable suburbia', 1), ('1026b2ad-3c8b-4185-b8f8-2aa36a70622d', 'F', 27, 'a3.ad.w3.wo', 'HD9 2', 'HOLMFIRTH', 24, 'Active', '5', '08', '01', '0', '0', '11', '5', '12', '1', '1', '0', '5', 58100, 'M', '1', 0, 0, 0, 0, '[{\"id\":\"DATING SHOWS\",\"ranking\":\"1\"},{\"id\":\"FACTUAL ENTERTAINMENT\",\"ranking\":\"2\"}]', Decimal('15937.9180000000'), Decimal('29461.1000000000'), Decimal('0.3510'), 'HD9_2', 'HD9_2', 'Rural residents', 'Rural tenants', 'Rural white-collar workers', 0), ('7bb67393-fd50-49f4-924a-0542c70098e3', 'F', 46, 'ad.axa.h5.hc.hw.wo', 'TS5 5', 'MIDDLESBROUGH', 14, 'Active', '3', '07', '01', '1', '1', '11', '3', '09', '2', '1', '1', '1', 19600, 'E', '2', 0, 0, 0, 0, '[{\"id\":\"DATING SHOWS\",\"ranking\":\"1\"},{\"id\":\"FACTUAL ENTERTAINMENT\",\"ranking\":\"2\"}]', Decimal('17563.6800000000'), Decimal('56582.6790000000'), Decimal('0.2368'), 'TS5_5', 'TS5_5', 'Urbanites', 'Urban professionals and families', 'Multi-ethnic professionals with families', 1), ('7a31b7fe-110f-44dc-917d-05fd27443350', 'M', 71, 'aa.ad.ma.me', 'TQ12 1', 'NEWTON ABBOT', 205, 'Active', '5', '08', '01', '0', '0', '11', '3', '12', '5', '0', '0', '4', 42000, 'I', '3', 0, 0, 0, 0, '[{\"id\":\"TALENT SHOWS\",\"ranking\":\"1\"},{\"id\":\"FAMILY ENTERTAINMENT\",\"ranking\":\"2\"},{\"id\":\"MUSIC PROGRAMMES\",\"ranking\":\"3\"}]', None, Decimal('1016.6500000000'), Decimal('0.0000'), 'TQ12_1', 'TQ12_1', 'Constrained city dwellers', 'Challenged diversity', 'Hampered aspiration', 0)]\n"
     ]
    }
   ],
   "source": [
    "print (next(my_results)) #first 100 rows"
   ]
  },
  {
   "cell_type": "code",
   "execution_count": 32,
   "metadata": {},
   "outputs": [
    {
     "name": "stdout",
     "output_type": "stream",
     "text": [
      "[('ee51beb4-5183-47ba-b13f-033ca8a47035', 'F', 36, 'ad.axa.hc.wo', 'SE24 0', 'LONDON', 5, 'Active', '1', '03', '05', '1', '1', '05', '3', '04', '1', '1', '0', '7', 82200, 'C', '8', 0, 0, 0, 0, '[{\"id\":\"CRIME AND THRILLERS\",\"ranking\":\"1\"}]', Decimal('14027.8130000000'), Decimal('71850.1830000000'), Decimal('0.1633'), 'SE24_0', 'SE24_0', 'Ethnicity central', 'Aspirational techies', 'Old EU tech workers', 1), ('e5de3e25-53c2-4870-a1f1-e3c936624ac8', 'F', 46, 'ad.axa.h5.hw.wo', 'AB53 5', 'TURRIFF', 24, 'Active', '2', '04', '05', '1', '0', '07', '2', '07', '2', '1', '0', '0', 11800, 'J', '1', 0, 0, 0, 0, '[{\"id\":\"DATING SHOWS\",\"ranking\":\"1\"},{\"id\":\"FACTUAL ENTERTAINMENT\",\"ranking\":\"2\"}]', Decimal('2795.9600000000'), Decimal('227318.8970000000'), Decimal('0.0121'), 'AB53_5', 'AB53_5', 'Rural residents', 'Farming communities', 'Rural workers and families', 0), ('4edba9dd-5ddf-4854-8dfb-6f999e2a5e98', 'M', 41, 'ad.axa.hc.me', 'GL52 8', 'CHELTENHAM', 43, 'Active', '2', '07', '00', '1', '1', '04', '3', '06', '2', '0', '1', '7', 80100, 'B', '6', 4, 0, 0, 0, '[{\"id\":\"US COMEDY\",\"ranking\":\"1\"},{\"id\":\"ADULT ANIMATION\",\"ranking\":\"2\"}]', None, Decimal('11374.2780000000'), Decimal('0.0000'), 'GL52_8', 'GL52_8', 'Hard-pressed living', 'Hard pressed ageing workers', 'Ageing industrious workers', 1), ('1b83cae4-9afc-4726-9263-5c4fb79991dc', 'M', 45, 'aa.ad.hc.ma.me', 'IP13 7', 'WOODBRIDGE', 29, 'Active', '3', '07', '00', '1', '1', '11', '3', '09', '2', '0', '1', '7', 72800, 'B', '5', 0, 0, 0, 0, '[{\"id\":\"DATING SHOWS\",\"ranking\":\"1\"},{\"id\":\"FACTUAL ENTERTAINMENT\",\"ranking\":\"2\"}]', None, Decimal('13651.6490000000'), Decimal('0.0000'), 'IP13_7', 'IP13_7', 'Rural residents', 'Rural tenants', 'Rural white-collar workers', 1), ('bcbc7a23-241c-4775-a2f1-b82e27e93163', 'F', 20, 'a2.a3.aa.ad.h5.ha.hc.hw.w3.wa.wo', 'KA5 6', 'Kilmarnock', 24, 'Active', '3', '07', '01', '0', '1', '11', '3', '09', '0', '1', '0', '5', 56700, 'C', '0', 0, 0, 0, 0, '[{\"id\":\"DATING SHOWS\",\"ranking\":\"1\"},{\"id\":\"FACTUAL ENTERTAINMENT\",\"ranking\":\"2\"}]', Decimal('48891.7040000000'), Decimal('73861.8730000000'), Decimal('0.3982'), 'KA5_6', 'KA5_6', 'Rural residents', 'Farming communities', 'Agricultural communities', 1), ('674dfe4b-9e23-4269-9b83-4465e3b9e694', 'F', 56, 'ad.axa.wo', 'LE9 3', 'LEICESTER', 51, 'Active', '3', '07', '00', '1', '0', '11', '4', '09', '3', '1', '1', '6', 60900, 'D', '3', 0, 0, 0, 0, '[{\"id\":\"DATING SHOWS\",\"ranking\":\"1\"},{\"id\":\"FACTUAL ENTERTAINMENT\",\"ranking\":\"2\"}]', None, Decimal('5807.8940000000'), Decimal('0.0000'), 'LE9_3', 'LE9_3', 'Hard-pressed living', 'Industrious communities', 'Industrious transitions', 0), ('ec699a58-7649-4b79-af2b-c97f6038810e', 'M', 89, 'aa.ad.ma.me', 'W1W 5', 'LONDON', 2, 'Active', '5', '08', '02', '1', '0', '11', '2', '12', '5', '0', '1', '7', 84500, 'B', '5', 0, 0, 0, 0, '[{\"id\":\"CLASSIC COMEDY\",\"ranking\":\"1\"},{\"id\":\"SKETCH SHOWS\",\"ranking\":\"2\"}]', Decimal('5613.9770000000'), Decimal('2057.6880000000'), Decimal('0.7317'), 'W1W_5', 'W1W_5', 'Cosmopolitans', 'Inner city students', 'Multicultural student neighbourhood', 0), ('7ab067a7-ece9-441b-a93d-c76c7c2d9855', 'M', 21, 'a2.a3.aa.ad.hc.m3.ma.me', 'EN6 2', 'POTTERS BAR', 42, 'Active', '2', '07', '02', '0', '1', '11', '3', '06', '0', '0', '0', '4', 48800, 'C', '4', 0, 0, 0, 0, '[{\"id\":\"DATING SHOWS\",\"ranking\":\"1\"},{\"id\":\"FACTUAL ENTERTAINMENT\",\"ranking\":\"2\"}]', None, Decimal('12420.8230000000'), Decimal('0.0000'), 'EN6_2', 'EN6_2', 'Suburbanites', 'Suburban achievers', 'Indian tech achievers', 1), ('a42571e2-9132-4948-8f3a-02cd72b71126', 'F', 69, 'ad.axa.hw.wo', 'DE24 0', 'DERBY', 194, 'Inactive', '5', '08', '02', '1', '0', '11', '2', '12', '5', '1', '1', '2', 23600, 'K', '0', 0, 0, 0, 0, '[{\"id\":\"CRIME AND THRILLERS\",\"ranking\":\"1\"}]', None, Decimal('2556.9640000000'), Decimal('0.0000'), 'DE24_0', 'DE24_0', 'Hard-pressed living', 'Migration and churn', 'Hard-pressed ethnic mix', 0), ('0c0bc8e8-fb57-4699-aa4d-4f231db77d84', 'M', 19, 'a2.a3.aa.ad.m3.ma.me', 'BD20 5', 'KEIGHLEY', 41, 'Active', '2', '10', '08', '0', '0', '11', '3', '08', '0', '0', '0', '3', 34200, 'K', '3', 0, 0, 0, 0, '[{\"id\":\"DATING SHOWS\",\"ranking\":\"1\"},{\"id\":\"FACTUAL ENTERTAINMENT\",\"ranking\":\"2\"}]', Decimal('2835.5690000000'), Decimal('2951.3890000000'), Decimal('0.4899'), 'BD20_5', 'BD20_5', 'Suburbanites', 'Semi-detached suburbia', 'White suburban communities', 0), ('fbf929e6-7aee-4886-a919-773a32318695', 'F', 66, 'ad.axa.wo', 'RG5 4', 'READING', 6, 'Active', '5', '08', '00', '1', '0', '04', '2', '12', '5', '1', '1', '2', 25600, 'O', '0', 0, 0, 0, 0, '[{\"id\":\"LONG-RUNNING DRAMA\",\"ranking\":\"1\"}]', Decimal('620.1190000000'), Decimal('2608.6880000000'), Decimal('0.1920'), 'RG5_4', 'RG5_4', 'Suburbanites', 'Suburban achievers', 'Indian tech achievers', 0), ('c2c53eaa-b3f7-46b5-b623-fbb0c6b35918', 'F', 24, 'a2.a3.aa.ad.h5.ha.hw.w3.wa.wo', 'WN5 7', 'WIGAN', 1, 'Active', '4', '05', '10', '0', '0', '11', '5', '09', '0', '1', '0', '4', 46400, 'F', '0', 0, 0, 0, 0, '[{\"id\":\"DATING SHOWS\",\"ranking\":\"1\"},{\"id\":\"FACTUAL ENTERTAINMENT\",\"ranking\":\"2\"}]', Decimal('2932.0770000000'), Decimal('61659.2960000000'), Decimal('0.0453'), 'WN5_7', 'WN5_7', 'Suburbanites', 'Semi-detached suburbia', 'Semi-detached ageing', 0), ('6186f7b4-0e7f-44b6-9e60-73f19f674db8', 'F', None, 'ad.axa.wo', 'CF37 5', 'PONTYPRIDD', 1, 'Active', '1', '06', '03', '1', '0', '02', '3', '03', '1', '1', '0', '3', 34500, 'A', '1', 0, 0, 0, 0, '[{\"id\":\"DATING SHOWS\",\"ranking\":\"1\"},{\"id\":\"FACTUAL ENTERTAINMENT\",\"ranking\":\"2\"}]', Decimal('6299.4170000000'), Decimal('64947.9930000000'), Decimal('0.0884'), 'CF37_5', 'CF37_5', 'Hard-pressed living', 'Hard pressed ageing workers', 'Renting hard-pressed workers', 0), ('646dd96a-57ee-4e65-bdb5-28b137f870dc', 'M', 58, 'ad.axa.me', 'B72 1', 'SUTTON COLDFIELD', 9, 'Active', '4', '08', '01', '1', '0', '11', '3', '09', '4', '0', '1', '5', 50500, 'J', '4', 0, 0, 0, 0, '[{\"id\":\"LONG-RUNNING DRAMA\",\"ranking\":\"1\"}]', Decimal('5443.0080000000'), Decimal('13258.9460000000'), Decimal('0.2910'), 'B72_1', 'B72_1', 'Suburbanites', 'Suburban achievers', 'Indian tech achievers', 0), ('25f9d6c1-591f-48e8-84c7-978288909750', 'F', None, 'a2.a3.aa.ad.h5.ha.hw.w3.wa.wo', 'KT19 8', 'EPSOM', 14, 'Active', '4', '08', '01', '0', '0', '11', '4', '09', '0', '1', '0', '8', 105000, 'B', '1', 0, 0, 0, 0, '[{\"id\":\"DATING SHOWS\",\"ranking\":\"1\"},{\"id\":\"FACTUAL ENTERTAINMENT\",\"ranking\":\"2\"}]', Decimal('8699.9150000000'), Decimal('64314.9240000000'), Decimal('0.1191'), 'KT19_8', 'KT19_8', 'Urbanites', 'Urban professionals and families', 'Multi-ethnic professionals with families', 0), ('df6d3985-f15f-4609-a013-28a02c49c0b3', 'M', 21, 'a2.a3.ad.axa.hc.m3.me', 'L22 9', 'LIVERPOOL', 38, 'Active', '3', '07', '01', '0', '1', '11', '3', '09', '0', '0', '0', '4', 43700, 'D', '0', 0, 0, 0, 0, '[{\"id\":\"SITUATION COMEDY\",\"ranking\":\"1\"}]', Decimal('6117.2350000000'), Decimal('6410.8880000000'), Decimal('0.4882'), 'L22_9', 'L22_9', 'Urbanites', 'Urban professionals and families', 'Families in terraces and flats', 1), ('73f6e96c-0860-41d7-b27c-c55d82ddba39', 'M', 55, 'ad.axa.h5.hw.me', 'TS22 5', 'BILLINGHAM', 8, 'Active', '3', '01', '04', '1', '0', '11', '3', '10', '3', '0', '0', '2', 21700, 'H', '3', 0, 0, 0, 0, '[{\"id\":\"FACTUAL ENTERTAINMENT\",\"ranking\":\"1\"},{\"id\":\"REAL LIVES\",\"ranking\":\"2\"}]', Decimal('24870.6510000000'), Decimal('113677.6610000000'), Decimal('0.1795'), 'TS22_5', 'TS22_5', 'Suburbanites', 'Semi-detached suburbia', 'Semi-detached ageing', 0), ('1b573c78-ae55-4689-b885-7ef863e7cd4d', 'F', 41, 'ad.axa.h5.hc.hw.wo', 'CM3 5', 'CHELMSFORD', 40, 'Active', '2', '04', '05', '1', '1', '06', '2', '07', '2', '1', '0', '4', 42100, 'C', '5', 0, 0, 0, 0, '[{\"id\":\"PERIOD AND HISTORICAL\",\"ranking\":\"1\"},{\"id\":\"FAMILY DRAMA\",\"ranking\":\"2\"}]', Decimal('13711.0140000000'), Decimal('30001.0410000000'), Decimal('0.3136'), 'CM3_5', 'CM3_5', 'Suburbanites', 'Semi-detached suburbia', 'White suburban communities', 1), ('4e216584-7e71-4863-ba6c-f71e7db48271', 'M', None, 'ad.axa.me', 'PE33 0', \"KING'S LYNN\", 218, 'Active', '4', '08', '01', '1', '0', '04', '2', '09', '4', '0', '1', '2', 26000, 'K', '2', 0, 0, 0, 0, '[{\"id\":\"LONG-RUNNING DRAMA\",\"ranking\":\"1\"}]', None, Decimal('47.4970000000'), Decimal('0.0000'), 'PE33_0', 'PE33_0', 'Rural residents', 'Rural tenants', 'Rural life', 0), ('8261dc8f-1a78-4fac-9de0-634388f18df9', 'F', 23, 'a2.a3.aa.ad.h5.ha.hc.hw.w3.wa.wo', 'SO22 5', 'WINCHESTER', 181, 'Inactive', '3', '07', '01', '0', '1', '11', '3', '09', '0', '1', '0', '9', 150000, 'B', '0', 0, 0, 0, 0, '[{\"id\":\"CRIME AND THRILLERS\",\"ranking\":\"1\"},{\"id\":\"MEDICAL\",\"ranking\":\"2\"}]', Decimal('5115.3330000000'), Decimal('2703.2090000000'), Decimal('0.6542'), 'SO22_5', 'SO22_5', 'Urbanites', 'Ageing urban living', 'Communal retirement', 1), ('f3d78df8-d7a5-44bb-8db1-b9665c29acfa', 'M', 51, 'aa.ad.ma.me', 'PO30 5', 'NEWPORT', 181, 'Inactive', '3', '10', '08', '1', '0', '07', '3', '11', '3', '0', '0', '3', 36900, 'J', '4', 0, 0, 0, 0, '[{\"id\":\"CRIME AND THRILLERS\",\"ranking\":\"1\"},{\"id\":\"MEDICAL\",\"ranking\":\"2\"}]', None, Decimal('11.4940000000'), Decimal('0.0000'), 'PO30_5', 'PO30_5', 'Urbanites', 'Ageing urban living', 'Communal retirement', 0), ('3241ca7a-d42a-44e1-84d7-e3c65fc008ee', 'M', 55, 'ad.me', 'S18 2', 'DRONFIELD', 58, 'Active', '3', '07', '00', '1', '0', '02', '3', '09', '3', '0', '1', '5', 54200, 'K', '4', 0, 0, 0, 0, '[{\"id\":\"SITUATION COMEDY\",\"ranking\":\"1\"},{\"id\":\"CLASSIC COMEDY\",\"ranking\":\"2\"}]', Decimal('10835.4340000000'), Decimal('105789.1380000000'), Decimal('0.0929'), 'S18_2', 'S18_2', 'Suburbanites', 'Suburban achievers', 'Detached retirement living', 0), ('124c9216-2b2c-4680-b2f3-6f8d439b2f86', 'M', 75, 'aa.ad.ha.hw.ma.me', 'CW8 3', 'NORTHWICH', 3, 'Active', '5', '08', '00', '1', '0', '11', '3', '12', '5', '0', '1', '3', 31800, 'M', '3', 0, 0, 0, 0, '[{\"id\":\"LONG-RUNNING DRAMA\",\"ranking\":\"1\"}]', Decimal('54403.7960000000'), Decimal('319895.1200000000'), Decimal('0.1453'), 'CW8_3', 'CW8_3', 'Hard-pressed living', 'Industrious communities', 'Industrious transitions', 0), ('910174c8-40de-4dc3-a04c-ac5c3eab46a4', 'M', 70, 'aa.ad.ma.me', 'RG17 9', 'HUNGERFORD', 2, 'Active', '5', '08', '00', '1', '0', '11', '5', '12', '5', '0', '1', '6', 62500, 'M', '5', 0, 0, 0, 0, '[{\"id\":\"DOCUMENTARY\",\"ranking\":\"1\"},{\"id\":\"REAL LIVES\",\"ranking\":\"2\"}]', None, Decimal('2739.0000000000'), Decimal('0.0000'), 'RG17_9', 'RG17_9', 'Rural residents', 'Rural tenants', 'Rural white-collar workers', 0), ('980f3aef-5b00-4a08-bcad-08d07479d47c', 'F', 32, 'a3.ad.axa.hc.w3.wo', 'E7 8', 'London', 3, 'Active', '5', '11', '08', '0', '1', '11', '4', '14', '1', '1', '0', '3', 31000, 'I', '1', 0, 0, 0, 0, '[{\"id\":\"LONG-RUNNING DRAMA\",\"ranking\":\"1\"}]', Decimal('60792.1190000000'), Decimal('201454.1640000000'), Decimal('0.2318'), 'E7_8', 'E7_8', 'Multicultural metropolitans', 'Challenged Asian terraces', 'Asian terraces and flats', 1), ('d6b505b5-5d4e-4c93-88e1-346bc8953bf4', 'F', None, 'ad.axa.hw.wo', 'NN11 0', 'DAVENTRY', 141, 'Inactive', '5', '05', '05', '1', '0', '02', '4', '13', '5', '1', '0', '4', 40300, 'C', '1', 0, 0, 0, 0, '[{\"id\":\"CRIME AND THRILLERS\",\"ranking\":\"1\"}]', None, Decimal('28305.5280000000'), Decimal('0.0000'), 'NN11_0', 'NN11_0', 'Suburbanites', 'Semi-detached suburbia', 'White suburban communities', 0), ('be1c04f9-7507-4689-a7e7-b5f38c9f6f9b', 'M', 36, 'ad.me', 'AB21 9', 'ABERDEEN', 155, 'Active', '1', '09', '08', '1', '0', '05', '2', '05', '1', '0', '0', '3', 36700, 'A', '2', 0, 0, 0, 0, '[{\"id\":\"FACTUAL ENTERTAINMENT\",\"ranking\":\"1\"},{\"id\":\"REAL LIVES\",\"ranking\":\"2\"}]', None, Decimal('5209.3320000000'), Decimal('0.0000'), 'AB21_9', 'AB21_9', 'Hard-pressed living', 'Challenged terraced workers', 'Hard pressed rented terraces', 0), ('ae858aa1-f306-43ac-adca-ed5c9ecf5437', 'F', 47, 'aa.ad.h5.ha.hc.hw.wa.wo', 'ST4 5', 'STOKE-ON-TRENT', 62, 'Active', '3', '07', '01', '1', '1', '11', '2', '09', '3', '1', '1', '3', 35700, 'D', '1', 0, 0, 0, 0, '[{\"id\":\"CHAT AND MAGAZINE\",\"ranking\":\"1\"},{\"id\":\"CELEBRITIES\",\"ranking\":\"2\"}]', None, Decimal('1651.5050000000'), Decimal('0.0000'), 'ST4_5', 'ST4_5', 'Hard-pressed living', 'Industrious communities', 'Industrious hardship', 1), ('94a3b8fe-92d8-48ba-861f-6eb4b1be7aae', 'F', 62, 'ad.axa.hw.wo', 'BT28 3', 'LISBURN', 175, 'Inactive', '4', '05', '05', '1', '0', '11', '3', '10', '4', '1', '0', '0', 13700, 'H', '1', 0, 0, 0, 0, '[{\"id\":\"CRIME AND THRILLERS\",\"ranking\":\"1\"}]', None, Decimal('2779.1880000000'), Decimal('0.0000'), 'BT28_3', 'BT28_3', 'Suburbanites', 'Semi-detached suburbia', 'Older workers and retirement', 0), ('adf54898-8a97-4299-88c9-35a5a8d02436', 'F', 42, 'ad.axa.hc.wo', 'BD15 7', 'BRADFORD', 21, 'Active', '2', '10', '08', '1', '1', '11', '3', '08', '2', '1', '0', '1', 16200, 'E', '2', 0, 0, 0, 0, '[{\"id\":\"DATING SHOWS\",\"ranking\":\"1\"},{\"id\":\"FACTUAL ENTERTAINMENT\",\"ranking\":\"2\"}]', Decimal('4066.1830000000'), Decimal('17344.2130000000'), Decimal('0.1899'), 'BD15_7', 'BD15_7', 'Multicultural metropolitans', 'Rented family living', 'Social renting young families', 1), ('c1a6ee78-3624-449d-8b9e-2b0f945d9f32', 'F', 22, 'a2.a3.aa.ad.h5.ha.hw.w3.wa.wo', 'HA6 1', 'NORTHWOOD', 7, 'Active', '0', '09', '08', '0', '0', '06', '4', '02', '0', '1', '0', '7', 73900, 'G', '1', 0, 0, 0, 0, '[{\"id\":\"DATING SHOWS\",\"ranking\":\"1\"},{\"id\":\"FACTUAL ENTERTAINMENT\",\"ranking\":\"2\"}]', Decimal('5761.1890000000'), Decimal('29345.4450000000'), Decimal('0.1641'), 'HA6_1', 'HA6_1', 'Multicultural metropolitans', 'Asian traits', 'Inner city ethnic mix', 0), ('d022677e-6b20-4605-afd7-4ad219b81696', 'F', 50, 'ad.axa.h5.hw.wo', 'SL4 5', 'WINDSOR', 22, 'Active', '5', '08', '02', '1', '0', '11', '3', '12', '3', '1', '1', '3', 34400, 'N', '2', 0, 0, 0, 0, '[{\"id\":\"DOCUMENTARY\",\"ranking\":\"1\"},{\"id\":\"REAL LIVES\",\"ranking\":\"2\"}]', None, Decimal('4286.1570000000'), Decimal('0.0000'), 'SL4_5', 'SL4_5', 'Urbanites', 'Urban professionals and families', 'Multi-ethnic professionals with families', 0), ('71b9f80c-9be6-4da8-a0cc-9e283a9f2b78', 'F', 67, 'ad.axa.hw.wo', 'CO6 4', 'COLCHESTER', 13, 'Active', '5', '08', '00', '1', '0', '11', '2', '12', '4', '1', '1', '2', 22500, 'O', '0', 0, 0, 0, 0, '[{\"id\":\"TRAVEL, ADVENTURE AND EXPLORATION\",\"ranking\":\"1\"}]', None, Decimal('1338.5750000000'), Decimal('0.0000'), 'CO6_4', 'CO6_4', 'Rural residents', 'Farming communities', 'Established farming communities', 0), ('7f9b7292-b062-4b20-9b70-4f5ca0f669fe', 'M', 29, 'a3.ad.m3.me', 'CM24 8', 'STANSTED', 9, 'Active', '1', '06', '03', '1', '0', '03', '2', '03', '1', '0', '0', '5', 59100, 'A', '4', 0, 0, 0, 0, '[{\"id\":\"REAL LIVES\",\"ranking\":\"1\"},{\"id\":\"FACTUAL ENTERTAINMENT\",\"ranking\":\"2\"}]', None, Decimal('4737.3970000000'), Decimal('0.0000'), 'CM24_8', 'CM24_8', 'Urbanites', 'Urban professionals and families', 'Multi-ethnic professionals with families', 0), ('bd1eb8be-729c-4705-86bf-4a8d09d7c865', 'F', 57, 'ad.axa.hw.wo', 'WS3 4', 'WALSALL', 131, 'Inactive', '4', '05', '05', '1', '0', '02', '3', '10', '4', '1', '0', '3', 33200, 'H', '3', 0, 0, 0, 0, '[{\"id\":\"SITUATION COMEDY\",\"ranking\":\"1\"}]', None, Decimal('2888.5890000000'), Decimal('0.0000'), 'WS3_4', 'WS3_4', 'Hard-pressed living', 'Industrious communities', 'Industrious transitions', 0), ('79b5333e-bbe5-4fc0-aa81-6e15845f824e', 'F', 35, 'a3.aa.ad.hc.w3.wa.wo', 'BH11 8', 'BOURNEMOUTH', 3, 'Active', '1', '06', '00', '1', '1', '03', '1', '03', '1', '1', '1', '3', 35400, 'D', '1', 1, 0, 0, 0, '[{\"id\":\"LONG-RUNNING DRAMA\",\"ranking\":\"1\"}]', Decimal('7716.8120000000'), Decimal('224528.3190000000'), Decimal('0.0332'), 'BH11_8', 'BH11_8', 'Hard-pressed living', 'Hard pressed ageing workers', 'Ageing industrious workers', 1), ('9b46e683-1c3d-4111-8296-73f80f35a7fc', 'M', 23, 'a2.a3.ad.axa.m3.me', 'DE74 2', 'DERBY', 29, 'Active', '4', '08', '01', '0', '0', '07', '3', '09', '0', '0', '0', '4', 41600, 'D', '0', 0, 0, 0, 0, '[{\"id\":\"DOCUMENTARY\",\"ranking\":\"1\"}]', None, Decimal('2195.0950000000'), Decimal('0.0000'), 'DE74_2', 'DE74_2', 'Rural residents', 'Rural tenants', 'Rural life', 0), ('b266f0ab-d8a2-4c44-a317-1c4288edc7a6', 'F', 30, 'a3.ad.axa.h5.hc.hw.w3.wo', 'ME13 8', 'FAVERSHAM', 14, 'Active', '2', '10', '08', '1', '1', '11', '2', '08', '1', '1', '0', '2', 23800, 'E', '0', 0, 0, 0, 0, '[{\"id\":\"DATING SHOWS\",\"ranking\":\"1\"},{\"id\":\"FACTUAL ENTERTAINMENT\",\"ranking\":\"2\"}]', Decimal('42480.5370000000'), Decimal('173349.6270000000'), Decimal('0.1968'), 'ME13_8', 'ME13_8', 'Urbanites', 'Urban professionals and families', 'Families in terraces and flats', 1), ('74ea1331-c880-4ca5-ad36-fab2fa891c5e', 'F', 32, 'a3.aa.ad.h5.ha.hc.hw.w3.wa.wo', 'BS15 8', 'BRISTOL', 32, 'Active', '2', '07', '01', '0', '1', '11', '3', '06', '0', '1', '0', '4', 49300, 'D', '0', 0, 0, 0, 0, '[{\"id\":\"DATING SHOWS\",\"ranking\":\"1\"},{\"id\":\"FACTUAL ENTERTAINMENT\",\"ranking\":\"2\"}]', Decimal('7345.6490000000'), Decimal('50692.4540000000'), Decimal('0.1265'), 'BS15_8', 'BS15_8', 'Urbanites', 'Urban professionals and families', 'White professionals', 1), ('eb99b8ab-2b30-4879-a4cc-e04e67c18865', 'M', 49, 'ad.axa.h5.hw.me', 'LN4 4', 'LINCOLN', 32, 'Active', '3', '07', '00', '1', '0', '07', '3', '09', '3', '0', '1', '4', 43500, 'D', '3', 0, 0, 0, 0, '[{\"id\":\"LONG-RUNNING DRAMA\",\"ranking\":\"1\"}]', Decimal('17090.0420000000'), Decimal('28098.5680000000'), Decimal('0.3781'), 'LN4_4', 'LN4_4', 'Rural residents', 'Rural tenants', 'Rural life', 0), ('5c0d50ee-e95a-4296-ad22-012d09799542', 'M', 24, 'a2.a3.aa.ad.m3.ma.me', 'MK16 0', 'NEWPORT PAGNELL', 30, 'Active', '3', '07', '02', '0', '0', '10', '4', '09', '0', '0', '0', '7', 90500, 'B', '3', 0, 0, 0, 0, '[{\"id\":\"DATING SHOWS\",\"ranking\":\"1\"},{\"id\":\"FACTUAL ENTERTAINMENT\",\"ranking\":\"2\"}]', None, Decimal('10720.4330000000'), Decimal('0.0000'), 'MK16_0', 'MK16_0', 'Urbanites', 'Urban professionals and families', 'White professionals', 0), ('7c7ff1ea-f2cf-4fbe-a3c8-eeb5d6f43b62', 'M', 29, 'a3.ad.axa.m3.me', 'S26 5', 'SHEFFIELD', 26, 'Active', '3', '07', '02', '0', '0', '11', '3', '09', '1', '0', '0', '3', 33000, 'L', '2', 0, 0, 0, 0, '[{\"id\":\"MOTOR SPORT\",\"ranking\":\"1\"},{\"id\":\"SPORTS EVENT\",\"ranking\":\"2\"}]', Decimal('9534.7180000000'), Decimal('18254.9800000000'), Decimal('0.3431'), 'S26_5', 'S26_5', 'Rural residents', 'Rural tenants', 'Rural life', 0), ('757296ad-48e9-4b14-9055-a94ae54e9a17', 'M', 39, 'ad.axa.hc.me', 'MK4 3', 'MILTON KEYNES', 57, 'Active', '2', '07', '00', '1', '1', '07', '3', '06', '2', '0', '1', '7', 90000, 'B', '6', 3, 3, 0, 0, '[{\"id\":\"CHILDREN\\'S ANIMATION\",\"ranking\":\"1\"},{\"id\":\"CHILDREN\\'S ACTION AND ADVENTURE\",\"ranking\":\"2\"}]', None, Decimal('1596.9050000000'), Decimal('0.0000'), 'MK4_3', 'MK4_3', 'Urbanites', 'Urban professionals and families', 'Multi-ethnic professionals with families', 1), ('1e75014d-4ffe-466e-ab0e-367bfb0daa71', 'M', None, 'a2.a3.aa.ad.hc.m3.ma.me', 'NW11 9', 'LONDON', 20, 'Active', '4', '08', '01', '0', '1', '11', '5', '09', '0', '0', '0', '8', 137300, 'B', '3', 0, 0, 0, 0, '[{\"id\":\"DATING SHOWS\",\"ranking\":\"1\"},{\"id\":\"FACTUAL ENTERTAINMENT\",\"ranking\":\"2\"}]', Decimal('44594.6340000000'), Decimal('100338.4840000000'), Decimal('0.3076'), 'NW11_9', 'NW11_9', 'Multicultural metropolitans', 'Asian traits', 'Inner city ethnic mix', 1), ('dd18ff8a-bfe6-4779-94c4-585e0a044447', 'F', 30, 'a3.aa.ad.hc.w3.wa.wo', 'B33 9', 'BIRMINGHAM', 52, 'Active', '1', '06', '03', '1', '1', '05', '3', '03', '1', '1', '0', '3', 34300, 'E', '1', 0, 0, 0, 0, '[{\"id\":\"DATING SHOWS\",\"ranking\":\"1\"},{\"id\":\"FACTUAL ENTERTAINMENT\",\"ranking\":\"2\"}]', Decimal('1224.9630000000'), Decimal('18976.0620000000'), Decimal('0.0606'), 'B33_9', 'B33_9', 'Multicultural metropolitans', 'Rented family living', 'Social renting young families', 1), ('c9e3243e-6c9f-4804-b758-adae3512435a', 'M', 29, 'a3.aa.ad.hc.m3.ma.me', 'SW4 9', 'LONDON', 22, 'Active', '1', '06', '02', '1', '1', '08', '5', '03', '1', '0', '1', '9', 200700, 'B', '9', 0, 0, 0, 0, '[{\"id\":\"CYCLING\",\"ranking\":\"1\"},{\"id\":\"SPORTS EVENT\",\"ranking\":\"2\"}]', None, Decimal('14425.7240000000'), Decimal('0.0000'), 'SW4_9', 'SW4_9', 'Cosmopolitans', 'Aspiring and affluent', 'EU white-collar workers', 1), ('a90a0655-29be-4452-8006-a948acaa18f1', 'F', 28, 'a3.ad.axa.h5.hw.w3.wo', 'YO12 5', 'SCARBOROUGH', 7, 'Active', '3', '07', '02', '0', '0', '02', '2', '09', '1', '1', '0', '2', 27500, 'J', '0', 0, 0, 0, 0, '[{\"id\":\"DATING SHOWS\",\"ranking\":\"1\"},{\"id\":\"FACTUAL ENTERTAINMENT\",\"ranking\":\"2\"}]', Decimal('38127.3380000000'), Decimal('103513.4050000000'), Decimal('0.2691'), 'YO12_5', 'YO12_5', 'Urbanites', 'Ageing urban living', 'Self-sufficient retirement', 0), ('8bff2c12-e650-4c20-a3ba-2a85edbea5cc', 'F', 76, 'ad.axa.hw.wo', 'HX2 7', 'HALIFAX', 165, 'Inactive', '5', '08', '00', '1', '0', '11', '3', '12', '5', '1', '1', '2', 22100, 'N', '0', 0, 0, 0, 0, '[{\"id\":\"DATING SHOWS\",\"ranking\":\"1\"},{\"id\":\"QUIZ AND GAME SHOWS\",\"ranking\":\"2\"}]', Decimal('4447.5020000000'), Decimal('21769.5270000000'), Decimal('0.1696'), 'HX2_7', 'HX2_7', 'Urbanites', 'Urban professionals and families', 'White professionals', 0), ('4973f1bf-4d1e-49c5-a398-12e6f930fd22', 'M', 44, 'ad.axa.hc.me', 'NN4 9', 'NORTHAMPTON', 90, 'Active', '2', '07', '00', '1', '1', '11', '2', '06', '2', '0', '1', '3', 30800, 'E', '4', 0, 0, 0, 0, '[{\"id\":\"CRIME AND THRILLERS\",\"ranking\":\"1\"},{\"id\":\"SOCIAL DRAMA\",\"ranking\":\"2\"}]', None, Decimal('1324.2820000000'), Decimal('0.0000'), 'NN4_9', 'NN4_9', 'Suburbanites', 'Suburban achievers', 'Comfortable suburbia', 1), ('438d7140-69a8-4f45-a7d7-52d40d1cba1e', 'F', None, 'ad.axa.h5.hc.hw.wo', 'NP10 8', 'NEWPORT', 4, 'Active', '3', '07', '01', '0', '1', '11', '3', '09', '0', '1', '0', '1', 17800, 'E', '0', 0, 0, 3, 0, '[{\"id\":\"DATING SHOWS\",\"ranking\":\"1\"},{\"id\":\"FACTUAL ENTERTAINMENT\",\"ranking\":\"2\"}]', Decimal('35780.8230000000'), Decimal('84029.5810000000'), Decimal('0.2986'), 'NP10_8', 'NP10_8', 'Urbanites', 'Urban professionals and families', 'Multi-ethnic professionals with families', 1), ('4414a3dd-d3eb-4640-a5d3-a84c965f1d00', 'F', 78, 'aa.ad.ha.hw.wa.wo', 'NP25 4', 'MONMOUTH', 176, 'Inactive', '5', '08', '00', '1', '0', '11', '4', '12', '5', '1', '1', '2', 29400, 'M', '0', 0, 0, 0, 0, '[{\"id\":\"CRIME AND THRILLERS\",\"ranking\":\"1\"}]', None, Decimal('5293.1670000000'), Decimal('0.0000'), 'NP25_4', 'NP25_4', 'Rural residents', 'Farming communities', 'Rural workers and families', 0), ('d3ca16e2-089f-49a5-90eb-f6adf854721d', 'M', 61, 'ad.me', 'IP30 0', 'BURY ST. EDMUNDS', 12, 'Active', '4', '02', '04', '1', '0', '07', '4', '10', '4', '0', '0', '6', 62850, 'F', '4', 0, 0, 0, 0, '[{\"id\":\"CRIME AND THRILLERS\",\"ranking\":\"1\"}]', Decimal('8709.8540000000'), Decimal('48521.2930000000'), Decimal('0.1521'), 'IP30_0', 'IP30_0', 'Rural residents', 'Rural tenants', 'Rural life', 0), ('3cee032f-0152-4148-92df-6fc4d213ee93', 'F', 30, 'a3.ad.axa.h5.hw.w3.wo', 'RM19 1', 'PURFLEET', 112, 'Inactive', '4', '05', '10', '0', '0', '11', '2', '09', '1', '1', '0', '2', 27300, 'H', '3', 0, 0, 0, 0, '[{\"id\":\"LONG-RUNNING DRAMA\",\"ranking\":\"1\"}]', None, Decimal('2490.3630000000'), Decimal('0.0000'), 'RM19_1', 'RM19_1', 'Multicultural metropolitans', 'Rented family living', 'Commuters with young families', 0), ('f4c9ff38-6357-4c51-a60a-d09a9bb2ff4e', 'M', 30, 'a3.ad.m3.me', 'B24 0', 'BIRMINGHAM', 217, 'Inactive', '3', '07', '03', '1', '0', '11', '3', '09', '1', '0', '0', '2', 22600, 'L', '1', 0, 0, 0, 0, '[{\"id\":\"FACTUAL ENTERTAINMENT\",\"ranking\":\"1\"},{\"id\":\"CELEBRITIES\",\"ranking\":\"2\"}]', None, Decimal('13275.0900000000'), Decimal('0.0000'), 'B24_0', 'B24_0', 'Multicultural metropolitans', 'Rented family living', 'Social renting young families', 0), ('f4fe51c7-bcc8-4e4f-bb02-1e334bcb073c', 'M', 34, 'a3.ad.axa.h5.hw.m3.me', 'DN5 0', 'DONCASTER', 24, 'Active', '3', '10', '06', '0', '0', '11', '3', '11', '1', '0', '0', '3', 37100, 'H', '4', 0, 0, 0, 0, '[{\"id\":\"LONG-RUNNING DRAMA\",\"ranking\":\"1\"}]', Decimal('5920.3370000000'), Decimal('24999.3880000000'), Decimal('0.1914'), 'DN5_0', 'DN5_0', 'Hard-pressed living', 'Migration and churn', 'Young hard-pressed families', 0), ('03f689ca-d0f5-4773-af26-d50b9568f453', 'F', 57, 'aa.ad.ha.hw.wa.wo', 'NR11 7', 'NORWICH', 2, 'Active', '5', '08', '01', '1', '0', '11', '5', '12', '4', '1', '1', '6', 60200, 'F', '3', 0, 0, 0, 0, '[{\"id\":\"CRIME AND THRILLERS\",\"ranking\":\"1\"}]', None, Decimal('14951.1480000000'), Decimal('0.0000'), 'NR11_7', 'NR11_7', 'Rural residents', 'Farming communities', 'Agricultural communities', 0), ('45a4616c-206a-4625-b132-6a84188e2120', 'M', 24, 'a2.a3.ad.axa.m3.me', 'RM16 2', 'GRAYS', 20, 'Active', '4', '08', '01', '0', '0', '11', '3', '09', '0', '0', '0', '5', 58300, 'D', '6', 0, 0, 0, 0, '[{\"id\":\"DATING SHOWS\",\"ranking\":\"1\"},{\"id\":\"FACTUAL ENTERTAINMENT\",\"ranking\":\"2\"}]', Decimal('18747.7710000000'), Decimal('77219.2940000000'), Decimal('0.1953'), 'RM16_2', 'RM16_2', 'Suburbanites', 'Semi-detached suburbia', 'Multi-ethnic suburbia', 0), ('e73e584f-1307-4717-ae78-7eb4feb07b61', 'F', 65, 'ad.axa.wo', 'RM17 6', 'GRAYS', 2, 'Active', '4', '05', '05', '1', '0', '05', '1', '10', '4', '1', '0', '0', 4300, 'O', '0', 0, 0, 0, 0, '[{\"id\":\"FAMILY ENTERTAINMENT\",\"ranking\":\"1\"},{\"id\":\"QUIZ AND GAME SHOWS\",\"ranking\":\"2\"},{\"id\":\"CELEBRITIES\",\"ranking\":\"3\"}]', None, Decimal('4300.8570000000'), Decimal('0.0000'), 'RM17_6', 'RM17_6', 'Multicultural metropolitans', 'Rented family living', 'Private renting new arrivals', 0), ('d323a120-8b2a-44f8-a0b3-73a8729f5c9e', 'M', 33, 'a3.ad.axa.m3.me', 'NG7 4', 'NOTTINGHAM', 42, 'Active', '3', '01', '09', '0', '0', '11', '1', '09', '1', '0', '0', '0', 10900, 'J', '0', 0, 0, 0, 0, '[{\"id\":\"DATING SHOWS\",\"ranking\":\"1\"},{\"id\":\"FACTUAL ENTERTAINMENT\",\"ranking\":\"2\"}]', None, Decimal('6253.9600000000'), Decimal('0.0000'), 'NG7_4', 'NG7_4', 'Ethnicity central', 'Ethnic family life', 'Young families and students', 0), ('d9e27b9b-306b-4757-bbbc-08a04100d442', 'F', 39, 'ad.wo', 'HD4 6', 'HUDDERSFIELD', 113, 'Active', '4', '11', '07', '0', '0', '11', '2', '11', '2', '1', '0', '2', 20600, 'H', '3', 0, 0, 0, 0, '[{\"id\":\"CRIME AND THRILLERS\",\"ranking\":\"1\"}]', None, Decimal('19444.5240000000'), Decimal('0.0000'), 'HD4_6', 'HD4_6', 'Rural residents', 'Rural tenants', 'Rural white-collar workers', 0), ('c15b8a62-b3d8-4fd2-adcb-af176067e29c', 'M', 30, 'a3.ad.axa.hc.m3.me', 'WS5 4', 'WALSALL', 160, 'Active', '3', '07', '01', '0', '1', '11', '3', '09', '0', '0', '0', '2', 24300, 'E', '0', 0, 0, 0, 0, '[{\"id\":\"FACTUAL ENTERTAINMENT\",\"ranking\":\"1\"},{\"id\":\"REAL LIVES\",\"ranking\":\"2\"}]', None, Decimal('1485.0000000000'), Decimal('0.0000'), 'WS5_4', 'WS5_4', 'Multicultural metropolitans', 'Asian traits', 'Achieving minorities', 1), ('8be13110-a63c-4418-a00b-6719e08eacd7', 'M', 44, 'aa.ad.hc.ma.me', 'SN11 0', 'CALNE', 40, 'Active', '2', '07', '01', '1', '1', '08', '4', '06', '2', '0', '1', '7', 99800, 'B', '8', 0, 0, 0, 0, '[{\"id\":\"DATING SHOWS\",\"ranking\":\"1\"},{\"id\":\"FACTUAL ENTERTAINMENT\",\"ranking\":\"2\"}]', None, Decimal('11402.3540000000'), Decimal('0.0000'), 'SN11_0', 'SN11_0', 'Suburbanites', 'Semi-detached suburbia', 'White suburban communities', 1), ('4168c04a-fa62-4a7c-ba0c-cbd156201da1', 'F', 32, 'a3.ad.axa.h5.hc.hw.w3.wo', 'S2 2', 'Sheffield', 1, 'Active', '1', '06', '03', '1', '1', '04', '3', '03', '1', '1', '0', '1', 16400, 'E', '0', 41, 580, 0, 0, '[{\"id\":\"LONG-RUNNING DRAMA\",\"ranking\":\"1\"}]', Decimal('178127.9290000000'), Decimal('800186.0990000000'), Decimal('0.1820'), 'S2_2', 'S2_2', 'Multicultural metropolitans', 'Rented family living', 'Social renting young families', 1), ('60d05825-7b29-49b1-845f-8ad99e4fc329', 'F', 60, 'ad.axa.hw.wo', 'PR6 9', 'CHORLEY', 1, 'Active', '4', '05', '05', '1', '0', '11', '3', '10', '4', '1', '0', '2', 20000, 'K', '3', 4, 0, 0, 0, '[{\"id\":\"LONG-RUNNING DRAMA\",\"ranking\":\"1\"}]', Decimal('11216.2390000000'), Decimal('418995.8720000000'), Decimal('0.0260'), 'PR6_9', 'PR6_9', 'Suburbanites', 'Semi-detached suburbia', 'White suburban communities', 0), ('e25bd9f4-723b-42d9-b430-8665938490b8', 'F', 48, 'ad.wo', 'BN1 4', 'Brighton', 179, 'Inactive', '4', '08', '02', '0', '0', '06', '3', '09', '3', '1', '0', '7', 73600, 'G', '4', 0, 0, 0, 0, '[{\"id\":\"CRIME AND THRILLERS\",\"ranking\":\"1\"}]', None, Decimal('2890.4990000000'), Decimal('0.0000'), 'BN1_4', 'BN1_4', 'Cosmopolitans', 'Students around campus', 'Students and professionals', 0), ('2d782643-e111-4a75-8bbb-40cdc04d574d', 'F', 29, 'a3.ad.axa.h5.hw.w3.wo', 'CW12 1', 'CONGLETON', 2, 'Active', '1', '06', '02', '1', '0', '06', '3', '03', '1', '1', '1', '4', 42300, 'J', '1', 0, 0, 0, 0, '[{\"id\":\"FACTUAL ENTERTAINMENT\",\"ranking\":\"1\"},{\"id\":\"REAL LIVES\",\"ranking\":\"2\"}]', Decimal('422.9550000000'), Decimal('130944.0260000000'), Decimal('0.0032'), 'CW12_1', 'CW12_1', 'Constrained city dwellers', 'Challenged diversity', 'Hampered aspiration', 0), ('d10fe00d-882a-4649-8efa-cea72b2a03a5', 'M', 66, 'ad.me', 'LA18 4', 'MILLOM', 46, 'Active', '4', '08', '02', '1', '0', '10', '4', '09', '4', '0', '1', '3', 34100, 'I', '3', 0, 0, 0, 0, '[{\"id\":\"LONG-RUNNING DRAMA\",\"ranking\":\"1\"}]', Decimal('7140.6720000000'), Decimal('6672.9100000000'), Decimal('0.5169'), 'LA18_4', 'LA18_4', 'Hard-pressed living', 'Challenged terraced workers', 'Deprived blue-collar terraces', 0), ('5c44e4a7-d076-4a72-a675-e93fe9dc004c', 'M', 25, 'a2.a3.aa.ad.m3.ma.me', 'S60 3', 'ROTHERHAM', 1, 'Active', '4', '08', '02', '0', '0', '11', '5', '09', '0', '0', '0', '8', 114000, 'F', '3', 0, 0, 0, 0, '[{\"id\":\"DATING SHOWS\",\"ranking\":\"1\"},{\"id\":\"FACTUAL ENTERTAINMENT\",\"ranking\":\"2\"}]', Decimal('3146.1400000000'), Decimal('7667.8970000000'), Decimal('0.2909'), 'S60_3', 'S60_3', 'Suburbanites', 'Suburban achievers', 'Indian tech achievers', 0), ('3968d5db-4e68-422e-8946-f887331f98db', 'M', 40, 'aa.ad.hc.ma.me', 'SA31 3', 'CARMARTHEN', 14, 'Active', '2', '07', '00', '1', '1', '11', '4', '06', '2', '0', '1', '7', 77300, 'B', '6', 0, 0, 0, 0, '[{\"id\":\"DATING SHOWS\",\"ranking\":\"1\"},{\"id\":\"REAL LIVES\",\"ranking\":\"2\"}]', None, Decimal('7836.6090000000'), Decimal('0.0000'), 'SA31_3', 'SA31_3', 'Constrained city dwellers', 'Challenged diversity', 'Transitional Eastern European neighbourhood', 1), ('4d503005-6cca-4974-a8bb-d808b7465122', 'M', 67, 'ad.axa.me', 'BS27 3', 'CHEDDAR', 34, 'Active', '5', '08', '00', '1', '0', '11', '3', '12', '5', '0', '1', '3', 30600, 'K', '2', 0, 0, 0, 0, '[{\"id\":\"CRIME AND THRILLERS\",\"ranking\":\"1\"},{\"id\":\"SOCIAL DRAMA\",\"ranking\":\"2\"}]', Decimal('3154.7770000000'), Decimal('12511.0270000000'), Decimal('0.2013'), 'BS27_3', 'BS27_3', 'Rural residents', 'Farming communities', 'Established farming communities', 0), ('64b74567-2f67-41aa-9a52-84cc470bed73', 'M', 47, 'aa.ad.hc.ma.me', 'SE15 1', 'LONDON', 52, 'Active', '3', '01', '04', '1', '1', '11', '2', '10', '3', '0', '0', '4', 43600, 'G', '5', 0, 0, 0, 0, '[{\"id\":\"SITUATION COMEDY\",\"ranking\":\"1\"},{\"id\":\"CRIME AND THRILLERS\",\"ranking\":\"2\"}]', Decimal('18562.8380000000'), Decimal('5076.9550000000'), Decimal('0.7852'), 'SE15_1', 'SE15_1', 'Ethnicity central', 'Endeavouring ethnic mix', 'Striving service workers', 1), ('7591a972-b3a0-4dad-8180-92d66e09e9e6', 'M', 43, 'ad.axa.hc.me', 'SE3 9', 'LONDON', 36, 'Active', '2', '07', '01', '1', '1', '11', '3', '06', '2', '0', '1', '7', 91800, 'C', '7', 0, 0, 0, 0, '[{\"id\":\"FOOTBALL\",\"ranking\":\"1\"}]', None, Decimal('119.1080000000'), Decimal('0.0000'), 'SE3_9', 'SE3_9', 'Ethnicity central', 'Ethnic family life', 'Established renting families', 1), ('290b70c3-1dbe-445f-a44a-a88731a65bb0', 'M', 27, 'a3.ad.axa.hc.m3.me', 'CO5 8', 'COLCHESTER', 47, 'Active', '4', '08', '01', '0', '1', '11', '4', '09', '1', '0', '0', '4', 49900, 'D', '2', 0, 0, 0, 0, '[{\"id\":\"DATING SHOWS\",\"ranking\":\"1\"},{\"id\":\"FACTUAL ENTERTAINMENT\",\"ranking\":\"2\"}]', None, Decimal('1147.0180000000'), Decimal('0.0000'), 'CO5_8', 'CO5_8', 'Suburbanites', 'Suburban achievers', 'Detached retirement living', 1), ('1ec93c8f-a820-4d57-a5a3-12bd5f7a4536', 'M', 71, 'ad.me', 'CT5 4', 'WHITSTABLE', 192, 'Inactive', '5', '02', '04', '1', '0', '04', '3', '13', '5', '0', '0', '3', 34600, 'K', '4', 0, 0, 0, 0, '[{\"id\":\"CRIME AND THRILLERS\",\"ranking\":\"1\"}]', Decimal('615.9890000000'), Decimal('143.9040000000'), Decimal('0.8106'), 'CT5_4', 'CT5_4', 'Suburbanites', 'Suburban achievers', 'Detached retirement living', 0), ('c59c29db-eb73-4c45-b19c-3a0a4e716784', 'M', 26, 'a3.ad.axa.m3.me', 'DA12 1', 'GRAVESEND', 221, 'Inactive', '4', '08', '01', '0', '0', '11', '3', '09', '0', '0', '0', '4', 46100, 'I', '3', 0, 0, 0, 0, '[{\"id\":\"CURRENT AFFAIRS\",\"ranking\":\"1\"},{\"id\":\"BUSINESS AND CONSUMER\",\"ranking\":\"2\"}]', None, Decimal('490.3610000000'), Decimal('0.0000'), 'DA12_1', 'DA12_1', 'Multicultural metropolitans', 'Rented family living', 'Private renting new arrivals', 0), ('5c846797-b45a-42e0-96b1-5604eac7ea7d', 'M', 76, 'ad.me', 'CW10 9', 'MIDDLEWICH', 190, 'Active', '5', '02', '04', '1', '0', '01', '2', '13', '5', '0', '0', '0', 8597, 'O', '0', 0, 0, 0, 0, '[{\"id\":\"RUGBY UNION\",\"ranking\":\"1\"},{\"id\":\"SPORTS EVENT\",\"ranking\":\"2\"}]', None, Decimal('2917.9090000000'), Decimal('0.0000'), 'CW10_9', 'CW10_9', 'Urbanites', 'Urban professionals and families', 'White professionals', 0), ('252bb5f2-2c0d-4b01-bd1f-87ec7c177912', 'F', 45, 'ad.wo', 'BD4 0', 'BRADFORD', 43, 'Active', '3', '07', '02', '1', '0', '02', '2', '09', '2', '1', '1', '0', 13500, 'J', '1', 0, 0, 0, 0, '[{\"id\":\"FACTUAL ENTERTAINMENT\",\"ranking\":\"1\"},{\"id\":\"REAL LIVES\",\"ranking\":\"2\"}]', Decimal('20545.9520000000'), Decimal('19393.1470000000'), Decimal('0.5144'), 'BD4_0', 'BD4_0', 'Constrained city dwellers', 'Challenged diversity', 'Multi-ethnic hardship', 0), ('9ed8d72e-437c-452a-b855-b60b1f7ec35c', 'M', 46, 'aa.ad.hc.ma.me', 'PE10 9', 'BOURNE', 29, 'Active', '3', '07', '00', '1', '1', '11', '4', '09', '3', '0', '1', '5', 56193, 'K', '4', 0, 0, 0, 0, '[{\"id\":\"CRIME AND THRILLERS\",\"ranking\":\"1\"}]', Decimal('821.3440000000'), Decimal('42000.8810000000'), Decimal('0.0191'), 'PE10_9', 'PE10_9', 'Suburbanites', 'Suburban achievers', 'Detached retirement living', 1), ('cfde75ac-d5f5-4011-a90f-783f3d693249', 'M', 39, 'ad.axa.hc.me', 'NG11 8', 'NOTTINGHAM', 73, 'Active', '2', '07', '00', '1', '1', '11', '3', '06', '2', '0', '1', '3', 35600, 'D', '3', 0, 0, 0, 0, '[{\"id\":\"SITUATION COMEDY\",\"ranking\":\"1\"},{\"id\":\"CRIME AND THRILLERS\",\"ranking\":\"2\"}]', None, Decimal('1909.7470000000'), Decimal('0.0000'), 'NG11_8', 'NG11_8', 'Hard-pressed living', 'Migration and churn', 'Hard-pressed ethnic mix', 1), ('e63f3af0-0b38-4a72-a2d0-ffce001e04bc', 'M', 59, 'ad.axa.hw.me', 'LS14 1', 'LEEDS', 6, 'Active', '4', '08', '01', '1', '0', '11', '3', '09', '4', '0', '1', '2', 26000, 'L', '2', 0, 0, 0, 0, '[{\"id\":\"FACTUAL ENTERTAINMENT\",\"ranking\":\"1\"},{\"id\":\"REAL LIVES\",\"ranking\":\"2\"}]', Decimal('18.0630000000'), Decimal('41.3090000000'), Decimal('0.3042'), 'LS14_1', 'LS14_1', 'Constrained city dwellers', 'Challenged diversity', 'Multi-ethnic hardship', 0), ('b4cc1288-4b25-4ebe-b779-b160a555f6f5', 'F', 31, 'a3.aa.ad.h5.ha.hc.hw.w3.wa.wo', 'ME7 3', 'GILLINGHAM', 15, 'Active', '1', '03', '05', '1', '1', '04', '2', '04', '1', '1', '0', '4', 41400, 'A', '5', 0, 0, 0, 0, '[{\"id\":\"US COMEDY\",\"ranking\":\"1\"},{\"id\":\"ADULT ANIMATION\",\"ranking\":\"2\"}]', Decimal('1235.0160000000'), Decimal('28457.2260000000'), Decimal('0.0415'), 'ME7_3', 'ME7_3', 'Suburbanites', 'Suburban achievers', 'Indian tech achievers', 1), ('3fd4936d-1cb9-43b1-91d0-62660639d9d1', 'F', 54, 'ad.wo', 'B77 1', 'TAMWORTH', 121, 'Inactive', '3', '07', '03', '1', '0', '04', '4', '09', '3', '1', '0', '3', 37400, 'G', '4', 0, 0, 0, 0, '[{\"id\":\"TALENT SHOWS\",\"ranking\":\"1\"},{\"id\":\"VARIETY\",\"ranking\":\"2\"},{\"id\":\"FAMILY ENTERTAINMENT\",\"ranking\":\"3\"}]', None, Decimal('28.0770000000'), Decimal('0.0000'), 'B77_1', 'B77_1', 'Suburbanites', 'Semi-detached suburbia', 'Semi-detached ageing', 0), ('60702e61-284b-4b28-b794-3463b1a61671', 'F', 71, 'ad.axa.hw.wo', 'NE28 6', 'WALLSEND', 3, 'Active', '5', '05', '05', '1', '0', '07', '3', '13', '5', '1', '0', '0', 13700, 'G', '1', 0, 0, 0, 0, '[{\"id\":\"CRIME AND THRILLERS\",\"ranking\":\"1\"}]', Decimal('30862.9290000000'), Decimal('27430.6710000000'), Decimal('0.5294'), 'NE28_6', 'NE28_6', 'Constrained city dwellers', 'Challenged diversity', 'Hampered aspiration', 0), ('15389a38-0b65-418f-9e63-915b67c59954', 'M', 54, 'ad.axa.hc.me', 'TA3 5', 'TAUNTON', 1, 'Active', '3', '07', '03', '1', '1', '11', '3', '09', '3', '0', '0', '4', 48000, 'K', '3', 1, 0, 0, 0, '[{\"id\":\"DATING SHOWS\",\"ranking\":\"1\"},{\"id\":\"FACTUAL ENTERTAINMENT\",\"ranking\":\"2\"}]', Decimal('61293.6090000000'), Decimal('172194.7180000000'), Decimal('0.2625'), 'TA3_5', 'TA3_5', 'Rural residents', 'Rural tenants', 'Rural life', 1), ('16ccd509-1c80-4479-bf98-42dcbebc7190', 'F', 20, 'a2.a3.ad.axa.hc.w3.wo', 'SN15 3', 'CHIPPENHAM', 12, 'Active', '3', '07', '02', '0', '1', '09', '3', '09', '0', '1', '0', '5', 56400, 'B', '0', 0, 0, 0, 0, '[{\"id\":\"CRIME AND THRILLERS\",\"ranking\":\"1\"}]', Decimal('42826.1690000000'), Decimal('75601.2800000000'), Decimal('0.3616'), 'SN15_3', 'SN15_3', 'Urbanites', 'Urban professionals and families', 'White professionals', 1), ('73eed0d0-264d-4d19-b81b-3d4f5438f3f0', 'M', 19, 'a2.a3.ad.m3.me', 'BH24 1', 'RINGWOOD', 206, 'Inactive', '3', '07', '03', '1', '0', '09', '3', '09', '0', '0', '0', '1', 19300, 'J', '2', 0, 0, 0, 0, '[{\"id\":\"REAL LIVES\",\"ranking\":\"1\"}]', None, Decimal('8314.2130000000'), Decimal('0.0000'), 'BH24_1', 'BH24_1', 'Urbanites', 'Ageing urban living', 'Self-sufficient retirement', 0), ('0e3ac07c-6094-4b72-afc7-a9e05e1fb94d', 'F', 38, 'aa.ad.h5.ha.hc.hw.wa.wo', 'SK12 2', 'STOCKPORT', 95, 'Inactive', '2', '07', '00', '1', '1', '02', '5', '06', '2', '1', '1', '9', 163600, 'F', '6', 0, 0, 0, 0, '[{\"id\":\"CRIME AND THRILLERS\",\"ranking\":\"1\"}]', None, Decimal('13075.2510000000'), Decimal('0.0000'), 'SK12_2', 'SK12_2', 'Urbanites', 'Urban professionals and families', 'White professionals', 1), ('22a17048-b590-4e8b-8538-f2428d0ca9af', 'F', 30, 'a3.ad.w3.wo', 'CR0 2', 'CROYDON', 85, 'Active', '1', '06', '03', '1', '0', '02', '2', '03', '1', '1', '0', '7', 81200, 'A', '4', 0, 0, 0, 0, '[{\"id\":\"TALENT SHOWS\",\"ranking\":\"1\"},{\"id\":\"VARIETY\",\"ranking\":\"2\"},{\"id\":\"FAMILY ENTERTAINMENT\",\"ranking\":\"3\"}]', None, Decimal('19801.1460000000'), Decimal('0.0000'), 'CR0_2', 'CR0_2', 'Ethnicity central', 'Ethnic family life', 'Young families and students', 0), ('dea6ca92-fa00-4542-a528-90ec56e18fc4', 'M', 67, 'ad.me', 'N8 0', 'London', 9, 'Active', '5', '02', '09', '1', '0', '02', '3', '12', '5', '0', '0', '4', 41500, 'B', '5', 0, 0, 0, 0, '[{\"id\":\"CRIME AND THRILLERS\",\"ranking\":\"1\"}]', Decimal('7269.7600000000'), Decimal('4178.3650000000'), Decimal('0.6350'), 'N8_0', 'N8_0', 'Ethnicity central', 'Aspirational techies', 'Established tech workers', 0), ('ae2bbc0f-70af-4c6a-8c7b-bfd32068feb7', 'M', 71, 'ad.axa.me', 'NG34 9', 'SLEAFORD', 64, 'Active', '5', '08', '00', '1', '0', '11', '2', '12', '5', '0', '1', '2', 26800, 'K', '2', 0, 0, 0, 0, '[{\"id\":\"TRAVEL, ADVENTURE AND EXPLORATION\",\"ranking\":\"1\"},{\"id\":\"DOCUMENTARY\",\"ranking\":\"2\"}]', None, Decimal('6916.2800000000'), Decimal('0.0000'), 'NG34_9', 'NG34_9', 'Rural residents', 'Rural tenants', 'Rural life', 0), ('f948ef91-b5df-45da-a093-c276811ecd53', 'F', 65, 'aa.ad.ha.hw.wa.wo', 'BS49 4', 'BRISTOL', 1, 'Active', '5', '08', '01', '1', '0', '11', '4', '12', '4', '1', '1', '5', 55100, 'B', '3', 0, 0, 0, 0, '[{\"id\":\"LONG-RUNNING DRAMA\",\"ranking\":\"1\"}]', Decimal('4165.1320000000'), Decimal('44424.0300000000'), Decimal('0.0857'), 'BS49_4', 'BS49_4', 'Urbanites', 'Urban professionals and families', 'White professionals', 0), ('f3009be1-df03-4ef3-ac23-c40d7d2dbbfc', 'F', 79, 'ad.axa.hw.wo', 'SO31 6', 'SOUTHAMPTON', 7, 'Active', '5', '05', '05', '1', '0', '11', '3', '13', '5', '1', '0', '1', 17300, 'N', '2', 0, 0, 0, 0, '[{\"id\":\"SOCIAL DRAMA\",\"ranking\":\"1\"}]', Decimal('10780.4040000000'), Decimal('42200.4960000000'), Decimal('0.2034'), 'SO31_6', 'SO31_6', 'Suburbanites', 'Semi-detached suburbia', 'White suburban communities', 0), ('3633f09f-5f19-451d-8a9f-da71a29210b6', 'M', 64, 'ad.axa.hw.me', 'DN15 7', 'SCUNTHORPE', 2, 'Active', '4', '02', '04', '1', '0', '11', '2', '10', '4', '0', '0', '0', 13900, 'N', '1', 0, 0, 0, 0, '[{\"id\":\"LONG-RUNNING DRAMA\",\"ranking\":\"1\"}]', None, Decimal('58687.9530000000'), Decimal('0.0000'), 'DN15_7', 'DN15_7', 'Multicultural metropolitans', 'Challenged Asian terraces', 'Pakistani communities', 0), ('0af8eb06-0c37-4e30-b1bf-b35685dfb4bf', 'M', 43, 'ad.axa.hc.me', 'CT20 1', 'FOLKESTONE', 181, 'Inactive', '2', '01', '04', '1', '1', '04', '1', '07', '2', '0', '0', '1', 16508, 'J', '1', 0, 0, 0, 0, '[{\"id\":\"TALENT SHOWS\",\"ranking\":\"1\"},{\"id\":\"FAMILY ENTERTAINMENT\",\"ranking\":\"2\"},{\"id\":\"MUSIC PROGRAMMES\",\"ranking\":\"3\"}]', None, Decimal('1781.4450000000'), Decimal('0.0000'), 'CT20_1', 'CT20_1', 'Constrained city dwellers', 'Challenged diversity', 'Hampered aspiration', 1), ('78584643-852f-4f5a-ba18-d3410140ef96', 'M', None, 'a2.a3.aa.ad.m3.ma.me', 'CH45 6', 'WALLASEY', 18, 'Active', '4', '08', '01', '0', '0', '11', '5', '09', '0', '0', '0', '6', 60400, 'C', '1', 0, 0, 0, 0, '[{\"id\":\"DATING SHOWS\",\"ranking\":\"1\"},{\"id\":\"FACTUAL ENTERTAINMENT\",\"ranking\":\"2\"}]', Decimal('2934.6880000000'), Decimal('13014.7000000000'), Decimal('0.1840'), 'CH45_6', 'CH45_6', 'Suburbanites', 'Semi-detached suburbia', 'Semi-detached ageing', 0), ('09282597-ab55-4b99-bfc4-017b797206f5', 'F', 52, 'ad.wo', 'NG8 2', 'NOTTINGHAM', 132, 'Inactive', '3', '04', '10', '0', '0', '04', '3', '09', '3', '1', '0', '5', 50100, 'B', '6', 0, 0, 0, 0, '[{\"id\":\"CRIME AND THRILLERS\",\"ranking\":\"1\"}]', Decimal('4162.1840000000'), Decimal('1400.7250000000'), Decimal('0.7482'), 'NG8_2', 'NG8_2', 'Suburbanites', 'Suburban achievers', 'Indian tech achievers', 0), ('5984b27a-3c79-41cb-b5a4-f30775fb6bfd', 'M', 31, 'a3.ad.m3.me', 'SY3 8', 'SHREWSBURY', 4, 'Active', '1', '09', '06', '0', '0', '06', '2', '05', '1', '0', '0', '1', 16600, 'J', '2', 0, 0, 0, 0, '[{\"id\":\"FACTUAL ENTERTAINMENT\",\"ranking\":\"1\"},{\"id\":\"REAL LIVES\",\"ranking\":\"2\"}]', Decimal('152614.3790000000'), Decimal('9500.5480000000'), Decimal('0.9413'), 'SY3_8', 'SY3_8', 'Suburbanites', 'Suburban achievers', 'Detached retirement living', 0), ('e99e5202-0e93-4e57-9edf-1dac9da3c36f', 'F', 81, 'ad.wo', 'NR13 4', 'NORWICH', 45, 'Active', '5', '05', '05', '1', '0', '04', '3', '13', '5', '1', '0', '0', 9000, 'N', '0', 0, 0, 0, 0, '[{\"id\":\"LONG-RUNNING DRAMA\",\"ranking\":\"1\"}]', Decimal('3923.2460000000'), Decimal('1213.3600000000'), Decimal('0.7637'), 'NR13_4', 'NR13_4', 'Rural residents', 'Rural tenants', 'Rural life', 0), ('401e0ae3-9723-406b-9c38-f483e7430030', 'F', 27, 'a3.ad.w3.wo', 'CO4 5', 'COLCHESTER', 16, 'Active', '1', '06', '03', '1', '0', '06', '2', '03', '1', '1', '0', '5', 52300, 'D', '2', 0, 0, 0, 0, '[{\"id\":\"DATING SHOWS\",\"ranking\":\"1\"},{\"id\":\"FACTUAL ENTERTAINMENT\",\"ranking\":\"2\"}]', Decimal('7887.3740000000'), Decimal('29077.6400000000'), Decimal('0.2133'), 'CO4_5', 'CO4_5', 'Urbanites', 'Urban professionals and families', 'Multi-ethnic professionals with families', 0), ('75d7166d-0e93-4e0f-8f1b-35a2f2301a62', 'F', 54, 'ad.axa.h5.hw.wo', 'PO36 8', 'SANDOWN', 1, 'Active', '3', '07', '00', '1', '0', '11', '2', '09', '3', '1', '1', '0', 9600, 'H', '0', 0, 0, 0, 0, '[{\"id\":\"CRIME AND THRILLERS\",\"ranking\":\"1\"}]', Decimal('10265.8030000000'), Decimal('257005.4300000000'), Decimal('0.0384'), 'PO36_8', 'PO36_8', 'Urbanites', 'Ageing urban living', 'Communal retirement', 0)]\n"
     ]
    }
   ],
   "source": [
    "print (next(my_results))"
   ]
  },
  {
   "cell_type": "code",
   "execution_count": 33,
   "metadata": {},
   "outputs": [],
   "source": [
    "# There are several things to note about the example above - especailly try - except - finally"
   ]
  },
  {
   "cell_type": "markdown",
   "metadata": {},
   "source": [
    "#### 1. Where can this be useful?"
   ]
  },
  {
   "cell_type": "code",
   "execution_count": null,
   "metadata": {},
   "outputs": [],
   "source": [
    "#big data sets, no need for locally saved csvs etc"
   ]
  },
  {
   "cell_type": "markdown",
   "metadata": {},
   "source": [
    "#### 2. What is wrong with this function? "
   ]
  },
  {
   "cell_type": "code",
   "execution_count": null,
   "metadata": {},
   "outputs": [],
   "source": [
    "#split up the function: connect, run query, close connection. Too much for one object, best practices."
   ]
  },
  {
   "cell_type": "markdown",
   "metadata": {},
   "source": [
    "#### Answer: it is doing too much. We need to split it up into what it is from what it does. \n",
    "\n",
    "#### We will learn how to do this next week. Next week - classes!"
   ]
  },
  {
   "cell_type": "markdown",
   "metadata": {},
   "source": [
    "# Your Home Work"
   ]
  },
  {
   "cell_type": "markdown",
   "metadata": {},
   "source": [
    "Write a generator function to produce an arithmetic progression between any given two numbers X and Y by a given constant C.\n",
    "\n",
    "For example, the following is an arithmetic progression between 10 and 22 by 2:\n",
    "\n",
    "10, 12, 14, 16, 18, 20, 22\n",
    "\n",
    "Handle a case when Y < X as an exception (either by using try - except) or by checking if Y<X and raising an exception like this:"
   ]
  },
  {
   "cell_type": "code",
   "execution_count": null,
   "metadata": {},
   "outputs": [],
   "source": [
    "if Y< X:\n",
    "    raise Exception(\"End must be greater than Start.\")"
   ]
  },
  {
   "cell_type": "code",
   "execution_count": 14,
   "metadata": {},
   "outputs": [],
   "source": [
    "def arithmetic_progression(X,Y,C):\n",
    "    if Y < X:\n",
    "        raise Exception(\"End must be greater than Start\")\n",
    "    X = X\n",
    "    while X <= Y-C:\n",
    "        yield X\n",
    "        X = X + C"
   ]
  },
  {
   "cell_type": "code",
   "execution_count": 15,
   "metadata": {},
   "outputs": [
    {
     "name": "stdout",
     "output_type": "stream",
     "text": [
      "[10, 12, 14, 16, 18, 20]\n"
     ]
    }
   ],
   "source": [
    "print ([i for i in arithmetic_progression(10, 22, 2)])"
   ]
  },
  {
   "cell_type": "code",
   "execution_count": 13,
   "metadata": {},
   "outputs": [
    {
     "ename": "Exception",
     "evalue": "End must be greater than Start",
     "output_type": "error",
     "traceback": [
      "\u001b[1;31m---------------------------------------------------------------------------\u001b[0m",
      "\u001b[1;31mException\u001b[0m                                 Traceback (most recent call last)",
      "\u001b[1;32m<ipython-input-13-d74fde785e1d>\u001b[0m in \u001b[0;36m<module>\u001b[1;34m()\u001b[0m\n\u001b[1;32m----> 1\u001b[1;33m \u001b[0mprint\u001b[0m \u001b[1;33m(\u001b[0m\u001b[1;33m[\u001b[0m\u001b[0mi\u001b[0m \u001b[1;32mfor\u001b[0m \u001b[0mi\u001b[0m \u001b[1;32min\u001b[0m \u001b[0marithmetic_progression\u001b[0m\u001b[1;33m(\u001b[0m\u001b[1;36m10\u001b[0m\u001b[1;33m,\u001b[0m \u001b[1;36m8\u001b[0m\u001b[1;33m,\u001b[0m \u001b[1;36m2\u001b[0m\u001b[1;33m)\u001b[0m\u001b[1;33m]\u001b[0m\u001b[1;33m)\u001b[0m\u001b[1;33m\u001b[0m\u001b[0m\n\u001b[0m",
      "\u001b[1;32m<ipython-input-13-d74fde785e1d>\u001b[0m in \u001b[0;36m<listcomp>\u001b[1;34m(.0)\u001b[0m\n\u001b[1;32m----> 1\u001b[1;33m \u001b[0mprint\u001b[0m \u001b[1;33m(\u001b[0m\u001b[1;33m[\u001b[0m\u001b[0mi\u001b[0m \u001b[1;32mfor\u001b[0m \u001b[0mi\u001b[0m \u001b[1;32min\u001b[0m \u001b[0marithmetic_progression\u001b[0m\u001b[1;33m(\u001b[0m\u001b[1;36m10\u001b[0m\u001b[1;33m,\u001b[0m \u001b[1;36m8\u001b[0m\u001b[1;33m,\u001b[0m \u001b[1;36m2\u001b[0m\u001b[1;33m)\u001b[0m\u001b[1;33m]\u001b[0m\u001b[1;33m)\u001b[0m\u001b[1;33m\u001b[0m\u001b[0m\n\u001b[0m",
      "\u001b[1;32m<ipython-input-11-f343e718f61b>\u001b[0m in \u001b[0;36marithmetic_progression\u001b[1;34m(X, Y, C)\u001b[0m\n\u001b[0;32m      1\u001b[0m \u001b[1;32mdef\u001b[0m \u001b[0marithmetic_progression\u001b[0m\u001b[1;33m(\u001b[0m\u001b[0mX\u001b[0m\u001b[1;33m,\u001b[0m\u001b[0mY\u001b[0m\u001b[1;33m,\u001b[0m\u001b[0mC\u001b[0m\u001b[1;33m)\u001b[0m\u001b[1;33m:\u001b[0m\u001b[1;33m\u001b[0m\u001b[0m\n\u001b[0;32m      2\u001b[0m     \u001b[1;32mif\u001b[0m \u001b[0mY\u001b[0m \u001b[1;33m<\u001b[0m \u001b[0mX\u001b[0m\u001b[1;33m:\u001b[0m\u001b[1;33m\u001b[0m\u001b[0m\n\u001b[1;32m----> 3\u001b[1;33m         \u001b[1;32mraise\u001b[0m \u001b[0mException\u001b[0m\u001b[1;33m(\u001b[0m\u001b[1;34m\"End must be greater than Start\"\u001b[0m\u001b[1;33m)\u001b[0m\u001b[1;33m\u001b[0m\u001b[0m\n\u001b[0m\u001b[0;32m      4\u001b[0m     \u001b[0mX\u001b[0m \u001b[1;33m=\u001b[0m \u001b[0mX\u001b[0m\u001b[1;33m\u001b[0m\u001b[0m\n\u001b[0;32m      5\u001b[0m     \u001b[1;32mwhile\u001b[0m \u001b[0mX\u001b[0m \u001b[1;33m<\u001b[0m \u001b[0mY\u001b[0m\u001b[1;33m:\u001b[0m\u001b[1;33m\u001b[0m\u001b[0m\n",
      "\u001b[1;31mException\u001b[0m: End must be greater than Start"
     ]
    }
   ],
   "source": [
    "print ([i for i in arithmetic_progression(10, 8, 2)])"
   ]
  },
  {
   "cell_type": "code",
   "execution_count": 16,
   "metadata": {},
   "outputs": [
    {
     "name": "stdout",
     "output_type": "stream",
     "text": [
      "[8, 8.15, 8.3, 8.450000000000001, 8.600000000000001, 8.750000000000002, 8.900000000000002, 9.050000000000002, 9.200000000000003, 9.350000000000003, 9.500000000000004, 9.650000000000004, 9.800000000000004]\n"
     ]
    }
   ],
   "source": [
    "print ([i for i in arithmetic_progression(8, 10, 0.15)])"
   ]
  },
  {
   "cell_type": "code",
   "execution_count": null,
   "metadata": {},
   "outputs": [],
   "source": []
  }
 ],
 "metadata": {
  "kernelspec": {
   "display_name": "Python 3",
   "language": "python",
   "name": "python3"
  },
  "language_info": {
   "codemirror_mode": {
    "name": "ipython",
    "version": 3
   },
   "file_extension": ".py",
   "mimetype": "text/x-python",
   "name": "python",
   "nbconvert_exporter": "python",
   "pygments_lexer": "ipython3",
   "version": "3.6.3"
  }
 },
 "nbformat": 4,
 "nbformat_minor": 2
}
