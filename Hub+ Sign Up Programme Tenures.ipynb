{
 "cells": [
  {
   "cell_type": "markdown",
   "metadata": {},
   "source": [
    "# Connect to SVV"
   ]
  },
  {
   "cell_type": "code",
   "execution_count": 1,
   "metadata": {},
   "outputs": [],
   "source": [
    "import psycopg2\n",
    "\n",
    "def get_svv_connection():\n",
    "    con = psycopg2.connect(dbname = 'svv', host ='svv-rs-prod-bi.cjddijbnvfpr.eu-west-1.redshift.amazonaws.com', \\\n",
    "                         port = 5439, user = 'ryanw', password = 'hT6Y3TeZZUFdvLj')\n",
    "    \n",
    "    return con"
   ]
  },
  {
   "cell_type": "markdown",
   "metadata": {},
   "source": [
    "# Import Pandas"
   ]
  },
  {
   "cell_type": "code",
   "execution_count": 2,
   "metadata": {},
   "outputs": [],
   "source": [
    "import pandas as pd"
   ]
  },
  {
   "cell_type": "markdown",
   "metadata": {},
   "source": [
    "# Query the Hub+ Sign-Up Tenure table in the Sandbox Schema"
   ]
  },
  {
   "cell_type": "code",
   "execution_count": 3,
   "metadata": {},
   "outputs": [],
   "source": [
    "query_data = \"Select * from sandbox.RW_hub_plus_sign_up_tenure\"\n",
    "\n",
    "df_tenure = pd.DataFrame()\n",
    "\n",
    "try: \n",
    "    con = get_svv_connection()\n",
    "\n",
    "    cur = con.cursor()\n",
    "    cur.execute(query_data)\n",
    "\n",
    "    colnames = [desc[0] for desc in cur.description]\n",
    "    df_tenure = pd.DataFrame(cur.fetchall(), columns=colnames)\n",
    "    \n",
    "except Exception as inst:\n",
    "    print(inst)\n",
    "finally:\n",
    "    cur.close()\n",
    "    con.close()"
   ]
  },
  {
   "cell_type": "markdown",
   "metadata": {},
   "source": [
    "# Check the Data Frame"
   ]
  },
  {
   "cell_type": "code",
   "execution_count": 4,
   "metadata": {},
   "outputs": [
    {
     "data": {
      "text/html": [
       "<div>\n",
       "<style scoped>\n",
       "    .dataframe tbody tr th:only-of-type {\n",
       "        vertical-align: middle;\n",
       "    }\n",
       "\n",
       "    .dataframe tbody tr th {\n",
       "        vertical-align: top;\n",
       "    }\n",
       "\n",
       "    .dataframe thead th {\n",
       "        text-align: right;\n",
       "    }\n",
       "</style>\n",
       "<table border=\"1\" class=\"dataframe\">\n",
       "  <thead>\n",
       "    <tr style=\"text-align: right;\">\n",
       "      <th></th>\n",
       "      <th>viewer_id</th>\n",
       "      <th>programme_title</th>\n",
       "      <th>tenure</th>\n",
       "    </tr>\n",
       "  </thead>\n",
       "  <tbody>\n",
       "    <tr>\n",
       "      <th>0</th>\n",
       "      <td>0005444f-379d-443c-8f5e-a75623cc1c2f</td>\n",
       "      <td>Love Island</td>\n",
       "      <td>2</td>\n",
       "    </tr>\n",
       "    <tr>\n",
       "      <th>1</th>\n",
       "      <td>00138feb-8226-4f9d-83ef-08cbd2612744</td>\n",
       "      <td>Love Island</td>\n",
       "      <td>1</td>\n",
       "    </tr>\n",
       "    <tr>\n",
       "      <th>2</th>\n",
       "      <td>00162477-b3df-43c3-bfda-89ca76680c80</td>\n",
       "      <td>Vanity Fair</td>\n",
       "      <td>2</td>\n",
       "    </tr>\n",
       "    <tr>\n",
       "      <th>3</th>\n",
       "      <td>0017cb1b-1e22-4628-8a7a-849b1be97f15</td>\n",
       "      <td>Love Island</td>\n",
       "      <td>2</td>\n",
       "    </tr>\n",
       "    <tr>\n",
       "      <th>4</th>\n",
       "      <td>001b6e58-2098-4102-9582-1b609d33e8eb</td>\n",
       "      <td>Love Island</td>\n",
       "      <td>4</td>\n",
       "    </tr>\n",
       "  </tbody>\n",
       "</table>\n",
       "</div>"
      ],
      "text/plain": [
       "                              viewer_id programme_title  tenure\n",
       "0  0005444f-379d-443c-8f5e-a75623cc1c2f     Love Island       2\n",
       "1  00138feb-8226-4f9d-83ef-08cbd2612744     Love Island       1\n",
       "2  00162477-b3df-43c3-bfda-89ca76680c80     Vanity Fair       2\n",
       "3  0017cb1b-1e22-4628-8a7a-849b1be97f15     Love Island       2\n",
       "4  001b6e58-2098-4102-9582-1b609d33e8eb     Love Island       4"
      ]
     },
     "execution_count": 4,
     "metadata": {},
     "output_type": "execute_result"
    }
   ],
   "source": [
    "df_tenure.head()"
   ]
  },
  {
   "cell_type": "markdown",
   "metadata": {},
   "source": [
    "# Check the Data Types"
   ]
  },
  {
   "cell_type": "code",
   "execution_count": 5,
   "metadata": {},
   "outputs": [
    {
     "data": {
      "text/plain": [
       "viewer_id          object\n",
       "programme_title    object\n",
       "tenure              int64\n",
       "dtype: object"
      ]
     },
     "execution_count": 5,
     "metadata": {},
     "output_type": "execute_result"
    }
   ],
   "source": [
    "df_tenure.dtypes"
   ]
  },
  {
   "cell_type": "markdown",
   "metadata": {},
   "source": [
    "# Re-set the Index as viewer_id"
   ]
  },
  {
   "cell_type": "code",
   "execution_count": 6,
   "metadata": {},
   "outputs": [],
   "source": [
    "df_tenure = df_tenure.set_index('viewer_id')"
   ]
  },
  {
   "cell_type": "markdown",
   "metadata": {},
   "source": [
    "# Group By the Programme Title and Calculate the mean of the Tenure"
   ]
  },
  {
   "cell_type": "code",
   "execution_count": 8,
   "metadata": {},
   "outputs": [
    {
     "data": {
      "text/plain": [
       "programme_title\n",
       "100 Year Old Driving School                                                  5.000000\n",
       "100 Years Younger in 21 Days                                                 6.159091\n",
       "2Awesome - Cheerleaders                                                      6.500000\n",
       "5 Gold Rings                                                                 1.545455\n",
       "A Christmas Chase: Celebrity Special                                         7.600000\n",
       "A Night for the Emergency Services                                           5.800000\n",
       "A Right Royal Quiz                                                           6.000000\n",
       "A Touch of Frost                                                             4.015686\n",
       "A Very Royal Wedding                                                         6.750000\n",
       "A and E Live                                                                 3.130952\n",
       "Absolutely Ascot                                                             1.062201\n",
       "Action Team                                                                  3.000000\n",
       "After The News                                                              11.000000\n",
       "Al Murray's Make Christmas Great Again                                       8.000000\n",
       "All Star Family Fortunes                                                     1.333333\n",
       "All Star Musicals                                                            6.058824\n",
       "All the Best From Denis Norden                                               1.000000\n",
       "Almost Naked Animals                                                         2.907692\n",
       "Am I a Murderer?                                                             1.117647\n",
       "American Dad!                                                                2.954365\n",
       "An Audience with...                                                          4.066667\n",
       "An Hour To Catch a Killer with Trevor McDonald                               3.151515\n",
       "Animanimals                                                                  1.400000\n",
       "Ant & Dec's Saturday Night Takeaway Presents... The Missing Crown Jewels     3.500000\n",
       "Ant & Dec's Saturday Night Takeaway Presents... Who Shot Simon Cowell        4.000000\n",
       "Ant and Dec's Saturday Night Takeaway                                        4.130597\n",
       "Appropriate Adult                                                            5.000000\n",
       "Atlanta Plastic                                                              3.083333\n",
       "Australian Wilderness with Ray Mears                                        10.666667\n",
       "BAMMA World Title Fight                                                      4.000000\n",
       "                                                                              ...    \n",
       "WOS Wrestling                                                                1.962264\n",
       "Weekender: Boat Party                                                        1.000000\n",
       "What Would Your Kid Do?                                                      4.416667\n",
       "When English Football Ruled Europe                                           2.722222\n",
       "When Football Changed Forever                                                3.500000\n",
       "Where the Heart Is                                                           4.000000\n",
       "White Right: Meeting the Enemy - Exposure                                    4.750000\n",
       "Who Killed Sharon Birchwood? Police Tapes                                    2.967742\n",
       "Who Wants to Be a Millionaire?                                               3.492647\n",
       "Who's Doing the Dishes                                                       2.982759\n",
       "Wild at Heart                                                                6.214286\n",
       "Wishfart                                                                     3.000000\n",
       "World Boxing Super Series                                                    5.375000\n",
       "World Boxing Super Series Support Shows                                      4.955224\n",
       "World Cup                                                                    2.810402\n",
       "World Cup Daily                                                              2.911049\n",
       "World Cup Highlights                                                         2.848485\n",
       "World Cup Qualifiers: Highlights                                             4.000000\n",
       "World Endurance Series                                                       6.000000\n",
       "World Rugby Sevens Series Highlights                                         2.600000\n",
       "World Superbike Highlights                                                   2.538462\n",
       "Wycliffe                                                                     9.428571\n",
       "You VS. Chris & Kem                                                          2.326923\n",
       "You're Only Young Twice                                                      4.187500\n",
       "You've Been Framed!                                                          5.894737\n",
       "Yummy Mummies                                                                4.076923\n",
       "Zoe Ball on...                                                               2.885714\n",
       "easyJet: Inside The Cockpit                                                  2.470588\n",
       "you've been t@gged                                                           3.228571\n",
       "£10k Holiday Home                                                            1.872727\n",
       "Name: tenure, Length: 576, dtype: float64"
      ]
     },
     "execution_count": 8,
     "metadata": {},
     "output_type": "execute_result"
    }
   ],
   "source": [
    "df_tenure.groupby('programme_title')['tenure'].mean()"
   ]
  },
  {
   "cell_type": "markdown",
   "metadata": {},
   "source": [
    "# Subset the Data Frame by the top 25 Programme Titles (in terms of users) and Calculate the mean of the Tenure"
   ]
  },
  {
   "cell_type": "code",
   "execution_count": 13,
   "metadata": {},
   "outputs": [],
   "source": [
    "df_tenure_li = df_tenure[df_tenure['programme_title'] == 'Love Island']"
   ]
  },
  {
   "cell_type": "code",
   "execution_count": 10,
   "metadata": {},
   "outputs": [
    {
     "data": {
      "text/plain": [
       "2.5026910799492974"
      ]
     },
     "execution_count": 10,
     "metadata": {},
     "output_type": "execute_result"
    }
   ],
   "source": [
    "df_tenure_li['tenure'].mean()"
   ]
  },
  {
   "cell_type": "code",
   "execution_count": 12,
   "metadata": {},
   "outputs": [],
   "source": [
    "df_tenure_cs = df_tenure[df_tenure['programme_title'] == 'Coronation Street']"
   ]
  },
  {
   "cell_type": "code",
   "execution_count": 14,
   "metadata": {},
   "outputs": [
    {
     "data": {
      "text/plain": [
       "3.3548119292419694"
      ]
     },
     "execution_count": 14,
     "metadata": {},
     "output_type": "execute_result"
    }
   ],
   "source": [
    "df_tenure_cs['tenure'].mean()"
   ]
  },
  {
   "cell_type": "code",
   "execution_count": 15,
   "metadata": {},
   "outputs": [],
   "source": [
    "df_tenure_em = df_tenure[df_tenure['programme_title'] == 'Emmerdale']"
   ]
  },
  {
   "cell_type": "code",
   "execution_count": 16,
   "metadata": {},
   "outputs": [
    {
     "data": {
      "text/plain": [
       "3.0444623161764706"
      ]
     },
     "execution_count": 16,
     "metadata": {},
     "output_type": "execute_result"
    }
   ],
   "source": [
    "df_tenure_em['tenure'].mean()"
   ]
  },
  {
   "cell_type": "code",
   "execution_count": 17,
   "metadata": {},
   "outputs": [],
   "source": [
    "df_tenure_towie = df_tenure[df_tenure['programme_title'] == 'The Only Way is Essex']"
   ]
  },
  {
   "cell_type": "code",
   "execution_count": 18,
   "metadata": {},
   "outputs": [
    {
     "data": {
      "text/plain": [
       "2.7696902654867257"
      ]
     },
     "execution_count": 18,
     "metadata": {},
     "output_type": "execute_result"
    }
   ],
   "source": [
    "df_tenure_towie['tenure'].mean()"
   ]
  },
  {
   "cell_type": "code",
   "execution_count": 19,
   "metadata": {},
   "outputs": [],
   "source": [
    "df_tenure_xf = df_tenure[df_tenure['programme_title'] == 'The X Factor']"
   ]
  },
  {
   "cell_type": "code",
   "execution_count": 20,
   "metadata": {},
   "outputs": [
    {
     "data": {
      "text/plain": [
       "1.8818807339449541"
      ]
     },
     "execution_count": 20,
     "metadata": {},
     "output_type": "execute_result"
    }
   ],
   "source": [
    "df_tenure_xf['tenure'].mean()"
   ]
  },
  {
   "cell_type": "code",
   "execution_count": 24,
   "metadata": {},
   "outputs": [],
   "source": [
    "df_tenure_bgt = df_tenure[df_tenure['programme_title'] == \"Britain's Got Talent\"]"
   ]
  },
  {
   "cell_type": "code",
   "execution_count": 25,
   "metadata": {},
   "outputs": [
    {
     "data": {
      "text/plain": [
       "3.494311494703805"
      ]
     },
     "execution_count": 25,
     "metadata": {},
     "output_type": "execute_result"
    }
   ],
   "source": [
    "df_tenure_bgt['tenure'].mean()"
   ]
  },
  {
   "cell_type": "code",
   "execution_count": 26,
   "metadata": {},
   "outputs": [],
   "source": [
    "df_tenure_fg = df_tenure[df_tenure['programme_title'] == 'Family Guy']"
   ]
  },
  {
   "cell_type": "code",
   "execution_count": 27,
   "metadata": {},
   "outputs": [
    {
     "data": {
      "text/plain": [
       "2.951912568306011"
      ]
     },
     "execution_count": 27,
     "metadata": {},
     "output_type": "execute_result"
    }
   ],
   "source": [
    "df_tenure_fg['tenure'].mean()"
   ]
  },
  {
   "cell_type": "code",
   "execution_count": 28,
   "metadata": {},
   "outputs": [],
   "source": [
    "df_tenure_lia = df_tenure[df_tenure['programme_title'] == 'Love Island: Australia']"
   ]
  },
  {
   "cell_type": "code",
   "execution_count": 29,
   "metadata": {},
   "outputs": [
    {
     "data": {
      "text/plain": [
       "1.8201471941122356"
      ]
     },
     "execution_count": 29,
     "metadata": {},
     "output_type": "execute_result"
    }
   ],
   "source": [
    "df_tenure_lia['tenure'].mean()"
   ]
  },
  {
   "cell_type": "code",
   "execution_count": 30,
   "metadata": {},
   "outputs": [],
   "source": [
    "df_tenure_rhoc = df_tenure[df_tenure['programme_title'] == 'The Real Housewives of Cheshire']"
   ]
  },
  {
   "cell_type": "code",
   "execution_count": 32,
   "metadata": {},
   "outputs": [
    {
     "data": {
      "text/plain": [
       "3.4003859141341053"
      ]
     },
     "execution_count": 32,
     "metadata": {},
     "output_type": "execute_result"
    }
   ],
   "source": [
    "df_tenure_rhoc['tenure'].mean()"
   ]
  },
  {
   "cell_type": "code",
   "execution_count": 33,
   "metadata": {},
   "outputs": [],
   "source": [
    "df_tenure_jk = df_tenure[df_tenure['programme_title'] == 'The Jeremy Kyle Show']"
   ]
  },
  {
   "cell_type": "code",
   "execution_count": 34,
   "metadata": {},
   "outputs": [
    {
     "data": {
      "text/plain": [
       "3.3092562867843767"
      ]
     },
     "execution_count": 34,
     "metadata": {},
     "output_type": "execute_result"
    }
   ],
   "source": [
    "df_tenure_jk['tenure'].mean()"
   ]
  },
  {
   "cell_type": "code",
   "execution_count": 35,
   "metadata": {},
   "outputs": [],
   "source": [
    "df_tenure_lif = df_tenure[df_tenure['programme_title'] == 'Love Island: Aftersun']"
   ]
  },
  {
   "cell_type": "code",
   "execution_count": 36,
   "metadata": {},
   "outputs": [
    {
     "data": {
      "text/plain": [
       "2.4349355216881596"
      ]
     },
     "execution_count": 36,
     "metadata": {},
     "output_type": "execute_result"
    }
   ],
   "source": [
    "df_tenure_lif['tenure'].mean()"
   ]
  },
  {
   "cell_type": "code",
   "execution_count": 37,
   "metadata": {},
   "outputs": [],
   "source": [
    "df_tenure_wc = df_tenure[df_tenure['programme_title'] == 'World Cup']"
   ]
  },
  {
   "cell_type": "code",
   "execution_count": 38,
   "metadata": {},
   "outputs": [
    {
     "data": {
      "text/plain": [
       "2.8104015799868334"
      ]
     },
     "execution_count": 38,
     "metadata": {},
     "output_type": "execute_result"
    }
   ],
   "source": [
    "df_tenure_wc['tenure'].mean()"
   ]
  },
  {
   "cell_type": "code",
   "execution_count": 39,
   "metadata": {},
   "outputs": [],
   "source": [
    "df_tenure_tdf = df_tenure[df_tenure['programme_title'] == 'Tour de France']"
   ]
  },
  {
   "cell_type": "code",
   "execution_count": 40,
   "metadata": {},
   "outputs": [
    {
     "data": {
      "text/plain": [
       "2.353541076487252"
      ]
     },
     "execution_count": 40,
     "metadata": {},
     "output_type": "execute_result"
    }
   ],
   "source": [
    "df_tenure_tdf['tenure'].mean()"
   ]
  },
  {
   "cell_type": "code",
   "execution_count": 41,
   "metadata": {},
   "outputs": [],
   "source": [
    "df_tenure_iac = df_tenure[df_tenure['programme_title'] == \"I'm a Celebrity... Get Me Out of Here!\"]"
   ]
  },
  {
   "cell_type": "code",
   "execution_count": 42,
   "metadata": {},
   "outputs": [
    {
     "data": {
      "text/plain": [
       "5.7676600441501105"
      ]
     },
     "execution_count": 42,
     "metadata": {},
     "output_type": "execute_result"
    }
   ],
   "source": [
    "df_tenure_iac['tenure'].mean()"
   ]
  },
  {
   "cell_type": "code",
   "execution_count": 49,
   "metadata": {},
   "outputs": [],
   "source": [
    "df_tenure_sotf = df_tenure[df_tenure['programme_title'] == 'Survival Of The Fittest']"
   ]
  },
  {
   "cell_type": "code",
   "execution_count": 50,
   "metadata": {},
   "outputs": [
    {
     "data": {
      "text/plain": [
       "3.8872517616912234"
      ]
     },
     "execution_count": 50,
     "metadata": {},
     "output_type": "execute_result"
    }
   ],
   "source": [
    "df_tenure_sotf['tenure'].mean()"
   ]
  },
  {
   "cell_type": "code",
   "execution_count": 51,
   "metadata": {},
   "outputs": [],
   "source": [
    "df_tenure_vf = df_tenure[df_tenure['programme_title'] == 'Vanity Fair']"
   ]
  },
  {
   "cell_type": "code",
   "execution_count": 52,
   "metadata": {},
   "outputs": [
    {
     "data": {
      "text/plain": [
       "1.484009840098401"
      ]
     },
     "execution_count": 52,
     "metadata": {},
     "output_type": "execute_result"
    }
   ],
   "source": [
    "df_tenure_vf['tenure'].mean()"
   ]
  },
  {
   "cell_type": "code",
   "execution_count": 53,
   "metadata": {},
   "outputs": [],
   "source": [
    "df_tenure_m = df_tenure[df_tenure['programme_title'] == 'Marcella']"
   ]
  },
  {
   "cell_type": "code",
   "execution_count": 54,
   "metadata": {},
   "outputs": [
    {
     "data": {
      "text/plain": [
       "4.7719891745602165"
      ]
     },
     "execution_count": 54,
     "metadata": {},
     "output_type": "execute_result"
    }
   ],
   "source": [
    "df_tenure_m['tenure'].mean()"
   ]
  },
  {
   "cell_type": "code",
   "execution_count": 55,
   "metadata": {},
   "outputs": [],
   "source": [
    "df_tenure_s = df_tenure[df_tenure['programme_title'] == 'Strangers']"
   ]
  },
  {
   "cell_type": "code",
   "execution_count": 56,
   "metadata": {},
   "outputs": [
    {
     "data": {
      "text/plain": [
       "1.2721685689201054"
      ]
     },
     "execution_count": 56,
     "metadata": {},
     "output_type": "execute_result"
    }
   ],
   "source": [
    "df_tenure_s['tenure'].mean()"
   ]
  },
  {
   "cell_type": "code",
   "execution_count": 57,
   "metadata": {},
   "outputs": [],
   "source": [
    "df_tenure_wcd = df_tenure[df_tenure['programme_title'] == 'World Cup Daily']"
   ]
  },
  {
   "cell_type": "code",
   "execution_count": 58,
   "metadata": {},
   "outputs": [
    {
     "data": {
      "text/plain": [
       "2.911048689138577"
      ]
     },
     "execution_count": 58,
     "metadata": {},
     "output_type": "execute_result"
    }
   ],
   "source": [
    "df_tenure_wcd['tenure'].mean()"
   ]
  },
  {
   "cell_type": "code",
   "execution_count": 59,
   "metadata": {},
   "outputs": [],
   "source": [
    "df_tenure_i = df_tenure[df_tenure['programme_title'] == 'Innocent']"
   ]
  },
  {
   "cell_type": "code",
   "execution_count": 60,
   "metadata": {},
   "outputs": [
    {
     "data": {
      "text/plain": [
       "4.081983805668016"
      ]
     },
     "execution_count": 60,
     "metadata": {},
     "output_type": "execute_result"
    }
   ],
   "source": [
    "df_tenure_i['tenure'].mean()"
   ]
  },
  {
   "cell_type": "code",
   "execution_count": 63,
   "metadata": {},
   "outputs": [],
   "source": [
    "df_tenure_lir = df_tenure[df_tenure['programme_title'] == 'Love Island: The Reunion']"
   ]
  },
  {
   "cell_type": "code",
   "execution_count": 64,
   "metadata": {},
   "outputs": [
    {
     "data": {
      "text/plain": [
       "2.050080775444265"
      ]
     },
     "execution_count": 64,
     "metadata": {},
     "output_type": "execute_result"
    }
   ],
   "source": [
    "df_tenure_lir['tenure'].mean()"
   ]
  },
  {
   "cell_type": "code",
   "execution_count": 65,
   "metadata": {},
   "outputs": [],
   "source": [
    "df_tenure_v = df_tenure[df_tenure['programme_title'] == 'Vera']"
   ]
  },
  {
   "cell_type": "code",
   "execution_count": 66,
   "metadata": {},
   "outputs": [
    {
     "data": {
      "text/plain": [
       "4.045725646123261"
      ]
     },
     "execution_count": 66,
     "metadata": {},
     "output_type": "execute_result"
    }
   ],
   "source": [
    "df_tenure_v['tenure'].mean()"
   ]
  },
  {
   "cell_type": "code",
   "execution_count": 67,
   "metadata": {},
   "outputs": [],
   "source": [
    "df_tenure_cj = df_tenure[df_tenure['programme_title'] == 'Celebrity Juice']"
   ]
  },
  {
   "cell_type": "code",
   "execution_count": 68,
   "metadata": {},
   "outputs": [
    {
     "data": {
      "text/plain": [
       "3.0998552821997105"
      ]
     },
     "execution_count": 68,
     "metadata": {},
     "output_type": "execute_result"
    }
   ],
   "source": [
    "df_tenure_cj['tenure'].mean()"
   ]
  },
  {
   "cell_type": "code",
   "execution_count": 69,
   "metadata": {},
   "outputs": [],
   "source": [
    "df_tenure_iw = df_tenure[df_tenure['programme_title'] == 'Ibiza Weekender']"
   ]
  },
  {
   "cell_type": "code",
   "execution_count": 70,
   "metadata": {},
   "outputs": [
    {
     "data": {
      "text/plain": [
       "3.6472346786248133"
      ]
     },
     "execution_count": 70,
     "metadata": {},
     "output_type": "execute_result"
    }
   ],
   "source": [
    "df_tenure_iw['tenure'].mean()"
   ]
  },
  {
   "cell_type": "code",
   "execution_count": 71,
   "metadata": {},
   "outputs": [],
   "source": [
    "df_tenure_ggf = df_tenure[df_tenure['programme_title'] == 'Gordon, Gino and Fred: Road Trip']"
   ]
  },
  {
   "cell_type": "code",
   "execution_count": 72,
   "metadata": {},
   "outputs": [
    {
     "data": {
      "text/plain": [
       "1.016260162601626"
      ]
     },
     "execution_count": 72,
     "metadata": {},
     "output_type": "execute_result"
    }
   ],
   "source": [
    "df_tenure_ggf['tenure'].mean()"
   ]
  }
 ],
 "metadata": {
  "kernelspec": {
   "display_name": "Python 3",
   "language": "python",
   "name": "python3"
  },
  "language_info": {
   "codemirror_mode": {
    "name": "ipython",
    "version": 3
   },
   "file_extension": ".py",
   "mimetype": "text/x-python",
   "name": "python",
   "nbconvert_exporter": "python",
   "pygments_lexer": "ipython3",
   "version": "3.7.0"
  }
 },
 "nbformat": 4,
 "nbformat_minor": 2
}
