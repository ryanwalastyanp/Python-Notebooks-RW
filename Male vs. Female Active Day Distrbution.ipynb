{
 "cells": [
  {
   "cell_type": "code",
   "execution_count": 2,
   "metadata": {},
   "outputs": [],
   "source": [
    "import pandas as pd\n",
    "import numpy as np\n",
    "import scipy as sp\n",
    "import matplotlib.pyplot as plt"
   ]
  },
  {
   "cell_type": "code",
   "execution_count": 3,
   "metadata": {},
   "outputs": [],
   "source": [
    "data_m = pd.read_csv('2018 VOD Male Active Days.csv')\n",
    "data_f = pd.read_csv('Female Active Days VOD 2018.csv')"
   ]
  },
  {
   "cell_type": "code",
   "execution_count": 4,
   "metadata": {},
   "outputs": [
    {
     "data": {
      "text/html": [
       "<div>\n",
       "<style>\n",
       "    .dataframe thead tr:only-child th {\n",
       "        text-align: right;\n",
       "    }\n",
       "\n",
       "    .dataframe thead th {\n",
       "        text-align: left;\n",
       "    }\n",
       "\n",
       "    .dataframe tbody tr th {\n",
       "        vertical-align: top;\n",
       "    }\n",
       "</style>\n",
       "<table border=\"1\" class=\"dataframe\">\n",
       "  <thead>\n",
       "    <tr style=\"text-align: right;\">\n",
       "      <th></th>\n",
       "      <th>viewer_id</th>\n",
       "      <th>no_days</th>\n",
       "    </tr>\n",
       "  </thead>\n",
       "  <tbody>\n",
       "    <tr>\n",
       "      <th>0</th>\n",
       "      <td>8b4c469b-a806-4d07-b568-4a48d3797cd7</td>\n",
       "      <td>11</td>\n",
       "    </tr>\n",
       "    <tr>\n",
       "      <th>1</th>\n",
       "      <td>23c6d3cf-5a8f-4985-b7bd-dc6a90ebafd9</td>\n",
       "      <td>15</td>\n",
       "    </tr>\n",
       "    <tr>\n",
       "      <th>2</th>\n",
       "      <td>c4918792-8b7e-44a9-826c-1416ad3211b2</td>\n",
       "      <td>38</td>\n",
       "    </tr>\n",
       "    <tr>\n",
       "      <th>3</th>\n",
       "      <td>da22dde5-b971-450f-a271-c9ef8bac3940</td>\n",
       "      <td>60</td>\n",
       "    </tr>\n",
       "    <tr>\n",
       "      <th>4</th>\n",
       "      <td>f3979db4-4906-487e-8e80-775a953b6d8a</td>\n",
       "      <td>11</td>\n",
       "    </tr>\n",
       "  </tbody>\n",
       "</table>\n",
       "</div>"
      ],
      "text/plain": [
       "                              viewer_id  no_days\n",
       "0  8b4c469b-a806-4d07-b568-4a48d3797cd7       11\n",
       "1  23c6d3cf-5a8f-4985-b7bd-dc6a90ebafd9       15\n",
       "2  c4918792-8b7e-44a9-826c-1416ad3211b2       38\n",
       "3  da22dde5-b971-450f-a271-c9ef8bac3940       60\n",
       "4  f3979db4-4906-487e-8e80-775a953b6d8a       11"
      ]
     },
     "execution_count": 4,
     "metadata": {},
     "output_type": "execute_result"
    }
   ],
   "source": [
    "data_m.head()"
   ]
  },
  {
   "cell_type": "code",
   "execution_count": 5,
   "metadata": {},
   "outputs": [
    {
     "data": {
      "text/html": [
       "<div>\n",
       "<style>\n",
       "    .dataframe thead tr:only-child th {\n",
       "        text-align: right;\n",
       "    }\n",
       "\n",
       "    .dataframe thead th {\n",
       "        text-align: left;\n",
       "    }\n",
       "\n",
       "    .dataframe tbody tr th {\n",
       "        vertical-align: top;\n",
       "    }\n",
       "</style>\n",
       "<table border=\"1\" class=\"dataframe\">\n",
       "  <thead>\n",
       "    <tr style=\"text-align: right;\">\n",
       "      <th></th>\n",
       "      <th>no_days</th>\n",
       "    </tr>\n",
       "    <tr>\n",
       "      <th>viewer_id</th>\n",
       "      <th></th>\n",
       "    </tr>\n",
       "  </thead>\n",
       "  <tbody>\n",
       "    <tr>\n",
       "      <th>108bffa8-18da-4c20-b93c-923c7657b876</th>\n",
       "      <td>81</td>\n",
       "    </tr>\n",
       "    <tr>\n",
       "      <th>ba306a85-e596-4372-9646-8fd7e5280a82</th>\n",
       "      <td>32</td>\n",
       "    </tr>\n",
       "    <tr>\n",
       "      <th>b2aae1f5-e8fc-4e82-9c9e-3281067f06f0</th>\n",
       "      <td>170</td>\n",
       "    </tr>\n",
       "    <tr>\n",
       "      <th>df03d214-017e-4a3f-b202-3459e3fb61a0</th>\n",
       "      <td>7</td>\n",
       "    </tr>\n",
       "    <tr>\n",
       "      <th>f9e26fc2-9aa5-4806-bd13-b31da83a1f62</th>\n",
       "      <td>11</td>\n",
       "    </tr>\n",
       "    <tr>\n",
       "      <th>2503eb74-7139-44fb-b4ad-ea41c34d445e</th>\n",
       "      <td>64</td>\n",
       "    </tr>\n",
       "    <tr>\n",
       "      <th>dc8df8a1-fc66-4068-aea1-706a158604b7</th>\n",
       "      <td>7</td>\n",
       "    </tr>\n",
       "    <tr>\n",
       "      <th>e46725cd-f9c7-4fe0-bcc6-47c7b140f6d6</th>\n",
       "      <td>166</td>\n",
       "    </tr>\n",
       "    <tr>\n",
       "      <th>e81658f2-8185-4052-91d9-0df5fd4c904d</th>\n",
       "      <td>58</td>\n",
       "    </tr>\n",
       "    <tr>\n",
       "      <th>469ee7bc-32c8-436c-a52b-7c850694eec7</th>\n",
       "      <td>121</td>\n",
       "    </tr>\n",
       "    <tr>\n",
       "      <th>96a43ea5-db9c-4976-a183-e524c3e5cebf</th>\n",
       "      <td>19</td>\n",
       "    </tr>\n",
       "    <tr>\n",
       "      <th>ea526d63-3022-466f-9399-021471552b65</th>\n",
       "      <td>45</td>\n",
       "    </tr>\n",
       "    <tr>\n",
       "      <th>30503884-dc49-4953-80d8-42672dd8487b</th>\n",
       "      <td>41</td>\n",
       "    </tr>\n",
       "    <tr>\n",
       "      <th>c41946a8-d690-42ab-8428-27e0f7ea568f</th>\n",
       "      <td>43</td>\n",
       "    </tr>\n",
       "    <tr>\n",
       "      <th>3d71ad4f-eaba-4a5a-8b52-8ffd508500b7</th>\n",
       "      <td>30</td>\n",
       "    </tr>\n",
       "    <tr>\n",
       "      <th>f186f195-c18a-46b9-8c62-8988af805c7a</th>\n",
       "      <td>15</td>\n",
       "    </tr>\n",
       "    <tr>\n",
       "      <th>fbfd8e5e-2993-4b64-9d81-4b101fac3456</th>\n",
       "      <td>27</td>\n",
       "    </tr>\n",
       "    <tr>\n",
       "      <th>ff4c0856-64a4-49a4-97b3-c3ca17a3e7e2</th>\n",
       "      <td>25</td>\n",
       "    </tr>\n",
       "    <tr>\n",
       "      <th>0f6c60eb-b953-43f8-b244-8baf6106bb43</th>\n",
       "      <td>18</td>\n",
       "    </tr>\n",
       "    <tr>\n",
       "      <th>8948a749-fec8-4d87-b882-069adc18a215</th>\n",
       "      <td>46</td>\n",
       "    </tr>\n",
       "    <tr>\n",
       "      <th>88756726-67e2-415f-866b-23f63a95bc49</th>\n",
       "      <td>19</td>\n",
       "    </tr>\n",
       "    <tr>\n",
       "      <th>7001dac4-782d-4602-ba55-33e087309ede</th>\n",
       "      <td>1</td>\n",
       "    </tr>\n",
       "    <tr>\n",
       "      <th>299f1a7f-e2f1-4599-85ca-9032e6ff3fc2</th>\n",
       "      <td>166</td>\n",
       "    </tr>\n",
       "    <tr>\n",
       "      <th>f1f83433-8fff-40ba-b47f-9afe4de889e9</th>\n",
       "      <td>16</td>\n",
       "    </tr>\n",
       "    <tr>\n",
       "      <th>27765382-d562-4363-86ea-612e74e7b026</th>\n",
       "      <td>9</td>\n",
       "    </tr>\n",
       "    <tr>\n",
       "      <th>ab3a545b-80b3-464d-b3ef-8930c4053e68</th>\n",
       "      <td>34</td>\n",
       "    </tr>\n",
       "    <tr>\n",
       "      <th>b9ea0dc7-0a70-4078-b32a-d7448ad146bd</th>\n",
       "      <td>9</td>\n",
       "    </tr>\n",
       "    <tr>\n",
       "      <th>64292ea0-178c-4d7a-bb15-827765103a5e</th>\n",
       "      <td>5</td>\n",
       "    </tr>\n",
       "    <tr>\n",
       "      <th>e5f3ecc3-5a21-4aa7-8f18-e7e152fc3c6a</th>\n",
       "      <td>16</td>\n",
       "    </tr>\n",
       "    <tr>\n",
       "      <th>08d78b9d-9257-4e52-a74c-d7f3985d5662</th>\n",
       "      <td>44</td>\n",
       "    </tr>\n",
       "    <tr>\n",
       "      <th>...</th>\n",
       "      <td>...</td>\n",
       "    </tr>\n",
       "    <tr>\n",
       "      <th>3bf118c8-4088-4756-8675-b124e95e8fbd</th>\n",
       "      <td>1</td>\n",
       "    </tr>\n",
       "    <tr>\n",
       "      <th>2c798ce5-1b2e-4f01-8fa5-9b25ecd6d501</th>\n",
       "      <td>1</td>\n",
       "    </tr>\n",
       "    <tr>\n",
       "      <th>2bc0b095-8eee-473a-bdde-2c47094d6c39</th>\n",
       "      <td>1</td>\n",
       "    </tr>\n",
       "    <tr>\n",
       "      <th>afe9adff-8a66-4974-827b-92f459d80207</th>\n",
       "      <td>1</td>\n",
       "    </tr>\n",
       "    <tr>\n",
       "      <th>fd1c3277-aad6-46c3-bee8-05ab1d8fcdc8</th>\n",
       "      <td>1</td>\n",
       "    </tr>\n",
       "    <tr>\n",
       "      <th>5be38263-d3ff-4f9b-a48e-48f63302f401</th>\n",
       "      <td>1</td>\n",
       "    </tr>\n",
       "    <tr>\n",
       "      <th>eb02c05c-f6f6-4810-9af1-5e439a77bb98</th>\n",
       "      <td>1</td>\n",
       "    </tr>\n",
       "    <tr>\n",
       "      <th>6dd6d464-cde6-4342-bb36-408f123aa1b6</th>\n",
       "      <td>1</td>\n",
       "    </tr>\n",
       "    <tr>\n",
       "      <th>a5d36e30-e5ba-4455-b524-b74d2da41792</th>\n",
       "      <td>1</td>\n",
       "    </tr>\n",
       "    <tr>\n",
       "      <th>2700806f-eeb6-400b-9ce0-8d5a0bf5fa83</th>\n",
       "      <td>1</td>\n",
       "    </tr>\n",
       "    <tr>\n",
       "      <th>21e1bfa1-8224-4c2e-b786-2db4e4b088ff</th>\n",
       "      <td>1</td>\n",
       "    </tr>\n",
       "    <tr>\n",
       "      <th>308410ec-609a-457c-b965-4884af1401bd</th>\n",
       "      <td>1</td>\n",
       "    </tr>\n",
       "    <tr>\n",
       "      <th>1c2d6a40-e972-44fd-8eda-d6b60164318e</th>\n",
       "      <td>1</td>\n",
       "    </tr>\n",
       "    <tr>\n",
       "      <th>a9a25f2a-6cd8-4296-b570-711fdc7c97dc</th>\n",
       "      <td>1</td>\n",
       "    </tr>\n",
       "    <tr>\n",
       "      <th>8d6eb1ea-a1e7-4e9a-9d99-afe7ba15d2f1</th>\n",
       "      <td>1</td>\n",
       "    </tr>\n",
       "    <tr>\n",
       "      <th>6a4b5083-0ac6-486e-9f0f-f334e7d17777</th>\n",
       "      <td>1</td>\n",
       "    </tr>\n",
       "    <tr>\n",
       "      <th>ee628c76-ff9c-47b4-8ed0-9c8b3475d530</th>\n",
       "      <td>1</td>\n",
       "    </tr>\n",
       "    <tr>\n",
       "      <th>a76c759d-f904-4536-a97c-0dfa73b463bc</th>\n",
       "      <td>1</td>\n",
       "    </tr>\n",
       "    <tr>\n",
       "      <th>0ed41ae9-3d9a-4672-a5d4-b4171e008cc8</th>\n",
       "      <td>1</td>\n",
       "    </tr>\n",
       "    <tr>\n",
       "      <th>1889b2a4-f1ab-447c-916e-9d25e7d0b2e0</th>\n",
       "      <td>1</td>\n",
       "    </tr>\n",
       "    <tr>\n",
       "      <th>198b7d64-dfc3-44dc-95f2-ad134cef1a43</th>\n",
       "      <td>1</td>\n",
       "    </tr>\n",
       "    <tr>\n",
       "      <th>0e133467-6f31-479d-a193-070f6f8486d4</th>\n",
       "      <td>1</td>\n",
       "    </tr>\n",
       "    <tr>\n",
       "      <th>cf00a53b-ee25-46af-8cab-a0e3145a9cf2</th>\n",
       "      <td>1</td>\n",
       "    </tr>\n",
       "    <tr>\n",
       "      <th>9d9e3349-725a-4c46-87a9-fa4e8da2aa05</th>\n",
       "      <td>1</td>\n",
       "    </tr>\n",
       "    <tr>\n",
       "      <th>28345c73-5f7e-49fb-98d0-3ce0c8bd85fc</th>\n",
       "      <td>1</td>\n",
       "    </tr>\n",
       "    <tr>\n",
       "      <th>720ab02c-44ba-443d-ab0d-8fff1213e6cb</th>\n",
       "      <td>1</td>\n",
       "    </tr>\n",
       "    <tr>\n",
       "      <th>80a3a9a2-c102-49be-8ed7-5e1722e38d19</th>\n",
       "      <td>1</td>\n",
       "    </tr>\n",
       "    <tr>\n",
       "      <th>66339999-c1bd-441f-84b1-a88b88e82067</th>\n",
       "      <td>1</td>\n",
       "    </tr>\n",
       "    <tr>\n",
       "      <th>a01bab57-070f-4803-874b-12e9783e04f4</th>\n",
       "      <td>1</td>\n",
       "    </tr>\n",
       "    <tr>\n",
       "      <th>fb1abf69-78fe-4996-8c1b-add8b41f484a</th>\n",
       "      <td>1</td>\n",
       "    </tr>\n",
       "  </tbody>\n",
       "</table>\n",
       "<p>7258970 rows × 1 columns</p>\n",
       "</div>"
      ],
      "text/plain": [
       "                                      no_days\n",
       "viewer_id                                    \n",
       "108bffa8-18da-4c20-b93c-923c7657b876       81\n",
       "ba306a85-e596-4372-9646-8fd7e5280a82       32\n",
       "b2aae1f5-e8fc-4e82-9c9e-3281067f06f0      170\n",
       "df03d214-017e-4a3f-b202-3459e3fb61a0        7\n",
       "f9e26fc2-9aa5-4806-bd13-b31da83a1f62       11\n",
       "2503eb74-7139-44fb-b4ad-ea41c34d445e       64\n",
       "dc8df8a1-fc66-4068-aea1-706a158604b7        7\n",
       "e46725cd-f9c7-4fe0-bcc6-47c7b140f6d6      166\n",
       "e81658f2-8185-4052-91d9-0df5fd4c904d       58\n",
       "469ee7bc-32c8-436c-a52b-7c850694eec7      121\n",
       "96a43ea5-db9c-4976-a183-e524c3e5cebf       19\n",
       "ea526d63-3022-466f-9399-021471552b65       45\n",
       "30503884-dc49-4953-80d8-42672dd8487b       41\n",
       "c41946a8-d690-42ab-8428-27e0f7ea568f       43\n",
       "3d71ad4f-eaba-4a5a-8b52-8ffd508500b7       30\n",
       "f186f195-c18a-46b9-8c62-8988af805c7a       15\n",
       "fbfd8e5e-2993-4b64-9d81-4b101fac3456       27\n",
       "ff4c0856-64a4-49a4-97b3-c3ca17a3e7e2       25\n",
       "0f6c60eb-b953-43f8-b244-8baf6106bb43       18\n",
       "8948a749-fec8-4d87-b882-069adc18a215       46\n",
       "88756726-67e2-415f-866b-23f63a95bc49       19\n",
       "7001dac4-782d-4602-ba55-33e087309ede        1\n",
       "299f1a7f-e2f1-4599-85ca-9032e6ff3fc2      166\n",
       "f1f83433-8fff-40ba-b47f-9afe4de889e9       16\n",
       "27765382-d562-4363-86ea-612e74e7b026        9\n",
       "ab3a545b-80b3-464d-b3ef-8930c4053e68       34\n",
       "b9ea0dc7-0a70-4078-b32a-d7448ad146bd        9\n",
       "64292ea0-178c-4d7a-bb15-827765103a5e        5\n",
       "e5f3ecc3-5a21-4aa7-8f18-e7e152fc3c6a       16\n",
       "08d78b9d-9257-4e52-a74c-d7f3985d5662       44\n",
       "...                                       ...\n",
       "3bf118c8-4088-4756-8675-b124e95e8fbd        1\n",
       "2c798ce5-1b2e-4f01-8fa5-9b25ecd6d501        1\n",
       "2bc0b095-8eee-473a-bdde-2c47094d6c39        1\n",
       "afe9adff-8a66-4974-827b-92f459d80207        1\n",
       "fd1c3277-aad6-46c3-bee8-05ab1d8fcdc8        1\n",
       "5be38263-d3ff-4f9b-a48e-48f63302f401        1\n",
       "eb02c05c-f6f6-4810-9af1-5e439a77bb98        1\n",
       "6dd6d464-cde6-4342-bb36-408f123aa1b6        1\n",
       "a5d36e30-e5ba-4455-b524-b74d2da41792        1\n",
       "2700806f-eeb6-400b-9ce0-8d5a0bf5fa83        1\n",
       "21e1bfa1-8224-4c2e-b786-2db4e4b088ff        1\n",
       "308410ec-609a-457c-b965-4884af1401bd        1\n",
       "1c2d6a40-e972-44fd-8eda-d6b60164318e        1\n",
       "a9a25f2a-6cd8-4296-b570-711fdc7c97dc        1\n",
       "8d6eb1ea-a1e7-4e9a-9d99-afe7ba15d2f1        1\n",
       "6a4b5083-0ac6-486e-9f0f-f334e7d17777        1\n",
       "ee628c76-ff9c-47b4-8ed0-9c8b3475d530        1\n",
       "a76c759d-f904-4536-a97c-0dfa73b463bc        1\n",
       "0ed41ae9-3d9a-4672-a5d4-b4171e008cc8        1\n",
       "1889b2a4-f1ab-447c-916e-9d25e7d0b2e0        1\n",
       "198b7d64-dfc3-44dc-95f2-ad134cef1a43        1\n",
       "0e133467-6f31-479d-a193-070f6f8486d4        1\n",
       "cf00a53b-ee25-46af-8cab-a0e3145a9cf2        1\n",
       "9d9e3349-725a-4c46-87a9-fa4e8da2aa05        1\n",
       "28345c73-5f7e-49fb-98d0-3ce0c8bd85fc        1\n",
       "720ab02c-44ba-443d-ab0d-8fff1213e6cb        1\n",
       "80a3a9a2-c102-49be-8ed7-5e1722e38d19        1\n",
       "66339999-c1bd-441f-84b1-a88b88e82067        1\n",
       "a01bab57-070f-4803-874b-12e9783e04f4        1\n",
       "fb1abf69-78fe-4996-8c1b-add8b41f484a        1\n",
       "\n",
       "[7258970 rows x 1 columns]"
      ]
     },
     "execution_count": 5,
     "metadata": {},
     "output_type": "execute_result"
    }
   ],
   "source": [
    "data_m.set_index('viewer_id')\n",
    "data_f.set_index('viewer_id')"
   ]
  },
  {
   "cell_type": "code",
   "execution_count": 6,
   "metadata": {},
   "outputs": [
    {
     "data": {
      "text/html": [
       "<div>\n",
       "<style>\n",
       "    .dataframe thead tr:only-child th {\n",
       "        text-align: right;\n",
       "    }\n",
       "\n",
       "    .dataframe thead th {\n",
       "        text-align: left;\n",
       "    }\n",
       "\n",
       "    .dataframe tbody tr th {\n",
       "        vertical-align: top;\n",
       "    }\n",
       "</style>\n",
       "<table border=\"1\" class=\"dataframe\">\n",
       "  <thead>\n",
       "    <tr style=\"text-align: right;\">\n",
       "      <th></th>\n",
       "      <th>no_days</th>\n",
       "    </tr>\n",
       "  </thead>\n",
       "  <tbody>\n",
       "    <tr>\n",
       "      <th>count</th>\n",
       "      <td>4.706810e+06</td>\n",
       "    </tr>\n",
       "    <tr>\n",
       "      <th>mean</th>\n",
       "      <td>9.285158e+00</td>\n",
       "    </tr>\n",
       "    <tr>\n",
       "      <th>std</th>\n",
       "      <td>1.546146e+01</td>\n",
       "    </tr>\n",
       "    <tr>\n",
       "      <th>min</th>\n",
       "      <td>1.000000e+00</td>\n",
       "    </tr>\n",
       "    <tr>\n",
       "      <th>25%</th>\n",
       "      <td>1.000000e+00</td>\n",
       "    </tr>\n",
       "    <tr>\n",
       "      <th>50%</th>\n",
       "      <td>3.000000e+00</td>\n",
       "    </tr>\n",
       "    <tr>\n",
       "      <th>75%</th>\n",
       "      <td>1.000000e+01</td>\n",
       "    </tr>\n",
       "    <tr>\n",
       "      <th>max</th>\n",
       "      <td>2.200000e+02</td>\n",
       "    </tr>\n",
       "  </tbody>\n",
       "</table>\n",
       "</div>"
      ],
      "text/plain": [
       "            no_days\n",
       "count  4.706810e+06\n",
       "mean   9.285158e+00\n",
       "std    1.546146e+01\n",
       "min    1.000000e+00\n",
       "25%    1.000000e+00\n",
       "50%    3.000000e+00\n",
       "75%    1.000000e+01\n",
       "max    2.200000e+02"
      ]
     },
     "execution_count": 6,
     "metadata": {},
     "output_type": "execute_result"
    }
   ],
   "source": [
    "data_m.describe()"
   ]
  },
  {
   "cell_type": "code",
   "execution_count": 7,
   "metadata": {},
   "outputs": [
    {
     "data": {
      "text/html": [
       "<div>\n",
       "<style>\n",
       "    .dataframe thead tr:only-child th {\n",
       "        text-align: right;\n",
       "    }\n",
       "\n",
       "    .dataframe thead th {\n",
       "        text-align: left;\n",
       "    }\n",
       "\n",
       "    .dataframe tbody tr th {\n",
       "        vertical-align: top;\n",
       "    }\n",
       "</style>\n",
       "<table border=\"1\" class=\"dataframe\">\n",
       "  <thead>\n",
       "    <tr style=\"text-align: right;\">\n",
       "      <th></th>\n",
       "      <th>no_days</th>\n",
       "    </tr>\n",
       "  </thead>\n",
       "  <tbody>\n",
       "    <tr>\n",
       "      <th>count</th>\n",
       "      <td>7.258970e+06</td>\n",
       "    </tr>\n",
       "    <tr>\n",
       "      <th>mean</th>\n",
       "      <td>1.504707e+01</td>\n",
       "    </tr>\n",
       "    <tr>\n",
       "      <th>std</th>\n",
       "      <td>2.143453e+01</td>\n",
       "    </tr>\n",
       "    <tr>\n",
       "      <th>min</th>\n",
       "      <td>1.000000e+00</td>\n",
       "    </tr>\n",
       "    <tr>\n",
       "      <th>25%</th>\n",
       "      <td>2.000000e+00</td>\n",
       "    </tr>\n",
       "    <tr>\n",
       "      <th>50%</th>\n",
       "      <td>7.000000e+00</td>\n",
       "    </tr>\n",
       "    <tr>\n",
       "      <th>75%</th>\n",
       "      <td>1.900000e+01</td>\n",
       "    </tr>\n",
       "    <tr>\n",
       "      <th>max</th>\n",
       "      <td>2.200000e+02</td>\n",
       "    </tr>\n",
       "  </tbody>\n",
       "</table>\n",
       "</div>"
      ],
      "text/plain": [
       "            no_days\n",
       "count  7.258970e+06\n",
       "mean   1.504707e+01\n",
       "std    2.143453e+01\n",
       "min    1.000000e+00\n",
       "25%    2.000000e+00\n",
       "50%    7.000000e+00\n",
       "75%    1.900000e+01\n",
       "max    2.200000e+02"
      ]
     },
     "execution_count": 7,
     "metadata": {},
     "output_type": "execute_result"
    }
   ],
   "source": [
    "data_f.describe()"
   ]
  },
  {
   "cell_type": "code",
   "execution_count": 8,
   "metadata": {},
   "outputs": [
    {
     "data": {
      "image/png": "[encoded data removed]",
      "text/plain": [
       "<matplotlib.figure.Figure at 0x960ba90>"
      ]
     },
     "metadata": {},
     "output_type": "display_data"
    }
   ],
   "source": [
    "plt.hist(data_m['no_days'], bins=220)\n",
    "plt.show()"
   ]
  },
  {
   "cell_type": "code",
   "execution_count": 9,
   "metadata": {},
   "outputs": [
    {
     "data": {
      "image/png": "[encoded data removed]",
      "text/plain": [
       "<matplotlib.figure.Figure at 0xa880438>"
      ]
     },
     "metadata": {},
     "output_type": "display_data"
    }
   ],
   "source": [
    "plt.hist(data_f['no_days'], bins=220)\n",
    "plt.show()"
   ]
  },
  {
   "cell_type": "markdown",
   "metadata": {},
   "source": [
    "fitting an exponential distribution to the whole set took way too long so I am going to take a sample of each\n",
    "distribution and then try to fit a distribution to the samples"
   ]
  },
  {
   "cell_type": "code",
   "execution_count": 10,
   "metadata": {},
   "outputs": [],
   "source": [
    "data_m_sample = data_m.sample(16583, random_state=101)\n",
    "data_f_sample = data_f.sample(16603, random_state=101)"
   ]
  },
  {
   "cell_type": "code",
   "execution_count": 11,
   "metadata": {},
   "outputs": [
    {
     "data": {
      "text/html": [
       "<div>\n",
       "<style>\n",
       "    .dataframe thead tr:only-child th {\n",
       "        text-align: right;\n",
       "    }\n",
       "\n",
       "    .dataframe thead th {\n",
       "        text-align: left;\n",
       "    }\n",
       "\n",
       "    .dataframe tbody tr th {\n",
       "        vertical-align: top;\n",
       "    }\n",
       "</style>\n",
       "<table border=\"1\" class=\"dataframe\">\n",
       "  <thead>\n",
       "    <tr style=\"text-align: right;\">\n",
       "      <th></th>\n",
       "      <th>viewer_id</th>\n",
       "      <th>no_days</th>\n",
       "    </tr>\n",
       "  </thead>\n",
       "  <tbody>\n",
       "    <tr>\n",
       "      <th>0</th>\n",
       "      <td>8b4c469b-a806-4d07-b568-4a48d3797cd7</td>\n",
       "      <td>11</td>\n",
       "    </tr>\n",
       "    <tr>\n",
       "      <th>1</th>\n",
       "      <td>23c6d3cf-5a8f-4985-b7bd-dc6a90ebafd9</td>\n",
       "      <td>15</td>\n",
       "    </tr>\n",
       "    <tr>\n",
       "      <th>2</th>\n",
       "      <td>c4918792-8b7e-44a9-826c-1416ad3211b2</td>\n",
       "      <td>38</td>\n",
       "    </tr>\n",
       "    <tr>\n",
       "      <th>3</th>\n",
       "      <td>da22dde5-b971-450f-a271-c9ef8bac3940</td>\n",
       "      <td>60</td>\n",
       "    </tr>\n",
       "    <tr>\n",
       "      <th>4</th>\n",
       "      <td>f3979db4-4906-487e-8e80-775a953b6d8a</td>\n",
       "      <td>11</td>\n",
       "    </tr>\n",
       "  </tbody>\n",
       "</table>\n",
       "</div>"
      ],
      "text/plain": [
       "                              viewer_id  no_days\n",
       "0  8b4c469b-a806-4d07-b568-4a48d3797cd7       11\n",
       "1  23c6d3cf-5a8f-4985-b7bd-dc6a90ebafd9       15\n",
       "2  c4918792-8b7e-44a9-826c-1416ad3211b2       38\n",
       "3  da22dde5-b971-450f-a271-c9ef8bac3940       60\n",
       "4  f3979db4-4906-487e-8e80-775a953b6d8a       11"
      ]
     },
     "execution_count": 11,
     "metadata": {},
     "output_type": "execute_result"
    }
   ],
   "source": [
    "data_m.head()"
   ]
  },
  {
   "cell_type": "code",
   "execution_count": 14,
   "metadata": {},
   "outputs": [],
   "source": [
    "from scipy.stats import mannwhitneyu\n",
    "mwu_test = mannwhitneyu(data_m['no_days'], data_m_sample['no_days'], use_continuity=True, alternative=None)"
   ]
  },
  {
   "cell_type": "code",
   "execution_count": 15,
   "metadata": {},
   "outputs": [
    {
     "data": {
      "text/plain": [
       "MannwhitneyuResult(statistic=38841573875.0, pvalue=0.14210627866921233)"
      ]
     },
     "execution_count": 15,
     "metadata": {},
     "output_type": "execute_result"
    }
   ],
   "source": [
    "mwu_test"
   ]
  },
  {
   "cell_type": "code",
   "execution_count": 24,
   "metadata": {},
   "outputs": [
    {
     "data": {
      "text/plain": [
       "MannwhitneyuResult(statistic=60246007010.5, pvalue=0.47877075519362639)"
      ]
     },
     "execution_count": 24,
     "metadata": {},
     "output_type": "execute_result"
    }
   ],
   "source": [
    "mwu_f_test = mannwhitneyu(data_f['no_days'], data_f_sample['no_days'], use_continuity=True, alternative=None)\n",
    "mwu_f_test"
   ]
  },
  {
   "cell_type": "code",
   "execution_count": 16,
   "metadata": {},
   "outputs": [
    {
     "data": {
      "text/plain": [
       "(0.99999999972085751, 8.251334699094933)"
      ]
     },
     "execution_count": 16,
     "metadata": {},
     "output_type": "execute_result"
    }
   ],
   "source": [
    "from scipy import stats\n",
    "exp_m = stats.expon.fit(data_m_sample['no_days'])\n",
    "exp_m"
   ]
  },
  {
   "cell_type": "code",
   "execution_count": 17,
   "metadata": {},
   "outputs": [
    {
     "data": {
      "text/plain": [
       "(0.99999999936659933, 14.167176011492796)"
      ]
     },
     "execution_count": 17,
     "metadata": {},
     "output_type": "execute_result"
    }
   ],
   "source": [
    "exp_f = stats.expon.fit(data_f_sample['no_days'])\n",
    "exp_f"
   ]
  },
  {
   "cell_type": "code",
   "execution_count": 20,
   "metadata": {},
   "outputs": [
    {
     "data": {
      "image/png": "[encoded data removed]",
      "text/plain": [
       "<matplotlib.figure.Figure at 0xac2cba8>"
      ]
     },
     "metadata": {},
     "output_type": "display_data"
    }
   ],
   "source": [
    "plt.hist(data_m_sample['no_days'], bins=100)\n",
    "plt.show()"
   ]
  },
  {
   "cell_type": "code",
   "execution_count": 21,
   "metadata": {},
   "outputs": [
    {
     "data": {
      "image/png": "[encoded data removed]",
      "text/plain": [
       "<matplotlib.figure.Figure at 0x10c63d68>"
      ]
     },
     "metadata": {},
     "output_type": "display_data"
    }
   ],
   "source": [
    "plt.hist(data_f_sample['no_days'], bins=100)\n",
    "plt.show()"
   ]
  },
  {
   "cell_type": "code",
   "execution_count": 28,
   "metadata": {},
   "outputs": [
    {
     "data": {
      "text/plain": [
       "Ks_2sampResult(statistic=0.16889204574294159, pvalue=1.5807996443566423e-206)"
      ]
     },
     "execution_count": 28,
     "metadata": {},
     "output_type": "execute_result"
    }
   ],
   "source": [
    "from scipy.stats import ks_2samp\n",
    "ks_test = ks_2samp(data_m_sample['no_days'], data_f_sample['no_days'])\n",
    "ks_test"
   ]
  },
  {
   "cell_type": "code",
   "execution_count": 29,
   "metadata": {},
   "outputs": [
    {
     "data": {
      "text/plain": [
       "Ks_2sampResult(statistic=0.0045178940389742905, pvalue=0.88801394304957237)"
      ]
     },
     "execution_count": 29,
     "metadata": {},
     "output_type": "execute_result"
    }
   ],
   "source": [
    "ks_test_m = ks_2samp(data_m['no_days'], data_m_sample['no_days'])\n",
    "ks_test_m"
   ]
  },
  {
   "cell_type": "code",
   "execution_count": 30,
   "metadata": {},
   "outputs": [
    {
     "data": {
      "text/plain": [
       "Ks_2sampResult(statistic=0.16485092604573537, pvalue=0.0)"
      ]
     },
     "execution_count": 30,
     "metadata": {},
     "output_type": "execute_result"
    }
   ],
   "source": [
    "ks_test_mf = ks_2samp(data_m['no_days'], data_f['no_days'])\n",
    "ks_test_mf"
   ]
  },
  {
   "cell_type": "markdown",
   "metadata": {},
   "source": [
    "the Kolmogorov-Smirnov test worked for the entire sets of male and female viewers, so no samples were needed, the\n",
    "p-value of 0.0 suggests that the two distrbutions are different."
   ]
  },
  {
   "cell_type": "code",
   "execution_count": null,
   "metadata": {},
   "outputs": [],
   "source": []
  }
 ],
 "metadata": {
  "kernelspec": {
   "display_name": "Python 3",
   "language": "python",
   "name": "python3"
  },
  "language_info": {
   "codemirror_mode": {
    "name": "ipython",
    "version": 3
   },
   "file_extension": ".py",
   "mimetype": "text/x-python",
   "name": "python",
   "nbconvert_exporter": "python",
   "pygments_lexer": "ipython3",
   "version": "3.6.3"
  }
 },
 "nbformat": 4,
 "nbformat_minor": 2
}
