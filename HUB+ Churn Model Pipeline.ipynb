{
 "cells": [
  {
   "cell_type": "markdown",
   "metadata": {},
   "source": [
    "# Set-Up Environment"
   ]
  },
  {
   "cell_type": "code",
   "execution_count": 1,
   "metadata": {
    "collapsed": true
   },
   "outputs": [],
   "source": [
    "import pandas as pd\n",
    "import seaborn as sns\n",
    "import sklearn as skl\n",
    "import numpy as np\n",
    "import matplotlib as mpl"
   ]
  },
  {
   "cell_type": "markdown",
   "metadata": {},
   "source": [
    "# Load in the Pickled Dataset"
   ]
  },
  {
   "cell_type": "code",
   "execution_count": 2,
   "metadata": {},
   "outputs": [
    {
     "data": {
      "text/html": [
       "<div>\n",
       "<style>\n",
       "    .dataframe thead tr:only-child th {\n",
       "        text-align: right;\n",
       "    }\n",
       "\n",
       "    .dataframe thead th {\n",
       "        text-align: left;\n",
       "    }\n",
       "\n",
       "    .dataframe tbody tr th {\n",
       "        vertical-align: top;\n",
       "    }\n",
       "</style>\n",
       "<table border=\"1\" class=\"dataframe\">\n",
       "  <thead>\n",
       "    <tr style=\"text-align: right;\">\n",
       "      <th></th>\n",
       "      <th>viewer_id</th>\n",
       "      <th>one_day_mins</th>\n",
       "      <th>two_day_mins</th>\n",
       "      <th>seven_day_mins</th>\n",
       "      <th>one_sim</th>\n",
       "      <th>two_sim</th>\n",
       "      <th>seven_sim</th>\n",
       "      <th>sixteen_twentyfour</th>\n",
       "      <th>sixteen_thirtyfour</th>\n",
       "      <th>affluency</th>\n",
       "      <th>...</th>\n",
       "      <th>boi_within_seven_days</th>\n",
       "      <th>hub_plus_tenure</th>\n",
       "      <th>dau_within_seven_days</th>\n",
       "      <th>avg_sessions</th>\n",
       "      <th>churn_binary</th>\n",
       "      <th>p_affluence_v2</th>\n",
       "      <th>registration_source</th>\n",
       "      <th>completed_programmes</th>\n",
       "      <th>avg_completion</th>\n",
       "      <th>p_0172_prop_tv_ondemand_subscription_v1b</th>\n",
       "    </tr>\n",
       "  </thead>\n",
       "  <tbody>\n",
       "    <tr>\n",
       "      <th>0</th>\n",
       "      <td>b7f553d1-cc69-429d-8e54-0dca4f0d7c6b</td>\n",
       "      <td>90.463783</td>\n",
       "      <td>135.209417</td>\n",
       "      <td>314.081983</td>\n",
       "      <td>0.000000</td>\n",
       "      <td>0.000000</td>\n",
       "      <td>0.000000</td>\n",
       "      <td>1.0</td>\n",
       "      <td>1.0</td>\n",
       "      <td>0.0</td>\n",
       "      <td>...</td>\n",
       "      <td>4</td>\n",
       "      <td>1</td>\n",
       "      <td>7</td>\n",
       "      <td>1</td>\n",
       "      <td>1</td>\n",
       "      <td>1</td>\n",
       "      <td>0</td>\n",
       "      <td>3</td>\n",
       "      <td>0.869324</td>\n",
       "      <td>0.2291</td>\n",
       "    </tr>\n",
       "    <tr>\n",
       "      <th>1</th>\n",
       "      <td>bd0e78fc-dd7d-48cf-b96d-a2d0a582e12c</td>\n",
       "      <td>207.098683</td>\n",
       "      <td>252.062217</td>\n",
       "      <td>363.294617</td>\n",
       "      <td>0.000000</td>\n",
       "      <td>0.000000</td>\n",
       "      <td>0.000000</td>\n",
       "      <td>1.0</td>\n",
       "      <td>1.0</td>\n",
       "      <td>0.0</td>\n",
       "      <td>...</td>\n",
       "      <td>2</td>\n",
       "      <td>1</td>\n",
       "      <td>6</td>\n",
       "      <td>1</td>\n",
       "      <td>1</td>\n",
       "      <td>17</td>\n",
       "      <td>1</td>\n",
       "      <td>4</td>\n",
       "      <td>0.940683</td>\n",
       "      <td>0.0000</td>\n",
       "    </tr>\n",
       "    <tr>\n",
       "      <th>2</th>\n",
       "      <td>6bde74b4-7533-45e9-9e94-1e393415eb81</td>\n",
       "      <td>45.839350</td>\n",
       "      <td>45.839350</td>\n",
       "      <td>90.144717</td>\n",
       "      <td>0.000000</td>\n",
       "      <td>0.000000</td>\n",
       "      <td>0.000000</td>\n",
       "      <td>1.0</td>\n",
       "      <td>1.0</td>\n",
       "      <td>0.0</td>\n",
       "      <td>...</td>\n",
       "      <td>2</td>\n",
       "      <td>2</td>\n",
       "      <td>3</td>\n",
       "      <td>1</td>\n",
       "      <td>1</td>\n",
       "      <td>2</td>\n",
       "      <td>1</td>\n",
       "      <td>1</td>\n",
       "      <td>0.989718</td>\n",
       "      <td>0.0000</td>\n",
       "    </tr>\n",
       "    <tr>\n",
       "      <th>3</th>\n",
       "      <td>7bd1e296-7e7d-44e9-a3cd-9e0b6a3cd609</td>\n",
       "      <td>45.386000</td>\n",
       "      <td>45.386000</td>\n",
       "      <td>45.386000</td>\n",
       "      <td>0.000000</td>\n",
       "      <td>0.000000</td>\n",
       "      <td>0.000000</td>\n",
       "      <td>0.0</td>\n",
       "      <td>0.0</td>\n",
       "      <td>0.0</td>\n",
       "      <td>...</td>\n",
       "      <td>1</td>\n",
       "      <td>1</td>\n",
       "      <td>2</td>\n",
       "      <td>1</td>\n",
       "      <td>1</td>\n",
       "      <td>11</td>\n",
       "      <td>1</td>\n",
       "      <td>1</td>\n",
       "      <td>1.000059</td>\n",
       "      <td>0.0000</td>\n",
       "    </tr>\n",
       "    <tr>\n",
       "      <th>4</th>\n",
       "      <td>4dfed92c-bb72-498a-b12f-bdb0d4f2e03c</td>\n",
       "      <td>47.805117</td>\n",
       "      <td>47.805117</td>\n",
       "      <td>47.805117</td>\n",
       "      <td>1.239867</td>\n",
       "      <td>1.239867</td>\n",
       "      <td>1.239867</td>\n",
       "      <td>0.0</td>\n",
       "      <td>0.0</td>\n",
       "      <td>0.0</td>\n",
       "      <td>...</td>\n",
       "      <td>1</td>\n",
       "      <td>1</td>\n",
       "      <td>1</td>\n",
       "      <td>1</td>\n",
       "      <td>1</td>\n",
       "      <td>18</td>\n",
       "      <td>1</td>\n",
       "      <td>1</td>\n",
       "      <td>1.017852</td>\n",
       "      <td>0.0000</td>\n",
       "    </tr>\n",
       "  </tbody>\n",
       "</table>\n",
       "<p>5 rows × 22 columns</p>\n",
       "</div>"
      ],
      "text/plain": [
       "                              viewer_id  one_day_mins  two_day_mins  \\\n",
       "0  b7f553d1-cc69-429d-8e54-0dca4f0d7c6b     90.463783    135.209417   \n",
       "1  bd0e78fc-dd7d-48cf-b96d-a2d0a582e12c    207.098683    252.062217   \n",
       "2  6bde74b4-7533-45e9-9e94-1e393415eb81     45.839350     45.839350   \n",
       "3  7bd1e296-7e7d-44e9-a3cd-9e0b6a3cd609     45.386000     45.386000   \n",
       "4  4dfed92c-bb72-498a-b12f-bdb0d4f2e03c     47.805117     47.805117   \n",
       "\n",
       "   seven_day_mins   one_sim   two_sim  seven_sim  sixteen_twentyfour  \\\n",
       "0      314.081983  0.000000  0.000000   0.000000                 1.0   \n",
       "1      363.294617  0.000000  0.000000   0.000000                 1.0   \n",
       "2       90.144717  0.000000  0.000000   0.000000                 1.0   \n",
       "3       45.386000  0.000000  0.000000   0.000000                 0.0   \n",
       "4       47.805117  1.239867  1.239867   1.239867                 0.0   \n",
       "\n",
       "   sixteen_thirtyfour  affluency                    ...                     \\\n",
       "0                 1.0        0.0                    ...                      \n",
       "1                 1.0        0.0                    ...                      \n",
       "2                 1.0        0.0                    ...                      \n",
       "3                 0.0        0.0                    ...                      \n",
       "4                 0.0        0.0                    ...                      \n",
       "\n",
       "   boi_within_seven_days  hub_plus_tenure  dau_within_seven_days  \\\n",
       "0                      4                1                      7   \n",
       "1                      2                1                      6   \n",
       "2                      2                2                      3   \n",
       "3                      1                1                      2   \n",
       "4                      1                1                      1   \n",
       "\n",
       "   avg_sessions  churn_binary  p_affluence_v2  registration_source  \\\n",
       "0             1             1               1                    0   \n",
       "1             1             1              17                    1   \n",
       "2             1             1               2                    1   \n",
       "3             1             1              11                    1   \n",
       "4             1             1              18                    1   \n",
       "\n",
       "   completed_programmes  avg_completion  \\\n",
       "0                     3        0.869324   \n",
       "1                     4        0.940683   \n",
       "2                     1        0.989718   \n",
       "3                     1        1.000059   \n",
       "4                     1        1.017852   \n",
       "\n",
       "   p_0172_prop_tv_ondemand_subscription_v1b  \n",
       "0                                    0.2291  \n",
       "1                                    0.0000  \n",
       "2                                    0.0000  \n",
       "3                                    0.0000  \n",
       "4                                    0.0000  \n",
       "\n",
       "[5 rows x 22 columns]"
      ]
     },
     "execution_count": 2,
     "metadata": {},
     "output_type": "execute_result"
    }
   ],
   "source": [
    "data = pd.read_pickle('clean_data_for_modelling4.p')\n",
    "data.head()"
   ]
  },
  {
   "cell_type": "markdown",
   "metadata": {},
   "source": [
    "# Look for Correlation between Predictor Variables and Target Variable"
   ]
  },
  {
   "cell_type": "code",
   "execution_count": 3,
   "metadata": {},
   "outputs": [
    {
     "data": {
      "text/plain": [
       "<seaborn.axisgrid.FacetGrid at 0x385dfd0>"
      ]
     },
     "execution_count": 3,
     "metadata": {},
     "output_type": "execute_result"
    },
    {
     "data": {
      "image/png": "[encoded data removed]",
      "text/plain": [
       "<matplotlib.figure.Figure at 0xb8be160>"
      ]
     },
     "metadata": {},
     "output_type": "display_data"
    }
   ],
   "source": [
    "%matplotlib inline\n",
    "import seaborn as sns\n",
    "sns.lmplot(x='avg_completion', y='churn_binary', data=data, fit_reg=True) "
   ]
  },
  {
   "cell_type": "code",
   "execution_count": 4,
   "metadata": {},
   "outputs": [
    {
     "data": {
      "text/plain": [
       "<seaborn.axisgrid.FacetGrid at 0xbc51240>"
      ]
     },
     "execution_count": 4,
     "metadata": {},
     "output_type": "execute_result"
    },
    {
     "data": {
      "image/png": "[encoded data removed]",
      "text/plain": [
       "<matplotlib.figure.Figure at 0xbc51c50>"
      ]
     },
     "metadata": {},
     "output_type": "display_data"
    }
   ],
   "source": [
    "sns.lmplot(x='completed_programmes', y='churn_binary', data=data, fit_reg=True) "
   ]
  },
  {
   "cell_type": "code",
   "execution_count": 5,
   "metadata": {},
   "outputs": [
    {
     "data": {
      "text/plain": [
       "<seaborn.axisgrid.FacetGrid at 0xc0d6e80>"
      ]
     },
     "execution_count": 5,
     "metadata": {},
     "output_type": "execute_result"
    },
    {
     "data": {
      "image/png": "[encoded data removed]",
      "text/plain": [
       "<matplotlib.figure.Figure at 0xc0c8b00>"
      ]
     },
     "metadata": {},
     "output_type": "display_data"
    }
   ],
   "source": [
    "sns.lmplot(x='p_affluence_v2', y='churn_binary', data=data, fit_reg=True)"
   ]
  },
  {
   "cell_type": "code",
   "execution_count": 6,
   "metadata": {},
   "outputs": [
    {
     "data": {
      "text/plain": [
       "<seaborn.axisgrid.FacetGrid at 0xc792ba8>"
      ]
     },
     "execution_count": 6,
     "metadata": {},
     "output_type": "execute_result"
    },
    {
     "data": {
      "image/png": "[encoded data removed]",
      "text/plain": [
       "<matplotlib.figure.Figure at 0xc792ac8>"
      ]
     },
     "metadata": {},
     "output_type": "display_data"
    }
   ],
   "source": [
    "sns.lmplot(x='p_0172_prop_tv_ondemand_subscription_v1b', y='churn_binary', data=data, fit_reg=True)"
   ]
  },
  {
   "cell_type": "code",
   "execution_count": 15,
   "metadata": {},
   "outputs": [
    {
     "data": {
      "text/plain": [
       "<seaborn.axisgrid.FacetGrid at 0xd19a438>"
      ]
     },
     "execution_count": 15,
     "metadata": {},
     "output_type": "execute_result"
    },
    {
     "data": {
      "image/png": "[encoded data removed]",
      "text/plain": [
       "<matplotlib.figure.Figure at 0xd19a4e0>"
      ]
     },
     "metadata": {},
     "output_type": "display_data"
    }
   ],
   "source": [
    "sns.lmplot(x='avg_sessions', y='churn_binary', data=data, fit_reg=True)"
   ]
  },
  {
   "cell_type": "code",
   "execution_count": 8,
   "metadata": {},
   "outputs": [
    {
     "name": "stdout",
     "output_type": "stream",
     "text": [
      "<class 'pandas.core.frame.DataFrame'>\n",
      "Int64Index: 6948 entries, 0 to 6947\n",
      "Data columns (total 22 columns):\n",
      "viewer_id                                   6948 non-null object\n",
      "one_day_mins                                6948 non-null float64\n",
      "two_day_mins                                6948 non-null float64\n",
      "seven_day_mins                              6948 non-null float64\n",
      "one_sim                                     6948 non-null float64\n",
      "two_sim                                     6948 non-null float64\n",
      "seven_sim                                   6948 non-null float64\n",
      "sixteen_twentyfour                          6948 non-null float64\n",
      "sixteen_thirtyfour                          6948 non-null float64\n",
      "affluency                                   6948 non-null float64\n",
      "female_flag                                 6948 non-null float64\n",
      "hub_tenure                                  6948 non-null float64\n",
      "boi_within_seven_days                       6948 non-null int64\n",
      "hub_plus_tenure                             6948 non-null int64\n",
      "dau_within_seven_days                       6948 non-null int64\n",
      "avg_sessions                                6948 non-null int64\n",
      "churn_binary                                6948 non-null int64\n",
      "p_affluence_v2                              6948 non-null int64\n",
      "registration_source                         6948 non-null int64\n",
      "completed_programmes                        6948 non-null int64\n",
      "avg_completion                              6948 non-null float64\n",
      "p_0172_prop_tv_ondemand_subscription_v1b    6948 non-null float64\n",
      "dtypes: float64(13), int64(8), object(1)\n",
      "memory usage: 1.5+ MB\n"
     ]
    }
   ],
   "source": [
    "data.info()"
   ]
  },
  {
   "cell_type": "code",
   "execution_count": 37,
   "metadata": {},
   "outputs": [
    {
     "ename": "TypeError",
     "evalue": "'DataFrame' object is not callable",
     "output_type": "error",
     "traceback": [
      "\u001b[1;31m---------------------------------------------------------------------------\u001b[0m",
      "\u001b[1;31mTypeError\u001b[0m                                 Traceback (most recent call last)",
      "\u001b[1;32m<ipython-input-37-371dff237840>\u001b[0m in \u001b[0;36m<module>\u001b[1;34m()\u001b[0m\n\u001b[0;32m      4\u001b[0m            \u001b[1;34m'hub_plus_tenure'\u001b[0m\u001b[1;33m,\u001b[0m \u001b[1;34m'dau_within_seven_days'\u001b[0m\u001b[1;33m,\u001b[0m \u001b[1;34m'avg_sessions'\u001b[0m\u001b[1;33m,\u001b[0m \u001b[1;34m'p_affluence_v2'\u001b[0m\u001b[1;33m,\u001b[0m\u001b[1;33m\u001b[0m\u001b[0m\n\u001b[0;32m      5\u001b[0m            \u001b[1;34m'registration_source'\u001b[0m\u001b[1;33m,\u001b[0m \u001b[1;34m'completed_programmes'\u001b[0m\u001b[1;33m,\u001b[0m \u001b[1;34m'avg_completion'\u001b[0m\u001b[1;33m,\u001b[0m\u001b[1;33m\u001b[0m\u001b[0m\n\u001b[1;32m----> 6\u001b[1;33m            'p_0172_prop_tv_ondemand_subscription_v1b', 'churn_binary'])\n\u001b[0m\u001b[0;32m      7\u001b[0m \u001b[1;33m\u001b[0m\u001b[0m\n\u001b[0;32m      8\u001b[0m \u001b[1;31m# Feature Importance with Extra Trees Classifier\u001b[0m\u001b[1;33m\u001b[0m\u001b[1;33m\u001b[0m\u001b[0m\n",
      "\u001b[1;31mTypeError\u001b[0m: 'DataFrame' object is not callable"
     ]
    }
   ],
   "source": [
    "data = data(['viewer_id', 'one_day_minutes', 'two_day_minutes', 'seven_day_minutes', 'one_sim', 'two_sim', 'seven_sim',\n",
    "             'sixteen_twentyfour', 'sixteen_thirtyfour', 'affluency', 'female_flag', 'hub_tenure', \n",
    "             'boi_within_seven_days', 'hub_plus_tenure', 'dau_within_seven_days', 'avg_sessions', 'p_affluence_v2',\n",
    "             'registration_source', 'completed_programmes', 'avg_completion',\n",
    "             'p_0172_prop_tv_ondemand_subscription_v1b', 'churn_binary'])\n",
    "\n",
    "# Feature Importance with Extra Trees Classifier\n",
    "from sklearn.ensemble import ExtraTreesClassifier\n",
    "# load data\n",
    "dataframe = data\n",
    "array = dataframe.values\n",
    "X = array[:,1:21]\n",
    "Y = array[:,21]\n",
    "Y = Y.astype(float)\n",
    "# feature extraction\n",
    "model = ExtraTreesClassifier()\n",
    "model.fit(X, Y)\n",
    "print(model.feature_importances_)"
   ]
  },
  {
   "cell_type": "markdown",
   "metadata": {},
   "source": [
    "# Split the Data into Training and Test Sets"
   ]
  },
  {
   "cell_type": "code",
   "execution_count": 38,
   "metadata": {
    "collapsed": true
   },
   "outputs": [],
   "source": [
    "# Split the data into training and test sets\n",
    "from sklearn.model_selection import train_test_split\n",
    "X_train, X_test, y_train, y_test = train_test_split(data.loc[:,['one_day_mins','two_day_mins', 'seven_day_mins',\n",
    "                                                                'one_sim', 'two_sim','seven_sim', 'sixteen_twentyfour',\n",
    "                                                                'sixteen_thirtyfour', 'affluency','female_flag',\n",
    "                                                                'hub_tenure', 'boi_within_seven_days',\n",
    "                                                                'dau_within_seven_days', 'avg_sessions', \n",
    "                                                                'p_affluence_v2', 'registration_source',\n",
    "                                                                'completed_programmes', 'avg_completion',\n",
    "                                                                'p_0172_prop_tv_ondemand_subscription_v1b']], \n",
    "                                                    data['churn_binary'], test_size=0.3, \n",
    "                                                    random_state=67)"
   ]
  },
  {
   "cell_type": "markdown",
   "metadata": {},
   "source": [
    "# Generate the Feature Union, Pipeline and Gridsearch to create the best model possible"
   ]
  },
  {
   "cell_type": "code",
   "execution_count": 39,
   "metadata": {},
   "outputs": [
    {
     "data": {
      "text/plain": [
       "['mean_fit_time',\n",
       " 'mean_score_time',\n",
       " 'mean_test_score',\n",
       " 'mean_train_score',\n",
       " 'param_feature_union__pca__n_components',\n",
       " 'param_feature_union__select_best__k',\n",
       " 'params',\n",
       " 'rank_test_score',\n",
       " 'split0_test_score',\n",
       " 'split0_train_score',\n",
       " 'split1_test_score',\n",
       " 'split1_train_score',\n",
       " 'split2_test_score',\n",
       " 'split2_train_score',\n",
       " 'std_fit_time',\n",
       " 'std_score_time',\n",
       " 'std_test_score',\n",
       " 'std_train_score']"
      ]
     },
     "execution_count": 39,
     "metadata": {},
     "output_type": "execute_result"
    }
   ],
   "source": [
    "# Create a pipeline that extracts features from the data then creates a model\n",
    "from pandas import read_csv\n",
    "from sklearn.model_selection import KFold\n",
    "from sklearn.model_selection import cross_val_score\n",
    "from sklearn.pipeline import Pipeline\n",
    "from sklearn.pipeline import FeatureUnion\n",
    "from sklearn.linear_model import LogisticRegression\n",
    "from sklearn.ensemble import GradientBoostingRegressor\n",
    "from sklearn.decomposition import PCA\n",
    "from sklearn.feature_selection import SelectKBest\n",
    "from sklearn.model_selection import GridSearchCV\n",
    "from sklearn import svm\n",
    "from sklearn.ensemble import RandomForestClassifier\n",
    "from sklearn.ensemble import ExtraTreesClassifier\n",
    "from sklearn.tree import DecisionTreeClassifier\n",
    "from sklearn.ensemble import GradientBoostingClassifier\n",
    "from sklearn.neural_network import MLPClassifier\n",
    "from sklearn.naive_bayes import GaussianNB\n",
    "from sklearn.ensemble import BaggingClassifier\n",
    "from sklearn.neighbors import KNeighborsClassifier\n",
    "from sklearn.ensemble import AdaBoostClassifier\n",
    "from pyearth import Earth\n",
    "\n",
    "X = X_train \n",
    "Y = y_train\n",
    "\n",
    "# create feature union (pirinciple coordinate analysis, random forest to find top variables)\n",
    "features = []\n",
    "features.append(('pca', PCA(n_components=12))) #calculate x principal components\n",
    "features.append(('select_best', SelectKBest(k=12))) #find the best y principal components\n",
    "feature_union = FeatureUnion(features)\n",
    "\n",
    "# create pipeline LogisticRegression(), svm.LinearSVC(), svm.SVR(), RandomForestClassifier(), \n",
    "## GradientBoostingClassifier(), MLPClassifier()\n",
    "estimators = []\n",
    "estimators.append(('feature_union', feature_union))\n",
    "estimators.append(('GBC', GradientBoostingClassifier())) \n",
    "model = Pipeline(estimators)\n",
    "\n",
    "# set up gridsearch to find the best parameter values specified in the ranges below\n",
    "parameters = {'feature_union__pca__n_components':[1, 19], 'feature_union__select_best__k':[1, 19]}\n",
    "clf = GridSearchCV(model, parameters)\n",
    "model2 = clf.fit(X, Y)\n",
    "\n",
    "sorted(clf.cv_results_.keys())"
   ]
  },
  {
   "cell_type": "markdown",
   "metadata": {},
   "source": [
    "# Check the Accuracy of the Model Against the Test Set"
   ]
  },
  {
   "cell_type": "code",
   "execution_count": 21,
   "metadata": {},
   "outputs": [
    {
     "name": "stdout",
     "output_type": "stream",
     "text": [
      "0.620623501199\n"
     ]
    }
   ],
   "source": [
    "## note that accuracy score only works for discrete values, i.e. integers, for continuous\n",
    "## variables, you will have to use metrics like MSE, metrics.mean_square_error()\n",
    "from sklearn.metrics import accuracy_score\n",
    "acc = accuracy_score(y_test, model2.predict(X_test))\n",
    "print(acc)"
   ]
  },
  {
   "cell_type": "code",
   "execution_count": 18,
   "metadata": {},
   "outputs": [
    {
     "data": {
      "text/plain": [
       "(array([ 0.        ,  0.10291938,  1.        ]),\n",
       " array([ 0.        ,  0.18747896,  1.        ]),\n",
       " array([2, 1, 0], dtype=int64))"
      ]
     },
     "execution_count": 18,
     "metadata": {},
     "output_type": "execute_result"
    }
   ],
   "source": [
    "from sklearn.metrics import roc_curve\n",
    "roc_curve(y_test, model2.predict(X_test))"
   ]
  },
  {
   "cell_type": "code",
   "execution_count": 19,
   "metadata": {},
   "outputs": [
    {
     "data": {
      "image/png": "[encoded data removed]",
      "text/plain": [
       "<matplotlib.figure.Figure at 0x14eef320>"
      ]
     },
     "metadata": {},
     "output_type": "display_data"
    }
   ],
   "source": [
    "from sklearn import metrics\n",
    "\n",
    "probs = model2.predict_proba(X_test)\n",
    "preds = probs[:,1]\n",
    "fpr, tpr, threshold = metrics.roc_curve(y_test, preds)\n",
    "roc_auc = metrics.auc(fpr, tpr)\n",
    "\n",
    "import matplotlib.pyplot as plt\n",
    "plt.title('Receiver Operating Characteristic')\n",
    "plt.plot(fpr, tpr, 'b', label = 'AUC = %0.2f' % roc_auc)\n",
    "plt.legend(loc = 'lower right')\n",
    "plt.plot([0, 1], [0, 1],'r--')\n",
    "plt.xlim([0, 1])\n",
    "plt.ylim([0, 1])\n",
    "plt.ylabel('True Positive Rate')\n",
    "plt.xlabel('False Positive Rate')\n",
    "plt.show()"
   ]
  },
  {
   "cell_type": "code",
   "execution_count": 40,
   "metadata": {},
   "outputs": [
    {
     "name": "stdout",
     "output_type": "stream",
     "text": [
      "             precision    recall  f1-score   support\n",
      "\n",
      "          0       0.64      0.87      0.74      1295\n",
      "          1       0.49      0.21      0.30       790\n",
      "\n",
      "avg / total       0.59      0.62      0.57      2085\n",
      "\n"
     ]
    }
   ],
   "source": [
    "from sklearn.metrics import classification_report\n",
    "print(classification_report(y_test, model2.predict(X_test)))"
   ]
  },
  {
   "cell_type": "code",
   "execution_count": null,
   "metadata": {
    "collapsed": true
   },
   "outputs": [],
   "source": []
  }
 ],
 "metadata": {
  "kernelspec": {
   "display_name": "Python 3",
   "language": "python",
   "name": "python3"
  },
  "language_info": {
   "codemirror_mode": {
    "name": "ipython",
    "version": 3
   },
   "file_extension": ".py",
   "mimetype": "text/x-python",
   "name": "python",
   "nbconvert_exporter": "python",
   "pygments_lexer": "ipython3",
   "version": "3.6.3"
  }
 },
 "nbformat": 4,
 "nbformat_minor": 2
}
