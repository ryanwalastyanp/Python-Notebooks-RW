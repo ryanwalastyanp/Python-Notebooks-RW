{
 "cells": [
  {
   "cell_type": "code",
   "execution_count": 50,
   "metadata": {},
   "outputs": [],
   "source": [
    "import psycopg2\n",
    "\n",
    "def get_svv_connection():\n",
    "    con=psycopg2.connect(dbname= 'svv', host='svv-rs-prod-bi.cjddijbnvfpr.eu-west-1.redshift.amazonaws.com', \\\n",
    "                         port= 5439, user= 'ryanw', password= 'hT6Y3TeZZUFdvLj')\n",
    "    \n",
    "    return con"
   ]
  },
  {
   "cell_type": "code",
   "execution_count": 51,
   "metadata": {},
   "outputs": [],
   "source": [
    "##import svv_connector as svv\n",
    "import pandas as pd\n",
    "import numpy as np\n",
    "import matplotlib.pyplot as plt\n",
    "import collections as col\n",
    "import datetime as dt\n",
    "import operator\n",
    "\n",
    "from sklearn.ensemble import RandomForestClassifier\n",
    "from sklearn.ensemble import ExtraTreesClassifier\n",
    "from sklearn.ensemble import GradientBoostingClassifier\n",
    "\n",
    "from sklearn.ensemble import RandomForestRegressor\n",
    "\n",
    "from sklearn.model_selection import train_test_split\n",
    "from sklearn.metrics import accuracy_score\n",
    "from sklearn.preprocessing import OneHotEncoder\n",
    "from sklearn.preprocessing import LabelEncoder\n",
    "from sklearn.metrics import confusion_matrix\n",
    "from sklearn.metrics import classification_report\n",
    "\n",
    "from yellowbrick.classifier import ClassPredictionError\n",
    "\n",
    "from sklearn.model_selection import GridSearchCV\n",
    "from sklearn.metrics import make_scorer\n",
    "from sklearn.metrics import recall_score\n",
    "from sklearn.metrics import accuracy_score\n",
    "from sklearn.metrics import f1_score\n",
    "\n",
    "\n",
    "# own module to get one-hot encoding get_dummies-style\n",
    "from get_smarties import Smarties\n",
    "\n",
    "pd.set_option('display.max_rows', 1000)\n",
    "%matplotlib inline"
   ]
  },
  {
   "cell_type": "markdown",
   "metadata": {},
   "source": [
    "# Sample N Random Data Points from SVV"
   ]
  },
  {
   "cell_type": "code",
   "execution_count": 52,
   "metadata": {},
   "outputs": [],
   "source": [
    "# how many rows do we need\n",
    "N = 300000\n",
    "\n",
    "table_to_query = 'viewers_summary_hc_2018_es'\n",
    "\n",
    "used_columns =  \" viewer_id, gender, age, title, barb, lifestage, \" + \\\n",
    "                \" pc_h_resident_property_val_perc, pc_p_personal_income_band_v3, \" + \\\n",
    "                \" pc_h_household_comp, pc_h_income_band_v3, \" + \\\n",
    "                \" pc_length_of_residence, pc_h_lifestage, pc_h_number_of_bedrooms, pc_p_marital_status, \" + \\\n",
    "                \" pc_h_prperty_type_v2, pc_h_family_lifestage_2011, pc_h_lone_parent, pc_young_person_at_addr, \" + \\\n",
    "                \" pc_p_affluence_v2, pc_h_affluence_v2, h_households_with_children_v3, \" + \\\n",
    "                \" p_personal_income_band_v3, h_income_band_v3, \" + \\\n",
    "                \" weekday_streaming, nonweekday_streaming, \" + \\\n",
    "                \" top_genre_id, top_subgenre, watch_ch_content_sum, watch_diverse_ch_content_sum, \" + \\\n",
    "                \" watch_parents_content_sum, watch_repeat_ch_content_sum, watch_ch_oi_content_sum, top_hour_of_day, \" + \\\n",
    "                \" top_hour_of_day_ch_content, top_hour_of_day_choi_content, percent_weekday_streaming, weekday_view_bucket, \" + \\\n",
    "                \" area_class1, area_class2, area_class3, \" + \\\n",
    "                \" avg_sprbrk_viewing, avg_sumbrk_viewing, avg_nonsch_hol_viewing, avg_sprbrk_ch_viewing, \" + \\\n",
    "                \" avg_sumbrk_ch_viewing, avg_nonsch_hol_ch_viewing \"\n",
    "\n",
    "query_data = \"Select \" + used_columns + \\\n",
    "                 \" from sandbox.viewers_summary_hc_2018_es where viewer_id in\" + \\\n",
    "                 \" (select viewer_id from sandbox.viewers_summary_hc_2018_es\" + \\\n",
    "                 \" group by viewer_id order by md5('seed' || viewer_id) limit \" + str(N) + \");\"\n",
    "\n",
    "\n",
    "dfRandomN = pd.DataFrame()\n",
    "\n",
    "\n",
    "try: \n",
    "    con = get_svv_connection()\n",
    "\n",
    "    cur = con.cursor()\n",
    "    cur.execute(query_data)\n",
    "\n",
    "    cols = [item.lstrip().rstrip() for item in used_columns.split(',')]\n",
    "    dfRandomN = pd.DataFrame(cur.fetchall(), columns = cols)\n",
    "    \n",
    "except Exception as inst:\n",
    "    print(inst)\n",
    "finally:\n",
    "    cur.close()\n",
    "    con.close()"
   ]
  },
  {
   "cell_type": "markdown",
   "metadata": {},
   "source": [
    "# Make Some Columns Numeric Type"
   ]
  },
  {
   "cell_type": "code",
   "execution_count": 53,
   "metadata": {},
   "outputs": [],
   "source": [
    "dfRandomN['h_households_with_children_v3_int']=list(map(int, dfRandomN['h_households_with_children_v3']))\n",
    "dfRandomN['pc_h_resident_property_val_perc_int'] = list(map(int, dfRandomN['pc_h_resident_property_val_perc']))\n",
    "\n",
    "dfRandomN['pc_p_personal_income_band_v3_int'] = list(map(int, dfRandomN['pc_p_personal_income_band_v3']))\n",
    "\n",
    "dfRandomN['pc_h_income_band_v3_int'] = list(map(int, dfRandomN['pc_h_income_band_v3']))"
   ]
  },
  {
   "cell_type": "code",
   "execution_count": 54,
   "metadata": {},
   "outputs": [],
   "source": [
    "dfRandomN['pc_length_of_residence_int'] = list(map(int, dfRandomN['pc_length_of_residence']))\n",
    "dfRandomN['pc_h_number_of_bedrooms_int'] = list(map(int, dfRandomN['pc_h_number_of_bedrooms']))\n",
    "\n",
    "dfRandomN['pc_p_affluence_v2_int']=list(map(int, dfRandomN['pc_p_affluence_v2']))\n",
    "dfRandomN['pc_h_affluence_v2_int']=list(map(int,dfRandomN['pc_h_affluence_v2']))"
   ]
  },
  {
   "cell_type": "code",
   "execution_count": 55,
   "metadata": {},
   "outputs": [],
   "source": [
    "dfRandomN['p_personal_income_band_v3_int'] = list(map(int, dfRandomN['p_personal_income_band_v3']))\n",
    "dfRandomN['h_income_band_v3_int'] = list(map(int, dfRandomN['h_income_band_v3']))\n",
    "\n",
    "dfRandomN['weekday_streaming_float'] = list(map(lambda x: float(x) if str(x)!='None' else 0,\n",
    "                                                dfRandomN['weekday_streaming']))\n",
    "\n",
    "dfRandomN['nonweekday_streaming_float'] = list(map(lambda x: float(x) if str(x)!='None' else 0,\n",
    "                                                dfRandomN['nonweekday_streaming']))\n",
    "dfRandomN['percent_weekday_streaming_float'] = list(map(lambda x: float(x) if str(x)!='None' else 0,\n",
    "                                                dfRandomN['percent_weekday_streaming']))"
   ]
  },
  {
   "cell_type": "code",
   "execution_count": 56,
   "metadata": {},
   "outputs": [],
   "source": [
    "dfRandomN['pc_h_family_lifestage_2011_int']=list(map(lambda x: -1 if x=='U' else int(x),\n",
    "                                                     dfRandomN['pc_h_family_lifestage_2011']))"
   ]
  },
  {
   "cell_type": "markdown",
   "metadata": {},
   "source": [
    "# For School Holidays vs. Non-school Viewing - Derive the Indicator Variables"
   ]
  },
  {
   "cell_type": "code",
   "execution_count": 57,
   "metadata": {},
   "outputs": [],
   "source": [
    "dfRandomN['avg_sprbrk_viewing_float'] = list(map(lambda x: 0 if x is None else float(x),\n",
    "                                                     dfRandomN['avg_sprbrk_viewing']))\n",
    "\n",
    "dfRandomN['avg_sumbrk_viewing_float'] = list(map(lambda x: 0 if x is None else float(x),\n",
    "                                                     dfRandomN['avg_sumbrk_viewing']))\n",
    "\n",
    "dfRandomN['avg_nonsch_hol_viewing_float'] = list(map(lambda x: 0 if x is None else float(x),\n",
    "                                                     dfRandomN['avg_nonsch_hol_viewing']))\n",
    "\n",
    "dfRandomN['avg_sprbrk_ch_viewing_float'] = list(map(lambda x: 0 if x is None else float(x),\n",
    "                                                     dfRandomN['avg_sprbrk_ch_viewing']))\n",
    "\n",
    "dfRandomN['avg_sumbrk_ch_viewing_float'] = list(map(lambda x: 0 if x is None else float(x),\n",
    "                                                     dfRandomN['avg_sumbrk_ch_viewing']))\n",
    "\n",
    "dfRandomN['avg_nonsch_hol_ch_viewing_float'] = list(map(lambda x: 0 if x is None else float(x),\n",
    "                                                     dfRandomN['avg_nonsch_hol_ch_viewing']))"
   ]
  },
  {
   "cell_type": "code",
   "execution_count": 58,
   "metadata": {},
   "outputs": [],
   "source": [
    "# Combine the non-CH viewing and CH-only viewing as two separate flag-variables\n",
    "\n",
    "dfRandomN['avg_sch_break_viewing'] =  list(map(lambda x,y,z: 1 if x>z or y>z else 0, \n",
    "                                               dfRandomN['avg_sprbrk_viewing_float'],\n",
    "                                               dfRandomN['avg_sumbrk_viewing_float'],\n",
    "                                               dfRandomN['avg_nonsch_hol_viewing_float']))"
   ]
  },
  {
   "cell_type": "code",
   "execution_count": 59,
   "metadata": {},
   "outputs": [],
   "source": [
    "dfRandomN['avg_sch_break_choi_viewing'] =  list(map(lambda x,y,z: 1 if x>z or y>z else 0, \n",
    "                                               dfRandomN['avg_sprbrk_ch_viewing_float'],\n",
    "                                               dfRandomN['avg_sumbrk_ch_viewing_float'],\n",
    "                                               dfRandomN['avg_nonsch_hol_ch_viewing_float']))"
   ]
  },
  {
   "cell_type": "markdown",
   "metadata": {},
   "source": [
    "# Find Out the Positive Class Weight - Percentage of People Who Have Kids"
   ]
  },
  {
   "cell_type": "code",
   "execution_count": 60,
   "metadata": {},
   "outputs": [
    {
     "data": {
      "text/plain": [
       "0.34781"
      ]
     },
     "execution_count": 60,
     "metadata": {},
     "output_type": "execute_result"
    }
   ],
   "source": [
    "len(dfRandomN.loc[dfRandomN['h_households_with_children_v3_int']==1])/len(dfRandomN.loc[(dfRandomN['h_households_with_children_v3_int']==1) | (dfRandomN['h_households_with_children_v3_int']==0)])"
   ]
  },
  {
   "cell_type": "markdown",
   "metadata": {},
   "source": [
    "# Perform Transformation on Some Numerical Columns"
   ]
  },
  {
   "cell_type": "code",
   "execution_count": 61,
   "metadata": {},
   "outputs": [],
   "source": [
    "# Ensure None values are treated as its own class in nominalFeatures and categoricalFeatures\n",
    "def MakeNoneIntoValues(field_val):\n",
    "    ''' Convert nan and None to either string(None) or -1\n",
    "    '''\n",
    "    \n",
    "    retval =0\n",
    "    if str(field_val)=='None':\n",
    "        retval = 'None'\n",
    "    elif str(field_val)=='nan':\n",
    "        retval = next_max_val\n",
    "    else:\n",
    "        retval = field_val\n",
    "    \n",
    "    return retval"
   ]
  },
  {
   "cell_type": "code",
   "execution_count": 62,
   "metadata": {},
   "outputs": [],
   "source": [
    "cur_year = dt.date.today().year\n",
    "mean_age = np.mean(dfRandomN['age'])\n",
    "\n",
    "def FixAge(age_as_year):\n",
    "    ''' Return age or calculated age if the age is above 1000\n",
    "        Bucketed by sqrt()\n",
    "    ''' \n",
    "\n",
    "    res = 0\n",
    "    \n",
    "    try:\n",
    "        if age_as_year > 1000:    # treat age as it was entered as year\n",
    "            res =  int(np.sqrt(curYear - age_as_year))\n",
    "        elif age_as_year < 1000 and age_as_year > 500:\n",
    "            res =  int(np.sqrt(curYear - (1000+age_as_year)))  # fix age to be a year\n",
    "        else:\n",
    "            res =  int(np.sqrt(age_as_year))\n",
    "    except:\n",
    "        res = int(np.sqrt(mean_age)) # at this moment deal with nan by replacing with mean age\n",
    "    \n",
    "    return res\n",
    "\n",
    "def LogNormalise(var_to_norm):\n",
    "    ''' Return adjusted log-transformed feature as int\n",
    "    '''\n",
    "    \n",
    "    res = 0\n",
    "    \n",
    "    try:\n",
    "        if var_to_norm == 0:\n",
    "            res = int(np.log2(0.01))\n",
    "        else:\n",
    "            res = int(np.log2(var_to_norm))\n",
    "    \n",
    "    except:\n",
    "        res = int(np.log2(0.01))\n",
    "    \n",
    "    return res\n",
    "\n",
    "def Log10Normalise(var_to_norm):\n",
    "    ''' Return adjusted log-transformed feature as int\n",
    "    '''\n",
    "    \n",
    "    res = 0\n",
    "    \n",
    "    try:\n",
    "        if var_to_norm == 0:\n",
    "            res = int(np.log10(0.01))\n",
    "        else:\n",
    "            res = int(np.log10(var_to_norm))\n",
    "    \n",
    "    except:\n",
    "        res = int(np.log10(0.01))\n",
    "    \n",
    "    return res\n",
    "\n",
    "\n",
    "def SqrtNormalise(var_to_norm):\n",
    "    ''' Return adjusted sqrt-transformed feature as int\n",
    "    '''\n",
    "    \n",
    "    res = 0\n",
    "    \n",
    "    try:\n",
    "        if var_to_norm < 0:\n",
    "            res = int(np.sqrt(0.01))\n",
    "        else:\n",
    "            res = int(np.sqrt(var_to_norm))\n",
    "    \n",
    "    except:\n",
    "        res = int(np.sqrt(0))\n",
    "    \n",
    "    return res\n",
    "\n",
    "\n",
    "def TransformNones(var):\n",
    "    ''' Convert None to zeros\n",
    "    '''\n",
    "    \n",
    "    retval =0.0\n",
    "    if str(var)=='None':\n",
    "        retval=0\n",
    "    else:\n",
    "        retval = float(var)\n",
    "        \n",
    "    return retval"
   ]
  },
  {
   "cell_type": "markdown",
   "metadata": {},
   "source": [
    "## Transform Age"
   ]
  },
  {
   "cell_type": "code",
   "execution_count": 63,
   "metadata": {},
   "outputs": [],
   "source": [
    "dfRandomN['age_sqrt'] = list(map(FixAge, dfRandomN['age']))"
   ]
  },
  {
   "cell_type": "markdown",
   "metadata": {},
   "source": [
    "## Transform Watching Stats to Flags"
   ]
  },
  {
   "cell_type": "code",
   "execution_count": 64,
   "metadata": {},
   "outputs": [],
   "source": [
    "dfRandomN['weekday_streaming_float'] = list(map(TransformNones,dfRandomN['weekday_streaming_float'] ))\n",
    "\n",
    "dfRandomN['nonweekday_streaming_float'] = list(map(TransformNones,dfRandomN['nonweekday_streaming_float'] ))\n",
    "\n",
    "dfRandomN['percent_weekday_streaming_float'] = list(map(TransformNones,dfRandomN['percent_weekday_streaming_float'] ))\n",
    "\n",
    "dfRandomN['weekday_streaming_float_log'] = list(map(Log10Normalise,dfRandomN['weekday_streaming_float'] ))\n",
    "\n",
    "dfRandomN['nonweekday_streaming_float_log'] = list(map(Log10Normalise,dfRandomN['nonweekday_streaming_float'] ))\n",
    "\n",
    "dfRandomN['percent_weekday_streaming_float_log'] = list(map(Log10Normalise,dfRandomN['percent_weekday_streaming_float'] ))"
   ]
  },
  {
   "cell_type": "markdown",
   "metadata": {},
   "source": [
    "## Transform Income Bands"
   ]
  },
  {
   "cell_type": "code",
   "execution_count": 65,
   "metadata": {},
   "outputs": [],
   "source": [
    "dfRandomN['p_affluent'] = list(map(lambda x: 1 if x>=4 else 0, dfRandomN['p_personal_income_band_v3_int']))\n",
    "dfRandomN['h_affluent'] = list(map(lambda x: 1 if x>=4 else 0, dfRandomN['h_income_band_v3_int']))\n",
    "\n",
    "# Do the same for the Postcode Ones\n",
    "dfRandomN['pc_p_affluent'] = list(map(lambda x: 1 if x>=4 else 0, dfRandomN['pc_p_personal_income_band_v3_int']))\n",
    "dfRandomN['pc_h_affluent'] = list(map(lambda x: 1 if x>=4 else 0, dfRandomN['pc_h_income_band_v3_int']))"
   ]
  },
  {
   "cell_type": "markdown",
   "metadata": {},
   "source": [
    "## Transform Some Summed Variables to Binary Flags"
   ]
  },
  {
   "cell_type": "code",
   "execution_count": 66,
   "metadata": {},
   "outputs": [],
   "source": [
    "dfRandomN['watch_ch_content']=list(map(lambda x: 1 if x>=1 else 0, dfRandomN['watch_ch_content_sum']))\n",
    "dfRandomN['watch_parents_content']=list(map(lambda x: 1 if x>=1 else 0, dfRandomN['watch_parents_content_sum']))\n",
    "dfRandomN['watch_diverse_ch_content']=list(map(lambda x: 1 if x>=1 else 0, dfRandomN['watch_diverse_ch_content_sum']))\n",
    "dfRandomN['watch_repeat_ch_content'] = list(map(lambda x: 1 if x>=1 else 0, dfRandomN['watch_repeat_ch_content_sum']))\n",
    "dfRandomN['watch_ch_oi_content'] = list(map(lambda x: 1 if x>=1 else 0, dfRandomN['watch_ch_oi_content_sum']))"
   ]
  },
  {
   "cell_type": "markdown",
   "metadata": {},
   "source": [
    "# Create Additional Features"
   ]
  },
  {
   "cell_type": "code",
   "execution_count": 67,
   "metadata": {},
   "outputs": [],
   "source": [
    "# create a field for difference between household and personal income bands"
   ]
  },
  {
   "cell_type": "code",
   "execution_count": 68,
   "metadata": {},
   "outputs": [],
   "source": [
    "dfRandomN['income_diff'] = dfRandomN['h_income_band_v3_int'] - dfRandomN['p_personal_income_band_v3_int']\n",
    "dfRandomN['income_diff_pc'] = dfRandomN['pc_h_income_band_v3_int'] - dfRandomN['pc_p_personal_income_band_v3_int']"
   ]
  },
  {
   "cell_type": "code",
   "execution_count": 69,
   "metadata": {},
   "outputs": [],
   "source": [
    "dfRandomN['income_diff_pos'] = list(map(lambda x: 1 if x>0 else 0, dfRandomN['income_diff']))\n",
    "dfRandomN['income_diff_pc_pos'] = list(map(lambda x: 1 if x>0 else 0, dfRandomN['income_diff_pc']))"
   ]
  },
  {
   "cell_type": "code",
   "execution_count": 70,
   "metadata": {},
   "outputs": [
    {
     "data": {
      "text/plain": [
       "<matplotlib.axes._subplots.AxesSubplot at 0xa84c1ba8>"
      ]
     },
     "execution_count": 70,
     "metadata": {},
     "output_type": "execute_result"
    },
    {
     "data": {
      "image/png": "[encoded data removed]",
      "text/plain": [
       "<matplotlib.figure.Figure at 0xa84c1748>"
      ]
     },
     "metadata": {},
     "output_type": "display_data"
    }
   ],
   "source": [
    "dfRandomN['income_diff'].hist(bins=20)"
   ]
  },
  {
   "cell_type": "code",
   "execution_count": 71,
   "metadata": {},
   "outputs": [],
   "source": [
    "dfRandomN['pc_h_resident_property_val_perc_sqrt']=list(map(SqrtNormalise, \n",
    "                                                                   dfRandomN['pc_h_resident_property_val_perc_int']))"
   ]
  },
  {
   "cell_type": "code",
   "execution_count": 72,
   "metadata": {},
   "outputs": [
    {
     "data": {
      "text/plain": [
       "<matplotlib.axes._subplots.AxesSubplot at 0xa84c1630>"
      ]
     },
     "execution_count": 72,
     "metadata": {},
     "output_type": "execute_result"
    },
    {
     "data": {
      "image/png": "[encoded data removed]",
      "text/plain": [
       "<matplotlib.figure.Figure at 0x6e066470>"
      ]
     },
     "metadata": {},
     "output_type": "display_data"
    }
   ],
   "source": [
    "dfRandomN['pc_h_resident_property_val_perc_sqrt'].hist(bins=20)"
   ]
  },
  {
   "cell_type": "markdown",
   "metadata": {},
   "source": [
    "# Derive the Target Class Using Experian and Indicia Current BARB"
   ]
  },
  {
   "cell_type": "code",
   "execution_count": 73,
   "metadata": {},
   "outputs": [
    {
     "data": {
      "text/html": [
       "<div>\n",
       "<style scoped>\n",
       "    .dataframe tbody tr th:only-of-type {\n",
       "        vertical-align: middle;\n",
       "    }\n",
       "\n",
       "    .dataframe tbody tr th {\n",
       "        vertical-align: top;\n",
       "    }\n",
       "\n",
       "    .dataframe thead th {\n",
       "        text-align: right;\n",
       "    }\n",
       "</style>\n",
       "<table border=\"1\" class=\"dataframe\">\n",
       "  <thead>\n",
       "    <tr style=\"text-align: right;\">\n",
       "      <th></th>\n",
       "      <th>viewer_id</th>\n",
       "      <th>gender</th>\n",
       "      <th>age</th>\n",
       "      <th>title</th>\n",
       "      <th>barb</th>\n",
       "      <th>lifestage</th>\n",
       "      <th>pc_h_resident_property_val_perc</th>\n",
       "      <th>pc_p_personal_income_band_v3</th>\n",
       "      <th>pc_h_household_comp</th>\n",
       "      <th>pc_h_income_band_v3</th>\n",
       "      <th>...</th>\n",
       "      <th>watch_parents_content</th>\n",
       "      <th>watch_diverse_ch_content</th>\n",
       "      <th>watch_repeat_ch_content</th>\n",
       "      <th>watch_ch_oi_content</th>\n",
       "      <th>income_diff</th>\n",
       "      <th>income_diff_pc</th>\n",
       "      <th>income_diff_pos</th>\n",
       "      <th>income_diff_pc_pos</th>\n",
       "      <th>pc_h_resident_property_val_perc_sqrt</th>\n",
       "      <th>hc_target_comb</th>\n",
       "    </tr>\n",
       "  </thead>\n",
       "  <tbody>\n",
       "    <tr>\n",
       "      <th>0</th>\n",
       "      <td>00024436-1ae8-45a3-a12b-bb99b7b17d07</td>\n",
       "      <td>M</td>\n",
       "      <td>25.0</td>\n",
       "      <td>Mr</td>\n",
       "      <td>a2.a3.ad.axa.h5.hw.m3.me</td>\n",
       "      <td>Active</td>\n",
       "      <td>24</td>\n",
       "      <td>2</td>\n",
       "      <td>05</td>\n",
       "      <td>3</td>\n",
       "      <td>...</td>\n",
       "      <td>0</td>\n",
       "      <td>0</td>\n",
       "      <td>0</td>\n",
       "      <td>0</td>\n",
       "      <td>0</td>\n",
       "      <td>1</td>\n",
       "      <td>0</td>\n",
       "      <td>1</td>\n",
       "      <td>4</td>\n",
       "      <td>0</td>\n",
       "    </tr>\n",
       "    <tr>\n",
       "      <th>1</th>\n",
       "      <td>000410f9-441e-4f11-bddb-632c78dfed62</td>\n",
       "      <td>M</td>\n",
       "      <td>36.0</td>\n",
       "      <td>Mr</td>\n",
       "      <td>aa.ad.h5.ha.hc.hw.ma.me</td>\n",
       "      <td>Active</td>\n",
       "      <td>83</td>\n",
       "      <td>5</td>\n",
       "      <td>00</td>\n",
       "      <td>7</td>\n",
       "      <td>...</td>\n",
       "      <td>0</td>\n",
       "      <td>0</td>\n",
       "      <td>0</td>\n",
       "      <td>0</td>\n",
       "      <td>1</td>\n",
       "      <td>2</td>\n",
       "      <td>1</td>\n",
       "      <td>1</td>\n",
       "      <td>9</td>\n",
       "      <td>1</td>\n",
       "    </tr>\n",
       "    <tr>\n",
       "      <th>2</th>\n",
       "      <td>0011a226-afee-4570-9ca1-39d974b85eec</td>\n",
       "      <td>F</td>\n",
       "      <td>23.0</td>\n",
       "      <td>Miss</td>\n",
       "      <td>a2.a3.aa.ad.h5.ha.hw.w3.wa.wo</td>\n",
       "      <td>Inactive</td>\n",
       "      <td>58</td>\n",
       "      <td>3</td>\n",
       "      <td>03</td>\n",
       "      <td>4</td>\n",
       "      <td>...</td>\n",
       "      <td>0</td>\n",
       "      <td>0</td>\n",
       "      <td>0</td>\n",
       "      <td>0</td>\n",
       "      <td>1</td>\n",
       "      <td>1</td>\n",
       "      <td>1</td>\n",
       "      <td>1</td>\n",
       "      <td>7</td>\n",
       "      <td>0</td>\n",
       "    </tr>\n",
       "    <tr>\n",
       "      <th>3</th>\n",
       "      <td>0026c824-9f0c-4ed1-9032-5355d570eccb</td>\n",
       "      <td>F</td>\n",
       "      <td>68.0</td>\n",
       "      <td>Mrs</td>\n",
       "      <td>aa.ad.ha.hw.wa.wo</td>\n",
       "      <td>Inactive</td>\n",
       "      <td>96</td>\n",
       "      <td>6</td>\n",
       "      <td>01</td>\n",
       "      <td>7</td>\n",
       "      <td>...</td>\n",
       "      <td>0</td>\n",
       "      <td>0</td>\n",
       "      <td>0</td>\n",
       "      <td>0</td>\n",
       "      <td>-1</td>\n",
       "      <td>1</td>\n",
       "      <td>0</td>\n",
       "      <td>1</td>\n",
       "      <td>9</td>\n",
       "      <td>0</td>\n",
       "    </tr>\n",
       "    <tr>\n",
       "      <th>4</th>\n",
       "      <td>00333af0-8484-42a9-b82c-29e03f930aae</td>\n",
       "      <td>M</td>\n",
       "      <td>73.0</td>\n",
       "      <td>Mr</td>\n",
       "      <td>aa.ad.ha.hw.ma.me</td>\n",
       "      <td>Active</td>\n",
       "      <td>69</td>\n",
       "      <td>4</td>\n",
       "      <td>01</td>\n",
       "      <td>6</td>\n",
       "      <td>...</td>\n",
       "      <td>0</td>\n",
       "      <td>0</td>\n",
       "      <td>0</td>\n",
       "      <td>0</td>\n",
       "      <td>1</td>\n",
       "      <td>2</td>\n",
       "      <td>1</td>\n",
       "      <td>1</td>\n",
       "      <td>8</td>\n",
       "      <td>0</td>\n",
       "    </tr>\n",
       "  </tbody>\n",
       "</table>\n",
       "<p>5 rows × 87 columns</p>\n",
       "</div>"
      ],
      "text/plain": [
       "                              viewer_id gender   age title  \\\n",
       "0  00024436-1ae8-45a3-a12b-bb99b7b17d07      M  25.0    Mr   \n",
       "1  000410f9-441e-4f11-bddb-632c78dfed62      M  36.0    Mr   \n",
       "2  0011a226-afee-4570-9ca1-39d974b85eec      F  23.0  Miss   \n",
       "3  0026c824-9f0c-4ed1-9032-5355d570eccb      F  68.0   Mrs   \n",
       "4  00333af0-8484-42a9-b82c-29e03f930aae      M  73.0    Mr   \n",
       "\n",
       "                            barb lifestage pc_h_resident_property_val_perc  \\\n",
       "0       a2.a3.ad.axa.h5.hw.m3.me    Active                              24   \n",
       "1        aa.ad.h5.ha.hc.hw.ma.me    Active                              83   \n",
       "2  a2.a3.aa.ad.h5.ha.hw.w3.wa.wo  Inactive                              58   \n",
       "3              aa.ad.ha.hw.wa.wo  Inactive                              96   \n",
       "4              aa.ad.ha.hw.ma.me    Active                              69   \n",
       "\n",
       "  pc_p_personal_income_band_v3 pc_h_household_comp pc_h_income_band_v3  \\\n",
       "0                            2                  05                   3   \n",
       "1                            5                  00                   7   \n",
       "2                            3                  03                   4   \n",
       "3                            6                  01                   7   \n",
       "4                            4                  01                   6   \n",
       "\n",
       "       ...       watch_parents_content watch_diverse_ch_content  \\\n",
       "0      ...                           0                        0   \n",
       "1      ...                           0                        0   \n",
       "2      ...                           0                        0   \n",
       "3      ...                           0                        0   \n",
       "4      ...                           0                        0   \n",
       "\n",
       "  watch_repeat_ch_content watch_ch_oi_content income_diff income_diff_pc  \\\n",
       "0                       0                   0           0              1   \n",
       "1                       0                   0           1              2   \n",
       "2                       0                   0           1              1   \n",
       "3                       0                   0          -1              1   \n",
       "4                       0                   0           1              2   \n",
       "\n",
       "  income_diff_pos income_diff_pc_pos pc_h_resident_property_val_perc_sqrt  \\\n",
       "0               0                  1                                    4   \n",
       "1               1                  1                                    9   \n",
       "2               1                  1                                    7   \n",
       "3               0                  1                                    9   \n",
       "4               1                  1                                    8   \n",
       "\n",
       "  hc_target_comb  \n",
       "0              0  \n",
       "1              1  \n",
       "2              0  \n",
       "3              0  \n",
       "4              0  \n",
       "\n",
       "[5 rows x 87 columns]"
      ]
     },
     "execution_count": 73,
     "metadata": {},
     "output_type": "execute_result"
    }
   ],
   "source": [
    "# dfRandomN['hc_target']=list(map(lambda x, y: 1 if x==1 and str(y).upper().find('HC') != -1 else 0,\n",
    "#                                 dfRandomN['h_households_with_children_v3_int'],dfRandomN['barb']))\n",
    "\n",
    "#dfRandomN['hc_target'] =  list(map(lambda x: 1 if x==1 else 0, dfRandomN['h_households_with_children_v3_int']))\n",
    "\n",
    "# 'watch_ch_content', 'watch_parents_content', 'watch_diverse_ch_content', 'watch_repeat_ch_content', 'watch_ch_oi_content'\n",
    "# in combination with pc_young_person_at_addr\n",
    "\n",
    "# pc_h_lone_parent and income_diff_pc\n",
    "\n",
    "def hc_target_comb (row):\n",
    "   if row['h_households_with_children_v3_int'] == 1 :\n",
    "      return 1\n",
    "   elif row['watch_ch_content'] == 1 :\n",
    "      return 1\n",
    "   elif row['watch_diverse_ch_content'] == 1 :\n",
    "      return 1\n",
    "   elif row['watch_repeat_ch_content'] == 1:\n",
    "      return 1\n",
    "   elif row['watch_ch_oi_content']  == 1:\n",
    "      return 1\n",
    "   elif row['pc_young_person_at_addr'] == 1:\n",
    "      return 1\n",
    "   elif row['pc_h_lone_parent'] == 1:\n",
    "      return 1 \n",
    "   return 0\n",
    "\n",
    "dfRandomN['hc_target_comb'] = dfRandomN.apply (lambda row: hc_target_comb (row),axis=1)\n",
    "\n",
    "dfRandomN.head()\n",
    "\n",
    "##take the extra fields added int the target class out of X_train and X_test"
   ]
  },
  {
   "cell_type": "markdown",
   "metadata": {},
   "source": [
    "# Label Encode and One-Hot-Encode Fields for Training"
   ]
  },
  {
   "cell_type": "code",
   "execution_count": 74,
   "metadata": {},
   "outputs": [],
   "source": [
    "idFeatures = ['viewer_id']\n",
    "numericFeatures = ['age_sqrt', 'pc_h_resident_property_val_perc_sqrt', 'pc_h_affluent',  'income_diff_pc',\n",
    "                   'percent_weekday_streaming_float_log', 'watch_parents_content', 'avg_sch_break_viewing', \n",
    "                   'avg_sch_break_choi_viewing']\n",
    "\n",
    "categoricalFeatures=['gender', 'title', 'pc_h_household_comp', 'pc_h_family_lifestage_2011',\n",
    "                     'pc_p_marital_status', 'top_subgenre', 'top_hour_of_day', 'top_hour_of_day_ch_content', \n",
    "                     'top_hour_of_day_choi_content', 'weekday_view_bucket', 'area_class1', 'area_class2',\n",
    "                     'area_class3']\n",
    "\n",
    "classFeatures = ['hc_target_comb', 'barb']"
   ]
  },
  {
   "cell_type": "code",
   "execution_count": 75,
   "metadata": {},
   "outputs": [],
   "source": [
    "# Convert None into NONE values\n",
    "\n",
    "dfRandomN['area_class1']=list(map(MakeNoneIntoValues, dfRandomN['area_class1']))\n",
    "dfRandomN['area_class2']=list(map(MakeNoneIntoValues, dfRandomN['area_class2']))\n",
    "dfRandomN['area_class3']=list(map(MakeNoneIntoValues, dfRandomN['area_class3']))\n",
    "dfRandomN['gender']=list(map(MakeNoneIntoValues, dfRandomN['gender']))\n",
    "dfRandomN['top_subgenre']=list(map(MakeNoneIntoValues, dfRandomN['top_subgenre']))\n",
    "dfRandomN['title']=list(map(MakeNoneIntoValues, dfRandomN['title']))"
   ]
  },
  {
   "cell_type": "code",
   "execution_count": 76,
   "metadata": {},
   "outputs": [],
   "source": [
    "# perform one-hot-encoding\n",
    "\n",
    "gsCAT = Smarties()\n",
    "dfRandomNcats = gsCAT.fit_transform(dfRandomN[categoricalFeatures])"
   ]
  },
  {
   "cell_type": "code",
   "execution_count": 77,
   "metadata": {},
   "outputs": [],
   "source": [
    "# combine encoded and numerical features to create a final set\n",
    "# combine encoded features into one data frame\n",
    "dfRandomNEncoded=pd.concat([dfRandomNcats, dfRandomN[numericFeatures], dfRandomN['hc_target_comb'],\n",
    "                            dfRandomN[idFeatures]], axis=1)"
   ]
  },
  {
   "cell_type": "code",
   "execution_count": 78,
   "metadata": {},
   "outputs": [
    {
     "data": {
      "text/plain": [
       "263"
      ]
     },
     "execution_count": 78,
     "metadata": {},
     "output_type": "execute_result"
    }
   ],
   "source": [
    "len(dfRandomNEncoded.columns)"
   ]
  },
  {
   "cell_type": "markdown",
   "metadata": {},
   "source": [
    "# Split Data Into Train and Test"
   ]
  },
  {
   "cell_type": "code",
   "execution_count": 79,
   "metadata": {},
   "outputs": [],
   "source": [
    "used_columns = list(dfRandomNcats.columns) + numericFeatures\n",
    "\n",
    "X_train, X_test, y_train, y_test = train_test_split(dfRandomNEncoded[used_columns], \n",
    "                                                    dfRandomNEncoded['hc_target_comb'], \n",
    "                                                    test_size=0.35, random_state=11)"
   ]
  },
  {
   "cell_type": "markdown",
   "metadata": {},
   "source": [
    "# Grid Search Cross-Validation for Max_Depth, Class_Weight and Min_Sample_Split"
   ]
  },
  {
   "cell_type": "code",
   "execution_count": 80,
   "metadata": {},
   "outputs": [],
   "source": [
    "scoring_basic = {'Recall': make_scorer(recall_score, pos_label=1), 'Accuracy': make_scorer(accuracy_score, normalize=True)}\n",
    "scoring_f1 = {'F1': make_scorer(f1_score, pos_label=1)}"
   ]
  },
  {
   "cell_type": "code",
   "execution_count": 34,
   "metadata": {},
   "outputs": [],
   "source": [
    "gs_cv = GridSearchCV(RandomForestClassifier(n_estimators=500, criterion = 'entropy', random_state=11, oob_score=True),\n",
    "                     param_grid = {'min_samples_split': range(5, 20, 5), 'max_depth': range(12, 28, 3),\n",
    "                                   'class_weight': [{1:0.60, 0:0.40}, {1:50, 0:50}, {1:65, 0:35}]},\n",
    "                    scoring=scoring_f1, refit = 'F1')"
   ]
  },
  {
   "cell_type": "code",
   "execution_count": 35,
   "metadata": {},
   "outputs": [
    {
     "ename": "KeyboardInterrupt",
     "evalue": "",
     "output_type": "error",
     "traceback": [
      "\u001b[1;31m---------------------------------------------------------------------------\u001b[0m",
      "\u001b[1;31mKeyboardInterrupt\u001b[0m                         Traceback (most recent call last)",
      "\u001b[1;32m<ipython-input-35-2db22e8aab9b>\u001b[0m in \u001b[0;36m<module>\u001b[1;34m()\u001b[0m\n\u001b[1;32m----> 1\u001b[1;33m \u001b[0mgs_cv\u001b[0m\u001b[1;33m.\u001b[0m\u001b[0mfit\u001b[0m\u001b[1;33m(\u001b[0m\u001b[0mX_train\u001b[0m\u001b[1;33m,\u001b[0m \u001b[0my_train\u001b[0m\u001b[1;33m)\u001b[0m\u001b[1;33m\u001b[0m\u001b[0m\n\u001b[0m",
      "\u001b[1;32m~\\AppData\\Local\\Continuum\\anaconda3\\lib\\site-packages\\sklearn\\model_selection\\_search.py\u001b[0m in \u001b[0;36mfit\u001b[1;34m(self, X, y, groups, **fit_params)\u001b[0m\n\u001b[0;32m    637\u001b[0m                                   error_score=self.error_score)\n\u001b[0;32m    638\u001b[0m           for parameters, (train, test) in product(candidate_params,\n\u001b[1;32m--> 639\u001b[1;33m                                                    cv.split(X, y, groups)))\n\u001b[0m\u001b[0;32m    640\u001b[0m \u001b[1;33m\u001b[0m\u001b[0m\n\u001b[0;32m    641\u001b[0m         \u001b[1;31m# if one choose to see train score, \"out\" will contain train score info\u001b[0m\u001b[1;33m\u001b[0m\u001b[1;33m\u001b[0m\u001b[0m\n",
      "\u001b[1;32m~\\AppData\\Local\\Continuum\\anaconda3\\lib\\site-packages\\sklearn\\externals\\joblib\\parallel.py\u001b[0m in \u001b[0;36m__call__\u001b[1;34m(self, iterable)\u001b[0m\n\u001b[0;32m    777\u001b[0m             \u001b[1;31m# was dispatched. In particular this covers the edge\u001b[0m\u001b[1;33m\u001b[0m\u001b[1;33m\u001b[0m\u001b[0m\n\u001b[0;32m    778\u001b[0m             \u001b[1;31m# case of Parallel used with an exhausted iterator.\u001b[0m\u001b[1;33m\u001b[0m\u001b[1;33m\u001b[0m\u001b[0m\n\u001b[1;32m--> 779\u001b[1;33m             \u001b[1;32mwhile\u001b[0m \u001b[0mself\u001b[0m\u001b[1;33m.\u001b[0m\u001b[0mdispatch_one_batch\u001b[0m\u001b[1;33m(\u001b[0m\u001b[0miterator\u001b[0m\u001b[1;33m)\u001b[0m\u001b[1;33m:\u001b[0m\u001b[1;33m\u001b[0m\u001b[0m\n\u001b[0m\u001b[0;32m    780\u001b[0m                 \u001b[0mself\u001b[0m\u001b[1;33m.\u001b[0m\u001b[0m_iterating\u001b[0m \u001b[1;33m=\u001b[0m \u001b[1;32mTrue\u001b[0m\u001b[1;33m\u001b[0m\u001b[0m\n\u001b[0;32m    781\u001b[0m             \u001b[1;32melse\u001b[0m\u001b[1;33m:\u001b[0m\u001b[1;33m\u001b[0m\u001b[0m\n",
      "\u001b[1;32m~\\AppData\\Local\\Continuum\\anaconda3\\lib\\site-packages\\sklearn\\externals\\joblib\\parallel.py\u001b[0m in \u001b[0;36mdispatch_one_batch\u001b[1;34m(self, iterator)\u001b[0m\n\u001b[0;32m    623\u001b[0m                 \u001b[1;32mreturn\u001b[0m \u001b[1;32mFalse\u001b[0m\u001b[1;33m\u001b[0m\u001b[0m\n\u001b[0;32m    624\u001b[0m             \u001b[1;32melse\u001b[0m\u001b[1;33m:\u001b[0m\u001b[1;33m\u001b[0m\u001b[0m\n\u001b[1;32m--> 625\u001b[1;33m                 \u001b[0mself\u001b[0m\u001b[1;33m.\u001b[0m\u001b[0m_dispatch\u001b[0m\u001b[1;33m(\u001b[0m\u001b[0mtasks\u001b[0m\u001b[1;33m)\u001b[0m\u001b[1;33m\u001b[0m\u001b[0m\n\u001b[0m\u001b[0;32m    626\u001b[0m                 \u001b[1;32mreturn\u001b[0m \u001b[1;32mTrue\u001b[0m\u001b[1;33m\u001b[0m\u001b[0m\n\u001b[0;32m    627\u001b[0m \u001b[1;33m\u001b[0m\u001b[0m\n",
      "\u001b[1;32m~\\AppData\\Local\\Continuum\\anaconda3\\lib\\site-packages\\sklearn\\externals\\joblib\\parallel.py\u001b[0m in \u001b[0;36m_dispatch\u001b[1;34m(self, batch)\u001b[0m\n\u001b[0;32m    586\u001b[0m         \u001b[0mdispatch_timestamp\u001b[0m \u001b[1;33m=\u001b[0m \u001b[0mtime\u001b[0m\u001b[1;33m.\u001b[0m\u001b[0mtime\u001b[0m\u001b[1;33m(\u001b[0m\u001b[1;33m)\u001b[0m\u001b[1;33m\u001b[0m\u001b[0m\n\u001b[0;32m    587\u001b[0m         \u001b[0mcb\u001b[0m \u001b[1;33m=\u001b[0m \u001b[0mBatchCompletionCallBack\u001b[0m\u001b[1;33m(\u001b[0m\u001b[0mdispatch_timestamp\u001b[0m\u001b[1;33m,\u001b[0m \u001b[0mlen\u001b[0m\u001b[1;33m(\u001b[0m\u001b[0mbatch\u001b[0m\u001b[1;33m)\u001b[0m\u001b[1;33m,\u001b[0m \u001b[0mself\u001b[0m\u001b[1;33m)\u001b[0m\u001b[1;33m\u001b[0m\u001b[0m\n\u001b[1;32m--> 588\u001b[1;33m         \u001b[0mjob\u001b[0m \u001b[1;33m=\u001b[0m \u001b[0mself\u001b[0m\u001b[1;33m.\u001b[0m\u001b[0m_backend\u001b[0m\u001b[1;33m.\u001b[0m\u001b[0mapply_async\u001b[0m\u001b[1;33m(\u001b[0m\u001b[0mbatch\u001b[0m\u001b[1;33m,\u001b[0m \u001b[0mcallback\u001b[0m\u001b[1;33m=\u001b[0m\u001b[0mcb\u001b[0m\u001b[1;33m)\u001b[0m\u001b[1;33m\u001b[0m\u001b[0m\n\u001b[0m\u001b[0;32m    589\u001b[0m         \u001b[0mself\u001b[0m\u001b[1;33m.\u001b[0m\u001b[0m_jobs\u001b[0m\u001b[1;33m.\u001b[0m\u001b[0mappend\u001b[0m\u001b[1;33m(\u001b[0m\u001b[0mjob\u001b[0m\u001b[1;33m)\u001b[0m\u001b[1;33m\u001b[0m\u001b[0m\n\u001b[0;32m    590\u001b[0m \u001b[1;33m\u001b[0m\u001b[0m\n",
      "\u001b[1;32m~\\AppData\\Local\\Continuum\\anaconda3\\lib\\site-packages\\sklearn\\externals\\joblib\\_parallel_backends.py\u001b[0m in \u001b[0;36mapply_async\u001b[1;34m(self, func, callback)\u001b[0m\n\u001b[0;32m    109\u001b[0m     \u001b[1;32mdef\u001b[0m \u001b[0mapply_async\u001b[0m\u001b[1;33m(\u001b[0m\u001b[0mself\u001b[0m\u001b[1;33m,\u001b[0m \u001b[0mfunc\u001b[0m\u001b[1;33m,\u001b[0m \u001b[0mcallback\u001b[0m\u001b[1;33m=\u001b[0m\u001b[1;32mNone\u001b[0m\u001b[1;33m)\u001b[0m\u001b[1;33m:\u001b[0m\u001b[1;33m\u001b[0m\u001b[0m\n\u001b[0;32m    110\u001b[0m         \u001b[1;34m\"\"\"Schedule a func to be run\"\"\"\u001b[0m\u001b[1;33m\u001b[0m\u001b[0m\n\u001b[1;32m--> 111\u001b[1;33m         \u001b[0mresult\u001b[0m \u001b[1;33m=\u001b[0m \u001b[0mImmediateResult\u001b[0m\u001b[1;33m(\u001b[0m\u001b[0mfunc\u001b[0m\u001b[1;33m)\u001b[0m\u001b[1;33m\u001b[0m\u001b[0m\n\u001b[0m\u001b[0;32m    112\u001b[0m         \u001b[1;32mif\u001b[0m \u001b[0mcallback\u001b[0m\u001b[1;33m:\u001b[0m\u001b[1;33m\u001b[0m\u001b[0m\n\u001b[0;32m    113\u001b[0m             \u001b[0mcallback\u001b[0m\u001b[1;33m(\u001b[0m\u001b[0mresult\u001b[0m\u001b[1;33m)\u001b[0m\u001b[1;33m\u001b[0m\u001b[0m\n",
      "\u001b[1;32m~\\AppData\\Local\\Continuum\\anaconda3\\lib\\site-packages\\sklearn\\externals\\joblib\\_parallel_backends.py\u001b[0m in \u001b[0;36m__init__\u001b[1;34m(self, batch)\u001b[0m\n\u001b[0;32m    330\u001b[0m         \u001b[1;31m# Don't delay the application, to avoid keeping the input\u001b[0m\u001b[1;33m\u001b[0m\u001b[1;33m\u001b[0m\u001b[0m\n\u001b[0;32m    331\u001b[0m         \u001b[1;31m# arguments in memory\u001b[0m\u001b[1;33m\u001b[0m\u001b[1;33m\u001b[0m\u001b[0m\n\u001b[1;32m--> 332\u001b[1;33m         \u001b[0mself\u001b[0m\u001b[1;33m.\u001b[0m\u001b[0mresults\u001b[0m \u001b[1;33m=\u001b[0m \u001b[0mbatch\u001b[0m\u001b[1;33m(\u001b[0m\u001b[1;33m)\u001b[0m\u001b[1;33m\u001b[0m\u001b[0m\n\u001b[0m\u001b[0;32m    333\u001b[0m \u001b[1;33m\u001b[0m\u001b[0m\n\u001b[0;32m    334\u001b[0m     \u001b[1;32mdef\u001b[0m \u001b[0mget\u001b[0m\u001b[1;33m(\u001b[0m\u001b[0mself\u001b[0m\u001b[1;33m)\u001b[0m\u001b[1;33m:\u001b[0m\u001b[1;33m\u001b[0m\u001b[0m\n",
      "\u001b[1;32m~\\AppData\\Local\\Continuum\\anaconda3\\lib\\site-packages\\sklearn\\externals\\joblib\\parallel.py\u001b[0m in \u001b[0;36m__call__\u001b[1;34m(self)\u001b[0m\n\u001b[0;32m    129\u001b[0m \u001b[1;33m\u001b[0m\u001b[0m\n\u001b[0;32m    130\u001b[0m     \u001b[1;32mdef\u001b[0m \u001b[0m__call__\u001b[0m\u001b[1;33m(\u001b[0m\u001b[0mself\u001b[0m\u001b[1;33m)\u001b[0m\u001b[1;33m:\u001b[0m\u001b[1;33m\u001b[0m\u001b[0m\n\u001b[1;32m--> 131\u001b[1;33m         \u001b[1;32mreturn\u001b[0m \u001b[1;33m[\u001b[0m\u001b[0mfunc\u001b[0m\u001b[1;33m(\u001b[0m\u001b[1;33m*\u001b[0m\u001b[0margs\u001b[0m\u001b[1;33m,\u001b[0m \u001b[1;33m**\u001b[0m\u001b[0mkwargs\u001b[0m\u001b[1;33m)\u001b[0m \u001b[1;32mfor\u001b[0m \u001b[0mfunc\u001b[0m\u001b[1;33m,\u001b[0m \u001b[0margs\u001b[0m\u001b[1;33m,\u001b[0m \u001b[0mkwargs\u001b[0m \u001b[1;32min\u001b[0m \u001b[0mself\u001b[0m\u001b[1;33m.\u001b[0m\u001b[0mitems\u001b[0m\u001b[1;33m]\u001b[0m\u001b[1;33m\u001b[0m\u001b[0m\n\u001b[0m\u001b[0;32m    132\u001b[0m \u001b[1;33m\u001b[0m\u001b[0m\n\u001b[0;32m    133\u001b[0m     \u001b[1;32mdef\u001b[0m \u001b[0m__len__\u001b[0m\u001b[1;33m(\u001b[0m\u001b[0mself\u001b[0m\u001b[1;33m)\u001b[0m\u001b[1;33m:\u001b[0m\u001b[1;33m\u001b[0m\u001b[0m\n",
      "\u001b[1;32m~\\AppData\\Local\\Continuum\\anaconda3\\lib\\site-packages\\sklearn\\externals\\joblib\\parallel.py\u001b[0m in \u001b[0;36m<listcomp>\u001b[1;34m(.0)\u001b[0m\n\u001b[0;32m    129\u001b[0m \u001b[1;33m\u001b[0m\u001b[0m\n\u001b[0;32m    130\u001b[0m     \u001b[1;32mdef\u001b[0m \u001b[0m__call__\u001b[0m\u001b[1;33m(\u001b[0m\u001b[0mself\u001b[0m\u001b[1;33m)\u001b[0m\u001b[1;33m:\u001b[0m\u001b[1;33m\u001b[0m\u001b[0m\n\u001b[1;32m--> 131\u001b[1;33m         \u001b[1;32mreturn\u001b[0m \u001b[1;33m[\u001b[0m\u001b[0mfunc\u001b[0m\u001b[1;33m(\u001b[0m\u001b[1;33m*\u001b[0m\u001b[0margs\u001b[0m\u001b[1;33m,\u001b[0m \u001b[1;33m**\u001b[0m\u001b[0mkwargs\u001b[0m\u001b[1;33m)\u001b[0m \u001b[1;32mfor\u001b[0m \u001b[0mfunc\u001b[0m\u001b[1;33m,\u001b[0m \u001b[0margs\u001b[0m\u001b[1;33m,\u001b[0m \u001b[0mkwargs\u001b[0m \u001b[1;32min\u001b[0m \u001b[0mself\u001b[0m\u001b[1;33m.\u001b[0m\u001b[0mitems\u001b[0m\u001b[1;33m]\u001b[0m\u001b[1;33m\u001b[0m\u001b[0m\n\u001b[0m\u001b[0;32m    132\u001b[0m \u001b[1;33m\u001b[0m\u001b[0m\n\u001b[0;32m    133\u001b[0m     \u001b[1;32mdef\u001b[0m \u001b[0m__len__\u001b[0m\u001b[1;33m(\u001b[0m\u001b[0mself\u001b[0m\u001b[1;33m)\u001b[0m\u001b[1;33m:\u001b[0m\u001b[1;33m\u001b[0m\u001b[0m\n",
      "\u001b[1;32m~\\AppData\\Local\\Continuum\\anaconda3\\lib\\site-packages\\sklearn\\model_selection\\_validation.py\u001b[0m in \u001b[0;36m_fit_and_score\u001b[1;34m(estimator, X, y, scorer, train, test, verbose, parameters, fit_params, return_train_score, return_parameters, return_n_test_samples, return_times, error_score)\u001b[0m\n\u001b[0;32m    456\u001b[0m             \u001b[0mestimator\u001b[0m\u001b[1;33m.\u001b[0m\u001b[0mfit\u001b[0m\u001b[1;33m(\u001b[0m\u001b[0mX_train\u001b[0m\u001b[1;33m,\u001b[0m \u001b[1;33m**\u001b[0m\u001b[0mfit_params\u001b[0m\u001b[1;33m)\u001b[0m\u001b[1;33m\u001b[0m\u001b[0m\n\u001b[0;32m    457\u001b[0m         \u001b[1;32melse\u001b[0m\u001b[1;33m:\u001b[0m\u001b[1;33m\u001b[0m\u001b[0m\n\u001b[1;32m--> 458\u001b[1;33m             \u001b[0mestimator\u001b[0m\u001b[1;33m.\u001b[0m\u001b[0mfit\u001b[0m\u001b[1;33m(\u001b[0m\u001b[0mX_train\u001b[0m\u001b[1;33m,\u001b[0m \u001b[0my_train\u001b[0m\u001b[1;33m,\u001b[0m \u001b[1;33m**\u001b[0m\u001b[0mfit_params\u001b[0m\u001b[1;33m)\u001b[0m\u001b[1;33m\u001b[0m\u001b[0m\n\u001b[0m\u001b[0;32m    459\u001b[0m \u001b[1;33m\u001b[0m\u001b[0m\n\u001b[0;32m    460\u001b[0m     \u001b[1;32mexcept\u001b[0m \u001b[0mException\u001b[0m \u001b[1;32mas\u001b[0m \u001b[0me\u001b[0m\u001b[1;33m:\u001b[0m\u001b[1;33m\u001b[0m\u001b[0m\n",
      "\u001b[1;32m~\\AppData\\Local\\Continuum\\anaconda3\\lib\\site-packages\\sklearn\\ensemble\\forest.py\u001b[0m in \u001b[0;36mfit\u001b[1;34m(self, X, y, sample_weight)\u001b[0m\n\u001b[0;32m    326\u001b[0m                     \u001b[0mt\u001b[0m\u001b[1;33m,\u001b[0m \u001b[0mself\u001b[0m\u001b[1;33m,\u001b[0m \u001b[0mX\u001b[0m\u001b[1;33m,\u001b[0m \u001b[0my\u001b[0m\u001b[1;33m,\u001b[0m \u001b[0msample_weight\u001b[0m\u001b[1;33m,\u001b[0m \u001b[0mi\u001b[0m\u001b[1;33m,\u001b[0m \u001b[0mlen\u001b[0m\u001b[1;33m(\u001b[0m\u001b[0mtrees\u001b[0m\u001b[1;33m)\u001b[0m\u001b[1;33m,\u001b[0m\u001b[1;33m\u001b[0m\u001b[0m\n\u001b[0;32m    327\u001b[0m                     verbose=self.verbose, class_weight=self.class_weight)\n\u001b[1;32m--> 328\u001b[1;33m                 for i, t in enumerate(trees))\n\u001b[0m\u001b[0;32m    329\u001b[0m \u001b[1;33m\u001b[0m\u001b[0m\n\u001b[0;32m    330\u001b[0m             \u001b[1;31m# Collect newly grown trees\u001b[0m\u001b[1;33m\u001b[0m\u001b[1;33m\u001b[0m\u001b[0m\n",
      "\u001b[1;32m~\\AppData\\Local\\Continuum\\anaconda3\\lib\\site-packages\\sklearn\\externals\\joblib\\parallel.py\u001b[0m in \u001b[0;36m__call__\u001b[1;34m(self, iterable)\u001b[0m\n\u001b[0;32m    777\u001b[0m             \u001b[1;31m# was dispatched. In particular this covers the edge\u001b[0m\u001b[1;33m\u001b[0m\u001b[1;33m\u001b[0m\u001b[0m\n\u001b[0;32m    778\u001b[0m             \u001b[1;31m# case of Parallel used with an exhausted iterator.\u001b[0m\u001b[1;33m\u001b[0m\u001b[1;33m\u001b[0m\u001b[0m\n\u001b[1;32m--> 779\u001b[1;33m             \u001b[1;32mwhile\u001b[0m \u001b[0mself\u001b[0m\u001b[1;33m.\u001b[0m\u001b[0mdispatch_one_batch\u001b[0m\u001b[1;33m(\u001b[0m\u001b[0miterator\u001b[0m\u001b[1;33m)\u001b[0m\u001b[1;33m:\u001b[0m\u001b[1;33m\u001b[0m\u001b[0m\n\u001b[0m\u001b[0;32m    780\u001b[0m                 \u001b[0mself\u001b[0m\u001b[1;33m.\u001b[0m\u001b[0m_iterating\u001b[0m \u001b[1;33m=\u001b[0m \u001b[1;32mTrue\u001b[0m\u001b[1;33m\u001b[0m\u001b[0m\n\u001b[0;32m    781\u001b[0m             \u001b[1;32melse\u001b[0m\u001b[1;33m:\u001b[0m\u001b[1;33m\u001b[0m\u001b[0m\n",
      "\u001b[1;32m~\\AppData\\Local\\Continuum\\anaconda3\\lib\\site-packages\\sklearn\\externals\\joblib\\parallel.py\u001b[0m in \u001b[0;36mdispatch_one_batch\u001b[1;34m(self, iterator)\u001b[0m\n\u001b[0;32m    623\u001b[0m                 \u001b[1;32mreturn\u001b[0m \u001b[1;32mFalse\u001b[0m\u001b[1;33m\u001b[0m\u001b[0m\n\u001b[0;32m    624\u001b[0m             \u001b[1;32melse\u001b[0m\u001b[1;33m:\u001b[0m\u001b[1;33m\u001b[0m\u001b[0m\n\u001b[1;32m--> 625\u001b[1;33m                 \u001b[0mself\u001b[0m\u001b[1;33m.\u001b[0m\u001b[0m_dispatch\u001b[0m\u001b[1;33m(\u001b[0m\u001b[0mtasks\u001b[0m\u001b[1;33m)\u001b[0m\u001b[1;33m\u001b[0m\u001b[0m\n\u001b[0m\u001b[0;32m    626\u001b[0m                 \u001b[1;32mreturn\u001b[0m \u001b[1;32mTrue\u001b[0m\u001b[1;33m\u001b[0m\u001b[0m\n\u001b[0;32m    627\u001b[0m \u001b[1;33m\u001b[0m\u001b[0m\n",
      "\u001b[1;32m~\\AppData\\Local\\Continuum\\anaconda3\\lib\\site-packages\\sklearn\\externals\\joblib\\parallel.py\u001b[0m in \u001b[0;36m_dispatch\u001b[1;34m(self, batch)\u001b[0m\n\u001b[0;32m    586\u001b[0m         \u001b[0mdispatch_timestamp\u001b[0m \u001b[1;33m=\u001b[0m \u001b[0mtime\u001b[0m\u001b[1;33m.\u001b[0m\u001b[0mtime\u001b[0m\u001b[1;33m(\u001b[0m\u001b[1;33m)\u001b[0m\u001b[1;33m\u001b[0m\u001b[0m\n\u001b[0;32m    587\u001b[0m         \u001b[0mcb\u001b[0m \u001b[1;33m=\u001b[0m \u001b[0mBatchCompletionCallBack\u001b[0m\u001b[1;33m(\u001b[0m\u001b[0mdispatch_timestamp\u001b[0m\u001b[1;33m,\u001b[0m \u001b[0mlen\u001b[0m\u001b[1;33m(\u001b[0m\u001b[0mbatch\u001b[0m\u001b[1;33m)\u001b[0m\u001b[1;33m,\u001b[0m \u001b[0mself\u001b[0m\u001b[1;33m)\u001b[0m\u001b[1;33m\u001b[0m\u001b[0m\n\u001b[1;32m--> 588\u001b[1;33m         \u001b[0mjob\u001b[0m \u001b[1;33m=\u001b[0m \u001b[0mself\u001b[0m\u001b[1;33m.\u001b[0m\u001b[0m_backend\u001b[0m\u001b[1;33m.\u001b[0m\u001b[0mapply_async\u001b[0m\u001b[1;33m(\u001b[0m\u001b[0mbatch\u001b[0m\u001b[1;33m,\u001b[0m \u001b[0mcallback\u001b[0m\u001b[1;33m=\u001b[0m\u001b[0mcb\u001b[0m\u001b[1;33m)\u001b[0m\u001b[1;33m\u001b[0m\u001b[0m\n\u001b[0m\u001b[0;32m    589\u001b[0m         \u001b[0mself\u001b[0m\u001b[1;33m.\u001b[0m\u001b[0m_jobs\u001b[0m\u001b[1;33m.\u001b[0m\u001b[0mappend\u001b[0m\u001b[1;33m(\u001b[0m\u001b[0mjob\u001b[0m\u001b[1;33m)\u001b[0m\u001b[1;33m\u001b[0m\u001b[0m\n\u001b[0;32m    590\u001b[0m \u001b[1;33m\u001b[0m\u001b[0m\n",
      "\u001b[1;32m~\\AppData\\Local\\Continuum\\anaconda3\\lib\\site-packages\\sklearn\\externals\\joblib\\_parallel_backends.py\u001b[0m in \u001b[0;36mapply_async\u001b[1;34m(self, func, callback)\u001b[0m\n\u001b[0;32m    109\u001b[0m     \u001b[1;32mdef\u001b[0m \u001b[0mapply_async\u001b[0m\u001b[1;33m(\u001b[0m\u001b[0mself\u001b[0m\u001b[1;33m,\u001b[0m \u001b[0mfunc\u001b[0m\u001b[1;33m,\u001b[0m \u001b[0mcallback\u001b[0m\u001b[1;33m=\u001b[0m\u001b[1;32mNone\u001b[0m\u001b[1;33m)\u001b[0m\u001b[1;33m:\u001b[0m\u001b[1;33m\u001b[0m\u001b[0m\n\u001b[0;32m    110\u001b[0m         \u001b[1;34m\"\"\"Schedule a func to be run\"\"\"\u001b[0m\u001b[1;33m\u001b[0m\u001b[0m\n\u001b[1;32m--> 111\u001b[1;33m         \u001b[0mresult\u001b[0m \u001b[1;33m=\u001b[0m \u001b[0mImmediateResult\u001b[0m\u001b[1;33m(\u001b[0m\u001b[0mfunc\u001b[0m\u001b[1;33m)\u001b[0m\u001b[1;33m\u001b[0m\u001b[0m\n\u001b[0m\u001b[0;32m    112\u001b[0m         \u001b[1;32mif\u001b[0m \u001b[0mcallback\u001b[0m\u001b[1;33m:\u001b[0m\u001b[1;33m\u001b[0m\u001b[0m\n\u001b[0;32m    113\u001b[0m             \u001b[0mcallback\u001b[0m\u001b[1;33m(\u001b[0m\u001b[0mresult\u001b[0m\u001b[1;33m)\u001b[0m\u001b[1;33m\u001b[0m\u001b[0m\n",
      "\u001b[1;32m~\\AppData\\Local\\Continuum\\anaconda3\\lib\\site-packages\\sklearn\\externals\\joblib\\_parallel_backends.py\u001b[0m in \u001b[0;36m__init__\u001b[1;34m(self, batch)\u001b[0m\n\u001b[0;32m    330\u001b[0m         \u001b[1;31m# Don't delay the application, to avoid keeping the input\u001b[0m\u001b[1;33m\u001b[0m\u001b[1;33m\u001b[0m\u001b[0m\n\u001b[0;32m    331\u001b[0m         \u001b[1;31m# arguments in memory\u001b[0m\u001b[1;33m\u001b[0m\u001b[1;33m\u001b[0m\u001b[0m\n\u001b[1;32m--> 332\u001b[1;33m         \u001b[0mself\u001b[0m\u001b[1;33m.\u001b[0m\u001b[0mresults\u001b[0m \u001b[1;33m=\u001b[0m \u001b[0mbatch\u001b[0m\u001b[1;33m(\u001b[0m\u001b[1;33m)\u001b[0m\u001b[1;33m\u001b[0m\u001b[0m\n\u001b[0m\u001b[0;32m    333\u001b[0m \u001b[1;33m\u001b[0m\u001b[0m\n\u001b[0;32m    334\u001b[0m     \u001b[1;32mdef\u001b[0m \u001b[0mget\u001b[0m\u001b[1;33m(\u001b[0m\u001b[0mself\u001b[0m\u001b[1;33m)\u001b[0m\u001b[1;33m:\u001b[0m\u001b[1;33m\u001b[0m\u001b[0m\n",
      "\u001b[1;32m~\\AppData\\Local\\Continuum\\anaconda3\\lib\\site-packages\\sklearn\\externals\\joblib\\parallel.py\u001b[0m in \u001b[0;36m__call__\u001b[1;34m(self)\u001b[0m\n\u001b[0;32m    129\u001b[0m \u001b[1;33m\u001b[0m\u001b[0m\n\u001b[0;32m    130\u001b[0m     \u001b[1;32mdef\u001b[0m \u001b[0m__call__\u001b[0m\u001b[1;33m(\u001b[0m\u001b[0mself\u001b[0m\u001b[1;33m)\u001b[0m\u001b[1;33m:\u001b[0m\u001b[1;33m\u001b[0m\u001b[0m\n\u001b[1;32m--> 131\u001b[1;33m         \u001b[1;32mreturn\u001b[0m \u001b[1;33m[\u001b[0m\u001b[0mfunc\u001b[0m\u001b[1;33m(\u001b[0m\u001b[1;33m*\u001b[0m\u001b[0margs\u001b[0m\u001b[1;33m,\u001b[0m \u001b[1;33m**\u001b[0m\u001b[0mkwargs\u001b[0m\u001b[1;33m)\u001b[0m \u001b[1;32mfor\u001b[0m \u001b[0mfunc\u001b[0m\u001b[1;33m,\u001b[0m \u001b[0margs\u001b[0m\u001b[1;33m,\u001b[0m \u001b[0mkwargs\u001b[0m \u001b[1;32min\u001b[0m \u001b[0mself\u001b[0m\u001b[1;33m.\u001b[0m\u001b[0mitems\u001b[0m\u001b[1;33m]\u001b[0m\u001b[1;33m\u001b[0m\u001b[0m\n\u001b[0m\u001b[0;32m    132\u001b[0m \u001b[1;33m\u001b[0m\u001b[0m\n\u001b[0;32m    133\u001b[0m     \u001b[1;32mdef\u001b[0m \u001b[0m__len__\u001b[0m\u001b[1;33m(\u001b[0m\u001b[0mself\u001b[0m\u001b[1;33m)\u001b[0m\u001b[1;33m:\u001b[0m\u001b[1;33m\u001b[0m\u001b[0m\n",
      "\u001b[1;32m~\\AppData\\Local\\Continuum\\anaconda3\\lib\\site-packages\\sklearn\\externals\\joblib\\parallel.py\u001b[0m in \u001b[0;36m<listcomp>\u001b[1;34m(.0)\u001b[0m\n\u001b[0;32m    129\u001b[0m \u001b[1;33m\u001b[0m\u001b[0m\n\u001b[0;32m    130\u001b[0m     \u001b[1;32mdef\u001b[0m \u001b[0m__call__\u001b[0m\u001b[1;33m(\u001b[0m\u001b[0mself\u001b[0m\u001b[1;33m)\u001b[0m\u001b[1;33m:\u001b[0m\u001b[1;33m\u001b[0m\u001b[0m\n\u001b[1;32m--> 131\u001b[1;33m         \u001b[1;32mreturn\u001b[0m \u001b[1;33m[\u001b[0m\u001b[0mfunc\u001b[0m\u001b[1;33m(\u001b[0m\u001b[1;33m*\u001b[0m\u001b[0margs\u001b[0m\u001b[1;33m,\u001b[0m \u001b[1;33m**\u001b[0m\u001b[0mkwargs\u001b[0m\u001b[1;33m)\u001b[0m \u001b[1;32mfor\u001b[0m \u001b[0mfunc\u001b[0m\u001b[1;33m,\u001b[0m \u001b[0margs\u001b[0m\u001b[1;33m,\u001b[0m \u001b[0mkwargs\u001b[0m \u001b[1;32min\u001b[0m \u001b[0mself\u001b[0m\u001b[1;33m.\u001b[0m\u001b[0mitems\u001b[0m\u001b[1;33m]\u001b[0m\u001b[1;33m\u001b[0m\u001b[0m\n\u001b[0m\u001b[0;32m    132\u001b[0m \u001b[1;33m\u001b[0m\u001b[0m\n\u001b[0;32m    133\u001b[0m     \u001b[1;32mdef\u001b[0m \u001b[0m__len__\u001b[0m\u001b[1;33m(\u001b[0m\u001b[0mself\u001b[0m\u001b[1;33m)\u001b[0m\u001b[1;33m:\u001b[0m\u001b[1;33m\u001b[0m\u001b[0m\n",
      "\u001b[1;32m~\\AppData\\Local\\Continuum\\anaconda3\\lib\\site-packages\\sklearn\\ensemble\\forest.py\u001b[0m in \u001b[0;36m_parallel_build_trees\u001b[1;34m(tree, forest, X, y, sample_weight, tree_idx, n_trees, verbose, class_weight)\u001b[0m\n\u001b[0;32m    119\u001b[0m             \u001b[0mcurr_sample_weight\u001b[0m \u001b[1;33m*=\u001b[0m \u001b[0mcompute_sample_weight\u001b[0m\u001b[1;33m(\u001b[0m\u001b[1;34m'balanced'\u001b[0m\u001b[1;33m,\u001b[0m \u001b[0my\u001b[0m\u001b[1;33m,\u001b[0m \u001b[0mindices\u001b[0m\u001b[1;33m)\u001b[0m\u001b[1;33m\u001b[0m\u001b[0m\n\u001b[0;32m    120\u001b[0m \u001b[1;33m\u001b[0m\u001b[0m\n\u001b[1;32m--> 121\u001b[1;33m         \u001b[0mtree\u001b[0m\u001b[1;33m.\u001b[0m\u001b[0mfit\u001b[0m\u001b[1;33m(\u001b[0m\u001b[0mX\u001b[0m\u001b[1;33m,\u001b[0m \u001b[0my\u001b[0m\u001b[1;33m,\u001b[0m \u001b[0msample_weight\u001b[0m\u001b[1;33m=\u001b[0m\u001b[0mcurr_sample_weight\u001b[0m\u001b[1;33m,\u001b[0m \u001b[0mcheck_input\u001b[0m\u001b[1;33m=\u001b[0m\u001b[1;32mFalse\u001b[0m\u001b[1;33m)\u001b[0m\u001b[1;33m\u001b[0m\u001b[0m\n\u001b[0m\u001b[0;32m    122\u001b[0m     \u001b[1;32melse\u001b[0m\u001b[1;33m:\u001b[0m\u001b[1;33m\u001b[0m\u001b[0m\n\u001b[0;32m    123\u001b[0m         \u001b[0mtree\u001b[0m\u001b[1;33m.\u001b[0m\u001b[0mfit\u001b[0m\u001b[1;33m(\u001b[0m\u001b[0mX\u001b[0m\u001b[1;33m,\u001b[0m \u001b[0my\u001b[0m\u001b[1;33m,\u001b[0m \u001b[0msample_weight\u001b[0m\u001b[1;33m=\u001b[0m\u001b[0msample_weight\u001b[0m\u001b[1;33m,\u001b[0m \u001b[0mcheck_input\u001b[0m\u001b[1;33m=\u001b[0m\u001b[1;32mFalse\u001b[0m\u001b[1;33m)\u001b[0m\u001b[1;33m\u001b[0m\u001b[0m\n",
      "\u001b[1;32m~\\AppData\\Local\\Continuum\\anaconda3\\lib\\site-packages\\sklearn\\tree\\tree.py\u001b[0m in \u001b[0;36mfit\u001b[1;34m(self, X, y, sample_weight, check_input, X_idx_sorted)\u001b[0m\n\u001b[0;32m    788\u001b[0m             \u001b[0msample_weight\u001b[0m\u001b[1;33m=\u001b[0m\u001b[0msample_weight\u001b[0m\u001b[1;33m,\u001b[0m\u001b[1;33m\u001b[0m\u001b[0m\n\u001b[0;32m    789\u001b[0m             \u001b[0mcheck_input\u001b[0m\u001b[1;33m=\u001b[0m\u001b[0mcheck_input\u001b[0m\u001b[1;33m,\u001b[0m\u001b[1;33m\u001b[0m\u001b[0m\n\u001b[1;32m--> 790\u001b[1;33m             X_idx_sorted=X_idx_sorted)\n\u001b[0m\u001b[0;32m    791\u001b[0m         \u001b[1;32mreturn\u001b[0m \u001b[0mself\u001b[0m\u001b[1;33m\u001b[0m\u001b[0m\n\u001b[0;32m    792\u001b[0m \u001b[1;33m\u001b[0m\u001b[0m\n",
      "\u001b[1;32m~\\AppData\\Local\\Continuum\\anaconda3\\lib\\site-packages\\sklearn\\tree\\tree.py\u001b[0m in \u001b[0;36mfit\u001b[1;34m(self, X, y, sample_weight, check_input, X_idx_sorted)\u001b[0m\n\u001b[0;32m    360\u001b[0m                                            min_impurity_split)\n\u001b[0;32m    361\u001b[0m \u001b[1;33m\u001b[0m\u001b[0m\n\u001b[1;32m--> 362\u001b[1;33m         \u001b[0mbuilder\u001b[0m\u001b[1;33m.\u001b[0m\u001b[0mbuild\u001b[0m\u001b[1;33m(\u001b[0m\u001b[0mself\u001b[0m\u001b[1;33m.\u001b[0m\u001b[0mtree_\u001b[0m\u001b[1;33m,\u001b[0m \u001b[0mX\u001b[0m\u001b[1;33m,\u001b[0m \u001b[0my\u001b[0m\u001b[1;33m,\u001b[0m \u001b[0msample_weight\u001b[0m\u001b[1;33m,\u001b[0m \u001b[0mX_idx_sorted\u001b[0m\u001b[1;33m)\u001b[0m\u001b[1;33m\u001b[0m\u001b[0m\n\u001b[0m\u001b[0;32m    363\u001b[0m \u001b[1;33m\u001b[0m\u001b[0m\n\u001b[0;32m    364\u001b[0m         \u001b[1;32mif\u001b[0m \u001b[0mself\u001b[0m\u001b[1;33m.\u001b[0m\u001b[0mn_outputs_\u001b[0m \u001b[1;33m==\u001b[0m \u001b[1;36m1\u001b[0m\u001b[1;33m:\u001b[0m\u001b[1;33m\u001b[0m\u001b[0m\n",
      "\u001b[1;31mKeyboardInterrupt\u001b[0m: "
     ]
    }
   ],
   "source": [
    "gs_cv.fit(X_train, y_train)"
   ]
  },
  {
   "cell_type": "code",
   "execution_count": 61,
   "metadata": {},
   "outputs": [
    {
     "data": {
      "text/plain": [
       "RandomForestClassifier(bootstrap=True, class_weight={1: 65, 0: 35},\n",
       "            criterion='entropy', max_depth=21, max_features='auto',\n",
       "            max_leaf_nodes=None, min_impurity_decrease=0.0,\n",
       "            min_impurity_split=None, min_samples_leaf=1,\n",
       "            min_samples_split=15, min_weight_fraction_leaf=0.0,\n",
       "            n_estimators=500, n_jobs=1, oob_score=True, random_state=11,\n",
       "            verbose=0, warm_start=False)"
      ]
     },
     "execution_count": 61,
     "metadata": {},
     "output_type": "execute_result"
    }
   ],
   "source": [
    "gs_cv.best_estimator_"
   ]
  },
  {
   "cell_type": "code",
   "execution_count": 62,
   "metadata": {},
   "outputs": [
    {
     "data": {
      "text/plain": [
       "0.6134954111056071"
      ]
     },
     "execution_count": 62,
     "metadata": {},
     "output_type": "execute_result"
    }
   ],
   "source": [
    "gs_cv.best_score_"
   ]
  },
  {
   "cell_type": "markdown",
   "metadata": {},
   "source": [
    "# Fit and Predict Using RFC"
   ]
  },
  {
   "cell_type": "code",
   "execution_count": 81,
   "metadata": {},
   "outputs": [],
   "source": [
    "clfRFC = RandomForestClassifier(n_estimators=600, max_depth = 21, criterion = 'entropy', random_state=11,\n",
    "                                min_samples_split=15, oob_score=True, class_weight={1:0.65, 0:0.35})"
   ]
  },
  {
   "cell_type": "code",
   "execution_count": 82,
   "metadata": {},
   "outputs": [
    {
     "data": {
      "text/plain": [
       "RandomForestClassifier(bootstrap=True, class_weight={1: 0.65, 0: 0.35},\n",
       "            criterion='entropy', max_depth=21, max_features='auto',\n",
       "            max_leaf_nodes=None, min_impurity_decrease=0.0,\n",
       "            min_impurity_split=None, min_samples_leaf=1,\n",
       "            min_samples_split=15, min_weight_fraction_leaf=0.0,\n",
       "            n_estimators=600, n_jobs=1, oob_score=True, random_state=11,\n",
       "            verbose=0, warm_start=False)"
      ]
     },
     "execution_count": 82,
     "metadata": {},
     "output_type": "execute_result"
    }
   ],
   "source": [
    "clfRFC.fit(X_train, y_train)"
   ]
  },
  {
   "cell_type": "code",
   "execution_count": 83,
   "metadata": {},
   "outputs": [
    {
     "name": "stdout",
     "output_type": "stream",
     "text": [
      "Accuracy score:  0.7205333333333334\n",
      "             precision    recall  f1-score   support\n",
      "\n",
      "          0       0.87      0.51      0.64     51310\n",
      "          1       0.66      0.92      0.77     53690\n",
      "\n",
      "avg / total       0.76      0.72      0.71    105000\n",
      "\n"
     ]
    }
   ],
   "source": [
    "predictionsclfRFC = clfRFC.predict(X_test)\n",
    "print (\"Accuracy score: \", accuracy_score(y_test, predictionsclfRFC))\n",
    "print(classification_report(y_test, predictionsclfRFC))"
   ]
  },
  {
   "cell_type": "code",
   "execution_count": 84,
   "metadata": {},
   "outputs": [
    {
     "name": "stdout",
     "output_type": "stream",
     "text": [
      "Accuracy score:  0.7300102564102564\n",
      "             precision    recall  f1-score   support\n",
      "\n",
      "          0       0.88      0.52      0.65     94890\n",
      "          1       0.67      0.93      0.78    100110\n",
      "\n",
      "avg / total       0.77      0.73      0.72    195000\n",
      "\n"
     ]
    }
   ],
   "source": [
    "# check what happens on train test - is the difference in accuracy large?\n",
    "predictionsclfRFC_train = clfRFC.predict(X_train)\n",
    "print (\"Accuracy score: \", accuracy_score(y_train, predictionsclfRFC_train))\n",
    "print(classification_report(y_train, predictionsclfRFC_train))"
   ]
  },
  {
   "cell_type": "code",
   "execution_count": 85,
   "metadata": {},
   "outputs": [],
   "source": [
    "feature_importance = sorted(tuple(zip(dfRandomNEncoded[used_columns].columns,clfRFC.feature_importances_)),\n",
    "                            key=operator.itemgetter(1))"
   ]
  },
  {
   "cell_type": "code",
   "execution_count": 86,
   "metadata": {},
   "outputs": [
    {
     "data": {
      "text/plain": [
       "[('top_hour_of_day_choi_content_evening', 0.1983403906216407),\n",
       " ('age_sqrt', 0.12930631625495775),\n",
       " ('top_hour_of_day_choi_content_day', 0.11690973418374147),\n",
       " ('top_hour_of_day_choi_content_evening commute', 0.08007935884868772),\n",
       " ('avg_sch_break_choi_viewing', 0.06409315980265852),\n",
       " ('top_hour_of_day_choi_content_night', 0.04989591322849939),\n",
       " ('top_subgenre_{\"id\":\"US COMEDY\",\"ranking\":\"1\"}', 0.03892331225061573),\n",
       " ('top_hour_of_day_ch_content_day', 0.027833328055473068),\n",
       " ('top_hour_of_day_choi_content_morning commute', 0.027470289515127148),\n",
       " ('top_subgenre_{\"id\":\"TALENT SHOWS\",\"ranking\":\"1\"}', 0.025565280085690718),\n",
       " ('top_hour_of_day_ch_content_evening', 0.021598523306755865),\n",
       " ('top_hour_of_day_ch_content_evening commute', 0.016978968197741005),\n",
       " ('top_subgenre_{\"id\":\"CRIME AND THRILLERS\",\"ranking\":\"1\"}',\n",
       "  0.01187375888740356),\n",
       " ('top_hour_of_day_ch_content_morning commute', 0.008980633185847513),\n",
       " ('watch_parents_content', 0.007723720397370085),\n",
       " ('pc_h_resident_property_val_perc_sqrt', 0.007666080596283497),\n",
       " ('pc_h_family_lifestage_2011_06', 0.007476546743398839),\n",
       " ('top_subgenre_{\"id\":\"CHILDREN\\'S ANIMATION\",\"ranking\":\"1\"}',\n",
       "  0.007022436364271439),\n",
       " ('area_class2_Challenged Asian terraces', 0.006377327649799087),\n",
       " ('percent_weekday_streaming_float_log', 0.006010965373497043),\n",
       " ('pc_h_family_lifestage_2011_10', 0.005605206756292269),\n",
       " ('area_class3_Pakistani communities', 0.005443488510686307),\n",
       " ('pc_h_family_lifestage_2011_11', 0.005361946165286691),\n",
       " ('top_subgenre_{\"id\":\"DATING SHOWS\",\"ranking\":\"1\"}', 0.004404880904972745),\n",
       " ('area_class2_Migration and churn', 0.004155149134653634),\n",
       " ('title_Mrs', 0.004112216556084078),\n",
       " ('title_Miss', 0.0037436253094663926),\n",
       " ('area_class3_Young hard-pressed families', 0.003642564456860626),\n",
       " ('area_class1_Cosmopolitans', 0.0033708112181628385),\n",
       " ('area_class1_Urbanites', 0.0032567911342822557),\n",
       " ('pc_h_family_lifestage_2011_07', 0.0031552948804967093),\n",
       " ('weekday_view_bucket_LOW', 0.003115665123601726),\n",
       " ('pc_h_family_lifestage_2011_12', 0.0030145591938663587),\n",
       " ('income_diff_pc', 0.002808756318142514),\n",
       " ('top_hour_of_day_ch_content_night', 0.0027344777129250496),\n",
       " ('top_subgenre_{\"id\":\"PERIOD AND HISTORICAL\",\"ranking\":\"1\"}',\n",
       "  0.0021456466690645804),\n",
       " ('pc_h_affluent', 0.0020183324480818935),\n",
       " ('top_hour_of_day_evening commute', 0.0019598120171758103),\n",
       " ('top_hour_of_day_evening', 0.0019462487341468037),\n",
       " ('area_class2_Ageing urban living', 0.001911425650893684),\n",
       " ('weekday_view_bucket_VERY HIGH', 0.001907152100354781),\n",
       " ('gender_M', 0.0017535409413768114),\n",
       " ('weekday_view_bucket_VERY LOW', 0.0016896355724422521),\n",
       " ('pc_h_family_lifestage_2011_08', 0.0016660086028387744),\n",
       " ('pc_h_household_comp_04', 0.0016467169358281688),\n",
       " ('top_hour_of_day_day', 0.001575374322704169),\n",
       " ('gender_F', 0.0015750915225776257),\n",
       " ('area_class1_Multicultural metropolitans', 0.0015279071028956018),\n",
       " ('area_class1_Hard-pressed living', 0.0015167611584720922),\n",
       " ('pc_h_household_comp_00', 0.0014850117704112262),\n",
       " ('title_Mr', 0.0014573715958804368),\n",
       " ('top_subgenre_{\"id\":\"LONG-RUNNING DRAMA\",\"ranking\":\"1\"}',\n",
       "  0.0013310199856373767),\n",
       " ('pc_h_family_lifestage_2011_03', 0.0012936684720152327),\n",
       " ('top_hour_of_day_night', 0.0012821244691636228),\n",
       " ('avg_sch_break_viewing', 0.0012101453450648442),\n",
       " ('area_class3_Asian terraces and flats', 0.001085436906282644),\n",
       " ('title_Ms', 0.0010575493998143419),\n",
       " ('pc_p_marital_status_0', 0.001056917241884814),\n",
       " ('pc_p_marital_status_1', 0.0009896524372395817),\n",
       " ('pc_h_household_comp_05', 0.0009723375974109142),\n",
       " ('pc_h_family_lifestage_2011_00', 0.0009703140736837462),\n",
       " ('weekday_view_bucket_MODERATE', 0.0009670279565024337),\n",
       " ('pc_h_family_lifestage_2011_09', 0.0009504870018624498),\n",
       " ('top_hour_of_day_morning commute', 0.0008228036057690606),\n",
       " ('top_subgenre_{\"id\":\"FACTUAL ENTERTAINMENT\",\"ranking\":\"1\"}',\n",
       "  0.0008205014189063821),\n",
       " ('area_class2_Urban professionals and families', 0.0008025237946911406),\n",
       " ('pc_h_household_comp_02', 0.0007333454183681102),\n",
       " ('pc_h_household_comp_01', 0.0007256960396160482),\n",
       " ('pc_h_family_lifestage_2011_02', 0.0007180230772763536),\n",
       " ('title_None', 0.000705033327496295),\n",
       " ('area_class2_Ethnic family life', 0.0006800232081434705),\n",
       " ('area_class3_Social renting young families', 0.0006255306893681864),\n",
       " ('area_class3_Constrained young families', 0.000610058178298267),\n",
       " ('area_class1_Suburbanites', 0.0006013584058335933),\n",
       " ('pc_h_household_comp_08', 0.0005715273435004762),\n",
       " ('area_class3_Self-sufficient retirement', 0.0005663412860724535),\n",
       " ('area_class2_Suburban achievers', 0.0005579195832302026),\n",
       " ('area_class1_Constrained city dwellers', 0.0005546979047073802),\n",
       " ('pc_h_family_lifestage_2011_04', 0.0005530755556934733),\n",
       " ('area_class2_Semi-detached suburbia', 0.0005452963561933807),\n",
       " ('top_subgenre_{\"id\":\"DOCUMENTARY\",\"ranking\":\"1\"}', 0.0005421696881139129),\n",
       " ('area_class3_Multi-ethnic hardship', 0.0005387287416387044),\n",
       " ('area_class2_Aspiring and affluent', 0.0005360059252663362),\n",
       " ('weekday_view_bucket_HIGH', 0.0005324146478540821),\n",
       " ('area_class3_Comfortable suburbia', 0.0005192512898037493),\n",
       " ('area_class3_Communal retirement', 0.0005142096015981836),\n",
       " ('area_class2_Aspirational techies', 0.0005129854248797289),\n",
       " ('area_class3_Established renting families', 0.0005078844749949213),\n",
       " ('top_subgenre_{\"id\":\"FOOTBALL\",\"ranking\":\"1\"}', 0.0005053329830844402),\n",
       " ('area_class1_Ethnicity central', 0.0004927373101444781),\n",
       " ('area_class3_Ageing industrious workers', 0.0004693387025650293),\n",
       " ('area_class3_Hard-pressed ethnic mix', 0.0004385518640025162),\n",
       " ('area_class3_Families in terraces and flats', 0.00042560712811202754),\n",
       " ('area_class2_Rented family living', 0.0003997412341510567),\n",
       " ('area_class2_Students around campus', 0.0003980300892270399),\n",
       " ('pc_h_household_comp_03', 0.00039739552745395577),\n",
       " ('top_subgenre_{\"id\":\"TRAVEL, ADVENTURE AND EXPLORATION\",\"ranking\":\"1\"}',\n",
       "  0.0003896785468151141),\n",
       " ('top_subgenre_{\"id\":\"SCRIPTED FACTUAL\",\"ranking\":\"1\"}',\n",
       "  0.0003851125160665431),\n",
       " ('area_class3_White professionals', 0.00038469907693398925),\n",
       " ('top_subgenre_{\"id\":\"QUIZ AND GAME SHOWS\",\"ranking\":\"1\"}',\n",
       "  0.0003716992111031537),\n",
       " ('top_subgenre_{\"id\":\"SITUATION COMEDY\",\"ranking\":\"1\"}',\n",
       "  0.0003626249434894131),\n",
       " ('area_class2_Comfortable cosmopolitan', 0.0003559572799467327),\n",
       " ('pc_h_family_lifestage_2011_05', 0.0003457766467668514),\n",
       " ('top_subgenre_{\"id\":\"CHAT AND MAGAZINE\",\"ranking\":\"1\"}',\n",
       "  0.00034472777643109945),\n",
       " ('area_class3_Industrious transitions', 0.0003441725554582122),\n",
       " ('top_subgenre_{\"id\":\"CYCLING\",\"ranking\":\"1\"}', 0.00034006250736609545),\n",
       " ('area_class1_Rural residents', 0.00033466250791820603),\n",
       " ('area_class2_Rural tenants', 0.00032817261948837455),\n",
       " ('area_class3_Delayed retirement', 0.00032464009922509386),\n",
       " ('area_class3_Rural workers and families', 0.0003230952196729138),\n",
       " ('area_class2_Hard pressed ageing workers', 0.0003128497156925983),\n",
       " ('area_class2_Farming communities', 0.00031059271976259083),\n",
       " ('top_subgenre_{\"id\":\"CRIME DOCUMENTARY\",\"ranking\":\"1\"}',\n",
       "  0.00030986252667502737),\n",
       " ('area_class2_Asian traits', 0.0003078475834591933),\n",
       " ('area_class3_Multi-ethnic professionals with families',\n",
       "  0.00030779191279833466),\n",
       " ('area_class3_Industrious hardship', 0.00030422008504714875),\n",
       " ('area_class3_White suburban communities', 0.00029586859612945143),\n",
       " ('area_class3_Private renting new arrivals', 0.0002935200397230756),\n",
       " ('top_subgenre_{\"id\":\"REAL LIVES\",\"ranking\":\"1\"}', 0.0002883523345160476),\n",
       " ('area_class3_Semi-detached ageing', 0.0002880886494320849),\n",
       " ('area_class2_Challenged diversity', 0.00028615559687165005),\n",
       " ('area_class3_Students and professionals', 0.0002781524968964847),\n",
       " ('area_class3_Hampered aspiration', 0.0002743627246590598),\n",
       " ('area_class2_Endeavouring ethnic mix', 0.0002724845198913621),\n",
       " ('area_class3_Older workers and retirement', 0.0002676413115571655),\n",
       " ('area_class2_Industrious communities', 0.0002648370469386295),\n",
       " ('area_class2_White communities', 0.0002622922415531636),\n",
       " ('top_subgenre_{\"id\":\"SOCIAL DRAMA\",\"ranking\":\"1\"}', 0.00025907505030202643),\n",
       " ('area_class3_Inner city ethnic mix', 0.00025223558779985833),\n",
       " ('area_class3_Hard-Pressed European Settlers', 0.00024960567922026995),\n",
       " ('pc_h_family_lifestage_2011_01', 0.00024900964899516074),\n",
       " ('area_class2_Challenged terraced workers', 0.0002473896319029462),\n",
       " ('top_subgenre_{\"id\":\"MOTOR SPORT\",\"ranking\":\"1\"}', 0.00024648363317690195),\n",
       " ('area_class3_Detached retirement living', 0.0002413592336277419),\n",
       " ('top_subgenre_{\"id\":\"CHILDREN\\'S ENTERTAINMENT\",\"ranking\":\"1\"}',\n",
       "  0.00023816259596927427),\n",
       " ('area_class3_Deprived blue-collar terraces', 0.0002368616366866258),\n",
       " ('area_class3_Striving service workers', 0.00023321430179658738),\n",
       " ('area_class3_Rural white-collar workers', 0.00022662253562402094),\n",
       " ('area_class3_Rural life', 0.00022349152056969773),\n",
       " ('area_class3_Highly-qualified quaternary workers', 0.00021053249851761004),\n",
       " ('area_class2_Ageing rural dwellers', 0.00021020564713406843),\n",
       " ('area_class3_Ageing in suburbia', 0.0002098497281377199),\n",
       " ('top_subgenre_{\"id\":\"FAMILY ENTERTAINMENT\",\"ranking\":\"1\"}',\n",
       "  0.00020589091157134661),\n",
       " ('area_class3_Hard pressed rented terraces', 0.00020549105608699757),\n",
       " ('pc_h_household_comp_06', 0.0002054828176411769),\n",
       " ('area_class3_Agricultural communities', 0.000202518109978323),\n",
       " ('area_class3_Migrant families', 0.00019723269060717725),\n",
       " ('top_subgenre_{\"id\":\"NEWS\",\"ranking\":\"1\"}', 0.00019479068624963635),\n",
       " ('pc_h_household_comp_07', 0.00019355463933298168),\n",
       " ('area_class3_Multi-ethnic suburbia', 0.00019277651872167393),\n",
       " ('area_class3_Ageing rural industry workers', 0.0001892411887018786),\n",
       " ('area_class3_Commuters with young families', 0.00018905748049167142),\n",
       " ('area_class3_Ageing rural flat tenants', 0.0001848363090811884),\n",
       " ('area_class3_Established farming communities', 0.0001831041352308722),\n",
       " ('area_class3_Renting hard-pressed workers', 0.00018234230314229208),\n",
       " ('area_class3_Indian tech achievers', 0.0001816581843304272),\n",
       " ('area_class3_Old EU tech workers', 0.0001720172609628004),\n",
       " ('area_class2_Inner city students', 0.00015571142269758475),\n",
       " ('area_class2_Ageing city dwellers', 0.00015499179464275193),\n",
       " ('area_class3_EU white-collar workers', 0.00015429999195425368),\n",
       " ('top_subgenre_{\"id\":\"CURRENT AFFAIRS\",\"ranking\":\"1\"}',\n",
       "  0.00015213836059426456),\n",
       " ('area_class3_Achieving minorities', 0.00014665171957244357),\n",
       " ('area_class3_Established tech workers', 0.00014583126153199915),\n",
       " ('top_subgenre_{\"id\":\"RUGBY UNION\",\"ranking\":\"1\"}', 0.00014472173859870845),\n",
       " ('top_subgenre_{\"id\":\"SKETCH SHOWS\",\"ranking\":\"1\"}', 0.0001433830072702998),\n",
       " ('top_subgenre_{\"id\":\"WILDLIFE AND ENVIRONMENT\",\"ranking\":\"1\"}',\n",
       "  0.0001426562721401254),\n",
       " ('area_class3_Older farming communities', 0.00013686041150389697),\n",
       " ('area_class3_Urban cultural mix', 0.0001352961845240104),\n",
       " ('area_class3_New EU tech workers', 0.0001340746441215361),\n",
       " ('area_class3_Detached rural retirement', 0.0001319312573474866),\n",
       " ('area_class3_Bangladeshi mixed employment', 0.00013043891443548735),\n",
       " ('area_class3_Multicultural new arrivals', 0.0001273912197650809),\n",
       " ('top_subgenre_{\"id\":\"MEDICAL\",\"ranking\":\"1\"}', 0.00012600869705450712),\n",
       " ('area_class3_Transitional Eastern European neighbourhood',\n",
       "  0.00012179396676449285),\n",
       " ('top_subgenre_{\"id\":\"VARIETY\",\"ranking\":\"1\"}', 0.00011923653369558625),\n",
       " ('top_subgenre_{\"id\":\"ACTION AND ADVENTURE\",\"ranking\":\"1\"}',\n",
       "  0.00011750951470972581),\n",
       " ('area_class3_Challenged transitionaries', 0.00011399677703218115),\n",
       " ('area_class3_Outer city hardship', 0.00010978900982838549),\n",
       " ('top_subgenre_{\"id\":\"PARENTING AND RELATIONSHIPS\",\"ranking\":\"1\"}',\n",
       "  0.00010888415613055064),\n",
       " ('area_class3_Young families and students', 0.00010345844047208175),\n",
       " ('area_class3_Renting rural retirement', 0.00010223755223728611),\n",
       " ('top_subgenre_{\"id\":\"COMEDY DRAMA\",\"ranking\":\"1\"}', 9.68959333047727e-05),\n",
       " ('top_subgenre_{\"id\":\"HORSE RACING\",\"ranking\":\"1\"}', 9.666193086686104e-05),\n",
       " ('top_subgenre_{\"id\":\"AWARDS SHOWS\",\"ranking\":\"1\"}', 9.374170824353433e-05),\n",
       " ('area_class3_Multi-ethnic professional service workers',\n",
       "  8.762425964106153e-05),\n",
       " ('area_class2_Constrained flat dwellers', 8.672768693828068e-05),\n",
       " ('top_subgenre_{\"id\":\"FOOD AND DRINK\",\"ranking\":\"1\"}', 8.642606814310283e-05),\n",
       " ('top_subgenre_{\"id\":\"POLITICS\",\"ranking\":\"1\"}', 8.3319447439534e-05),\n",
       " ('area_class3_Rural employment and retirees', 8.255057506887058e-05),\n",
       " ('top_subgenre_{\"id\":\"FAMILY DRAMA\",\"ranking\":\"1\"}', 8.24258826639511e-05),\n",
       " ('top_subgenre_{\"id\":\"WRESTLING\",\"ranking\":\"1\"}', 8.027025178825758e-05),\n",
       " ('area_class3_Multicultural student neighbourhood', 7.974597727688988e-05),\n",
       " ('area_class3_Ageing communities and families', 7.763273982552955e-05),\n",
       " ('area_class3_Retired communal city dwellers', 7.635758886696107e-05),\n",
       " ('top_subgenre_{\"id\":\"CLIP SHOWS\",\"ranking\":\"1\"}', 7.480252430984738e-05),\n",
       " ('area_class2_Ethnic dynamics', 7.447151396939086e-05),\n",
       " ('area_class3_Professional service cosmopolitans', 7.415101145852878e-05),\n",
       " ('area_class3_Constrained neighbourhoods', 7.150412626656267e-05),\n",
       " ('pc_h_household_comp_10', 6.767492892240062e-05),\n",
       " ('top_subgenre_{\"id\":\"HORROR\",\"ranking\":\"1\"}', 5.975543821725049e-05),\n",
       " ('area_class3_Students and commuters', 5.8004954290887925e-05),\n",
       " ('area_class3_Student communal living', 5.696261834464258e-05),\n",
       " ('area_class3_Deprived neighbourhoods', 5.357589183490974e-05),\n",
       " ('top_subgenre_{\"id\":\"SPORTS EVENT\",\"ranking\":\"1\"}', 5.302389285206366e-05),\n",
       " ('area_class3_Eastern European communities', 5.300584221622818e-05),\n",
       " ('pc_h_household_comp_11', 4.974484694895207e-05),\n",
       " ('area_class3_Student digs', 4.718814802865857e-05),\n",
       " ('top_subgenre_{\"id\":\"BOXING\",\"ranking\":\"1\"}', 4.6625741068060204e-05),\n",
       " ('top_subgenre_{\"id\":\"BUSINESS AND CONSUMER\",\"ranking\":\"1\"}',\n",
       "  4.6486781298294204e-05),\n",
       " ('top_subgenre_{\"id\":\"COMEDY\",\"ranking\":\"1\"}', 4.342484788340068e-05),\n",
       " ('top_subgenre_{\"id\":\"SPORT\",\"ranking\":\"1\"}', 4.069960104423517e-05),\n",
       " ('top_subgenre_{\"id\":\"CRIME AND THRILLERS\"}', 3.99702971349637e-05),\n",
       " ('top_subgenre_{\"id\":\"CONTEMPORARY BRITISH\",\"ranking\":\"1\"}',\n",
       "  3.736210144289077e-05),\n",
       " ('area_class3_Retired independent city dwellers', 3.2878008266325754e-05),\n",
       " ('pc_h_household_comp_09', 3.270602330692956e-05),\n",
       " ('area_class3_Migrant commuters', 3.094221749300037e-05),\n",
       " ('top_subgenre_{\"id\":\"US DRAMA\",\"ranking\":\"1\"}', 3.0186864550219316e-05),\n",
       " ('top_subgenre_{\"id\":\"CELEBRITIES\",\"ranking\":\"1\"}', 2.9949487551492655e-05),\n",
       " ('top_subgenre_{\"id\":\"CRIME AND THRILLER\",\"ranking\":\"1\"}',\n",
       "  2.8220273797504137e-05),\n",
       " ('area_class3_Endeavouring flat dwellers', 2.8073732845119848e-05),\n",
       " ('top_subgenre_{\"id\":\"CHILDREN\\'S FILM\",\"ranking\":\"1\"}',\n",
       "  2.3783585033599625e-05),\n",
       " ('top_subgenre_{\"id\":\"TV MOVIE\",\"ranking\":\"1\"}', 2.2980307007334746e-05),\n",
       " ('top_subgenre_{\"id\":\"TRAVEL, ADVENTURE AND EXPLORATION\"}',\n",
       "  1.900969847504668e-05),\n",
       " ('top_subgenre_{\"id\":\"CHILDREN\\'S QUIZ AND GAME SHOWS\",\"ranking\":\"1\"}',\n",
       "  1.876647186206717e-05),\n",
       " ('top_subgenre_{\"id\":\"HOBBIES AND INTERESTS\",\"ranking\":\"1\"}',\n",
       "  1.6324907201589223e-05),\n",
       " ('top_subgenre_{\"id\":\"CLASSIC COMEDY\",\"ranking\":\"1\"}',\n",
       "  1.6253437985006778e-05),\n",
       " ('top_subgenre_{\"id\":\"CHILDREN\\'S DRAMA\",\"ranking\":\"1\"}',\n",
       "  1.3509479566331068e-05),\n",
       " ('top_subgenre_{\"id\":\"BASED ON A TRUE STORY\",\"ranking\":\"1\"}',\n",
       "  1.2369641563179023e-05),\n",
       " ('top_subgenre_{\"id\":\"CHILDREN\\'S ACTION AND ADVENTURE\",\"ranking\":\"1\"}',\n",
       "  1.1444666553884193e-05),\n",
       " ('top_subgenre_{\"id\":\"CHILDREN\\'S SCIENCE FICTION AND FANTASY\",\"ranking\":\"1\"}',\n",
       "  1.0861024322264282e-05),\n",
       " ('gender_None', 1.0358707918855355e-05),\n",
       " ('area_class3_Constrained commuters', 9.422387251953199e-06),\n",
       " ('pc_p_marital_status_U', 9.04538131892756e-06),\n",
       " ('top_subgenre_{\"id\":\"ACTION & ADVENTURE\",\"ranking\":\"1\"}',\n",
       "  8.990617208389543e-06),\n",
       " ('pc_h_household_comp_U', 8.073442279491953e-06),\n",
       " ('pc_h_family_lifestage_2011_U', 7.898863812045042e-06),\n",
       " ('top_subgenre_{\"id\":\"DRAMA DOCUMENTARY\",\"ranking\":\"1\"}',\n",
       "  7.388620317956616e-06),\n",
       " ('top_subgenre_{\"id\":\"CHILDREN\\'S COMEDY\",\"ranking\":\"1\"}',\n",
       "  6.667324772063258e-06),\n",
       " ('top_subgenre_{\"id\":\"MUSIC PROGRAMMES\",\"ranking\":\"1\"}',\n",
       "  5.959508378739367e-06),\n",
       " ('top_subgenre_{\"id\":\"RELIGIOUS WORSHIP/SERVICES\",\"ranking\":\"1\"}',\n",
       "  4.135142492593089e-06),\n",
       " ('top_subgenre_{\"id\":\"TENNIS\",\"ranking\":\"1\"}', 3.7300045790666044e-06),\n",
       " ('top_subgenre_{\"id\":\"FAMILY COMEDY\",\"ranking\":\"1\"}', 3.427036139592976e-06),\n",
       " ('top_subgenre_{\"id\":\"BIOGRAPHIES\",\"ranking\":\"1\"}', 3.0521629701091553e-06),\n",
       " ('top_subgenre_{\"id\":\"DRAMA\",\"ranking\":\"1\"}', 3.0215062871759743e-06),\n",
       " ('area_class3_Retired city hardship', 2.9721742792037695e-06),\n",
       " ('top_subgenre_{\"id\":\"SPECIAL EVENTS\",\"ranking\":\"1\"}', 2.428031921837126e-06),\n",
       " ('top_subgenre_{\"id\":\"FACTUAL ENTERTAINMENT\"}', 1.3814780886468574e-06),\n",
       " ('top_subgenre_{\"id\":\"ROMANTIC\",\"ranking\":\"1\"}', 1.3414506446525954e-06),\n",
       " ('top_subgenre_{\"id\":\"HISTORY\",\"ranking\":\"1\"}', 1.3172723576812206e-06),\n",
       " ('top_subgenre_{\"id\":\"FILM ANIMATION\",\"ranking\":\"1\"}',\n",
       "  1.2027928657580488e-06)]"
      ]
     },
     "execution_count": 86,
     "metadata": {},
     "output_type": "execute_result"
    }
   ],
   "source": [
    "feature_importance[:10:-1]"
   ]
  },
  {
   "cell_type": "markdown",
   "metadata": {},
   "source": [
    "# Read In the PWC dataset"
   ]
  },
  {
   "cell_type": "code",
   "execution_count": 88,
   "metadata": {},
   "outputs": [],
   "source": [
    "# Read in the PWC dataset\n",
    "\n",
    "dfPWC = pd.DataFrame()\n",
    "used_columns =  \" viewer_id, gender, age, title, barb, lifestage, \" + \\\n",
    "                \" pc_h_resident_property_val_perc, pc_p_personal_income_band_v3, \" + \\\n",
    "                \" pc_h_household_comp, pc_h_income_band_v3, \" + \\\n",
    "                \" pc_length_of_residence, pc_h_lifestage, pc_h_number_of_bedrooms, pc_p_marital_status, \" + \\\n",
    "                \" pc_h_prperty_type_v2, pc_h_family_lifestage_2011, pc_h_lone_parent, pc_young_person_at_addr, \" + \\\n",
    "                \" pc_p_affluence_v2, pc_h_affluence_v2, h_households_with_children_v3, \" + \\\n",
    "                \" p_personal_income_band_v3, h_income_band_v3, \" + \\\n",
    "                \" weekday_streaming, nonweekday_streaming, \" + \\\n",
    "                \" top_genre_id, top_subgenre, watch_ch_content_sum, watch_diverse_ch_content_sum, \" + \\\n",
    "                \" watch_parents_content_sum, watch_repeat_ch_content_sum, watch_ch_oi_content_sum, top_hour_of_day, \" + \\\n",
    "                \" top_hour_of_day_ch_content, top_hour_of_day_choi_content, percent_weekday_streaming, weekday_view_bucket, \" + \\\n",
    "                \" area_class1, area_class2, area_class3, \" + \\\n",
    "                \" avg_sprbrk_viewing, avg_sumbrk_viewing, avg_nonsch_hol_viewing, avg_sprbrk_ch_viewing, \" + \\\n",
    "                \" avg_sumbrk_ch_viewing, avg_nonsch_hol_ch_viewing \"\n",
    "\n",
    "query_data = \"Select \" + used_columns + \\\n",
    "              \" from sandbox.pwc_summary_hc_2018_es;\"\n",
    "\n",
    "try: \n",
    "    con = get_svv_connection()\n",
    "\n",
    "    cur = con.cursor()\n",
    "\n",
    "    cur.execute(query_data)\n",
    "\n",
    "    cols = [item.lstrip().rstrip() for item in used_columns.split(',')]\n",
    "    dfPWC = pd.DataFrame(cur.fetchall(), columns = cols)\n",
    "    \n",
    "    \n",
    "except Exception as inst:\n",
    "    print(inst)\n",
    "finally:\n",
    "    cur.close()\n",
    "    con.close()"
   ]
  },
  {
   "cell_type": "markdown",
   "metadata": {},
   "source": [
    "# Process The PWC Dataset"
   ]
  },
  {
   "cell_type": "code",
   "execution_count": 89,
   "metadata": {},
   "outputs": [],
   "source": [
    "dfPWC['h_households_with_children_v3_int']=list(map(int, dfPWC['h_households_with_children_v3']))\n",
    "dfPWC['pc_h_resident_property_val_perc_int'] = list(map(int, dfPWC['pc_h_resident_property_val_perc']))\n",
    "\n",
    "dfPWC['pc_p_personal_income_band_v3_int'] = list(map(int, dfPWC['pc_p_personal_income_band_v3']))\n",
    "\n",
    "dfPWC['pc_h_income_band_v3_int'] = list(map(int, dfPWC['pc_h_income_band_v3']))"
   ]
  },
  {
   "cell_type": "code",
   "execution_count": 90,
   "metadata": {},
   "outputs": [],
   "source": [
    "dfPWC['pc_length_of_residence_int'] = list(map(int, dfPWC['pc_length_of_residence']))\n",
    "dfPWC['pc_h_number_of_bedrooms_int'] = list(map(int, dfPWC['pc_h_number_of_bedrooms']))\n",
    "\n",
    "dfPWC['pc_p_affluence_v2_int']=list(map(int, dfPWC['pc_p_affluence_v2']))\n",
    "dfPWC['pc_h_affluence_v2_int']=list(map(int,dfPWC['pc_h_affluence_v2']))"
   ]
  },
  {
   "cell_type": "code",
   "execution_count": 91,
   "metadata": {},
   "outputs": [],
   "source": [
    "dfPWC['p_personal_income_band_v3_int'] = list(map(int, dfPWC['p_personal_income_band_v3']))\n",
    "dfPWC['h_income_band_v3_int'] = list(map(int, dfPWC['h_income_band_v3']))\n",
    "\n",
    "dfPWC['weekday_streaming_float'] = list(map(lambda x: float(x) if str(x)!='None' else 0,\n",
    "                                                dfPWC['weekday_streaming']))\n",
    "\n",
    "dfPWC['nonweekday_streaming_float'] = list(map(lambda x: float(x) if str(x)!='None' else 0,\n",
    "                                                dfPWC['nonweekday_streaming']))\n",
    "dfPWC['percent_weekday_streaming_float'] = list(map(lambda x: float(x) if str(x)!='None' else 0,\n",
    "                                                dfPWC['percent_weekday_streaming']))"
   ]
  },
  {
   "cell_type": "code",
   "execution_count": 92,
   "metadata": {},
   "outputs": [
    {
     "data": {
      "text/plain": [
       "0.1774193548387097"
      ]
     },
     "execution_count": 92,
     "metadata": {},
     "output_type": "execute_result"
    }
   ],
   "source": [
    "len(dfPWC.loc[dfPWC['h_households_with_children_v3_int']==1])/len(dfPWC.loc[(dfPWC['h_households_with_children_v3_int']==1) | (dfPWC['h_households_with_children_v3_int']==0)])"
   ]
  },
  {
   "cell_type": "code",
   "execution_count": 93,
   "metadata": {},
   "outputs": [],
   "source": [
    "dfPWC['age_sqrt'] = list(map(FixAge, dfPWC['age']))\n",
    "\n",
    "dfPWC['weekday_streaming_float'] = list(map(TransformNones,dfPWC['weekday_streaming_float'] ))\n",
    "\n",
    "dfPWC['nonweekday_streaming_float'] = list(map(TransformNones,dfPWC['nonweekday_streaming_float'] ))\n",
    "\n",
    "dfPWC['percent_weekday_streaming_float'] = list(map(TransformNones,dfPWC['percent_weekday_streaming_float'] ))\n",
    "\n",
    "dfPWC['percent_weekday_streaming_float_log'] = list(map(Log10Normalise,dfPWC['percent_weekday_streaming_float'] ))\n",
    "\n",
    "dfPWC['p_affluent'] = list(map(lambda x: 1 if x>=4 else 0, dfPWC['p_personal_income_band_v3_int']))\n",
    "dfPWC['h_affluent'] = list(map(lambda x: 1 if x>=4 else 0, dfPWC['h_income_band_v3_int']))\n",
    "\n",
    "# Do the same for the Postcode Ones\n",
    "dfPWC['pc_p_affluent'] = list(map(lambda x: 1 if x>=4 else 0, dfPWC['pc_p_personal_income_band_v3_int']))\n",
    "dfPWC['pc_h_affluent'] = list(map(lambda x: 1 if x>=4 else 0, dfPWC['pc_h_income_band_v3_int']))"
   ]
  },
  {
   "cell_type": "code",
   "execution_count": 94,
   "metadata": {},
   "outputs": [],
   "source": [
    "dfPWC['watch_ch_content']=list(map(lambda x: 1 if x>=1 else 0, dfPWC['watch_ch_content_sum']))\n",
    "dfPWC['watch_parents_content']=list(map(lambda x: 1 if x>=1 else 0, dfPWC['watch_parents_content_sum']))\n",
    "dfPWC['watch_diverse_ch_content']=list(map(lambda x: 1 if x>=1 else 0, dfPWC['watch_diverse_ch_content_sum']))\n",
    "dfPWC['watch_repeat_ch_content'] = list(map(lambda x: 1 if x>=1 else 0, dfPWC['watch_repeat_ch_content_sum']))\n",
    "dfPWC['watch_ch_oi_content'] = list(map(lambda x: 1 if x>=1 else 0, dfPWC['watch_ch_oi_content_sum']))"
   ]
  },
  {
   "cell_type": "code",
   "execution_count": 95,
   "metadata": {},
   "outputs": [],
   "source": [
    "dfPWC['income_diff'] = dfPWC['h_income_band_v3_int'] - dfPWC['p_personal_income_band_v3_int']\n",
    "dfPWC['income_diff_pc'] = dfPWC['pc_h_income_band_v3_int'] - dfPWC['pc_p_personal_income_band_v3_int']"
   ]
  },
  {
   "cell_type": "code",
   "execution_count": 96,
   "metadata": {},
   "outputs": [],
   "source": [
    "dfPWC['income_diff_pos'] = list(map(lambda x: 1 if x>0 else 0, dfPWC['income_diff']))\n",
    "dfPWC['income_diff_pc_pos'] = list(map(lambda x: 1 if x>0 else 0, dfPWC['income_diff_pc']))"
   ]
  },
  {
   "cell_type": "code",
   "execution_count": 97,
   "metadata": {},
   "outputs": [],
   "source": [
    "dfPWC['pc_h_resident_property_val_perc_sqrt']=list(map(SqrtNormalise, \n",
    "                                                                   dfPWC['pc_h_resident_property_val_perc_int']))"
   ]
  },
  {
   "cell_type": "code",
   "execution_count": 98,
   "metadata": {},
   "outputs": [],
   "source": [
    "# dfPWC['hc_target']=list(map(lambda x, y: 1 if x==1 and str(y).upper().find('HC') != -1 else 0,\n",
    "#                                 dfPWC['h_households_with_children_v3_int'],dfPWC['barb']))\n",
    "\n",
    "#dfPWC['hc_target'] = list(map(lambda x: 1 if x==1 else 0, dfPWC['h_households_with_children_v3_int']))\n",
    "\n",
    "def pwc_target_comb (row):\n",
    "   if row['h_households_with_children_v3_int'] == 1 :\n",
    "      return 1\n",
    "   elif row['watch_ch_content'] == 1 :\n",
    "      return 1\n",
    "   elif row['watch_diverse_ch_content'] == 1 :\n",
    "      return 1\n",
    "   elif row['watch_repeat_ch_content'] == 1:\n",
    "      return 1\n",
    "   elif row['watch_ch_oi_content']  == 1:\n",
    "      return 1\n",
    "   elif row['pc_young_person_at_addr'] == 1:\n",
    "      return 1\n",
    "   elif row['pc_h_lone_parent'] == 1:\n",
    "      return 1 \n",
    "   return 0\n",
    "\n",
    "dfPWC['pwc_target_comb'] = dfPWC.apply (lambda row: pwc_target_comb (row),axis=1)"
   ]
  },
  {
   "cell_type": "code",
   "execution_count": 99,
   "metadata": {},
   "outputs": [],
   "source": [
    "dfPWC['area_class1']=list(map(MakeNoneIntoValues, dfPWC['area_class1']))\n",
    "dfPWC['area_class2']=list(map(MakeNoneIntoValues, dfPWC['area_class2']))\n",
    "dfPWC['area_class3']=list(map(MakeNoneIntoValues, dfPWC['area_class3']))\n",
    "dfPWC['gender']=list(map(MakeNoneIntoValues, dfPWC['gender']))\n",
    "dfPWC['top_subgenre']=list(map(MakeNoneIntoValues, dfPWC['top_subgenre']))\n",
    "dfPWC['title']=list(map(MakeNoneIntoValues, dfPWC['title']))"
   ]
  },
  {
   "cell_type": "code",
   "execution_count": 100,
   "metadata": {},
   "outputs": [],
   "source": [
    "dfPWC['avg_sprbrk_viewing_float'] = list(map(lambda x: 0 if x is None else float(x),\n",
    "                                                     dfPWC['avg_sprbrk_viewing']))\n",
    "\n",
    "dfPWC['avg_sumbrk_viewing_float'] = list(map(lambda x: 0 if x is None else float(x),\n",
    "                                                     dfPWC['avg_sumbrk_viewing']))\n",
    "\n",
    "dfPWC['avg_nonsch_hol_viewing_float'] = list(map(lambda x: 0 if x is None else float(x),\n",
    "                                                     dfPWC['avg_nonsch_hol_viewing']))\n",
    "\n",
    "dfPWC['avg_sprbrk_ch_viewing_float'] = list(map(lambda x: 0 if x is None else float(x),\n",
    "                                                     dfPWC['avg_sprbrk_ch_viewing']))\n",
    "\n",
    "dfPWC['avg_sumbrk_ch_viewing_float'] = list(map(lambda x: 0 if x is None else float(x),\n",
    "                                                     dfPWC['avg_sumbrk_ch_viewing']))\n",
    "\n",
    "dfPWC['avg_nonsch_hol_ch_viewing_float'] = list(map(lambda x: 0 if x is None else float(x),\n",
    "                                                     dfPWC['avg_nonsch_hol_ch_viewing']))"
   ]
  },
  {
   "cell_type": "code",
   "execution_count": 101,
   "metadata": {},
   "outputs": [],
   "source": [
    "dfPWC['avg_sch_break_viewing'] =  list(map(lambda x,y,z: 1 if x>z or y>z else 0, \n",
    "                                               dfPWC['avg_sprbrk_viewing_float'],\n",
    "                                               dfPWC['avg_sumbrk_viewing_float'],\n",
    "                                               dfPWC['avg_nonsch_hol_viewing_float']))"
   ]
  },
  {
   "cell_type": "code",
   "execution_count": 102,
   "metadata": {},
   "outputs": [],
   "source": [
    "dfPWC['avg_sch_break_choi_viewing'] =  list(map(lambda x,y,z: 1 if x>z or y>z else 0, \n",
    "                                               dfPWC['avg_sprbrk_ch_viewing_float'],\n",
    "                                               dfPWC['avg_sumbrk_ch_viewing_float'],\n",
    "                                               dfPWC['avg_nonsch_hol_ch_viewing_float']))"
   ]
  },
  {
   "cell_type": "code",
   "execution_count": 103,
   "metadata": {},
   "outputs": [],
   "source": [
    "dfPWCcats = gsCAT.transform(dfPWC[categoricalFeatures])"
   ]
  },
  {
   "cell_type": "code",
   "execution_count": 104,
   "metadata": {},
   "outputs": [],
   "source": [
    "numericFeaturesPWC = numericFeatures"
   ]
  },
  {
   "cell_type": "code",
   "execution_count": 106,
   "metadata": {},
   "outputs": [],
   "source": [
    "dfPWCEncoded=pd.concat([dfPWCcats, dfPWC[numericFeaturesPWC], dfPWC['pwc_target_comb'],\n",
    "                            dfPWC[idFeatures]], axis=1)"
   ]
  },
  {
   "cell_type": "code",
   "execution_count": 107,
   "metadata": {},
   "outputs": [
    {
     "data": {
      "text/plain": [
       "263"
      ]
     },
     "execution_count": 107,
     "metadata": {},
     "output_type": "execute_result"
    }
   ],
   "source": [
    "len(dfPWCEncoded.columns)"
   ]
  },
  {
   "cell_type": "code",
   "execution_count": 108,
   "metadata": {},
   "outputs": [],
   "source": [
    "used_columnsPWC = list(dfPWCcats.columns) + numericFeaturesPWC"
   ]
  },
  {
   "cell_type": "code",
   "execution_count": 110,
   "metadata": {},
   "outputs": [
    {
     "name": "stdout",
     "output_type": "stream",
     "text": [
      "Accuracy score:  0.8729838709677419\n",
      "             precision    recall  f1-score   support\n",
      "\n",
      "          0       0.93      0.86      0.89       307\n",
      "          1       0.80      0.89      0.84       189\n",
      "\n",
      "avg / total       0.88      0.87      0.87       496\n",
      "\n"
     ]
    }
   ],
   "source": [
    "predictionsclfRFC = clfRFC.predict(dfPWCEncoded[used_columnsPWC])\n",
    "print (\"Accuracy score: \", accuracy_score(dfPWC['pwc_target_comb'], predictionsclfRFC))\n",
    "print(classification_report(dfPWC['pwc_target_comb'], predictionsclfRFC))"
   ]
  },
  {
   "cell_type": "code",
   "execution_count": 111,
   "metadata": {},
   "outputs": [],
   "source": [
    "dfPWC['hc_predicted'] = predictionsclfRFC\n",
    "dfPWC['hc_prob_1']=[x[:][1] for x in clfRFC.predict_proba(dfPWCEncoded[used_columnsPWC])]"
   ]
  },
  {
   "cell_type": "code",
   "execution_count": 112,
   "metadata": {},
   "outputs": [],
   "source": [
    "dfPWC.to_csv(\"HC_FullPostcode.csv\")"
   ]
  },
  {
   "cell_type": "code",
   "execution_count": null,
   "metadata": {},
   "outputs": [],
   "source": []
  }
 ],
 "metadata": {
  "kernelspec": {
   "display_name": "Python 3",
   "language": "python",
   "name": "python3"
  },
  "language_info": {
   "codemirror_mode": {
    "name": "ipython",
    "version": 3
   },
   "file_extension": ".py",
   "mimetype": "text/x-python",
   "name": "python",
   "nbconvert_exporter": "python",
   "pygments_lexer": "ipython3",
   "version": "3.6.3"
  }
 },
 "nbformat": 4,
 "nbformat_minor": 2
}
