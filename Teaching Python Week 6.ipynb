{
 "cells": [
  {
   "cell_type": "markdown",
   "metadata": {},
   "source": [
    "# Classes and Encapsulation"
   ]
  },
  {
   "cell_type": "markdown",
   "metadata": {},
   "source": [
    "I have already mentioned that everything in Python is an object.\n",
    "\n",
    "Lists, int, str, functions, generators - are all objects that Python language provides for us to use.\n",
    "\n",
    "We can also build our own <b>Custom</b> objects."
   ]
  },
  {
   "cell_type": "markdown",
   "metadata": {},
   "source": [
    "Custom objects are great for <i>encapsulating</i> the functionality and concepts of things & properties & functions about real life objects like HUB viewers, HUB+ viewers, programmes, adverts, promotions, etc."
   ]
  },
  {
   "cell_type": "markdown",
   "metadata": {},
   "source": [
    "Classes are the most fundamental data structures in object-oriented programming.\n",
    "Let's see how to build them in Python!"
   ]
  },
  {
   "cell_type": "markdown",
   "metadata": {},
   "source": [
    "## Terminology Explanation"
   ]
  },
  {
   "cell_type": "markdown",
   "metadata": {},
   "source": [
    "<b>Inheritance</b> is ability to built new classes from existing ones. Python allows for multiple inheritance.\n",
    "\n",
    "<b>Overriding</b> referes to ability to change default behavior of methods by the inheriting classes.\n",
    "\n",
    "<b>Instantiation</b> referes to the ability to create instances of classes (i.e. make them cove alive).\n",
    "\n",
    "<b>Attribute reference</b> of a class is when one accesses the class members (using the 'dot' operator).\n",
    "\n",
    "<b>Constructor</b> is what is method that gets called when class instances are created.\n",
    "\n",
    "function defined in a class becomes a method"
   ]
  },
  {
   "cell_type": "code",
   "execution_count": 1,
   "metadata": {},
   "outputs": [],
   "source": [
    "class HUBviewer(object): ##looks like a function but is a definition of a class\n",
    "    \n",
    "    ''' Simple class to define an ITV HUB viewer\n",
    "    '''\n",
    "    \n",
    "    \n",
    "    def __init__(self, ID, Name, Address): # constructor, every class must have one __init__\n",
    "        self.ID = ID\n",
    "        self.Name = Name\n",
    "        self.Address = Address\n",
    "\n",
    "        self._state = \"Active\" # hidden variable due to _, no prviate classes in python, 'do not use this variable'\n",
    "        \n",
    "    \n",
    "    def deactivate(self): # instance method, self refers to this copy of the instance incase more than 1 instance\n",
    "        self._state = \"Inactive\"\n",
    "        \n",
    "    def activate(self): # allows access and modification of state \n",
    "        self._state = \"Active\"\n",
    "    \n",
    "    def getStatus(self):\n",
    "        return self._state\n",
    "    \n",
    "    def __repr__(self): # overwitten the repr for HUBviewer in order to print the output from the return\n",
    "        return \"HUB viewer with ID %s, Name %s and Address %s\" %(str(self.ID), str(self.Name), str(self.Address))"
   ]
  },
  {
   "cell_type": "code",
   "execution_count": 2,
   "metadata": {},
   "outputs": [],
   "source": [
    "# create an instance of HUB viewer\n",
    "\n",
    "adultViewer = HUBviewer(1, \"Julia\", \"100 Happy Street\")"
   ]
  },
  {
   "cell_type": "code",
   "execution_count": 3,
   "metadata": {},
   "outputs": [
    {
     "data": {
      "text/plain": [
       "'100 Happy Street'"
      ]
     },
     "execution_count": 3,
     "metadata": {},
     "output_type": "execute_result"
    }
   ],
   "source": [
    "adultViewer.Address"
   ]
  },
  {
   "cell_type": "code",
   "execution_count": 4,
   "metadata": {},
   "outputs": [
    {
     "data": {
      "text/plain": [
       "'Julia'"
      ]
     },
     "execution_count": 4,
     "metadata": {},
     "output_type": "execute_result"
    }
   ],
   "source": [
    "adultViewer.Name"
   ]
  },
  {
   "cell_type": "code",
   "execution_count": null,
   "metadata": {},
   "outputs": [],
   "source": [
    "print (adultViewer) #__repr__ gets called, _ means private, __ means don't touch/underlying\n",
    "\n",
    "print (adultViewer.getStatus())"
   ]
  },
  {
   "cell_type": "markdown",
   "metadata": {},
   "source": [
    "Unlike in other programming languages, everything in Python classes is public."
   ]
  },
  {
   "cell_type": "markdown",
   "metadata": {},
   "source": [
    "The only way to hide class members from users is with double undescore. However, this does not make them private. It is a convention that we are meant to follow to recognize that these members are not for us to use."
   ]
  },
  {
   "cell_type": "markdown",
   "metadata": {},
   "source": [
    "## Let's Add Some New Functionality to Our HUBViewer Class"
   ]
  },
  {
   "cell_type": "markdown",
   "metadata": {},
   "source": [
    "### ITV business has not linked linear and online viewing\n",
    "### We can extend our HUBViewer with new members"
   ]
  },
  {
   "cell_type": "code",
   "execution_count": 6,
   "metadata": {},
   "outputs": [],
   "source": [
    "class HUBviewer(object):\n",
    "    \n",
    "    ''' Simple class to define an ITV HUB viewer\n",
    "    '''\n",
    "    \n",
    "    \n",
    "    def __init__(self, ID, Name, Address, IP=\"Unknown\"): #keyword deafult set to unknown for the old users with no IP\n",
    "        self.ID = ID\n",
    "        self.Name = Name\n",
    "        self.Address = Address\n",
    "        self.IP = IP\n",
    "        self._state = \"Active\"\n",
    "    \n",
    "    def setIPAddress(self, IP): \n",
    "        self.IP=IP\n",
    "    \n",
    "    def getIPAddress(self):\n",
    "        return self.IP\n",
    "    \n",
    "    def deactivate(self):\n",
    "        self._state = \"Inactive\"\n",
    "        \n",
    "    def activate(self):\n",
    "        self._state = \"Active\"\n",
    "    \n",
    "    def getStatus(self):\n",
    "        return self._state\n",
    "    \n",
    "    def __repr__(self):\n",
    "        return \"HUB viewer with ID: %s, Name: %s and Address: %s\" %(str(self.ID), str(self.Name), str(self.Address))"
   ]
  },
  {
   "cell_type": "code",
   "execution_count": 7,
   "metadata": {},
   "outputs": [],
   "source": [
    "adultViewer = HUBviewer(1, 'Julia', '100 Happy Street', '10.0.77.1')  # we did not make IP address visible by default"
   ]
  },
  {
   "cell_type": "code",
   "execution_count": 8,
   "metadata": {},
   "outputs": [],
   "source": [
    "adultViewer.deactivate()"
   ]
  },
  {
   "cell_type": "code",
   "execution_count": 9,
   "metadata": {},
   "outputs": [
    {
     "data": {
      "text/plain": [
       "'Inactive'"
      ]
     },
     "execution_count": 9,
     "metadata": {},
     "output_type": "execute_result"
    }
   ],
   "source": [
    "adultViewer.getStatus()"
   ]
  },
  {
   "cell_type": "code",
   "execution_count": 10,
   "metadata": {},
   "outputs": [],
   "source": [
    "adultViewer.activate()"
   ]
  },
  {
   "cell_type": "code",
   "execution_count": 11,
   "metadata": {},
   "outputs": [
    {
     "data": {
      "text/plain": [
       "'Active'"
      ]
     },
     "execution_count": 11,
     "metadata": {},
     "output_type": "execute_result"
    }
   ],
   "source": [
    "adultViewer.getStatus()"
   ]
  },
  {
   "cell_type": "markdown",
   "metadata": {},
   "source": [
    "## Creating New HUBViewers and Comparing Class Objects"
   ]
  },
  {
   "cell_type": "code",
   "execution_count": 12,
   "metadata": {},
   "outputs": [],
   "source": [
    "childViewer = HUBviewer(2, \"Mark\", \"200 Sunny Street\")"
   ]
  },
  {
   "cell_type": "code",
   "execution_count": 13,
   "metadata": {},
   "outputs": [
    {
     "name": "stdout",
     "output_type": "stream",
     "text": [
      "HUB viewer with ID: 2, Name: Mark and Address: 200 Sunny Street\n"
     ]
    }
   ],
   "source": [
    "print(childViewer)"
   ]
  },
  {
   "cell_type": "code",
   "execution_count": 14,
   "metadata": {},
   "outputs": [
    {
     "name": "stdout",
     "output_type": "stream",
     "text": [
      "Unknown\n"
     ]
    }
   ],
   "source": [
    "print (childViewer.getIPAddress())"
   ]
  },
  {
   "cell_type": "code",
   "execution_count": 15,
   "metadata": {},
   "outputs": [],
   "source": [
    "childViewer.setIPAddress('10.1.75.1')"
   ]
  },
  {
   "cell_type": "code",
   "execution_count": 16,
   "metadata": {},
   "outputs": [
    {
     "name": "stdout",
     "output_type": "stream",
     "text": [
      "10.1.75.1\n"
     ]
    }
   ],
   "source": [
    "print (childViewer.getIPAddress())"
   ]
  },
  {
   "cell_type": "code",
   "execution_count": 17,
   "metadata": {},
   "outputs": [
    {
     "name": "stdout",
     "output_type": "stream",
     "text": [
      "2951329581656\n"
     ]
    }
   ],
   "source": [
    "print (id(childViewer))"
   ]
  },
  {
   "cell_type": "code",
   "execution_count": 18,
   "metadata": {},
   "outputs": [
    {
     "name": "stdout",
     "output_type": "stream",
     "text": [
      "2951329581320\n"
     ]
    }
   ],
   "source": [
    "print (id(adultViewer))"
   ]
  },
  {
   "cell_type": "code",
   "execution_count": 19,
   "metadata": {},
   "outputs": [
    {
     "name": "stdout",
     "output_type": "stream",
     "text": [
      "False\n"
     ]
    }
   ],
   "source": [
    "print (adultViewer is childViewer)"
   ]
  },
  {
   "cell_type": "code",
   "execution_count": 20,
   "metadata": {},
   "outputs": [
    {
     "name": "stdout",
     "output_type": "stream",
     "text": [
      "False\n"
     ]
    }
   ],
   "source": [
    "print (adultViewer == childViewer)"
   ]
  },
  {
   "cell_type": "code",
   "execution_count": 21,
   "metadata": {},
   "outputs": [],
   "source": [
    "adultViewer2 = adultViewer      # create a copy of adult viewer"
   ]
  },
  {
   "cell_type": "code",
   "execution_count": 22,
   "metadata": {},
   "outputs": [
    {
     "name": "stdout",
     "output_type": "stream",
     "text": [
      "2951329581320\n"
     ]
    }
   ],
   "source": [
    "print (id(adultViewer2)) # memory position of the copy is the same as the initial"
   ]
  },
  {
   "cell_type": "code",
   "execution_count": 23,
   "metadata": {},
   "outputs": [
    {
     "name": "stdout",
     "output_type": "stream",
     "text": [
      "True\n"
     ]
    }
   ],
   "source": [
    "print (adultViewer is adultViewer2)"
   ]
  },
  {
   "cell_type": "code",
   "execution_count": 24,
   "metadata": {},
   "outputs": [
    {
     "name": "stdout",
     "output_type": "stream",
     "text": [
      "True\n"
     ]
    }
   ],
   "source": [
    "print (adultViewer == adultViewer2)"
   ]
  },
  {
   "cell_type": "code",
   "execution_count": 25,
   "metadata": {},
   "outputs": [],
   "source": [
    "adultViewer2.deactivate()    # we have made a change to the 2nd adultViewer"
   ]
  },
  {
   "cell_type": "code",
   "execution_count": 26,
   "metadata": {},
   "outputs": [
    {
     "data": {
      "text/plain": [
       "'Inactive'"
      ]
     },
     "execution_count": 26,
     "metadata": {},
     "output_type": "execute_result"
    }
   ],
   "source": [
    "adultViewer2.getStatus()"
   ]
  },
  {
   "cell_type": "code",
   "execution_count": 27,
   "metadata": {},
   "outputs": [
    {
     "data": {
      "text/plain": [
       "'Inactive'"
      ]
     },
     "execution_count": 27,
     "metadata": {},
     "output_type": "execute_result"
    }
   ],
   "source": [
    "# but we have also made a change to the first viewer because they are the same - they point to the same memory address\n",
    "adultViewer.getStatus()"
   ]
  },
  {
   "cell_type": "markdown",
   "metadata": {},
   "source": [
    "### Graphically this can be represented as labels on objects:"
   ]
  },
  {
   "cell_type": "markdown",
   "metadata": {},
   "source": [
    "![title](ObjectsInMemory.jpg)"
   ]
  },
  {
   "cell_type": "markdown",
   "metadata": {},
   "source": [
    "adultViewer and adultViewer2 are bound to the same object. The are aliases."
   ]
  },
  {
   "cell_type": "markdown",
   "metadata": {},
   "source": [
    "### Let's create another adultViewer"
   ]
  },
  {
   "cell_type": "code",
   "execution_count": 28,
   "metadata": {},
   "outputs": [],
   "source": [
    "adultViewer3 = HUBviewer(1, \"Julia\", \"100 Happy Street\", '10.0.77.1')"
   ]
  },
  {
   "cell_type": "code",
   "execution_count": 29,
   "metadata": {},
   "outputs": [
    {
     "name": "stdout",
     "output_type": "stream",
     "text": [
      "True\n",
      "True\n",
      "True\n",
      "True\n"
     ]
    }
   ],
   "source": [
    "print (adultViewer3.ID == adultViewer.ID)\n",
    "print (adultViewer3.Name == adultViewer.Name)\n",
    "print (adultViewer3.Address == adultViewer.Address)\n",
    "print (adultViewer3.IP == adultViewer.IP)"
   ]
  },
  {
   "cell_type": "code",
   "execution_count": 30,
   "metadata": {},
   "outputs": [
    {
     "name": "stdout",
     "output_type": "stream",
     "text": [
      "False\n",
      "False\n"
     ]
    }
   ],
   "source": [
    "print (adultViewer3 == adultViewer) # all the values are the same but they are not the same object\n",
    "print (adultViewer3 is adultViewer)"
   ]
  },
  {
   "cell_type": "code",
   "execution_count": 32,
   "metadata": {},
   "outputs": [
    {
     "name": "stdout",
     "output_type": "stream",
     "text": [
      "2951329581320\n",
      "2951329581320\n",
      "2951329582888\n"
     ]
    }
   ],
   "source": [
    "print (id(adultViewer))\n",
    "print (id(adultViewer2))\n",
    "print (id(adultViewer3))"
   ]
  },
  {
   "cell_type": "markdown",
   "metadata": {},
   "source": [
    "### What if I want to make a copy of adultViewer but keep it as a separate object?\n"
   ]
  },
  {
   "cell_type": "markdown",
   "metadata": {},
   "source": [
    "### Answer: use copy.deepcopy()"
   ]
  },
  {
   "cell_type": "code",
   "execution_count": 33,
   "metadata": {},
   "outputs": [],
   "source": [
    "import copy\n",
    "\n",
    "adultViewer_copy = copy.deepcopy(adultViewer)"
   ]
  },
  {
   "cell_type": "code",
   "execution_count": 34,
   "metadata": {},
   "outputs": [
    {
     "name": "stdout",
     "output_type": "stream",
     "text": [
      "2951329472584\n"
     ]
    }
   ],
   "source": [
    "print (id(adultViewer_copy))"
   ]
  },
  {
   "cell_type": "code",
   "execution_count": 35,
   "metadata": {},
   "outputs": [
    {
     "name": "stdout",
     "output_type": "stream",
     "text": [
      "False\n"
     ]
    }
   ],
   "source": [
    "print (adultViewer_copy == adultViewer)"
   ]
  },
  {
   "cell_type": "code",
   "execution_count": 36,
   "metadata": {},
   "outputs": [
    {
     "name": "stdout",
     "output_type": "stream",
     "text": [
      "False\n"
     ]
    }
   ],
   "source": [
    "print (adultViewer_copy is adultViewer)"
   ]
  },
  {
   "cell_type": "code",
   "execution_count": 37,
   "metadata": {},
   "outputs": [
    {
     "name": "stdout",
     "output_type": "stream",
     "text": [
      "Copy HUBviewer's Name is Julia, ID is 1 and address is 100 Happy Street\n"
     ]
    }
   ],
   "source": [
    "print (\"Copy HUBviewer's Name is %s, ID is %s and address is %s\" \n",
    "       % (adultViewer_copy.Name, adultViewer_copy.ID, adultViewer_copy.Address))"
   ]
  },
  {
   "cell_type": "markdown",
   "metadata": {},
   "source": [
    "### So, what does it mean to design and develop re-usable objects?"
   ]
  },
  {
   "cell_type": "markdown",
   "metadata": {},
   "source": [
    "### Answer: it is mostly about separating functionality from objects, and keeping different functionality separately."
   ]
  },
  {
   "cell_type": "code",
   "execution_count": 38,
   "metadata": {},
   "outputs": [],
   "source": [
    "# In Week 5 we have written the following function:\n",
    "\n",
    "# my svv implements psycopg2.connect and returns the connection\n",
    "import svv_connector as svv\n",
    "\n",
    "def get_svv_results(query, batch_size):\n",
    "    ''' Connects to svv, executes a query and provides results back one batch_size at a time\n",
    "    '''\n",
    "    \n",
    "    \n",
    "    try: \n",
    "        con = svv.get_svv_connection()\n",
    "\n",
    "        cur = con.cursor()\n",
    "        cur.execute(query)\n",
    "        \n",
    "        res = 0\n",
    "        while res != []:\n",
    "            res = cur.fetchmany(batch_size)\n",
    "            yield res\n",
    "    \n",
    "    except Exception as inst:\n",
    "        print(inst)\n",
    "    finally:\n",
    "        cur.close()\n",
    "        con.close()"
   ]
  },
  {
   "cell_type": "code",
   "execution_count": 84,
   "metadata": {},
   "outputs": [],
   "source": [
    "# Let's re-write it as a class!"
   ]
  },
  {
   "cell_type": "code",
   "execution_count": 12,
   "metadata": {},
   "outputs": [],
   "source": [
    "import psycopg2\n",
    "\n",
    "def get_svv_connection():\n",
    "    con = psycopg2.connect(dbname= 'svv', host='svv-rs-prod-bi.cjddijbnvfpr.eu-west-1.redshift.amazonaws.com', \\\n",
    "                     port= 5439, user= 'ryanw', password= 'hT6Y3TeZZUFdvLj')\n",
    "\n",
    "    return con"
   ]
  },
  {
   "cell_type": "code",
   "execution_count": 14,
   "metadata": {},
   "outputs": [],
   "source": [
    "class SVVConnection(object): #custom made objects start with a capital\n",
    "    \n",
    "    def __init__(self):\n",
    "        ''' Opens connection on Initialisation\n",
    "        '''\n",
    "        self.Connection = get_svv_connection()\n",
    "    \n",
    "    def close(self):\n",
    "        ''' Closes connection to svv\n",
    "        '''\n",
    "        try:\n",
    "            self.my_cursor\n",
    "        except:    \n",
    "            self.my_cursor = None\n",
    "            \n",
    "        if self.my_cursor is not None:    \n",
    "            self.my_cursor.close()\n",
    "            \n",
    "        self.Connection.close()\n",
    "    \n",
    "    def reOpen(self):\n",
    "        ''' Re-opens connection to svv\n",
    "        '''\n",
    "        if self.Connection.closed:\n",
    "            self.Connection = get_svv_connection()\n",
    "    \n",
    "    def getCursor(self):\n",
    "        ''' obtains a new cursor\n",
    "        '''\n",
    "        self.my_cursor = self.Connection.cursor()\n",
    "        return self.my_cursor\n",
    "    \n",
    "    def closeCursor(self):\n",
    "        ''' Closes a cursor if one is open\n",
    "        '''\n",
    "        try:\n",
    "            self.my_cursor\n",
    "        except:\n",
    "            self.my_cursor = None\n",
    "        \n",
    "        if self.my_cursor is not None:\n",
    "            self.my_cursor.close()\n",
    "            \n",
    "    def executeQuery(self, my_cursor, query):\n",
    "        if my_cursor is None:\n",
    "            print('No cursor, please call getCursor first')\n",
    "            return\n",
    "        \n",
    "        try:\n",
    "            my_cursor.execute(query)\n",
    "        except:\n",
    "            print('Error calling execute. Check that the Cursor is open')\n",
    "            \n",
    "    def getBatchedResults(self, batch_size = 1):\n",
    "        results = 0\n",
    "        \n",
    "        try:\n",
    "            while results !=[]:\n",
    "                results = cur.fetchmany(batch_size)\n",
    "                yield results\n",
    "                \n",
    "        except:\n",
    "            print('Error in fetching results')"
   ]
  },
  {
   "cell_type": "code",
   "execution_count": 15,
   "metadata": {},
   "outputs": [],
   "source": [
    "my_connection = SVVConnection()   # instantiate a connection to svv"
   ]
  },
  {
   "cell_type": "code",
   "execution_count": 16,
   "metadata": {},
   "outputs": [],
   "source": [
    "cur = my_connection.getCursor()"
   ]
  },
  {
   "cell_type": "code",
   "execution_count": 17,
   "metadata": {},
   "outputs": [],
   "source": [
    "query = \"Select Top 10 * from core.schedule;\""
   ]
  },
  {
   "cell_type": "code",
   "execution_count": 18,
   "metadata": {},
   "outputs": [],
   "source": [
    "my_connection.executeQuery(cur, query)"
   ]
  },
  {
   "cell_type": "code",
   "execution_count": 21,
   "metadata": {},
   "outputs": [],
   "source": [
    "my_results = my_connection.getBatchedResults(10)"
   ]
  },
  {
   "cell_type": "code",
   "execution_count": 22,
   "metadata": {},
   "outputs": [
    {
     "name": "stdout",
     "output_type": "stream",
     "text": [
      "[(3239427, '1/9485/0081#001', 'CITV', '2012-11-01T06:00Z', 'Thursday  01st Nov 06.00am', 'Thu 01 Nov 06.00am', 'PT8M', '8 mins', 20121101, datetime.datetime(2012, 11, 1, 6, 0), datetime.datetime(2012, 11, 1, 6, 0), 480, datetime.datetime(2017, 5, 16, 10, 26, 13)), (5000460, '2/1179/0047#001', 'CITV', '2018-03-13T12:45Z', 'Tuesday 13th Mar 12.45pm', 'Tue 13 Mar 12.45pm', 'PT46M41S', '46 mins', 20180313, datetime.datetime(2018, 3, 13, 12, 45), datetime.datetime(2018, 3, 13, 12, 45), 2801, datetime.datetime(2018, 3, 4, 1, 45, 13)), (4841071, 'PC/6369/06', 'CITV', '2017-12-12T13:00Z', 'Tuesday 12th Dec 1pm', 'Tue 12 Dec 1pm', 'PT11M9S', '11 mins', 20171212, datetime.datetime(2017, 12, 12, 13, 0), datetime.datetime(2017, 12, 12, 13, 0), 669, datetime.datetime(2017, 12, 3, 1, 45, 9)), (5090267, 'PC/6610/08', 'CITV', '2018-03-13T16:30Z', 'Tuesday 13th Mar 4.30pm', 'Tue 13 Mar 4.30pm', 'PT11M', '11 mins', 20180313, datetime.datetime(2018, 3, 13, 16, 30), datetime.datetime(2018, 3, 13, 16, 30), 660, datetime.datetime(2018, 3, 4, 1, 45, 13)), (4830712, '2/3244/0027#001', 'CITV', '2017-11-07T09:20Z', 'Tuesday 7th Nov 9.20am', 'Tue 7 Nov 9.20am', 'PT1M52S', '1 mins', 20171107, datetime.datetime(2017, 11, 7, 9, 20), datetime.datetime(2017, 11, 7, 9, 20), 112, datetime.datetime(2017, 10, 29, 1, 45, 10)), (5092432, '2/5549/0002#001', 'CITV', '2018-03-13T17:00Z', 'Tuesday 13th Mar 5pm', 'Tue 13 Mar 5pm', 'PT20M41S', '20 mins', 20180313, datetime.datetime(2018, 3, 13, 17, 0), datetime.datetime(2018, 3, 13, 17, 0), 1241, datetime.datetime(2018, 3, 4, 1, 45, 13)), (4866689, '2/2092/0097#001', 'CITV', '2017-12-12T08:50Z', 'Tuesday 12th Dec 8.50am', 'Tue 12 Dec 8.50am', 'PT10M33S', '10 mins', 20171212, datetime.datetime(2017, 12, 12, 8, 50), datetime.datetime(2017, 12, 12, 8, 50), 633, datetime.datetime(2017, 12, 3, 1, 45, 9)), (4998330, '2/3120/0024#001', 'CITV', '2018-03-13T09:05Z', 'Tuesday 13th Mar 9.05am', 'Tue 13 Mar 9.05am', 'PT11M32S', '11 mins', 20180313, datetime.datetime(2018, 3, 13, 9, 5), datetime.datetime(2018, 3, 13, 9, 5), 692, datetime.datetime(2018, 3, 4, 1, 45, 13)), (4832504, '2/3349/0044#001', 'CITV', '2017-08-15T07:20+01:00', 'Tuesday 15th Aug 7.20am', 'Tue 15 Aug 7.20am', 'PT12M10S', '12 mins', 20170815, datetime.datetime(2017, 8, 15, 7, 20), datetime.datetime(2017, 8, 15, 6, 20), 730, datetime.datetime(2017, 8, 6, 1, 54, 33)), (5085363, '2/4318/0032#001', 'CITV', '2018-03-13T18:00Z', 'Tuesday 13th Mar 6pm', 'Tue 13 Mar 6pm', 'PT20M41S', '20 mins', 20180313, datetime.datetime(2018, 3, 13, 18, 0), datetime.datetime(2018, 3, 13, 18, 0), 1241, datetime.datetime(2018, 3, 4, 1, 45, 13))]\n"
     ]
    }
   ],
   "source": [
    "print (next(my_results))"
   ]
  },
  {
   "cell_type": "code",
   "execution_count": 23,
   "metadata": {},
   "outputs": [
    {
     "name": "stdout",
     "output_type": "stream",
     "text": [
      "[]\n"
     ]
    }
   ],
   "source": [
    "print (next(my_results))"
   ]
  },
  {
   "cell_type": "code",
   "execution_count": 24,
   "metadata": {},
   "outputs": [],
   "source": [
    "my_connection.closeCursor()"
   ]
  },
  {
   "cell_type": "code",
   "execution_count": 25,
   "metadata": {},
   "outputs": [],
   "source": [
    "my_connection.close()"
   ]
  },
  {
   "cell_type": "code",
   "execution_count": 41,
   "metadata": {},
   "outputs": [
    {
     "name": "stdout",
     "output_type": "stream",
     "text": [
      "<class '__main__.SVVConnection'>\n"
     ]
    }
   ],
   "source": [
    "print (type(my_connection))"
   ]
  },
  {
   "cell_type": "code",
   "execution_count": 42,
   "metadata": {},
   "outputs": [],
   "source": [
    "my_connection.close()              # close connection and cursor if one exists"
   ]
  },
  {
   "cell_type": "code",
   "execution_count": 43,
   "metadata": {},
   "outputs": [],
   "source": [
    "my_connection.reOpen()             # re-open connection"
   ]
  },
  {
   "cell_type": "code",
   "execution_count": 44,
   "metadata": {},
   "outputs": [],
   "source": [
    "cur = my_connection.getCursor()    # get a cursor to run a query"
   ]
  },
  {
   "cell_type": "code",
   "execution_count": 45,
   "metadata": {},
   "outputs": [],
   "source": [
    "# close a cursor through my_connection; Note: Awkward! Signals a design flaw (we are mixing connection and cursor)\n",
    "my_connection.closeCursor()"
   ]
  },
  {
   "cell_type": "code",
   "execution_count": 46,
   "metadata": {},
   "outputs": [],
   "source": [
    "my_connection.close()"
   ]
  },
  {
   "cell_type": "markdown",
   "metadata": {},
   "source": [
    "# Home Work"
   ]
  },
  {
   "cell_type": "markdown",
   "metadata": {},
   "source": [
    "Extend SVVConnection class to be able to execute a query ad get results as following:\n",
    "\n",
    "(1) Add a method called executeQuery that accepts a cursor and a query (as str). It checks if cursor is None, and if it is None, it prints an error message and returns. Otherwise it executes the query that is passed to the method on the passed cursor.\n",
    "\n",
    "(2) Add another method called getBatchQueryResults that accepts batch_size (which defaults to 1), and using try-except block and a generator returns a batch_size of the query results. Have a way to stop the generator when all results are returned.\n",
    "\n",
    "(3) Test your work with a simple query!"
   ]
  },
  {
   "cell_type": "code",
   "execution_count": null,
   "metadata": {},
   "outputs": [],
   "source": []
  }
 ],
 "metadata": {
  "kernelspec": {
   "display_name": "Python 3",
   "language": "python",
   "name": "python3"
  },
  "language_info": {
   "codemirror_mode": {
    "name": "ipython",
    "version": 3
   },
   "file_extension": ".py",
   "mimetype": "text/x-python",
   "name": "python",
   "nbconvert_exporter": "python",
   "pygments_lexer": "ipython3",
   "version": "3.6.3"
  }
 },
 "nbformat": 4,
 "nbformat_minor": 2
}
