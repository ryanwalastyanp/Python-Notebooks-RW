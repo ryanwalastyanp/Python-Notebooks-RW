{
 "cells": [
  {
   "cell_type": "markdown",
   "metadata": {},
   "source": [
    "# Connect to SVV"
   ]
  },
  {
   "cell_type": "code",
   "execution_count": 1,
   "metadata": {},
   "outputs": [],
   "source": [
    "svv_credentials = open('svv_creds.json.txt').read()\n",
    "import json\n",
    "svv_creds = json.loads(svv_credentials)"
   ]
  },
  {
   "cell_type": "code",
   "execution_count": 2,
   "metadata": {},
   "outputs": [],
   "source": [
    "import psycopg2\n",
    "\n",
    "def get_svv_connection():\n",
    "    con = psycopg2.connect(dbname = 'svv', host ='svv-rs-prod-bi.cjddijbnvfpr.eu-west-1.redshift.amazonaws.com', \\\n",
    "                           port = 5439, user = svv_creds['user'], password = svv_creds['password'])\n",
    "    \n",
    "    return con"
   ]
  },
  {
   "cell_type": "markdown",
   "metadata": {},
   "source": [
    "# Import the Packages Necessary for Analysis"
   ]
  },
  {
   "cell_type": "code",
   "execution_count": 3,
   "metadata": {},
   "outputs": [],
   "source": [
    "import pandas as pd\n",
    "import lifelines as ll ##you will need to pip/conda install this package in the Anaconda Prompt\n",
    "                       ##(e.g. conda install -c conda-forge lifelines)"
   ]
  },
  {
   "cell_type": "markdown",
   "metadata": {},
   "source": [
    "# Query the Table Conatining the Tenure and Churned Data"
   ]
  },
  {
   "cell_type": "code",
   "execution_count": 4,
   "metadata": {},
   "outputs": [],
   "source": [
    "query_data = \"Select * from sandbox.rw_hub_plus_survival_20200407\"\n",
    "\n",
    "df_survival = pd.DataFrame()\n",
    "\n",
    "try: \n",
    "    con = get_svv_connection()\n",
    "\n",
    "    cur = con.cursor()\n",
    "    cur.execute(query_data)\n",
    "\n",
    "    colnames = [desc[0] for desc in cur.description]\n",
    "    df_survival = pd.DataFrame(cur.fetchall(), columns = colnames)\n",
    "    \n",
    "except Exception as inst:\n",
    "    print(inst)\n",
    "finally:\n",
    "    cur.close()\n",
    "    con.close()"
   ]
  },
  {
   "cell_type": "markdown",
   "metadata": {},
   "source": [
    "# Check the Dataset "
   ]
  },
  {
   "cell_type": "code",
   "execution_count": 5,
   "metadata": {},
   "outputs": [
    {
     "data": {
      "text/html": [
       "<div>\n",
       "<style scoped>\n",
       "    .dataframe tbody tr th:only-of-type {\n",
       "        vertical-align: middle;\n",
       "    }\n",
       "\n",
       "    .dataframe tbody tr th {\n",
       "        vertical-align: top;\n",
       "    }\n",
       "\n",
       "    .dataframe thead th {\n",
       "        text-align: right;\n",
       "    }\n",
       "</style>\n",
       "<table border=\"1\" class=\"dataframe\">\n",
       "  <thead>\n",
       "    <tr style=\"text-align: right;\">\n",
       "      <th></th>\n",
       "      <th>viewer_id</th>\n",
       "      <th>tenure</th>\n",
       "      <th>churned</th>\n",
       "      <th>cluster</th>\n",
       "    </tr>\n",
       "  </thead>\n",
       "  <tbody>\n",
       "    <tr>\n",
       "      <th>0</th>\n",
       "      <td>00218114-d8af-4627-8685-fd4811895e37</td>\n",
       "      <td>1</td>\n",
       "      <td>1</td>\n",
       "      <td>love_island</td>\n",
       "    </tr>\n",
       "    <tr>\n",
       "      <th>1</th>\n",
       "      <td>00671c60-6ceb-4760-9617-6e677f5e3b68</td>\n",
       "      <td>14</td>\n",
       "      <td>0</td>\n",
       "      <td>drama</td>\n",
       "    </tr>\n",
       "    <tr>\n",
       "      <th>2</th>\n",
       "      <td>00a34a68-e720-463e-a248-77c2f1820ecf</td>\n",
       "      <td>3</td>\n",
       "      <td>1</td>\n",
       "      <td>love_island</td>\n",
       "    </tr>\n",
       "    <tr>\n",
       "      <th>3</th>\n",
       "      <td>00cba00e-f76e-454a-a9d7-d28de6f1e0a5</td>\n",
       "      <td>1</td>\n",
       "      <td>1</td>\n",
       "      <td>sport_family</td>\n",
       "    </tr>\n",
       "    <tr>\n",
       "      <th>4</th>\n",
       "      <td>00fd717d-6c02-417d-a7f1-71f7f535366d</td>\n",
       "      <td>8</td>\n",
       "      <td>0</td>\n",
       "      <td>love_island</td>\n",
       "    </tr>\n",
       "  </tbody>\n",
       "</table>\n",
       "</div>"
      ],
      "text/plain": [
       "                              viewer_id  tenure  churned       cluster\n",
       "0  00218114-d8af-4627-8685-fd4811895e37       1        1   love_island\n",
       "1  00671c60-6ceb-4760-9617-6e677f5e3b68      14        0         drama\n",
       "2  00a34a68-e720-463e-a248-77c2f1820ecf       3        1   love_island\n",
       "3  00cba00e-f76e-454a-a9d7-d28de6f1e0a5       1        1  sport_family\n",
       "4  00fd717d-6c02-417d-a7f1-71f7f535366d       8        0   love_island"
      ]
     },
     "execution_count": 5,
     "metadata": {},
     "output_type": "execute_result"
    }
   ],
   "source": [
    "df_survival.head()"
   ]
  },
  {
   "cell_type": "markdown",
   "metadata": {},
   "source": [
    "# Check Data Types and for Nulls"
   ]
  },
  {
   "cell_type": "code",
   "execution_count": 6,
   "metadata": {},
   "outputs": [
    {
     "data": {
      "text/plain": [
       "viewer_id    object\n",
       "tenure        int64\n",
       "churned       int64\n",
       "cluster      object\n",
       "dtype: object"
      ]
     },
     "execution_count": 6,
     "metadata": {},
     "output_type": "execute_result"
    }
   ],
   "source": [
    "df_survival.dtypes"
   ]
  },
  {
   "cell_type": "code",
   "execution_count": 7,
   "metadata": {},
   "outputs": [
    {
     "data": {
      "text/plain": [
       "True"
      ]
     },
     "execution_count": 7,
     "metadata": {},
     "output_type": "execute_result"
    }
   ],
   "source": [
    "df_survival.isnull().values.any()"
   ]
  },
  {
   "cell_type": "code",
   "execution_count": 8,
   "metadata": {},
   "outputs": [
    {
     "data": {
      "text/plain": [
       "False"
      ]
     },
     "execution_count": 8,
     "metadata": {},
     "output_type": "execute_result"
    }
   ],
   "source": [
    "df_survival['viewer_id'].isnull().values.any()"
   ]
  },
  {
   "cell_type": "code",
   "execution_count": 9,
   "metadata": {},
   "outputs": [
    {
     "data": {
      "text/plain": [
       "False"
      ]
     },
     "execution_count": 9,
     "metadata": {},
     "output_type": "execute_result"
    }
   ],
   "source": [
    "df_survival['tenure'].isnull().values.any()"
   ]
  },
  {
   "cell_type": "code",
   "execution_count": 10,
   "metadata": {},
   "outputs": [
    {
     "data": {
      "text/plain": [
       "False"
      ]
     },
     "execution_count": 10,
     "metadata": {},
     "output_type": "execute_result"
    }
   ],
   "source": [
    "df_survival['churned'].isnull().values.any()"
   ]
  },
  {
   "cell_type": "code",
   "execution_count": 11,
   "metadata": {},
   "outputs": [
    {
     "data": {
      "text/plain": [
       "True"
      ]
     },
     "execution_count": 11,
     "metadata": {},
     "output_type": "execute_result"
    }
   ],
   "source": [
    "df_survival['cluster'].isnull().values.any()"
   ]
  },
  {
   "cell_type": "markdown",
   "metadata": {},
   "source": [
    "# Drop NAs"
   ]
  },
  {
   "cell_type": "code",
   "execution_count": 12,
   "metadata": {},
   "outputs": [],
   "source": [
    "df_survival = df_survival.dropna()"
   ]
  },
  {
   "cell_type": "code",
   "execution_count": 13,
   "metadata": {},
   "outputs": [
    {
     "data": {
      "text/html": [
       "<div>\n",
       "<style scoped>\n",
       "    .dataframe tbody tr th:only-of-type {\n",
       "        vertical-align: middle;\n",
       "    }\n",
       "\n",
       "    .dataframe tbody tr th {\n",
       "        vertical-align: top;\n",
       "    }\n",
       "\n",
       "    .dataframe thead th {\n",
       "        text-align: right;\n",
       "    }\n",
       "</style>\n",
       "<table border=\"1\" class=\"dataframe\">\n",
       "  <thead>\n",
       "    <tr style=\"text-align: right;\">\n",
       "      <th></th>\n",
       "      <th>tenure</th>\n",
       "      <th>churned</th>\n",
       "      <th>cluster</th>\n",
       "    </tr>\n",
       "    <tr>\n",
       "      <th>viewer_id</th>\n",
       "      <th></th>\n",
       "      <th></th>\n",
       "      <th></th>\n",
       "    </tr>\n",
       "  </thead>\n",
       "  <tbody>\n",
       "    <tr>\n",
       "      <th>00218114-d8af-4627-8685-fd4811895e37</th>\n",
       "      <td>1</td>\n",
       "      <td>1</td>\n",
       "      <td>love_island</td>\n",
       "    </tr>\n",
       "    <tr>\n",
       "      <th>00671c60-6ceb-4760-9617-6e677f5e3b68</th>\n",
       "      <td>14</td>\n",
       "      <td>0</td>\n",
       "      <td>drama</td>\n",
       "    </tr>\n",
       "    <tr>\n",
       "      <th>00a34a68-e720-463e-a248-77c2f1820ecf</th>\n",
       "      <td>3</td>\n",
       "      <td>1</td>\n",
       "      <td>love_island</td>\n",
       "    </tr>\n",
       "    <tr>\n",
       "      <th>00cba00e-f76e-454a-a9d7-d28de6f1e0a5</th>\n",
       "      <td>1</td>\n",
       "      <td>1</td>\n",
       "      <td>sport_family</td>\n",
       "    </tr>\n",
       "    <tr>\n",
       "      <th>00fd717d-6c02-417d-a7f1-71f7f535366d</th>\n",
       "      <td>8</td>\n",
       "      <td>0</td>\n",
       "      <td>love_island</td>\n",
       "    </tr>\n",
       "  </tbody>\n",
       "</table>\n",
       "</div>"
      ],
      "text/plain": [
       "                                      tenure  churned       cluster\n",
       "viewer_id                                                          \n",
       "00218114-d8af-4627-8685-fd4811895e37       1        1   love_island\n",
       "00671c60-6ceb-4760-9617-6e677f5e3b68      14        0         drama\n",
       "00a34a68-e720-463e-a248-77c2f1820ecf       3        1   love_island\n",
       "00cba00e-f76e-454a-a9d7-d28de6f1e0a5       1        1  sport_family\n",
       "00fd717d-6c02-417d-a7f1-71f7f535366d       8        0   love_island"
      ]
     },
     "execution_count": 13,
     "metadata": {},
     "output_type": "execute_result"
    }
   ],
   "source": [
    "df_survival = df_survival.set_index('viewer_id')\n",
    "df_survival.head()"
   ]
  },
  {
   "cell_type": "markdown",
   "metadata": {},
   "source": [
    "# Create the Kaplan-Meier Fitter and Apply it to the Hub+ Clusters"
   ]
  },
  {
   "cell_type": "code",
   "execution_count": 14,
   "metadata": {},
   "outputs": [
    {
     "data": {
      "image/png": "[encoded data removed]",
      "text/plain": [
       "<Figure size 1080x720 with 1 Axes>"
      ]
     },
     "metadata": {
      "needs_background": "light"
     },
     "output_type": "display_data"
    }
   ],
   "source": [
    "T = df_survival['tenure']\n",
    "E = df_survival['churned']\n",
    "\n",
    "import matplotlib.pyplot as plt\n",
    "%matplotlib inline\n",
    "from lifelines import KaplanMeierFitter\n",
    "kmf = KaplanMeierFitter()\n",
    "\n",
    "plt.figure(figsize = (15,10))\n",
    "\n",
    "ax = plt.subplot(111)\n",
    "\n",
    "cluster_0 = (df_survival[\"cluster\"] == \"drama\")\n",
    "cluster_1 = (df_survival[\"cluster\"] == \"reality\")\n",
    "cluster_2 = (df_survival[\"cluster\"] == \"love_island\")\n",
    "cluster_3 = (df_survival[\"cluster\"] == \"soaps\")\n",
    "cluster_4 = (df_survival[\"cluster\"] == \"sport_family\")\n",
    "kmf.fit(T[cluster_0], event_observed = E[cluster_0], label = \"Drama\")\n",
    "kmf.plot(ax = ax, ci_force_lines = True)\n",
    "kmf.fit(T[cluster_1], event_observed = E[cluster_1], label = \"Reality\")\n",
    "kmf.plot(ax = ax, ci_force_lines = True)\n",
    "kmf.fit(T[cluster_2], event_observed = E[cluster_2], label = \"Love Island\")\n",
    "kmf.plot(ax = ax, ci_force_lines = True)\n",
    "kmf.fit(T[cluster_3], event_observed = E[cluster_3], label = \"Soap\")\n",
    "kmf.plot(ax = ax, ci_force_lines = True)\n",
    "kmf.fit(T[cluster_4], event_observed = E[cluster_4], label = \"Sports & Family\")\n",
    "kmf.plot(ax = ax, ci_force_lines = True)\n",
    "\n",
    "plt.ylim(0, 1);\n",
    "plt.title(\"Tenure of Hub+ Segments\");"
   ]
  },
  {
   "cell_type": "markdown",
   "metadata": {},
   "source": [
    "# Use the Log-Rank Test to See Whether There is Actually a Difference Between Reality and Sport & Family"
   ]
  },
  {
   "cell_type": "code",
   "execution_count": 15,
   "metadata": {},
   "outputs": [
    {
     "name": "stdout",
     "output_type": "stream",
     "text": [
      "\n",
      "t_0=-1, alpha=0.99, null_distribution=chi squared, df=1\n",
      "\n",
      "test_statistic      p     \n",
      "       27.1679 0.0000  ***\n",
      "---\n",
      "Signif. codes:  0 '***' 0.001 '**' 0.01 '*' 0.05 '.' 0.1 ' ' 1 \n"
     ]
    }
   ],
   "source": [
    "from lifelines.statistics import logrank_test\n",
    "\n",
    "test_results = logrank_test(T[cluster_1], T[cluster_4], E[cluster_1], E[cluster_4], alpha = 0.99)\n",
    "\n",
    "test_results.print_summary()"
   ]
  },
  {
   "cell_type": "markdown",
   "metadata": {},
   "source": [
    "The Kaplan-Meier Estimator is a non-parametric statistic used to estimate the survival function from the data. In this case it is used to estimate the survival function of each Hub+ segment. It shows the proportion of each cluster who have not churned after each month from the start of their subscription.\n",
    "\n",
    "You can see the difference in the clusters, Love Islanders tend to churn much more quickly than the other clusters."
   ]
  },
  {
   "cell_type": "markdown",
   "metadata": {},
   "source": [
    "# Create the Nelson-Aalen Fitter (for the Cumulative Hazard Function) and Fit it to the Hub+ Clusters"
   ]
  },
  {
   "cell_type": "code",
   "execution_count": 16,
   "metadata": {},
   "outputs": [
    {
     "data": {
      "text/plain": [
       "<Figure size 1080x720 with 0 Axes>"
      ]
     },
     "metadata": {},
     "output_type": "display_data"
    },
    {
     "data": {
      "image/png": "[encoded data removed]",
      "text/plain": [
       "<Figure size 432x288 with 1 Axes>"
      ]
     },
     "metadata": {
      "needs_background": "light"
     },
     "output_type": "display_data"
    }
   ],
   "source": [
    "from lifelines import NelsonAalenFitter\n",
    "naf = NelsonAalenFitter()\n",
    "\n",
    "plt.figure(figsize = (15,10))\n",
    "\n",
    "naf.fit(T[cluster_0], event_observed = E[cluster_0], label = \"Drama\")\n",
    "ax = naf.plot(loc = slice(0, 20)) ##capped at 20 to focus on the more important region, to exlcude outliers\n",
    "naf.fit(T[cluster_1], event_observed = E[cluster_1], label = \"Reality\")\n",
    "naf.plot(ax = ax, loc = slice(0, 20))\n",
    "naf.fit(T[cluster_2], event_observed = E[cluster_2], label = \"Love Island\")\n",
    "naf.plot(ax = ax, loc = slice(0, 20))\n",
    "naf.fit(T[cluster_3], event_observed = E[cluster_3], label = \"Soap\")\n",
    "naf.plot(ax = ax, loc = slice(0, 20))\n",
    "naf.fit(T[cluster_4], event_observed = E[cluster_4], label = \"Sports & Family\")\n",
    "naf.plot(ax = ax, loc = slice(0, 20))\n",
    "\n",
    "plt.title(\"Cumulative Hazard Function of different Hub+ Segments\");"
   ]
  },
  {
   "cell_type": "markdown",
   "metadata": {},
   "source": [
    "The Nelson-Aalen estimator is a non-parametric estimator of the Cumulative Hazard function in the case of censored data. It is used to estimate the cumulative number of expected events (in this case churns).\n",
    "\n",
    "Hazard Function: Assume that a user has not churned by time t, the hazard rate is the probability that they will have churned by time t+dt (e.g they have not churned after month 1, what is the probability that they will have churned by month 1+1 (2)).\n",
    "The cumulative hazard rate is the sum of all hazard rates up until that time."
   ]
  },
  {
   "cell_type": "code",
   "execution_count": 17,
   "metadata": {},
   "outputs": [
    {
     "data": {
      "text/plain": [
       "13.0"
      ]
     },
     "execution_count": 17,
     "metadata": {},
     "output_type": "execute_result"
    }
   ],
   "source": [
    "kmf.fit(T[cluster_0], event_observed = E[cluster_0], label = \"Drama\")\n",
    "kmf.median_"
   ]
  },
  {
   "cell_type": "code",
   "execution_count": 18,
   "metadata": {},
   "outputs": [
    {
     "data": {
      "text/plain": [
       "8.0"
      ]
     },
     "execution_count": 18,
     "metadata": {},
     "output_type": "execute_result"
    }
   ],
   "source": [
    "kmf.fit(T[cluster_1], event_observed = E[cluster_1], label = \"Reality\")\n",
    "kmf.median_"
   ]
  },
  {
   "cell_type": "code",
   "execution_count": 19,
   "metadata": {},
   "outputs": [
    {
     "data": {
      "text/plain": [
       "4.0"
      ]
     },
     "execution_count": 19,
     "metadata": {},
     "output_type": "execute_result"
    }
   ],
   "source": [
    "kmf.fit(T[cluster_2], event_observed = E[cluster_2], label = \"Love Islanders\")\n",
    "kmf.median_"
   ]
  },
  {
   "cell_type": "code",
   "execution_count": 20,
   "metadata": {},
   "outputs": [
    {
     "data": {
      "text/plain": [
       "11.0"
      ]
     },
     "execution_count": 20,
     "metadata": {},
     "output_type": "execute_result"
    }
   ],
   "source": [
    "kmf.fit(T[cluster_3], event_observed = E[cluster_3], label = \"Soaps\")\n",
    "kmf.median_"
   ]
  },
  {
   "cell_type": "code",
   "execution_count": 21,
   "metadata": {},
   "outputs": [
    {
     "data": {
      "text/plain": [
       "7.0"
      ]
     },
     "execution_count": 21,
     "metadata": {},
     "output_type": "execute_result"
    }
   ],
   "source": [
    "kmf.fit(T[cluster_4], event_observed = E[cluster_4], label = \"Sports & Family\")\n",
    "kmf.median_"
   ]
  },
  {
   "cell_type": "code",
   "execution_count": null,
   "metadata": {},
   "outputs": [],
   "source": []
  }
 ],
 "metadata": {
  "kernelspec": {
   "display_name": "Python 3",
   "language": "python",
   "name": "python3"
  },
  "language_info": {
   "codemirror_mode": {
    "name": "ipython",
    "version": 3
   },
   "file_extension": ".py",
   "mimetype": "text/x-python",
   "name": "python",
   "nbconvert_exporter": "python",
   "pygments_lexer": "ipython3",
   "version": "3.7.0"
  }
 },
 "nbformat": 4,
 "nbformat_minor": 2
}
