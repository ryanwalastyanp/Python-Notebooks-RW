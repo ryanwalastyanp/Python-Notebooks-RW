{
 "cells": [
  {
   "cell_type": "markdown",
   "metadata": {},
   "source": [
    "#### HOME WORK"
   ]
  },
  {
   "cell_type": "markdown",
   "metadata": {},
   "source": [
    "Write a function for convert a sentence made of letters to a sentence made of numbers, where each letter is substituted with a number from an alphabet_map. Make sure to use dict and/or list comps."
   ]
  },
  {
   "cell_type": "code",
   "execution_count": 1,
   "metadata": {},
   "outputs": [],
   "source": [
    "sentence = \"Have a great weekend, guys.\""
   ]
  },
  {
   "cell_type": "code",
   "execution_count": 2,
   "metadata": {},
   "outputs": [],
   "source": [
    "# SOLUTION\n",
    "from string import ascii_lowercase\n",
    "from string import ascii_uppercase\n",
    "\n",
    "def sentence_mapper(sentence):\n",
    "    alphabet_map = {l: k for k, l in enumerate(ascii_lowercase)}\n",
    "    \n",
    "    # add space, upper case and basic punctuation to the alphabet_map\n",
    "    alphabet_map.update({l: k+max(alphabet_map.values())+1 for k, l in enumerate(ascii_uppercase)})\n",
    "    \n",
    "    alphabet_map[\" \"] = max(alphabet_map.values())+1\n",
    "    alphabet_map[\",\"]=max(alphabet_map.values())+1\n",
    "    alphabet_map[\".\"]=max(alphabet_map.values())+1\n",
    "\n",
    "    res = ' '.join([str(alphabet_map[c]) for c in sentence])\n",
    "\n",
    "    return res"
   ]
  },
  {
   "cell_type": "code",
   "execution_count": 3,
   "metadata": {},
   "outputs": [
    {
     "data": {
      "text/plain": [
       "'33 0 21 4 52 0 52 6 17 4 0 19 52 22 4 4 10 4 13 3 53 52 6 20 24 18 54'"
      ]
     },
     "execution_count": 3,
     "metadata": {},
     "output_type": "execute_result"
    }
   ],
   "source": [
    "sentence_mapper(sentence)"
   ]
  },
  {
   "cell_type": "markdown",
   "metadata": {},
   "source": [
    "Q: Can you think of a simpler way to achive something like this? Where, for example, each letter correspondce to the numeric representation in ascii?"
   ]
  },
  {
   "cell_type": "code",
   "execution_count": 4,
   "metadata": {},
   "outputs": [
    {
     "data": {
      "text/plain": [
       "'72 97 118 101 32 97 32 103 114 101 97 116 32 119 101 101 107 101 110 100 44 32 103 117 121 115 46'"
      ]
     },
     "execution_count": 4,
     "metadata": {},
     "output_type": "execute_result"
    }
   ],
   "source": [
    "' '.join(map(str, list(map(ord, [c for c in sentence]))))"
   ]
  },
  {
   "cell_type": "code",
   "execution_count": null,
   "metadata": {},
   "outputs": [],
   "source": [
    "# we will look at map next week"
   ]
  }
 ],
 "metadata": {
  "kernelspec": {
   "display_name": "Python 3",
   "language": "python",
   "name": "python3"
  },
  "language_info": {
   "codemirror_mode": {
    "name": "ipython",
    "version": 3
   },
   "file_extension": ".py",
   "mimetype": "text/x-python",
   "name": "python",
   "nbconvert_exporter": "python",
   "pygments_lexer": "ipython3",
   "version": "3.6.3"
  }
 },
 "nbformat": 4,
 "nbformat_minor": 2
}
