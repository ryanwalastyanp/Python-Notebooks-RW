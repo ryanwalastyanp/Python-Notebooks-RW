{
 "cells": [
  {
   "cell_type": "code",
   "execution_count": 2,
   "metadata": {},
   "outputs": [],
   "source": [
    "import svv_connector as svv   # SEE BELOW FOR ITS DEFINITION"
   ]
  },
  {
   "cell_type": "markdown",
   "metadata": {},
   "source": [
    "Extend SVVConnection class to be able to execute a query ad get results as following:\n",
    "\n",
    "(1) Add a method called executeQuery that accepts a cursor and a query (as str). It checks if cursor is None, and if it is None, it prints an error message and returns. Otherwise it executes the query that is passed to the method on the passed cursor.\n",
    "\n",
    "(2) Add another method called getBatchQueryResults that accepts batch_size (which defaults to 1), and using try-except block and a generator returns a batch_size of the query results. Have a way to stop the generator when all results are returned.\n",
    "\n",
    "(3) Test your work with a simple query!"
   ]
  },
  {
   "cell_type": "code",
   "execution_count": 13,
   "metadata": {},
   "outputs": [],
   "source": [
    "class SVVConnection(object):\n",
    "    \n",
    "    def __init__(self):\n",
    "        ''' Opens connection on Initialisation\n",
    "        '''\n",
    "        self.Connection = svv.get_svv_connection()\n",
    "    \n",
    "    def close(self):\n",
    "        ''' Closes connection to svv\n",
    "        '''\n",
    "        try:\n",
    "            self.my_cursor\n",
    "        except:    \n",
    "            self.my_cursor = None\n",
    "            \n",
    "        if self.my_cursor is not None:    \n",
    "            self.my_cursor.close()\n",
    "            \n",
    "        self.Connection.close()\n",
    "    \n",
    "    def reOpen(self):\n",
    "        ''' Re-opens connection to svv\n",
    "        '''\n",
    "        if self.Connection.closed:\n",
    "            self.Connection = svv.get_svv_connection()\n",
    "    \n",
    "    def getCursor(self):\n",
    "        ''' obtains a new cursor\n",
    "        '''\n",
    "        self.my_cursor = self.Connection.cursor()\n",
    "        return self.my_cursor\n",
    "    \n",
    "    def closeCursor(self):\n",
    "        ''' Closes a cursor if one is open\n",
    "        '''\n",
    "        try:\n",
    "            self.my_cursor\n",
    "        except:\n",
    "            self.my_cursor = None\n",
    "        \n",
    "        if self.my_cursor is not None:\n",
    "            self.my_cursor.close()\n",
    "            \n",
    "    def executeQuery(self, my_cursor, query):\n",
    "        ''' Executes a query on SVV using an opened cursor my_cursor\n",
    "        '''\n",
    "        \n",
    "        if my_cursor is None:\n",
    "            print (\"Cursor not open. Call getCursor first.\")\n",
    "            return\n",
    "        \n",
    "        try:\n",
    "            my_cursor.execute(query)\n",
    "        except:\n",
    "            print (\"Error executing query. Is the cursor opened?\")\n",
    "            \n",
    "    def getBatchQueryResults(self, batch_size=1):\n",
    "        ''' Returns a generator from which query results can be sources in batch_size\n",
    "        '''\n",
    "        res = 0\n",
    "        \n",
    "        try:\n",
    "            while res != []:\n",
    "                res = cur.fetchmany(batch_size)\n",
    "                yield res\n",
    "                \n",
    "        except:\n",
    "            print (\"Error fetching query results.\")"
   ]
  },
  {
   "cell_type": "code",
   "execution_count": 16,
   "metadata": {},
   "outputs": [],
   "source": [
    "my_connection = SVVConnection()"
   ]
  },
  {
   "cell_type": "code",
   "execution_count": 17,
   "metadata": {},
   "outputs": [],
   "source": [
    "cur = my_connection.getCursor()"
   ]
  },
  {
   "cell_type": "code",
   "execution_count": 18,
   "metadata": {},
   "outputs": [],
   "source": [
    "query = \"Select Top 10 * from sandbox.viewers_summary_hc_2018c_es;\""
   ]
  },
  {
   "cell_type": "code",
   "execution_count": 19,
   "metadata": {},
   "outputs": [],
   "source": [
    "my_connection.executeQuery(cur, query)"
   ]
  },
  {
   "cell_type": "code",
   "execution_count": 21,
   "metadata": {},
   "outputs": [],
   "source": [
    "my_results = my_connection.getBatchQueryResults(10)"
   ]
  },
  {
   "cell_type": "code",
   "execution_count": 23,
   "metadata": {},
   "outputs": [
    {
     "name": "stdout",
     "output_type": "stream",
     "text": [
      "[('77ff5199-834a-4d61-ab95-0a0bf9e23448', 'M', 65, 'ad.axa.hc.me', 'TN38 9', 'ST. LEONARDS-ON-SEA', 174, 'Inactive', '2', '07', '00', '1', '1', '11', '3', '06', '2', '0', '1', '3', 38400, 'D', '3', 0, 0, 0, 0, '[{\"id\":\"DOCUMENTARY\",\"ranking\":\"1\"}]', Decimal('617.9450000000'), None, Decimal('1.0000'), 'TN38_9', 'TN38_9', 'Hard-pressed living', 'Migration and churn', 'Young hard-pressed families', 1, None), ('c5477e47-985a-4da0-8bc9-e6588c889ece', 'M', 39, 'ad.me', 'NG6 9', 'NOTTINGHAM', 40, 'Active', '2', '07', '03', '1', '0', '06', '3', '06', '2', '0', '0', '4', 45300, 'D', '3', 0, 0, 0, 0, '[{\"id\":\"CRIME DOCUMENTARY\"}]', None, Decimal('2796.3560000000'), Decimal('0.0000'), 'NG6_9', 'NG6_9', 'Multicultural metropolitans', 'Rented family living', 'Social renting young families', 0, None), ('c7ede143-4d08-4637-9da6-e50d88767e9c', 'M', 53, 'ad.axa.me', 'BA4 6', 'SHEPTON MALLET', 50, 'Active', '3', '07', '00', '1', '0', '04', '2', '09', '3', '0', '1', '4', 45000, 'I', '4', 0, 0, 0, 0, '[{\"id\":\"FOOTBALL\",\"ranking\":\"1\"}]', None, Decimal('2960.3050000000'), Decimal('0.0000'), 'BA4_6', 'BA4_6', 'Rural residents', 'Farming communities', 'Agricultural communities', 0, None), ('ef48e979-dcab-485b-b20d-c52bf9cff5cd', 'F', 25, 'a2.a3.ad.axa.h5.hw.w3.wo', 'RH16 1', 'Haywards Heath', 7, 'Active', '5', '08', '01', '0', '0', '11', '4', '12', '0', '1', '0', '4', 42400, 'B', '1', 0, 0, 0, 0, '[{\"id\":\"CRIME AND THRILLERS\",\"ranking\":\"1\"}]', Decimal('2820.1590000000'), Decimal('36865.0230000000'), Decimal('0.0710'), 'RH16_1', 'RH16_1', 'Suburbanites', 'Suburban achievers', 'Ageing in suburbia', 0, None), ('5c4f65eb-d333-427f-9083-1a1f2aa64f07', 'F', 42, 'ad.axa.h5.hc.hw.wo', 'EH44 6', 'INNERLEITHEN', 25, 'Active', '3', '07', '00', '1', '1', '11', '3', '09', '2', '1', '1', '3', 36600, 'D', '1', 0, 0, 0, 0, '[{\"id\":\"CRIME AND THRILLERS\",\"ranking\":\"1\"},{\"id\":\"CONTEMPORARY BRITISH\",\"ranking\":\"2\"}]', Decimal('10912.8030000000'), Decimal('32797.8990000000'), Decimal('0.2496'), 'EH44_6', 'EH44_6', 'Urbanites', 'Ageing urban living', 'Self-sufficient retirement', 1, None), ('859a22fd-5105-4fa8-8b92-a6df50b77792', 'M', 30, 'a3.ad.axa.m3.me', 'M27 9', 'MANCHESTER', 110, 'Inactive', '1', '06', '03', '1', '0', '04', '2', '03', '1', '0', '0', '3', 39400, 'J', '3', 0, 0, 0, 0, '[{\"id\":\"VARIETY\",\"ranking\":\"1\"}]', Decimal('629.6960000000'), Decimal('269.9200000000'), Decimal('0.6999'), 'M27_9', 'M27_9', 'Hard-pressed living', 'Challenged terraced workers', 'Deprived blue-collar terraces', 0, None), ('bdc736b3-49d3-413d-b680-ac03238eecf2', 'M', 44, 'ad.axa.h5.hw.me', 'TN38 0', 'ST. LEONARDS-ON-SEA', 20, 'Active', '4', '08', '02', '1', '0', '11', '3', '09', '2', '0', '1', '2', 28600, 'J', '3', 0, 0, 0, 0, '[{\"id\":\"DATING SHOWS\",\"ranking\":\"1\"},{\"id\":\"FACTUAL ENTERTAINMENT\",\"ranking\":\"2\"}]', None, Decimal('9709.0320000000'), Decimal('0.0000'), 'TN38_0', 'TN38_0', 'Urbanites', 'Ageing urban living', 'Communal retirement', 0, None), ('a5cd2e86-3364-418c-bf82-5356f6ca82da', 'F', None, 'a2.a3.aa.ad.hc.w3.wa.wo', 'RG5 4', 'READING', 3, 'Active', '3', '07', '01', '0', '1', '11', '4', '09', '0', '1', '0', '7', 83100, 'C', '2', 0, 0, 4, 0, '[{\"id\":\"DATING SHOWS\",\"ranking\":\"1\"},{\"id\":\"FACTUAL ENTERTAINMENT\",\"ranking\":\"2\"}]', Decimal('140973.5730000000'), Decimal('415624.5710000000'), Decimal('0.2532'), 'RG5_4', 'RG5_4', 'Suburbanites', 'Suburban achievers', 'Indian tech achievers', 1, None), ('45c9b6a8-30fa-41be-8a47-e3f0676a6a01', 'M', 81, 'ad.axa.me', 'WF4 4', 'WAKEFIELD', 9, 'Active', '5', '08', '00', '1', '0', '11', '3', '12', '5', '0', '1', '2', 29600, 'N', '2', 0, 0, 0, 0, '[{\"id\":\"LONG-RUNNING DRAMA\",\"ranking\":\"1\"}]', Decimal('6796.5000000000'), Decimal('18100.9150000000'), Decimal('0.2729'), 'WF4_4', 'WF4_4', 'Rural residents', 'Rural tenants', 'Rural white-collar workers', 0, None), ('e62646aa-c7da-473d-9065-86ffb09bc902', 'M', 23, 'a2.a3.aa.ad.m3.ma.me', 'WS13 7', 'LICHFIELD', 45, 'Active', '3', '07', '01', '0', '0', '11', '4', '09', '0', '0', '0', '6', 64800, 'B', '0', 0, 0, 0, 0, '[{\"id\":\"DATING SHOWS\",\"ranking\":\"1\"},{\"id\":\"FACTUAL ENTERTAINMENT\",\"ranking\":\"2\"}]', None, Decimal('3072.4150000000'), Decimal('0.0000'), 'WS13_7', 'WS13_7', 'Urbanites', 'Ageing urban living', 'Self-sufficient retirement', 0, None)]\n"
     ]
    }
   ],
   "source": [
    "print (next(my_results))"
   ]
  },
  {
   "cell_type": "code",
   "execution_count": 26,
   "metadata": {},
   "outputs": [
    {
     "name": "stdout",
     "output_type": "stream",
     "text": [
      "Error fetching query results.\n"
     ]
    },
    {
     "ename": "StopIteration",
     "evalue": "",
     "output_type": "error",
     "traceback": [
      "\u001b[1;31m---------------------------------------------------------------------------\u001b[0m",
      "\u001b[1;31mStopIteration\u001b[0m                             Traceback (most recent call last)",
      "\u001b[1;32m<ipython-input-26-fa7fd2ab0a74>\u001b[0m in \u001b[0;36m<module>\u001b[1;34m()\u001b[0m\n\u001b[1;32m----> 1\u001b[1;33m \u001b[0mprint\u001b[0m \u001b[1;33m(\u001b[0m\u001b[0mnext\u001b[0m\u001b[1;33m(\u001b[0m\u001b[0mmy_results\u001b[0m\u001b[1;33m)\u001b[0m\u001b[1;33m)\u001b[0m\u001b[1;33m\u001b[0m\u001b[0m\n\u001b[0m",
      "\u001b[1;31mStopIteration\u001b[0m: "
     ]
    }
   ],
   "source": [
    "print (next(my_results))"
   ]
  },
  {
   "cell_type": "code",
   "execution_count": 27,
   "metadata": {},
   "outputs": [],
   "source": [
    "my_connection.closeCursor()"
   ]
  },
  {
   "cell_type": "code",
   "execution_count": 28,
   "metadata": {},
   "outputs": [],
   "source": [
    "my_connection.close()"
   ]
  },
  {
   "cell_type": "markdown",
   "metadata": {},
   "source": [
    "### _/_/_/_/_/_/_/_/_/_/_/_/_/_/_/_/_/_/_/_/_/_/_/"
   ]
  },
  {
   "cell_type": "markdown",
   "metadata": {},
   "source": [
    "import psycopg2\n",
    "\n",
    "\n",
    "def get_svv_connection():\n",
    "\n",
    "    con=psycopg2.connect(dbname= 'svv', host='svv-rs-prod-bi.cjddijbnvfpr.eu-west-1.redshift.amazonaws.com', \\\n",
    "                         port= 5439, user= 'my_user_name', password= 'my_password')\n",
    "    \n",
    "    return con"
   ]
  },
  {
   "cell_type": "code",
   "execution_count": null,
   "metadata": {},
   "outputs": [],
   "source": []
  }
 ],
 "metadata": {
  "kernelspec": {
   "display_name": "Python 3",
   "language": "python",
   "name": "python3"
  },
  "language_info": {
   "codemirror_mode": {
    "name": "ipython",
    "version": 3
   },
   "file_extension": ".py",
   "mimetype": "text/x-python",
   "name": "python",
   "nbconvert_exporter": "python",
   "pygments_lexer": "ipython3",
   "version": "3.6.3"
  }
 },
 "nbformat": 4,
 "nbformat_minor": 2
}
