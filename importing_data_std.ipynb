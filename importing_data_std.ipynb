{
 "cells": [
  {
   "cell_type": "markdown",
   "metadata": {},
   "source": [
    "## Importing data\n",
    "\n",
    "We will be working with some files I pulled from the Office of National Statistics (ONS) and some artificially generated customer data. Please download these files from [here](https://www.dropbox.com/sh/73n4slafnpjfcdb/AAA-aPDbgI-RjpJraoY4eBOua?dl=0) and save them in a local folder on your machine. Later you will repeat the process with your own data.\n",
    "\n",
    "The first thing we need to do is to import the pandas library and set a few constants."
   ]
  },
  {
   "cell_type": "code",
   "execution_count": null,
   "metadata": {},
   "outputs": [],
   "source": [
    "import pandas as pd\n",
    "working_dir  = \"../data/\""
   ]
  },
  {
   "cell_type": "markdown",
   "metadata": {},
   "source": [
    "Note the way we have created an alias for pandas `pd` which we will use whenever we wish to refer to it. Substitute in your own directory details above. \n",
    "\n",
    "Importing csv files is very simple with pandas. For example:"
   ]
  },
  {
   "cell_type": "code",
   "execution_count": null,
   "metadata": {},
   "outputs": [],
   "source": [
    "household_size = pd.read_csv(working_dir + 'HouseholdSize.csv', encoding = 'ISO-8859-1')"
   ]
  },
  {
   "cell_type": "markdown",
   "metadata": {},
   "source": [
    "The encoding ensures we can import stray characters that are outside of standard unicode encodings. Use the head method to check that the file has imported ok."
   ]
  },
  {
   "cell_type": "code",
   "execution_count": null,
   "metadata": {},
   "outputs": [],
   "source": [
    "household_size.head()"
   ]
  },
  {
   "cell_type": "markdown",
   "metadata": {},
   "source": [
    "Note pandas gives us a wide range of options for importing from csv. Have a look at [the documentation.](https://pandas.pydata.org/pandas-docs/stable/generated/pandas.read_csv.html) `nrows` is particularly useful as is `skiprows`"
   ]
  },
  {
   "cell_type": "code",
   "execution_count": null,
   "metadata": {},
   "outputs": [],
   "source": [
    "household_size_first_20 = pd.read_csv(working_dir + 'HouseholdSize.csv', encoding = 'ISO-8859-1', nrows = 20)"
   ]
  },
  {
   "cell_type": "markdown",
   "metadata": {},
   "source": [
    "Now import the remaining csv files."
   ]
  },
  {
   "cell_type": "markdown",
   "metadata": {},
   "source": [
    "We can also import data directly from Excel files. But you will need to install `xlrd`"
   ]
  },
  {
   "cell_type": "code",
   "execution_count": null,
   "metadata": {},
   "outputs": [],
   "source": [
    "religion_detailed = pd.read_excel(working_dir + 'ReligionDetailed.xlsx', header=1)\n",
    "religion_detailed.head()"
   ]
  },
  {
   "cell_type": "markdown",
   "metadata": {},
   "source": [
    "Interaction with web APIs is also very easy with python"
   ]
  },
  {
   "cell_type": "code",
   "execution_count": null,
   "metadata": {},
   "outputs": [],
   "source": [
    "import urllib.request, json\n",
    "get_data = urllib.request.urlopen(\"http://jsonplaceholder.typicode.com/users\").read().decode('utf-8')\n",
    "data = json.loads(get_data)\n",
    "json_df = pd.DataFrame(data)\n",
    "json_df.head()"
   ]
  }
 ],
 "metadata": {
  "kernelspec": {
   "display_name": "Python 3",
   "language": "python",
   "name": "python3"
  },
  "language_info": {
   "codemirror_mode": {
    "name": "ipython",
    "version": 3
   },
   "file_extension": ".py",
   "mimetype": "text/x-python",
   "name": "python",
   "nbconvert_exporter": "python",
   "pygments_lexer": "ipython3",
   "version": "3.6.4"
  }
 },
 "nbformat": 4,
 "nbformat_minor": 2
}
