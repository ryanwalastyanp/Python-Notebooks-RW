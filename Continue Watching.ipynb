{
 "cells": [
  {
   "cell_type": "code",
   "execution_count": 8,
   "metadata": {},
   "outputs": [],
   "source": [
    "s3_credentials = open('creds.json').read()\n",
    "import json\n",
    "s3_creds = json.loads(s3_credentials)"
   ]
  },
  {
   "cell_type": "code",
   "execution_count": 9,
   "metadata": {},
   "outputs": [],
   "source": [
    "import pandas as pd"
   ]
  },
  {
   "cell_type": "code",
   "execution_count": 10,
   "metadata": {},
   "outputs": [
    {
     "data": {
      "text/html": [
       "<div>\n",
       "<style scoped>\n",
       "    .dataframe tbody tr th:only-of-type {\n",
       "        vertical-align: middle;\n",
       "    }\n",
       "\n",
       "    .dataframe tbody tr th {\n",
       "        vertical-align: top;\n",
       "    }\n",
       "\n",
       "    .dataframe thead th {\n",
       "        text-align: right;\n",
       "    }\n",
       "</style>\n",
       "<table border=\"1\" class=\"dataframe\">\n",
       "  <thead>\n",
       "    <tr style=\"text-align: right;\">\n",
       "      <th></th>\n",
       "      <th>uid</th>\n",
       "    </tr>\n",
       "  </thead>\n",
       "  <tbody>\n",
       "    <tr>\n",
       "      <th>0</th>\n",
       "      <td>3928ac82-20df-47e1-809f-1e5cd2809476</td>\n",
       "    </tr>\n",
       "    <tr>\n",
       "      <th>1</th>\n",
       "      <td>7b0ed34d-b908-4c5b-9161-13a942f239ed</td>\n",
       "    </tr>\n",
       "    <tr>\n",
       "      <th>2</th>\n",
       "      <td>6991bfe4-6a61-4c84-9450-b10d0f8c9d42</td>\n",
       "    </tr>\n",
       "    <tr>\n",
       "      <th>3</th>\n",
       "      <td>fc3bda98-e4bf-4056-845d-479c0b6b1f18</td>\n",
       "    </tr>\n",
       "    <tr>\n",
       "      <th>4</th>\n",
       "      <td>ce445538-88f9-4077-843b-e19166dfba06</td>\n",
       "    </tr>\n",
       "  </tbody>\n",
       "</table>\n",
       "</div>"
      ],
      "text/plain": [
       "                                    uid\n",
       "0  3928ac82-20df-47e1-809f-1e5cd2809476\n",
       "1  7b0ed34d-b908-4c5b-9161-13a942f239ed\n",
       "2  6991bfe4-6a61-4c84-9450-b10d0f8c9d42\n",
       "3  fc3bda98-e4bf-4056-845d-479c0b6b1f18\n",
       "4  ce445538-88f9-4077-843b-e19166dfba06"
      ]
     },
     "execution_count": 10,
     "metadata": {},
     "output_type": "execute_result"
    }
   ],
   "source": [
    "df_cw = pd.read_csv('continue_watching_ids.csv')\n",
    "df_cw.head()"
   ]
  },
  {
   "cell_type": "code",
   "execution_count": 11,
   "metadata": {},
   "outputs": [
    {
     "data": {
      "text/html": [
       "<div>\n",
       "<style scoped>\n",
       "    .dataframe tbody tr th:only-of-type {\n",
       "        vertical-align: middle;\n",
       "    }\n",
       "\n",
       "    .dataframe tbody tr th {\n",
       "        vertical-align: top;\n",
       "    }\n",
       "\n",
       "    .dataframe thead th {\n",
       "        text-align: right;\n",
       "    }\n",
       "</style>\n",
       "<table border=\"1\" class=\"dataframe\">\n",
       "  <thead>\n",
       "    <tr style=\"text-align: right;\">\n",
       "      <th></th>\n",
       "    </tr>\n",
       "    <tr>\n",
       "      <th>uid</th>\n",
       "    </tr>\n",
       "  </thead>\n",
       "  <tbody>\n",
       "    <tr>\n",
       "      <th>3928ac82-20df-47e1-809f-1e5cd2809476</th>\n",
       "    </tr>\n",
       "    <tr>\n",
       "      <th>7b0ed34d-b908-4c5b-9161-13a942f239ed</th>\n",
       "    </tr>\n",
       "    <tr>\n",
       "      <th>6991bfe4-6a61-4c84-9450-b10d0f8c9d42</th>\n",
       "    </tr>\n",
       "    <tr>\n",
       "      <th>fc3bda98-e4bf-4056-845d-479c0b6b1f18</th>\n",
       "    </tr>\n",
       "    <tr>\n",
       "      <th>ce445538-88f9-4077-843b-e19166dfba06</th>\n",
       "    </tr>\n",
       "  </tbody>\n",
       "</table>\n",
       "</div>"
      ],
      "text/plain": [
       "Empty DataFrame\n",
       "Columns: []\n",
       "Index: [3928ac82-20df-47e1-809f-1e5cd2809476, 7b0ed34d-b908-4c5b-9161-13a942f239ed, 6991bfe4-6a61-4c84-9450-b10d0f8c9d42, fc3bda98-e4bf-4056-845d-479c0b6b1f18, ce445538-88f9-4077-843b-e19166dfba06]"
      ]
     },
     "execution_count": 11,
     "metadata": {},
     "output_type": "execute_result"
    }
   ],
   "source": [
    "df_cw.set_index('uid', inplace = True)\n",
    "df_cw.head()"
   ]
  },
  {
   "cell_type": "code",
   "execution_count": 12,
   "metadata": {},
   "outputs": [
    {
     "name": "stdout",
     "output_type": "stream",
     "text": [
      "Successfully uploaded data to s3 bucket!\n"
     ]
    }
   ],
   "source": [
    "import boto3\n",
    "from io import StringIO\n",
    "\n",
    "def df_to_s3(df, bucket, key, s3_access_key, s3_secret_key):\n",
    "\n",
    "    session = boto3.Session(aws_access_key_id = s3_access_key,\n",
    "                            aws_secret_access_key = s3_secret_key)\n",
    "    s3 = session.resource('s3')\n",
    "    csv_buffer = StringIO()\n",
    "    df.to_csv(csv_buffer)\n",
    "\n",
    "    s3.Object(bucket, key).put(ServerSideEncryption = 'AES256', Body = csv_buffer.getvalue()[1:])\n",
    "    return print('Successfully uploaded data to s3 bucket!')\n",
    "\n",
    "if __name__ == '__main__':\n",
    "\n",
    "    file = ''\n",
    "    bucket_name = 'svv-s3-dev-scratch'\n",
    "    s3_access_key = s3_creds['access_key']\n",
    "    s3_secret_key = s3_creds['secret_key']\n",
    "    \n",
    "    hub_segmentation_key = 'continue_watching_ids.csv'\n",
    "\n",
    "    df_to_s3(df_cw, bucket_name, hub_segmentation_key, s3_access_key, s3_secret_key)"
   ]
  },
  {
   "cell_type": "code",
   "execution_count": null,
   "metadata": {},
   "outputs": [],
   "source": []
  }
 ],
 "metadata": {
  "kernelspec": {
   "display_name": "Python 3",
   "language": "python",
   "name": "python3"
  },
  "language_info": {
   "codemirror_mode": {
    "name": "ipython",
    "version": 3
   },
   "file_extension": ".py",
   "mimetype": "text/x-python",
   "name": "python",
   "nbconvert_exporter": "python",
   "pygments_lexer": "ipython3",
   "version": "3.7.0"
  }
 },
 "nbformat": 4,
 "nbformat_minor": 2
}
