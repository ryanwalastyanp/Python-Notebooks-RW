{
 "cells": [
  {
   "cell_type": "markdown",
   "metadata": {},
   "source": [
    "Import Pandas and load in SVV credentials."
   ]
  },
  {
   "cell_type": "code",
   "execution_count": 17,
   "metadata": {},
   "outputs": [],
   "source": [
    "import pandas as pd"
   ]
  },
  {
   "cell_type": "code",
   "execution_count": 18,
   "metadata": {},
   "outputs": [],
   "source": [
    "svv_credentials = open('svv_creds.json.txt').read()\n",
    "import json\n",
    "svv_creds = json.loads(svv_credentials)"
   ]
  },
  {
   "cell_type": "markdown",
   "metadata": {},
   "source": [
    "Connect to SVV and Query the Gender table"
   ]
  },
  {
   "cell_type": "code",
   "execution_count": 19,
   "metadata": {},
   "outputs": [],
   "source": [
    "import psycopg2\n",
    "\n",
    "def get_svv_connection():\n",
    "    con = psycopg2.connect(dbname = 'svv', host = 'svv-rs-prod-bi.cjddijbnvfpr.eu-west-1.redshift.amazonaws.com', \\\n",
    "                           port = 5439, user = svv_creds['user'], password = svv_creds['password'])\n",
    "    return con"
   ]
  },
  {
   "cell_type": "code",
   "execution_count": 20,
   "metadata": {},
   "outputs": [],
   "source": [
    "query_data = \"SELECT * FROM sandbox.rw_gender_experian_validation\"\n",
    "\n",
    "df_gender = pd.DataFrame()\n",
    "\n",
    "try:\n",
    "    con = get_svv_connection()\n",
    "    \n",
    "    cur = con.cursor()\n",
    "    cur.execute(query_data)\n",
    "    \n",
    "    colnames = [desc[0] for desc in cur.description]\n",
    "    df_gender = pd.DataFrame(cur.fetchall(), columns = colnames)\n",
    "    \n",
    "except Exception as inst:\n",
    "    print(inst)\n",
    "finally:\n",
    "    cur.close()\n",
    "    con.close()"
   ]
  },
  {
   "cell_type": "code",
   "execution_count": 21,
   "metadata": {},
   "outputs": [
    {
     "data": {
      "text/html": [
       "<div>\n",
       "<style scoped>\n",
       "    .dataframe tbody tr th:only-of-type {\n",
       "        vertical-align: middle;\n",
       "    }\n",
       "\n",
       "    .dataframe tbody tr th {\n",
       "        vertical-align: top;\n",
       "    }\n",
       "\n",
       "    .dataframe thead th {\n",
       "        text-align: right;\n",
       "    }\n",
       "</style>\n",
       "<table border=\"1\" class=\"dataframe\">\n",
       "  <thead>\n",
       "    <tr style=\"text-align: right;\">\n",
       "      <th></th>\n",
       "      <th>viewer_id</th>\n",
       "      <th>gender</th>\n",
       "      <th>e_gender</th>\n",
       "    </tr>\n",
       "  </thead>\n",
       "  <tbody>\n",
       "    <tr>\n",
       "      <th>0</th>\n",
       "      <td>8d5388fb-e9ac-448a-84b4-b67a963a6d65</td>\n",
       "      <td>M</td>\n",
       "      <td>M</td>\n",
       "    </tr>\n",
       "    <tr>\n",
       "      <th>1</th>\n",
       "      <td>1d0a06f3-a43c-4722-98b3-caf8244f4b08</td>\n",
       "      <td>F</td>\n",
       "      <td>F</td>\n",
       "    </tr>\n",
       "    <tr>\n",
       "      <th>2</th>\n",
       "      <td>52cd981f-4ec0-49d4-bb9e-71483e3adabb</td>\n",
       "      <td>M</td>\n",
       "      <td>F</td>\n",
       "    </tr>\n",
       "    <tr>\n",
       "      <th>3</th>\n",
       "      <td>f56518de-50e7-4fff-87b1-c476b84e579b</td>\n",
       "      <td>F</td>\n",
       "      <td>F</td>\n",
       "    </tr>\n",
       "    <tr>\n",
       "      <th>4</th>\n",
       "      <td>849cdd11-9f1a-4564-a571-eaf8b5390ca2</td>\n",
       "      <td>M</td>\n",
       "      <td>None</td>\n",
       "    </tr>\n",
       "  </tbody>\n",
       "</table>\n",
       "</div>"
      ],
      "text/plain": [
       "                              viewer_id gender e_gender\n",
       "0  8d5388fb-e9ac-448a-84b4-b67a963a6d65      M        M\n",
       "1  1d0a06f3-a43c-4722-98b3-caf8244f4b08      F        F\n",
       "2  52cd981f-4ec0-49d4-bb9e-71483e3adabb      M        F\n",
       "3  f56518de-50e7-4fff-87b1-c476b84e579b      F        F\n",
       "4  849cdd11-9f1a-4564-a571-eaf8b5390ca2      M     None"
      ]
     },
     "execution_count": 21,
     "metadata": {},
     "output_type": "execute_result"
    }
   ],
   "source": [
    "df_gender.head()"
   ]
  },
  {
   "cell_type": "markdown",
   "metadata": {},
   "source": [
    "Set the viewer_id as the index"
   ]
  },
  {
   "cell_type": "code",
   "execution_count": 22,
   "metadata": {},
   "outputs": [
    {
     "data": {
      "text/html": [
       "<div>\n",
       "<style scoped>\n",
       "    .dataframe tbody tr th:only-of-type {\n",
       "        vertical-align: middle;\n",
       "    }\n",
       "\n",
       "    .dataframe tbody tr th {\n",
       "        vertical-align: top;\n",
       "    }\n",
       "\n",
       "    .dataframe thead th {\n",
       "        text-align: right;\n",
       "    }\n",
       "</style>\n",
       "<table border=\"1\" class=\"dataframe\">\n",
       "  <thead>\n",
       "    <tr style=\"text-align: right;\">\n",
       "      <th></th>\n",
       "      <th>gender</th>\n",
       "      <th>e_gender</th>\n",
       "    </tr>\n",
       "    <tr>\n",
       "      <th>viewer_id</th>\n",
       "      <th></th>\n",
       "      <th></th>\n",
       "    </tr>\n",
       "  </thead>\n",
       "  <tbody>\n",
       "    <tr>\n",
       "      <th>8d5388fb-e9ac-448a-84b4-b67a963a6d65</th>\n",
       "      <td>M</td>\n",
       "      <td>M</td>\n",
       "    </tr>\n",
       "    <tr>\n",
       "      <th>1d0a06f3-a43c-4722-98b3-caf8244f4b08</th>\n",
       "      <td>F</td>\n",
       "      <td>F</td>\n",
       "    </tr>\n",
       "    <tr>\n",
       "      <th>52cd981f-4ec0-49d4-bb9e-71483e3adabb</th>\n",
       "      <td>M</td>\n",
       "      <td>F</td>\n",
       "    </tr>\n",
       "    <tr>\n",
       "      <th>f56518de-50e7-4fff-87b1-c476b84e579b</th>\n",
       "      <td>F</td>\n",
       "      <td>F</td>\n",
       "    </tr>\n",
       "    <tr>\n",
       "      <th>849cdd11-9f1a-4564-a571-eaf8b5390ca2</th>\n",
       "      <td>M</td>\n",
       "      <td>None</td>\n",
       "    </tr>\n",
       "  </tbody>\n",
       "</table>\n",
       "</div>"
      ],
      "text/plain": [
       "                                     gender e_gender\n",
       "viewer_id                                           \n",
       "8d5388fb-e9ac-448a-84b4-b67a963a6d65      M        M\n",
       "1d0a06f3-a43c-4722-98b3-caf8244f4b08      F        F\n",
       "52cd981f-4ec0-49d4-bb9e-71483e3adabb      M        F\n",
       "f56518de-50e7-4fff-87b1-c476b84e579b      F        F\n",
       "849cdd11-9f1a-4564-a571-eaf8b5390ca2      M     None"
      ]
     },
     "execution_count": 22,
     "metadata": {},
     "output_type": "execute_result"
    }
   ],
   "source": [
    "df_gender.set_index('viewer_id', inplace = True)\n",
    "df_gender.head()"
   ]
  },
  {
   "cell_type": "markdown",
   "metadata": {},
   "source": [
    "Generate a new column to check whether the genders are the same between the Viewer table and the Experian data."
   ]
  },
  {
   "cell_type": "code",
   "execution_count": 23,
   "metadata": {},
   "outputs": [
    {
     "data": {
      "text/html": [
       "<div>\n",
       "<style scoped>\n",
       "    .dataframe tbody tr th:only-of-type {\n",
       "        vertical-align: middle;\n",
       "    }\n",
       "\n",
       "    .dataframe tbody tr th {\n",
       "        vertical-align: top;\n",
       "    }\n",
       "\n",
       "    .dataframe thead th {\n",
       "        text-align: right;\n",
       "    }\n",
       "</style>\n",
       "<table border=\"1\" class=\"dataframe\">\n",
       "  <thead>\n",
       "    <tr style=\"text-align: right;\">\n",
       "      <th></th>\n",
       "      <th>gender</th>\n",
       "      <th>e_gender</th>\n",
       "      <th>same</th>\n",
       "    </tr>\n",
       "    <tr>\n",
       "      <th>viewer_id</th>\n",
       "      <th></th>\n",
       "      <th></th>\n",
       "      <th></th>\n",
       "    </tr>\n",
       "  </thead>\n",
       "  <tbody>\n",
       "    <tr>\n",
       "      <th>8d5388fb-e9ac-448a-84b4-b67a963a6d65</th>\n",
       "      <td>M</td>\n",
       "      <td>M</td>\n",
       "      <td>1</td>\n",
       "    </tr>\n",
       "    <tr>\n",
       "      <th>1d0a06f3-a43c-4722-98b3-caf8244f4b08</th>\n",
       "      <td>F</td>\n",
       "      <td>F</td>\n",
       "      <td>1</td>\n",
       "    </tr>\n",
       "    <tr>\n",
       "      <th>52cd981f-4ec0-49d4-bb9e-71483e3adabb</th>\n",
       "      <td>M</td>\n",
       "      <td>F</td>\n",
       "      <td>0</td>\n",
       "    </tr>\n",
       "    <tr>\n",
       "      <th>f56518de-50e7-4fff-87b1-c476b84e579b</th>\n",
       "      <td>F</td>\n",
       "      <td>F</td>\n",
       "      <td>1</td>\n",
       "    </tr>\n",
       "    <tr>\n",
       "      <th>849cdd11-9f1a-4564-a571-eaf8b5390ca2</th>\n",
       "      <td>M</td>\n",
       "      <td>None</td>\n",
       "      <td>0</td>\n",
       "    </tr>\n",
       "  </tbody>\n",
       "</table>\n",
       "</div>"
      ],
      "text/plain": [
       "                                     gender e_gender  same\n",
       "viewer_id                                                 \n",
       "8d5388fb-e9ac-448a-84b4-b67a963a6d65      M        M     1\n",
       "1d0a06f3-a43c-4722-98b3-caf8244f4b08      F        F     1\n",
       "52cd981f-4ec0-49d4-bb9e-71483e3adabb      M        F     0\n",
       "f56518de-50e7-4fff-87b1-c476b84e579b      F        F     1\n",
       "849cdd11-9f1a-4564-a571-eaf8b5390ca2      M     None     0"
      ]
     },
     "execution_count": 23,
     "metadata": {},
     "output_type": "execute_result"
    }
   ],
   "source": [
    "import numpy as np\n",
    "\n",
    "df_gender['same'] = np.where(df_gender['gender'] == df_gender['e_gender'], 1, 0)\n",
    "df_gender.head()"
   ]
  },
  {
   "cell_type": "code",
   "execution_count": 24,
   "metadata": {},
   "outputs": [
    {
     "data": {
      "text/plain": [
       "gender      object\n",
       "e_gender    object\n",
       "same         int32\n",
       "dtype: object"
      ]
     },
     "execution_count": 24,
     "metadata": {},
     "output_type": "execute_result"
    }
   ],
   "source": [
    "df_gender.dtypes"
   ]
  },
  {
   "cell_type": "code",
   "execution_count": 25,
   "metadata": {},
   "outputs": [
    {
     "data": {
      "text/plain": [
       "61257"
      ]
     },
     "execution_count": 25,
     "metadata": {},
     "output_type": "execute_result"
    }
   ],
   "source": [
    "df_gender['same'].sum(axis = 0)"
   ]
  },
  {
   "cell_type": "markdown",
   "metadata": {},
   "source": [
    "61,257 of the 100,000 sample have the same gender in the Viewer table as they do in the Experian Data (~61.3%)"
   ]
  },
  {
   "cell_type": "code",
   "execution_count": 26,
   "metadata": {},
   "outputs": [
    {
     "data": {
      "text/html": [
       "<div>\n",
       "<style scoped>\n",
       "    .dataframe tbody tr th:only-of-type {\n",
       "        vertical-align: middle;\n",
       "    }\n",
       "\n",
       "    .dataframe tbody tr th {\n",
       "        vertical-align: top;\n",
       "    }\n",
       "\n",
       "    .dataframe thead th {\n",
       "        text-align: right;\n",
       "    }\n",
       "</style>\n",
       "<table border=\"1\" class=\"dataframe\">\n",
       "  <thead>\n",
       "    <tr style=\"text-align: right;\">\n",
       "      <th></th>\n",
       "      <th>gender</th>\n",
       "      <th>e_gender</th>\n",
       "      <th>same</th>\n",
       "    </tr>\n",
       "    <tr>\n",
       "      <th>viewer_id</th>\n",
       "      <th></th>\n",
       "      <th></th>\n",
       "      <th></th>\n",
       "    </tr>\n",
       "  </thead>\n",
       "  <tbody>\n",
       "    <tr>\n",
       "      <th>52cd981f-4ec0-49d4-bb9e-71483e3adabb</th>\n",
       "      <td>M</td>\n",
       "      <td>F</td>\n",
       "      <td>0</td>\n",
       "    </tr>\n",
       "    <tr>\n",
       "      <th>849cdd11-9f1a-4564-a571-eaf8b5390ca2</th>\n",
       "      <td>M</td>\n",
       "      <td>None</td>\n",
       "      <td>0</td>\n",
       "    </tr>\n",
       "    <tr>\n",
       "      <th>01580f16-db82-4e11-bbdc-5035ed0c8982</th>\n",
       "      <td>M</td>\n",
       "      <td>None</td>\n",
       "      <td>0</td>\n",
       "    </tr>\n",
       "    <tr>\n",
       "      <th>ab2311aa-428e-42cf-81c7-566914207e75</th>\n",
       "      <td>M</td>\n",
       "      <td>None</td>\n",
       "      <td>0</td>\n",
       "    </tr>\n",
       "    <tr>\n",
       "      <th>942ec2ef-6b43-4b4c-a7dd-414ee73dc479</th>\n",
       "      <td>M</td>\n",
       "      <td>None</td>\n",
       "      <td>0</td>\n",
       "    </tr>\n",
       "  </tbody>\n",
       "</table>\n",
       "</div>"
      ],
      "text/plain": [
       "                                     gender e_gender  same\n",
       "viewer_id                                                 \n",
       "52cd981f-4ec0-49d4-bb9e-71483e3adabb      M        F     0\n",
       "849cdd11-9f1a-4564-a571-eaf8b5390ca2      M     None     0\n",
       "01580f16-db82-4e11-bbdc-5035ed0c8982      M     None     0\n",
       "ab2311aa-428e-42cf-81c7-566914207e75      M     None     0\n",
       "942ec2ef-6b43-4b4c-a7dd-414ee73dc479      M     None     0"
      ]
     },
     "execution_count": 26,
     "metadata": {},
     "output_type": "execute_result"
    }
   ],
   "source": [
    "df_gender_disagreement = df_gender.loc[df_gender['same'] == 0]\n",
    "df_gender_disagreement.head()"
   ]
  },
  {
   "cell_type": "code",
   "execution_count": 44,
   "metadata": {},
   "outputs": [
    {
     "data": {
      "text/html": [
       "<div>\n",
       "<style scoped>\n",
       "    .dataframe tbody tr th:only-of-type {\n",
       "        vertical-align: middle;\n",
       "    }\n",
       "\n",
       "    .dataframe tbody tr th {\n",
       "        vertical-align: top;\n",
       "    }\n",
       "\n",
       "    .dataframe thead th {\n",
       "        text-align: right;\n",
       "    }\n",
       "</style>\n",
       "<table border=\"1\" class=\"dataframe\">\n",
       "  <thead>\n",
       "    <tr style=\"text-align: right;\">\n",
       "      <th></th>\n",
       "      <th>gender</th>\n",
       "      <th>e_gender</th>\n",
       "      <th>same</th>\n",
       "    </tr>\n",
       "    <tr>\n",
       "      <th>viewer_id</th>\n",
       "      <th></th>\n",
       "      <th></th>\n",
       "      <th></th>\n",
       "    </tr>\n",
       "  </thead>\n",
       "  <tbody>\n",
       "    <tr>\n",
       "      <th>52cd981f-4ec0-49d4-bb9e-71483e3adabb</th>\n",
       "      <td>M</td>\n",
       "      <td>F</td>\n",
       "      <td>0</td>\n",
       "    </tr>\n",
       "    <tr>\n",
       "      <th>46534b48-490d-47f4-b790-d85fc3232879</th>\n",
       "      <td>M</td>\n",
       "      <td>F</td>\n",
       "      <td>0</td>\n",
       "    </tr>\n",
       "    <tr>\n",
       "      <th>38b42cda-fa75-45f3-bbae-a3ea073e7144</th>\n",
       "      <td>F</td>\n",
       "      <td>M</td>\n",
       "      <td>0</td>\n",
       "    </tr>\n",
       "    <tr>\n",
       "      <th>7fd860f8-66e8-4547-814d-e39d7fcdafdd</th>\n",
       "      <td>F</td>\n",
       "      <td>M</td>\n",
       "      <td>0</td>\n",
       "    </tr>\n",
       "    <tr>\n",
       "      <th>eeb5aed3-8164-464f-a72f-437ad186275a</th>\n",
       "      <td>F</td>\n",
       "      <td>M</td>\n",
       "      <td>0</td>\n",
       "    </tr>\n",
       "  </tbody>\n",
       "</table>\n",
       "</div>"
      ],
      "text/plain": [
       "                                     gender e_gender  same\n",
       "viewer_id                                                 \n",
       "52cd981f-4ec0-49d4-bb9e-71483e3adabb      M        F     0\n",
       "46534b48-490d-47f4-b790-d85fc3232879      M        F     0\n",
       "38b42cda-fa75-45f3-bbae-a3ea073e7144      F        M     0\n",
       "7fd860f8-66e8-4547-814d-e39d7fcdafdd      F        M     0\n",
       "eeb5aed3-8164-464f-a72f-437ad186275a      F        M     0"
      ]
     },
     "execution_count": 44,
     "metadata": {},
     "output_type": "execute_result"
    }
   ],
   "source": [
    "df_gender_diff = df_gender_disagreement.loc[df_gender_disagreement['e_gender'].notnull()]\n",
    "df_gender_diff.head()"
   ]
  },
  {
   "cell_type": "code",
   "execution_count": 45,
   "metadata": {},
   "outputs": [
    {
     "data": {
      "text/html": [
       "<div>\n",
       "<style scoped>\n",
       "    .dataframe tbody tr th:only-of-type {\n",
       "        vertical-align: middle;\n",
       "    }\n",
       "\n",
       "    .dataframe tbody tr th {\n",
       "        vertical-align: top;\n",
       "    }\n",
       "\n",
       "    .dataframe thead th {\n",
       "        text-align: right;\n",
       "    }\n",
       "</style>\n",
       "<table border=\"1\" class=\"dataframe\">\n",
       "  <thead>\n",
       "    <tr style=\"text-align: right;\">\n",
       "      <th></th>\n",
       "      <th>gender</th>\n",
       "      <th>e_gender</th>\n",
       "      <th>same</th>\n",
       "    </tr>\n",
       "    <tr>\n",
       "      <th>viewer_id</th>\n",
       "      <th></th>\n",
       "      <th></th>\n",
       "      <th></th>\n",
       "    </tr>\n",
       "  </thead>\n",
       "  <tbody>\n",
       "    <tr>\n",
       "      <th>52cd981f-4ec0-49d4-bb9e-71483e3adabb</th>\n",
       "      <td>M</td>\n",
       "      <td>F</td>\n",
       "      <td>0</td>\n",
       "    </tr>\n",
       "    <tr>\n",
       "      <th>46534b48-490d-47f4-b790-d85fc3232879</th>\n",
       "      <td>M</td>\n",
       "      <td>F</td>\n",
       "      <td>0</td>\n",
       "    </tr>\n",
       "    <tr>\n",
       "      <th>db1a63d7-c969-4a43-a3c2-5cc3ff79905c</th>\n",
       "      <td>M</td>\n",
       "      <td>F</td>\n",
       "      <td>0</td>\n",
       "    </tr>\n",
       "    <tr>\n",
       "      <th>33caf625-156e-41f2-a971-6b66b3196c96</th>\n",
       "      <td>M</td>\n",
       "      <td>F</td>\n",
       "      <td>0</td>\n",
       "    </tr>\n",
       "    <tr>\n",
       "      <th>f5dfef86-fd2f-493e-9e6e-c3aec098debf</th>\n",
       "      <td>M</td>\n",
       "      <td>F</td>\n",
       "      <td>0</td>\n",
       "    </tr>\n",
       "  </tbody>\n",
       "</table>\n",
       "</div>"
      ],
      "text/plain": [
       "                                     gender e_gender  same\n",
       "viewer_id                                                 \n",
       "52cd981f-4ec0-49d4-bb9e-71483e3adabb      M        F     0\n",
       "46534b48-490d-47f4-b790-d85fc3232879      M        F     0\n",
       "db1a63d7-c969-4a43-a3c2-5cc3ff79905c      M        F     0\n",
       "33caf625-156e-41f2-a971-6b66b3196c96      M        F     0\n",
       "f5dfef86-fd2f-493e-9e6e-c3aec098debf      M        F     0"
      ]
     },
     "execution_count": 45,
     "metadata": {},
     "output_type": "execute_result"
    }
   ],
   "source": [
    "df_gender_diff_v_m = df_gender_diff.loc[df_gender_diff['gender'] == 'M']\n",
    "df_gender_diff_v_m.head()"
   ]
  },
  {
   "cell_type": "code",
   "execution_count": 46,
   "metadata": {},
   "outputs": [
    {
     "data": {
      "text/plain": [
       "2647"
      ]
     },
     "execution_count": 46,
     "metadata": {},
     "output_type": "execute_result"
    }
   ],
   "source": [
    "len(df_gender_diff_v_m)"
   ]
  },
  {
   "cell_type": "markdown",
   "metadata": {},
   "source": [
    "2,647 users are listed as Male in the viewer table who are listed as Female from Experian (from the 100,000 user sample, ~2.6%)"
   ]
  },
  {
   "cell_type": "code",
   "execution_count": 47,
   "metadata": {},
   "outputs": [
    {
     "data": {
      "text/html": [
       "<div>\n",
       "<style scoped>\n",
       "    .dataframe tbody tr th:only-of-type {\n",
       "        vertical-align: middle;\n",
       "    }\n",
       "\n",
       "    .dataframe tbody tr th {\n",
       "        vertical-align: top;\n",
       "    }\n",
       "\n",
       "    .dataframe thead th {\n",
       "        text-align: right;\n",
       "    }\n",
       "</style>\n",
       "<table border=\"1\" class=\"dataframe\">\n",
       "  <thead>\n",
       "    <tr style=\"text-align: right;\">\n",
       "      <th></th>\n",
       "      <th>gender</th>\n",
       "      <th>e_gender</th>\n",
       "      <th>same</th>\n",
       "    </tr>\n",
       "    <tr>\n",
       "      <th>viewer_id</th>\n",
       "      <th></th>\n",
       "      <th></th>\n",
       "      <th></th>\n",
       "    </tr>\n",
       "  </thead>\n",
       "  <tbody>\n",
       "    <tr>\n",
       "      <th>38b42cda-fa75-45f3-bbae-a3ea073e7144</th>\n",
       "      <td>F</td>\n",
       "      <td>M</td>\n",
       "      <td>0</td>\n",
       "    </tr>\n",
       "    <tr>\n",
       "      <th>7fd860f8-66e8-4547-814d-e39d7fcdafdd</th>\n",
       "      <td>F</td>\n",
       "      <td>M</td>\n",
       "      <td>0</td>\n",
       "    </tr>\n",
       "    <tr>\n",
       "      <th>eeb5aed3-8164-464f-a72f-437ad186275a</th>\n",
       "      <td>F</td>\n",
       "      <td>M</td>\n",
       "      <td>0</td>\n",
       "    </tr>\n",
       "    <tr>\n",
       "      <th>f1dea152-0c41-4dcb-851e-ae07041b829e</th>\n",
       "      <td>F</td>\n",
       "      <td>M</td>\n",
       "      <td>0</td>\n",
       "    </tr>\n",
       "    <tr>\n",
       "      <th>99879e82-fa4d-4c19-b87e-787318c439c8</th>\n",
       "      <td>F</td>\n",
       "      <td>M</td>\n",
       "      <td>0</td>\n",
       "    </tr>\n",
       "  </tbody>\n",
       "</table>\n",
       "</div>"
      ],
      "text/plain": [
       "                                     gender e_gender  same\n",
       "viewer_id                                                 \n",
       "38b42cda-fa75-45f3-bbae-a3ea073e7144      F        M     0\n",
       "7fd860f8-66e8-4547-814d-e39d7fcdafdd      F        M     0\n",
       "eeb5aed3-8164-464f-a72f-437ad186275a      F        M     0\n",
       "f1dea152-0c41-4dcb-851e-ae07041b829e      F        M     0\n",
       "99879e82-fa4d-4c19-b87e-787318c439c8      F        M     0"
      ]
     },
     "execution_count": 47,
     "metadata": {},
     "output_type": "execute_result"
    }
   ],
   "source": [
    "df_gender_diff_v_f = df_gender_diff.loc[df_gender_diff['gender'] == 'F']\n",
    "df_gender_diff_v_f.head()"
   ]
  },
  {
   "cell_type": "code",
   "execution_count": 48,
   "metadata": {},
   "outputs": [
    {
     "data": {
      "text/plain": [
       "3344"
      ]
     },
     "execution_count": 48,
     "metadata": {},
     "output_type": "execute_result"
    }
   ],
   "source": [
    "len(df_gender_diff_v_f)"
   ]
  },
  {
   "cell_type": "markdown",
   "metadata": {},
   "source": [
    "3,344 users are listed as Female in the Viewer table who are listed as Male in Experian (from the 100,000 sample, ~3.3%)"
   ]
  },
  {
   "cell_type": "code",
   "execution_count": 49,
   "metadata": {},
   "outputs": [
    {
     "data": {
      "text/html": [
       "<div>\n",
       "<style scoped>\n",
       "    .dataframe tbody tr th:only-of-type {\n",
       "        vertical-align: middle;\n",
       "    }\n",
       "\n",
       "    .dataframe tbody tr th {\n",
       "        vertical-align: top;\n",
       "    }\n",
       "\n",
       "    .dataframe thead th {\n",
       "        text-align: right;\n",
       "    }\n",
       "</style>\n",
       "<table border=\"1\" class=\"dataframe\">\n",
       "  <thead>\n",
       "    <tr style=\"text-align: right;\">\n",
       "      <th></th>\n",
       "      <th>gender</th>\n",
       "      <th>e_gender</th>\n",
       "      <th>same</th>\n",
       "    </tr>\n",
       "    <tr>\n",
       "      <th>viewer_id</th>\n",
       "      <th></th>\n",
       "      <th></th>\n",
       "      <th></th>\n",
       "    </tr>\n",
       "  </thead>\n",
       "  <tbody>\n",
       "    <tr>\n",
       "      <th>849cdd11-9f1a-4564-a571-eaf8b5390ca2</th>\n",
       "      <td>M</td>\n",
       "      <td>None</td>\n",
       "      <td>0</td>\n",
       "    </tr>\n",
       "    <tr>\n",
       "      <th>01580f16-db82-4e11-bbdc-5035ed0c8982</th>\n",
       "      <td>M</td>\n",
       "      <td>None</td>\n",
       "      <td>0</td>\n",
       "    </tr>\n",
       "    <tr>\n",
       "      <th>ab2311aa-428e-42cf-81c7-566914207e75</th>\n",
       "      <td>M</td>\n",
       "      <td>None</td>\n",
       "      <td>0</td>\n",
       "    </tr>\n",
       "    <tr>\n",
       "      <th>942ec2ef-6b43-4b4c-a7dd-414ee73dc479</th>\n",
       "      <td>M</td>\n",
       "      <td>None</td>\n",
       "      <td>0</td>\n",
       "    </tr>\n",
       "    <tr>\n",
       "      <th>593a6217-f1d1-435e-a69d-11777df88fb8</th>\n",
       "      <td>F</td>\n",
       "      <td>None</td>\n",
       "      <td>0</td>\n",
       "    </tr>\n",
       "  </tbody>\n",
       "</table>\n",
       "</div>"
      ],
      "text/plain": [
       "                                     gender e_gender  same\n",
       "viewer_id                                                 \n",
       "849cdd11-9f1a-4564-a571-eaf8b5390ca2      M     None     0\n",
       "01580f16-db82-4e11-bbdc-5035ed0c8982      M     None     0\n",
       "ab2311aa-428e-42cf-81c7-566914207e75      M     None     0\n",
       "942ec2ef-6b43-4b4c-a7dd-414ee73dc479      M     None     0\n",
       "593a6217-f1d1-435e-a69d-11777df88fb8      F     None     0"
      ]
     },
     "execution_count": 49,
     "metadata": {},
     "output_type": "execute_result"
    }
   ],
   "source": [
    "df_experian_null = df_gender.loc[df_gender['e_gender'].isnull()]\n",
    "df_experian_null.head()"
   ]
  },
  {
   "cell_type": "code",
   "execution_count": 50,
   "metadata": {},
   "outputs": [
    {
     "data": {
      "text/plain": [
       "32591"
      ]
     },
     "execution_count": 50,
     "metadata": {},
     "output_type": "execute_result"
    }
   ],
   "source": [
    "len(df_experian_null)"
   ]
  },
  {
   "cell_type": "markdown",
   "metadata": {},
   "source": [
    "32.6% of the Experian sample had Null genders"
   ]
  },
  {
   "cell_type": "markdown",
   "metadata": {},
   "source": [
    "61,257 / 67,248 (91.09%) of the viewers where neither the viewer nor Experian genders are null agree with each other."
   ]
  },
  {
   "cell_type": "code",
   "execution_count": 51,
   "metadata": {},
   "outputs": [],
   "source": [
    "import psycopg2\n",
    "\n",
    "def get_svv_connection():\n",
    "    con = psycopg2.connect(dbname = 'svv', host = 'svv-rs-prod-bi.cjddijbnvfpr.eu-west-1.redshift.amazonaws.com', \\\n",
    "                           port = 5439, user = svv_creds['user'], password = svv_creds['password'])\n",
    "    return con"
   ]
  },
  {
   "cell_type": "code",
   "execution_count": 52,
   "metadata": {},
   "outputs": [],
   "source": [
    "query_data = \"SELECT * FROM sandbox.rw_gender_experian_validation_nonnull\"\n",
    "\n",
    "df_gender_nonnull = pd.DataFrame()\n",
    "\n",
    "try:\n",
    "    con = get_svv_connection()\n",
    "    \n",
    "    cur = con.cursor()\n",
    "    cur.execute(query_data)\n",
    "    \n",
    "    colnames = [desc[0] for desc in cur.description]\n",
    "    df_gender_nonnull = pd.DataFrame(cur.fetchall(), columns = colnames)\n",
    "    \n",
    "except Exception as inst:\n",
    "    print(inst)\n",
    "finally:\n",
    "    cur.close()\n",
    "    con.close()"
   ]
  },
  {
   "cell_type": "code",
   "execution_count": 53,
   "metadata": {},
   "outputs": [
    {
     "data": {
      "text/html": [
       "<div>\n",
       "<style scoped>\n",
       "    .dataframe tbody tr th:only-of-type {\n",
       "        vertical-align: middle;\n",
       "    }\n",
       "\n",
       "    .dataframe tbody tr th {\n",
       "        vertical-align: top;\n",
       "    }\n",
       "\n",
       "    .dataframe thead th {\n",
       "        text-align: right;\n",
       "    }\n",
       "</style>\n",
       "<table border=\"1\" class=\"dataframe\">\n",
       "  <thead>\n",
       "    <tr style=\"text-align: right;\">\n",
       "      <th></th>\n",
       "      <th>viewer_id</th>\n",
       "      <th>gender</th>\n",
       "      <th>e_gender</th>\n",
       "    </tr>\n",
       "  </thead>\n",
       "  <tbody>\n",
       "    <tr>\n",
       "      <th>0</th>\n",
       "      <td>8d5388fb-e9ac-448a-84b4-b67a963a6d65</td>\n",
       "      <td>M</td>\n",
       "      <td>M</td>\n",
       "    </tr>\n",
       "    <tr>\n",
       "      <th>1</th>\n",
       "      <td>8e267207-01d8-40ce-ae7f-3155d0907d00</td>\n",
       "      <td>M</td>\n",
       "      <td>M</td>\n",
       "    </tr>\n",
       "    <tr>\n",
       "      <th>2</th>\n",
       "      <td>f56518de-50e7-4fff-87b1-c476b84e579b</td>\n",
       "      <td>F</td>\n",
       "      <td>F</td>\n",
       "    </tr>\n",
       "    <tr>\n",
       "      <th>3</th>\n",
       "      <td>d1de40ba-5c13-4732-83b5-d37aa4313ec7</td>\n",
       "      <td>M</td>\n",
       "      <td>M</td>\n",
       "    </tr>\n",
       "    <tr>\n",
       "      <th>4</th>\n",
       "      <td>725abd85-4927-45e8-a8fa-80bb76573f77</td>\n",
       "      <td>F</td>\n",
       "      <td>F</td>\n",
       "    </tr>\n",
       "  </tbody>\n",
       "</table>\n",
       "</div>"
      ],
      "text/plain": [
       "                              viewer_id gender e_gender\n",
       "0  8d5388fb-e9ac-448a-84b4-b67a963a6d65      M        M\n",
       "1  8e267207-01d8-40ce-ae7f-3155d0907d00      M        M\n",
       "2  f56518de-50e7-4fff-87b1-c476b84e579b      F        F\n",
       "3  d1de40ba-5c13-4732-83b5-d37aa4313ec7      M        M\n",
       "4  725abd85-4927-45e8-a8fa-80bb76573f77      F        F"
      ]
     },
     "execution_count": 53,
     "metadata": {},
     "output_type": "execute_result"
    }
   ],
   "source": [
    "df_gender_nonnull.head()"
   ]
  },
  {
   "cell_type": "code",
   "execution_count": 54,
   "metadata": {},
   "outputs": [
    {
     "data": {
      "text/html": [
       "<div>\n",
       "<style scoped>\n",
       "    .dataframe tbody tr th:only-of-type {\n",
       "        vertical-align: middle;\n",
       "    }\n",
       "\n",
       "    .dataframe tbody tr th {\n",
       "        vertical-align: top;\n",
       "    }\n",
       "\n",
       "    .dataframe thead th {\n",
       "        text-align: right;\n",
       "    }\n",
       "</style>\n",
       "<table border=\"1\" class=\"dataframe\">\n",
       "  <thead>\n",
       "    <tr style=\"text-align: right;\">\n",
       "      <th></th>\n",
       "      <th>gender</th>\n",
       "      <th>e_gender</th>\n",
       "    </tr>\n",
       "    <tr>\n",
       "      <th>viewer_id</th>\n",
       "      <th></th>\n",
       "      <th></th>\n",
       "    </tr>\n",
       "  </thead>\n",
       "  <tbody>\n",
       "    <tr>\n",
       "      <th>8d5388fb-e9ac-448a-84b4-b67a963a6d65</th>\n",
       "      <td>M</td>\n",
       "      <td>M</td>\n",
       "    </tr>\n",
       "    <tr>\n",
       "      <th>8e267207-01d8-40ce-ae7f-3155d0907d00</th>\n",
       "      <td>M</td>\n",
       "      <td>M</td>\n",
       "    </tr>\n",
       "    <tr>\n",
       "      <th>f56518de-50e7-4fff-87b1-c476b84e579b</th>\n",
       "      <td>F</td>\n",
       "      <td>F</td>\n",
       "    </tr>\n",
       "    <tr>\n",
       "      <th>d1de40ba-5c13-4732-83b5-d37aa4313ec7</th>\n",
       "      <td>M</td>\n",
       "      <td>M</td>\n",
       "    </tr>\n",
       "    <tr>\n",
       "      <th>725abd85-4927-45e8-a8fa-80bb76573f77</th>\n",
       "      <td>F</td>\n",
       "      <td>F</td>\n",
       "    </tr>\n",
       "  </tbody>\n",
       "</table>\n",
       "</div>"
      ],
      "text/plain": [
       "                                     gender e_gender\n",
       "viewer_id                                           \n",
       "8d5388fb-e9ac-448a-84b4-b67a963a6d65      M        M\n",
       "8e267207-01d8-40ce-ae7f-3155d0907d00      M        M\n",
       "f56518de-50e7-4fff-87b1-c476b84e579b      F        F\n",
       "d1de40ba-5c13-4732-83b5-d37aa4313ec7      M        M\n",
       "725abd85-4927-45e8-a8fa-80bb76573f77      F        F"
      ]
     },
     "execution_count": 54,
     "metadata": {},
     "output_type": "execute_result"
    }
   ],
   "source": [
    "df_gender_nonnull.set_index('viewer_id', inplace = True)\n",
    "df_gender_nonnull.head()"
   ]
  },
  {
   "cell_type": "code",
   "execution_count": 55,
   "metadata": {},
   "outputs": [
    {
     "data": {
      "text/html": [
       "<div>\n",
       "<style scoped>\n",
       "    .dataframe tbody tr th:only-of-type {\n",
       "        vertical-align: middle;\n",
       "    }\n",
       "\n",
       "    .dataframe tbody tr th {\n",
       "        vertical-align: top;\n",
       "    }\n",
       "\n",
       "    .dataframe thead th {\n",
       "        text-align: right;\n",
       "    }\n",
       "</style>\n",
       "<table border=\"1\" class=\"dataframe\">\n",
       "  <thead>\n",
       "    <tr style=\"text-align: right;\">\n",
       "      <th></th>\n",
       "      <th>gender</th>\n",
       "      <th>e_gender</th>\n",
       "      <th>same</th>\n",
       "    </tr>\n",
       "    <tr>\n",
       "      <th>viewer_id</th>\n",
       "      <th></th>\n",
       "      <th></th>\n",
       "      <th></th>\n",
       "    </tr>\n",
       "  </thead>\n",
       "  <tbody>\n",
       "    <tr>\n",
       "      <th>8d5388fb-e9ac-448a-84b4-b67a963a6d65</th>\n",
       "      <td>M</td>\n",
       "      <td>M</td>\n",
       "      <td>1</td>\n",
       "    </tr>\n",
       "    <tr>\n",
       "      <th>8e267207-01d8-40ce-ae7f-3155d0907d00</th>\n",
       "      <td>M</td>\n",
       "      <td>M</td>\n",
       "      <td>1</td>\n",
       "    </tr>\n",
       "    <tr>\n",
       "      <th>f56518de-50e7-4fff-87b1-c476b84e579b</th>\n",
       "      <td>F</td>\n",
       "      <td>F</td>\n",
       "      <td>1</td>\n",
       "    </tr>\n",
       "    <tr>\n",
       "      <th>d1de40ba-5c13-4732-83b5-d37aa4313ec7</th>\n",
       "      <td>M</td>\n",
       "      <td>M</td>\n",
       "      <td>1</td>\n",
       "    </tr>\n",
       "    <tr>\n",
       "      <th>725abd85-4927-45e8-a8fa-80bb76573f77</th>\n",
       "      <td>F</td>\n",
       "      <td>F</td>\n",
       "      <td>1</td>\n",
       "    </tr>\n",
       "  </tbody>\n",
       "</table>\n",
       "</div>"
      ],
      "text/plain": [
       "                                     gender e_gender  same\n",
       "viewer_id                                                 \n",
       "8d5388fb-e9ac-448a-84b4-b67a963a6d65      M        M     1\n",
       "8e267207-01d8-40ce-ae7f-3155d0907d00      M        M     1\n",
       "f56518de-50e7-4fff-87b1-c476b84e579b      F        F     1\n",
       "d1de40ba-5c13-4732-83b5-d37aa4313ec7      M        M     1\n",
       "725abd85-4927-45e8-a8fa-80bb76573f77      F        F     1"
      ]
     },
     "execution_count": 55,
     "metadata": {},
     "output_type": "execute_result"
    }
   ],
   "source": [
    "df_gender_nonnull['same'] = np.where(df_gender_nonnull['gender'] == df_gender_nonnull['e_gender'], 1, 0)\n",
    "df_gender_nonnull.head()"
   ]
  },
  {
   "cell_type": "code",
   "execution_count": 56,
   "metadata": {},
   "outputs": [
    {
     "data": {
      "text/plain": [
       "90832"
      ]
     },
     "execution_count": 56,
     "metadata": {},
     "output_type": "execute_result"
    }
   ],
   "source": [
    "df_gender_nonnull['same'].sum(axis = 0)"
   ]
  },
  {
   "cell_type": "code",
   "execution_count": 57,
   "metadata": {},
   "outputs": [
    {
     "data": {
      "text/html": [
       "<div>\n",
       "<style scoped>\n",
       "    .dataframe tbody tr th:only-of-type {\n",
       "        vertical-align: middle;\n",
       "    }\n",
       "\n",
       "    .dataframe tbody tr th {\n",
       "        vertical-align: top;\n",
       "    }\n",
       "\n",
       "    .dataframe thead th {\n",
       "        text-align: right;\n",
       "    }\n",
       "</style>\n",
       "<table border=\"1\" class=\"dataframe\">\n",
       "  <thead>\n",
       "    <tr style=\"text-align: right;\">\n",
       "      <th></th>\n",
       "      <th>gender</th>\n",
       "      <th>e_gender</th>\n",
       "      <th>same</th>\n",
       "    </tr>\n",
       "    <tr>\n",
       "      <th>viewer_id</th>\n",
       "      <th></th>\n",
       "      <th></th>\n",
       "      <th></th>\n",
       "    </tr>\n",
       "  </thead>\n",
       "  <tbody>\n",
       "    <tr>\n",
       "      <th>97f5fb19-8601-4508-b160-d6e79d5a1f7a</th>\n",
       "      <td>F</td>\n",
       "      <td>M</td>\n",
       "      <td>0</td>\n",
       "    </tr>\n",
       "    <tr>\n",
       "      <th>7bafc2a3-8805-4dc6-93e6-47784ccd9ee1</th>\n",
       "      <td>F</td>\n",
       "      <td>M</td>\n",
       "      <td>0</td>\n",
       "    </tr>\n",
       "    <tr>\n",
       "      <th>ee0e5c98-2d9f-4c2b-8a73-180da62f2aec</th>\n",
       "      <td>F</td>\n",
       "      <td>M</td>\n",
       "      <td>0</td>\n",
       "    </tr>\n",
       "    <tr>\n",
       "      <th>2627e066-6cc0-4ea9-a1ef-1f7d4c8e1978</th>\n",
       "      <td>F</td>\n",
       "      <td>M</td>\n",
       "      <td>0</td>\n",
       "    </tr>\n",
       "    <tr>\n",
       "      <th>b223506c-8a7c-4a41-a1c9-eca27b4781bc</th>\n",
       "      <td>M</td>\n",
       "      <td>F</td>\n",
       "      <td>0</td>\n",
       "    </tr>\n",
       "  </tbody>\n",
       "</table>\n",
       "</div>"
      ],
      "text/plain": [
       "                                     gender e_gender  same\n",
       "viewer_id                                                 \n",
       "97f5fb19-8601-4508-b160-d6e79d5a1f7a      F        M     0\n",
       "7bafc2a3-8805-4dc6-93e6-47784ccd9ee1      F        M     0\n",
       "ee0e5c98-2d9f-4c2b-8a73-180da62f2aec      F        M     0\n",
       "2627e066-6cc0-4ea9-a1ef-1f7d4c8e1978      F        M     0\n",
       "b223506c-8a7c-4a41-a1c9-eca27b4781bc      M        F     0"
      ]
     },
     "execution_count": 57,
     "metadata": {},
     "output_type": "execute_result"
    }
   ],
   "source": [
    "df_gender_nonnull_disagreement = df_gender_nonnull.loc[df_gender_nonnull['same'] == 0]\n",
    "df_gender_nonnull_disagreement.head()"
   ]
  },
  {
   "cell_type": "code",
   "execution_count": 58,
   "metadata": {},
   "outputs": [
    {
     "data": {
      "text/html": [
       "<div>\n",
       "<style scoped>\n",
       "    .dataframe tbody tr th:only-of-type {\n",
       "        vertical-align: middle;\n",
       "    }\n",
       "\n",
       "    .dataframe tbody tr th {\n",
       "        vertical-align: top;\n",
       "    }\n",
       "\n",
       "    .dataframe thead th {\n",
       "        text-align: right;\n",
       "    }\n",
       "</style>\n",
       "<table border=\"1\" class=\"dataframe\">\n",
       "  <thead>\n",
       "    <tr style=\"text-align: right;\">\n",
       "      <th></th>\n",
       "      <th>gender</th>\n",
       "      <th>e_gender</th>\n",
       "      <th>same</th>\n",
       "    </tr>\n",
       "    <tr>\n",
       "      <th>viewer_id</th>\n",
       "      <th></th>\n",
       "      <th></th>\n",
       "      <th></th>\n",
       "    </tr>\n",
       "  </thead>\n",
       "  <tbody>\n",
       "    <tr>\n",
       "      <th>b223506c-8a7c-4a41-a1c9-eca27b4781bc</th>\n",
       "      <td>M</td>\n",
       "      <td>F</td>\n",
       "      <td>0</td>\n",
       "    </tr>\n",
       "    <tr>\n",
       "      <th>5827b172-2a21-4923-83ee-2d6e8fc2f0e3</th>\n",
       "      <td>M</td>\n",
       "      <td>F</td>\n",
       "      <td>0</td>\n",
       "    </tr>\n",
       "    <tr>\n",
       "      <th>c7e89c8d-f680-4118-a322-f25b7c258f8e</th>\n",
       "      <td>M</td>\n",
       "      <td>F</td>\n",
       "      <td>0</td>\n",
       "    </tr>\n",
       "    <tr>\n",
       "      <th>746e5ac1-368d-4631-8c04-8c5f26983bf0</th>\n",
       "      <td>M</td>\n",
       "      <td>F</td>\n",
       "      <td>0</td>\n",
       "    </tr>\n",
       "    <tr>\n",
       "      <th>a44a309f-9e41-4e53-871b-999ab1c71449</th>\n",
       "      <td>M</td>\n",
       "      <td>F</td>\n",
       "      <td>0</td>\n",
       "    </tr>\n",
       "  </tbody>\n",
       "</table>\n",
       "</div>"
      ],
      "text/plain": [
       "                                     gender e_gender  same\n",
       "viewer_id                                                 \n",
       "b223506c-8a7c-4a41-a1c9-eca27b4781bc      M        F     0\n",
       "5827b172-2a21-4923-83ee-2d6e8fc2f0e3      M        F     0\n",
       "c7e89c8d-f680-4118-a322-f25b7c258f8e      M        F     0\n",
       "746e5ac1-368d-4631-8c04-8c5f26983bf0      M        F     0\n",
       "a44a309f-9e41-4e53-871b-999ab1c71449      M        F     0"
      ]
     },
     "execution_count": 58,
     "metadata": {},
     "output_type": "execute_result"
    }
   ],
   "source": [
    "df_gender_nonnull_diff_v_m = df_gender_nonnull_disagreement.loc[df_gender_nonnull_disagreement['gender'] == 'M']\n",
    "df_gender_nonnull_diff_v_m.head()"
   ]
  },
  {
   "cell_type": "code",
   "execution_count": 60,
   "metadata": {},
   "outputs": [
    {
     "data": {
      "text/plain": [
       "3910"
      ]
     },
     "execution_count": 60,
     "metadata": {},
     "output_type": "execute_result"
    }
   ],
   "source": [
    "len(df_gender_nonnull_diff_v_m)"
   ]
  },
  {
   "cell_type": "code",
   "execution_count": 61,
   "metadata": {},
   "outputs": [
    {
     "data": {
      "text/html": [
       "<div>\n",
       "<style scoped>\n",
       "    .dataframe tbody tr th:only-of-type {\n",
       "        vertical-align: middle;\n",
       "    }\n",
       "\n",
       "    .dataframe tbody tr th {\n",
       "        vertical-align: top;\n",
       "    }\n",
       "\n",
       "    .dataframe thead th {\n",
       "        text-align: right;\n",
       "    }\n",
       "</style>\n",
       "<table border=\"1\" class=\"dataframe\">\n",
       "  <thead>\n",
       "    <tr style=\"text-align: right;\">\n",
       "      <th></th>\n",
       "      <th>gender</th>\n",
       "      <th>e_gender</th>\n",
       "      <th>same</th>\n",
       "    </tr>\n",
       "    <tr>\n",
       "      <th>viewer_id</th>\n",
       "      <th></th>\n",
       "      <th></th>\n",
       "      <th></th>\n",
       "    </tr>\n",
       "  </thead>\n",
       "  <tbody>\n",
       "    <tr>\n",
       "      <th>97f5fb19-8601-4508-b160-d6e79d5a1f7a</th>\n",
       "      <td>F</td>\n",
       "      <td>M</td>\n",
       "      <td>0</td>\n",
       "    </tr>\n",
       "    <tr>\n",
       "      <th>7bafc2a3-8805-4dc6-93e6-47784ccd9ee1</th>\n",
       "      <td>F</td>\n",
       "      <td>M</td>\n",
       "      <td>0</td>\n",
       "    </tr>\n",
       "    <tr>\n",
       "      <th>ee0e5c98-2d9f-4c2b-8a73-180da62f2aec</th>\n",
       "      <td>F</td>\n",
       "      <td>M</td>\n",
       "      <td>0</td>\n",
       "    </tr>\n",
       "    <tr>\n",
       "      <th>2627e066-6cc0-4ea9-a1ef-1f7d4c8e1978</th>\n",
       "      <td>F</td>\n",
       "      <td>M</td>\n",
       "      <td>0</td>\n",
       "    </tr>\n",
       "    <tr>\n",
       "      <th>4537edc7-b466-46b6-a900-beab9e394f39</th>\n",
       "      <td>F</td>\n",
       "      <td>M</td>\n",
       "      <td>0</td>\n",
       "    </tr>\n",
       "  </tbody>\n",
       "</table>\n",
       "</div>"
      ],
      "text/plain": [
       "                                     gender e_gender  same\n",
       "viewer_id                                                 \n",
       "97f5fb19-8601-4508-b160-d6e79d5a1f7a      F        M     0\n",
       "7bafc2a3-8805-4dc6-93e6-47784ccd9ee1      F        M     0\n",
       "ee0e5c98-2d9f-4c2b-8a73-180da62f2aec      F        M     0\n",
       "2627e066-6cc0-4ea9-a1ef-1f7d4c8e1978      F        M     0\n",
       "4537edc7-b466-46b6-a900-beab9e394f39      F        M     0"
      ]
     },
     "execution_count": 61,
     "metadata": {},
     "output_type": "execute_result"
    }
   ],
   "source": [
    "df_gender_nonnull_diff_v_f = df_gender_nonnull_disagreement.loc[df_gender_nonnull_disagreement['gender'] == 'F']\n",
    "df_gender_nonnull_diff_v_f.head()"
   ]
  },
  {
   "cell_type": "code",
   "execution_count": 62,
   "metadata": {},
   "outputs": [
    {
     "data": {
      "text/plain": [
       "5011"
      ]
     },
     "execution_count": 62,
     "metadata": {},
     "output_type": "execute_result"
    }
   ],
   "source": [
    "len(df_gender_nonnull_diff_v_f)"
   ]
  },
  {
   "cell_type": "markdown",
   "metadata": {},
   "source": [
    "90.83% of the Users in this 100,000 sample have genders that agrre in the viewer table and in the Experian data.\n",
    "\n",
    "3.91% of the Users in this sample are recorded as Male in the viewer table but they are listed as Female in the Experian data.\n",
    "\n",
    "5.01% of the USers in the sample are labelled as Female in the viewer table but are Male in the Experian data."
   ]
  },
  {
   "cell_type": "code",
   "execution_count": 63,
   "metadata": {},
   "outputs": [],
   "source": [
    "import psycopg2\n",
    "\n",
    "def get_svv_connection():\n",
    "    con = psycopg2.connect(dbname = 'svv', host = 'svv-rs-prod-bi.cjddijbnvfpr.eu-west-1.redshift.amazonaws.com', \\\n",
    "                           port = 5439, user = svv_creds['user'], password = svv_creds['password'])\n",
    "    return con"
   ]
  },
  {
   "cell_type": "code",
   "execution_count": 64,
   "metadata": {},
   "outputs": [],
   "source": [
    "query_data = \"SELECT * FROM sandbox.rw_experian_age_verification\"\n",
    "\n",
    "df_age = pd.DataFrame()\n",
    "\n",
    "try:\n",
    "    con = get_svv_connection()\n",
    "    \n",
    "    cur = con.cursor()\n",
    "    cur.execute(query_data)\n",
    "    \n",
    "    colnames = [desc[0] for desc in cur.description]\n",
    "    df_age = pd.DataFrame(cur.fetchall(), columns = colnames)\n",
    "    \n",
    "except Exception as inst:\n",
    "    print(inst)\n",
    "finally:\n",
    "    cur.close()\n",
    "    con.close()"
   ]
  },
  {
   "cell_type": "code",
   "execution_count": 65,
   "metadata": {},
   "outputs": [
    {
     "data": {
      "text/html": [
       "<div>\n",
       "<style scoped>\n",
       "    .dataframe tbody tr th:only-of-type {\n",
       "        vertical-align: middle;\n",
       "    }\n",
       "\n",
       "    .dataframe tbody tr th {\n",
       "        vertical-align: top;\n",
       "    }\n",
       "\n",
       "    .dataframe thead th {\n",
       "        text-align: right;\n",
       "    }\n",
       "</style>\n",
       "<table border=\"1\" class=\"dataframe\">\n",
       "  <thead>\n",
       "    <tr style=\"text-align: right;\">\n",
       "      <th></th>\n",
       "      <th>age</th>\n",
       "      <th>p_age_fine</th>\n",
       "      <th>v_age_fine</th>\n",
       "      <th>band_diff</th>\n",
       "    </tr>\n",
       "  </thead>\n",
       "  <tbody>\n",
       "    <tr>\n",
       "      <th>0</th>\n",
       "      <td>42</td>\n",
       "      <td>04</td>\n",
       "      <td>4.0</td>\n",
       "      <td>0</td>\n",
       "    </tr>\n",
       "    <tr>\n",
       "      <th>1</th>\n",
       "      <td>58</td>\n",
       "      <td>07</td>\n",
       "      <td>7.0</td>\n",
       "      <td>0</td>\n",
       "    </tr>\n",
       "    <tr>\n",
       "      <th>2</th>\n",
       "      <td>35</td>\n",
       "      <td>02</td>\n",
       "      <td>2.0</td>\n",
       "      <td>0</td>\n",
       "    </tr>\n",
       "    <tr>\n",
       "      <th>3</th>\n",
       "      <td>50</td>\n",
       "      <td>09</td>\n",
       "      <td>5.0</td>\n",
       "      <td>-4</td>\n",
       "    </tr>\n",
       "    <tr>\n",
       "      <th>4</th>\n",
       "      <td>81</td>\n",
       "      <td>09</td>\n",
       "      <td>11.0</td>\n",
       "      <td>2</td>\n",
       "    </tr>\n",
       "  </tbody>\n",
       "</table>\n",
       "</div>"
      ],
      "text/plain": [
       "   age p_age_fine  v_age_fine band_diff\n",
       "0   42         04         4.0         0\n",
       "1   58         07         7.0         0\n",
       "2   35         02         2.0         0\n",
       "3   50         09         5.0        -4\n",
       "4   81         09        11.0         2"
      ]
     },
     "execution_count": 65,
     "metadata": {},
     "output_type": "execute_result"
    }
   ],
   "source": [
    "df_age.head()"
   ]
  },
  {
   "cell_type": "code",
   "execution_count": 67,
   "metadata": {},
   "outputs": [
    {
     "data": {
      "text/plain": [
       "age             int64\n",
       "p_age_fine     object\n",
       "v_age_fine    float64\n",
       "band_diff      object\n",
       "dtype: object"
      ]
     },
     "execution_count": 67,
     "metadata": {},
     "output_type": "execute_result"
    }
   ],
   "source": [
    "df_age.dtypes"
   ]
  },
  {
   "cell_type": "code",
   "execution_count": 69,
   "metadata": {},
   "outputs": [],
   "source": [
    "df_age = df_age.dropna(0)"
   ]
  },
  {
   "cell_type": "code",
   "execution_count": 70,
   "metadata": {},
   "outputs": [],
   "source": [
    "df_age['p_age_fine'] = df_age['p_age_fine'].astype(int)\n",
    "df_age['v_age_fine'] = df_age['v_age_fine'].astype(int)\n",
    "df_age['band_diff'] = df_age['band_diff'].astype(int)"
   ]
  },
  {
   "cell_type": "code",
   "execution_count": 71,
   "metadata": {},
   "outputs": [
    {
     "data": {
      "text/plain": [
       "51069"
      ]
     },
     "execution_count": 71,
     "metadata": {},
     "output_type": "execute_result"
    }
   ],
   "source": [
    "df_age_agree = df_age.loc[df_age['band_diff'] == 0]\n",
    "len(df_age_agree)"
   ]
  },
  {
   "cell_type": "code",
   "execution_count": 72,
   "metadata": {},
   "outputs": [
    {
     "data": {
      "text/plain": [
       "98686"
      ]
     },
     "execution_count": 72,
     "metadata": {},
     "output_type": "execute_result"
    }
   ],
   "source": [
    "len(df_age)"
   ]
  },
  {
   "cell_type": "markdown",
   "metadata": {},
   "source": [
    "51,069 / 98,686 (51.7%) of age band from the Viewer table and Experian table agree with one another"
   ]
  },
  {
   "cell_type": "code",
   "execution_count": 73,
   "metadata": {},
   "outputs": [
    {
     "data": {
      "text/plain": [
       "32011"
      ]
     },
     "execution_count": 73,
     "metadata": {},
     "output_type": "execute_result"
    }
   ],
   "source": [
    "df_age_v_lower = df_age.loc[df_age['band_diff'] < 0]\n",
    "len(df_age_v_lower)"
   ]
  },
  {
   "cell_type": "markdown",
   "metadata": {},
   "source": [
    "32,011 / 98,686 (32.4%) of age bands are lower in the Viewer table than in the Experian data, implying that Experian has modelled them as older"
   ]
  },
  {
   "cell_type": "code",
   "execution_count": 74,
   "metadata": {},
   "outputs": [
    {
     "data": {
      "text/plain": [
       "15606"
      ]
     },
     "execution_count": 74,
     "metadata": {},
     "output_type": "execute_result"
    }
   ],
   "source": [
    "df_age_v_higher = df_age.loc[df_age['band_diff'] > 0]\n",
    "len(df_age_v_higher)"
   ]
  },
  {
   "cell_type": "markdown",
   "metadata": {},
   "source": [
    "15,606 / 98,686 (15.8%) of age bands are higher in the Viewer table than they are in the Experian data, implying that the are older in the Viewer table."
   ]
  },
  {
   "cell_type": "code",
   "execution_count": 95,
   "metadata": {},
   "outputs": [
    {
     "data": {
      "text/html": [
       "<div>\n",
       "<style scoped>\n",
       "    .dataframe tbody tr th:only-of-type {\n",
       "        vertical-align: middle;\n",
       "    }\n",
       "\n",
       "    .dataframe tbody tr th {\n",
       "        vertical-align: top;\n",
       "    }\n",
       "\n",
       "    .dataframe thead th {\n",
       "        text-align: right;\n",
       "    }\n",
       "</style>\n",
       "<table border=\"1\" class=\"dataframe\">\n",
       "  <thead>\n",
       "    <tr style=\"text-align: right;\">\n",
       "      <th></th>\n",
       "      <th>band_diff</th>\n",
       "    </tr>\n",
       "  </thead>\n",
       "  <tbody>\n",
       "    <tr>\n",
       "      <th>0</th>\n",
       "      <td>0</td>\n",
       "    </tr>\n",
       "    <tr>\n",
       "      <th>1</th>\n",
       "      <td>0</td>\n",
       "    </tr>\n",
       "    <tr>\n",
       "      <th>2</th>\n",
       "      <td>0</td>\n",
       "    </tr>\n",
       "    <tr>\n",
       "      <th>3</th>\n",
       "      <td>-4</td>\n",
       "    </tr>\n",
       "    <tr>\n",
       "      <th>4</th>\n",
       "      <td>2</td>\n",
       "    </tr>\n",
       "  </tbody>\n",
       "</table>\n",
       "</div>"
      ],
      "text/plain": [
       "   band_diff\n",
       "0          0\n",
       "1          0\n",
       "2          0\n",
       "3         -4\n",
       "4          2"
      ]
     },
     "execution_count": 95,
     "metadata": {},
     "output_type": "execute_result"
    }
   ],
   "source": [
    "df_age_hist = df_age.loc[:,['band_diff']]\n",
    "df_age_hist.head()"
   ]
  },
  {
   "cell_type": "code",
   "execution_count": 98,
   "metadata": {},
   "outputs": [
    {
     "data": {
      "text/plain": [
       "array([[<matplotlib.axes._subplots.AxesSubplot object at 0x0000023964875438>]],\n",
       "      dtype=object)"
      ]
     },
     "execution_count": 98,
     "metadata": {},
     "output_type": "execute_result"
    },
    {
     "data": {
      "image/png": "[encoded data removed]",
      "text/plain": [
       "<Figure size 432x288 with 1 Axes>"
      ]
     },
     "metadata": {
      "needs_background": "light"
     },
     "output_type": "display_data"
    }
   ],
   "source": [
    "%matplotlib inline\n",
    "\n",
    "pd.DataFrame.hist(df_age_hist)"
   ]
  },
  {
   "cell_type": "code",
   "execution_count": 99,
   "metadata": {},
   "outputs": [
    {
     "data": {
      "text/html": [
       "<div>\n",
       "<style scoped>\n",
       "    .dataframe tbody tr th:only-of-type {\n",
       "        vertical-align: middle;\n",
       "    }\n",
       "\n",
       "    .dataframe tbody tr th {\n",
       "        vertical-align: top;\n",
       "    }\n",
       "\n",
       "    .dataframe thead th {\n",
       "        text-align: right;\n",
       "    }\n",
       "</style>\n",
       "<table border=\"1\" class=\"dataframe\">\n",
       "  <thead>\n",
       "    <tr style=\"text-align: right;\">\n",
       "      <th></th>\n",
       "      <th>band_diff</th>\n",
       "    </tr>\n",
       "  </thead>\n",
       "  <tbody>\n",
       "    <tr>\n",
       "      <th>0</th>\n",
       "      <td>0</td>\n",
       "    </tr>\n",
       "    <tr>\n",
       "      <th>1</th>\n",
       "      <td>0</td>\n",
       "    </tr>\n",
       "    <tr>\n",
       "      <th>2</th>\n",
       "      <td>0</td>\n",
       "    </tr>\n",
       "    <tr>\n",
       "      <th>3</th>\n",
       "      <td>4</td>\n",
       "    </tr>\n",
       "    <tr>\n",
       "      <th>4</th>\n",
       "      <td>2</td>\n",
       "    </tr>\n",
       "  </tbody>\n",
       "</table>\n",
       "</div>"
      ],
      "text/plain": [
       "   band_diff\n",
       "0          0\n",
       "1          0\n",
       "2          0\n",
       "3          4\n",
       "4          2"
      ]
     },
     "execution_count": 99,
     "metadata": {},
     "output_type": "execute_result"
    }
   ],
   "source": [
    "df_age_hist['band_diff'] = df_age_hist['band_diff'].abs()\n",
    "df_age_hist.head()"
   ]
  },
  {
   "cell_type": "code",
   "execution_count": 100,
   "metadata": {},
   "outputs": [
    {
     "data": {
      "text/plain": [
       "array([[<matplotlib.axes._subplots.AxesSubplot object at 0x00000239691F2198>]],\n",
       "      dtype=object)"
      ]
     },
     "execution_count": 100,
     "metadata": {},
     "output_type": "execute_result"
    },
    {
     "data": {
      "image/png": "[encoded data removed]",
      "text/plain": [
       "<Figure size 432x288 with 1 Axes>"
      ]
     },
     "metadata": {
      "needs_background": "light"
     },
     "output_type": "display_data"
    }
   ],
   "source": [
    "pd.DataFrame.hist(df_age_hist)"
   ]
  },
  {
   "cell_type": "code",
   "execution_count": 76,
   "metadata": {},
   "outputs": [],
   "source": [
    "import psycopg2\n",
    "\n",
    "def get_svv_connection():\n",
    "    con = psycopg2.connect(dbname = 'svv', host = 'svv-rs-prod-bi.cjddijbnvfpr.eu-west-1.redshift.amazonaws.com', \\\n",
    "                           port = 5439, user = svv_creds['user'], password = svv_creds['password'])\n",
    "    return con"
   ]
  },
  {
   "cell_type": "code",
   "execution_count": 77,
   "metadata": {},
   "outputs": [],
   "source": [
    "query_data = \"SELECT * FROM sandbox.rw_hc_experian_verification\"\n",
    "\n",
    "df_hc = pd.DataFrame()\n",
    "\n",
    "try:\n",
    "    con = get_svv_connection()\n",
    "    \n",
    "    cur = con.cursor()\n",
    "    cur.execute(query_data)\n",
    "    \n",
    "    colnames = [desc[0] for desc in cur.description]\n",
    "    df_hc = pd.DataFrame(cur.fetchall(), columns = colnames)\n",
    "    \n",
    "except Exception as inst:\n",
    "    print(inst)\n",
    "finally:\n",
    "    cur.close()\n",
    "    con.close()"
   ]
  },
  {
   "cell_type": "code",
   "execution_count": 78,
   "metadata": {},
   "outputs": [
    {
     "data": {
      "text/html": [
       "<div>\n",
       "<style scoped>\n",
       "    .dataframe tbody tr th:only-of-type {\n",
       "        vertical-align: middle;\n",
       "    }\n",
       "\n",
       "    .dataframe tbody tr th {\n",
       "        vertical-align: top;\n",
       "    }\n",
       "\n",
       "    .dataframe thead th {\n",
       "        text-align: right;\n",
       "    }\n",
       "</style>\n",
       "<table border=\"1\" class=\"dataframe\">\n",
       "  <thead>\n",
       "    <tr style=\"text-align: right;\">\n",
       "      <th></th>\n",
       "      <th>viewer_id</th>\n",
       "      <th>h_households_with_children_v3</th>\n",
       "      <th>children</th>\n",
       "    </tr>\n",
       "  </thead>\n",
       "  <tbody>\n",
       "    <tr>\n",
       "      <th>0</th>\n",
       "      <td>acd6a37b-d8c0-4df5-a638-602984c45c99</td>\n",
       "      <td>1</td>\n",
       "      <td>1</td>\n",
       "    </tr>\n",
       "    <tr>\n",
       "      <th>1</th>\n",
       "      <td>c651adc4-ce72-4e2a-a712-6fe26ad21897</td>\n",
       "      <td>0</td>\n",
       "      <td>0</td>\n",
       "    </tr>\n",
       "    <tr>\n",
       "      <th>2</th>\n",
       "      <td>78d7f6a2-cc7b-40a2-ac58-8c1cf3e52645</td>\n",
       "      <td>0</td>\n",
       "      <td>0</td>\n",
       "    </tr>\n",
       "    <tr>\n",
       "      <th>3</th>\n",
       "      <td>026ae188-1c8b-4709-a01a-16a2fef5bfd5</td>\n",
       "      <td>0</td>\n",
       "      <td>0</td>\n",
       "    </tr>\n",
       "    <tr>\n",
       "      <th>4</th>\n",
       "      <td>0e06ac8a-1cf9-4033-8c2a-fbaffae39a5f</td>\n",
       "      <td>0</td>\n",
       "      <td>0</td>\n",
       "    </tr>\n",
       "  </tbody>\n",
       "</table>\n",
       "</div>"
      ],
      "text/plain": [
       "                              viewer_id h_households_with_children_v3  \\\n",
       "0  acd6a37b-d8c0-4df5-a638-602984c45c99                             1   \n",
       "1  c651adc4-ce72-4e2a-a712-6fe26ad21897                             0   \n",
       "2  78d7f6a2-cc7b-40a2-ac58-8c1cf3e52645                             0   \n",
       "3  026ae188-1c8b-4709-a01a-16a2fef5bfd5                             0   \n",
       "4  0e06ac8a-1cf9-4033-8c2a-fbaffae39a5f                             0   \n",
       "\n",
       "   children  \n",
       "0         1  \n",
       "1         0  \n",
       "2         0  \n",
       "3         0  \n",
       "4         0  "
      ]
     },
     "execution_count": 78,
     "metadata": {},
     "output_type": "execute_result"
    }
   ],
   "source": [
    "df_hc.head()"
   ]
  },
  {
   "cell_type": "code",
   "execution_count": 79,
   "metadata": {},
   "outputs": [
    {
     "data": {
      "text/html": [
       "<div>\n",
       "<style scoped>\n",
       "    .dataframe tbody tr th:only-of-type {\n",
       "        vertical-align: middle;\n",
       "    }\n",
       "\n",
       "    .dataframe tbody tr th {\n",
       "        vertical-align: top;\n",
       "    }\n",
       "\n",
       "    .dataframe thead th {\n",
       "        text-align: right;\n",
       "    }\n",
       "</style>\n",
       "<table border=\"1\" class=\"dataframe\">\n",
       "  <thead>\n",
       "    <tr style=\"text-align: right;\">\n",
       "      <th></th>\n",
       "      <th>h_households_with_children_v3</th>\n",
       "      <th>children</th>\n",
       "    </tr>\n",
       "    <tr>\n",
       "      <th>viewer_id</th>\n",
       "      <th></th>\n",
       "      <th></th>\n",
       "    </tr>\n",
       "  </thead>\n",
       "  <tbody>\n",
       "    <tr>\n",
       "      <th>acd6a37b-d8c0-4df5-a638-602984c45c99</th>\n",
       "      <td>1</td>\n",
       "      <td>1</td>\n",
       "    </tr>\n",
       "    <tr>\n",
       "      <th>c651adc4-ce72-4e2a-a712-6fe26ad21897</th>\n",
       "      <td>0</td>\n",
       "      <td>0</td>\n",
       "    </tr>\n",
       "    <tr>\n",
       "      <th>78d7f6a2-cc7b-40a2-ac58-8c1cf3e52645</th>\n",
       "      <td>0</td>\n",
       "      <td>0</td>\n",
       "    </tr>\n",
       "    <tr>\n",
       "      <th>026ae188-1c8b-4709-a01a-16a2fef5bfd5</th>\n",
       "      <td>0</td>\n",
       "      <td>0</td>\n",
       "    </tr>\n",
       "    <tr>\n",
       "      <th>0e06ac8a-1cf9-4033-8c2a-fbaffae39a5f</th>\n",
       "      <td>0</td>\n",
       "      <td>0</td>\n",
       "    </tr>\n",
       "  </tbody>\n",
       "</table>\n",
       "</div>"
      ],
      "text/plain": [
       "                                     h_households_with_children_v3  children\n",
       "viewer_id                                                                   \n",
       "acd6a37b-d8c0-4df5-a638-602984c45c99                             1         1\n",
       "c651adc4-ce72-4e2a-a712-6fe26ad21897                             0         0\n",
       "78d7f6a2-cc7b-40a2-ac58-8c1cf3e52645                             0         0\n",
       "026ae188-1c8b-4709-a01a-16a2fef5bfd5                             0         0\n",
       "0e06ac8a-1cf9-4033-8c2a-fbaffae39a5f                             0         0"
      ]
     },
     "execution_count": 79,
     "metadata": {},
     "output_type": "execute_result"
    }
   ],
   "source": [
    "df_hc.set_index('viewer_id', inplace = True)\n",
    "df_hc.head()"
   ]
  },
  {
   "cell_type": "code",
   "execution_count": 80,
   "metadata": {},
   "outputs": [
    {
     "data": {
      "text/plain": [
       "h_households_with_children_v3    object\n",
       "children                          int64\n",
       "dtype: object"
      ]
     },
     "execution_count": 80,
     "metadata": {},
     "output_type": "execute_result"
    }
   ],
   "source": [
    "df_hc.dtypes"
   ]
  },
  {
   "cell_type": "code",
   "execution_count": 82,
   "metadata": {},
   "outputs": [],
   "source": [
    "df_hc = df_hc.dropna(0)"
   ]
  },
  {
   "cell_type": "code",
   "execution_count": 86,
   "metadata": {},
   "outputs": [
    {
     "data": {
      "text/html": [
       "<div>\n",
       "<style scoped>\n",
       "    .dataframe tbody tr th:only-of-type {\n",
       "        vertical-align: middle;\n",
       "    }\n",
       "\n",
       "    .dataframe tbody tr th {\n",
       "        vertical-align: top;\n",
       "    }\n",
       "\n",
       "    .dataframe thead th {\n",
       "        text-align: right;\n",
       "    }\n",
       "</style>\n",
       "<table border=\"1\" class=\"dataframe\">\n",
       "  <thead>\n",
       "    <tr style=\"text-align: right;\">\n",
       "      <th></th>\n",
       "      <th>children</th>\n",
       "    </tr>\n",
       "    <tr>\n",
       "      <th>h_households_with_children_v3</th>\n",
       "      <th></th>\n",
       "    </tr>\n",
       "  </thead>\n",
       "  <tbody>\n",
       "    <tr>\n",
       "      <th>0</th>\n",
       "      <td>60510</td>\n",
       "    </tr>\n",
       "    <tr>\n",
       "      <th>1</th>\n",
       "      <td>39360</td>\n",
       "    </tr>\n",
       "    <tr>\n",
       "      <th>U</th>\n",
       "      <td>130</td>\n",
       "    </tr>\n",
       "  </tbody>\n",
       "</table>\n",
       "</div>"
      ],
      "text/plain": [
       "                               children\n",
       "h_households_with_children_v3          \n",
       "0                                 60510\n",
       "1                                 39360\n",
       "U                                   130"
      ]
     },
     "execution_count": 86,
     "metadata": {},
     "output_type": "execute_result"
    }
   ],
   "source": [
    "df_hc.groupby('h_households_with_children_v3').count()"
   ]
  },
  {
   "cell_type": "code",
   "execution_count": 87,
   "metadata": {},
   "outputs": [],
   "source": [
    "df_hc = df_hc.loc[df_hc['h_households_with_children_v3'] != 'U']"
   ]
  },
  {
   "cell_type": "code",
   "execution_count": 88,
   "metadata": {},
   "outputs": [
    {
     "data": {
      "text/html": [
       "<div>\n",
       "<style scoped>\n",
       "    .dataframe tbody tr th:only-of-type {\n",
       "        vertical-align: middle;\n",
       "    }\n",
       "\n",
       "    .dataframe tbody tr th {\n",
       "        vertical-align: top;\n",
       "    }\n",
       "\n",
       "    .dataframe thead th {\n",
       "        text-align: right;\n",
       "    }\n",
       "</style>\n",
       "<table border=\"1\" class=\"dataframe\">\n",
       "  <thead>\n",
       "    <tr style=\"text-align: right;\">\n",
       "      <th></th>\n",
       "      <th>children</th>\n",
       "    </tr>\n",
       "    <tr>\n",
       "      <th>h_households_with_children_v3</th>\n",
       "      <th></th>\n",
       "    </tr>\n",
       "  </thead>\n",
       "  <tbody>\n",
       "    <tr>\n",
       "      <th>0</th>\n",
       "      <td>60510</td>\n",
       "    </tr>\n",
       "    <tr>\n",
       "      <th>1</th>\n",
       "      <td>39360</td>\n",
       "    </tr>\n",
       "  </tbody>\n",
       "</table>\n",
       "</div>"
      ],
      "text/plain": [
       "                               children\n",
       "h_households_with_children_v3          \n",
       "0                                 60510\n",
       "1                                 39360"
      ]
     },
     "execution_count": 88,
     "metadata": {},
     "output_type": "execute_result"
    }
   ],
   "source": [
    "df_hc.groupby('h_households_with_children_v3').count()"
   ]
  },
  {
   "cell_type": "code",
   "execution_count": 89,
   "metadata": {},
   "outputs": [],
   "source": [
    "df_hc['h_households_with_children_v3'] = df_hc['h_households_with_children_v3'].astype(int)"
   ]
  },
  {
   "cell_type": "code",
   "execution_count": 90,
   "metadata": {},
   "outputs": [
    {
     "data": {
      "text/html": [
       "<div>\n",
       "<style scoped>\n",
       "    .dataframe tbody tr th:only-of-type {\n",
       "        vertical-align: middle;\n",
       "    }\n",
       "\n",
       "    .dataframe tbody tr th {\n",
       "        vertical-align: top;\n",
       "    }\n",
       "\n",
       "    .dataframe thead th {\n",
       "        text-align: right;\n",
       "    }\n",
       "</style>\n",
       "<table border=\"1\" class=\"dataframe\">\n",
       "  <thead>\n",
       "    <tr style=\"text-align: right;\">\n",
       "      <th></th>\n",
       "      <th>h_households_with_children_v3</th>\n",
       "      <th>children</th>\n",
       "      <th>difference</th>\n",
       "    </tr>\n",
       "    <tr>\n",
       "      <th>viewer_id</th>\n",
       "      <th></th>\n",
       "      <th></th>\n",
       "      <th></th>\n",
       "    </tr>\n",
       "  </thead>\n",
       "  <tbody>\n",
       "    <tr>\n",
       "      <th>acd6a37b-d8c0-4df5-a638-602984c45c99</th>\n",
       "      <td>1</td>\n",
       "      <td>1</td>\n",
       "      <td>0</td>\n",
       "    </tr>\n",
       "    <tr>\n",
       "      <th>c651adc4-ce72-4e2a-a712-6fe26ad21897</th>\n",
       "      <td>0</td>\n",
       "      <td>0</td>\n",
       "      <td>0</td>\n",
       "    </tr>\n",
       "    <tr>\n",
       "      <th>78d7f6a2-cc7b-40a2-ac58-8c1cf3e52645</th>\n",
       "      <td>0</td>\n",
       "      <td>0</td>\n",
       "      <td>0</td>\n",
       "    </tr>\n",
       "    <tr>\n",
       "      <th>026ae188-1c8b-4709-a01a-16a2fef5bfd5</th>\n",
       "      <td>0</td>\n",
       "      <td>0</td>\n",
       "      <td>0</td>\n",
       "    </tr>\n",
       "    <tr>\n",
       "      <th>0e06ac8a-1cf9-4033-8c2a-fbaffae39a5f</th>\n",
       "      <td>0</td>\n",
       "      <td>0</td>\n",
       "      <td>0</td>\n",
       "    </tr>\n",
       "  </tbody>\n",
       "</table>\n",
       "</div>"
      ],
      "text/plain": [
       "                                      h_households_with_children_v3  children  \\\n",
       "viewer_id                                                                       \n",
       "acd6a37b-d8c0-4df5-a638-602984c45c99                              1         1   \n",
       "c651adc4-ce72-4e2a-a712-6fe26ad21897                              0         0   \n",
       "78d7f6a2-cc7b-40a2-ac58-8c1cf3e52645                              0         0   \n",
       "026ae188-1c8b-4709-a01a-16a2fef5bfd5                              0         0   \n",
       "0e06ac8a-1cf9-4033-8c2a-fbaffae39a5f                              0         0   \n",
       "\n",
       "                                      difference  \n",
       "viewer_id                                         \n",
       "acd6a37b-d8c0-4df5-a638-602984c45c99           0  \n",
       "c651adc4-ce72-4e2a-a712-6fe26ad21897           0  \n",
       "78d7f6a2-cc7b-40a2-ac58-8c1cf3e52645           0  \n",
       "026ae188-1c8b-4709-a01a-16a2fef5bfd5           0  \n",
       "0e06ac8a-1cf9-4033-8c2a-fbaffae39a5f           0  "
      ]
     },
     "execution_count": 90,
     "metadata": {},
     "output_type": "execute_result"
    }
   ],
   "source": [
    "df_hc['difference'] = df_hc['children'] - df_hc['h_households_with_children_v3']\n",
    "df_hc.head()"
   ]
  },
  {
   "cell_type": "code",
   "execution_count": 91,
   "metadata": {},
   "outputs": [
    {
     "data": {
      "text/plain": [
       "99870"
      ]
     },
     "execution_count": 91,
     "metadata": {},
     "output_type": "execute_result"
    }
   ],
   "source": [
    "len(df_hc)"
   ]
  },
  {
   "cell_type": "code",
   "execution_count": 92,
   "metadata": {},
   "outputs": [
    {
     "data": {
      "text/plain": [
       "97417"
      ]
     },
     "execution_count": 92,
     "metadata": {},
     "output_type": "execute_result"
    }
   ],
   "source": [
    "df_hc_agree = df_hc.loc[df_hc['difference'] == 0]\n",
    "len(df_hc_agree)"
   ]
  },
  {
   "cell_type": "markdown",
   "metadata": {},
   "source": [
    "97,417 / 99,870 (97.5%) of Users agree between the Viewer table and the Experian data as to whether they have children in their households or not."
   ]
  },
  {
   "cell_type": "code",
   "execution_count": 93,
   "metadata": {},
   "outputs": [
    {
     "data": {
      "text/plain": [
       "0"
      ]
     },
     "execution_count": 93,
     "metadata": {},
     "output_type": "execute_result"
    }
   ],
   "source": [
    "df_hc_v_1 = df_hc.loc[(df_hc['difference'] == 1) & (df_hc['children'] == 1)]\n",
    "len(df_hc_v_1)"
   ]
  },
  {
   "cell_type": "code",
   "execution_count": 94,
   "metadata": {},
   "outputs": [
    {
     "data": {
      "text/plain": [
       "2453"
      ]
     },
     "execution_count": 94,
     "metadata": {},
     "output_type": "execute_result"
    }
   ],
   "source": [
    "df_hc_e_1 = df_hc.loc[(df_hc['difference'] == -1) & (df_hc['children'] == 0)]\n",
    "len(df_hc_e_1)"
   ]
  },
  {
   "cell_type": "markdown",
   "metadata": {},
   "source": [
    "2,453 / 99,870 (2.5%) of Users are listed as not having children in the household in the viewer table but do have children in the Experian data."
   ]
  },
  {
   "cell_type": "code",
   "execution_count": 101,
   "metadata": {},
   "outputs": [],
   "source": [
    "import psycopg2\n",
    "\n",
    "def get_svv_connection():\n",
    "    con = psycopg2.connect(dbname = 'svv', host = 'svv-rs-prod-bi.cjddijbnvfpr.eu-west-1.redshift.amazonaws.com', \\\n",
    "                           port = 5439, user = svv_creds['user'], password = svv_creds['password'])\n",
    "    return con"
   ]
  },
  {
   "cell_type": "code",
   "execution_count": 102,
   "metadata": {},
   "outputs": [],
   "source": [
    "query_data = \"SELECT * FROM sandbox.rw_aa_experian_verification\"\n",
    "\n",
    "df_aa = pd.DataFrame()\n",
    "\n",
    "try:\n",
    "    con = get_svv_connection()\n",
    "    \n",
    "    cur = con.cursor()\n",
    "    cur.execute(query_data)\n",
    "    \n",
    "    colnames = [desc[0] for desc in cur.description]\n",
    "    df_aa = pd.DataFrame(cur.fetchall(), columns = colnames)\n",
    "    \n",
    "except Exception as inst:\n",
    "    print(inst)\n",
    "finally:\n",
    "    cur.close()\n",
    "    con.close()"
   ]
  },
  {
   "cell_type": "code",
   "execution_count": 103,
   "metadata": {},
   "outputs": [
    {
     "data": {
      "text/html": [
       "<div>\n",
       "<style scoped>\n",
       "    .dataframe tbody tr th:only-of-type {\n",
       "        vertical-align: middle;\n",
       "    }\n",
       "\n",
       "    .dataframe tbody tr th {\n",
       "        vertical-align: top;\n",
       "    }\n",
       "\n",
       "    .dataframe thead th {\n",
       "        text-align: right;\n",
       "    }\n",
       "</style>\n",
       "<table border=\"1\" class=\"dataframe\">\n",
       "  <thead>\n",
       "    <tr style=\"text-align: right;\">\n",
       "      <th></th>\n",
       "      <th>viewer_id</th>\n",
       "      <th>abc1</th>\n",
       "      <th>p_personal_income_value_v3</th>\n",
       "      <th>h_income_value_v3</th>\n",
       "    </tr>\n",
       "  </thead>\n",
       "  <tbody>\n",
       "    <tr>\n",
       "      <th>0</th>\n",
       "      <td>74760de0-9f59-41d6-9747-92b0c8ea6bb3</td>\n",
       "      <td>0</td>\n",
       "      <td>29200</td>\n",
       "      <td>29200</td>\n",
       "    </tr>\n",
       "    <tr>\n",
       "      <th>1</th>\n",
       "      <td>0bf036c1-b747-4fb1-a064-a26c8d8248ea</td>\n",
       "      <td>0</td>\n",
       "      <td>12000</td>\n",
       "      <td>33600</td>\n",
       "    </tr>\n",
       "    <tr>\n",
       "      <th>2</th>\n",
       "      <td>0a3deaa7-48e2-4a22-a061-76ac5c7789b9</td>\n",
       "      <td>0</td>\n",
       "      <td>28800</td>\n",
       "      <td>28800</td>\n",
       "    </tr>\n",
       "    <tr>\n",
       "      <th>3</th>\n",
       "      <td>78247b4f-9993-4ff0-bea7-0f6ae7547435</td>\n",
       "      <td>0</td>\n",
       "      <td>7900</td>\n",
       "      <td>7900</td>\n",
       "    </tr>\n",
       "    <tr>\n",
       "      <th>4</th>\n",
       "      <td>a53499b2-4a95-4928-86ac-173492ff1b19</td>\n",
       "      <td>0</td>\n",
       "      <td>13200</td>\n",
       "      <td>13200</td>\n",
       "    </tr>\n",
       "  </tbody>\n",
       "</table>\n",
       "</div>"
      ],
      "text/plain": [
       "                              viewer_id  abc1  p_personal_income_value_v3  \\\n",
       "0  74760de0-9f59-41d6-9747-92b0c8ea6bb3     0                       29200   \n",
       "1  0bf036c1-b747-4fb1-a064-a26c8d8248ea     0                       12000   \n",
       "2  0a3deaa7-48e2-4a22-a061-76ac5c7789b9     0                       28800   \n",
       "3  78247b4f-9993-4ff0-bea7-0f6ae7547435     0                        7900   \n",
       "4  a53499b2-4a95-4928-86ac-173492ff1b19     0                       13200   \n",
       "\n",
       "   h_income_value_v3  \n",
       "0              29200  \n",
       "1              33600  \n",
       "2              28800  \n",
       "3               7900  \n",
       "4              13200  "
      ]
     },
     "execution_count": 103,
     "metadata": {},
     "output_type": "execute_result"
    }
   ],
   "source": [
    "df_aa.head()"
   ]
  },
  {
   "cell_type": "code",
   "execution_count": 104,
   "metadata": {},
   "outputs": [
    {
     "data": {
      "text/html": [
       "<div>\n",
       "<style scoped>\n",
       "    .dataframe tbody tr th:only-of-type {\n",
       "        vertical-align: middle;\n",
       "    }\n",
       "\n",
       "    .dataframe tbody tr th {\n",
       "        vertical-align: top;\n",
       "    }\n",
       "\n",
       "    .dataframe thead th {\n",
       "        text-align: right;\n",
       "    }\n",
       "</style>\n",
       "<table border=\"1\" class=\"dataframe\">\n",
       "  <thead>\n",
       "    <tr style=\"text-align: right;\">\n",
       "      <th></th>\n",
       "      <th>abc1</th>\n",
       "      <th>p_personal_income_value_v3</th>\n",
       "      <th>h_income_value_v3</th>\n",
       "    </tr>\n",
       "    <tr>\n",
       "      <th>viewer_id</th>\n",
       "      <th></th>\n",
       "      <th></th>\n",
       "      <th></th>\n",
       "    </tr>\n",
       "  </thead>\n",
       "  <tbody>\n",
       "    <tr>\n",
       "      <th>74760de0-9f59-41d6-9747-92b0c8ea6bb3</th>\n",
       "      <td>0</td>\n",
       "      <td>29200</td>\n",
       "      <td>29200</td>\n",
       "    </tr>\n",
       "    <tr>\n",
       "      <th>0bf036c1-b747-4fb1-a064-a26c8d8248ea</th>\n",
       "      <td>0</td>\n",
       "      <td>12000</td>\n",
       "      <td>33600</td>\n",
       "    </tr>\n",
       "    <tr>\n",
       "      <th>0a3deaa7-48e2-4a22-a061-76ac5c7789b9</th>\n",
       "      <td>0</td>\n",
       "      <td>28800</td>\n",
       "      <td>28800</td>\n",
       "    </tr>\n",
       "    <tr>\n",
       "      <th>78247b4f-9993-4ff0-bea7-0f6ae7547435</th>\n",
       "      <td>0</td>\n",
       "      <td>7900</td>\n",
       "      <td>7900</td>\n",
       "    </tr>\n",
       "    <tr>\n",
       "      <th>a53499b2-4a95-4928-86ac-173492ff1b19</th>\n",
       "      <td>0</td>\n",
       "      <td>13200</td>\n",
       "      <td>13200</td>\n",
       "    </tr>\n",
       "  </tbody>\n",
       "</table>\n",
       "</div>"
      ],
      "text/plain": [
       "                                      abc1  p_personal_income_value_v3  \\\n",
       "viewer_id                                                                \n",
       "74760de0-9f59-41d6-9747-92b0c8ea6bb3     0                       29200   \n",
       "0bf036c1-b747-4fb1-a064-a26c8d8248ea     0                       12000   \n",
       "0a3deaa7-48e2-4a22-a061-76ac5c7789b9     0                       28800   \n",
       "78247b4f-9993-4ff0-bea7-0f6ae7547435     0                        7900   \n",
       "a53499b2-4a95-4928-86ac-173492ff1b19     0                       13200   \n",
       "\n",
       "                                      h_income_value_v3  \n",
       "viewer_id                                                \n",
       "74760de0-9f59-41d6-9747-92b0c8ea6bb3              29200  \n",
       "0bf036c1-b747-4fb1-a064-a26c8d8248ea              33600  \n",
       "0a3deaa7-48e2-4a22-a061-76ac5c7789b9              28800  \n",
       "78247b4f-9993-4ff0-bea7-0f6ae7547435               7900  \n",
       "a53499b2-4a95-4928-86ac-173492ff1b19              13200  "
      ]
     },
     "execution_count": 104,
     "metadata": {},
     "output_type": "execute_result"
    }
   ],
   "source": [
    "df_aa.set_index('viewer_id', inplace = True)\n",
    "df_aa.head()"
   ]
  },
  {
   "cell_type": "code",
   "execution_count": 108,
   "metadata": {},
   "outputs": [
    {
     "data": {
      "text/html": [
       "<div>\n",
       "<style scoped>\n",
       "    .dataframe tbody tr th:only-of-type {\n",
       "        vertical-align: middle;\n",
       "    }\n",
       "\n",
       "    .dataframe tbody tr th {\n",
       "        vertical-align: top;\n",
       "    }\n",
       "\n",
       "    .dataframe thead th {\n",
       "        text-align: right;\n",
       "    }\n",
       "</style>\n",
       "<table border=\"1\" class=\"dataframe\">\n",
       "  <thead>\n",
       "    <tr style=\"text-align: right;\">\n",
       "      <th></th>\n",
       "      <th>abc1</th>\n",
       "      <th>p_personal_income_value_v3</th>\n",
       "      <th>h_income_value_v3</th>\n",
       "      <th>exp_abc1</th>\n",
       "    </tr>\n",
       "    <tr>\n",
       "      <th>viewer_id</th>\n",
       "      <th></th>\n",
       "      <th></th>\n",
       "      <th></th>\n",
       "      <th></th>\n",
       "    </tr>\n",
       "  </thead>\n",
       "  <tbody>\n",
       "    <tr>\n",
       "      <th>74760de0-9f59-41d6-9747-92b0c8ea6bb3</th>\n",
       "      <td>0</td>\n",
       "      <td>29200</td>\n",
       "      <td>29200</td>\n",
       "      <td>0</td>\n",
       "    </tr>\n",
       "    <tr>\n",
       "      <th>0bf036c1-b747-4fb1-a064-a26c8d8248ea</th>\n",
       "      <td>0</td>\n",
       "      <td>12000</td>\n",
       "      <td>33600</td>\n",
       "      <td>0</td>\n",
       "    </tr>\n",
       "    <tr>\n",
       "      <th>0a3deaa7-48e2-4a22-a061-76ac5c7789b9</th>\n",
       "      <td>0</td>\n",
       "      <td>28800</td>\n",
       "      <td>28800</td>\n",
       "      <td>0</td>\n",
       "    </tr>\n",
       "    <tr>\n",
       "      <th>78247b4f-9993-4ff0-bea7-0f6ae7547435</th>\n",
       "      <td>0</td>\n",
       "      <td>7900</td>\n",
       "      <td>7900</td>\n",
       "      <td>0</td>\n",
       "    </tr>\n",
       "    <tr>\n",
       "      <th>a53499b2-4a95-4928-86ac-173492ff1b19</th>\n",
       "      <td>0</td>\n",
       "      <td>13200</td>\n",
       "      <td>13200</td>\n",
       "      <td>0</td>\n",
       "    </tr>\n",
       "  </tbody>\n",
       "</table>\n",
       "</div>"
      ],
      "text/plain": [
       "                                      abc1  p_personal_income_value_v3  \\\n",
       "viewer_id                                                                \n",
       "74760de0-9f59-41d6-9747-92b0c8ea6bb3     0                       29200   \n",
       "0bf036c1-b747-4fb1-a064-a26c8d8248ea     0                       12000   \n",
       "0a3deaa7-48e2-4a22-a061-76ac5c7789b9     0                       28800   \n",
       "78247b4f-9993-4ff0-bea7-0f6ae7547435     0                        7900   \n",
       "a53499b2-4a95-4928-86ac-173492ff1b19     0                       13200   \n",
       "\n",
       "                                      h_income_value_v3  exp_abc1  \n",
       "viewer_id                                                          \n",
       "74760de0-9f59-41d6-9747-92b0c8ea6bb3              29200         0  \n",
       "0bf036c1-b747-4fb1-a064-a26c8d8248ea              33600         0  \n",
       "0a3deaa7-48e2-4a22-a061-76ac5c7789b9              28800         0  \n",
       "78247b4f-9993-4ff0-bea7-0f6ae7547435               7900         0  \n",
       "a53499b2-4a95-4928-86ac-173492ff1b19              13200         0  "
      ]
     },
     "execution_count": 108,
     "metadata": {},
     "output_type": "execute_result"
    }
   ],
   "source": [
    "df_aa['exp_abc1'] = np.where((df_aa['p_personal_income_value_v3'] >= 32000) ^ (df_aa['h_income_value_v3'] >= 40000), 1, 0)\n",
    "df_aa.head()"
   ]
  },
  {
   "cell_type": "code",
   "execution_count": 111,
   "metadata": {},
   "outputs": [
    {
     "data": {
      "text/html": [
       "<div>\n",
       "<style scoped>\n",
       "    .dataframe tbody tr th:only-of-type {\n",
       "        vertical-align: middle;\n",
       "    }\n",
       "\n",
       "    .dataframe tbody tr th {\n",
       "        vertical-align: top;\n",
       "    }\n",
       "\n",
       "    .dataframe thead th {\n",
       "        text-align: right;\n",
       "    }\n",
       "</style>\n",
       "<table border=\"1\" class=\"dataframe\">\n",
       "  <thead>\n",
       "    <tr style=\"text-align: right;\">\n",
       "      <th></th>\n",
       "      <th>abc1</th>\n",
       "      <th>exp_abc1</th>\n",
       "    </tr>\n",
       "    <tr>\n",
       "      <th>viewer_id</th>\n",
       "      <th></th>\n",
       "      <th></th>\n",
       "    </tr>\n",
       "  </thead>\n",
       "  <tbody>\n",
       "    <tr>\n",
       "      <th>74760de0-9f59-41d6-9747-92b0c8ea6bb3</th>\n",
       "      <td>0</td>\n",
       "      <td>0</td>\n",
       "    </tr>\n",
       "    <tr>\n",
       "      <th>0bf036c1-b747-4fb1-a064-a26c8d8248ea</th>\n",
       "      <td>0</td>\n",
       "      <td>0</td>\n",
       "    </tr>\n",
       "    <tr>\n",
       "      <th>0a3deaa7-48e2-4a22-a061-76ac5c7789b9</th>\n",
       "      <td>0</td>\n",
       "      <td>0</td>\n",
       "    </tr>\n",
       "    <tr>\n",
       "      <th>78247b4f-9993-4ff0-bea7-0f6ae7547435</th>\n",
       "      <td>0</td>\n",
       "      <td>0</td>\n",
       "    </tr>\n",
       "    <tr>\n",
       "      <th>a53499b2-4a95-4928-86ac-173492ff1b19</th>\n",
       "      <td>0</td>\n",
       "      <td>0</td>\n",
       "    </tr>\n",
       "  </tbody>\n",
       "</table>\n",
       "</div>"
      ],
      "text/plain": [
       "                                      abc1  exp_abc1\n",
       "viewer_id                                           \n",
       "74760de0-9f59-41d6-9747-92b0c8ea6bb3     0         0\n",
       "0bf036c1-b747-4fb1-a064-a26c8d8248ea     0         0\n",
       "0a3deaa7-48e2-4a22-a061-76ac5c7789b9     0         0\n",
       "78247b4f-9993-4ff0-bea7-0f6ae7547435     0         0\n",
       "a53499b2-4a95-4928-86ac-173492ff1b19     0         0"
      ]
     },
     "execution_count": 111,
     "metadata": {},
     "output_type": "execute_result"
    }
   ],
   "source": [
    "df_aa_reduced = df_aa.loc[:, ['abc1', 'exp_abc1']]\n",
    "df_aa_reduced.head()"
   ]
  },
  {
   "cell_type": "code",
   "execution_count": 112,
   "metadata": {},
   "outputs": [
    {
     "data": {
      "text/plain": [
       "abc1        int64\n",
       "exp_abc1    int32\n",
       "dtype: object"
      ]
     },
     "execution_count": 112,
     "metadata": {},
     "output_type": "execute_result"
    }
   ],
   "source": [
    "df_aa_reduced.dtypes"
   ]
  },
  {
   "cell_type": "code",
   "execution_count": 113,
   "metadata": {},
   "outputs": [
    {
     "data": {
      "text/html": [
       "<div>\n",
       "<style scoped>\n",
       "    .dataframe tbody tr th:only-of-type {\n",
       "        vertical-align: middle;\n",
       "    }\n",
       "\n",
       "    .dataframe tbody tr th {\n",
       "        vertical-align: top;\n",
       "    }\n",
       "\n",
       "    .dataframe thead th {\n",
       "        text-align: right;\n",
       "    }\n",
       "</style>\n",
       "<table border=\"1\" class=\"dataframe\">\n",
       "  <thead>\n",
       "    <tr style=\"text-align: right;\">\n",
       "      <th></th>\n",
       "      <th>abc1</th>\n",
       "      <th>exp_abc1</th>\n",
       "      <th>difference</th>\n",
       "    </tr>\n",
       "    <tr>\n",
       "      <th>viewer_id</th>\n",
       "      <th></th>\n",
       "      <th></th>\n",
       "      <th></th>\n",
       "    </tr>\n",
       "  </thead>\n",
       "  <tbody>\n",
       "    <tr>\n",
       "      <th>74760de0-9f59-41d6-9747-92b0c8ea6bb3</th>\n",
       "      <td>0</td>\n",
       "      <td>0</td>\n",
       "      <td>0</td>\n",
       "    </tr>\n",
       "    <tr>\n",
       "      <th>0bf036c1-b747-4fb1-a064-a26c8d8248ea</th>\n",
       "      <td>0</td>\n",
       "      <td>0</td>\n",
       "      <td>0</td>\n",
       "    </tr>\n",
       "    <tr>\n",
       "      <th>0a3deaa7-48e2-4a22-a061-76ac5c7789b9</th>\n",
       "      <td>0</td>\n",
       "      <td>0</td>\n",
       "      <td>0</td>\n",
       "    </tr>\n",
       "    <tr>\n",
       "      <th>78247b4f-9993-4ff0-bea7-0f6ae7547435</th>\n",
       "      <td>0</td>\n",
       "      <td>0</td>\n",
       "      <td>0</td>\n",
       "    </tr>\n",
       "    <tr>\n",
       "      <th>a53499b2-4a95-4928-86ac-173492ff1b19</th>\n",
       "      <td>0</td>\n",
       "      <td>0</td>\n",
       "      <td>0</td>\n",
       "    </tr>\n",
       "  </tbody>\n",
       "</table>\n",
       "</div>"
      ],
      "text/plain": [
       "                                      abc1  exp_abc1  difference\n",
       "viewer_id                                                       \n",
       "74760de0-9f59-41d6-9747-92b0c8ea6bb3     0         0           0\n",
       "0bf036c1-b747-4fb1-a064-a26c8d8248ea     0         0           0\n",
       "0a3deaa7-48e2-4a22-a061-76ac5c7789b9     0         0           0\n",
       "78247b4f-9993-4ff0-bea7-0f6ae7547435     0         0           0\n",
       "a53499b2-4a95-4928-86ac-173492ff1b19     0         0           0"
      ]
     },
     "execution_count": 113,
     "metadata": {},
     "output_type": "execute_result"
    }
   ],
   "source": [
    "df_aa_reduced['difference'] = abs(df_aa_reduced['abc1'] - df_aa_reduced['exp_abc1'])\n",
    "df_aa_reduced.head()"
   ]
  },
  {
   "cell_type": "code",
   "execution_count": 114,
   "metadata": {},
   "outputs": [
    {
     "data": {
      "text/plain": [
       "100000"
      ]
     },
     "execution_count": 114,
     "metadata": {},
     "output_type": "execute_result"
    }
   ],
   "source": [
    "len(df_aa_reduced)"
   ]
  },
  {
   "cell_type": "code",
   "execution_count": 115,
   "metadata": {},
   "outputs": [
    {
     "data": {
      "text/plain": [
       "72400"
      ]
     },
     "execution_count": 115,
     "metadata": {},
     "output_type": "execute_result"
    }
   ],
   "source": [
    "df_aa_agree = df_aa_reduced.loc[df_aa_reduced['difference'] == 0]\n",
    "len(df_aa_agree)"
   ]
  },
  {
   "cell_type": "markdown",
   "metadata": {},
   "source": [
    "72,400 / 100,000 (72.4%) of barb and Experian data agree on whether the viewer is ABC1"
   ]
  },
  {
   "cell_type": "code",
   "execution_count": 116,
   "metadata": {},
   "outputs": [
    {
     "data": {
      "text/plain": [
       "26846"
      ]
     },
     "execution_count": 116,
     "metadata": {},
     "output_type": "execute_result"
    }
   ],
   "source": [
    "df_aa_disagree_v_abc1 = df_aa_reduced.loc[(df_aa_reduced['difference'] == 1) & (df_aa_reduced['abc1'] == 1)]\n",
    "len(df_aa_disagree_v_abc1)"
   ]
  },
  {
   "cell_type": "markdown",
   "metadata": {},
   "source": [
    "26,846 / 100,000 (26.8%) of viewers are listed as ABC1 in the Viewer table but are not in the Experian table"
   ]
  },
  {
   "cell_type": "code",
   "execution_count": 117,
   "metadata": {},
   "outputs": [
    {
     "data": {
      "text/plain": [
       "754"
      ]
     },
     "execution_count": 117,
     "metadata": {},
     "output_type": "execute_result"
    }
   ],
   "source": [
    "df_aa_disagree_v_c2de = df_aa_reduced.loc[(df_aa_reduced['difference'] == 1) & (df_aa_reduced['abc1'] == 0)]\n",
    "len(df_aa_disagree_v_c2de)"
   ]
  },
  {
   "cell_type": "markdown",
   "metadata": {},
   "source": [
    "754 / 100,000 (0.75%) of viewers are not listed as ABC1 in the Viewer table but are in the Experian table."
   ]
  },
  {
   "cell_type": "code",
   "execution_count": null,
   "metadata": {},
   "outputs": [],
   "source": []
  }
 ],
 "metadata": {
  "kernelspec": {
   "display_name": "Python 3",
   "language": "python",
   "name": "python3"
  },
  "language_info": {
   "codemirror_mode": {
    "name": "ipython",
    "version": 3
   },
   "file_extension": ".py",
   "mimetype": "text/x-python",
   "name": "python",
   "nbconvert_exporter": "python",
   "pygments_lexer": "ipython3",
   "version": "3.7.0"
  }
 },
 "nbformat": 4,
 "nbformat_minor": 2
}
