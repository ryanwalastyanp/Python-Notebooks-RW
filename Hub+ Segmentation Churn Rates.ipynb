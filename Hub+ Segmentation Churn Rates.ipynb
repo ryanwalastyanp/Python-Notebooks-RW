{
 "cells": [
  {
   "cell_type": "markdown",
   "metadata": {},
   "source": [
    "# Import Pandas Package"
   ]
  },
  {
   "cell_type": "code",
   "execution_count": 16,
   "metadata": {},
   "outputs": [],
   "source": [
    "import pandas as pd"
   ]
  },
  {
   "cell_type": "markdown",
   "metadata": {},
   "source": [
    "# Load the Clusters and Enddates csvs"
   ]
  },
  {
   "cell_type": "code",
   "execution_count": 17,
   "metadata": {},
   "outputs": [],
   "source": [
    "df_clusters = pd.read_csv('cluster_simple_261018.csv')\n",
    "df_enddates = pd.read_csv('Hub+ Segmentation Max End Dates.csv')"
   ]
  },
  {
   "cell_type": "code",
   "execution_count": 18,
   "metadata": {},
   "outputs": [
    {
     "data": {
      "text/html": [
       "<div>\n",
       "<style scoped>\n",
       "    .dataframe tbody tr th:only-of-type {\n",
       "        vertical-align: middle;\n",
       "    }\n",
       "\n",
       "    .dataframe tbody tr th {\n",
       "        vertical-align: top;\n",
       "    }\n",
       "\n",
       "    .dataframe thead th {\n",
       "        text-align: right;\n",
       "    }\n",
       "</style>\n",
       "<table border=\"1\" class=\"dataframe\">\n",
       "  <thead>\n",
       "    <tr style=\"text-align: right;\">\n",
       "      <th></th>\n",
       "      <th>d7db662c-44a4-43cb-bdee-acefbb9817ad</th>\n",
       "      <th>2017-12-24 10:19:38.000000</th>\n",
       "    </tr>\n",
       "  </thead>\n",
       "  <tbody>\n",
       "    <tr>\n",
       "      <th>0</th>\n",
       "      <td>09982208-a283-4e36-8a6c-758c4bbe15d9</td>\n",
       "      <td>2017-10-01 17:15:53.000000</td>\n",
       "    </tr>\n",
       "    <tr>\n",
       "      <th>1</th>\n",
       "      <td>00199fa2-b347-4e48-89ca-9f21e8396a94</td>\n",
       "      <td>2017-08-13 12:44:08.000000</td>\n",
       "    </tr>\n",
       "    <tr>\n",
       "      <th>2</th>\n",
       "      <td>040a420f-ee9b-45ad-9aa8-ffa9c7bc138f</td>\n",
       "      <td>2018-02-06 13:05:16.000000</td>\n",
       "    </tr>\n",
       "    <tr>\n",
       "      <th>3</th>\n",
       "      <td>05bf71e5-7ec6-4aa9-a17b-9a562d16e795</td>\n",
       "      <td>2017-08-15 21:11:34.000000</td>\n",
       "    </tr>\n",
       "    <tr>\n",
       "      <th>4</th>\n",
       "      <td>0680b9e8-ae5f-410a-aa9b-2e74a3dd24b4</td>\n",
       "      <td>2017-06-29 10:57:47.000000</td>\n",
       "    </tr>\n",
       "  </tbody>\n",
       "</table>\n",
       "</div>"
      ],
      "text/plain": [
       "   d7db662c-44a4-43cb-bdee-acefbb9817ad  2017-12-24 10:19:38.000000\n",
       "0  09982208-a283-4e36-8a6c-758c4bbe15d9  2017-10-01 17:15:53.000000\n",
       "1  00199fa2-b347-4e48-89ca-9f21e8396a94  2017-08-13 12:44:08.000000\n",
       "2  040a420f-ee9b-45ad-9aa8-ffa9c7bc138f  2018-02-06 13:05:16.000000\n",
       "3  05bf71e5-7ec6-4aa9-a17b-9a562d16e795  2017-08-15 21:11:34.000000\n",
       "4  0680b9e8-ae5f-410a-aa9b-2e74a3dd24b4  2017-06-29 10:57:47.000000"
      ]
     },
     "execution_count": 18,
     "metadata": {},
     "output_type": "execute_result"
    }
   ],
   "source": [
    "df_enddates.head()"
   ]
  },
  {
   "cell_type": "markdown",
   "metadata": {},
   "source": [
    "# Add the column headers for the Enddates csv"
   ]
  },
  {
   "cell_type": "code",
   "execution_count": 19,
   "metadata": {},
   "outputs": [],
   "source": [
    "df_enddates.columns = ['viewer_id','end_date']"
   ]
  },
  {
   "cell_type": "markdown",
   "metadata": {},
   "source": [
    "# Check the data types of the Enddates csv and convert the end_date field to a datetime field"
   ]
  },
  {
   "cell_type": "code",
   "execution_count": 20,
   "metadata": {},
   "outputs": [
    {
     "data": {
      "text/plain": [
       "viewer_id    object\n",
       "end_date     object\n",
       "dtype: object"
      ]
     },
     "execution_count": 20,
     "metadata": {},
     "output_type": "execute_result"
    }
   ],
   "source": [
    "df_enddates.dtypes"
   ]
  },
  {
   "cell_type": "code",
   "execution_count": 21,
   "metadata": {},
   "outputs": [],
   "source": [
    "df_enddates['end_date'] = pd.to_datetime(df_enddates['end_date'])"
   ]
  },
  {
   "cell_type": "code",
   "execution_count": 22,
   "metadata": {},
   "outputs": [
    {
     "data": {
      "text/plain": [
       "viewer_id            object\n",
       "end_date     datetime64[ns]\n",
       "dtype: object"
      ]
     },
     "execution_count": 22,
     "metadata": {},
     "output_type": "execute_result"
    }
   ],
   "source": [
    "df_enddates.dtypes"
   ]
  },
  {
   "cell_type": "markdown",
   "metadata": {},
   "source": [
    "# Merge the Cluster and Enddates csvs"
   ]
  },
  {
   "cell_type": "code",
   "execution_count": 23,
   "metadata": {},
   "outputs": [],
   "source": [
    "from functools import reduce\n",
    "\n",
    "df_clusters2 = reduce(lambda left,right: pd.merge(left,right,on='viewer_id'), \n",
    "                  [df_enddates, df_clusters])"
   ]
  },
  {
   "cell_type": "markdown",
   "metadata": {},
   "source": [
    "# Create a Subset of the Merged data frame for viewers of a specific cluster"
   ]
  },
  {
   "cell_type": "code",
   "execution_count": 24,
   "metadata": {},
   "outputs": [],
   "source": [
    "data = df_clusters2.loc[df_clusters2['clusters'] == 0]"
   ]
  },
  {
   "cell_type": "markdown",
   "metadata": {},
   "source": [
    "# Calculate the number of people in a cluster whose maximum enddate is in the past, i.e. they have churned"
   ]
  },
  {
   "cell_type": "code",
   "execution_count": 25,
   "metadata": {},
   "outputs": [
    {
     "data": {
      "text/plain": [
       "11723"
      ]
     },
     "execution_count": 25,
     "metadata": {},
     "output_type": "execute_result"
    }
   ],
   "source": [
    "len(data[(data['end_date'] < '2018-10-28')])"
   ]
  },
  {
   "cell_type": "code",
   "execution_count": 26,
   "metadata": {},
   "outputs": [],
   "source": [
    "data_churn = data.loc[data['end_date'] < '2018-10-28']"
   ]
  },
  {
   "cell_type": "code",
   "execution_count": 27,
   "metadata": {},
   "outputs": [
    {
     "data": {
      "text/plain": [
       "11723"
      ]
     },
     "execution_count": 27,
     "metadata": {},
     "output_type": "execute_result"
    }
   ],
   "source": [
    "len(data_churn)"
   ]
  },
  {
   "cell_type": "code",
   "execution_count": 31,
   "metadata": {},
   "outputs": [
    {
     "name": "stderr",
     "output_type": "stream",
     "text": [
      "C:\\Users\\ryanwala\\AppData\\Local\\Continuum\\anaconda3\\lib\\site-packages\\ipykernel_launcher.py:1: SettingWithCopyWarning: \n",
      "A value is trying to be set on a copy of a slice from a DataFrame.\n",
      "Try using .loc[row_indexer,col_indexer] = value instead\n",
      "\n",
      "See the caveats in the documentation: http://pandas.pydata.org/pandas-docs/stable/indexing.html#indexing-view-versus-copy\n",
      "  \"\"\"Entry point for launching an IPython kernel.\n"
     ]
    },
    {
     "data": {
      "text/html": [
       "<div>\n",
       "<style scoped>\n",
       "    .dataframe tbody tr th:only-of-type {\n",
       "        vertical-align: middle;\n",
       "    }\n",
       "\n",
       "    .dataframe tbody tr th {\n",
       "        vertical-align: top;\n",
       "    }\n",
       "\n",
       "    .dataframe thead th {\n",
       "        text-align: right;\n",
       "    }\n",
       "</style>\n",
       "<table border=\"1\" class=\"dataframe\">\n",
       "  <thead>\n",
       "    <tr style=\"text-align: right;\">\n",
       "      <th></th>\n",
       "      <th>viewer_id</th>\n",
       "      <th>end_date</th>\n",
       "      <th>Unnamed: 0</th>\n",
       "      <th>age</th>\n",
       "      <th>F</th>\n",
       "      <th>M</th>\n",
       "      <th>X</th>\n",
       "      <th>abc1</th>\n",
       "      <th>c2de</th>\n",
       "      <th>weekday_consumption</th>\n",
       "      <th>...</th>\n",
       "      <th>You're Only Young Twice</th>\n",
       "      <th>You've Been Framed!</th>\n",
       "      <th>Your Song</th>\n",
       "      <th>Yummy Mummies</th>\n",
       "      <th>Zoe Ball on...</th>\n",
       "      <th>easyJet: Inside The Cockpit</th>\n",
       "      <th>you've been t@gged</th>\n",
       "      <th>£10k Holiday Home</th>\n",
       "      <th>monthly_consumption</th>\n",
       "      <th>clusters</th>\n",
       "    </tr>\n",
       "  </thead>\n",
       "  <tbody>\n",
       "    <tr>\n",
       "      <th>12</th>\n",
       "      <td>3397a6a8-8658-4a9a-882b-1c6545caa36e</td>\n",
       "      <td>2017-12</td>\n",
       "      <td>113170</td>\n",
       "      <td>38.0</td>\n",
       "      <td>1</td>\n",
       "      <td>0</td>\n",
       "      <td>0</td>\n",
       "      <td>1</td>\n",
       "      <td>0</td>\n",
       "      <td>8.013338</td>\n",
       "      <td>...</td>\n",
       "      <td>0.0</td>\n",
       "      <td>0.0</td>\n",
       "      <td>0.0</td>\n",
       "      <td>0.0</td>\n",
       "      <td>0.0</td>\n",
       "      <td>0.0</td>\n",
       "      <td>0.0</td>\n",
       "      <td>0.0</td>\n",
       "      <td>1.116888</td>\n",
       "      <td>0</td>\n",
       "    </tr>\n",
       "    <tr>\n",
       "      <th>47</th>\n",
       "      <td>9629b11a-e393-4927-bb71-3f4309742a04</td>\n",
       "      <td>2017-04</td>\n",
       "      <td>121536</td>\n",
       "      <td>51.0</td>\n",
       "      <td>0</td>\n",
       "      <td>1</td>\n",
       "      <td>0</td>\n",
       "      <td>1</td>\n",
       "      <td>0</td>\n",
       "      <td>2.070570</td>\n",
       "      <td>...</td>\n",
       "      <td>0.0</td>\n",
       "      <td>0.0</td>\n",
       "      <td>0.0</td>\n",
       "      <td>0.0</td>\n",
       "      <td>0.0</td>\n",
       "      <td>0.0</td>\n",
       "      <td>0.0</td>\n",
       "      <td>0.0</td>\n",
       "      <td>0.808891</td>\n",
       "      <td>0</td>\n",
       "    </tr>\n",
       "    <tr>\n",
       "      <th>58</th>\n",
       "      <td>dd52f527-2cac-4f53-b73d-00308821892e</td>\n",
       "      <td>2018-03</td>\n",
       "      <td>245600</td>\n",
       "      <td>62.0</td>\n",
       "      <td>0</td>\n",
       "      <td>1</td>\n",
       "      <td>0</td>\n",
       "      <td>1</td>\n",
       "      <td>0</td>\n",
       "      <td>8.190209</td>\n",
       "      <td>...</td>\n",
       "      <td>0.0</td>\n",
       "      <td>0.0</td>\n",
       "      <td>0.0</td>\n",
       "      <td>0.0</td>\n",
       "      <td>0.0</td>\n",
       "      <td>0.0</td>\n",
       "      <td>0.0</td>\n",
       "      <td>0.0</td>\n",
       "      <td>4.799131</td>\n",
       "      <td>0</td>\n",
       "    </tr>\n",
       "    <tr>\n",
       "      <th>61</th>\n",
       "      <td>efd6b5b2-8566-42c0-b6bd-5076d817d257</td>\n",
       "      <td>2018-04</td>\n",
       "      <td>246463</td>\n",
       "      <td>42.0</td>\n",
       "      <td>0</td>\n",
       "      <td>1</td>\n",
       "      <td>0</td>\n",
       "      <td>1</td>\n",
       "      <td>0</td>\n",
       "      <td>0.000694</td>\n",
       "      <td>...</td>\n",
       "      <td>0.0</td>\n",
       "      <td>0.0</td>\n",
       "      <td>0.0</td>\n",
       "      <td>0.0</td>\n",
       "      <td>0.0</td>\n",
       "      <td>0.0</td>\n",
       "      <td>0.0</td>\n",
       "      <td>0.0</td>\n",
       "      <td>0.000174</td>\n",
       "      <td>0</td>\n",
       "    </tr>\n",
       "    <tr>\n",
       "      <th>62</th>\n",
       "      <td>f5e286ff-cf1a-4afe-b18f-2f69467a6031</td>\n",
       "      <td>2017-10</td>\n",
       "      <td>246742</td>\n",
       "      <td>58.0</td>\n",
       "      <td>0</td>\n",
       "      <td>1</td>\n",
       "      <td>0</td>\n",
       "      <td>1</td>\n",
       "      <td>0</td>\n",
       "      <td>0.000000</td>\n",
       "      <td>...</td>\n",
       "      <td>0.0</td>\n",
       "      <td>0.0</td>\n",
       "      <td>0.0</td>\n",
       "      <td>0.0</td>\n",
       "      <td>0.0</td>\n",
       "      <td>0.0</td>\n",
       "      <td>0.0</td>\n",
       "      <td>0.0</td>\n",
       "      <td>0.005958</td>\n",
       "      <td>0</td>\n",
       "    </tr>\n",
       "  </tbody>\n",
       "</table>\n",
       "<p>5 rows × 957 columns</p>\n",
       "</div>"
      ],
      "text/plain": [
       "                               viewer_id end_date  Unnamed: 0   age  F  M  X  \\\n",
       "12  3397a6a8-8658-4a9a-882b-1c6545caa36e  2017-12      113170  38.0  1  0  0   \n",
       "47  9629b11a-e393-4927-bb71-3f4309742a04  2017-04      121536  51.0  0  1  0   \n",
       "58  dd52f527-2cac-4f53-b73d-00308821892e  2018-03      245600  62.0  0  1  0   \n",
       "61  efd6b5b2-8566-42c0-b6bd-5076d817d257  2018-04      246463  42.0  0  1  0   \n",
       "62  f5e286ff-cf1a-4afe-b18f-2f69467a6031  2017-10      246742  58.0  0  1  0   \n",
       "\n",
       "    abc1  c2de  weekday_consumption    ...     You're Only Young Twice  \\\n",
       "12     1     0             8.013338    ...                         0.0   \n",
       "47     1     0             2.070570    ...                         0.0   \n",
       "58     1     0             8.190209    ...                         0.0   \n",
       "61     1     0             0.000694    ...                         0.0   \n",
       "62     1     0             0.000000    ...                         0.0   \n",
       "\n",
       "    You've Been Framed!  Your Song  Yummy Mummies  Zoe Ball on...  \\\n",
       "12                  0.0        0.0            0.0             0.0   \n",
       "47                  0.0        0.0            0.0             0.0   \n",
       "58                  0.0        0.0            0.0             0.0   \n",
       "61                  0.0        0.0            0.0             0.0   \n",
       "62                  0.0        0.0            0.0             0.0   \n",
       "\n",
       "    easyJet: Inside The Cockpit  you've been t@gged  £10k Holiday Home  \\\n",
       "12                          0.0                 0.0                0.0   \n",
       "47                          0.0                 0.0                0.0   \n",
       "58                          0.0                 0.0                0.0   \n",
       "61                          0.0                 0.0                0.0   \n",
       "62                          0.0                 0.0                0.0   \n",
       "\n",
       "    monthly_consumption  clusters  \n",
       "12             1.116888         0  \n",
       "47             0.808891         0  \n",
       "58             4.799131         0  \n",
       "61             0.000174         0  \n",
       "62             0.005958         0  \n",
       "\n",
       "[5 rows x 957 columns]"
      ]
     },
     "execution_count": 31,
     "metadata": {},
     "output_type": "execute_result"
    }
   ],
   "source": [
    "data_churn['end_date'] = data_churn.end_date.dt.to_period('M')\n",
    "data_churn.head()"
   ]
  },
  {
   "cell_type": "code",
   "execution_count": 32,
   "metadata": {},
   "outputs": [
    {
     "data": {
      "text/plain": [
       "end_date\n",
       "2017-02      91\n",
       "2017-03      95\n",
       "2017-04     230\n",
       "2017-05     267\n",
       "2017-06     208\n",
       "2017-07     167\n",
       "2017-08     207\n",
       "2017-09     179\n",
       "2017-10     377\n",
       "2017-11     537\n",
       "2017-12     327\n",
       "2018-01     346\n",
       "2018-02     452\n",
       "2018-03     530\n",
       "2018-04     524\n",
       "2018-05     635\n",
       "2018-06     654\n",
       "2018-07     679\n",
       "2018-08    1530\n",
       "2018-09    2080\n",
       "2018-10    1608\n",
       "Freq: M, dtype: int64"
      ]
     },
     "execution_count": 32,
     "metadata": {},
     "output_type": "execute_result"
    }
   ],
   "source": [
    "data_churn.groupby('end_date').size()"
   ]
  },
  {
   "cell_type": "code",
   "execution_count": 34,
   "metadata": {},
   "outputs": [],
   "source": [
    "data1 = df_clusters2.loc[df_clusters2['clusters'] == 1]"
   ]
  },
  {
   "cell_type": "code",
   "execution_count": 35,
   "metadata": {},
   "outputs": [
    {
     "data": {
      "text/plain": [
       "13054"
      ]
     },
     "execution_count": 35,
     "metadata": {},
     "output_type": "execute_result"
    }
   ],
   "source": [
    "len(data1[(data1['end_date'] < '2018-10-28')])"
   ]
  },
  {
   "cell_type": "code",
   "execution_count": 36,
   "metadata": {},
   "outputs": [],
   "source": [
    "data_churn1 = data1.loc[data1['end_date'] < '2018-10-28']"
   ]
  },
  {
   "cell_type": "code",
   "execution_count": 38,
   "metadata": {},
   "outputs": [
    {
     "data": {
      "text/plain": [
       "13054"
      ]
     },
     "execution_count": 38,
     "metadata": {},
     "output_type": "execute_result"
    }
   ],
   "source": [
    "len(data_churn1)"
   ]
  },
  {
   "cell_type": "code",
   "execution_count": 39,
   "metadata": {},
   "outputs": [
    {
     "name": "stderr",
     "output_type": "stream",
     "text": [
      "C:\\Users\\ryanwala\\AppData\\Local\\Continuum\\anaconda3\\lib\\site-packages\\ipykernel_launcher.py:1: SettingWithCopyWarning: \n",
      "A value is trying to be set on a copy of a slice from a DataFrame.\n",
      "Try using .loc[row_indexer,col_indexer] = value instead\n",
      "\n",
      "See the caveats in the documentation: http://pandas.pydata.org/pandas-docs/stable/indexing.html#indexing-view-versus-copy\n",
      "  \"\"\"Entry point for launching an IPython kernel.\n"
     ]
    }
   ],
   "source": [
    "data_churn1['end_date'] = data_churn1.end_date.dt.to_period('M')"
   ]
  },
  {
   "cell_type": "code",
   "execution_count": 41,
   "metadata": {},
   "outputs": [
    {
     "data": {
      "text/plain": [
       "end_date\n",
       "2017-02      20\n",
       "2017-03      48\n",
       "2017-04     162\n",
       "2017-05     209\n",
       "2017-06     180\n",
       "2017-07     135\n",
       "2017-08     282\n",
       "2017-09     282\n",
       "2017-10     391\n",
       "2017-11     483\n",
       "2017-12     403\n",
       "2018-01     391\n",
       "2018-02     410\n",
       "2018-03     689\n",
       "2018-04     773\n",
       "2018-05     835\n",
       "2018-06     915\n",
       "2018-07    1033\n",
       "2018-08    1357\n",
       "2018-09    1793\n",
       "2018-10    2263\n",
       "Freq: M, dtype: int64"
      ]
     },
     "execution_count": 41,
     "metadata": {},
     "output_type": "execute_result"
    }
   ],
   "source": [
    "data_churn1.groupby('end_date').size()"
   ]
  },
  {
   "cell_type": "code",
   "execution_count": 42,
   "metadata": {},
   "outputs": [],
   "source": [
    "data2 = df_clusters2.loc[df_clusters2['clusters'] == 2]"
   ]
  },
  {
   "cell_type": "code",
   "execution_count": 43,
   "metadata": {},
   "outputs": [
    {
     "data": {
      "text/plain": [
       "126941"
      ]
     },
     "execution_count": 43,
     "metadata": {},
     "output_type": "execute_result"
    }
   ],
   "source": [
    "len(data2[(data2['end_date'] < '2018-10-28')])"
   ]
  },
  {
   "cell_type": "code",
   "execution_count": 44,
   "metadata": {},
   "outputs": [],
   "source": [
    "data_churn2 = data2.loc[data2['end_date'] < '2018-10-28']"
   ]
  },
  {
   "cell_type": "code",
   "execution_count": 45,
   "metadata": {},
   "outputs": [
    {
     "data": {
      "text/plain": [
       "126941"
      ]
     },
     "execution_count": 45,
     "metadata": {},
     "output_type": "execute_result"
    }
   ],
   "source": [
    "len(data_churn2)"
   ]
  },
  {
   "cell_type": "code",
   "execution_count": 46,
   "metadata": {},
   "outputs": [
    {
     "name": "stderr",
     "output_type": "stream",
     "text": [
      "C:\\Users\\ryanwala\\AppData\\Local\\Continuum\\anaconda3\\lib\\site-packages\\ipykernel_launcher.py:1: SettingWithCopyWarning: \n",
      "A value is trying to be set on a copy of a slice from a DataFrame.\n",
      "Try using .loc[row_indexer,col_indexer] = value instead\n",
      "\n",
      "See the caveats in the documentation: http://pandas.pydata.org/pandas-docs/stable/indexing.html#indexing-view-versus-copy\n",
      "  \"\"\"Entry point for launching an IPython kernel.\n"
     ]
    }
   ],
   "source": [
    "data_churn2['end_date'] = data_churn2.end_date.dt.to_period('M')"
   ]
  },
  {
   "cell_type": "code",
   "execution_count": 47,
   "metadata": {},
   "outputs": [
    {
     "data": {
      "text/plain": [
       "end_date\n",
       "2017-02       13\n",
       "2017-03        2\n",
       "2017-04       15\n",
       "2017-05       32\n",
       "2017-06       56\n",
       "2017-07     1648\n",
       "2017-08     3549\n",
       "2017-09     1603\n",
       "2017-10      974\n",
       "2017-11      675\n",
       "2017-12      639\n",
       "2018-01      496\n",
       "2018-02      390\n",
       "2018-03      359\n",
       "2018-04      360\n",
       "2018-05      311\n",
       "2018-06      939\n",
       "2018-07    18780\n",
       "2018-08    57237\n",
       "2018-09    26062\n",
       "2018-10    12801\n",
       "Freq: M, dtype: int64"
      ]
     },
     "execution_count": 47,
     "metadata": {},
     "output_type": "execute_result"
    }
   ],
   "source": [
    "data_churn2.groupby('end_date').size()"
   ]
  },
  {
   "cell_type": "code",
   "execution_count": 48,
   "metadata": {},
   "outputs": [],
   "source": [
    "data3 = df_clusters2.loc[df_clusters2['clusters'] == 3]"
   ]
  },
  {
   "cell_type": "code",
   "execution_count": 49,
   "metadata": {},
   "outputs": [
    {
     "data": {
      "text/plain": [
       "14881"
      ]
     },
     "execution_count": 49,
     "metadata": {},
     "output_type": "execute_result"
    }
   ],
   "source": [
    "len(data3[(data3['end_date'] < '2018-10-28')])"
   ]
  },
  {
   "cell_type": "code",
   "execution_count": 50,
   "metadata": {},
   "outputs": [],
   "source": [
    "data_churn3 = data3.loc[data3['end_date'] < '2018-10-28']"
   ]
  },
  {
   "cell_type": "code",
   "execution_count": 51,
   "metadata": {},
   "outputs": [
    {
     "name": "stderr",
     "output_type": "stream",
     "text": [
      "C:\\Users\\ryanwala\\AppData\\Local\\Continuum\\anaconda3\\lib\\site-packages\\ipykernel_launcher.py:1: SettingWithCopyWarning: \n",
      "A value is trying to be set on a copy of a slice from a DataFrame.\n",
      "Try using .loc[row_indexer,col_indexer] = value instead\n",
      "\n",
      "See the caveats in the documentation: http://pandas.pydata.org/pandas-docs/stable/indexing.html#indexing-view-versus-copy\n",
      "  \"\"\"Entry point for launching an IPython kernel.\n"
     ]
    }
   ],
   "source": [
    "data_churn3['end_date'] = data_churn3.end_date.dt.to_period('M')"
   ]
  },
  {
   "cell_type": "code",
   "execution_count": 52,
   "metadata": {},
   "outputs": [
    {
     "data": {
      "text/plain": [
       "end_date\n",
       "2017-02      50\n",
       "2017-03      76\n",
       "2017-04      88\n",
       "2017-05     115\n",
       "2017-06     142\n",
       "2017-07     192\n",
       "2017-08     226\n",
       "2017-09     228\n",
       "2017-10     282\n",
       "2017-11     341\n",
       "2017-12     333\n",
       "2018-01     382\n",
       "2018-02     444\n",
       "2018-03     496\n",
       "2018-04     521\n",
       "2018-05     649\n",
       "2018-06     996\n",
       "2018-07    1872\n",
       "2018-08    2487\n",
       "2018-09    2537\n",
       "2018-10    2424\n",
       "Freq: M, dtype: int64"
      ]
     },
     "execution_count": 52,
     "metadata": {},
     "output_type": "execute_result"
    }
   ],
   "source": [
    "data_churn3.groupby('end_date').size()"
   ]
  },
  {
   "cell_type": "code",
   "execution_count": 53,
   "metadata": {},
   "outputs": [],
   "source": [
    "data4 = df_clusters2.loc[df_clusters2['clusters'] == 4]"
   ]
  },
  {
   "cell_type": "code",
   "execution_count": 54,
   "metadata": {},
   "outputs": [
    {
     "data": {
      "text/plain": [
       "19564"
      ]
     },
     "execution_count": 54,
     "metadata": {},
     "output_type": "execute_result"
    }
   ],
   "source": [
    "len(data4[(data4['end_date'] < '2018-10-28')])"
   ]
  },
  {
   "cell_type": "code",
   "execution_count": 55,
   "metadata": {},
   "outputs": [],
   "source": [
    "data_churn4 = data4.loc[data4['end_date'] < '2018-10-28']"
   ]
  },
  {
   "cell_type": "code",
   "execution_count": 56,
   "metadata": {},
   "outputs": [
    {
     "name": "stderr",
     "output_type": "stream",
     "text": [
      "C:\\Users\\ryanwala\\AppData\\Local\\Continuum\\anaconda3\\lib\\site-packages\\ipykernel_launcher.py:1: SettingWithCopyWarning: \n",
      "A value is trying to be set on a copy of a slice from a DataFrame.\n",
      "Try using .loc[row_indexer,col_indexer] = value instead\n",
      "\n",
      "See the caveats in the documentation: http://pandas.pydata.org/pandas-docs/stable/indexing.html#indexing-view-versus-copy\n",
      "  \"\"\"Entry point for launching an IPython kernel.\n"
     ]
    }
   ],
   "source": [
    "data_churn4['end_date'] = data_churn4.end_date.dt.to_period('M')"
   ]
  },
  {
   "cell_type": "code",
   "execution_count": 57,
   "metadata": {},
   "outputs": [
    {
     "data": {
      "text/plain": [
       "end_date\n",
       "2017-02      53\n",
       "2017-03     116\n",
       "2017-04     167\n",
       "2017-05     241\n",
       "2017-06     237\n",
       "2017-07     237\n",
       "2017-08     392\n",
       "2017-09     336\n",
       "2017-10     418\n",
       "2017-11     534\n",
       "2017-12     975\n",
       "2018-01     980\n",
       "2018-02     755\n",
       "2018-03     816\n",
       "2018-04     838\n",
       "2018-05     963\n",
       "2018-06    1257\n",
       "2018-07    2137\n",
       "2018-08    3243\n",
       "2018-09    2508\n",
       "2018-10    2361\n",
       "Freq: M, dtype: int64"
      ]
     },
     "execution_count": 57,
     "metadata": {},
     "output_type": "execute_result"
    }
   ],
   "source": [
    "data_churn4.groupby('end_date').size()"
   ]
  },
  {
   "cell_type": "code",
   "execution_count": null,
   "metadata": {},
   "outputs": [],
   "source": []
  }
 ],
 "metadata": {
  "kernelspec": {
   "display_name": "Python 3",
   "language": "python",
   "name": "python3"
  },
  "language_info": {
   "codemirror_mode": {
    "name": "ipython",
    "version": 3
   },
   "file_extension": ".py",
   "mimetype": "text/x-python",
   "name": "python",
   "nbconvert_exporter": "python",
   "pygments_lexer": "ipython3",
   "version": "3.7.0"
  }
 },
 "nbformat": 4,
 "nbformat_minor": 2
}
