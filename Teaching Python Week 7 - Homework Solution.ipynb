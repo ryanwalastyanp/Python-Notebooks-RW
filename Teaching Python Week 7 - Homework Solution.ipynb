{
 "cells": [
  {
   "cell_type": "code",
   "execution_count": 3,
   "metadata": {},
   "outputs": [],
   "source": [
    "import svv_connector as svv   # SEE BELOW FOR ITS DEFINITION"
   ]
  },
  {
   "cell_type": "markdown",
   "metadata": {},
   "source": [
    "1. Can you think of how you would modify the class you created in HW 6 to use context management?"
   ]
  },
  {
   "cell_type": "code",
   "execution_count": 1,
   "metadata": {},
   "outputs": [],
   "source": [
    "class SVVConnection(object):\n",
    "\n",
    "    \n",
    "    def __enter__(self):\n",
    "        self.Connection = svv.get_svv_connection()\n",
    "        self.my_cursor = self.Connection.cursor()\n",
    "        return self\n",
    "    \n",
    "    def __exit__(self, exc_type, exc_value, tb):\n",
    "        self.my_cursor.close()\n",
    "        self.Connection.close()\n",
    "    \n",
    "            \n",
    "    def executeQuery(self, query):\n",
    "        ''' Executes a query on SVV using an opened cursor my_cursor\n",
    "        '''\n",
    "        \n",
    "        if self.my_cursor is None:\n",
    "            print (\"Cursor not open. Call getCursor first.\")\n",
    "            return\n",
    "        \n",
    "        try:\n",
    "            self.my_cursor.execute(query)\n",
    "        except Exception as e: \n",
    "            print(e)\n",
    "            \n",
    "    def getBatchQueryResults(self,  batch_size=1):\n",
    "        ''' Returns a generator from which query results can be sources in batch_size\n",
    "        '''\n",
    "        res = 0\n",
    "        \n",
    "        try:\n",
    "            while res != []:\n",
    "                res = self.my_cursor.fetchmany(batch_size)\n",
    "                yield res\n",
    "                \n",
    "        except Exception as e: \n",
    "            print(e)"
   ]
  },
  {
   "cell_type": "code",
   "execution_count": 4,
   "metadata": {},
   "outputs": [
    {
     "name": "stdout",
     "output_type": "stream",
     "text": [
      "[('0b69df82-b190-4450-9f51-83f75cf1b876', 'M', 63, 'Mr', 'aa.ad.ma.me', 'PO10 7', 'EMSWORTH', 87, 'Active', 'PO10 7NH', '72', '3', '4', '00', '11', '12', '3', '0', '4', '12', '0', '0', '13', '14', '4', '02', '04', '1', '0', '11', '3', '10', '4', '0', '0', '3', 21500, '2', 21500, 'ITV.com', None, Decimal('6113.7560000000'), 'Long Lost Family: What Happened Next', 'FACTUAL', '{\"id\":\"REAL LIVES\",\"ranking\":\"1\"}', 0, 0, 0, 0, 0, 'evening', None, Decimal('0.0000'), 'VERY LOW', 'Suburbanites', 'Semi-detached suburbia', 'White suburban communities'), ('15a2ae04-bb7f-47de-86d7-5bac25cd521a', 'F', 65, 'Ms', 'aa.ad.ha.hc.hw.wa.wo', 'GL2 0', 'GLOUCESTER', 6, 'Active', 'GL2 0SQ', '53', '3', '3', '00', '11', '06', '3', '1', '4', '06', '0', '0', '10', '09', '4', '08', '01', '0', '1', '11', '4', '09', '2', '1', '0', '5', 40600, '4', 40600, 'Android', Decimal('16315.2900000000'), Decimal('31599.9320000000'), '100 Years Younger in 21 Days', 'DRAMA', '{\"id\":\"PERIOD AND HISTORICAL\",\"ranking\":\"1\"}', 0, 0, 0, 0, 0, 'day', None, Decimal('0.3405'), 'MODERATE', 'Urbanites', 'Urban professionals and families', 'Multi-ethnic professionals with families'), ('22790e7a-1088-4fe7-96d6-5cc2da8f0040', 'M', 71, 'Mr', 'ad.axa.me', 'S41 8', 'CHESTERFIELD', 40, 'Active', 'S41 8BP', '23', '1', '1', '00', '05', '09', '1', '0', '4', '09', '0', '0', '00', '01', '5', '08', '00', '1', '0', '11', '1', '12', '5', '0', '1', '1', 10900, '1', 17300, 'ITV.com,iOS', None, Decimal('1051.3680000000'), 'WOS Wrestling', 'ENT', '{\"id\":\"WRESTLING\",\"ranking\":\"1\"}', 0, 0, 0, 0, 0, 'evening', None, Decimal('0.0000'), 'VERY LOW', 'Constrained city dwellers', 'White communities', 'Outer city hardship'), ('25104fc8-e2a7-47a2-82af-0c976f9fee98', 'M', 64, 'Mr', 'ad.axa.me', 'L28 6', 'LIVERPOOL', 26, 'Active', 'L28 6YB', '06', '0', '0', '05', '11', '10', '2', '0', '4', '08', '0', '0', '00', '00', '4', '08', '02', '1', '0', '11', '3', '09', '4', '0', '1', '1', 13100, '2', 22200, 'Android', Decimal('4987.2220000000'), Decimal('76182.8870000000'), 'Benidorm', 'COMEDY', '{\"id\":\"SITUATION COMEDY\",\"ranking\":\"1\"}', 0, 0, 0, 0, 8, 'evening', None, Decimal('0.0614'), 'VERY LOW', 'Hard-pressed living', 'Challenged terraced workers', 'Hard pressed rented terraces'), ('2e547dae-ef62-431c-b49f-5762a740a0ff', 'M', 60, 'Mr', 'ad.axa.hw.me', 'HU7 4', 'HULL', 136, 'Inactive', 'HU7 4PQ', '07', '0', '1', '02', '11', '09', '2', '0', '4', '10', '0', '1', '00', '00', '4', '08', '00', '1', '0', '06', '2', '09', '4', '0', '1', '0', 8000, '0', 12200, 'iOS', Decimal('1323.0840000000'), Decimal('2643.3550000000'), 'Plebs', 'COMEDY', '{\"id\":\"SITUATION COMEDY\",\"ranking\":\"1\"}', 0, 0, 0, 0, 0, 'evening', None, Decimal('0.3335'), 'MODERATE', 'Hard-pressed living', 'Challenged terraced workers', 'Hard pressed rented terraces'), ('3947c5e6-642d-4f01-bb73-75bc341138f4', 'F', 70, 'Mrs', 'ad.axa.hw.wo', 'HX1 4', 'HALIFAX', 19, 'Active', 'HX1 4PQ', '01', '0', '0', '05', '03', '13', '1', '0', '4', '11', '0', '0', '01', '01', '5', '05', '05', '1', '0', '08', '1', '13', '5', '1', '0', '0', 2300, '0', 2300, 'Android', Decimal('4474.8310000000'), Decimal('30575.7200000000'), 'Family Guy', 'DRAMA', '{\"id\":\"LONG-RUNNING DRAMA\",\"ranking\":\"1\"}', 0, 0, 0, 0, 13, 'day', None, Decimal('0.1276'), 'LOW', 'Constrained city dwellers', 'Ageing city dwellers', 'Retired independent city dwellers'), ('3e94dd7f-de73-4939-ba3f-ce6904f7654d', 'F', 77, 'Mrs', 'ad.axa.wo', 'BD3 7', 'BRADFORD', 1, 'Active', 'BD3 7BB', '23', '2', '2', '01', '11', '09', '3', '0', '4', '10', '0', '1', '05', '06', '5', '05', '05', '1', '0', '11', '3', '13', '5', '1', '0', '0', 5800, '2', 22700, 'YouView', Decimal('6597.0280000000'), Decimal('84603.0380000000'), 'Coronation Street', 'DRAMA', '{\"id\":\"LONG-RUNNING DRAMA\",\"ranking\":\"1\"}', 0, 0, 0, 0, 0, 'evening', None, Decimal('0.0723'), 'VERY LOW', 'Multicultural metropolitans', 'Asian traits', 'Achieving minorities'), ('53ea7c8a-ae65-49a9-925b-89df74d2a98a', 'F', 39, 'Miss', 'aa.ad.hc.wa.wo', 'CR7 7', 'CROYDON', 36, 'Active', 'CR7 7AD', '69', '4', '4', '05', '11', '10', '2', '0', '1', '08', '0', '0', '15', '10', '3', '10', '08', '0', '1', '11', '3', '11', '2', '1', '0', '4', 35000, '6', 62700, 'iOS', Decimal('8344.2260000000'), Decimal('13945.5820000000'), 'Through the Keyhole', 'ENT', '{\"id\":\"QUIZ AND GAME SHOWS\",\"ranking\":\"1\"}', 1, 0, 0, 0, 0, 'day', 'evening', Decimal('0.3743'), 'MODERATE', 'Ethnicity central', 'Ethnic family life', 'Young families and students'), ('5babe3aa-b000-451a-8c2d-d53a1f7191a2', 'F', 70, 'Mrs', 'ad.axa.hw.wo', 'HD9 1', 'HOLMFIRTH', 1, 'Active', 'HD9 1RY', '75', '3', '4', '01', '11', '09', '4', '1', '3', '10', '0', '0', '09', '09', '5', '08', '00', '1', '0', '11', '3', '12', '5', '1', '1', '3', 24830, '1', 16900, 'Amazon Fire TV', Decimal('6816.0000000000'), Decimal('68600.6370000000'), 'This Morning', 'ENT', '{\"id\":\"CHAT AND MAGAZINE\",\"ranking\":\"1\"}', 3, 0, 0, 0, 0, 'evening', 'evening commute', Decimal('0.0903'), 'VERY LOW', 'Hard-pressed living', 'Industrious communities', 'Industrious transitions'), ('5c30caae-a706-419e-a6ee-c6a4886f7a09', 'F', 76, 'Mrs', 'aa.ad.ha.hw.wa.wo', 'SY11 2', 'OSWESTRY', 5, 'Active', 'SY11 2YL', '32', '2', '2', '05', '11', '10', '2', '0', '4', '08', '0', '0', '05', '09', '5', '05', '10', '1', '0', '11', '2', '12', '5', '1', '0', '0', 7200, '0', 13200, 'ITV.com,iOS', Decimal('35536.8390000000'), Decimal('97821.7160000000'), 'Love Island', 'ENT', '{\"id\":\"DATING SHOWS\",\"ranking\":\"1\"}', 0, 0, 0, 0, 2, 'night', None, Decimal('0.2664'), 'LOW', 'Urbanites', 'Ageing urban living', 'Self-sufficient retirement')]\n",
      "[]\n"
     ]
    },
    {
     "ename": "StopIteration",
     "evalue": "",
     "output_type": "error",
     "traceback": [
      "\u001b[1;31m---------------------------------------------------------------------------\u001b[0m",
      "\u001b[1;31mStopIteration\u001b[0m                             Traceback (most recent call last)",
      "\u001b[1;32m<ipython-input-4-4b4bb1fd7538>\u001b[0m in \u001b[0;36m<module>\u001b[1;34m()\u001b[0m\n\u001b[0;32m      8\u001b[0m     \u001b[0mprint\u001b[0m \u001b[1;33m(\u001b[0m\u001b[0mnext\u001b[0m\u001b[1;33m(\u001b[0m\u001b[0mmy_results\u001b[0m\u001b[1;33m)\u001b[0m\u001b[1;33m)\u001b[0m\u001b[1;33m\u001b[0m\u001b[0m\n\u001b[0;32m      9\u001b[0m     \u001b[0mprint\u001b[0m \u001b[1;33m(\u001b[0m\u001b[0mnext\u001b[0m\u001b[1;33m(\u001b[0m\u001b[0mmy_results\u001b[0m\u001b[1;33m)\u001b[0m\u001b[1;33m)\u001b[0m\u001b[1;33m\u001b[0m\u001b[0m\n\u001b[1;32m---> 10\u001b[1;33m     \u001b[0mprint\u001b[0m \u001b[1;33m(\u001b[0m\u001b[0mnext\u001b[0m\u001b[1;33m(\u001b[0m\u001b[0mmy_results\u001b[0m\u001b[1;33m)\u001b[0m\u001b[1;33m)\u001b[0m\u001b[1;33m\u001b[0m\u001b[0m\n\u001b[0m",
      "\u001b[1;31mStopIteration\u001b[0m: "
     ]
    }
   ],
   "source": [
    "# Outside of the WITH, SVVConnection DOES exist as a class, but the connection to the SVV is CLOSED and so is the cursor\n",
    "\n",
    "with SVVConnection() as my_connection:    #<-The conect management is done here with WITH\n",
    "    query = \"Select Top 10 * from sandbox.pwc_summary_hc_2018_es;\"\n",
    "    \n",
    "    my_connection.executeQuery(query)\n",
    "    my_results = my_connection.getBatchQueryResults(10)\n",
    "    print (next(my_results))\n",
    "    print (next(my_results))\n",
    "    print (next(my_results)) #<-exausted here"
   ]
  },
  {
   "cell_type": "code",
   "execution_count": 5,
   "metadata": {},
   "outputs": [
    {
     "name": "stdout",
     "output_type": "stream",
     "text": [
      "cursor already closed\n"
     ]
    }
   ],
   "source": [
    "# This shows that the cursor is closed\n",
    "\n",
    "query = \"Select Top 10 * from sandbox.pwc_summary_hc_2018_es;\"\n",
    "my_connection.executeQuery(query)"
   ]
  },
  {
   "cell_type": "markdown",
   "metadata": {},
   "source": [
    "### _/_/_/_/_/_/_/_/_/_/_/_/_/_/_/_/_/_/_/_/_/_/_/"
   ]
  },
  {
   "cell_type": "markdown",
   "metadata": {},
   "source": [
    "import psycopg2\n",
    "\n",
    "\n",
    "def get_svv_connection():\n",
    "\n",
    "    con=psycopg2.connect(dbname= 'svv', host='svv-rs-prod-bi.cjddijbnvfpr.eu-west-1.redshift.amazonaws.com', \\\n",
    "                         port= 5439, user= 'my_user_name', password= 'my_password')\n",
    "    \n",
    "    return con"
   ]
  },
  {
   "cell_type": "code",
   "execution_count": null,
   "metadata": {},
   "outputs": [],
   "source": []
  }
 ],
 "metadata": {
  "kernelspec": {
   "display_name": "Python 3",
   "language": "python",
   "name": "python3"
  },
  "language_info": {
   "codemirror_mode": {
    "name": "ipython",
    "version": 3
   },
   "file_extension": ".py",
   "mimetype": "text/x-python",
   "name": "python",
   "nbconvert_exporter": "python",
   "pygments_lexer": "ipython3",
   "version": "3.6.3"
  }
 },
 "nbformat": 4,
 "nbformat_minor": 2
}
